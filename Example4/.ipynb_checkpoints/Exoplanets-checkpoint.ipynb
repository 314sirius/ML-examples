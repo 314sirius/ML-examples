{
 "cells": [
  {
   "cell_type": "code",
   "execution_count": 596,
   "id": "2ee78052-4049-4fdf-89b3-5618766692a5",
   "metadata": {},
   "outputs": [],
   "source": [
    "def warn(*args, **kwargs):\n",
    "    pass\n",
    "import warnings\n",
    "warnings.warn = warn\n",
    "warnings.filterwarnings('ignore')\n",
    "\n",
    "import numpy as np\n",
    "import pandas as pd\n",
    "import matplotlib.pyplot as plt\n",
    "import seaborn as sns\n",
    "\n",
    "from sklearn.preprocessing import OneHotEncoder, LabelEncoder, MinMaxScaler\n",
    "from sklearn.model_selection import train_test_split, learning_curve\n",
    "from sklearn.linear_model import LogisticRegression\n",
    "from sklearn import metrics\n",
    "from sklearn.metrics import classification_report, accuracy_score, confusion_matrix, ConfusionMatrixDisplay, precision_recall_fscore_support, precision_score, recall_score, f1_score\n",
    "\n",
    "%matplotlib inline"
   ]
  },
  {
   "cell_type": "markdown",
   "id": "fcb51643-a5ec-4cc3-a874-eb76bfdc24df",
   "metadata": {},
   "source": [
    "## Load the dataset"
   ]
  },
  {
   "cell_type": "code",
   "execution_count": 597,
   "id": "470a310a-f84b-4762-a891-4246b71cb120",
   "metadata": {},
   "outputs": [],
   "source": [
    "df = pd.read_csv(\"Exoplanets_2024.06.09_05.32.23.csv\", delimiter=',', skiprows=35)"
   ]
  },
  {
   "cell_type": "code",
   "execution_count": 598,
   "id": "866c3a69-9aea-4338-b535-f8d057b25679",
   "metadata": {
    "tags": []
   },
   "outputs": [
    {
     "data": {
      "text/html": [
       "<div>\n",
       "<style scoped>\n",
       "    .dataframe tbody tr th:only-of-type {\n",
       "        vertical-align: middle;\n",
       "    }\n",
       "\n",
       "    .dataframe tbody tr th {\n",
       "        vertical-align: top;\n",
       "    }\n",
       "\n",
       "    .dataframe thead th {\n",
       "        text-align: right;\n",
       "    }\n",
       "</style>\n",
       "<table border=\"1\" class=\"dataframe\">\n",
       "  <thead>\n",
       "    <tr style=\"text-align: right;\">\n",
       "      <th></th>\n",
       "      <th>kepid</th>\n",
       "      <th>kepoi_name</th>\n",
       "      <th>kepler_name</th>\n",
       "      <th>koi_disposition</th>\n",
       "      <th>koi_pdisposition</th>\n",
       "      <th>koi_score</th>\n",
       "      <th>koi_fpflag_nt</th>\n",
       "      <th>koi_fpflag_ss</th>\n",
       "      <th>koi_fpflag_co</th>\n",
       "      <th>koi_fpflag_ec</th>\n",
       "      <th>...</th>\n",
       "      <th>koi_insol</th>\n",
       "      <th>koi_model_snr</th>\n",
       "      <th>koi_tce_plnt_num</th>\n",
       "      <th>koi_tce_delivname</th>\n",
       "      <th>koi_steff</th>\n",
       "      <th>koi_slogg</th>\n",
       "      <th>koi_srad</th>\n",
       "      <th>ra</th>\n",
       "      <th>dec</th>\n",
       "      <th>koi_kepmag</th>\n",
       "    </tr>\n",
       "  </thead>\n",
       "  <tbody>\n",
       "    <tr>\n",
       "      <th>0</th>\n",
       "      <td>10848459</td>\n",
       "      <td>K00754.01</td>\n",
       "      <td>NaN</td>\n",
       "      <td>FALSE POSITIVE</td>\n",
       "      <td>FALSE POSITIVE</td>\n",
       "      <td>0.0</td>\n",
       "      <td>0</td>\n",
       "      <td>1</td>\n",
       "      <td>0</td>\n",
       "      <td>0</td>\n",
       "      <td>...</td>\n",
       "      <td>891.96</td>\n",
       "      <td>505.6</td>\n",
       "      <td>1.0</td>\n",
       "      <td>q1_q17_dr25_tce</td>\n",
       "      <td>5805.0</td>\n",
       "      <td>4.564</td>\n",
       "      <td>0.791</td>\n",
       "      <td>285.53461</td>\n",
       "      <td>48.285210</td>\n",
       "      <td>15.597</td>\n",
       "    </tr>\n",
       "    <tr>\n",
       "      <th>1</th>\n",
       "      <td>6721123</td>\n",
       "      <td>K00114.01</td>\n",
       "      <td>NaN</td>\n",
       "      <td>FALSE POSITIVE</td>\n",
       "      <td>FALSE POSITIVE</td>\n",
       "      <td>0.0</td>\n",
       "      <td>0</td>\n",
       "      <td>1</td>\n",
       "      <td>1</td>\n",
       "      <td>0</td>\n",
       "      <td>...</td>\n",
       "      <td>767.22</td>\n",
       "      <td>47.7</td>\n",
       "      <td>1.0</td>\n",
       "      <td>q1_q17_dr25_tce</td>\n",
       "      <td>6227.0</td>\n",
       "      <td>3.986</td>\n",
       "      <td>1.958</td>\n",
       "      <td>298.86435</td>\n",
       "      <td>42.151569</td>\n",
       "      <td>12.660</td>\n",
       "    </tr>\n",
       "    <tr>\n",
       "      <th>2</th>\n",
       "      <td>10419211</td>\n",
       "      <td>K00742.01</td>\n",
       "      <td>NaN</td>\n",
       "      <td>FALSE POSITIVE</td>\n",
       "      <td>FALSE POSITIVE</td>\n",
       "      <td>0.0</td>\n",
       "      <td>0</td>\n",
       "      <td>1</td>\n",
       "      <td>0</td>\n",
       "      <td>0</td>\n",
       "      <td>...</td>\n",
       "      <td>75.88</td>\n",
       "      <td>622.1</td>\n",
       "      <td>1.0</td>\n",
       "      <td>q1_q17_dr25_tce</td>\n",
       "      <td>5795.0</td>\n",
       "      <td>4.554</td>\n",
       "      <td>0.848</td>\n",
       "      <td>297.07993</td>\n",
       "      <td>47.597401</td>\n",
       "      <td>15.472</td>\n",
       "    </tr>\n",
       "    <tr>\n",
       "      <th>3</th>\n",
       "      <td>10464078</td>\n",
       "      <td>K00743.01</td>\n",
       "      <td>NaN</td>\n",
       "      <td>FALSE POSITIVE</td>\n",
       "      <td>FALSE POSITIVE</td>\n",
       "      <td>0.0</td>\n",
       "      <td>0</td>\n",
       "      <td>1</td>\n",
       "      <td>0</td>\n",
       "      <td>0</td>\n",
       "      <td>...</td>\n",
       "      <td>17.69</td>\n",
       "      <td>214.7</td>\n",
       "      <td>1.0</td>\n",
       "      <td>q1_q17_dr25_tce</td>\n",
       "      <td>5043.0</td>\n",
       "      <td>4.591</td>\n",
       "      <td>0.680</td>\n",
       "      <td>289.25821</td>\n",
       "      <td>47.635319</td>\n",
       "      <td>15.487</td>\n",
       "    </tr>\n",
       "    <tr>\n",
       "      <th>4</th>\n",
       "      <td>10480982</td>\n",
       "      <td>K00744.01</td>\n",
       "      <td>NaN</td>\n",
       "      <td>FALSE POSITIVE</td>\n",
       "      <td>FALSE POSITIVE</td>\n",
       "      <td>0.0</td>\n",
       "      <td>0</td>\n",
       "      <td>1</td>\n",
       "      <td>0</td>\n",
       "      <td>0</td>\n",
       "      <td>...</td>\n",
       "      <td>55.97</td>\n",
       "      <td>2317.0</td>\n",
       "      <td>1.0</td>\n",
       "      <td>q1_q17_dr25_tce</td>\n",
       "      <td>6117.0</td>\n",
       "      <td>4.496</td>\n",
       "      <td>0.947</td>\n",
       "      <td>295.81454</td>\n",
       "      <td>47.690350</td>\n",
       "      <td>15.341</td>\n",
       "    </tr>\n",
       "  </tbody>\n",
       "</table>\n",
       "<p>5 rows × 27 columns</p>\n",
       "</div>"
      ],
      "text/plain": [
       "      kepid kepoi_name kepler_name koi_disposition koi_pdisposition  \\\n",
       "0  10848459  K00754.01         NaN  FALSE POSITIVE   FALSE POSITIVE   \n",
       "1   6721123  K00114.01         NaN  FALSE POSITIVE   FALSE POSITIVE   \n",
       "2  10419211  K00742.01         NaN  FALSE POSITIVE   FALSE POSITIVE   \n",
       "3  10464078  K00743.01         NaN  FALSE POSITIVE   FALSE POSITIVE   \n",
       "4  10480982  K00744.01         NaN  FALSE POSITIVE   FALSE POSITIVE   \n",
       "\n",
       "   koi_score  koi_fpflag_nt  koi_fpflag_ss  koi_fpflag_co  koi_fpflag_ec  ...  \\\n",
       "0        0.0              0              1              0              0  ...   \n",
       "1        0.0              0              1              1              0  ...   \n",
       "2        0.0              0              1              0              0  ...   \n",
       "3        0.0              0              1              0              0  ...   \n",
       "4        0.0              0              1              0              0  ...   \n",
       "\n",
       "   koi_insol  koi_model_snr  koi_tce_plnt_num  koi_tce_delivname  koi_steff  \\\n",
       "0     891.96          505.6               1.0    q1_q17_dr25_tce     5805.0   \n",
       "1     767.22           47.7               1.0    q1_q17_dr25_tce     6227.0   \n",
       "2      75.88          622.1               1.0    q1_q17_dr25_tce     5795.0   \n",
       "3      17.69          214.7               1.0    q1_q17_dr25_tce     5043.0   \n",
       "4      55.97         2317.0               1.0    q1_q17_dr25_tce     6117.0   \n",
       "\n",
       "   koi_slogg  koi_srad         ra        dec  koi_kepmag  \n",
       "0      4.564     0.791  285.53461  48.285210      15.597  \n",
       "1      3.986     1.958  298.86435  42.151569      12.660  \n",
       "2      4.554     0.848  297.07993  47.597401      15.472  \n",
       "3      4.591     0.680  289.25821  47.635319      15.487  \n",
       "4      4.496     0.947  295.81454  47.690350      15.341  \n",
       "\n",
       "[5 rows x 27 columns]"
      ]
     },
     "execution_count": 598,
     "metadata": {},
     "output_type": "execute_result"
    }
   ],
   "source": [
    "df.head()"
   ]
  },
  {
   "cell_type": "code",
   "execution_count": 599,
   "id": "645913af-6ec8-4fec-b0fa-f18b14151ba0",
   "metadata": {
    "tags": []
   },
   "outputs": [
    {
     "data": {
      "text/plain": [
       "koi_tce_plnt_num\n",
       "1.0    7745\n",
       "2.0     972\n",
       "3.0     326\n",
       "4.0     111\n",
       "5.0      41\n",
       "6.0      14\n",
       "7.0       8\n",
       "8.0       1\n",
       "Name: count, dtype: int64"
      ]
     },
     "execution_count": 599,
     "metadata": {},
     "output_type": "execute_result"
    }
   ],
   "source": [
    "df['koi_tce_plnt_num'].value_counts()"
   ]
  },
  {
   "cell_type": "code",
   "execution_count": 600,
   "id": "ef885368-36a1-4251-b28b-3f0a8b57eb6c",
   "metadata": {
    "tags": []
   },
   "outputs": [
    {
     "data": {
      "text/plain": [
       "koi_tce_delivname\n",
       "q1_q17_dr25_tce    8054\n",
       "q1_q16_tce          796\n",
       "q1_q17_dr24_tce     368\n",
       "Name: count, dtype: int64"
      ]
     },
     "execution_count": 600,
     "metadata": {},
     "output_type": "execute_result"
    }
   ],
   "source": [
    "df['koi_tce_delivname'].value_counts()"
   ]
  },
  {
   "cell_type": "code",
   "execution_count": 601,
   "id": "5ff76fc6-e614-4e3a-b6f0-9f220b01f734",
   "metadata": {
    "tags": []
   },
   "outputs": [
    {
     "data": {
      "text/plain": [
       "(9564, 27)"
      ]
     },
     "execution_count": 601,
     "metadata": {},
     "output_type": "execute_result"
    }
   ],
   "source": [
    "df.shape"
   ]
  },
  {
   "cell_type": "code",
   "execution_count": 602,
   "id": "82354d6c-465d-4d40-89a4-2454591f5c46",
   "metadata": {
    "tags": []
   },
   "outputs": [
    {
     "data": {
      "text/plain": [
       "koi_disposition\n",
       "FALSE POSITIVE    4839\n",
       "CONFIRMED         2743\n",
       "CANDIDATE         1982\n",
       "Name: count, dtype: int64"
      ]
     },
     "execution_count": 602,
     "metadata": {},
     "output_type": "execute_result"
    }
   ],
   "source": [
    "#Column that will be treated as label for classification models.\n",
    "df.koi_disposition.value_counts()"
   ]
  },
  {
   "cell_type": "code",
   "execution_count": 603,
   "id": "d18ff2e1-dc51-4cca-a6db-396fe3e899b8",
   "metadata": {
    "tags": []
   },
   "outputs": [],
   "source": [
    "df['label']=df['koi_disposition']\n",
    "df_feat=df.iloc[:, 10:].copy()"
   ]
  },
  {
   "cell_type": "code",
   "execution_count": 604,
   "id": "f1f47d31-27ca-4ade-826e-f9f248714ee5",
   "metadata": {
    "tags": []
   },
   "outputs": [],
   "source": [
    "#objects with the known labels: confirmed as an exoplanet or false positive (not an exoplanet).\n",
    "#df_known_raw=df[df['koi_disposition']!='CANDIDATE']"
   ]
  },
  {
   "cell_type": "code",
   "execution_count": 605,
   "id": "288ae184-8101-4d34-b1e7-cacebaea433a",
   "metadata": {
    "tags": []
   },
   "outputs": [
    {
     "data": {
      "text/plain": [
       "(9564, 18)"
      ]
     },
     "execution_count": 605,
     "metadata": {},
     "output_type": "execute_result"
    }
   ],
   "source": [
    "df_feat.shape"
   ]
  },
  {
   "cell_type": "code",
   "execution_count": 606,
   "id": "ed9d7543-9a3d-4f3a-abd8-6d255258608b",
   "metadata": {
    "tags": []
   },
   "outputs": [],
   "source": [
    "#objects that are need to be defined\n",
    "#df_unknown_raw=df[df['koi_disposition'] =='CANDIDATE']"
   ]
  },
  {
   "cell_type": "code",
   "execution_count": 607,
   "id": "5d00801f-896a-4fa8-9410-7cfb9032de9f",
   "metadata": {
    "tags": []
   },
   "outputs": [
    {
     "data": {
      "text/plain": [
       "label\n",
       "FALSE POSITIVE    4839\n",
       "CONFIRMED         2743\n",
       "CANDIDATE         1982\n",
       "Name: count, dtype: int64"
      ]
     },
     "execution_count": 607,
     "metadata": {},
     "output_type": "execute_result"
    }
   ],
   "source": [
    "df_feat.label.value_counts()"
   ]
  },
  {
   "cell_type": "code",
   "execution_count": 608,
   "id": "853dcce8-204e-4172-b49c-edb34b53d7bd",
   "metadata": {
    "tags": []
   },
   "outputs": [
    {
     "name": "stdout",
     "output_type": "stream",
     "text": [
      "<class 'pandas.core.frame.DataFrame'>\n",
      "RangeIndex: 9564 entries, 0 to 9563\n",
      "Data columns (total 18 columns):\n",
      " #   Column             Non-Null Count  Dtype  \n",
      "---  ------             --------------  -----  \n",
      " 0   koi_period         9564 non-null   float64\n",
      " 1   koi_time0bk        9564 non-null   float64\n",
      " 2   koi_impact         9201 non-null   float64\n",
      " 3   koi_duration       9564 non-null   float64\n",
      " 4   koi_depth          9201 non-null   float64\n",
      " 5   koi_prad           9201 non-null   float64\n",
      " 6   koi_teq            9201 non-null   float64\n",
      " 7   koi_insol          9243 non-null   float64\n",
      " 8   koi_model_snr      9201 non-null   float64\n",
      " 9   koi_tce_plnt_num   9218 non-null   float64\n",
      " 10  koi_tce_delivname  9218 non-null   object \n",
      " 11  koi_steff          9201 non-null   float64\n",
      " 12  koi_slogg          9201 non-null   float64\n",
      " 13  koi_srad           9201 non-null   float64\n",
      " 14  ra                 9564 non-null   float64\n",
      " 15  dec                9564 non-null   float64\n",
      " 16  koi_kepmag         9563 non-null   float64\n",
      " 17  label              9564 non-null   object \n",
      "dtypes: float64(16), object(2)\n",
      "memory usage: 1.3+ MB\n"
     ]
    }
   ],
   "source": [
    "df_feat.info()"
   ]
  },
  {
   "cell_type": "code",
   "execution_count": 609,
   "id": "b396890f-dc0a-40a6-bff4-04ddb8486d59",
   "metadata": {},
   "outputs": [],
   "source": [
    "df_feat=df_feat.dropna()"
   ]
  },
  {
   "cell_type": "code",
   "execution_count": 610,
   "id": "c9ef11de-962c-48ea-9d9d-2522a95d00d6",
   "metadata": {
    "tags": []
   },
   "outputs": [
    {
     "data": {
      "text/plain": [
       "label\n",
       "FALSE POSITIVE    4381\n",
       "CONFIRMED         2731\n",
       "CANDIDATE         1833\n",
       "Name: count, dtype: int64"
      ]
     },
     "execution_count": 610,
     "metadata": {},
     "output_type": "execute_result"
    }
   ],
   "source": [
    "df_feat.label.value_counts()"
   ]
  },
  {
   "cell_type": "code",
   "execution_count": 611,
   "id": "f5941761-a263-4bf1-9209-33c9059b3d99",
   "metadata": {
    "tags": []
   },
   "outputs": [],
   "source": [
    "#remove unnecessary columns: kepid, kepo\n",
    "#flags=df_known.filter(regex=r'koi_fpflag').columns"
   ]
  },
  {
   "cell_type": "code",
   "execution_count": 612,
   "id": "984a8f3a-9d80-493a-8f1f-c3346a192247",
   "metadata": {
    "tags": []
   },
   "outputs": [],
   "source": [
    "#df_known_raw['label']=df_known_raw['koi_disposition']"
   ]
  },
  {
   "cell_type": "code",
   "execution_count": 613,
   "id": "dbe5a052-75bc-40ba-93e8-6ba831405526",
   "metadata": {
    "tags": []
   },
   "outputs": [],
   "source": [
    "# not an exoplanet = 0, exoplanet = 1\n",
    "#df_known_raw['label'] = df_known_raw.label.replace('FALSE POSITIVE',0).replace('CONFIRMED',1).astype(int)"
   ]
  },
  {
   "cell_type": "code",
   "execution_count": 614,
   "id": "372f2b55-b52f-4f05-bc52-686e3005cf0e",
   "metadata": {
    "tags": []
   },
   "outputs": [],
   "source": [
    "#df_known=df_known_raw.iloc[:, 10:].copy()"
   ]
  },
  {
   "cell_type": "code",
   "execution_count": 615,
   "id": "44dfe66d-953f-4e1e-969d-43b213e063b0",
   "metadata": {
    "tags": []
   },
   "outputs": [],
   "source": [
    "#df_unknown=df_unknown_raw.iloc[:, 10:].copy()"
   ]
  },
  {
   "cell_type": "code",
   "execution_count": 616,
   "id": "18b4f38c-8b44-4889-bfbb-eda11417ce42",
   "metadata": {
    "tags": []
   },
   "outputs": [
    {
     "data": {
      "text/plain": [
       "['koi_period',\n",
       " 'koi_time0bk',\n",
       " 'koi_impact',\n",
       " 'koi_duration',\n",
       " 'koi_depth',\n",
       " 'koi_prad',\n",
       " 'koi_teq',\n",
       " 'koi_insol',\n",
       " 'koi_model_snr',\n",
       " 'koi_tce_plnt_num',\n",
       " 'koi_steff',\n",
       " 'koi_slogg',\n",
       " 'koi_srad',\n",
       " 'ra',\n",
       " 'dec',\n",
       " 'koi_kepmag']"
      ]
     },
     "execution_count": 616,
     "metadata": {},
     "output_type": "execute_result"
    }
   ],
   "source": [
    "numeric_columns = [col for col in df_feat.columns if pd.api.types.is_numeric_dtype(df_feat[col])]\n",
    "numeric_columns"
   ]
  },
  {
   "cell_type": "markdown",
   "id": "b35c190f-bb47-4dbf-9f8a-1ba60dc9e17f",
   "metadata": {},
   "source": [
    "## Boxplots of features"
   ]
  },
  {
   "cell_type": "code",
   "execution_count": 617,
   "id": "11e14324-2165-4fd3-9181-be3e515700ff",
   "metadata": {
    "tags": []
   },
   "outputs": [
    {
     "data": {
      "text/html": [
       "<div>\n",
       "<style scoped>\n",
       "    .dataframe tbody tr th:only-of-type {\n",
       "        vertical-align: middle;\n",
       "    }\n",
       "\n",
       "    .dataframe tbody tr th {\n",
       "        vertical-align: top;\n",
       "    }\n",
       "\n",
       "    .dataframe thead th {\n",
       "        text-align: right;\n",
       "    }\n",
       "</style>\n",
       "<table border=\"1\" class=\"dataframe\">\n",
       "  <thead>\n",
       "    <tr style=\"text-align: right;\">\n",
       "      <th></th>\n",
       "      <th>koi_period</th>\n",
       "      <th>koi_time0bk</th>\n",
       "      <th>koi_impact</th>\n",
       "      <th>koi_duration</th>\n",
       "      <th>koi_depth</th>\n",
       "      <th>koi_prad</th>\n",
       "      <th>koi_teq</th>\n",
       "      <th>koi_insol</th>\n",
       "      <th>koi_model_snr</th>\n",
       "      <th>koi_tce_plnt_num</th>\n",
       "      <th>koi_tce_delivname</th>\n",
       "      <th>koi_steff</th>\n",
       "      <th>koi_slogg</th>\n",
       "      <th>koi_srad</th>\n",
       "      <th>ra</th>\n",
       "      <th>dec</th>\n",
       "      <th>koi_kepmag</th>\n",
       "      <th>label</th>\n",
       "    </tr>\n",
       "  </thead>\n",
       "  <tbody>\n",
       "    <tr>\n",
       "      <th>0</th>\n",
       "      <td>1.736952</td>\n",
       "      <td>170.307565</td>\n",
       "      <td>1.276</td>\n",
       "      <td>2.40641</td>\n",
       "      <td>8079.2</td>\n",
       "      <td>33.46</td>\n",
       "      <td>1395.0</td>\n",
       "      <td>891.96</td>\n",
       "      <td>505.6</td>\n",
       "      <td>1.0</td>\n",
       "      <td>q1_q17_dr25_tce</td>\n",
       "      <td>5805.0</td>\n",
       "      <td>4.564</td>\n",
       "      <td>0.791</td>\n",
       "      <td>285.53461</td>\n",
       "      <td>48.285210</td>\n",
       "      <td>15.597</td>\n",
       "      <td>FALSE POSITIVE</td>\n",
       "    </tr>\n",
       "    <tr>\n",
       "      <th>1</th>\n",
       "      <td>7.361790</td>\n",
       "      <td>132.250530</td>\n",
       "      <td>1.169</td>\n",
       "      <td>5.02200</td>\n",
       "      <td>233.7</td>\n",
       "      <td>39.21</td>\n",
       "      <td>1342.0</td>\n",
       "      <td>767.22</td>\n",
       "      <td>47.7</td>\n",
       "      <td>1.0</td>\n",
       "      <td>q1_q17_dr25_tce</td>\n",
       "      <td>6227.0</td>\n",
       "      <td>3.986</td>\n",
       "      <td>1.958</td>\n",
       "      <td>298.86435</td>\n",
       "      <td>42.151569</td>\n",
       "      <td>12.660</td>\n",
       "      <td>FALSE POSITIVE</td>\n",
       "    </tr>\n",
       "    <tr>\n",
       "      <th>2</th>\n",
       "      <td>11.521446</td>\n",
       "      <td>170.839688</td>\n",
       "      <td>2.483</td>\n",
       "      <td>3.63990</td>\n",
       "      <td>17984.0</td>\n",
       "      <td>150.51</td>\n",
       "      <td>753.0</td>\n",
       "      <td>75.88</td>\n",
       "      <td>622.1</td>\n",
       "      <td>1.0</td>\n",
       "      <td>q1_q17_dr25_tce</td>\n",
       "      <td>5795.0</td>\n",
       "      <td>4.554</td>\n",
       "      <td>0.848</td>\n",
       "      <td>297.07993</td>\n",
       "      <td>47.597401</td>\n",
       "      <td>15.472</td>\n",
       "      <td>FALSE POSITIVE</td>\n",
       "    </tr>\n",
       "    <tr>\n",
       "      <th>3</th>\n",
       "      <td>19.403938</td>\n",
       "      <td>172.484253</td>\n",
       "      <td>0.804</td>\n",
       "      <td>12.21550</td>\n",
       "      <td>8918.7</td>\n",
       "      <td>7.18</td>\n",
       "      <td>523.0</td>\n",
       "      <td>17.69</td>\n",
       "      <td>214.7</td>\n",
       "      <td>1.0</td>\n",
       "      <td>q1_q17_dr25_tce</td>\n",
       "      <td>5043.0</td>\n",
       "      <td>4.591</td>\n",
       "      <td>0.680</td>\n",
       "      <td>289.25821</td>\n",
       "      <td>47.635319</td>\n",
       "      <td>15.487</td>\n",
       "      <td>FALSE POSITIVE</td>\n",
       "    </tr>\n",
       "    <tr>\n",
       "      <th>4</th>\n",
       "      <td>19.221389</td>\n",
       "      <td>184.552164</td>\n",
       "      <td>1.065</td>\n",
       "      <td>4.79843</td>\n",
       "      <td>74284.0</td>\n",
       "      <td>49.29</td>\n",
       "      <td>698.0</td>\n",
       "      <td>55.97</td>\n",
       "      <td>2317.0</td>\n",
       "      <td>1.0</td>\n",
       "      <td>q1_q17_dr25_tce</td>\n",
       "      <td>6117.0</td>\n",
       "      <td>4.496</td>\n",
       "      <td>0.947</td>\n",
       "      <td>295.81454</td>\n",
       "      <td>47.690350</td>\n",
       "      <td>15.341</td>\n",
       "      <td>FALSE POSITIVE</td>\n",
       "    </tr>\n",
       "  </tbody>\n",
       "</table>\n",
       "</div>"
      ],
      "text/plain": [
       "   koi_period  koi_time0bk  koi_impact  koi_duration  koi_depth  koi_prad  \\\n",
       "0    1.736952   170.307565       1.276       2.40641     8079.2     33.46   \n",
       "1    7.361790   132.250530       1.169       5.02200      233.7     39.21   \n",
       "2   11.521446   170.839688       2.483       3.63990    17984.0    150.51   \n",
       "3   19.403938   172.484253       0.804      12.21550     8918.7      7.18   \n",
       "4   19.221389   184.552164       1.065       4.79843    74284.0     49.29   \n",
       "\n",
       "   koi_teq  koi_insol  koi_model_snr  koi_tce_plnt_num koi_tce_delivname  \\\n",
       "0   1395.0     891.96          505.6               1.0   q1_q17_dr25_tce   \n",
       "1   1342.0     767.22           47.7               1.0   q1_q17_dr25_tce   \n",
       "2    753.0      75.88          622.1               1.0   q1_q17_dr25_tce   \n",
       "3    523.0      17.69          214.7               1.0   q1_q17_dr25_tce   \n",
       "4    698.0      55.97         2317.0               1.0   q1_q17_dr25_tce   \n",
       "\n",
       "   koi_steff  koi_slogg  koi_srad         ra        dec  koi_kepmag  \\\n",
       "0     5805.0      4.564     0.791  285.53461  48.285210      15.597   \n",
       "1     6227.0      3.986     1.958  298.86435  42.151569      12.660   \n",
       "2     5795.0      4.554     0.848  297.07993  47.597401      15.472   \n",
       "3     5043.0      4.591     0.680  289.25821  47.635319      15.487   \n",
       "4     6117.0      4.496     0.947  295.81454  47.690350      15.341   \n",
       "\n",
       "            label  \n",
       "0  FALSE POSITIVE  \n",
       "1  FALSE POSITIVE  \n",
       "2  FALSE POSITIVE  \n",
       "3  FALSE POSITIVE  \n",
       "4  FALSE POSITIVE  "
      ]
     },
     "execution_count": 617,
     "metadata": {},
     "output_type": "execute_result"
    }
   ],
   "source": [
    "df_feat.head()"
   ]
  },
  {
   "cell_type": "code",
   "execution_count": 618,
   "id": "25bfb5b3-1cc7-468b-abf8-0f60304cf4ab",
   "metadata": {
    "tags": []
   },
   "outputs": [
    {
     "data": {
      "text/html": [
       "<div>\n",
       "<style scoped>\n",
       "    .dataframe tbody tr th:only-of-type {\n",
       "        vertical-align: middle;\n",
       "    }\n",
       "\n",
       "    .dataframe tbody tr th {\n",
       "        vertical-align: top;\n",
       "    }\n",
       "\n",
       "    .dataframe thead th {\n",
       "        text-align: right;\n",
       "    }\n",
       "</style>\n",
       "<table border=\"1\" class=\"dataframe\">\n",
       "  <thead>\n",
       "    <tr style=\"text-align: right;\">\n",
       "      <th></th>\n",
       "      <th>koi_period</th>\n",
       "      <th>koi_time0bk</th>\n",
       "      <th>koi_impact</th>\n",
       "      <th>koi_duration</th>\n",
       "      <th>koi_depth</th>\n",
       "      <th>koi_prad</th>\n",
       "      <th>koi_teq</th>\n",
       "      <th>koi_insol</th>\n",
       "      <th>koi_model_snr</th>\n",
       "      <th>koi_tce_plnt_num</th>\n",
       "      <th>koi_steff</th>\n",
       "      <th>koi_slogg</th>\n",
       "      <th>koi_srad</th>\n",
       "      <th>ra</th>\n",
       "      <th>dec</th>\n",
       "      <th>koi_kepmag</th>\n",
       "    </tr>\n",
       "  </thead>\n",
       "  <tbody>\n",
       "    <tr>\n",
       "      <th>count</th>\n",
       "      <td>8945.000000</td>\n",
       "      <td>8945.000000</td>\n",
       "      <td>8945.000000</td>\n",
       "      <td>8945.000000</td>\n",
       "      <td>8.945000e+03</td>\n",
       "      <td>8945.000000</td>\n",
       "      <td>8945.000000</td>\n",
       "      <td>8.945000e+03</td>\n",
       "      <td>8945.000000</td>\n",
       "      <td>8945.000000</td>\n",
       "      <td>8945.000000</td>\n",
       "      <td>8945.000000</td>\n",
       "      <td>8945.000000</td>\n",
       "      <td>8945.000000</td>\n",
       "      <td>8945.000000</td>\n",
       "      <td>8945.000000</td>\n",
       "    </tr>\n",
       "    <tr>\n",
       "      <th>mean</th>\n",
       "      <td>55.678924</td>\n",
       "      <td>164.278021</td>\n",
       "      <td>0.731219</td>\n",
       "      <td>5.539390</td>\n",
       "      <td>2.440240e+04</td>\n",
       "      <td>103.836524</td>\n",
       "      <td>1095.128228</td>\n",
       "      <td>7.636370e+03</td>\n",
       "      <td>265.700704</td>\n",
       "      <td>1.239911</td>\n",
       "      <td>5700.092342</td>\n",
       "      <td>4.309781</td>\n",
       "      <td>1.734644</td>\n",
       "      <td>292.089269</td>\n",
       "      <td>43.809421</td>\n",
       "      <td>14.280905</td>\n",
       "    </tr>\n",
       "    <tr>\n",
       "      <th>std</th>\n",
       "      <td>116.963448</td>\n",
       "      <td>66.255034</td>\n",
       "      <td>3.233865</td>\n",
       "      <td>6.413855</td>\n",
       "      <td>8.330044e+04</td>\n",
       "      <td>3117.326455</td>\n",
       "      <td>851.928698</td>\n",
       "      <td>1.601557e+05</td>\n",
       "      <td>804.188708</td>\n",
       "      <td>0.655849</td>\n",
       "      <td>797.056303</td>\n",
       "      <td>0.434144</td>\n",
       "      <td>6.192780</td>\n",
       "      <td>4.773284</td>\n",
       "      <td>3.601858</td>\n",
       "      <td>1.373123</td>\n",
       "    </tr>\n",
       "    <tr>\n",
       "      <th>min</th>\n",
       "      <td>0.259820</td>\n",
       "      <td>120.515914</td>\n",
       "      <td>0.000000</td>\n",
       "      <td>0.052000</td>\n",
       "      <td>0.000000e+00</td>\n",
       "      <td>0.080000</td>\n",
       "      <td>92.000000</td>\n",
       "      <td>2.000000e-02</td>\n",
       "      <td>0.000000</td>\n",
       "      <td>1.000000</td>\n",
       "      <td>2661.000000</td>\n",
       "      <td>0.047000</td>\n",
       "      <td>0.109000</td>\n",
       "      <td>279.852720</td>\n",
       "      <td>36.577381</td>\n",
       "      <td>6.966000</td>\n",
       "    </tr>\n",
       "    <tr>\n",
       "      <th>25%</th>\n",
       "      <td>2.621707</td>\n",
       "      <td>132.701600</td>\n",
       "      <td>0.198500</td>\n",
       "      <td>2.437000</td>\n",
       "      <td>1.608000e+02</td>\n",
       "      <td>1.400000</td>\n",
       "      <td>553.000000</td>\n",
       "      <td>2.217000e+01</td>\n",
       "      <td>12.300000</td>\n",
       "      <td>1.000000</td>\n",
       "      <td>5300.000000</td>\n",
       "      <td>4.218000</td>\n",
       "      <td>0.828000</td>\n",
       "      <td>288.697420</td>\n",
       "      <td>40.776970</td>\n",
       "      <td>13.462000</td>\n",
       "    </tr>\n",
       "    <tr>\n",
       "      <th>50%</th>\n",
       "      <td>8.827158</td>\n",
       "      <td>136.823360</td>\n",
       "      <td>0.545000</td>\n",
       "      <td>3.778000</td>\n",
       "      <td>4.245000e+02</td>\n",
       "      <td>2.410000</td>\n",
       "      <td>888.000000</td>\n",
       "      <td>1.469500e+02</td>\n",
       "      <td>23.700000</td>\n",
       "      <td>1.000000</td>\n",
       "      <td>5763.000000</td>\n",
       "      <td>4.438000</td>\n",
       "      <td>1.000000</td>\n",
       "      <td>292.292390</td>\n",
       "      <td>43.671661</td>\n",
       "      <td>14.531000</td>\n",
       "    </tr>\n",
       "    <tr>\n",
       "      <th>75%</th>\n",
       "      <td>33.788803</td>\n",
       "      <td>169.833943</td>\n",
       "      <td>0.892000</td>\n",
       "      <td>6.158000</td>\n",
       "      <td>1.517500e+03</td>\n",
       "      <td>15.640000</td>\n",
       "      <td>1392.000000</td>\n",
       "      <td>8.867200e+02</td>\n",
       "      <td>80.200000</td>\n",
       "      <td>1.000000</td>\n",
       "      <td>6108.000000</td>\n",
       "      <td>4.543000</td>\n",
       "      <td>1.345000</td>\n",
       "      <td>295.907440</td>\n",
       "      <td>46.703129</td>\n",
       "      <td>15.324000</td>\n",
       "    </tr>\n",
       "    <tr>\n",
       "      <th>max</th>\n",
       "      <td>1071.232624</td>\n",
       "      <td>1472.522306</td>\n",
       "      <td>100.806000</td>\n",
       "      <td>138.540000</td>\n",
       "      <td>1.541400e+06</td>\n",
       "      <td>200346.000000</td>\n",
       "      <td>14667.000000</td>\n",
       "      <td>1.094755e+07</td>\n",
       "      <td>9054.700000</td>\n",
       "      <td>8.000000</td>\n",
       "      <td>15896.000000</td>\n",
       "      <td>5.364000</td>\n",
       "      <td>229.908000</td>\n",
       "      <td>301.720760</td>\n",
       "      <td>52.336010</td>\n",
       "      <td>20.003000</td>\n",
       "    </tr>\n",
       "  </tbody>\n",
       "</table>\n",
       "</div>"
      ],
      "text/plain": [
       "        koi_period  koi_time0bk   koi_impact  koi_duration     koi_depth  \\\n",
       "count  8945.000000  8945.000000  8945.000000   8945.000000  8.945000e+03   \n",
       "mean     55.678924   164.278021     0.731219      5.539390  2.440240e+04   \n",
       "std     116.963448    66.255034     3.233865      6.413855  8.330044e+04   \n",
       "min       0.259820   120.515914     0.000000      0.052000  0.000000e+00   \n",
       "25%       2.621707   132.701600     0.198500      2.437000  1.608000e+02   \n",
       "50%       8.827158   136.823360     0.545000      3.778000  4.245000e+02   \n",
       "75%      33.788803   169.833943     0.892000      6.158000  1.517500e+03   \n",
       "max    1071.232624  1472.522306   100.806000    138.540000  1.541400e+06   \n",
       "\n",
       "            koi_prad       koi_teq     koi_insol  koi_model_snr  \\\n",
       "count    8945.000000   8945.000000  8.945000e+03    8945.000000   \n",
       "mean      103.836524   1095.128228  7.636370e+03     265.700704   \n",
       "std      3117.326455    851.928698  1.601557e+05     804.188708   \n",
       "min         0.080000     92.000000  2.000000e-02       0.000000   \n",
       "25%         1.400000    553.000000  2.217000e+01      12.300000   \n",
       "50%         2.410000    888.000000  1.469500e+02      23.700000   \n",
       "75%        15.640000   1392.000000  8.867200e+02      80.200000   \n",
       "max    200346.000000  14667.000000  1.094755e+07    9054.700000   \n",
       "\n",
       "       koi_tce_plnt_num     koi_steff    koi_slogg     koi_srad           ra  \\\n",
       "count       8945.000000   8945.000000  8945.000000  8945.000000  8945.000000   \n",
       "mean           1.239911   5700.092342     4.309781     1.734644   292.089269   \n",
       "std            0.655849    797.056303     0.434144     6.192780     4.773284   \n",
       "min            1.000000   2661.000000     0.047000     0.109000   279.852720   \n",
       "25%            1.000000   5300.000000     4.218000     0.828000   288.697420   \n",
       "50%            1.000000   5763.000000     4.438000     1.000000   292.292390   \n",
       "75%            1.000000   6108.000000     4.543000     1.345000   295.907440   \n",
       "max            8.000000  15896.000000     5.364000   229.908000   301.720760   \n",
       "\n",
       "               dec   koi_kepmag  \n",
       "count  8945.000000  8945.000000  \n",
       "mean     43.809421    14.280905  \n",
       "std       3.601858     1.373123  \n",
       "min      36.577381     6.966000  \n",
       "25%      40.776970    13.462000  \n",
       "50%      43.671661    14.531000  \n",
       "75%      46.703129    15.324000  \n",
       "max      52.336010    20.003000  "
      ]
     },
     "execution_count": 618,
     "metadata": {},
     "output_type": "execute_result"
    }
   ],
   "source": [
    "df_feat.describe()"
   ]
  },
  {
   "cell_type": "code",
   "execution_count": 631,
   "id": "c4f51bc8-a8d7-4dde-aa6f-9c3ee0e71d9e",
   "metadata": {
    "tags": []
   },
   "outputs": [
    {
     "data": {
      "image/png": "[encoded data removed]",
      "text/plain": [
       "<Figure size 1500x1000 with 16 Axes>"
      ]
     },
     "metadata": {},
     "output_type": "display_data"
    }
   ],
   "source": [
    "fig, ax = plt.subplots(4, 4, figsize=(15, 10))\n",
    "for var, subplot in zip(numeric_columns, ax.flatten()):\n",
    "    sns.boxplot(x=var, data=df_feat, ax=subplot)\n",
    "plt.tight_layout()\n",
    "plt.savefig('boxplots.png', dpi=300, bbox_inches='tight') "
   ]
  },
  {
   "cell_type": "markdown",
   "id": "ab237e9a-6b38-463b-97fd-b7f574057f53",
   "metadata": {},
   "source": [
    "### Removing outliers for AdaBoost"
   ]
  },
  {
   "cell_type": "code",
   "execution_count": 622,
   "id": "914a2c2a-90a9-433f-b6be-dc07db970d6a",
   "metadata": {
    "tags": []
   },
   "outputs": [
    {
     "data": {
      "text/plain": [
       "(8945, 18)"
      ]
     },
     "execution_count": 622,
     "metadata": {},
     "output_type": "execute_result"
    }
   ],
   "source": [
    "df_feat.shape"
   ]
  },
  {
   "cell_type": "code",
   "execution_count": 623,
   "id": "c9a46794-884f-4743-b782-3fa20382db7d",
   "metadata": {
    "tags": []
   },
   "outputs": [],
   "source": [
    "outliers={}\n",
    "\n",
    "for col in numeric_columns:\n",
    "    #df_o=df_out[col]\n",
    "    Q1 = df_feat[col].quantile(0.25)\n",
    "    Q3 = df_feat[col].quantile(0.75)\n",
    "\n",
    "# Calculate the IQR\n",
    "    IQR = Q3 - Q1\n",
    "\n",
    "# Make a dataset with the outliers\n",
    "    mask=((df_feat[col] < (Q1 - 1.5 * IQR)) | (df_feat[col] > (Q3 + 1.5 * IQR)))\n",
    "    if col!='koi_tce_plnt_num':\n",
    "        df_feat[col] = np.where(mask, np.nan, df_feat[col])\n",
    "\n",
    "    outliers[col]=mask.value_counts().get(True, 0)\n",
    "    \n",
    "df_outlier=pd.DataFrame(outliers.items(), columns=['feature', 'outliers'])\n",
    "df_outlier['%']=df_outlier['outliers']/df_feat.shape[0]*100"
   ]
  },
  {
   "cell_type": "code",
   "execution_count": 624,
   "id": "30f319a0-9e8c-4fa9-9f61-fe8f41382beb",
   "metadata": {
    "tags": []
   },
   "outputs": [
    {
     "data": {
      "text/html": [
       "<div>\n",
       "<style scoped>\n",
       "    .dataframe tbody tr th:only-of-type {\n",
       "        vertical-align: middle;\n",
       "    }\n",
       "\n",
       "    .dataframe tbody tr th {\n",
       "        vertical-align: top;\n",
       "    }\n",
       "\n",
       "    .dataframe thead th {\n",
       "        text-align: right;\n",
       "    }\n",
       "</style>\n",
       "<table border=\"1\" class=\"dataframe\">\n",
       "  <thead>\n",
       "    <tr style=\"text-align: right;\">\n",
       "      <th></th>\n",
       "      <th>feature</th>\n",
       "      <th>outliers</th>\n",
       "      <th>%</th>\n",
       "    </tr>\n",
       "  </thead>\n",
       "  <tbody>\n",
       "    <tr>\n",
       "      <th>0</th>\n",
       "      <td>koi_period</td>\n",
       "      <td>1438</td>\n",
       "      <td>16.076020</td>\n",
       "    </tr>\n",
       "    <tr>\n",
       "      <th>1</th>\n",
       "      <td>koi_time0bk</td>\n",
       "      <td>919</td>\n",
       "      <td>10.273896</td>\n",
       "    </tr>\n",
       "    <tr>\n",
       "      <th>2</th>\n",
       "      <td>koi_impact</td>\n",
       "      <td>80</td>\n",
       "      <td>0.894354</td>\n",
       "    </tr>\n",
       "    <tr>\n",
       "      <th>3</th>\n",
       "      <td>koi_duration</td>\n",
       "      <td>791</td>\n",
       "      <td>8.842929</td>\n",
       "    </tr>\n",
       "    <tr>\n",
       "      <th>4</th>\n",
       "      <td>koi_depth</td>\n",
       "      <td>1767</td>\n",
       "      <td>19.754053</td>\n",
       "    </tr>\n",
       "    <tr>\n",
       "      <th>5</th>\n",
       "      <td>koi_prad</td>\n",
       "      <td>1381</td>\n",
       "      <td>15.438793</td>\n",
       "    </tr>\n",
       "    <tr>\n",
       "      <th>6</th>\n",
       "      <td>koi_teq</td>\n",
       "      <td>396</td>\n",
       "      <td>4.427054</td>\n",
       "    </tr>\n",
       "    <tr>\n",
       "      <th>7</th>\n",
       "      <td>koi_insol</td>\n",
       "      <td>1375</td>\n",
       "      <td>15.371716</td>\n",
       "    </tr>\n",
       "    <tr>\n",
       "      <th>8</th>\n",
       "      <td>koi_model_snr</td>\n",
       "      <td>1567</td>\n",
       "      <td>17.518167</td>\n",
       "    </tr>\n",
       "    <tr>\n",
       "      <th>9</th>\n",
       "      <td>koi_tce_plnt_num</td>\n",
       "      <td>1419</td>\n",
       "      <td>15.863611</td>\n",
       "    </tr>\n",
       "    <tr>\n",
       "      <th>10</th>\n",
       "      <td>koi_steff</td>\n",
       "      <td>532</td>\n",
       "      <td>5.947457</td>\n",
       "    </tr>\n",
       "    <tr>\n",
       "      <th>11</th>\n",
       "      <td>koi_slogg</td>\n",
       "      <td>652</td>\n",
       "      <td>7.288988</td>\n",
       "    </tr>\n",
       "    <tr>\n",
       "      <th>12</th>\n",
       "      <td>koi_srad</td>\n",
       "      <td>959</td>\n",
       "      <td>10.721073</td>\n",
       "    </tr>\n",
       "    <tr>\n",
       "      <th>13</th>\n",
       "      <td>ra</td>\n",
       "      <td>0</td>\n",
       "      <td>0.000000</td>\n",
       "    </tr>\n",
       "    <tr>\n",
       "      <th>14</th>\n",
       "      <td>dec</td>\n",
       "      <td>0</td>\n",
       "      <td>0.000000</td>\n",
       "    </tr>\n",
       "    <tr>\n",
       "      <th>15</th>\n",
       "      <td>koi_kepmag</td>\n",
       "      <td>150</td>\n",
       "      <td>1.676914</td>\n",
       "    </tr>\n",
       "  </tbody>\n",
       "</table>\n",
       "</div>"
      ],
      "text/plain": [
       "             feature  outliers          %\n",
       "0         koi_period      1438  16.076020\n",
       "1        koi_time0bk       919  10.273896\n",
       "2         koi_impact        80   0.894354\n",
       "3       koi_duration       791   8.842929\n",
       "4          koi_depth      1767  19.754053\n",
       "5           koi_prad      1381  15.438793\n",
       "6            koi_teq       396   4.427054\n",
       "7          koi_insol      1375  15.371716\n",
       "8      koi_model_snr      1567  17.518167\n",
       "9   koi_tce_plnt_num      1419  15.863611\n",
       "10         koi_steff       532   5.947457\n",
       "11         koi_slogg       652   7.288988\n",
       "12          koi_srad       959  10.721073\n",
       "13                ra         0   0.000000\n",
       "14               dec         0   0.000000\n",
       "15        koi_kepmag       150   1.676914"
      ]
     },
     "execution_count": 624,
     "metadata": {},
     "output_type": "execute_result"
    }
   ],
   "source": [
    "df_outlier"
   ]
  },
  {
   "cell_type": "code",
   "execution_count": 625,
   "id": "958483e5-01e9-48f2-8c68-0f4a2a1da81f",
   "metadata": {
    "tags": []
   },
   "outputs": [
    {
     "data": {
      "text/plain": [
       "koi_period           1438\n",
       "koi_time0bk           919\n",
       "koi_impact             80\n",
       "koi_duration          791\n",
       "koi_depth            1767\n",
       "koi_prad             1381\n",
       "koi_teq               396\n",
       "koi_insol            1375\n",
       "koi_model_snr        1567\n",
       "koi_tce_plnt_num        0\n",
       "koi_tce_delivname       0\n",
       "koi_steff             532\n",
       "koi_slogg             652\n",
       "koi_srad              959\n",
       "ra                      0\n",
       "dec                     0\n",
       "koi_kepmag            150\n",
       "label                   0\n",
       "dtype: int64"
      ]
     },
     "execution_count": 625,
     "metadata": {},
     "output_type": "execute_result"
    }
   ],
   "source": [
    "df_feat.isna().sum()"
   ]
  },
  {
   "cell_type": "code",
   "execution_count": 626,
   "id": "f8d9e365-8e8f-4b29-b9df-62222468ce28",
   "metadata": {
    "tags": []
   },
   "outputs": [],
   "source": [
    "df_no_outliers=df_feat.dropna()"
   ]
  },
  {
   "cell_type": "code",
   "execution_count": 627,
   "id": "ad1e2b91-0f5a-4dc1-a501-8d73c16475b9",
   "metadata": {
    "tags": []
   },
   "outputs": [
    {
     "data": {
      "text/html": [
       "<div>\n",
       "<style scoped>\n",
       "    .dataframe tbody tr th:only-of-type {\n",
       "        vertical-align: middle;\n",
       "    }\n",
       "\n",
       "    .dataframe tbody tr th {\n",
       "        vertical-align: top;\n",
       "    }\n",
       "\n",
       "    .dataframe thead th {\n",
       "        text-align: right;\n",
       "    }\n",
       "</style>\n",
       "<table border=\"1\" class=\"dataframe\">\n",
       "  <thead>\n",
       "    <tr style=\"text-align: right;\">\n",
       "      <th></th>\n",
       "      <th>koi_period</th>\n",
       "      <th>koi_time0bk</th>\n",
       "      <th>koi_impact</th>\n",
       "      <th>koi_duration</th>\n",
       "      <th>koi_depth</th>\n",
       "      <th>koi_prad</th>\n",
       "      <th>koi_teq</th>\n",
       "      <th>koi_insol</th>\n",
       "      <th>koi_model_snr</th>\n",
       "      <th>koi_tce_plnt_num</th>\n",
       "      <th>koi_tce_delivname</th>\n",
       "      <th>koi_steff</th>\n",
       "      <th>koi_slogg</th>\n",
       "      <th>koi_srad</th>\n",
       "      <th>ra</th>\n",
       "      <th>dec</th>\n",
       "      <th>koi_kepmag</th>\n",
       "      <th>label</th>\n",
       "    </tr>\n",
       "  </thead>\n",
       "  <tbody>\n",
       "    <tr>\n",
       "      <th>6</th>\n",
       "      <td>2.696371</td>\n",
       "      <td>170.737690</td>\n",
       "      <td>0.044</td>\n",
       "      <td>3.6129</td>\n",
       "      <td>397.9</td>\n",
       "      <td>1.58</td>\n",
       "      <td>1066.0</td>\n",
       "      <td>305.34</td>\n",
       "      <td>48.2</td>\n",
       "      <td>1.0</td>\n",
       "      <td>q1_q17_dr25_tce</td>\n",
       "      <td>4989.0</td>\n",
       "      <td>4.504</td>\n",
       "      <td>0.819</td>\n",
       "      <td>283.76547</td>\n",
       "      <td>47.804298</td>\n",
       "      <td>15.269</td>\n",
       "      <td>FALSE POSITIVE</td>\n",
       "    </tr>\n",
       "    <tr>\n",
       "      <th>8</th>\n",
       "      <td>1.506354</td>\n",
       "      <td>170.998064</td>\n",
       "      <td>0.860</td>\n",
       "      <td>1.5155</td>\n",
       "      <td>2211.7</td>\n",
       "      <td>4.53</td>\n",
       "      <td>1452.0</td>\n",
       "      <td>1054.12</td>\n",
       "      <td>181.1</td>\n",
       "      <td>1.0</td>\n",
       "      <td>q1_q17_dr25_tce</td>\n",
       "      <td>5714.0</td>\n",
       "      <td>4.563</td>\n",
       "      <td>0.831</td>\n",
       "      <td>295.66522</td>\n",
       "      <td>49.351009</td>\n",
       "      <td>15.525</td>\n",
       "      <td>FALSE POSITIVE</td>\n",
       "    </tr>\n",
       "    <tr>\n",
       "      <th>11</th>\n",
       "      <td>2.701288</td>\n",
       "      <td>170.695790</td>\n",
       "      <td>1.016</td>\n",
       "      <td>3.3827</td>\n",
       "      <td>860.4</td>\n",
       "      <td>6.54</td>\n",
       "      <td>1222.0</td>\n",
       "      <td>527.81</td>\n",
       "      <td>48.3</td>\n",
       "      <td>1.0</td>\n",
       "      <td>q1_q17_dr25_tce</td>\n",
       "      <td>5550.0</td>\n",
       "      <td>4.468</td>\n",
       "      <td>0.910</td>\n",
       "      <td>297.92365</td>\n",
       "      <td>48.777321</td>\n",
       "      <td>15.540</td>\n",
       "      <td>FALSE POSITIVE</td>\n",
       "    </tr>\n",
       "    <tr>\n",
       "      <th>16</th>\n",
       "      <td>3.341913</td>\n",
       "      <td>171.639430</td>\n",
       "      <td>1.213</td>\n",
       "      <td>3.8130</td>\n",
       "      <td>725.3</td>\n",
       "      <td>21.55</td>\n",
       "      <td>1032.0</td>\n",
       "      <td>268.67</td>\n",
       "      <td>39.0</td>\n",
       "      <td>1.0</td>\n",
       "      <td>q1_q17_dr25_tce</td>\n",
       "      <td>5295.0</td>\n",
       "      <td>4.551</td>\n",
       "      <td>0.811</td>\n",
       "      <td>292.31595</td>\n",
       "      <td>38.270290</td>\n",
       "      <td>15.629</td>\n",
       "      <td>FALSE POSITIVE</td>\n",
       "    </tr>\n",
       "    <tr>\n",
       "      <th>17</th>\n",
       "      <td>1.626630</td>\n",
       "      <td>169.820171</td>\n",
       "      <td>1.260</td>\n",
       "      <td>2.1145</td>\n",
       "      <td>1620.6</td>\n",
       "      <td>32.43</td>\n",
       "      <td>1547.0</td>\n",
       "      <td>1355.88</td>\n",
       "      <td>103.6</td>\n",
       "      <td>1.0</td>\n",
       "      <td>q1_q17_dr25_tce</td>\n",
       "      <td>5735.0</td>\n",
       "      <td>4.410</td>\n",
       "      <td>0.973</td>\n",
       "      <td>294.36819</td>\n",
       "      <td>38.310280</td>\n",
       "      <td>15.279</td>\n",
       "      <td>FALSE POSITIVE</td>\n",
       "    </tr>\n",
       "    <tr>\n",
       "      <th>...</th>\n",
       "      <td>...</td>\n",
       "      <td>...</td>\n",
       "      <td>...</td>\n",
       "      <td>...</td>\n",
       "      <td>...</td>\n",
       "      <td>...</td>\n",
       "      <td>...</td>\n",
       "      <td>...</td>\n",
       "      <td>...</td>\n",
       "      <td>...</td>\n",
       "      <td>...</td>\n",
       "      <td>...</td>\n",
       "      <td>...</td>\n",
       "      <td>...</td>\n",
       "      <td>...</td>\n",
       "      <td>...</td>\n",
       "      <td>...</td>\n",
       "      <td>...</td>\n",
       "    </tr>\n",
       "    <tr>\n",
       "      <th>9549</th>\n",
       "      <td>0.805942</td>\n",
       "      <td>132.127874</td>\n",
       "      <td>1.339</td>\n",
       "      <td>1.4432</td>\n",
       "      <td>3180.4</td>\n",
       "      <td>29.85</td>\n",
       "      <td>1498.0</td>\n",
       "      <td>1189.65</td>\n",
       "      <td>55.4</td>\n",
       "      <td>1.0</td>\n",
       "      <td>q1_q17_dr25_tce</td>\n",
       "      <td>5022.0</td>\n",
       "      <td>4.597</td>\n",
       "      <td>0.672</td>\n",
       "      <td>291.55447</td>\n",
       "      <td>51.043201</td>\n",
       "      <td>14.169</td>\n",
       "      <td>CANDIDATE</td>\n",
       "    </tr>\n",
       "    <tr>\n",
       "      <th>9552</th>\n",
       "      <td>5.887704</td>\n",
       "      <td>135.037380</td>\n",
       "      <td>0.185</td>\n",
       "      <td>4.0090</td>\n",
       "      <td>39.7</td>\n",
       "      <td>0.60</td>\n",
       "      <td>1026.0</td>\n",
       "      <td>262.67</td>\n",
       "      <td>9.3</td>\n",
       "      <td>1.0</td>\n",
       "      <td>q1_q17_dr25_tce</td>\n",
       "      <td>6065.0</td>\n",
       "      <td>4.495</td>\n",
       "      <td>0.947</td>\n",
       "      <td>293.43494</td>\n",
       "      <td>46.039440</td>\n",
       "      <td>13.811</td>\n",
       "      <td>CANDIDATE</td>\n",
       "    </tr>\n",
       "    <tr>\n",
       "      <th>9553</th>\n",
       "      <td>1.985146</td>\n",
       "      <td>132.026820</td>\n",
       "      <td>0.126</td>\n",
       "      <td>1.6250</td>\n",
       "      <td>233.4</td>\n",
       "      <td>1.28</td>\n",
       "      <td>1299.0</td>\n",
       "      <td>675.28</td>\n",
       "      <td>11.0</td>\n",
       "      <td>1.0</td>\n",
       "      <td>q1_q17_dr25_tce</td>\n",
       "      <td>5581.0</td>\n",
       "      <td>4.559</td>\n",
       "      <td>0.845</td>\n",
       "      <td>282.03058</td>\n",
       "      <td>46.750809</td>\n",
       "      <td>15.988</td>\n",
       "      <td>CANDIDATE</td>\n",
       "    </tr>\n",
       "    <tr>\n",
       "      <th>9555</th>\n",
       "      <td>5.825617</td>\n",
       "      <td>136.036900</td>\n",
       "      <td>0.635</td>\n",
       "      <td>3.2460</td>\n",
       "      <td>142.8</td>\n",
       "      <td>1.21</td>\n",
       "      <td>1037.0</td>\n",
       "      <td>273.08</td>\n",
       "      <td>9.2</td>\n",
       "      <td>1.0</td>\n",
       "      <td>q1_q17_dr25_tce</td>\n",
       "      <td>5999.0</td>\n",
       "      <td>4.459</td>\n",
       "      <td>0.967</td>\n",
       "      <td>297.58023</td>\n",
       "      <td>46.719952</td>\n",
       "      <td>15.449</td>\n",
       "      <td>CANDIDATE</td>\n",
       "    </tr>\n",
       "    <tr>\n",
       "      <th>9562</th>\n",
       "      <td>1.739849</td>\n",
       "      <td>133.001270</td>\n",
       "      <td>0.043</td>\n",
       "      <td>3.1140</td>\n",
       "      <td>48.5</td>\n",
       "      <td>0.72</td>\n",
       "      <td>1608.0</td>\n",
       "      <td>1585.81</td>\n",
       "      <td>10.6</td>\n",
       "      <td>1.0</td>\n",
       "      <td>q1_q17_dr25_tce</td>\n",
       "      <td>6119.0</td>\n",
       "      <td>4.444</td>\n",
       "      <td>1.031</td>\n",
       "      <td>286.50937</td>\n",
       "      <td>47.163219</td>\n",
       "      <td>14.757</td>\n",
       "      <td>CANDIDATE</td>\n",
       "    </tr>\n",
       "  </tbody>\n",
       "</table>\n",
       "<p>4038 rows × 18 columns</p>\n",
       "</div>"
      ],
      "text/plain": [
       "      koi_period  koi_time0bk  koi_impact  koi_duration  koi_depth  koi_prad  \\\n",
       "6       2.696371   170.737690       0.044        3.6129      397.9      1.58   \n",
       "8       1.506354   170.998064       0.860        1.5155     2211.7      4.53   \n",
       "11      2.701288   170.695790       1.016        3.3827      860.4      6.54   \n",
       "16      3.341913   171.639430       1.213        3.8130      725.3     21.55   \n",
       "17      1.626630   169.820171       1.260        2.1145     1620.6     32.43   \n",
       "...          ...          ...         ...           ...        ...       ...   \n",
       "9549    0.805942   132.127874       1.339        1.4432     3180.4     29.85   \n",
       "9552    5.887704   135.037380       0.185        4.0090       39.7      0.60   \n",
       "9553    1.985146   132.026820       0.126        1.6250      233.4      1.28   \n",
       "9555    5.825617   136.036900       0.635        3.2460      142.8      1.21   \n",
       "9562    1.739849   133.001270       0.043        3.1140       48.5      0.72   \n",
       "\n",
       "      koi_teq  koi_insol  koi_model_snr  koi_tce_plnt_num koi_tce_delivname  \\\n",
       "6      1066.0     305.34           48.2               1.0   q1_q17_dr25_tce   \n",
       "8      1452.0    1054.12          181.1               1.0   q1_q17_dr25_tce   \n",
       "11     1222.0     527.81           48.3               1.0   q1_q17_dr25_tce   \n",
       "16     1032.0     268.67           39.0               1.0   q1_q17_dr25_tce   \n",
       "17     1547.0    1355.88          103.6               1.0   q1_q17_dr25_tce   \n",
       "...       ...        ...            ...               ...               ...   \n",
       "9549   1498.0    1189.65           55.4               1.0   q1_q17_dr25_tce   \n",
       "9552   1026.0     262.67            9.3               1.0   q1_q17_dr25_tce   \n",
       "9553   1299.0     675.28           11.0               1.0   q1_q17_dr25_tce   \n",
       "9555   1037.0     273.08            9.2               1.0   q1_q17_dr25_tce   \n",
       "9562   1608.0    1585.81           10.6               1.0   q1_q17_dr25_tce   \n",
       "\n",
       "      koi_steff  koi_slogg  koi_srad         ra        dec  koi_kepmag  \\\n",
       "6        4989.0      4.504     0.819  283.76547  47.804298      15.269   \n",
       "8        5714.0      4.563     0.831  295.66522  49.351009      15.525   \n",
       "11       5550.0      4.468     0.910  297.92365  48.777321      15.540   \n",
       "16       5295.0      4.551     0.811  292.31595  38.270290      15.629   \n",
       "17       5735.0      4.410     0.973  294.36819  38.310280      15.279   \n",
       "...         ...        ...       ...        ...        ...         ...   \n",
       "9549     5022.0      4.597     0.672  291.55447  51.043201      14.169   \n",
       "9552     6065.0      4.495     0.947  293.43494  46.039440      13.811   \n",
       "9553     5581.0      4.559     0.845  282.03058  46.750809      15.988   \n",
       "9555     5999.0      4.459     0.967  297.58023  46.719952      15.449   \n",
       "9562     6119.0      4.444     1.031  286.50937  47.163219      14.757   \n",
       "\n",
       "               label  \n",
       "6     FALSE POSITIVE  \n",
       "8     FALSE POSITIVE  \n",
       "11    FALSE POSITIVE  \n",
       "16    FALSE POSITIVE  \n",
       "17    FALSE POSITIVE  \n",
       "...              ...  \n",
       "9549       CANDIDATE  \n",
       "9552       CANDIDATE  \n",
       "9553       CANDIDATE  \n",
       "9555       CANDIDATE  \n",
       "9562       CANDIDATE  \n",
       "\n",
       "[4038 rows x 18 columns]"
      ]
     },
     "execution_count": 627,
     "metadata": {},
     "output_type": "execute_result"
    }
   ],
   "source": [
    "df_no_outliers"
   ]
  },
  {
   "cell_type": "code",
   "execution_count": 628,
   "id": "7fa9760d-bb7e-4bc5-8987-c79b15ef0511",
   "metadata": {
    "tags": []
   },
   "outputs": [
    {
     "data": {
      "text/plain": [
       "label\n",
       "CONFIRMED         2025\n",
       "FALSE POSITIVE    1051\n",
       "CANDIDATE          962\n",
       "Name: count, dtype: int64"
      ]
     },
     "execution_count": 628,
     "metadata": {},
     "output_type": "execute_result"
    }
   ],
   "source": [
    "df_no_outliers.label.value_counts()"
   ]
  },
  {
   "cell_type": "code",
   "execution_count": 632,
   "id": "ce82010e-ceb0-4000-a052-7b794717a269",
   "metadata": {
    "tags": []
   },
   "outputs": [
    {
     "data": {
      "text/plain": [
       "(4038, 18)"
      ]
     },
     "execution_count": 632,
     "metadata": {},
     "output_type": "execute_result"
    }
   ],
   "source": [
    "df_no_outliers.shape"
   ]
  },
  {
   "cell_type": "code",
   "execution_count": 630,
   "id": "a54027a1-efb6-4b28-983b-ba61b839c4e3",
   "metadata": {
    "tags": []
   },
   "outputs": [
    {
     "data": {
      "image/png": "[encoded data removed]",
      "text/plain": [
       "<Figure size 1500x1000 with 16 Axes>"
      ]
     },
     "metadata": {},
     "output_type": "display_data"
    }
   ],
   "source": [
    "fig, ax = plt.subplots(4, 4, figsize=(15, 10))\n",
    "for var, subplot in zip(numeric_columns, ax.flatten()):\n",
    "    sns.boxplot(x=var, data=df_no_outliers, ax=subplot)\n",
    "plt.tight_layout()\n",
    "plt.savefig('boxplots2.png', dpi=300, bbox_inches='tight') "
   ]
  },
  {
   "cell_type": "code",
   "execution_count": 476,
   "id": "73672f09-71b9-483a-9ea3-67a755f6f103",
   "metadata": {
    "tags": []
   },
   "outputs": [
    {
     "data": {
      "text/html": [
       "<div>\n",
       "<style scoped>\n",
       "    .dataframe tbody tr th:only-of-type {\n",
       "        vertical-align: middle;\n",
       "    }\n",
       "\n",
       "    .dataframe tbody tr th {\n",
       "        vertical-align: top;\n",
       "    }\n",
       "\n",
       "    .dataframe thead th {\n",
       "        text-align: right;\n",
       "    }\n",
       "</style>\n",
       "<table border=\"1\" class=\"dataframe\">\n",
       "  <thead>\n",
       "    <tr style=\"text-align: right;\">\n",
       "      <th></th>\n",
       "      <th>koi_period</th>\n",
       "      <th>koi_time0bk</th>\n",
       "      <th>koi_impact</th>\n",
       "      <th>koi_duration</th>\n",
       "      <th>koi_depth</th>\n",
       "      <th>koi_prad</th>\n",
       "      <th>koi_teq</th>\n",
       "      <th>koi_insol</th>\n",
       "      <th>koi_model_snr</th>\n",
       "      <th>koi_tce_plnt_num</th>\n",
       "      <th>koi_steff</th>\n",
       "      <th>koi_slogg</th>\n",
       "      <th>koi_srad</th>\n",
       "      <th>ra</th>\n",
       "      <th>dec</th>\n",
       "      <th>koi_kepmag</th>\n",
       "    </tr>\n",
       "  </thead>\n",
       "  <tbody>\n",
       "    <tr>\n",
       "      <th>count</th>\n",
       "      <td>4038.000000</td>\n",
       "      <td>4038.000000</td>\n",
       "      <td>4038.000000</td>\n",
       "      <td>4038.000000</td>\n",
       "      <td>4038.000000</td>\n",
       "      <td>4038.000000</td>\n",
       "      <td>4038.000000</td>\n",
       "      <td>4038.000000</td>\n",
       "      <td>4038.000000</td>\n",
       "      <td>4038.000000</td>\n",
       "      <td>4038.000000</td>\n",
       "      <td>4038.000000</td>\n",
       "      <td>4038.000000</td>\n",
       "      <td>4038.000000</td>\n",
       "      <td>4038.000000</td>\n",
       "      <td>4038.000000</td>\n",
       "    </tr>\n",
       "    <tr>\n",
       "      <th>mean</th>\n",
       "      <td>14.596746</td>\n",
       "      <td>143.934674</td>\n",
       "      <td>0.486768</td>\n",
       "      <td>3.747471</td>\n",
       "      <td>423.800966</td>\n",
       "      <td>3.058115</td>\n",
       "      <td>933.700594</td>\n",
       "      <td>354.180537</td>\n",
       "      <td>28.768326</td>\n",
       "      <td>1.322437</td>\n",
       "      <td>5617.961119</td>\n",
       "      <td>4.432115</td>\n",
       "      <td>1.001978</td>\n",
       "      <td>291.763169</td>\n",
       "      <td>43.988621</td>\n",
       "      <td>14.499981</td>\n",
       "    </tr>\n",
       "    <tr>\n",
       "      <th>std</th>\n",
       "      <td>15.997753</td>\n",
       "      <td>16.135299</td>\n",
       "      <td>0.357752</td>\n",
       "      <td>2.031751</td>\n",
       "      <td>462.757836</td>\n",
       "      <td>5.246393</td>\n",
       "      <td>346.839125</td>\n",
       "      <td>482.515924</td>\n",
       "      <td>27.245496</td>\n",
       "      <td>0.714371</td>\n",
       "      <td>520.714555</td>\n",
       "      <td>0.169286</td>\n",
       "      <td>0.280506</td>\n",
       "      <td>4.777610</td>\n",
       "      <td>3.628314</td>\n",
       "      <td>1.094501</td>\n",
       "    </tr>\n",
       "    <tr>\n",
       "      <th>min</th>\n",
       "      <td>0.379412</td>\n",
       "      <td>122.946820</td>\n",
       "      <td>0.000000</td>\n",
       "      <td>0.104600</td>\n",
       "      <td>1.700000</td>\n",
       "      <td>0.080000</td>\n",
       "      <td>277.000000</td>\n",
       "      <td>1.400000</td>\n",
       "      <td>0.800000</td>\n",
       "      <td>1.000000</td>\n",
       "      <td>4090.000000</td>\n",
       "      <td>3.797000</td>\n",
       "      <td>0.480000</td>\n",
       "      <td>280.206600</td>\n",
       "      <td>36.743610</td>\n",
       "      <td>10.687000</td>\n",
       "    </tr>\n",
       "    <tr>\n",
       "      <th>25%</th>\n",
       "      <td>3.741716</td>\n",
       "      <td>133.094472</td>\n",
       "      <td>0.153000</td>\n",
       "      <td>2.264025</td>\n",
       "      <td>128.900000</td>\n",
       "      <td>1.170000</td>\n",
       "      <td>657.000000</td>\n",
       "      <td>44.112500</td>\n",
       "      <td>11.800000</td>\n",
       "      <td>1.000000</td>\n",
       "      <td>5311.000000</td>\n",
       "      <td>4.348000</td>\n",
       "      <td>0.812000</td>\n",
       "      <td>288.234740</td>\n",
       "      <td>40.985446</td>\n",
       "      <td>13.799000</td>\n",
       "    </tr>\n",
       "    <tr>\n",
       "      <th>50%</th>\n",
       "      <td>8.479916</td>\n",
       "      <td>136.323990</td>\n",
       "      <td>0.450500</td>\n",
       "      <td>3.295500</td>\n",
       "      <td>267.300000</td>\n",
       "      <td>1.680000</td>\n",
       "      <td>883.500000</td>\n",
       "      <td>144.155000</td>\n",
       "      <td>18.900000</td>\n",
       "      <td>1.000000</td>\n",
       "      <td>5689.000000</td>\n",
       "      <td>4.472000</td>\n",
       "      <td>0.941000</td>\n",
       "      <td>291.960130</td>\n",
       "      <td>43.932159</td>\n",
       "      <td>14.731500</td>\n",
       "    </tr>\n",
       "    <tr>\n",
       "      <th>75%</th>\n",
       "      <td>18.964884</td>\n",
       "      <td>146.945022</td>\n",
       "      <td>0.786000</td>\n",
       "      <td>4.763750</td>\n",
       "      <td>551.600000</td>\n",
       "      <td>2.540000</td>\n",
       "      <td>1166.000000</td>\n",
       "      <td>437.725000</td>\n",
       "      <td>35.300000</td>\n",
       "      <td>1.000000</td>\n",
       "      <td>6003.000000</td>\n",
       "      <td>4.555000</td>\n",
       "      <td>1.116000</td>\n",
       "      <td>295.542507</td>\n",
       "      <td>46.837564</td>\n",
       "      <td>15.366500</td>\n",
       "    </tr>\n",
       "    <tr>\n",
       "      <th>max</th>\n",
       "      <td>80.519237</td>\n",
       "      <td>225.046040</td>\n",
       "      <td>1.339000</td>\n",
       "      <td>11.641100</td>\n",
       "      <td>3529.200000</td>\n",
       "      <td>36.930000</td>\n",
       "      <td>1743.000000</td>\n",
       "      <td>2180.390000</td>\n",
       "      <td>181.900000</td>\n",
       "      <td>7.000000</td>\n",
       "      <td>7121.000000</td>\n",
       "      <td>4.761000</td>\n",
       "      <td>2.113000</td>\n",
       "      <td>301.720760</td>\n",
       "      <td>52.336010</td>\n",
       "      <td>17.511000</td>\n",
       "    </tr>\n",
       "  </tbody>\n",
       "</table>\n",
       "</div>"
      ],
      "text/plain": [
       "        koi_period  koi_time0bk   koi_impact  koi_duration    koi_depth  \\\n",
       "count  4038.000000  4038.000000  4038.000000   4038.000000  4038.000000   \n",
       "mean     14.596746   143.934674     0.486768      3.747471   423.800966   \n",
       "std      15.997753    16.135299     0.357752      2.031751   462.757836   \n",
       "min       0.379412   122.946820     0.000000      0.104600     1.700000   \n",
       "25%       3.741716   133.094472     0.153000      2.264025   128.900000   \n",
       "50%       8.479916   136.323990     0.450500      3.295500   267.300000   \n",
       "75%      18.964884   146.945022     0.786000      4.763750   551.600000   \n",
       "max      80.519237   225.046040     1.339000     11.641100  3529.200000   \n",
       "\n",
       "          koi_prad      koi_teq    koi_insol  koi_model_snr  koi_tce_plnt_num  \\\n",
       "count  4038.000000  4038.000000  4038.000000    4038.000000       4038.000000   \n",
       "mean      3.058115   933.700594   354.180537      28.768326          1.322437   \n",
       "std       5.246393   346.839125   482.515924      27.245496          0.714371   \n",
       "min       0.080000   277.000000     1.400000       0.800000          1.000000   \n",
       "25%       1.170000   657.000000    44.112500      11.800000          1.000000   \n",
       "50%       1.680000   883.500000   144.155000      18.900000          1.000000   \n",
       "75%       2.540000  1166.000000   437.725000      35.300000          1.000000   \n",
       "max      36.930000  1743.000000  2180.390000     181.900000          7.000000   \n",
       "\n",
       "         koi_steff    koi_slogg     koi_srad           ra          dec  \\\n",
       "count  4038.000000  4038.000000  4038.000000  4038.000000  4038.000000   \n",
       "mean   5617.961119     4.432115     1.001978   291.763169    43.988621   \n",
       "std     520.714555     0.169286     0.280506     4.777610     3.628314   \n",
       "min    4090.000000     3.797000     0.480000   280.206600    36.743610   \n",
       "25%    5311.000000     4.348000     0.812000   288.234740    40.985446   \n",
       "50%    5689.000000     4.472000     0.941000   291.960130    43.932159   \n",
       "75%    6003.000000     4.555000     1.116000   295.542507    46.837564   \n",
       "max    7121.000000     4.761000     2.113000   301.720760    52.336010   \n",
       "\n",
       "        koi_kepmag  \n",
       "count  4038.000000  \n",
       "mean     14.499981  \n",
       "std       1.094501  \n",
       "min      10.687000  \n",
       "25%      13.799000  \n",
       "50%      14.731500  \n",
       "75%      15.366500  \n",
       "max      17.511000  "
      ]
     },
     "execution_count": 476,
     "metadata": {},
     "output_type": "execute_result"
    }
   ],
   "source": [
    "df_no_outliers.describe()"
   ]
  },
  {
   "cell_type": "code",
   "execution_count": 478,
   "id": "05588611-fa7b-48f1-8fbd-36974dd9b0c3",
   "metadata": {
    "tags": []
   },
   "outputs": [],
   "source": [
    "unknown=df_no_outliers[df_no_outliers['label']=='CANDIDATE']\n",
    "known=df_no_outliers[df_no_outliers['label']!='CANDIDATE']"
   ]
  },
  {
   "cell_type": "code",
   "execution_count": 479,
   "id": "8f60e29f-8f95-4f58-a2dd-9fe7da6de102",
   "metadata": {
    "tags": []
   },
   "outputs": [],
   "source": [
    "known['label'] = known.label.replace('FALSE POSITIVE',0).replace('CONFIRMED',1).astype(int)"
   ]
  },
  {
   "cell_type": "code",
   "execution_count": 480,
   "id": "0ff04c92-5e55-4a01-8f3c-0566d2a222d4",
   "metadata": {
    "tags": []
   },
   "outputs": [
    {
     "data": {
      "text/plain": [
       "(991, 18)"
      ]
     },
     "execution_count": 480,
     "metadata": {},
     "output_type": "execute_result"
    }
   ],
   "source": [
    "candidates.shape"
   ]
  },
  {
   "cell_type": "code",
   "execution_count": 481,
   "id": "31b38d4c-ad3b-48cd-8238-74af31ef6fd3",
   "metadata": {
    "tags": []
   },
   "outputs": [
    {
     "data": {
      "text/plain": [
       "(3076, 18)"
      ]
     },
     "execution_count": 481,
     "metadata": {},
     "output_type": "execute_result"
    }
   ],
   "source": [
    "known.shape"
   ]
  },
  {
   "cell_type": "markdown",
   "id": "0f19743e-a8d1-44d3-bdde-f806e67fb1a3",
   "metadata": {},
   "source": [
    "## Feature engineering"
   ]
  },
  {
   "cell_type": "code",
   "execution_count": 482,
   "id": "3dbf1f2d-d7ae-4d74-b13d-5e68a723204c",
   "metadata": {
    "tags": []
   },
   "outputs": [],
   "source": [
    "df_known=pd.get_dummies(known, columns=['koi_tce_delivname'], dtype=int)"
   ]
  },
  {
   "cell_type": "code",
   "execution_count": 483,
   "id": "5ad4766b-3258-4fdb-85f1-a0ee95d7b841",
   "metadata": {
    "tags": []
   },
   "outputs": [
    {
     "data": {
      "text/html": [
       "<div>\n",
       "<style scoped>\n",
       "    .dataframe tbody tr th:only-of-type {\n",
       "        vertical-align: middle;\n",
       "    }\n",
       "\n",
       "    .dataframe tbody tr th {\n",
       "        vertical-align: top;\n",
       "    }\n",
       "\n",
       "    .dataframe thead th {\n",
       "        text-align: right;\n",
       "    }\n",
       "</style>\n",
       "<table border=\"1\" class=\"dataframe\">\n",
       "  <thead>\n",
       "    <tr style=\"text-align: right;\">\n",
       "      <th></th>\n",
       "      <th>koi_period</th>\n",
       "      <th>koi_time0bk</th>\n",
       "      <th>koi_impact</th>\n",
       "      <th>koi_duration</th>\n",
       "      <th>koi_depth</th>\n",
       "      <th>koi_prad</th>\n",
       "      <th>koi_teq</th>\n",
       "      <th>koi_insol</th>\n",
       "      <th>koi_model_snr</th>\n",
       "      <th>koi_tce_plnt_num</th>\n",
       "      <th>koi_steff</th>\n",
       "      <th>koi_slogg</th>\n",
       "      <th>koi_srad</th>\n",
       "      <th>ra</th>\n",
       "      <th>dec</th>\n",
       "      <th>koi_kepmag</th>\n",
       "      <th>label</th>\n",
       "      <th>koi_tce_delivname_q1_q16_tce</th>\n",
       "      <th>koi_tce_delivname_q1_q17_dr24_tce</th>\n",
       "      <th>koi_tce_delivname_q1_q17_dr25_tce</th>\n",
       "    </tr>\n",
       "  </thead>\n",
       "  <tbody>\n",
       "    <tr>\n",
       "      <th>6</th>\n",
       "      <td>2.696371</td>\n",
       "      <td>170.737690</td>\n",
       "      <td>0.044</td>\n",
       "      <td>3.6129</td>\n",
       "      <td>397.9</td>\n",
       "      <td>1.58</td>\n",
       "      <td>1066.0</td>\n",
       "      <td>305.34</td>\n",
       "      <td>48.2</td>\n",
       "      <td>1.0</td>\n",
       "      <td>4989.0</td>\n",
       "      <td>4.504</td>\n",
       "      <td>0.819</td>\n",
       "      <td>283.76547</td>\n",
       "      <td>47.804298</td>\n",
       "      <td>15.269</td>\n",
       "      <td>0</td>\n",
       "      <td>0</td>\n",
       "      <td>0</td>\n",
       "      <td>1</td>\n",
       "    </tr>\n",
       "    <tr>\n",
       "      <th>8</th>\n",
       "      <td>1.506354</td>\n",
       "      <td>170.998064</td>\n",
       "      <td>0.860</td>\n",
       "      <td>1.5155</td>\n",
       "      <td>2211.7</td>\n",
       "      <td>4.53</td>\n",
       "      <td>1452.0</td>\n",
       "      <td>1054.12</td>\n",
       "      <td>181.1</td>\n",
       "      <td>1.0</td>\n",
       "      <td>5714.0</td>\n",
       "      <td>4.563</td>\n",
       "      <td>0.831</td>\n",
       "      <td>295.66522</td>\n",
       "      <td>49.351009</td>\n",
       "      <td>15.525</td>\n",
       "      <td>0</td>\n",
       "      <td>0</td>\n",
       "      <td>0</td>\n",
       "      <td>1</td>\n",
       "    </tr>\n",
       "    <tr>\n",
       "      <th>11</th>\n",
       "      <td>2.701288</td>\n",
       "      <td>170.695790</td>\n",
       "      <td>1.016</td>\n",
       "      <td>3.3827</td>\n",
       "      <td>860.4</td>\n",
       "      <td>6.54</td>\n",
       "      <td>1222.0</td>\n",
       "      <td>527.81</td>\n",
       "      <td>48.3</td>\n",
       "      <td>1.0</td>\n",
       "      <td>5550.0</td>\n",
       "      <td>4.468</td>\n",
       "      <td>0.910</td>\n",
       "      <td>297.92365</td>\n",
       "      <td>48.777321</td>\n",
       "      <td>15.540</td>\n",
       "      <td>0</td>\n",
       "      <td>0</td>\n",
       "      <td>0</td>\n",
       "      <td>1</td>\n",
       "    </tr>\n",
       "    <tr>\n",
       "      <th>16</th>\n",
       "      <td>3.341913</td>\n",
       "      <td>171.639430</td>\n",
       "      <td>1.213</td>\n",
       "      <td>3.8130</td>\n",
       "      <td>725.3</td>\n",
       "      <td>21.55</td>\n",
       "      <td>1032.0</td>\n",
       "      <td>268.67</td>\n",
       "      <td>39.0</td>\n",
       "      <td>1.0</td>\n",
       "      <td>5295.0</td>\n",
       "      <td>4.551</td>\n",
       "      <td>0.811</td>\n",
       "      <td>292.31595</td>\n",
       "      <td>38.270290</td>\n",
       "      <td>15.629</td>\n",
       "      <td>0</td>\n",
       "      <td>0</td>\n",
       "      <td>0</td>\n",
       "      <td>1</td>\n",
       "    </tr>\n",
       "    <tr>\n",
       "      <th>17</th>\n",
       "      <td>1.626630</td>\n",
       "      <td>169.820171</td>\n",
       "      <td>1.260</td>\n",
       "      <td>2.1145</td>\n",
       "      <td>1620.6</td>\n",
       "      <td>32.43</td>\n",
       "      <td>1547.0</td>\n",
       "      <td>1355.88</td>\n",
       "      <td>103.6</td>\n",
       "      <td>1.0</td>\n",
       "      <td>5735.0</td>\n",
       "      <td>4.410</td>\n",
       "      <td>0.973</td>\n",
       "      <td>294.36819</td>\n",
       "      <td>38.310280</td>\n",
       "      <td>15.279</td>\n",
       "      <td>0</td>\n",
       "      <td>0</td>\n",
       "      <td>0</td>\n",
       "      <td>1</td>\n",
       "    </tr>\n",
       "  </tbody>\n",
       "</table>\n",
       "</div>"
      ],
      "text/plain": [
       "    koi_period  koi_time0bk  koi_impact  koi_duration  koi_depth  koi_prad  \\\n",
       "6     2.696371   170.737690       0.044        3.6129      397.9      1.58   \n",
       "8     1.506354   170.998064       0.860        1.5155     2211.7      4.53   \n",
       "11    2.701288   170.695790       1.016        3.3827      860.4      6.54   \n",
       "16    3.341913   171.639430       1.213        3.8130      725.3     21.55   \n",
       "17    1.626630   169.820171       1.260        2.1145     1620.6     32.43   \n",
       "\n",
       "    koi_teq  koi_insol  koi_model_snr  koi_tce_plnt_num  koi_steff  koi_slogg  \\\n",
       "6    1066.0     305.34           48.2               1.0     4989.0      4.504   \n",
       "8    1452.0    1054.12          181.1               1.0     5714.0      4.563   \n",
       "11   1222.0     527.81           48.3               1.0     5550.0      4.468   \n",
       "16   1032.0     268.67           39.0               1.0     5295.0      4.551   \n",
       "17   1547.0    1355.88          103.6               1.0     5735.0      4.410   \n",
       "\n",
       "    koi_srad         ra        dec  koi_kepmag  label  \\\n",
       "6      0.819  283.76547  47.804298      15.269      0   \n",
       "8      0.831  295.66522  49.351009      15.525      0   \n",
       "11     0.910  297.92365  48.777321      15.540      0   \n",
       "16     0.811  292.31595  38.270290      15.629      0   \n",
       "17     0.973  294.36819  38.310280      15.279      0   \n",
       "\n",
       "    koi_tce_delivname_q1_q16_tce  koi_tce_delivname_q1_q17_dr24_tce  \\\n",
       "6                              0                                  0   \n",
       "8                              0                                  0   \n",
       "11                             0                                  0   \n",
       "16                             0                                  0   \n",
       "17                             0                                  0   \n",
       "\n",
       "    koi_tce_delivname_q1_q17_dr25_tce  \n",
       "6                                   1  \n",
       "8                                   1  \n",
       "11                                  1  \n",
       "16                                  1  \n",
       "17                                  1  "
      ]
     },
     "execution_count": 483,
     "metadata": {},
     "output_type": "execute_result"
    }
   ],
   "source": [
    "df_known.head()"
   ]
  },
  {
   "cell_type": "code",
   "execution_count": 484,
   "id": "e18dcf24-a8c0-4457-be21-b1b926dbd796",
   "metadata": {
    "tags": []
   },
   "outputs": [
    {
     "data": {
      "text/html": [
       "<div>\n",
       "<style scoped>\n",
       "    .dataframe tbody tr th:only-of-type {\n",
       "        vertical-align: middle;\n",
       "    }\n",
       "\n",
       "    .dataframe tbody tr th {\n",
       "        vertical-align: top;\n",
       "    }\n",
       "\n",
       "    .dataframe thead th {\n",
       "        text-align: right;\n",
       "    }\n",
       "</style>\n",
       "<table border=\"1\" class=\"dataframe\">\n",
       "  <thead>\n",
       "    <tr style=\"text-align: right;\">\n",
       "      <th></th>\n",
       "      <th>koi_period</th>\n",
       "      <th>koi_time0bk</th>\n",
       "      <th>koi_impact</th>\n",
       "      <th>koi_duration</th>\n",
       "      <th>koi_depth</th>\n",
       "      <th>koi_prad</th>\n",
       "      <th>koi_teq</th>\n",
       "      <th>koi_insol</th>\n",
       "      <th>koi_model_snr</th>\n",
       "      <th>koi_tce_plnt_num</th>\n",
       "      <th>koi_steff</th>\n",
       "      <th>koi_slogg</th>\n",
       "      <th>koi_srad</th>\n",
       "      <th>ra</th>\n",
       "      <th>dec</th>\n",
       "      <th>koi_kepmag</th>\n",
       "      <th>label</th>\n",
       "      <th>koi_tce_delivname_q1_q16_tce</th>\n",
       "      <th>koi_tce_delivname_q1_q17_dr24_tce</th>\n",
       "      <th>koi_tce_delivname_q1_q17_dr25_tce</th>\n",
       "    </tr>\n",
       "  </thead>\n",
       "  <tbody>\n",
       "    <tr>\n",
       "      <th>count</th>\n",
       "      <td>3076.000000</td>\n",
       "      <td>3076.000000</td>\n",
       "      <td>3076.000000</td>\n",
       "      <td>3076.000000</td>\n",
       "      <td>3076.000000</td>\n",
       "      <td>3076.000000</td>\n",
       "      <td>3076.000000</td>\n",
       "      <td>3076.000000</td>\n",
       "      <td>3076.000000</td>\n",
       "      <td>3076.000000</td>\n",
       "      <td>3076.000000</td>\n",
       "      <td>3076.000000</td>\n",
       "      <td>3076.000000</td>\n",
       "      <td>3076.000000</td>\n",
       "      <td>3076.000000</td>\n",
       "      <td>3076.000000</td>\n",
       "      <td>3076.000000</td>\n",
       "      <td>3076.000000</td>\n",
       "      <td>3076.000000</td>\n",
       "      <td>3076.000000</td>\n",
       "    </tr>\n",
       "    <tr>\n",
       "      <th>mean</th>\n",
       "      <td>13.847088</td>\n",
       "      <td>144.830966</td>\n",
       "      <td>0.506337</td>\n",
       "      <td>3.801509</td>\n",
       "      <td>470.277276</td>\n",
       "      <td>3.358872</td>\n",
       "      <td>949.210663</td>\n",
       "      <td>379.134698</td>\n",
       "      <td>33.634785</td>\n",
       "      <td>1.312094</td>\n",
       "      <td>5596.644018</td>\n",
       "      <td>4.435900</td>\n",
       "      <td>0.994348</td>\n",
       "      <td>291.770069</td>\n",
       "      <td>43.990308</td>\n",
       "      <td>14.493101</td>\n",
       "      <td>0.658322</td>\n",
       "      <td>0.011378</td>\n",
       "      <td>0.018856</td>\n",
       "      <td>0.969766</td>\n",
       "    </tr>\n",
       "    <tr>\n",
       "      <th>std</th>\n",
       "      <td>15.295081</td>\n",
       "      <td>17.007806</td>\n",
       "      <td>0.364269</td>\n",
       "      <td>2.002612</td>\n",
       "      <td>478.919822</td>\n",
       "      <td>5.617670</td>\n",
       "      <td>354.529941</td>\n",
       "      <td>507.331260</td>\n",
       "      <td>28.943129</td>\n",
       "      <td>0.705470</td>\n",
       "      <td>517.791055</td>\n",
       "      <td>0.166266</td>\n",
       "      <td>0.274675</td>\n",
       "      <td>4.759059</td>\n",
       "      <td>3.606128</td>\n",
       "      <td>1.081854</td>\n",
       "      <td>0.474349</td>\n",
       "      <td>0.106078</td>\n",
       "      <td>0.136037</td>\n",
       "      <td>0.171259</td>\n",
       "    </tr>\n",
       "    <tr>\n",
       "      <th>min</th>\n",
       "      <td>0.379412</td>\n",
       "      <td>122.946820</td>\n",
       "      <td>0.000000</td>\n",
       "      <td>0.104600</td>\n",
       "      <td>1.700000</td>\n",
       "      <td>0.080000</td>\n",
       "      <td>277.000000</td>\n",
       "      <td>1.400000</td>\n",
       "      <td>0.800000</td>\n",
       "      <td>1.000000</td>\n",
       "      <td>4090.000000</td>\n",
       "      <td>3.797000</td>\n",
       "      <td>0.501000</td>\n",
       "      <td>280.206600</td>\n",
       "      <td>36.743610</td>\n",
       "      <td>10.787000</td>\n",
       "      <td>0.000000</td>\n",
       "      <td>0.000000</td>\n",
       "      <td>0.000000</td>\n",
       "      <td>0.000000</td>\n",
       "    </tr>\n",
       "    <tr>\n",
       "      <th>25%</th>\n",
       "      <td>3.403222</td>\n",
       "      <td>133.025360</td>\n",
       "      <td>0.160000</td>\n",
       "      <td>2.350875</td>\n",
       "      <td>153.475000</td>\n",
       "      <td>1.270000</td>\n",
       "      <td>665.000000</td>\n",
       "      <td>46.272500</td>\n",
       "      <td>15.300000</td>\n",
       "      <td>1.000000</td>\n",
       "      <td>5288.000000</td>\n",
       "      <td>4.354000</td>\n",
       "      <td>0.811000</td>\n",
       "      <td>288.236020</td>\n",
       "      <td>40.993062</td>\n",
       "      <td>13.795500</td>\n",
       "      <td>0.000000</td>\n",
       "      <td>0.000000</td>\n",
       "      <td>0.000000</td>\n",
       "      <td>1.000000</td>\n",
       "    </tr>\n",
       "    <tr>\n",
       "      <th>50%</th>\n",
       "      <td>8.042974</td>\n",
       "      <td>136.454990</td>\n",
       "      <td>0.498500</td>\n",
       "      <td>3.344500</td>\n",
       "      <td>313.100000</td>\n",
       "      <td>1.850000</td>\n",
       "      <td>895.000000</td>\n",
       "      <td>151.655000</td>\n",
       "      <td>23.300000</td>\n",
       "      <td>1.000000</td>\n",
       "      <td>5675.000000</td>\n",
       "      <td>4.473500</td>\n",
       "      <td>0.934500</td>\n",
       "      <td>291.960480</td>\n",
       "      <td>43.932159</td>\n",
       "      <td>14.707000</td>\n",
       "      <td>1.000000</td>\n",
       "      <td>0.000000</td>\n",
       "      <td>0.000000</td>\n",
       "      <td>1.000000</td>\n",
       "    </tr>\n",
       "    <tr>\n",
       "      <th>75%</th>\n",
       "      <td>18.123848</td>\n",
       "      <td>149.329245</td>\n",
       "      <td>0.812000</td>\n",
       "      <td>4.812750</td>\n",
       "      <td>626.475000</td>\n",
       "      <td>2.700000</td>\n",
       "      <td>1196.000000</td>\n",
       "      <td>484.272500</td>\n",
       "      <td>40.825000</td>\n",
       "      <td>1.000000</td>\n",
       "      <td>5977.000000</td>\n",
       "      <td>4.556000</td>\n",
       "      <td>1.107000</td>\n",
       "      <td>295.521950</td>\n",
       "      <td>46.838467</td>\n",
       "      <td>15.344750</td>\n",
       "      <td>1.000000</td>\n",
       "      <td>0.000000</td>\n",
       "      <td>0.000000</td>\n",
       "      <td>1.000000</td>\n",
       "    </tr>\n",
       "    <tr>\n",
       "      <th>max</th>\n",
       "      <td>80.519237</td>\n",
       "      <td>225.046040</td>\n",
       "      <td>1.334000</td>\n",
       "      <td>11.641100</td>\n",
       "      <td>3529.200000</td>\n",
       "      <td>36.930000</td>\n",
       "      <td>1743.000000</td>\n",
       "      <td>2180.390000</td>\n",
       "      <td>181.900000</td>\n",
       "      <td>7.000000</td>\n",
       "      <td>7121.000000</td>\n",
       "      <td>4.753000</td>\n",
       "      <td>2.113000</td>\n",
       "      <td>301.720760</td>\n",
       "      <td>52.336010</td>\n",
       "      <td>17.511000</td>\n",
       "      <td>1.000000</td>\n",
       "      <td>1.000000</td>\n",
       "      <td>1.000000</td>\n",
       "      <td>1.000000</td>\n",
       "    </tr>\n",
       "  </tbody>\n",
       "</table>\n",
       "</div>"
      ],
      "text/plain": [
       "        koi_period  koi_time0bk   koi_impact  koi_duration    koi_depth  \\\n",
       "count  3076.000000  3076.000000  3076.000000   3076.000000  3076.000000   \n",
       "mean     13.847088   144.830966     0.506337      3.801509   470.277276   \n",
       "std      15.295081    17.007806     0.364269      2.002612   478.919822   \n",
       "min       0.379412   122.946820     0.000000      0.104600     1.700000   \n",
       "25%       3.403222   133.025360     0.160000      2.350875   153.475000   \n",
       "50%       8.042974   136.454990     0.498500      3.344500   313.100000   \n",
       "75%      18.123848   149.329245     0.812000      4.812750   626.475000   \n",
       "max      80.519237   225.046040     1.334000     11.641100  3529.200000   \n",
       "\n",
       "          koi_prad      koi_teq    koi_insol  koi_model_snr  koi_tce_plnt_num  \\\n",
       "count  3076.000000  3076.000000  3076.000000    3076.000000       3076.000000   \n",
       "mean      3.358872   949.210663   379.134698      33.634785          1.312094   \n",
       "std       5.617670   354.529941   507.331260      28.943129          0.705470   \n",
       "min       0.080000   277.000000     1.400000       0.800000          1.000000   \n",
       "25%       1.270000   665.000000    46.272500      15.300000          1.000000   \n",
       "50%       1.850000   895.000000   151.655000      23.300000          1.000000   \n",
       "75%       2.700000  1196.000000   484.272500      40.825000          1.000000   \n",
       "max      36.930000  1743.000000  2180.390000     181.900000          7.000000   \n",
       "\n",
       "         koi_steff    koi_slogg     koi_srad           ra          dec  \\\n",
       "count  3076.000000  3076.000000  3076.000000  3076.000000  3076.000000   \n",
       "mean   5596.644018     4.435900     0.994348   291.770069    43.990308   \n",
       "std     517.791055     0.166266     0.274675     4.759059     3.606128   \n",
       "min    4090.000000     3.797000     0.501000   280.206600    36.743610   \n",
       "25%    5288.000000     4.354000     0.811000   288.236020    40.993062   \n",
       "50%    5675.000000     4.473500     0.934500   291.960480    43.932159   \n",
       "75%    5977.000000     4.556000     1.107000   295.521950    46.838467   \n",
       "max    7121.000000     4.753000     2.113000   301.720760    52.336010   \n",
       "\n",
       "        koi_kepmag        label  koi_tce_delivname_q1_q16_tce  \\\n",
       "count  3076.000000  3076.000000                   3076.000000   \n",
       "mean     14.493101     0.658322                      0.011378   \n",
       "std       1.081854     0.474349                      0.106078   \n",
       "min      10.787000     0.000000                      0.000000   \n",
       "25%      13.795500     0.000000                      0.000000   \n",
       "50%      14.707000     1.000000                      0.000000   \n",
       "75%      15.344750     1.000000                      0.000000   \n",
       "max      17.511000     1.000000                      1.000000   \n",
       "\n",
       "       koi_tce_delivname_q1_q17_dr24_tce  koi_tce_delivname_q1_q17_dr25_tce  \n",
       "count                        3076.000000                        3076.000000  \n",
       "mean                            0.018856                           0.969766  \n",
       "std                             0.136037                           0.171259  \n",
       "min                             0.000000                           0.000000  \n",
       "25%                             0.000000                           1.000000  \n",
       "50%                             0.000000                           1.000000  \n",
       "75%                             0.000000                           1.000000  \n",
       "max                             1.000000                           1.000000  "
      ]
     },
     "execution_count": 484,
     "metadata": {},
     "output_type": "execute_result"
    }
   ],
   "source": [
    "df_known.describe()"
   ]
  },
  {
   "cell_type": "code",
   "execution_count": 635,
   "id": "994cae32-34bf-4873-9c03-43f7fcd25570",
   "metadata": {
    "tags": []
   },
   "outputs": [
    {
     "data": {
      "image/png": "[encoded data removed]",
      "text/plain": [
       "<Figure size 640x480 with 1 Axes>"
      ]
     },
     "metadata": {},
     "output_type": "display_data"
    }
   ],
   "source": [
    "df_known.label.value_counts().plot.bar(color=['green', 'red'])\n",
    "plt.title('Distribution of labels')\n",
    "plt.savefig('labels.png', dpi=300, bbox_inches='tight')"
   ]
  },
  {
   "cell_type": "code",
   "execution_count": 486,
   "id": "e81cabfe-68a6-43d5-a84e-633062bd92f0",
   "metadata": {
    "tags": []
   },
   "outputs": [
    {
     "name": "stdout",
     "output_type": "stream",
     "text": [
      "<class 'pandas.core.frame.DataFrame'>\n",
      "Index: 3076 entries, 6 to 7581\n",
      "Data columns (total 20 columns):\n",
      " #   Column                             Non-Null Count  Dtype  \n",
      "---  ------                             --------------  -----  \n",
      " 0   koi_period                         3076 non-null   float64\n",
      " 1   koi_time0bk                        3076 non-null   float64\n",
      " 2   koi_impact                         3076 non-null   float64\n",
      " 3   koi_duration                       3076 non-null   float64\n",
      " 4   koi_depth                          3076 non-null   float64\n",
      " 5   koi_prad                           3076 non-null   float64\n",
      " 6   koi_teq                            3076 non-null   float64\n",
      " 7   koi_insol                          3076 non-null   float64\n",
      " 8   koi_model_snr                      3076 non-null   float64\n",
      " 9   koi_tce_plnt_num                   3076 non-null   float64\n",
      " 10  koi_steff                          3076 non-null   float64\n",
      " 11  koi_slogg                          3076 non-null   float64\n",
      " 12  koi_srad                           3076 non-null   float64\n",
      " 13  ra                                 3076 non-null   float64\n",
      " 14  dec                                3076 non-null   float64\n",
      " 15  koi_kepmag                         3076 non-null   float64\n",
      " 16  label                              3076 non-null   int32  \n",
      " 17  koi_tce_delivname_q1_q16_tce       3076 non-null   int32  \n",
      " 18  koi_tce_delivname_q1_q17_dr24_tce  3076 non-null   int32  \n",
      " 19  koi_tce_delivname_q1_q17_dr25_tce  3076 non-null   int32  \n",
      "dtypes: float64(16), int32(4)\n",
      "memory usage: 456.6 KB\n"
     ]
    }
   ],
   "source": [
    "df_known.info()"
   ]
  },
  {
   "cell_type": "markdown",
   "id": "d19f73d0-e2a7-4f8e-99a2-8b9442e705fc",
   "metadata": {},
   "source": [
    "### Normalization"
   ]
  },
  {
   "cell_type": "code",
   "execution_count": 487,
   "id": "02d4c61e-4eb0-4aeb-9bbc-8106e18d444a",
   "metadata": {
    "tags": []
   },
   "outputs": [],
   "source": [
    "X_raw=df_known.drop(columns = ['label'])\n",
    "y=df_known['label']"
   ]
  },
  {
   "cell_type": "code",
   "execution_count": 488,
   "id": "88a471e9-f7c5-4d3a-aaba-ff636cb6e372",
   "metadata": {
    "tags": []
   },
   "outputs": [],
   "source": [
    "scaler = MinMaxScaler()\n",
    "X = scaler.fit_transform(X_raw)"
   ]
  },
  {
   "cell_type": "code",
   "execution_count": 489,
   "id": "f1a3ac81-716b-4baa-a333-8af014ae1e4f",
   "metadata": {
    "tags": []
   },
   "outputs": [
    {
     "name": "stdout",
     "output_type": "stream",
     "text": [
      "The range of feature inputs are within 0.0 to 1.0000000000000004\n"
     ]
    }
   ],
   "source": [
    "print(f\"The range of feature inputs are within {X.min()} to {X.max()}\")"
   ]
  },
  {
   "cell_type": "code",
   "execution_count": 490,
   "id": "9af0ed46-5184-44b2-a080-17dba29cea9b",
   "metadata": {
    "tags": []
   },
   "outputs": [
    {
     "data": {
      "text/html": [
       "<div>\n",
       "<style scoped>\n",
       "    .dataframe tbody tr th:only-of-type {\n",
       "        vertical-align: middle;\n",
       "    }\n",
       "\n",
       "    .dataframe tbody tr th {\n",
       "        vertical-align: top;\n",
       "    }\n",
       "\n",
       "    .dataframe thead th {\n",
       "        text-align: right;\n",
       "    }\n",
       "</style>\n",
       "<table border=\"1\" class=\"dataframe\">\n",
       "  <thead>\n",
       "    <tr style=\"text-align: right;\">\n",
       "      <th></th>\n",
       "      <th>0</th>\n",
       "      <th>1</th>\n",
       "      <th>2</th>\n",
       "      <th>3</th>\n",
       "      <th>4</th>\n",
       "      <th>5</th>\n",
       "      <th>6</th>\n",
       "      <th>7</th>\n",
       "      <th>8</th>\n",
       "      <th>9</th>\n",
       "      <th>10</th>\n",
       "      <th>11</th>\n",
       "      <th>12</th>\n",
       "      <th>13</th>\n",
       "      <th>14</th>\n",
       "      <th>15</th>\n",
       "      <th>16</th>\n",
       "      <th>17</th>\n",
       "      <th>18</th>\n",
       "    </tr>\n",
       "  </thead>\n",
       "  <tbody>\n",
       "    <tr>\n",
       "      <th>count</th>\n",
       "      <td>3076.000000</td>\n",
       "      <td>3076.000000</td>\n",
       "      <td>3076.000000</td>\n",
       "      <td>3076.000000</td>\n",
       "      <td>3076.000000</td>\n",
       "      <td>3076.000000</td>\n",
       "      <td>3076.000000</td>\n",
       "      <td>3076.000000</td>\n",
       "      <td>3076.000000</td>\n",
       "      <td>3076.000000</td>\n",
       "      <td>3076.000000</td>\n",
       "      <td>3076.000000</td>\n",
       "      <td>3076.000000</td>\n",
       "      <td>3076.000000</td>\n",
       "      <td>3076.000000</td>\n",
       "      <td>3076.000000</td>\n",
       "      <td>3076.000000</td>\n",
       "      <td>3076.000000</td>\n",
       "      <td>3076.000000</td>\n",
       "    </tr>\n",
       "    <tr>\n",
       "      <th>mean</th>\n",
       "      <td>0.168052</td>\n",
       "      <td>0.214342</td>\n",
       "      <td>0.379563</td>\n",
       "      <td>0.320453</td>\n",
       "      <td>0.132836</td>\n",
       "      <td>0.088979</td>\n",
       "      <td>0.458534</td>\n",
       "      <td>0.173353</td>\n",
       "      <td>0.181307</td>\n",
       "      <td>0.052016</td>\n",
       "      <td>0.497078</td>\n",
       "      <td>0.668305</td>\n",
       "      <td>0.306047</td>\n",
       "      <td>0.537482</td>\n",
       "      <td>0.464758</td>\n",
       "      <td>0.551175</td>\n",
       "      <td>0.011378</td>\n",
       "      <td>0.018856</td>\n",
       "      <td>0.969766</td>\n",
       "    </tr>\n",
       "    <tr>\n",
       "      <th>std</th>\n",
       "      <td>0.190855</td>\n",
       "      <td>0.166581</td>\n",
       "      <td>0.273065</td>\n",
       "      <td>0.173589</td>\n",
       "      <td>0.135767</td>\n",
       "      <td>0.152447</td>\n",
       "      <td>0.241835</td>\n",
       "      <td>0.232829</td>\n",
       "      <td>0.159818</td>\n",
       "      <td>0.117578</td>\n",
       "      <td>0.170832</td>\n",
       "      <td>0.173918</td>\n",
       "      <td>0.170394</td>\n",
       "      <td>0.221206</td>\n",
       "      <td>0.231275</td>\n",
       "      <td>0.160894</td>\n",
       "      <td>0.106078</td>\n",
       "      <td>0.136037</td>\n",
       "      <td>0.171259</td>\n",
       "    </tr>\n",
       "    <tr>\n",
       "      <th>min</th>\n",
       "      <td>0.000000</td>\n",
       "      <td>0.000000</td>\n",
       "      <td>0.000000</td>\n",
       "      <td>0.000000</td>\n",
       "      <td>0.000000</td>\n",
       "      <td>0.000000</td>\n",
       "      <td>0.000000</td>\n",
       "      <td>0.000000</td>\n",
       "      <td>0.000000</td>\n",
       "      <td>0.000000</td>\n",
       "      <td>0.000000</td>\n",
       "      <td>0.000000</td>\n",
       "      <td>0.000000</td>\n",
       "      <td>0.000000</td>\n",
       "      <td>0.000000</td>\n",
       "      <td>0.000000</td>\n",
       "      <td>0.000000</td>\n",
       "      <td>0.000000</td>\n",
       "      <td>0.000000</td>\n",
       "    </tr>\n",
       "    <tr>\n",
       "      <th>25%</th>\n",
       "      <td>0.037732</td>\n",
       "      <td>0.098713</td>\n",
       "      <td>0.119940</td>\n",
       "      <td>0.194710</td>\n",
       "      <td>0.043026</td>\n",
       "      <td>0.032293</td>\n",
       "      <td>0.264666</td>\n",
       "      <td>0.020593</td>\n",
       "      <td>0.080066</td>\n",
       "      <td>0.000000</td>\n",
       "      <td>0.395249</td>\n",
       "      <td>0.582636</td>\n",
       "      <td>0.192308</td>\n",
       "      <td>0.373216</td>\n",
       "      <td>0.272534</td>\n",
       "      <td>0.447427</td>\n",
       "      <td>0.000000</td>\n",
       "      <td>0.000000</td>\n",
       "      <td>1.000000</td>\n",
       "    </tr>\n",
       "    <tr>\n",
       "      <th>50%</th>\n",
       "      <td>0.095627</td>\n",
       "      <td>0.132304</td>\n",
       "      <td>0.373688</td>\n",
       "      <td>0.280839</td>\n",
       "      <td>0.088278</td>\n",
       "      <td>0.048033</td>\n",
       "      <td>0.421555</td>\n",
       "      <td>0.068956</td>\n",
       "      <td>0.124241</td>\n",
       "      <td>0.000000</td>\n",
       "      <td>0.522930</td>\n",
       "      <td>0.707636</td>\n",
       "      <td>0.268921</td>\n",
       "      <td>0.546332</td>\n",
       "      <td>0.461029</td>\n",
       "      <td>0.582986</td>\n",
       "      <td>0.000000</td>\n",
       "      <td>0.000000</td>\n",
       "      <td>1.000000</td>\n",
       "    </tr>\n",
       "    <tr>\n",
       "      <th>75%</th>\n",
       "      <td>0.221418</td>\n",
       "      <td>0.258400</td>\n",
       "      <td>0.608696</td>\n",
       "      <td>0.408109</td>\n",
       "      <td>0.177116</td>\n",
       "      <td>0.071099</td>\n",
       "      <td>0.626876</td>\n",
       "      <td>0.221604</td>\n",
       "      <td>0.221010</td>\n",
       "      <td>0.000000</td>\n",
       "      <td>0.622567</td>\n",
       "      <td>0.793933</td>\n",
       "      <td>0.375931</td>\n",
       "      <td>0.711873</td>\n",
       "      <td>0.647422</td>\n",
       "      <td>0.677833</td>\n",
       "      <td>0.000000</td>\n",
       "      <td>0.000000</td>\n",
       "      <td>1.000000</td>\n",
       "    </tr>\n",
       "    <tr>\n",
       "      <th>max</th>\n",
       "      <td>1.000000</td>\n",
       "      <td>1.000000</td>\n",
       "      <td>1.000000</td>\n",
       "      <td>1.000000</td>\n",
       "      <td>1.000000</td>\n",
       "      <td>1.000000</td>\n",
       "      <td>1.000000</td>\n",
       "      <td>1.000000</td>\n",
       "      <td>1.000000</td>\n",
       "      <td>1.000000</td>\n",
       "      <td>1.000000</td>\n",
       "      <td>1.000000</td>\n",
       "      <td>1.000000</td>\n",
       "      <td>1.000000</td>\n",
       "      <td>1.000000</td>\n",
       "      <td>1.000000</td>\n",
       "      <td>1.000000</td>\n",
       "      <td>1.000000</td>\n",
       "      <td>1.000000</td>\n",
       "    </tr>\n",
       "  </tbody>\n",
       "</table>\n",
       "</div>"
      ],
      "text/plain": [
       "                0            1            2            3            4   \\\n",
       "count  3076.000000  3076.000000  3076.000000  3076.000000  3076.000000   \n",
       "mean      0.168052     0.214342     0.379563     0.320453     0.132836   \n",
       "std       0.190855     0.166581     0.273065     0.173589     0.135767   \n",
       "min       0.000000     0.000000     0.000000     0.000000     0.000000   \n",
       "25%       0.037732     0.098713     0.119940     0.194710     0.043026   \n",
       "50%       0.095627     0.132304     0.373688     0.280839     0.088278   \n",
       "75%       0.221418     0.258400     0.608696     0.408109     0.177116   \n",
       "max       1.000000     1.000000     1.000000     1.000000     1.000000   \n",
       "\n",
       "                5            6            7            8            9   \\\n",
       "count  3076.000000  3076.000000  3076.000000  3076.000000  3076.000000   \n",
       "mean      0.088979     0.458534     0.173353     0.181307     0.052016   \n",
       "std       0.152447     0.241835     0.232829     0.159818     0.117578   \n",
       "min       0.000000     0.000000     0.000000     0.000000     0.000000   \n",
       "25%       0.032293     0.264666     0.020593     0.080066     0.000000   \n",
       "50%       0.048033     0.421555     0.068956     0.124241     0.000000   \n",
       "75%       0.071099     0.626876     0.221604     0.221010     0.000000   \n",
       "max       1.000000     1.000000     1.000000     1.000000     1.000000   \n",
       "\n",
       "                10           11           12           13           14  \\\n",
       "count  3076.000000  3076.000000  3076.000000  3076.000000  3076.000000   \n",
       "mean      0.497078     0.668305     0.306047     0.537482     0.464758   \n",
       "std       0.170832     0.173918     0.170394     0.221206     0.231275   \n",
       "min       0.000000     0.000000     0.000000     0.000000     0.000000   \n",
       "25%       0.395249     0.582636     0.192308     0.373216     0.272534   \n",
       "50%       0.522930     0.707636     0.268921     0.546332     0.461029   \n",
       "75%       0.622567     0.793933     0.375931     0.711873     0.647422   \n",
       "max       1.000000     1.000000     1.000000     1.000000     1.000000   \n",
       "\n",
       "                15           16           17           18  \n",
       "count  3076.000000  3076.000000  3076.000000  3076.000000  \n",
       "mean      0.551175     0.011378     0.018856     0.969766  \n",
       "std       0.160894     0.106078     0.136037     0.171259  \n",
       "min       0.000000     0.000000     0.000000     0.000000  \n",
       "25%       0.447427     0.000000     0.000000     1.000000  \n",
       "50%       0.582986     0.000000     0.000000     1.000000  \n",
       "75%       0.677833     0.000000     0.000000     1.000000  \n",
       "max       1.000000     1.000000     1.000000     1.000000  "
      ]
     },
     "execution_count": 490,
     "metadata": {},
     "output_type": "execute_result"
    }
   ],
   "source": [
    "pd.DataFrame(X).describe()"
   ]
  },
  {
   "cell_type": "code",
   "execution_count": 494,
   "id": "fdddb4a1-c884-439d-bb27-69e138fa9cd1",
   "metadata": {
    "tags": []
   },
   "outputs": [
    {
     "data": {
      "text/plain": [
       "(3076, 19)"
      ]
     },
     "execution_count": 494,
     "metadata": {},
     "output_type": "execute_result"
    }
   ],
   "source": [
    "X.shape"
   ]
  },
  {
   "cell_type": "code",
   "execution_count": 495,
   "id": "02629f11-e610-4377-b096-e71443958553",
   "metadata": {
    "tags": []
   },
   "outputs": [
    {
     "data": {
      "text/plain": [
       "(3076,)"
      ]
     },
     "execution_count": 495,
     "metadata": {},
     "output_type": "execute_result"
    }
   ],
   "source": [
    "y.shape"
   ]
  },
  {
   "cell_type": "markdown",
   "id": "1965d3f9-9595-4e0a-9858-f238617c3451",
   "metadata": {},
   "source": [
    "## Train logistic regression models"
   ]
  },
  {
   "cell_type": "code",
   "execution_count": 637,
   "id": "19dc41d8-12a4-4a7d-9508-2d420bed4669",
   "metadata": {
    "tags": []
   },
   "outputs": [],
   "source": [
    "#split dataset into train/test\n",
    "X_train, X_test, y_train, y_test = train_test_split(X, y, test_size=0.3, stratify=y, random_state = 42)"
   ]
  },
  {
   "cell_type": "code",
   "execution_count": 638,
   "id": "d5d713e2-35e3-4c30-8cb1-0fac88ad6e0b",
   "metadata": {
    "tags": []
   },
   "outputs": [
    {
     "name": "stdout",
     "output_type": "stream",
     "text": [
      "Training dataset shape, X_train: (2153, 19), y_train: (2153,)\n"
     ]
    }
   ],
   "source": [
    "print(f\"Training dataset shape, X_train: {X_train.shape}, y_train: {y_train.shape}\")"
   ]
  },
  {
   "cell_type": "code",
   "execution_count": 639,
   "id": "0c31ca5b-4a45-446e-b7bb-e39d34c309d6",
   "metadata": {
    "tags": []
   },
   "outputs": [
    {
     "name": "stdout",
     "output_type": "stream",
     "text": [
      "Testing dataset shape, X_test: (923, 19), y_test: (923,)\n"
     ]
    }
   ],
   "source": [
    "print(f\"Testing dataset shape, X_test: {X_test.shape}, y_test: {y_test.shape}\")"
   ]
  },
  {
   "cell_type": "code",
   "execution_count": 640,
   "id": "714ae9c1-d026-48e0-8df2-3b66736a4494",
   "metadata": {
    "tags": []
   },
   "outputs": [
    {
     "data": {
      "text/plain": [
       "label\n",
       "1    0.658322\n",
       "0    0.341678\n",
       "Name: proportion, dtype: float64"
      ]
     },
     "execution_count": 640,
     "metadata": {},
     "output_type": "execute_result"
    }
   ],
   "source": [
    "y.value_counts(normalize=True)"
   ]
  },
  {
   "cell_type": "code",
   "execution_count": 641,
   "id": "fba5b5be-b4b3-4ab3-9308-ec04f0f5094f",
   "metadata": {
    "tags": []
   },
   "outputs": [
    {
     "data": {
      "text/plain": [
       "label\n",
       "1    0.658151\n",
       "0    0.341849\n",
       "Name: proportion, dtype: float64"
      ]
     },
     "execution_count": 641,
     "metadata": {},
     "output_type": "execute_result"
    }
   ],
   "source": [
    "y_train.value_counts(normalize=True)"
   ]
  },
  {
   "cell_type": "code",
   "execution_count": 642,
   "id": "4688f079-6f2d-4890-acb5-8e3f0f3e888e",
   "metadata": {
    "tags": []
   },
   "outputs": [
    {
     "data": {
      "text/plain": [
       "label\n",
       "1    0.658722\n",
       "0    0.341278\n",
       "Name: proportion, dtype: float64"
      ]
     },
     "execution_count": 642,
     "metadata": {},
     "output_type": "execute_result"
    }
   ],
   "source": [
    "y_test.value_counts(normalize=True)"
   ]
  },
  {
   "cell_type": "code",
   "execution_count": 643,
   "id": "d8be06eb-8926-4980-9217-257c01838d4d",
   "metadata": {
    "tags": []
   },
   "outputs": [],
   "source": [
    "# L2 penalty to shrink coefficients without removing any features from the model\n",
    "penalty= ['l2', 'l1', 'elasticnet']\n",
    "# Our classification problem is multinomial\n",
    "multi_class = 'auto'\n",
    "# Use lbfgs for L2 penalty and multinomial classes\n",
    "solver = ['lbfgs', 'saga', 'saga']\n",
    "# Max iteration = 1000\n",
    "max_iter = 1000\n",
    "#elastic-net coef.\n",
    "l1_ratio = 0.8"
   ]
  },
  {
   "cell_type": "code",
   "execution_count": 644,
   "id": "bd52771b-7340-4747-a089-e2606ce19dc1",
   "metadata": {
    "tags": []
   },
   "outputs": [],
   "source": [
    "# Define a logistic regression model with above arguments\n",
    "l2_model = LogisticRegression(random_state=42, penalty=penalty[0], multi_class=multi_class, solver=solver[0], max_iter=max_iter)"
   ]
  },
  {
   "cell_type": "code",
   "execution_count": 645,
   "id": "7b6c01bf-62e9-4c7d-8034-0c9d330ba7b6",
   "metadata": {
    "tags": []
   },
   "outputs": [
    {
     "data": {
      "text/html": [
       "<style>#sk-container-id-11 {color: black;}#sk-container-id-11 pre{padding: 0;}#sk-container-id-11 div.sk-toggleable {background-color: white;}#sk-container-id-11 label.sk-toggleable__label {cursor: pointer;display: block;width: 100%;margin-bottom: 0;padding: 0.3em;box-sizing: border-box;text-align: center;}#sk-container-id-11 label.sk-toggleable__label-arrow:before {content: \"▸\";float: left;margin-right: 0.25em;color: #696969;}#sk-container-id-11 label.sk-toggleable__label-arrow:hover:before {color: black;}#sk-container-id-11 div.sk-estimator:hover label.sk-toggleable__label-arrow:before {color: black;}#sk-container-id-11 div.sk-toggleable__content {max-height: 0;max-width: 0;overflow: hidden;text-align: left;background-color: #f0f8ff;}#sk-container-id-11 div.sk-toggleable__content pre {margin: 0.2em;color: black;border-radius: 0.25em;background-color: #f0f8ff;}#sk-container-id-11 input.sk-toggleable__control:checked~div.sk-toggleable__content {max-height: 200px;max-width: 100%;overflow: auto;}#sk-container-id-11 input.sk-toggleable__control:checked~label.sk-toggleable__label-arrow:before {content: \"▾\";}#sk-container-id-11 div.sk-estimator input.sk-toggleable__control:checked~label.sk-toggleable__label {background-color: #d4ebff;}#sk-container-id-11 div.sk-label input.sk-toggleable__control:checked~label.sk-toggleable__label {background-color: #d4ebff;}#sk-container-id-11 input.sk-hidden--visually {border: 0;clip: rect(1px 1px 1px 1px);clip: rect(1px, 1px, 1px, 1px);height: 1px;margin: -1px;overflow: hidden;padding: 0;position: absolute;width: 1px;}#sk-container-id-11 div.sk-estimator {font-family: monospace;background-color: #f0f8ff;border: 1px dotted black;border-radius: 0.25em;box-sizing: border-box;margin-bottom: 0.5em;}#sk-container-id-11 div.sk-estimator:hover {background-color: #d4ebff;}#sk-container-id-11 div.sk-parallel-item::after {content: \"\";width: 100%;border-bottom: 1px solid gray;flex-grow: 1;}#sk-container-id-11 div.sk-label:hover label.sk-toggleable__label {background-color: #d4ebff;}#sk-container-id-11 div.sk-serial::before {content: \"\";position: absolute;border-left: 1px solid gray;box-sizing: border-box;top: 0;bottom: 0;left: 50%;z-index: 0;}#sk-container-id-11 div.sk-serial {display: flex;flex-direction: column;align-items: center;background-color: white;padding-right: 0.2em;padding-left: 0.2em;position: relative;}#sk-container-id-11 div.sk-item {position: relative;z-index: 1;}#sk-container-id-11 div.sk-parallel {display: flex;align-items: stretch;justify-content: center;background-color: white;position: relative;}#sk-container-id-11 div.sk-item::before, #sk-container-id-11 div.sk-parallel-item::before {content: \"\";position: absolute;border-left: 1px solid gray;box-sizing: border-box;top: 0;bottom: 0;left: 50%;z-index: -1;}#sk-container-id-11 div.sk-parallel-item {display: flex;flex-direction: column;z-index: 1;position: relative;background-color: white;}#sk-container-id-11 div.sk-parallel-item:first-child::after {align-self: flex-end;width: 50%;}#sk-container-id-11 div.sk-parallel-item:last-child::after {align-self: flex-start;width: 50%;}#sk-container-id-11 div.sk-parallel-item:only-child::after {width: 0;}#sk-container-id-11 div.sk-dashed-wrapped {border: 1px dashed gray;margin: 0 0.4em 0.5em 0.4em;box-sizing: border-box;padding-bottom: 0.4em;background-color: white;}#sk-container-id-11 div.sk-label label {font-family: monospace;font-weight: bold;display: inline-block;line-height: 1.2em;}#sk-container-id-11 div.sk-label-container {text-align: center;}#sk-container-id-11 div.sk-container {/* jupyter's `normalize.less` sets `[hidden] { display: none; }` but bootstrap.min.css set `[hidden] { display: none !important; }` so we also need the `!important` here to be able to override the default hidden behavior on the sphinx rendered scikit-learn.org. See: https://github.com/scikit-learn/scikit-learn/issues/21755 */display: inline-block !important;position: relative;}#sk-container-id-11 div.sk-text-repr-fallback {display: none;}</style><div id=\"sk-container-id-11\" class=\"sk-top-container\"><div class=\"sk-text-repr-fallback\"><pre>LogisticRegression(max_iter=1000, random_state=42)</pre><b>In a Jupyter environment, please rerun this cell to show the HTML representation or trust the notebook. <br />On GitHub, the HTML representation is unable to render, please try loading this page with nbviewer.org.</b></div><div class=\"sk-container\" hidden><div class=\"sk-item\"><div class=\"sk-estimator sk-toggleable\"><input class=\"sk-toggleable__control sk-hidden--visually\" id=\"sk-estimator-id-19\" type=\"checkbox\" checked><label for=\"sk-estimator-id-19\" class=\"sk-toggleable__label sk-toggleable__label-arrow\">LogisticRegression</label><div class=\"sk-toggleable__content\"><pre>LogisticRegression(max_iter=1000, random_state=42)</pre></div></div></div></div></div>"
      ],
      "text/plain": [
       "LogisticRegression(max_iter=1000, random_state=42)"
      ]
     },
     "execution_count": 645,
     "metadata": {},
     "output_type": "execute_result"
    }
   ],
   "source": [
    "l2_model.fit(X_train, y_train)"
   ]
  },
  {
   "cell_type": "code",
   "execution_count": 646,
   "id": "7ca71964-c12a-4d26-b65f-0a293aa9f6ef",
   "metadata": {
    "tags": []
   },
   "outputs": [],
   "source": [
    "l2_preds = l2_model.predict(X_test)"
   ]
  },
  {
   "cell_type": "code",
   "execution_count": 647,
   "id": "41331297-b096-4ac5-9e82-4e25165c3a76",
   "metadata": {
    "tags": []
   },
   "outputs": [],
   "source": [
    "def evaluate_metrics(yt, yp):\n",
    "    results_pos = {}\n",
    "    results_pos['accuracy'] = accuracy_score(yt, yp)\n",
    "    precision, recall, f_beta, _ = precision_recall_fscore_support(yt, yp)\n",
    "    results_pos['recall'] = recall\n",
    "    results_pos['precision'] = precision\n",
    "    results_pos['f1score'] = f_beta\n",
    "    return results_pos"
   ]
  },
  {
   "cell_type": "code",
   "execution_count": 648,
   "id": "8672af81-1999-4e42-8753-87564b79a183",
   "metadata": {
    "tags": []
   },
   "outputs": [
    {
     "data": {
      "text/plain": [
       "{'accuracy': 0.8504875406283857,\n",
       " 'recall': array([0.64126984, 0.95888158]),\n",
       " 'precision': array([0.88986784, 0.83764368]),\n",
       " 'f1score': array([0.74538745, 0.89417178])}"
      ]
     },
     "execution_count": 648,
     "metadata": {},
     "output_type": "execute_result"
    }
   ],
   "source": [
    "evaluate_metrics(y_test, l2_preds)"
   ]
  },
  {
   "cell_type": "code",
   "execution_count": 649,
   "id": "7f5fbacd-a5da-4002-92f6-f74ec7dc3863",
   "metadata": {
    "tags": []
   },
   "outputs": [],
   "source": [
    "l1_model = LogisticRegression(random_state=42, penalty=penalty[1], multi_class=multi_class, solver=solver[1], max_iter=max_iter)"
   ]
  },
  {
   "cell_type": "code",
   "execution_count": 650,
   "id": "f4593b77-d807-4afe-bac7-7896e9595c40",
   "metadata": {
    "tags": []
   },
   "outputs": [
    {
     "data": {
      "text/html": [
       "<style>#sk-container-id-12 {color: black;}#sk-container-id-12 pre{padding: 0;}#sk-container-id-12 div.sk-toggleable {background-color: white;}#sk-container-id-12 label.sk-toggleable__label {cursor: pointer;display: block;width: 100%;margin-bottom: 0;padding: 0.3em;box-sizing: border-box;text-align: center;}#sk-container-id-12 label.sk-toggleable__label-arrow:before {content: \"▸\";float: left;margin-right: 0.25em;color: #696969;}#sk-container-id-12 label.sk-toggleable__label-arrow:hover:before {color: black;}#sk-container-id-12 div.sk-estimator:hover label.sk-toggleable__label-arrow:before {color: black;}#sk-container-id-12 div.sk-toggleable__content {max-height: 0;max-width: 0;overflow: hidden;text-align: left;background-color: #f0f8ff;}#sk-container-id-12 div.sk-toggleable__content pre {margin: 0.2em;color: black;border-radius: 0.25em;background-color: #f0f8ff;}#sk-container-id-12 input.sk-toggleable__control:checked~div.sk-toggleable__content {max-height: 200px;max-width: 100%;overflow: auto;}#sk-container-id-12 input.sk-toggleable__control:checked~label.sk-toggleable__label-arrow:before {content: \"▾\";}#sk-container-id-12 div.sk-estimator input.sk-toggleable__control:checked~label.sk-toggleable__label {background-color: #d4ebff;}#sk-container-id-12 div.sk-label input.sk-toggleable__control:checked~label.sk-toggleable__label {background-color: #d4ebff;}#sk-container-id-12 input.sk-hidden--visually {border: 0;clip: rect(1px 1px 1px 1px);clip: rect(1px, 1px, 1px, 1px);height: 1px;margin: -1px;overflow: hidden;padding: 0;position: absolute;width: 1px;}#sk-container-id-12 div.sk-estimator {font-family: monospace;background-color: #f0f8ff;border: 1px dotted black;border-radius: 0.25em;box-sizing: border-box;margin-bottom: 0.5em;}#sk-container-id-12 div.sk-estimator:hover {background-color: #d4ebff;}#sk-container-id-12 div.sk-parallel-item::after {content: \"\";width: 100%;border-bottom: 1px solid gray;flex-grow: 1;}#sk-container-id-12 div.sk-label:hover label.sk-toggleable__label {background-color: #d4ebff;}#sk-container-id-12 div.sk-serial::before {content: \"\";position: absolute;border-left: 1px solid gray;box-sizing: border-box;top: 0;bottom: 0;left: 50%;z-index: 0;}#sk-container-id-12 div.sk-serial {display: flex;flex-direction: column;align-items: center;background-color: white;padding-right: 0.2em;padding-left: 0.2em;position: relative;}#sk-container-id-12 div.sk-item {position: relative;z-index: 1;}#sk-container-id-12 div.sk-parallel {display: flex;align-items: stretch;justify-content: center;background-color: white;position: relative;}#sk-container-id-12 div.sk-item::before, #sk-container-id-12 div.sk-parallel-item::before {content: \"\";position: absolute;border-left: 1px solid gray;box-sizing: border-box;top: 0;bottom: 0;left: 50%;z-index: -1;}#sk-container-id-12 div.sk-parallel-item {display: flex;flex-direction: column;z-index: 1;position: relative;background-color: white;}#sk-container-id-12 div.sk-parallel-item:first-child::after {align-self: flex-end;width: 50%;}#sk-container-id-12 div.sk-parallel-item:last-child::after {align-self: flex-start;width: 50%;}#sk-container-id-12 div.sk-parallel-item:only-child::after {width: 0;}#sk-container-id-12 div.sk-dashed-wrapped {border: 1px dashed gray;margin: 0 0.4em 0.5em 0.4em;box-sizing: border-box;padding-bottom: 0.4em;background-color: white;}#sk-container-id-12 div.sk-label label {font-family: monospace;font-weight: bold;display: inline-block;line-height: 1.2em;}#sk-container-id-12 div.sk-label-container {text-align: center;}#sk-container-id-12 div.sk-container {/* jupyter's `normalize.less` sets `[hidden] { display: none; }` but bootstrap.min.css set `[hidden] { display: none !important; }` so we also need the `!important` here to be able to override the default hidden behavior on the sphinx rendered scikit-learn.org. See: https://github.com/scikit-learn/scikit-learn/issues/21755 */display: inline-block !important;position: relative;}#sk-container-id-12 div.sk-text-repr-fallback {display: none;}</style><div id=\"sk-container-id-12\" class=\"sk-top-container\"><div class=\"sk-text-repr-fallback\"><pre>LogisticRegression(max_iter=1000, penalty=&#x27;l1&#x27;, random_state=42, solver=&#x27;saga&#x27;)</pre><b>In a Jupyter environment, please rerun this cell to show the HTML representation or trust the notebook. <br />On GitHub, the HTML representation is unable to render, please try loading this page with nbviewer.org.</b></div><div class=\"sk-container\" hidden><div class=\"sk-item\"><div class=\"sk-estimator sk-toggleable\"><input class=\"sk-toggleable__control sk-hidden--visually\" id=\"sk-estimator-id-20\" type=\"checkbox\" checked><label for=\"sk-estimator-id-20\" class=\"sk-toggleable__label sk-toggleable__label-arrow\">LogisticRegression</label><div class=\"sk-toggleable__content\"><pre>LogisticRegression(max_iter=1000, penalty=&#x27;l1&#x27;, random_state=42, solver=&#x27;saga&#x27;)</pre></div></div></div></div></div>"
      ],
      "text/plain": [
       "LogisticRegression(max_iter=1000, penalty='l1', random_state=42, solver='saga')"
      ]
     },
     "execution_count": 650,
     "metadata": {},
     "output_type": "execute_result"
    }
   ],
   "source": [
    "l1_model.fit(X_train, y_train)"
   ]
  },
  {
   "cell_type": "code",
   "execution_count": 651,
   "id": "3e7a0f0a-f615-4bd8-8f06-6f4db5b30b3e",
   "metadata": {
    "tags": []
   },
   "outputs": [],
   "source": [
    "l1_preds = l1_model.predict(X_test)"
   ]
  },
  {
   "cell_type": "code",
   "execution_count": 652,
   "id": "e398d06a-2026-4c98-83f8-256bed795c1f",
   "metadata": {
    "tags": []
   },
   "outputs": [
    {
     "data": {
      "text/plain": [
       "{'accuracy': 0.8537378114842904,\n",
       " 'recall': array([0.66031746, 0.95394737]),\n",
       " 'precision': array([0.88135593, 0.84425036]),\n",
       " 'f1score': array([0.75499093, 0.8957529 ])}"
      ]
     },
     "execution_count": 652,
     "metadata": {},
     "output_type": "execute_result"
    }
   ],
   "source": [
    "evaluate_metrics(y_test, l1_preds)"
   ]
  },
  {
   "cell_type": "code",
   "execution_count": 653,
   "id": "5fc4ab9c-abc5-4e02-8adf-1e01ef074f66",
   "metadata": {
    "tags": []
   },
   "outputs": [],
   "source": [
    "en_model = LogisticRegression(random_state=42, penalty=penalty[2], multi_class=multi_class, solver=solver[2], max_iter = 1000, l1_ratio=l1_ratio)\n",
    "en_model.fit(X_train, y_train)\n",
    "en_preds = en_model.predict(X_test)"
   ]
  },
  {
   "cell_type": "code",
   "execution_count": 654,
   "id": "e27a6b75-a8e8-486f-bd95-3d59f9281b9e",
   "metadata": {
    "tags": []
   },
   "outputs": [
    {
     "data": {
      "text/plain": [
       "{'accuracy': 0.856988082340195,\n",
       " 'recall': array([0.66031746, 0.95888158]),\n",
       " 'precision': array([0.89270386, 0.84492754]),\n",
       " 'f1score': array([0.75912409, 0.89830508])}"
      ]
     },
     "execution_count": 654,
     "metadata": {},
     "output_type": "execute_result"
    }
   ],
   "source": [
    "evaluate_metrics(y_test, en_preds)"
   ]
  },
  {
   "cell_type": "code",
   "execution_count": 655,
   "id": "7ebfb24f-4a20-4d5f-92c3-0bdd3bd4a8c2",
   "metadata": {
    "tags": []
   },
   "outputs": [],
   "source": [
    "cf1 = confusion_matrix(y_test, l1_preds, normalize='true')"
   ]
  },
  {
   "cell_type": "code",
   "execution_count": 672,
   "id": "ef2f1b39-08ad-4273-9a26-c15860a02183",
   "metadata": {
    "tags": []
   },
   "outputs": [
    {
     "data": {
      "image/png": "[encoded data removed]",
      "text/plain": [
       "<Figure size 640x480 with 2 Axes>"
      ]
     },
     "metadata": {},
     "output_type": "display_data"
    }
   ],
   "source": [
    "sns.set_context('talk')\n",
    "disp = ConfusionMatrixDisplay(confusion_matrix=cf1,display_labels=l1_model.classes_)\n",
    "disp.plot()\n",
    "plt.title(f\"Confusion Matrix: penalty = {penalty[1]}, solver = {solver[1]}\")\n",
    "plt.tight_layout()\n",
    "plt.savefig('cf_l1.png', dpi=300, bbox_inches='tight')\n"
   ]
  },
  {
   "cell_type": "code",
   "execution_count": 671,
   "id": "a45067d0-ddca-47cb-bfe5-e2cf55fe2285",
   "metadata": {
    "tags": []
   },
   "outputs": [
    {
     "data": {
      "image/png": "[encoded data removed]",
      "text/plain": [
       "<Figure size 640x480 with 2 Axes>"
      ]
     },
     "metadata": {},
     "output_type": "display_data"
    }
   ],
   "source": [
    "cf2 = confusion_matrix(y_test, l2_preds, normalize='true')\n",
    "sns.set_context('talk')\n",
    "disp.plot()\n",
    "plt.title(f\"Confusion Matrix: penalty = {penalty[0]}, solver = {solver[0]}\")\n",
    "disp = ConfusionMatrixDisplay(confusion_matrix=cf2,display_labels=l2_model.classes_)\n",
    "plt.savefig('cm_l2.png', dpi=300, bbox_inches='tight')"
   ]
  },
  {
   "cell_type": "code",
   "execution_count": 670,
   "id": "9e90ac96-6cd0-48c7-87bd-47c21ee23bd1",
   "metadata": {
    "tags": []
   },
   "outputs": [
    {
     "data": {
      "image/png": "[encoded data removed]",
      "text/plain": [
       "<Figure size 640x480 with 2 Axes>"
      ]
     },
     "metadata": {},
     "output_type": "display_data"
    }
   ],
   "source": [
    "cf_en = confusion_matrix(y_test, en_preds, normalize='true')\n",
    "sns.set_context('talk')\n",
    "disp.plot()\n",
    "plt.title(f\"Confusion Matrix: penalty = {penalty[2]}, solver = {solver[2]}\")\n",
    "disp = ConfusionMatrixDisplay(confusion_matrix=cf_en,display_labels=en_model.classes_)\n",
    "plt.savefig('cm_elasticnet.png', dpi=300, bbox_inches='tight')"
   ]
  },
  {
   "cell_type": "code",
   "execution_count": 673,
   "id": "c6dd0b86-7a6a-4b46-b5e0-60524e6ea886",
   "metadata": {
    "tags": []
   },
   "outputs": [],
   "source": [
    "df_unknown=df_unknown.dropna()"
   ]
  },
  {
   "cell_type": "code",
   "execution_count": 674,
   "id": "62b47a8a-d506-41e9-84d2-24c97803d8b0",
   "metadata": {
    "tags": []
   },
   "outputs": [],
   "source": [
    "df_unknown=pd.get_dummies(candidates, columns=['koi_tce_delivname'], dtype=int)"
   ]
  },
  {
   "cell_type": "code",
   "execution_count": 675,
   "id": "f64b1fe2-da81-43b9-ad43-d7517f726ab6",
   "metadata": {
    "tags": []
   },
   "outputs": [
    {
     "data": {
      "text/html": [
       "<div>\n",
       "<style scoped>\n",
       "    .dataframe tbody tr th:only-of-type {\n",
       "        vertical-align: middle;\n",
       "    }\n",
       "\n",
       "    .dataframe tbody tr th {\n",
       "        vertical-align: top;\n",
       "    }\n",
       "\n",
       "    .dataframe thead th {\n",
       "        text-align: right;\n",
       "    }\n",
       "</style>\n",
       "<table border=\"1\" class=\"dataframe\">\n",
       "  <thead>\n",
       "    <tr style=\"text-align: right;\">\n",
       "      <th></th>\n",
       "      <th>koi_period</th>\n",
       "      <th>koi_time0bk</th>\n",
       "      <th>koi_impact</th>\n",
       "      <th>koi_duration</th>\n",
       "      <th>koi_depth</th>\n",
       "      <th>koi_prad</th>\n",
       "      <th>koi_teq</th>\n",
       "      <th>koi_insol</th>\n",
       "      <th>koi_model_snr</th>\n",
       "      <th>koi_tce_plnt_num</th>\n",
       "      <th>koi_steff</th>\n",
       "      <th>koi_slogg</th>\n",
       "      <th>koi_srad</th>\n",
       "      <th>ra</th>\n",
       "      <th>dec</th>\n",
       "      <th>koi_kepmag</th>\n",
       "      <th>label</th>\n",
       "      <th>koi_tce_delivname_q1_q16_tce</th>\n",
       "      <th>koi_tce_delivname_q1_q17_dr24_tce</th>\n",
       "      <th>koi_tce_delivname_q1_q17_dr25_tce</th>\n",
       "    </tr>\n",
       "  </thead>\n",
       "  <tbody>\n",
       "    <tr>\n",
       "      <th>7584</th>\n",
       "      <td>7.240661</td>\n",
       "      <td>137.755450</td>\n",
       "      <td>1.198</td>\n",
       "      <td>0.5580</td>\n",
       "      <td>556.4</td>\n",
       "      <td>19.45</td>\n",
       "      <td>734.0</td>\n",
       "      <td>68.63</td>\n",
       "      <td>13.7</td>\n",
       "      <td>2.0</td>\n",
       "      <td>5005.0</td>\n",
       "      <td>4.595</td>\n",
       "      <td>0.765</td>\n",
       "      <td>293.83331</td>\n",
       "      <td>50.230350</td>\n",
       "      <td>15.334</td>\n",
       "      <td>CANDIDATE</td>\n",
       "      <td>0</td>\n",
       "      <td>0</td>\n",
       "      <td>1</td>\n",
       "    </tr>\n",
       "    <tr>\n",
       "      <th>7585</th>\n",
       "      <td>3.435916</td>\n",
       "      <td>132.662400</td>\n",
       "      <td>0.624</td>\n",
       "      <td>3.1330</td>\n",
       "      <td>23.2</td>\n",
       "      <td>0.55</td>\n",
       "      <td>1272.0</td>\n",
       "      <td>617.61</td>\n",
       "      <td>8.7</td>\n",
       "      <td>3.0</td>\n",
       "      <td>5779.0</td>\n",
       "      <td>4.339</td>\n",
       "      <td>1.087</td>\n",
       "      <td>287.88733</td>\n",
       "      <td>46.276241</td>\n",
       "      <td>12.791</td>\n",
       "      <td>CANDIDATE</td>\n",
       "      <td>0</td>\n",
       "      <td>0</td>\n",
       "      <td>1</td>\n",
       "    </tr>\n",
       "    <tr>\n",
       "      <th>7599</th>\n",
       "      <td>3.886655</td>\n",
       "      <td>169.738140</td>\n",
       "      <td>0.649</td>\n",
       "      <td>3.1646</td>\n",
       "      <td>581.6</td>\n",
       "      <td>1.87</td>\n",
       "      <td>1010.0</td>\n",
       "      <td>246.29</td>\n",
       "      <td>48.1</td>\n",
       "      <td>1.0</td>\n",
       "      <td>5662.0</td>\n",
       "      <td>4.610</td>\n",
       "      <td>0.738</td>\n",
       "      <td>288.72665</td>\n",
       "      <td>44.607510</td>\n",
       "      <td>15.371</td>\n",
       "      <td>CANDIDATE</td>\n",
       "      <td>0</td>\n",
       "      <td>0</td>\n",
       "      <td>1</td>\n",
       "    </tr>\n",
       "    <tr>\n",
       "      <th>7600</th>\n",
       "      <td>2.494170</td>\n",
       "      <td>170.852848</td>\n",
       "      <td>0.095</td>\n",
       "      <td>1.1221</td>\n",
       "      <td>863.7</td>\n",
       "      <td>2.42</td>\n",
       "      <td>1194.0</td>\n",
       "      <td>480.19</td>\n",
       "      <td>69.2</td>\n",
       "      <td>1.0</td>\n",
       "      <td>5569.0</td>\n",
       "      <td>4.566</td>\n",
       "      <td>0.829</td>\n",
       "      <td>284.75943</td>\n",
       "      <td>45.599129</td>\n",
       "      <td>15.251</td>\n",
       "      <td>CANDIDATE</td>\n",
       "      <td>0</td>\n",
       "      <td>0</td>\n",
       "      <td>1</td>\n",
       "    </tr>\n",
       "    <tr>\n",
       "      <th>7601</th>\n",
       "      <td>39.475909</td>\n",
       "      <td>173.312070</td>\n",
       "      <td>0.938</td>\n",
       "      <td>2.9680</td>\n",
       "      <td>1012.6</td>\n",
       "      <td>4.06</td>\n",
       "      <td>577.0</td>\n",
       "      <td>26.13</td>\n",
       "      <td>26.6</td>\n",
       "      <td>1.0</td>\n",
       "      <td>6225.0</td>\n",
       "      <td>4.450</td>\n",
       "      <td>1.031</td>\n",
       "      <td>291.20804</td>\n",
       "      <td>45.244389</td>\n",
       "      <td>15.229</td>\n",
       "      <td>CANDIDATE</td>\n",
       "      <td>0</td>\n",
       "      <td>0</td>\n",
       "      <td>1</td>\n",
       "    </tr>\n",
       "  </tbody>\n",
       "</table>\n",
       "</div>"
      ],
      "text/plain": [
       "      koi_period  koi_time0bk  koi_impact  koi_duration  koi_depth  koi_prad  \\\n",
       "7584    7.240661   137.755450       1.198        0.5580      556.4     19.45   \n",
       "7585    3.435916   132.662400       0.624        3.1330       23.2      0.55   \n",
       "7599    3.886655   169.738140       0.649        3.1646      581.6      1.87   \n",
       "7600    2.494170   170.852848       0.095        1.1221      863.7      2.42   \n",
       "7601   39.475909   173.312070       0.938        2.9680     1012.6      4.06   \n",
       "\n",
       "      koi_teq  koi_insol  koi_model_snr  koi_tce_plnt_num  koi_steff  \\\n",
       "7584    734.0      68.63           13.7               2.0     5005.0   \n",
       "7585   1272.0     617.61            8.7               3.0     5779.0   \n",
       "7599   1010.0     246.29           48.1               1.0     5662.0   \n",
       "7600   1194.0     480.19           69.2               1.0     5569.0   \n",
       "7601    577.0      26.13           26.6               1.0     6225.0   \n",
       "\n",
       "      koi_slogg  koi_srad         ra        dec  koi_kepmag      label  \\\n",
       "7584      4.595     0.765  293.83331  50.230350      15.334  CANDIDATE   \n",
       "7585      4.339     1.087  287.88733  46.276241      12.791  CANDIDATE   \n",
       "7599      4.610     0.738  288.72665  44.607510      15.371  CANDIDATE   \n",
       "7600      4.566     0.829  284.75943  45.599129      15.251  CANDIDATE   \n",
       "7601      4.450     1.031  291.20804  45.244389      15.229  CANDIDATE   \n",
       "\n",
       "      koi_tce_delivname_q1_q16_tce  koi_tce_delivname_q1_q17_dr24_tce  \\\n",
       "7584                             0                                  0   \n",
       "7585                             0                                  0   \n",
       "7599                             0                                  0   \n",
       "7600                             0                                  0   \n",
       "7601                             0                                  0   \n",
       "\n",
       "      koi_tce_delivname_q1_q17_dr25_tce  \n",
       "7584                                  1  \n",
       "7585                                  1  \n",
       "7599                                  1  \n",
       "7600                                  1  \n",
       "7601                                  1  "
      ]
     },
     "execution_count": 675,
     "metadata": {},
     "output_type": "execute_result"
    }
   ],
   "source": [
    "df_unknown.head()"
   ]
  },
  {
   "cell_type": "code",
   "execution_count": 676,
   "id": "729bd361-35e3-4444-a496-5b8e4944e760",
   "metadata": {
    "tags": []
   },
   "outputs": [],
   "source": [
    "#check that columns in known and unknown datasets are the same\n",
    "col_un=candidates.columns"
   ]
  },
  {
   "cell_type": "code",
   "execution_count": 677,
   "id": "bcff5322-0583-4923-ba71-96cc374b058a",
   "metadata": {
    "tags": []
   },
   "outputs": [
    {
     "data": {
      "text/plain": [
       "Index(['koi_period', 'koi_time0bk', 'koi_impact', 'koi_duration', 'koi_depth',\n",
       "       'koi_prad', 'koi_teq', 'koi_insol', 'koi_model_snr', 'koi_tce_plnt_num',\n",
       "       'koi_tce_delivname', 'koi_steff', 'koi_slogg', 'koi_srad', 'ra', 'dec',\n",
       "       'koi_kepmag', 'label'],\n",
       "      dtype='object')"
      ]
     },
     "execution_count": 677,
     "metadata": {},
     "output_type": "execute_result"
    }
   ],
   "source": [
    "col_un"
   ]
  },
  {
   "cell_type": "code",
   "execution_count": 678,
   "id": "68110d87-036e-483c-be93-287a8bc9c70d",
   "metadata": {
    "tags": []
   },
   "outputs": [],
   "source": [
    "col=df_feat.columns"
   ]
  },
  {
   "cell_type": "code",
   "execution_count": 679,
   "id": "31fc6ba1-19ea-4479-9965-5d18dcbd72ad",
   "metadata": {
    "tags": []
   },
   "outputs": [
    {
     "data": {
      "text/plain": [
       "Index(['koi_period', 'koi_time0bk', 'koi_impact', 'koi_duration', 'koi_depth',\n",
       "       'koi_prad', 'koi_teq', 'koi_insol', 'koi_model_snr', 'koi_tce_plnt_num',\n",
       "       'koi_tce_delivname', 'koi_steff', 'koi_slogg', 'koi_srad', 'ra', 'dec',\n",
       "       'koi_kepmag', 'label'],\n",
       "      dtype='object')"
      ]
     },
     "execution_count": 679,
     "metadata": {},
     "output_type": "execute_result"
    }
   ],
   "source": [
    "col"
   ]
  },
  {
   "cell_type": "code",
   "execution_count": 680,
   "id": "611d46d4-1659-4130-bc84-36099e6ffe18",
   "metadata": {
    "tags": []
   },
   "outputs": [
    {
     "data": {
      "text/plain": [
       "array([ True,  True,  True,  True,  True,  True,  True,  True,  True,\n",
       "        True,  True,  True,  True,  True,  True,  True,  True,  True])"
      ]
     },
     "execution_count": 680,
     "metadata": {},
     "output_type": "execute_result"
    }
   ],
   "source": [
    "col_un==col"
   ]
  },
  {
   "cell_type": "code",
   "execution_count": 681,
   "id": "27a80bb0-ec7b-413b-99a5-37e87a623ea4",
   "metadata": {
    "tags": []
   },
   "outputs": [],
   "source": [
    "df1=df_unknown.drop(columns='label')"
   ]
  },
  {
   "cell_type": "code",
   "execution_count": 682,
   "id": "b328e94f-d25a-4f7a-a9a1-66be533d30f7",
   "metadata": {
    "tags": []
   },
   "outputs": [],
   "source": [
    "X_unknown = scaler.fit_transform(df1)"
   ]
  },
  {
   "cell_type": "code",
   "execution_count": 683,
   "id": "a921d6da-750e-4088-b09e-46350c1fd845",
   "metadata": {
    "tags": []
   },
   "outputs": [
    {
     "data": {
      "text/html": [
       "<div>\n",
       "<style scoped>\n",
       "    .dataframe tbody tr th:only-of-type {\n",
       "        vertical-align: middle;\n",
       "    }\n",
       "\n",
       "    .dataframe tbody tr th {\n",
       "        vertical-align: top;\n",
       "    }\n",
       "\n",
       "    .dataframe thead th {\n",
       "        text-align: right;\n",
       "    }\n",
       "</style>\n",
       "<table border=\"1\" class=\"dataframe\">\n",
       "  <thead>\n",
       "    <tr style=\"text-align: right;\">\n",
       "      <th></th>\n",
       "      <th>count</th>\n",
       "      <th>mean</th>\n",
       "      <th>std</th>\n",
       "      <th>min</th>\n",
       "      <th>25%</th>\n",
       "      <th>50%</th>\n",
       "      <th>75%</th>\n",
       "      <th>max</th>\n",
       "    </tr>\n",
       "  </thead>\n",
       "  <tbody>\n",
       "    <tr>\n",
       "      <th>0</th>\n",
       "      <td>991.0</td>\n",
       "      <td>0.191485</td>\n",
       "      <td>0.221117</td>\n",
       "      <td>0.0</td>\n",
       "      <td>0.047661</td>\n",
       "      <td>0.100078</td>\n",
       "      <td>0.245872</td>\n",
       "      <td>1.0</td>\n",
       "    </tr>\n",
       "    <tr>\n",
       "      <th>1</th>\n",
       "      <td>991.0</td>\n",
       "      <td>0.110029</td>\n",
       "      <td>0.149991</td>\n",
       "      <td>0.0</td>\n",
       "      <td>0.020324</td>\n",
       "      <td>0.049815</td>\n",
       "      <td>0.132393</td>\n",
       "      <td>1.0</td>\n",
       "    </tr>\n",
       "    <tr>\n",
       "      <th>2</th>\n",
       "      <td>991.0</td>\n",
       "      <td>0.312412</td>\n",
       "      <td>0.243832</td>\n",
       "      <td>0.0</td>\n",
       "      <td>0.103622</td>\n",
       "      <td>0.258551</td>\n",
       "      <td>0.502987</td>\n",
       "      <td>1.0</td>\n",
       "    </tr>\n",
       "    <tr>\n",
       "      <th>3</th>\n",
       "      <td>991.0</td>\n",
       "      <td>0.290021</td>\n",
       "      <td>0.184425</td>\n",
       "      <td>0.0</td>\n",
       "      <td>0.159360</td>\n",
       "      <td>0.249211</td>\n",
       "      <td>0.376844</td>\n",
       "      <td>1.0</td>\n",
       "    </tr>\n",
       "    <tr>\n",
       "      <th>4</th>\n",
       "      <td>991.0</td>\n",
       "      <td>0.083424</td>\n",
       "      <td>0.116504</td>\n",
       "      <td>0.0</td>\n",
       "      <td>0.023115</td>\n",
       "      <td>0.047777</td>\n",
       "      <td>0.093122</td>\n",
       "      <td>1.0</td>\n",
       "    </tr>\n",
       "    <tr>\n",
       "      <th>5</th>\n",
       "      <td>991.0</td>\n",
       "      <td>0.053649</td>\n",
       "      <td>0.108113</td>\n",
       "      <td>0.0</td>\n",
       "      <td>0.020119</td>\n",
       "      <td>0.030494</td>\n",
       "      <td>0.046998</td>\n",
       "      <td>1.0</td>\n",
       "    </tr>\n",
       "    <tr>\n",
       "      <th>6</th>\n",
       "      <td>991.0</td>\n",
       "      <td>0.412092</td>\n",
       "      <td>0.220737</td>\n",
       "      <td>0.0</td>\n",
       "      <td>0.238488</td>\n",
       "      <td>0.390378</td>\n",
       "      <td>0.557732</td>\n",
       "      <td>1.0</td>\n",
       "    </tr>\n",
       "    <tr>\n",
       "      <th>7</th>\n",
       "      <td>991.0</td>\n",
       "      <td>0.125935</td>\n",
       "      <td>0.180038</td>\n",
       "      <td>0.0</td>\n",
       "      <td>0.015751</td>\n",
       "      <td>0.055018</td>\n",
       "      <td>0.153491</td>\n",
       "      <td>1.0</td>\n",
       "    </tr>\n",
       "    <tr>\n",
       "      <th>8</th>\n",
       "      <td>991.0</td>\n",
       "      <td>0.087005</td>\n",
       "      <td>0.077185</td>\n",
       "      <td>0.0</td>\n",
       "      <td>0.058530</td>\n",
       "      <td>0.069950</td>\n",
       "      <td>0.086724</td>\n",
       "      <td>1.0</td>\n",
       "    </tr>\n",
       "    <tr>\n",
       "      <th>9</th>\n",
       "      <td>991.0</td>\n",
       "      <td>0.071039</td>\n",
       "      <td>0.147569</td>\n",
       "      <td>0.0</td>\n",
       "      <td>0.000000</td>\n",
       "      <td>0.000000</td>\n",
       "      <td>0.000000</td>\n",
       "      <td>1.0</td>\n",
       "    </tr>\n",
       "    <tr>\n",
       "      <th>10</th>\n",
       "      <td>991.0</td>\n",
       "      <td>0.525671</td>\n",
       "      <td>0.178334</td>\n",
       "      <td>0.0</td>\n",
       "      <td>0.429295</td>\n",
       "      <td>0.549443</td>\n",
       "      <td>0.654404</td>\n",
       "      <td>1.0</td>\n",
       "    </tr>\n",
       "    <tr>\n",
       "      <th>11</th>\n",
       "      <td>991.0</td>\n",
       "      <td>0.637253</td>\n",
       "      <td>0.190499</td>\n",
       "      <td>0.0</td>\n",
       "      <td>0.539641</td>\n",
       "      <td>0.683932</td>\n",
       "      <td>0.779070</td>\n",
       "      <td>1.0</td>\n",
       "    </tr>\n",
       "    <tr>\n",
       "      <th>12</th>\n",
       "      <td>991.0</td>\n",
       "      <td>0.337499</td>\n",
       "      <td>0.184327</td>\n",
       "      <td>0.0</td>\n",
       "      <td>0.207489</td>\n",
       "      <td>0.297115</td>\n",
       "      <td>0.418969</td>\n",
       "      <td>1.0</td>\n",
       "    </tr>\n",
       "    <tr>\n",
       "      <th>13</th>\n",
       "      <td>991.0</td>\n",
       "      <td>0.528408</td>\n",
       "      <td>0.231519</td>\n",
       "      <td>0.0</td>\n",
       "      <td>0.356770</td>\n",
       "      <td>0.536685</td>\n",
       "      <td>0.712731</td>\n",
       "      <td>1.0</td>\n",
       "    </tr>\n",
       "    <tr>\n",
       "      <th>14</th>\n",
       "      <td>991.0</td>\n",
       "      <td>0.458003</td>\n",
       "      <td>0.244514</td>\n",
       "      <td>0.0</td>\n",
       "      <td>0.258964</td>\n",
       "      <td>0.456599</td>\n",
       "      <td>0.645829</td>\n",
       "      <td>1.0</td>\n",
       "    </tr>\n",
       "    <tr>\n",
       "      <th>15</th>\n",
       "      <td>991.0</td>\n",
       "      <td>0.616130</td>\n",
       "      <td>0.183299</td>\n",
       "      <td>0.0</td>\n",
       "      <td>0.501852</td>\n",
       "      <td>0.656683</td>\n",
       "      <td>0.756844</td>\n",
       "      <td>1.0</td>\n",
       "    </tr>\n",
       "    <tr>\n",
       "      <th>16</th>\n",
       "      <td>991.0</td>\n",
       "      <td>0.059536</td>\n",
       "      <td>0.236744</td>\n",
       "      <td>0.0</td>\n",
       "      <td>0.000000</td>\n",
       "      <td>0.000000</td>\n",
       "      <td>0.000000</td>\n",
       "      <td>1.0</td>\n",
       "    </tr>\n",
       "    <tr>\n",
       "      <th>17</th>\n",
       "      <td>991.0</td>\n",
       "      <td>0.067608</td>\n",
       "      <td>0.251200</td>\n",
       "      <td>0.0</td>\n",
       "      <td>0.000000</td>\n",
       "      <td>0.000000</td>\n",
       "      <td>0.000000</td>\n",
       "      <td>1.0</td>\n",
       "    </tr>\n",
       "    <tr>\n",
       "      <th>18</th>\n",
       "      <td>991.0</td>\n",
       "      <td>0.872856</td>\n",
       "      <td>0.333303</td>\n",
       "      <td>0.0</td>\n",
       "      <td>1.000000</td>\n",
       "      <td>1.000000</td>\n",
       "      <td>1.000000</td>\n",
       "      <td>1.0</td>\n",
       "    </tr>\n",
       "  </tbody>\n",
       "</table>\n",
       "</div>"
      ],
      "text/plain": [
       "    count      mean       std  min       25%       50%       75%  max\n",
       "0   991.0  0.191485  0.221117  0.0  0.047661  0.100078  0.245872  1.0\n",
       "1   991.0  0.110029  0.149991  0.0  0.020324  0.049815  0.132393  1.0\n",
       "2   991.0  0.312412  0.243832  0.0  0.103622  0.258551  0.502987  1.0\n",
       "3   991.0  0.290021  0.184425  0.0  0.159360  0.249211  0.376844  1.0\n",
       "4   991.0  0.083424  0.116504  0.0  0.023115  0.047777  0.093122  1.0\n",
       "5   991.0  0.053649  0.108113  0.0  0.020119  0.030494  0.046998  1.0\n",
       "6   991.0  0.412092  0.220737  0.0  0.238488  0.390378  0.557732  1.0\n",
       "7   991.0  0.125935  0.180038  0.0  0.015751  0.055018  0.153491  1.0\n",
       "8   991.0  0.087005  0.077185  0.0  0.058530  0.069950  0.086724  1.0\n",
       "9   991.0  0.071039  0.147569  0.0  0.000000  0.000000  0.000000  1.0\n",
       "10  991.0  0.525671  0.178334  0.0  0.429295  0.549443  0.654404  1.0\n",
       "11  991.0  0.637253  0.190499  0.0  0.539641  0.683932  0.779070  1.0\n",
       "12  991.0  0.337499  0.184327  0.0  0.207489  0.297115  0.418969  1.0\n",
       "13  991.0  0.528408  0.231519  0.0  0.356770  0.536685  0.712731  1.0\n",
       "14  991.0  0.458003  0.244514  0.0  0.258964  0.456599  0.645829  1.0\n",
       "15  991.0  0.616130  0.183299  0.0  0.501852  0.656683  0.756844  1.0\n",
       "16  991.0  0.059536  0.236744  0.0  0.000000  0.000000  0.000000  1.0\n",
       "17  991.0  0.067608  0.251200  0.0  0.000000  0.000000  0.000000  1.0\n",
       "18  991.0  0.872856  0.333303  0.0  1.000000  1.000000  1.000000  1.0"
      ]
     },
     "execution_count": 683,
     "metadata": {},
     "output_type": "execute_result"
    }
   ],
   "source": [
    "pd.DataFrame(X_unknown).describe().T"
   ]
  },
  {
   "cell_type": "code",
   "execution_count": 684,
   "id": "2955f023-b4d2-4050-acc9-bd360d79a44c",
   "metadata": {
    "tags": []
   },
   "outputs": [],
   "source": [
    "y_unknown_l1=l1_model.predict(X_unknown)"
   ]
  },
  {
   "cell_type": "code",
   "execution_count": 685,
   "id": "bebea4c6-6a8f-4283-8e3d-10c987eb3235",
   "metadata": {
    "tags": []
   },
   "outputs": [
    {
     "data": {
      "text/plain": [
       "1    752\n",
       "0    239\n",
       "Name: count, dtype: int64"
      ]
     },
     "execution_count": 685,
     "metadata": {},
     "output_type": "execute_result"
    }
   ],
   "source": [
    "pd.DataFrame(y_unknown_l1).value_counts()"
   ]
  },
  {
   "cell_type": "code",
   "execution_count": 535,
   "id": "0ca2edae-d145-47d9-a620-290f4bb3d4b0",
   "metadata": {
    "tags": []
   },
   "outputs": [
    {
     "data": {
      "text/plain": [
       "(991,)"
      ]
     },
     "execution_count": 535,
     "metadata": {},
     "output_type": "execute_result"
    }
   ],
   "source": [
    "y_unknown_l1.shape"
   ]
  },
  {
   "cell_type": "markdown",
   "id": "89c76408-f6d0-4dd6-bdb7-bfec1b10aae9",
   "metadata": {},
   "source": [
    "## Interpret logistic regression models"
   ]
  },
  {
   "cell_type": "code",
   "execution_count": 686,
   "id": "30a8d2bd-f8c2-4653-9ce4-dca18d30a556",
   "metadata": {
    "tags": []
   },
   "outputs": [],
   "source": [
    "columns=df_feat.drop(columns = ['label']).columns.to_numpy()"
   ]
  },
  {
   "cell_type": "code",
   "execution_count": 687,
   "id": "4ddf02a8-ac28-43ce-bfac-8667a8833820",
   "metadata": {
    "tags": []
   },
   "outputs": [
    {
     "data": {
      "text/plain": [
       "array(['koi_period', 'koi_time0bk', 'koi_impact', 'koi_duration',\n",
       "       'koi_depth', 'koi_prad', 'koi_teq', 'koi_insol', 'koi_model_snr',\n",
       "       'koi_tce_plnt_num', 'koi_tce_delivname', 'koi_steff', 'koi_slogg',\n",
       "       'koi_srad', 'ra', 'dec', 'koi_kepmag'], dtype=object)"
      ]
     },
     "execution_count": 687,
     "metadata": {},
     "output_type": "execute_result"
    }
   ],
   "source": [
    "columns"
   ]
  },
  {
   "cell_type": "code",
   "execution_count": 688,
   "id": "6ab62349-9cea-4cb8-98f5-55d1db4ee84d",
   "metadata": {
    "tags": []
   },
   "outputs": [
    {
     "data": {
      "text/plain": [
       "array([[-0.71577343,  0.        , -0.80816069, -2.90372811, -0.30753041,\n",
       "        -5.35631313, -5.37427043, -0.23521859,  4.20364441,  5.79207359,\n",
       "         0.        , -1.81709064,  3.4422715 , -1.73215091,  1.15876654,\n",
       "         0.53675328,  0.        ,  0.        ,  4.55847452]])"
      ]
     },
     "execution_count": 688,
     "metadata": {},
     "output_type": "execute_result"
    }
   ],
   "source": [
    "l1_model.coef_"
   ]
  },
  {
   "cell_type": "code",
   "execution_count": 701,
   "id": "b4065a5a-0f02-4197-ac15-362dd348d986",
   "metadata": {
    "tags": []
   },
   "outputs": [
    {
     "data": {
      "text/plain": [
       "array([[-0.44342935,  0.02362638, -0.8429596 , -2.72204319, -0.1202152 ,\n",
       "        -4.97257046, -4.54459731, -0.77862935,  3.83232311,  5.21970196,\n",
       "         0.        , -2.20498584,  2.75254234, -1.71877975,  1.15098793,\n",
       "         0.40242067, -0.1358351 , -0.08910014,  4.17040564]])"
      ]
     },
     "execution_count": 701,
     "metadata": {},
     "output_type": "execute_result"
    }
   ],
   "source": [
    "en_model.coef_"
   ]
  },
  {
   "cell_type": "code",
   "execution_count": 689,
   "id": "d48955ad-8ae0-4b78-9478-73ef3aaef960",
   "metadata": {
    "tags": []
   },
   "outputs": [
    {
     "name": "stdout",
     "output_type": "stream",
     "text": [
      "[(-0.7157734349531958, 'koi_period'), (0.0, 'koi_time0bk'), (-0.8081606916224704, 'koi_impact'), (-2.903728105581427, 'koi_duration'), (-0.30753040825618494, 'koi_depth'), (-5.356313125131015, 'koi_prad'), (-5.374270432480388, 'koi_teq'), (-0.23521858613934618, 'koi_insol'), (4.203644409097364, 'koi_model_snr'), (5.792073592281792, 'koi_tce_plnt_num'), (0.0, 'koi_tce_delivname'), (-1.8170906419423434, 'koi_steff'), (3.442271502912651, 'koi_slogg'), (-1.7321509147000365, 'koi_srad'), (1.1587665425623757, 'ra'), (0.5367532762768712, 'dec'), (0.0, 'koi_kepmag')]\n"
     ]
    }
   ],
   "source": [
    "print(list(zip(l1_model.coef_[0, :], columns)))"
   ]
  },
  {
   "cell_type": "code",
   "execution_count": 698,
   "id": "15f77fcd-5f3d-418a-97e4-fed5db91bb32",
   "metadata": {
    "tags": []
   },
   "outputs": [],
   "source": [
    "# Extract and sort feature coefficients\n",
    "def get_feature_coefs(regression_model, label_index, columns):\n",
    "    coef_dict = {}\n",
    "    for coef, feat in zip(regression_model.coef_[label_index, :], columns):\n",
    "        if abs(coef) >= 0.01:\n",
    "            coef_dict[feat] = coef\n",
    "    # Sort coefficients\n",
    "    coef_dict = {k: v for k, v in sorted(coef_dict.items(), key=lambda item: item[1])}\n",
    "    return coef_dict\n",
    "\n",
    "# Generate bar colors based on if value is negative or positive\n",
    "def get_bar_colors(values):\n",
    "    color_vals = []\n",
    "    for val in values:\n",
    "        if val <= 0:\n",
    "            color_vals.append('r')\n",
    "        else:\n",
    "            color_vals.append('g')\n",
    "    return color_vals\n",
    "\n",
    "# Visualize coefficients\n",
    "def visualize_coefs(coef_dict):\n",
    "    features = list(coef_dict.keys())\n",
    "    values = list(coef_dict.values())\n",
    "    y_pos = np.arange(len(features))\n",
    "    color_vals = get_bar_colors(values)\n",
    "    plt.rcdefaults()\n",
    "    fig, ax = plt.subplots()\n",
    "    ax.barh(y_pos, values, align='center', color=color_vals)\n",
    "    ax.set_yticks(y_pos)\n",
    "    ax.set_yticklabels(features)\n",
    "    # labels read top-to-bottom\n",
    "    ax.invert_yaxis()  \n",
    "    ax.set_xlabel('Feature Coefficients')\n",
    "    ax.set_title('Feature importance')\n",
    "    plt.savefig('LR_features.png', dpi=300, bbox_inches='tight')\n",
    "    #plt.show()"
   ]
  },
  {
   "cell_type": "code",
   "execution_count": 702,
   "id": "7ea59402-2faf-43be-86c4-8a26c1201e13",
   "metadata": {
    "tags": []
   },
   "outputs": [],
   "source": [
    "coef_dict = get_feature_coefs(l1_model, 0, columns)"
   ]
  },
  {
   "cell_type": "code",
   "execution_count": 703,
   "id": "f367594c-a35a-49fd-89da-bec8c67c6cd5",
   "metadata": {
    "tags": []
   },
   "outputs": [
    {
     "data": {
      "image/png": "[encoded data removed]",
      "text/plain": [
       "<Figure size 640x480 with 1 Axes>"
      ]
     },
     "metadata": {},
     "output_type": "display_data"
    }
   ],
   "source": [
    "visualize_coefs(coef_dict)"
   ]
  },
  {
   "cell_type": "markdown",
   "id": "18918f36-c4be-4cda-a617-93452619c29d",
   "metadata": {},
   "source": [
    "## KNN"
   ]
  },
  {
   "cell_type": "code",
   "execution_count": 543,
   "id": "ec54f45e-037e-4067-881a-b7a317fc021d",
   "metadata": {
    "tags": []
   },
   "outputs": [],
   "source": [
    "from sklearn.neighbors import KNeighborsClassifier"
   ]
  },
  {
   "cell_type": "code",
   "execution_count": 544,
   "id": "2b75392c-b88a-440a-9a33-03fed58dfcba",
   "metadata": {
    "tags": []
   },
   "outputs": [],
   "source": [
    "max_k = 40\n",
    "f1_scores = list()\n",
    "error_rates = list() # 1-accuracy\n",
    "\n",
    "for k in range(1, max_k):\n",
    "    \n",
    "    knn = KNeighborsClassifier(n_neighbors=k, weights='distance')\n",
    "    knn = knn.fit(X_train, y_train)\n",
    "    \n",
    "    y_pred = knn.predict(X_test)\n",
    "    f1 = f1_score(y_pred, y_test)\n",
    "    f1_scores.append((k, round(f1_score(y_test, y_pred), 4)))\n",
    "    error = 1-round(accuracy_score(y_test, y_pred), 4)\n",
    "    error_rates.append((k, error))\n",
    "    \n",
    "f1_results = pd.DataFrame(f1_scores, columns=['K', 'F1 Score'])\n",
    "error_results = pd.DataFrame(error_rates, columns=['K', 'Error Rate'])"
   ]
  },
  {
   "cell_type": "code",
   "execution_count": 547,
   "id": "aac80047-0499-4a6f-86e5-c798217b4ea2",
   "metadata": {
    "tags": []
   },
   "outputs": [
    {
     "data": {
      "text/plain": [
       "<Figure size 1920x1440 with 0 Axes>"
      ]
     },
     "metadata": {},
     "output_type": "display_data"
    },
    {
     "data": {
      "image/png": "[encoded data removed]",
      "text/plain": [
       "<Figure size 800x800 with 1 Axes>"
      ]
     },
     "metadata": {},
     "output_type": "display_data"
    }
   ],
   "source": [
    "# Plot F1 results\n",
    "sns.set_context('talk')\n",
    "sns.set_style('ticks')\n",
    "\n",
    "plt.figure(dpi=300)\n",
    "ax = f1_results.set_index('K').plot(figsize=(8, 8), linewidth=3)\n",
    "ax.set(xlabel='K', ylabel='F1 Score')\n",
    "ax.set_xticks(range(1, max_k, 2));\n",
    "plt.title('KNN F1 Score')\n",
    "plt.savefig('knn_f1.png')"
   ]
  },
  {
   "cell_type": "code",
   "execution_count": 548,
   "id": "a2c38b28-d5c7-4494-b5d1-31ee1de2e014",
   "metadata": {
    "tags": []
   },
   "outputs": [
    {
     "data": {
      "text/plain": [
       "<Figure size 1920x1440 with 0 Axes>"
      ]
     },
     "metadata": {},
     "output_type": "display_data"
    },
    {
     "data": {
      "image/png": "[encoded data removed]",
      "text/plain": [
       "<Figure size 800x800 with 1 Axes>"
      ]
     },
     "metadata": {},
     "output_type": "display_data"
    }
   ],
   "source": [
    "# Plot Accuracy (Error Rate) results\n",
    "sns.set_context('talk')\n",
    "sns.set_style('ticks')\n",
    "\n",
    "plt.figure(dpi=300)\n",
    "ax = error_results.set_index('K').plot(figsize=(8, 8), linewidth=3)\n",
    "ax.set(xlabel='K', ylabel='Error Rate')\n",
    "ax.set_xticks(range(1, max_k, 2))\n",
    "plt.title('KNN Elbow Curve')\n",
    "plt.savefig('knn_elbow.png')\n",
    "### END SOLUTION"
   ]
  },
  {
   "cell_type": "code",
   "execution_count": 549,
   "id": "db8dad86-cfbc-4525-9492-903e4b875d07",
   "metadata": {
    "tags": []
   },
   "outputs": [],
   "source": [
    "# Estimate KNN model and report outcomes\n",
    "knn = KNeighborsClassifier(n_neighbors=17)\n",
    "knn = knn.fit(X_train, y_train)\n",
    "knn_preds = knn.predict(X_test) #without values throws error message for new scikit.learn versions\n"
   ]
  },
  {
   "cell_type": "code",
   "execution_count": 550,
   "id": "83199096-1ea1-4de6-9d39-0724023a8f91",
   "metadata": {
    "tags": []
   },
   "outputs": [
    {
     "name": "stdout",
     "output_type": "stream",
     "text": [
      "              precision    recall  f1-score   support\n",
      "\n",
      "           0       0.88      0.60      0.71       210\n",
      "           1       0.82      0.96      0.89       406\n",
      "\n",
      "    accuracy                           0.84       616\n",
      "   macro avg       0.85      0.78      0.80       616\n",
      "weighted avg       0.84      0.84      0.83       616\n",
      "\n",
      "Accuracy score:  0.84\n",
      "F1 Score:  0.89\n"
     ]
    }
   ],
   "source": [
    "# Preciision, recall, f-score from the multi-class support function\n",
    "print(classification_report(y_test, knn_preds))\n",
    "print('Accuracy score: ', round(accuracy_score(y_test, knn_preds), 2))\n",
    "print('F1 Score: ', round(f1_score(y_test, knn_preds), 2))"
   ]
  },
  {
   "cell_type": "code",
   "execution_count": 551,
   "id": "e6260a66-6f16-42b4-8721-e0f754c1a8b5",
   "metadata": {
    "tags": []
   },
   "outputs": [
    {
     "data": {
      "text/plain": [
       "Text(57.08333333333333, 0.5, 'Ground Truth')"
      ]
     },
     "execution_count": 551,
     "metadata": {},
     "output_type": "execute_result"
    },
    {
     "data": {
      "image/png": "[encoded data removed]",
      "text/plain": [
       "<Figure size 800x800 with 2 Axes>"
      ]
     },
     "metadata": {},
     "output_type": "display_data"
    }
   ],
   "source": [
    "confusion_matrix(y_test, y_pred)\n",
    "# Plot confusion matrix\n",
    "sns.set_palette(sns.color_palette())\n",
    "_, ax = plt.subplots(figsize=(8,8))\n",
    "ax = sns.heatmap(confusion_matrix(y_test, knn_preds), annot=True, fmt='d', annot_kws={\"size\": 40, \"weight\": \"bold\"})  \n",
    "labels = ['not exoplanet', 'exoplanet']\n",
    "ax.set_xticklabels(labels, fontsize=25);\n",
    "ax.set_yticklabels(labels, fontsize=25);\n",
    "ax.set_xlabel('Prediction', fontsize=30);\n",
    "ax.set_ylabel('Ground Truth', fontsize=30)\n",
    "### END SOLUTION"
   ]
  },
  {
   "cell_type": "code",
   "execution_count": 552,
   "id": "843a934b-3c7c-44a4-9310-f692b654156a",
   "metadata": {
    "tags": []
   },
   "outputs": [],
   "source": [
    "y_unknown_knn = knn.predict(X_unknown)"
   ]
  },
  {
   "cell_type": "code",
   "execution_count": 553,
   "id": "907e413f-a768-4393-9748-9cf83bbbe734",
   "metadata": {
    "tags": []
   },
   "outputs": [
    {
     "data": {
      "text/plain": [
       "1    746\n",
       "0    245\n",
       "Name: count, dtype: int64"
      ]
     },
     "execution_count": 553,
     "metadata": {},
     "output_type": "execute_result"
    }
   ],
   "source": [
    "pd.DataFrame(y_unknown_knn).value_counts()"
   ]
  },
  {
   "cell_type": "markdown",
   "id": "60e76b28-5bef-4b0f-b981-4cab43814393",
   "metadata": {},
   "source": [
    "## Decision Tree"
   ]
  },
  {
   "cell_type": "code",
   "execution_count": 554,
   "id": "70f7e20b-4a65-47b6-8db9-0d54025fa0e2",
   "metadata": {
    "tags": []
   },
   "outputs": [],
   "source": [
    "from sklearn.tree import DecisionTreeClassifier\n",
    "\n",
    "dt = DecisionTreeClassifier(random_state=42)\n",
    "dt = dt.fit(X_train, y_train)"
   ]
  },
  {
   "cell_type": "code",
   "execution_count": 555,
   "id": "1bc31b6c-4c99-49f3-a3c4-3a8474b056f2",
   "metadata": {
    "tags": []
   },
   "outputs": [
    {
     "data": {
      "text/plain": [
       "(469, 25)"
      ]
     },
     "execution_count": 555,
     "metadata": {},
     "output_type": "execute_result"
    }
   ],
   "source": [
    "#no pruning tree\n",
    "dt.tree_.node_count, dt.tree_.max_depth"
   ]
  },
  {
   "cell_type": "code",
   "execution_count": 556,
   "id": "3fec2dc5-71a9-4c41-9f96-f2a8eab241c8",
   "metadata": {
    "tags": []
   },
   "outputs": [],
   "source": [
    "def measure_error(y_true, y_pred, label):\n",
    "    return pd.Series({'accuracy':accuracy_score(y_true, y_pred),\n",
    "                      'precision': precision_score(y_true, y_pred),\n",
    "                      'recall': recall_score(y_true, y_pred),\n",
    "                      'f1': f1_score(y_true, y_pred)},\n",
    "                      name=label)\n",
    "y_train_pred = dt.predict(X_train)\n",
    "y_test_pred = dt.predict(X_test)\n"
   ]
  },
  {
   "cell_type": "code",
   "execution_count": 557,
   "id": "4c561030-07b6-4e7f-a161-d4b5d35cd04e",
   "metadata": {
    "tags": []
   },
   "outputs": [
    {
     "data": {
      "text/html": [
       "<div>\n",
       "<style scoped>\n",
       "    .dataframe tbody tr th:only-of-type {\n",
       "        vertical-align: middle;\n",
       "    }\n",
       "\n",
       "    .dataframe tbody tr th {\n",
       "        vertical-align: top;\n",
       "    }\n",
       "\n",
       "    .dataframe thead th {\n",
       "        text-align: right;\n",
       "    }\n",
       "</style>\n",
       "<table border=\"1\" class=\"dataframe\">\n",
       "  <thead>\n",
       "    <tr style=\"text-align: right;\">\n",
       "      <th></th>\n",
       "      <th>train</th>\n",
       "      <th>test</th>\n",
       "    </tr>\n",
       "  </thead>\n",
       "  <tbody>\n",
       "    <tr>\n",
       "      <th>accuracy</th>\n",
       "      <td>1.0</td>\n",
       "      <td>0.800325</td>\n",
       "    </tr>\n",
       "    <tr>\n",
       "      <th>precision</th>\n",
       "      <td>1.0</td>\n",
       "      <td>0.839329</td>\n",
       "    </tr>\n",
       "    <tr>\n",
       "      <th>recall</th>\n",
       "      <td>1.0</td>\n",
       "      <td>0.862069</td>\n",
       "    </tr>\n",
       "    <tr>\n",
       "      <th>f1</th>\n",
       "      <td>1.0</td>\n",
       "      <td>0.850547</td>\n",
       "    </tr>\n",
       "  </tbody>\n",
       "</table>\n",
       "</div>"
      ],
      "text/plain": [
       "           train      test\n",
       "accuracy     1.0  0.800325\n",
       "precision    1.0  0.839329\n",
       "recall       1.0  0.862069\n",
       "f1           1.0  0.850547"
      ]
     },
     "execution_count": 557,
     "metadata": {},
     "output_type": "execute_result"
    }
   ],
   "source": [
    "\n",
    "train_test_full_error = pd.concat([measure_error(y_train, y_train_pred, 'train'),\n",
    "                              measure_error(y_test, y_test_pred, 'test')],\n",
    "                              axis=1)\n",
    "\n",
    "train_test_full_error"
   ]
  },
  {
   "cell_type": "markdown",
   "id": "aa4adfc5-43d9-4156-917c-d4ee18929e79",
   "metadata": {},
   "source": [
    "Overfitted tree since all the parameters are 1 in training."
   ]
  },
  {
   "cell_type": "code",
   "execution_count": 558,
   "id": "66375a33-6bc0-4a6e-a91e-beb3e5697ce7",
   "metadata": {
    "tags": []
   },
   "outputs": [],
   "source": [
    "from sklearn.model_selection import GridSearchCV\n",
    "\n",
    "param_grid = {'max_depth':range(1, dt.tree_.max_depth+1, 2),\n",
    "              'max_features': range(1, len(dt.feature_importances_)+1)}\n",
    "\n",
    "GR = GridSearchCV(DecisionTreeClassifier(random_state=42),\n",
    "                  param_grid=param_grid,\n",
    "                  scoring='accuracy',\n",
    "                  n_jobs=-1)\n",
    "\n",
    "GR = GR.fit(X_train, y_train)"
   ]
  },
  {
   "cell_type": "code",
   "execution_count": 559,
   "id": "82ceb794-8558-4209-acb9-1b6c41436899",
   "metadata": {
    "tags": []
   },
   "outputs": [
    {
     "data": {
      "text/plain": [
       "(189, 9)"
      ]
     },
     "execution_count": 559,
     "metadata": {},
     "output_type": "execute_result"
    }
   ],
   "source": [
    "GR.best_estimator_.tree_.node_count, GR.best_estimator_.tree_.max_depth"
   ]
  },
  {
   "cell_type": "code",
   "execution_count": 560,
   "id": "1f849be4-af7a-470f-a0bb-ae1f474f20c2",
   "metadata": {
    "tags": []
   },
   "outputs": [],
   "source": [
    "y_train_pred_gr = GR.predict(X_train)\n",
    "y_test_pred_gr = GR.predict(X_test)\n",
    "\n",
    "train_test_gr_error = pd.concat([measure_error(y_train, y_train_pred_gr, 'train'),\n",
    "                                 measure_error(y_test, y_test_pred_gr, 'test')],\n",
    "                                axis=1)"
   ]
  },
  {
   "cell_type": "code",
   "execution_count": 561,
   "id": "4aa6d570-324f-426f-ab3b-86602e00f68a",
   "metadata": {
    "tags": []
   },
   "outputs": [
    {
     "data": {
      "text/html": [
       "<div>\n",
       "<style scoped>\n",
       "    .dataframe tbody tr th:only-of-type {\n",
       "        vertical-align: middle;\n",
       "    }\n",
       "\n",
       "    .dataframe tbody tr th {\n",
       "        vertical-align: top;\n",
       "    }\n",
       "\n",
       "    .dataframe thead th {\n",
       "        text-align: right;\n",
       "    }\n",
       "</style>\n",
       "<table border=\"1\" class=\"dataframe\">\n",
       "  <thead>\n",
       "    <tr style=\"text-align: right;\">\n",
       "      <th></th>\n",
       "      <th>train</th>\n",
       "      <th>test</th>\n",
       "    </tr>\n",
       "  </thead>\n",
       "  <tbody>\n",
       "    <tr>\n",
       "      <th>accuracy</th>\n",
       "      <td>0.918293</td>\n",
       "      <td>0.834416</td>\n",
       "    </tr>\n",
       "    <tr>\n",
       "      <th>precision</th>\n",
       "      <td>0.899662</td>\n",
       "      <td>0.830435</td>\n",
       "    </tr>\n",
       "    <tr>\n",
       "      <th>recall</th>\n",
       "      <td>0.985794</td>\n",
       "      <td>0.940887</td>\n",
       "    </tr>\n",
       "    <tr>\n",
       "      <th>f1</th>\n",
       "      <td>0.940760</td>\n",
       "      <td>0.882217</td>\n",
       "    </tr>\n",
       "  </tbody>\n",
       "</table>\n",
       "</div>"
      ],
      "text/plain": [
       "              train      test\n",
       "accuracy   0.918293  0.834416\n",
       "precision  0.899662  0.830435\n",
       "recall     0.985794  0.940887\n",
       "f1         0.940760  0.882217"
      ]
     },
     "execution_count": 561,
     "metadata": {},
     "output_type": "execute_result"
    }
   ],
   "source": [
    "train_test_gr_error"
   ]
  },
  {
   "cell_type": "code",
   "execution_count": 562,
   "id": "18dc3ab5-0c8a-45dd-af8b-c47ad39e90f9",
   "metadata": {
    "tags": []
   },
   "outputs": [],
   "source": [
    "y_unknown_dt=GR.predict(X_unknown)"
   ]
  },
  {
   "cell_type": "code",
   "execution_count": 563,
   "id": "2d23e842-5186-4a44-8e15-6d69c04aeb20",
   "metadata": {
    "tags": []
   },
   "outputs": [
    {
     "data": {
      "text/plain": [
       "1    651\n",
       "0    340\n",
       "Name: count, dtype: int64"
      ]
     },
     "execution_count": 563,
     "metadata": {},
     "output_type": "execute_result"
    }
   ],
   "source": [
    "pd.DataFrame(y_unknown_dt).value_counts()"
   ]
  },
  {
   "cell_type": "code",
   "execution_count": 564,
   "id": "9d57bd81-129f-4e8a-801c-1bcfaffa30eb",
   "metadata": {
    "tags": []
   },
   "outputs": [
    {
     "data": {
      "text/plain": [
       "(991, 20)"
      ]
     },
     "execution_count": 564,
     "metadata": {},
     "output_type": "execute_result"
    }
   ],
   "source": [
    "df_unknown.shape"
   ]
  },
  {
   "cell_type": "code",
   "execution_count": 565,
   "id": "74dc2a9f-d36f-41f1-ab11-fc32eb1bed8f",
   "metadata": {
    "tags": []
   },
   "outputs": [],
   "source": [
    "df_unknown['logreg_l1']=y_unknown_l1\n",
    "df_unknown['knn']=y_unknown_knn\n",
    "df_unknown['dt']=y_unknown_dt"
   ]
  },
  {
   "cell_type": "code",
   "execution_count": 566,
   "id": "98a04119-91ad-4f7a-b77c-eac3b5964c28",
   "metadata": {
    "tags": []
   },
   "outputs": [
    {
     "data": {
      "text/html": [
       "<div>\n",
       "<style scoped>\n",
       "    .dataframe tbody tr th:only-of-type {\n",
       "        vertical-align: middle;\n",
       "    }\n",
       "\n",
       "    .dataframe tbody tr th {\n",
       "        vertical-align: top;\n",
       "    }\n",
       "\n",
       "    .dataframe thead th {\n",
       "        text-align: right;\n",
       "    }\n",
       "</style>\n",
       "<table border=\"1\" class=\"dataframe\">\n",
       "  <thead>\n",
       "    <tr style=\"text-align: right;\">\n",
       "      <th></th>\n",
       "      <th>koi_period</th>\n",
       "      <th>koi_time0bk</th>\n",
       "      <th>koi_impact</th>\n",
       "      <th>koi_duration</th>\n",
       "      <th>koi_depth</th>\n",
       "      <th>koi_prad</th>\n",
       "      <th>koi_teq</th>\n",
       "      <th>koi_insol</th>\n",
       "      <th>koi_model_snr</th>\n",
       "      <th>koi_tce_plnt_num</th>\n",
       "      <th>...</th>\n",
       "      <th>ra</th>\n",
       "      <th>dec</th>\n",
       "      <th>koi_kepmag</th>\n",
       "      <th>label</th>\n",
       "      <th>koi_tce_delivname_q1_q16_tce</th>\n",
       "      <th>koi_tce_delivname_q1_q17_dr24_tce</th>\n",
       "      <th>koi_tce_delivname_q1_q17_dr25_tce</th>\n",
       "      <th>logreg_l1</th>\n",
       "      <th>knn</th>\n",
       "      <th>dt</th>\n",
       "    </tr>\n",
       "  </thead>\n",
       "  <tbody>\n",
       "    <tr>\n",
       "      <th>7584</th>\n",
       "      <td>7.240661</td>\n",
       "      <td>137.755450</td>\n",
       "      <td>1.198</td>\n",
       "      <td>0.5580</td>\n",
       "      <td>556.4</td>\n",
       "      <td>19.45</td>\n",
       "      <td>734.0</td>\n",
       "      <td>68.63</td>\n",
       "      <td>13.7</td>\n",
       "      <td>2.0</td>\n",
       "      <td>...</td>\n",
       "      <td>293.83331</td>\n",
       "      <td>50.230350</td>\n",
       "      <td>15.334</td>\n",
       "      <td>CANDIDATE</td>\n",
       "      <td>0</td>\n",
       "      <td>0</td>\n",
       "      <td>1</td>\n",
       "      <td>0</td>\n",
       "      <td>0</td>\n",
       "      <td>1</td>\n",
       "    </tr>\n",
       "    <tr>\n",
       "      <th>7585</th>\n",
       "      <td>3.435916</td>\n",
       "      <td>132.662400</td>\n",
       "      <td>0.624</td>\n",
       "      <td>3.1330</td>\n",
       "      <td>23.2</td>\n",
       "      <td>0.55</td>\n",
       "      <td>1272.0</td>\n",
       "      <td>617.61</td>\n",
       "      <td>8.7</td>\n",
       "      <td>3.0</td>\n",
       "      <td>...</td>\n",
       "      <td>287.88733</td>\n",
       "      <td>46.276241</td>\n",
       "      <td>12.791</td>\n",
       "      <td>CANDIDATE</td>\n",
       "      <td>0</td>\n",
       "      <td>0</td>\n",
       "      <td>1</td>\n",
       "      <td>1</td>\n",
       "      <td>1</td>\n",
       "      <td>1</td>\n",
       "    </tr>\n",
       "    <tr>\n",
       "      <th>7599</th>\n",
       "      <td>3.886655</td>\n",
       "      <td>169.738140</td>\n",
       "      <td>0.649</td>\n",
       "      <td>3.1646</td>\n",
       "      <td>581.6</td>\n",
       "      <td>1.87</td>\n",
       "      <td>1010.0</td>\n",
       "      <td>246.29</td>\n",
       "      <td>48.1</td>\n",
       "      <td>1.0</td>\n",
       "      <td>...</td>\n",
       "      <td>288.72665</td>\n",
       "      <td>44.607510</td>\n",
       "      <td>15.371</td>\n",
       "      <td>CANDIDATE</td>\n",
       "      <td>0</td>\n",
       "      <td>0</td>\n",
       "      <td>1</td>\n",
       "      <td>1</td>\n",
       "      <td>1</td>\n",
       "      <td>1</td>\n",
       "    </tr>\n",
       "    <tr>\n",
       "      <th>7600</th>\n",
       "      <td>2.494170</td>\n",
       "      <td>170.852848</td>\n",
       "      <td>0.095</td>\n",
       "      <td>1.1221</td>\n",
       "      <td>863.7</td>\n",
       "      <td>2.42</td>\n",
       "      <td>1194.0</td>\n",
       "      <td>480.19</td>\n",
       "      <td>69.2</td>\n",
       "      <td>1.0</td>\n",
       "      <td>...</td>\n",
       "      <td>284.75943</td>\n",
       "      <td>45.599129</td>\n",
       "      <td>15.251</td>\n",
       "      <td>CANDIDATE</td>\n",
       "      <td>0</td>\n",
       "      <td>0</td>\n",
       "      <td>1</td>\n",
       "      <td>1</td>\n",
       "      <td>1</td>\n",
       "      <td>0</td>\n",
       "    </tr>\n",
       "    <tr>\n",
       "      <th>7601</th>\n",
       "      <td>39.475909</td>\n",
       "      <td>173.312070</td>\n",
       "      <td>0.938</td>\n",
       "      <td>2.9680</td>\n",
       "      <td>1012.6</td>\n",
       "      <td>4.06</td>\n",
       "      <td>577.0</td>\n",
       "      <td>26.13</td>\n",
       "      <td>26.6</td>\n",
       "      <td>1.0</td>\n",
       "      <td>...</td>\n",
       "      <td>291.20804</td>\n",
       "      <td>45.244389</td>\n",
       "      <td>15.229</td>\n",
       "      <td>CANDIDATE</td>\n",
       "      <td>0</td>\n",
       "      <td>0</td>\n",
       "      <td>1</td>\n",
       "      <td>1</td>\n",
       "      <td>1</td>\n",
       "      <td>1</td>\n",
       "    </tr>\n",
       "  </tbody>\n",
       "</table>\n",
       "<p>5 rows × 23 columns</p>\n",
       "</div>"
      ],
      "text/plain": [
       "      koi_period  koi_time0bk  koi_impact  koi_duration  koi_depth  koi_prad  \\\n",
       "7584    7.240661   137.755450       1.198        0.5580      556.4     19.45   \n",
       "7585    3.435916   132.662400       0.624        3.1330       23.2      0.55   \n",
       "7599    3.886655   169.738140       0.649        3.1646      581.6      1.87   \n",
       "7600    2.494170   170.852848       0.095        1.1221      863.7      2.42   \n",
       "7601   39.475909   173.312070       0.938        2.9680     1012.6      4.06   \n",
       "\n",
       "      koi_teq  koi_insol  koi_model_snr  koi_tce_plnt_num  ...         ra  \\\n",
       "7584    734.0      68.63           13.7               2.0  ...  293.83331   \n",
       "7585   1272.0     617.61            8.7               3.0  ...  287.88733   \n",
       "7599   1010.0     246.29           48.1               1.0  ...  288.72665   \n",
       "7600   1194.0     480.19           69.2               1.0  ...  284.75943   \n",
       "7601    577.0      26.13           26.6               1.0  ...  291.20804   \n",
       "\n",
       "            dec  koi_kepmag      label  koi_tce_delivname_q1_q16_tce  \\\n",
       "7584  50.230350      15.334  CANDIDATE                             0   \n",
       "7585  46.276241      12.791  CANDIDATE                             0   \n",
       "7599  44.607510      15.371  CANDIDATE                             0   \n",
       "7600  45.599129      15.251  CANDIDATE                             0   \n",
       "7601  45.244389      15.229  CANDIDATE                             0   \n",
       "\n",
       "      koi_tce_delivname_q1_q17_dr24_tce koi_tce_delivname_q1_q17_dr25_tce  \\\n",
       "7584                                  0                                 1   \n",
       "7585                                  0                                 1   \n",
       "7599                                  0                                 1   \n",
       "7600                                  0                                 1   \n",
       "7601                                  0                                 1   \n",
       "\n",
       "      logreg_l1  knn  dt  \n",
       "7584          0    0   1  \n",
       "7585          1    1   1  \n",
       "7599          1    1   1  \n",
       "7600          1    1   0  \n",
       "7601          1    1   1  \n",
       "\n",
       "[5 rows x 23 columns]"
      ]
     },
     "execution_count": 566,
     "metadata": {},
     "output_type": "execute_result"
    }
   ],
   "source": [
    "df_unknown.head()"
   ]
  },
  {
   "cell_type": "markdown",
   "id": "b11ab424-e2fb-4aaf-a940-26ac29d33894",
   "metadata": {},
   "source": [
    "## Bagging"
   ]
  },
  {
   "cell_type": "code",
   "execution_count": 567,
   "id": "6e2414dd-58db-435a-b608-93716c4d67cf",
   "metadata": {
    "tags": []
   },
   "outputs": [],
   "source": [
    "from sklearn.ensemble import BaggingClassifier\n",
    "from sklearn.tree import DecisionTreeClassifier"
   ]
  },
  {
   "cell_type": "code",
   "execution_count": 568,
   "id": "4390199d-4ff1-4591-8380-3ef2ef8bafa4",
   "metadata": {
    "tags": []
   },
   "outputs": [],
   "source": [
    "n_estimators=20\n",
    "Bag= BaggingClassifier(base_estimator=DecisionTreeClassifier(criterion=\"entropy\", max_depth = 4,random_state=2),n_estimators=n_estimators,random_state=0,bootstrap=True)"
   ]
  },
  {
   "cell_type": "code",
   "execution_count": 569,
   "id": "8429f251-2094-45bf-b014-e5273b94e0c2",
   "metadata": {
    "tags": []
   },
   "outputs": [],
   "source": [
    "#split data that are not preprocessed with minmaxscaler\n",
    "X_trainR, X_testR, y_trainR, y_testR = train_test_split(X_raw, y, test_size=0.2, stratify=y, random_state = 42)"
   ]
  },
  {
   "cell_type": "code",
   "execution_count": 570,
   "id": "235668fb-c8d7-406f-97cb-2c0c2a2cd5e0",
   "metadata": {
    "tags": []
   },
   "outputs": [
    {
     "data": {
      "text/html": [
       "<style>#sk-container-id-8 {color: black;}#sk-container-id-8 pre{padding: 0;}#sk-container-id-8 div.sk-toggleable {background-color: white;}#sk-container-id-8 label.sk-toggleable__label {cursor: pointer;display: block;width: 100%;margin-bottom: 0;padding: 0.3em;box-sizing: border-box;text-align: center;}#sk-container-id-8 label.sk-toggleable__label-arrow:before {content: \"▸\";float: left;margin-right: 0.25em;color: #696969;}#sk-container-id-8 label.sk-toggleable__label-arrow:hover:before {color: black;}#sk-container-id-8 div.sk-estimator:hover label.sk-toggleable__label-arrow:before {color: black;}#sk-container-id-8 div.sk-toggleable__content {max-height: 0;max-width: 0;overflow: hidden;text-align: left;background-color: #f0f8ff;}#sk-container-id-8 div.sk-toggleable__content pre {margin: 0.2em;color: black;border-radius: 0.25em;background-color: #f0f8ff;}#sk-container-id-8 input.sk-toggleable__control:checked~div.sk-toggleable__content {max-height: 200px;max-width: 100%;overflow: auto;}#sk-container-id-8 input.sk-toggleable__control:checked~label.sk-toggleable__label-arrow:before {content: \"▾\";}#sk-container-id-8 div.sk-estimator input.sk-toggleable__control:checked~label.sk-toggleable__label {background-color: #d4ebff;}#sk-container-id-8 div.sk-label input.sk-toggleable__control:checked~label.sk-toggleable__label {background-color: #d4ebff;}#sk-container-id-8 input.sk-hidden--visually {border: 0;clip: rect(1px 1px 1px 1px);clip: rect(1px, 1px, 1px, 1px);height: 1px;margin: -1px;overflow: hidden;padding: 0;position: absolute;width: 1px;}#sk-container-id-8 div.sk-estimator {font-family: monospace;background-color: #f0f8ff;border: 1px dotted black;border-radius: 0.25em;box-sizing: border-box;margin-bottom: 0.5em;}#sk-container-id-8 div.sk-estimator:hover {background-color: #d4ebff;}#sk-container-id-8 div.sk-parallel-item::after {content: \"\";width: 100%;border-bottom: 1px solid gray;flex-grow: 1;}#sk-container-id-8 div.sk-label:hover label.sk-toggleable__label {background-color: #d4ebff;}#sk-container-id-8 div.sk-serial::before {content: \"\";position: absolute;border-left: 1px solid gray;box-sizing: border-box;top: 0;bottom: 0;left: 50%;z-index: 0;}#sk-container-id-8 div.sk-serial {display: flex;flex-direction: column;align-items: center;background-color: white;padding-right: 0.2em;padding-left: 0.2em;position: relative;}#sk-container-id-8 div.sk-item {position: relative;z-index: 1;}#sk-container-id-8 div.sk-parallel {display: flex;align-items: stretch;justify-content: center;background-color: white;position: relative;}#sk-container-id-8 div.sk-item::before, #sk-container-id-8 div.sk-parallel-item::before {content: \"\";position: absolute;border-left: 1px solid gray;box-sizing: border-box;top: 0;bottom: 0;left: 50%;z-index: -1;}#sk-container-id-8 div.sk-parallel-item {display: flex;flex-direction: column;z-index: 1;position: relative;background-color: white;}#sk-container-id-8 div.sk-parallel-item:first-child::after {align-self: flex-end;width: 50%;}#sk-container-id-8 div.sk-parallel-item:last-child::after {align-self: flex-start;width: 50%;}#sk-container-id-8 div.sk-parallel-item:only-child::after {width: 0;}#sk-container-id-8 div.sk-dashed-wrapped {border: 1px dashed gray;margin: 0 0.4em 0.5em 0.4em;box-sizing: border-box;padding-bottom: 0.4em;background-color: white;}#sk-container-id-8 div.sk-label label {font-family: monospace;font-weight: bold;display: inline-block;line-height: 1.2em;}#sk-container-id-8 div.sk-label-container {text-align: center;}#sk-container-id-8 div.sk-container {/* jupyter's `normalize.less` sets `[hidden] { display: none; }` but bootstrap.min.css set `[hidden] { display: none !important; }` so we also need the `!important` here to be able to override the default hidden behavior on the sphinx rendered scikit-learn.org. See: https://github.com/scikit-learn/scikit-learn/issues/21755 */display: inline-block !important;position: relative;}#sk-container-id-8 div.sk-text-repr-fallback {display: none;}</style><div id=\"sk-container-id-8\" class=\"sk-top-container\"><div class=\"sk-text-repr-fallback\"><pre>BaggingClassifier(base_estimator=DecisionTreeClassifier(criterion=&#x27;entropy&#x27;,\n",
       "                                                        max_depth=4,\n",
       "                                                        random_state=2),\n",
       "                  n_estimators=20, random_state=0)</pre><b>In a Jupyter environment, please rerun this cell to show the HTML representation or trust the notebook. <br />On GitHub, the HTML representation is unable to render, please try loading this page with nbviewer.org.</b></div><div class=\"sk-container\" hidden><div class=\"sk-item sk-dashed-wrapped\"><div class=\"sk-label-container\"><div class=\"sk-label sk-toggleable\"><input class=\"sk-toggleable__control sk-hidden--visually\" id=\"sk-estimator-id-12\" type=\"checkbox\" ><label for=\"sk-estimator-id-12\" class=\"sk-toggleable__label sk-toggleable__label-arrow\">BaggingClassifier</label><div class=\"sk-toggleable__content\"><pre>BaggingClassifier(base_estimator=DecisionTreeClassifier(criterion=&#x27;entropy&#x27;,\n",
       "                                                        max_depth=4,\n",
       "                                                        random_state=2),\n",
       "                  n_estimators=20, random_state=0)</pre></div></div></div><div class=\"sk-parallel\"><div class=\"sk-parallel-item\"><div class=\"sk-item\"><div class=\"sk-label-container\"><div class=\"sk-label sk-toggleable\"><input class=\"sk-toggleable__control sk-hidden--visually\" id=\"sk-estimator-id-13\" type=\"checkbox\" ><label for=\"sk-estimator-id-13\" class=\"sk-toggleable__label sk-toggleable__label-arrow\">base_estimator: DecisionTreeClassifier</label><div class=\"sk-toggleable__content\"><pre>DecisionTreeClassifier(criterion=&#x27;entropy&#x27;, max_depth=4, random_state=2)</pre></div></div></div><div class=\"sk-serial\"><div class=\"sk-item\"><div class=\"sk-estimator sk-toggleable\"><input class=\"sk-toggleable__control sk-hidden--visually\" id=\"sk-estimator-id-14\" type=\"checkbox\" ><label for=\"sk-estimator-id-14\" class=\"sk-toggleable__label sk-toggleable__label-arrow\">DecisionTreeClassifier</label><div class=\"sk-toggleable__content\"><pre>DecisionTreeClassifier(criterion=&#x27;entropy&#x27;, max_depth=4, random_state=2)</pre></div></div></div></div></div></div></div></div></div></div>"
      ],
      "text/plain": [
       "BaggingClassifier(base_estimator=DecisionTreeClassifier(criterion='entropy',\n",
       "                                                        max_depth=4,\n",
       "                                                        random_state=2),\n",
       "                  n_estimators=20, random_state=0)"
      ]
     },
     "execution_count": 570,
     "metadata": {},
     "output_type": "execute_result"
    }
   ],
   "source": [
    "Bag.fit(X_trainR,y_trainR)"
   ]
  },
  {
   "cell_type": "code",
   "execution_count": 571,
   "id": "4bdbb106-36b9-4b2b-9fe6-c76f443a279d",
   "metadata": {
    "tags": []
   },
   "outputs": [
    {
     "data": {
      "text/plain": [
       "(616,)"
      ]
     },
     "execution_count": 571,
     "metadata": {},
     "output_type": "execute_result"
    }
   ],
   "source": [
    "Bag.predict(X_testR).shape"
   ]
  },
  {
   "cell_type": "code",
   "execution_count": 572,
   "id": "2c8a9156-8663-4a67-8ae4-e9766f7c1bfb",
   "metadata": {
    "tags": []
   },
   "outputs": [],
   "source": [
    "def get_accuracy(X_train, X_test, y_train, y_test, model):\n",
    "    return  {\"test Accuracy\":metrics.accuracy_score(y_test, model.predict(X_test)),\"train Accuracy\": metrics.accuracy_score(y_train, model.predict(X_train))}"
   ]
  },
  {
   "cell_type": "code",
   "execution_count": 573,
   "id": "f8556b51-cb53-426b-9a1c-4adfb60874e7",
   "metadata": {
    "tags": []
   },
   "outputs": [],
   "source": [
    "def get_correlation(X_test, y_test,models):\n",
    "    #This function calculates the average correlation between predictors  \n",
    "    n_estimators=len(models.estimators_)\n",
    "    prediction=np.zeros((y_test.shape[0],n_estimators))\n",
    "    predictions=pd.DataFrame({'estimator '+str(n+1):[] for n in range(n_estimators)})\n",
    "    \n",
    "    for key,model in zip(predictions.keys(),models.estimators_):\n",
    "        predictions[key]=model.predict(X_test)\n",
    "    \n",
    "    corr=predictions.corr()\n",
    "    print(\"Average correlation between predictors: \", corr.mean().mean()-1/n_estimators)\n",
    "    return corr\n"
   ]
  },
  {
   "cell_type": "code",
   "execution_count": 574,
   "id": "74a05895-4c0a-48c8-a729-92489aaeb972",
   "metadata": {
    "tags": []
   },
   "outputs": [
    {
     "name": "stdout",
     "output_type": "stream",
     "text": [
      "{'test Accuracy': 0.8441558441558441, 'train Accuracy': 0.8682926829268293}\n"
     ]
    }
   ],
   "source": [
    "print(get_accuracy(X_trainR, X_testR, y_trainR, y_testR,  Bag))"
   ]
  },
  {
   "cell_type": "code",
   "execution_count": 575,
   "id": "9e6b9c29-b0e7-4952-a4d8-6e61ef2a4973",
   "metadata": {
    "tags": []
   },
   "outputs": [
    {
     "name": "stdout",
     "output_type": "stream",
     "text": [
      "Average correlation between predictors:  0.7513723286503076\n"
     ]
    },
    {
     "data": {
      "text/html": [
       "<style type=\"text/css\">\n",
       "#T_d76ac_row0_col0, #T_d76ac_row1_col1, #T_d76ac_row2_col2, #T_d76ac_row3_col3, #T_d76ac_row4_col4, #T_d76ac_row5_col5, #T_d76ac_row6_col6, #T_d76ac_row7_col7, #T_d76ac_row8_col8, #T_d76ac_row9_col9, #T_d76ac_row10_col10, #T_d76ac_row11_col11, #T_d76ac_row12_col12, #T_d76ac_row13_col13, #T_d76ac_row14_col14, #T_d76ac_row15_col15, #T_d76ac_row16_col16, #T_d76ac_row17_col17, #T_d76ac_row18_col18, #T_d76ac_row19_col19 {\n",
       "  background-color: #b40426;\n",
       "  color: #f1f1f1;\n",
       "}\n",
       "#T_d76ac_row0_col1, #T_d76ac_row0_col7, #T_d76ac_row0_col16, #T_d76ac_row7_col0 {\n",
       "  background-color: #f59c7d;\n",
       "  color: #000000;\n",
       "}\n",
       "#T_d76ac_row0_col2, #T_d76ac_row18_col16 {\n",
       "  background-color: #f5a081;\n",
       "  color: #000000;\n",
       "}\n",
       "#T_d76ac_row0_col3, #T_d76ac_row1_col3 {\n",
       "  background-color: #3f53c6;\n",
       "  color: #f1f1f1;\n",
       "}\n",
       "#T_d76ac_row0_col4, #T_d76ac_row8_col15, #T_d76ac_row9_col3 {\n",
       "  background-color: #d1dae9;\n",
       "  color: #000000;\n",
       "}\n",
       "#T_d76ac_row0_col5, #T_d76ac_row6_col1, #T_d76ac_row10_col12 {\n",
       "  background-color: #6384eb;\n",
       "  color: #f1f1f1;\n",
       "}\n",
       "#T_d76ac_row0_col6, #T_d76ac_row10_col5 {\n",
       "  background-color: #5875e1;\n",
       "  color: #f1f1f1;\n",
       "}\n",
       "#T_d76ac_row0_col8 {\n",
       "  background-color: #516ddb;\n",
       "  color: #f1f1f1;\n",
       "}\n",
       "#T_d76ac_row0_col9, #T_d76ac_row8_col1, #T_d76ac_row9_col1, #T_d76ac_row9_col4, #T_d76ac_row9_col17, #T_d76ac_row12_col0, #T_d76ac_row15_col16, #T_d76ac_row18_col12 {\n",
       "  background-color: #7ea1fa;\n",
       "  color: #f1f1f1;\n",
       "}\n",
       "#T_d76ac_row0_col10 {\n",
       "  background-color: #ec7f63;\n",
       "  color: #f1f1f1;\n",
       "}\n",
       "#T_d76ac_row0_col11 {\n",
       "  background-color: #455cce;\n",
       "  color: #f1f1f1;\n",
       "}\n",
       "#T_d76ac_row0_col12, #T_d76ac_row7_col8, #T_d76ac_row15_col18 {\n",
       "  background-color: #485fd1;\n",
       "  color: #f1f1f1;\n",
       "}\n",
       "#T_d76ac_row0_col13, #T_d76ac_row0_col17, #T_d76ac_row12_col3, #T_d76ac_row16_col4, #T_d76ac_row17_col1 {\n",
       "  background-color: #e4d9d2;\n",
       "  color: #000000;\n",
       "}\n",
       "#T_d76ac_row0_col14, #T_d76ac_row2_col14, #T_d76ac_row15_col1, #T_d76ac_row16_col11 {\n",
       "  background-color: #506bda;\n",
       "  color: #f1f1f1;\n",
       "}\n",
       "#T_d76ac_row0_col15, #T_d76ac_row1_col8, #T_d76ac_row7_col6, #T_d76ac_row15_col10, #T_d76ac_row17_col15 {\n",
       "  background-color: #5e7de7;\n",
       "  color: #f1f1f1;\n",
       "}\n",
       "#T_d76ac_row0_col18 {\n",
       "  background-color: #f7b99e;\n",
       "  color: #000000;\n",
       "}\n",
       "#T_d76ac_row0_col19 {\n",
       "  background-color: #f29274;\n",
       "  color: #f1f1f1;\n",
       "}\n",
       "#T_d76ac_row1_col0, #T_d76ac_row10_col18, #T_d76ac_row16_col1 {\n",
       "  background-color: #f18f71;\n",
       "  color: #f1f1f1;\n",
       "}\n",
       "#T_d76ac_row1_col2, #T_d76ac_row1_col16 {\n",
       "  background-color: #ee8669;\n",
       "  color: #f1f1f1;\n",
       "}\n",
       "#T_d76ac_row1_col4, #T_d76ac_row14_col9 {\n",
       "  background-color: #edd2c3;\n",
       "  color: #000000;\n",
       "}\n",
       "#T_d76ac_row1_col5, #T_d76ac_row12_col19, #T_d76ac_row13_col14, #T_d76ac_row16_col5 {\n",
       "  background-color: #81a4fb;\n",
       "  color: #f1f1f1;\n",
       "}\n",
       "#T_d76ac_row1_col6, #T_d76ac_row16_col12, #T_d76ac_row18_col15, #T_d76ac_row19_col12 {\n",
       "  background-color: #4b64d5;\n",
       "  color: #f1f1f1;\n",
       "}\n",
       "#T_d76ac_row1_col7 {\n",
       "  background-color: #f7ad90;\n",
       "  color: #000000;\n",
       "}\n",
       "#T_d76ac_row1_col9, #T_d76ac_row10_col8, #T_d76ac_row16_col3 {\n",
       "  background-color: #6485ec;\n",
       "  color: #f1f1f1;\n",
       "}\n",
       "#T_d76ac_row1_col10, #T_d76ac_row1_col19, #T_d76ac_row13_col19, #T_d76ac_row18_col1 {\n",
       "  background-color: #f7ac8e;\n",
       "  color: #000000;\n",
       "}\n",
       "#T_d76ac_row1_col11, #T_d76ac_row3_col18, #T_d76ac_row13_col3, #T_d76ac_row13_col6, #T_d76ac_row17_col8 {\n",
       "  background-color: #6f92f3;\n",
       "  color: #f1f1f1;\n",
       "}\n",
       "#T_d76ac_row1_col12, #T_d76ac_row7_col3, #T_d76ac_row15_col2, #T_d76ac_row16_col9, #T_d76ac_row19_col3 {\n",
       "  background-color: #5b7ae5;\n",
       "  color: #f1f1f1;\n",
       "}\n",
       "#T_d76ac_row1_col13, #T_d76ac_row4_col13, #T_d76ac_row13_col4 {\n",
       "  background-color: #ecd3c5;\n",
       "  color: #000000;\n",
       "}\n",
       "#T_d76ac_row1_col14, #T_d76ac_row7_col12, #T_d76ac_row8_col4, #T_d76ac_row15_col17 {\n",
       "  background-color: #6c8ff1;\n",
       "  color: #f1f1f1;\n",
       "}\n",
       "#T_d76ac_row1_col15, #T_d76ac_row7_col5, #T_d76ac_row11_col3, #T_d76ac_row19_col5 {\n",
       "  background-color: #6180e9;\n",
       "  color: #f1f1f1;\n",
       "}\n",
       "#T_d76ac_row1_col17, #T_d76ac_row14_col6, #T_d76ac_row14_col12 {\n",
       "  background-color: #eed0c0;\n",
       "  color: #000000;\n",
       "}\n",
       "#T_d76ac_row1_col18, #T_d76ac_row2_col10, #T_d76ac_row10_col2, #T_d76ac_row18_col7 {\n",
       "  background-color: #f7a889;\n",
       "  color: #000000;\n",
       "}\n",
       "#T_d76ac_row2_col0, #T_d76ac_row2_col18, #T_d76ac_row12_col8 {\n",
       "  background-color: #f6a385;\n",
       "  color: #000000;\n",
       "}\n",
       "#T_d76ac_row2_col1, #T_d76ac_row6_col12, #T_d76ac_row16_col0, #T_d76ac_row16_col2 {\n",
       "  background-color: #f39778;\n",
       "  color: #000000;\n",
       "}\n",
       "#T_d76ac_row2_col3, #T_d76ac_row2_col5, #T_d76ac_row2_col8, #T_d76ac_row2_col11, #T_d76ac_row2_col12, #T_d76ac_row2_col15, #T_d76ac_row3_col1, #T_d76ac_row4_col8, #T_d76ac_row4_col14, #T_d76ac_row7_col9, #T_d76ac_row11_col0, #T_d76ac_row11_col2, #T_d76ac_row11_col4, #T_d76ac_row11_col7, #T_d76ac_row11_col10, #T_d76ac_row11_col13, #T_d76ac_row11_col16, #T_d76ac_row11_col17, #T_d76ac_row11_col18, #T_d76ac_row11_col19, #T_d76ac_row19_col6 {\n",
       "  background-color: #3b4cc0;\n",
       "  color: #f1f1f1;\n",
       "}\n",
       "#T_d76ac_row2_col4 {\n",
       "  background-color: #d9dce1;\n",
       "  color: #000000;\n",
       "}\n",
       "#T_d76ac_row2_col6, #T_d76ac_row10_col11 {\n",
       "  background-color: #3c4ec2;\n",
       "  color: #f1f1f1;\n",
       "}\n",
       "#T_d76ac_row2_col7, #T_d76ac_row10_col1, #T_d76ac_row16_col13, #T_d76ac_row16_col17 {\n",
       "  background-color: #f6bea4;\n",
       "  color: #000000;\n",
       "}\n",
       "#T_d76ac_row2_col9, #T_d76ac_row16_col6 {\n",
       "  background-color: #4257c9;\n",
       "  color: #f1f1f1;\n",
       "}\n",
       "#T_d76ac_row2_col13 {\n",
       "  background-color: #c9d7f0;\n",
       "  color: #000000;\n",
       "}\n",
       "#T_d76ac_row2_col16, #T_d76ac_row8_col12, #T_d76ac_row10_col16 {\n",
       "  background-color: #f59d7e;\n",
       "  color: #000000;\n",
       "}\n",
       "#T_d76ac_row2_col17, #T_d76ac_row6_col9, #T_d76ac_row8_col6, #T_d76ac_row15_col6 {\n",
       "  background-color: #f0cdbb;\n",
       "  color: #000000;\n",
       "}\n",
       "#T_d76ac_row2_col19, #T_d76ac_row3_col15 {\n",
       "  background-color: #f7b79b;\n",
       "  color: #000000;\n",
       "}\n",
       "#T_d76ac_row3_col0, #T_d76ac_row18_col5 {\n",
       "  background-color: #6282ea;\n",
       "  color: #f1f1f1;\n",
       "}\n",
       "#T_d76ac_row3_col2, #T_d76ac_row7_col15 {\n",
       "  background-color: #6687ed;\n",
       "  color: #f1f1f1;\n",
       "}\n",
       "#T_d76ac_row3_col4, #T_d76ac_row4_col12, #T_d76ac_row18_col3 {\n",
       "  background-color: #688aef;\n",
       "  color: #f1f1f1;\n",
       "}\n",
       "#T_d76ac_row3_col5 {\n",
       "  background-color: #d7dce3;\n",
       "  color: #000000;\n",
       "}\n",
       "#T_d76ac_row3_col6, #T_d76ac_row4_col2 {\n",
       "  background-color: #e6d7cf;\n",
       "  color: #000000;\n",
       "}\n",
       "#T_d76ac_row3_col7, #T_d76ac_row3_col16 {\n",
       "  background-color: #7a9df8;\n",
       "  color: #f1f1f1;\n",
       "}\n",
       "#T_d76ac_row3_col8, #T_d76ac_row14_col18, #T_d76ac_row19_col4 {\n",
       "  background-color: #d4dbe6;\n",
       "  color: #000000;\n",
       "}\n",
       "#T_d76ac_row3_col9, #T_d76ac_row12_col5 {\n",
       "  background-color: #bcd2f7;\n",
       "  color: #000000;\n",
       "}\n",
       "#T_d76ac_row3_col10, #T_d76ac_row3_col17, #T_d76ac_row14_col4 {\n",
       "  background-color: #84a7fc;\n",
       "  color: #f1f1f1;\n",
       "}\n",
       "#T_d76ac_row3_col11 {\n",
       "  background-color: #8badfd;\n",
       "  color: #000000;\n",
       "}\n",
       "#T_d76ac_row3_col12, #T_d76ac_row4_col0, #T_d76ac_row5_col6, #T_d76ac_row13_col18 {\n",
       "  background-color: #dbdcde;\n",
       "  color: #000000;\n",
       "}\n",
       "#T_d76ac_row3_col13, #T_d76ac_row12_col2, #T_d76ac_row15_col7, #T_d76ac_row18_col9 {\n",
       "  background-color: #7b9ff9;\n",
       "  color: #f1f1f1;\n",
       "}\n",
       "#T_d76ac_row3_col14 {\n",
       "  background-color: #bad0f8;\n",
       "  color: #000000;\n",
       "}\n",
       "#T_d76ac_row3_col19 {\n",
       "  background-color: #7da0f9;\n",
       "  color: #f1f1f1;\n",
       "}\n",
       "#T_d76ac_row4_col1, #T_d76ac_row4_col16 {\n",
       "  background-color: #e8d6cc;\n",
       "  color: #000000;\n",
       "}\n",
       "#T_d76ac_row4_col3 {\n",
       "  background-color: #5d7ce6;\n",
       "  color: #f1f1f1;\n",
       "}\n",
       "#T_d76ac_row4_col5, #T_d76ac_row17_col11 {\n",
       "  background-color: #4c66d6;\n",
       "  color: #f1f1f1;\n",
       "}\n",
       "#T_d76ac_row4_col6, #T_d76ac_row12_col4, #T_d76ac_row15_col11, #T_d76ac_row17_col14 {\n",
       "  background-color: #88abfd;\n",
       "  color: #000000;\n",
       "}\n",
       "#T_d76ac_row4_col7 {\n",
       "  background-color: #f3c8b2;\n",
       "  color: #000000;\n",
       "}\n",
       "#T_d76ac_row4_col9 {\n",
       "  background-color: #5470de;\n",
       "  color: #f1f1f1;\n",
       "}\n",
       "#T_d76ac_row4_col10, #T_d76ac_row10_col13, #T_d76ac_row12_col14, #T_d76ac_row15_col9 {\n",
       "  background-color: #e0dbd8;\n",
       "  color: #000000;\n",
       "}\n",
       "#T_d76ac_row4_col11, #T_d76ac_row10_col3, #T_d76ac_row17_col5 {\n",
       "  background-color: #5a78e4;\n",
       "  color: #f1f1f1;\n",
       "}\n",
       "#T_d76ac_row4_col15 {\n",
       "  background-color: #90b2fe;\n",
       "  color: #000000;\n",
       "}\n",
       "#T_d76ac_row4_col17, #T_d76ac_row18_col19 {\n",
       "  background-color: #f7b89c;\n",
       "  color: #000000;\n",
       "}\n",
       "#T_d76ac_row4_col18, #T_d76ac_row5_col3, #T_d76ac_row6_col8 {\n",
       "  background-color: #edd1c2;\n",
       "  color: #000000;\n",
       "}\n",
       "#T_d76ac_row4_col19, #T_d76ac_row18_col13 {\n",
       "  background-color: #dedcdb;\n",
       "  color: #000000;\n",
       "}\n",
       "#T_d76ac_row5_col0, #T_d76ac_row9_col0, #T_d76ac_row14_col16 {\n",
       "  background-color: #b5cdfa;\n",
       "  color: #000000;\n",
       "}\n",
       "#T_d76ac_row5_col1, #T_d76ac_row12_col9 {\n",
       "  background-color: #aec9fc;\n",
       "  color: #000000;\n",
       "}\n",
       "#T_d76ac_row5_col2 {\n",
       "  background-color: #9dbdff;\n",
       "  color: #000000;\n",
       "}\n",
       "#T_d76ac_row5_col4, #T_d76ac_row15_col4, #T_d76ac_row18_col6 {\n",
       "  background-color: #92b4fe;\n",
       "  color: #000000;\n",
       "}\n",
       "#T_d76ac_row5_col7, #T_d76ac_row5_col10, #T_d76ac_row15_col8 {\n",
       "  background-color: #b2ccfb;\n",
       "  color: #000000;\n",
       "}\n",
       "#T_d76ac_row5_col8, #T_d76ac_row5_col13 {\n",
       "  background-color: #cad8ef;\n",
       "  color: #000000;\n",
       "}\n",
       "#T_d76ac_row5_col9 {\n",
       "  background-color: #f7a98b;\n",
       "  color: #000000;\n",
       "}\n",
       "#T_d76ac_row5_col11 {\n",
       "  background-color: #d5dbe5;\n",
       "  color: #000000;\n",
       "}\n",
       "#T_d76ac_row5_col12 {\n",
       "  background-color: #d3dbe7;\n",
       "  color: #000000;\n",
       "}\n",
       "#T_d76ac_row5_col14 {\n",
       "  background-color: #f5c4ac;\n",
       "  color: #000000;\n",
       "}\n",
       "#T_d76ac_row5_col15, #T_d76ac_row17_col7 {\n",
       "  background-color: #f2c9b4;\n",
       "  color: #000000;\n",
       "}\n",
       "#T_d76ac_row5_col16, #T_d76ac_row8_col13 {\n",
       "  background-color: #c1d4f4;\n",
       "  color: #000000;\n",
       "}\n",
       "#T_d76ac_row5_col17, #T_d76ac_row18_col14 {\n",
       "  background-color: #a7c5fe;\n",
       "  color: #000000;\n",
       "}\n",
       "#T_d76ac_row5_col18, #T_d76ac_row9_col18 {\n",
       "  background-color: #9fbfff;\n",
       "  color: #000000;\n",
       "}\n",
       "#T_d76ac_row5_col19, #T_d76ac_row8_col19 {\n",
       "  background-color: #b3cdfb;\n",
       "  color: #000000;\n",
       "}\n",
       "#T_d76ac_row6_col0, #T_d76ac_row13_col12, #T_d76ac_row15_col13 {\n",
       "  background-color: #94b6ff;\n",
       "  color: #000000;\n",
       "}\n",
       "#T_d76ac_row6_col2, #T_d76ac_row15_col14 {\n",
       "  background-color: #85a8fc;\n",
       "  color: #f1f1f1;\n",
       "}\n",
       "#T_d76ac_row6_col3, #T_d76ac_row9_col15, #T_d76ac_row13_col7, #T_d76ac_row18_col4 {\n",
       "  background-color: #efcfbf;\n",
       "  color: #000000;\n",
       "}\n",
       "#T_d76ac_row6_col4 {\n",
       "  background-color: #abc8fd;\n",
       "  color: #000000;\n",
       "}\n",
       "#T_d76ac_row6_col5 {\n",
       "  background-color: #cdd9ec;\n",
       "  color: #000000;\n",
       "}\n",
       "#T_d76ac_row6_col7, #T_d76ac_row8_col16 {\n",
       "  background-color: #98b9ff;\n",
       "  color: #000000;\n",
       "}\n",
       "#T_d76ac_row6_col10 {\n",
       "  background-color: #9abbff;\n",
       "  color: #000000;\n",
       "}\n",
       "#T_d76ac_row6_col11, #T_d76ac_row8_col17 {\n",
       "  background-color: #aac7fd;\n",
       "  color: #000000;\n",
       "}\n",
       "#T_d76ac_row6_col13, #T_d76ac_row12_col18 {\n",
       "  background-color: #97b8ff;\n",
       "  color: #000000;\n",
       "}\n",
       "#T_d76ac_row6_col14 {\n",
       "  background-color: #e3d9d3;\n",
       "  color: #000000;\n",
       "}\n",
       "#T_d76ac_row6_col15 {\n",
       "  background-color: #f5c0a7;\n",
       "  color: #000000;\n",
       "}\n",
       "#T_d76ac_row6_col16, #T_d76ac_row15_col0, #T_d76ac_row19_col8 {\n",
       "  background-color: #7597f6;\n",
       "  color: #f1f1f1;\n",
       "}\n",
       "#T_d76ac_row6_col17, #T_d76ac_row6_col18 {\n",
       "  background-color: #afcafc;\n",
       "  color: #000000;\n",
       "}\n",
       "#T_d76ac_row6_col19, #T_d76ac_row9_col7, #T_d76ac_row10_col14 {\n",
       "  background-color: #799cf8;\n",
       "  color: #f1f1f1;\n",
       "}\n",
       "#T_d76ac_row7_col1, #T_d76ac_row7_col2, #T_d76ac_row8_col14, #T_d76ac_row10_col17, #T_d76ac_row13_col16, #T_d76ac_row19_col1 {\n",
       "  background-color: #f7ba9f;\n",
       "  color: #000000;\n",
       "}\n",
       "#T_d76ac_row7_col4, #T_d76ac_row17_col13 {\n",
       "  background-color: #efcebd;\n",
       "  color: #000000;\n",
       "}\n",
       "#T_d76ac_row7_col10 {\n",
       "  background-color: #e97a5f;\n",
       "  color: #f1f1f1;\n",
       "}\n",
       "#T_d76ac_row7_col11 {\n",
       "  background-color: #465ecf;\n",
       "  color: #f1f1f1;\n",
       "}\n",
       "#T_d76ac_row7_col13 {\n",
       "  background-color: #ead5c9;\n",
       "  color: #000000;\n",
       "}\n",
       "#T_d76ac_row7_col14 {\n",
       "  background-color: #4e68d8;\n",
       "  color: #f1f1f1;\n",
       "}\n",
       "#T_d76ac_row7_col16, #T_d76ac_row7_col19, #T_d76ac_row19_col7 {\n",
       "  background-color: #f6a283;\n",
       "  color: #000000;\n",
       "}\n",
       "#T_d76ac_row7_col17, #T_d76ac_row13_col17, #T_d76ac_row17_col19 {\n",
       "  background-color: #f2cbb7;\n",
       "  color: #000000;\n",
       "}\n",
       "#T_d76ac_row7_col18, #T_d76ac_row18_col0 {\n",
       "  background-color: #f7b093;\n",
       "  color: #000000;\n",
       "}\n",
       "#T_d76ac_row8_col0, #T_d76ac_row9_col13, #T_d76ac_row13_col5 {\n",
       "  background-color: #96b7ff;\n",
       "  color: #000000;\n",
       "}\n",
       "#T_d76ac_row8_col2, #T_d76ac_row8_col7, #T_d76ac_row9_col2, #T_d76ac_row9_col10, #T_d76ac_row11_col5 {\n",
       "  background-color: #8caffe;\n",
       "  color: #000000;\n",
       "}\n",
       "#T_d76ac_row8_col3, #T_d76ac_row13_col1 {\n",
       "  background-color: #e5d8d1;\n",
       "  color: #000000;\n",
       "}\n",
       "#T_d76ac_row8_col5, #T_d76ac_row14_col13 {\n",
       "  background-color: #bed2f6;\n",
       "  color: #000000;\n",
       "}\n",
       "#T_d76ac_row8_col9 {\n",
       "  background-color: #a3c2fe;\n",
       "  color: #000000;\n",
       "}\n",
       "#T_d76ac_row8_col10 {\n",
       "  background-color: #adc9fd;\n",
       "  color: #000000;\n",
       "}\n",
       "#T_d76ac_row8_col11, #T_d76ac_row12_col13, #T_d76ac_row14_col2 {\n",
       "  background-color: #b1cbfc;\n",
       "  color: #000000;\n",
       "}\n",
       "#T_d76ac_row8_col18, #T_d76ac_row14_col1 {\n",
       "  background-color: #a1c0ff;\n",
       "  color: #000000;\n",
       "}\n",
       "#T_d76ac_row9_col5, #T_d76ac_row19_col2, #T_d76ac_row19_col13 {\n",
       "  background-color: #f7b396;\n",
       "  color: #000000;\n",
       "}\n",
       "#T_d76ac_row9_col6, #T_d76ac_row19_col17 {\n",
       "  background-color: #f1cdba;\n",
       "  color: #000000;\n",
       "}\n",
       "#T_d76ac_row9_col8, #T_d76ac_row12_col7, #T_d76ac_row12_col10 {\n",
       "  background-color: #9ebeff;\n",
       "  color: #000000;\n",
       "}\n",
       "#T_d76ac_row9_col11, #T_d76ac_row15_col12 {\n",
       "  background-color: #c7d7f0;\n",
       "  color: #000000;\n",
       "}\n",
       "#T_d76ac_row9_col12 {\n",
       "  background-color: #b6cefa;\n",
       "  color: #000000;\n",
       "}\n",
       "#T_d76ac_row9_col14 {\n",
       "  background-color: #e2dad5;\n",
       "  color: #000000;\n",
       "}\n",
       "#T_d76ac_row9_col16 {\n",
       "  background-color: #8fb1fe;\n",
       "  color: #000000;\n",
       "}\n",
       "#T_d76ac_row9_col19 {\n",
       "  background-color: #89acfd;\n",
       "  color: #000000;\n",
       "}\n",
       "#T_d76ac_row10_col0 {\n",
       "  background-color: #ed8366;\n",
       "  color: #f1f1f1;\n",
       "}\n",
       "#T_d76ac_row10_col4, #T_d76ac_row14_col11 {\n",
       "  background-color: #d2dbe8;\n",
       "  color: #000000;\n",
       "}\n",
       "#T_d76ac_row10_col6 {\n",
       "  background-color: #5673e0;\n",
       "  color: #f1f1f1;\n",
       "}\n",
       "#T_d76ac_row10_col7, #T_d76ac_row16_col19 {\n",
       "  background-color: #eb7d62;\n",
       "  color: #f1f1f1;\n",
       "}\n",
       "#T_d76ac_row10_col9 {\n",
       "  background-color: #4358cb;\n",
       "  color: #f1f1f1;\n",
       "}\n",
       "#T_d76ac_row10_col15 {\n",
       "  background-color: #3e51c5;\n",
       "  color: #f1f1f1;\n",
       "}\n",
       "#T_d76ac_row10_col19, #T_d76ac_row17_col18, #T_d76ac_row19_col0 {\n",
       "  background-color: #f39475;\n",
       "  color: #000000;\n",
       "}\n",
       "#T_d76ac_row11_col1 {\n",
       "  background-color: #3d50c3;\n",
       "  color: #f1f1f1;\n",
       "}\n",
       "#T_d76ac_row11_col6, #T_d76ac_row11_col8, #T_d76ac_row11_col15 {\n",
       "  background-color: #6788ee;\n",
       "  color: #f1f1f1;\n",
       "}\n",
       "#T_d76ac_row11_col9 {\n",
       "  background-color: #8db0fe;\n",
       "  color: #000000;\n",
       "}\n",
       "#T_d76ac_row11_col12, #T_d76ac_row19_col14 {\n",
       "  background-color: #6e90f2;\n",
       "  color: #f1f1f1;\n",
       "}\n",
       "#T_d76ac_row11_col14 {\n",
       "  background-color: #82a6fb;\n",
       "  color: #f1f1f1;\n",
       "}\n",
       "#T_d76ac_row12_col1, #T_d76ac_row13_col9, #T_d76ac_row16_col14, #T_d76ac_row17_col3 {\n",
       "  background-color: #6b8df0;\n",
       "  color: #f1f1f1;\n",
       "}\n",
       "#T_d76ac_row12_col6 {\n",
       "  background-color: #f49a7b;\n",
       "  color: #000000;\n",
       "}\n",
       "#T_d76ac_row12_col11, #T_d76ac_row14_col0 {\n",
       "  background-color: #a9c6fd;\n",
       "  color: #000000;\n",
       "}\n",
       "#T_d76ac_row12_col15, #T_d76ac_row13_col2 {\n",
       "  background-color: #d8dce2;\n",
       "  color: #000000;\n",
       "}\n",
       "#T_d76ac_row12_col16 {\n",
       "  background-color: #7699f6;\n",
       "  color: #f1f1f1;\n",
       "}\n",
       "#T_d76ac_row12_col17 {\n",
       "  background-color: #a2c1ff;\n",
       "  color: #000000;\n",
       "}\n",
       "#T_d76ac_row13_col0, #T_d76ac_row13_col10 {\n",
       "  background-color: #ebd3c6;\n",
       "  color: #000000;\n",
       "}\n",
       "#T_d76ac_row13_col8 {\n",
       "  background-color: #9bbcff;\n",
       "  color: #000000;\n",
       "}\n",
       "#T_d76ac_row13_col11, #T_d76ac_row19_col15 {\n",
       "  background-color: #5977e3;\n",
       "  color: #f1f1f1;\n",
       "}\n",
       "#T_d76ac_row13_col15 {\n",
       "  background-color: #93b5fe;\n",
       "  color: #000000;\n",
       "}\n",
       "#T_d76ac_row14_col3, #T_d76ac_row15_col5 {\n",
       "  background-color: #dddcdc;\n",
       "  color: #000000;\n",
       "}\n",
       "#T_d76ac_row14_col5, #T_d76ac_row19_col18 {\n",
       "  background-color: #f5c2aa;\n",
       "  color: #000000;\n",
       "}\n",
       "#T_d76ac_row14_col7 {\n",
       "  background-color: #a5c3fe;\n",
       "  color: #000000;\n",
       "}\n",
       "#T_d76ac_row14_col8 {\n",
       "  background-color: #f7b194;\n",
       "  color: #000000;\n",
       "}\n",
       "#T_d76ac_row14_col10, #T_d76ac_row14_col17 {\n",
       "  background-color: #cbd8ee;\n",
       "  color: #000000;\n",
       "}\n",
       "#T_d76ac_row14_col15, #T_d76ac_row14_col19 {\n",
       "  background-color: #bfd3f6;\n",
       "  color: #000000;\n",
       "}\n",
       "#T_d76ac_row15_col3 {\n",
       "  background-color: #f7bca1;\n",
       "  color: #000000;\n",
       "}\n",
       "#T_d76ac_row15_col19 {\n",
       "  background-color: #7093f3;\n",
       "  color: #f1f1f1;\n",
       "}\n",
       "#T_d76ac_row16_col7 {\n",
       "  background-color: #f59f80;\n",
       "  color: #000000;\n",
       "}\n",
       "#T_d76ac_row16_col8, #T_d76ac_row18_col11 {\n",
       "  background-color: #5f7fe8;\n",
       "  color: #f1f1f1;\n",
       "}\n",
       "#T_d76ac_row16_col10, #T_d76ac_row18_col2 {\n",
       "  background-color: #f39577;\n",
       "  color: #000000;\n",
       "}\n",
       "#T_d76ac_row16_col15 {\n",
       "  background-color: #7396f5;\n",
       "  color: #f1f1f1;\n",
       "}\n",
       "#T_d76ac_row16_col18 {\n",
       "  background-color: #f7a688;\n",
       "  color: #000000;\n",
       "}\n",
       "#T_d76ac_row17_col0 {\n",
       "  background-color: #e7d7ce;\n",
       "  color: #000000;\n",
       "}\n",
       "#T_d76ac_row17_col2 {\n",
       "  background-color: #f3c7b1;\n",
       "  color: #000000;\n",
       "}\n",
       "#T_d76ac_row17_col4 {\n",
       "  background-color: #f6bda2;\n",
       "  color: #000000;\n",
       "}\n",
       "#T_d76ac_row17_col6 {\n",
       "  background-color: #80a3fa;\n",
       "  color: #f1f1f1;\n",
       "}\n",
       "#T_d76ac_row17_col9, #T_d76ac_row19_col11 {\n",
       "  background-color: #445acc;\n",
       "  color: #f1f1f1;\n",
       "}\n",
       "#T_d76ac_row17_col10 {\n",
       "  background-color: #f7b497;\n",
       "  color: #000000;\n",
       "}\n",
       "#T_d76ac_row17_col12, #T_d76ac_row18_col8 {\n",
       "  background-color: #779af7;\n",
       "  color: #f1f1f1;\n",
       "}\n",
       "#T_d76ac_row17_col16 {\n",
       "  background-color: #f6bfa6;\n",
       "  color: #000000;\n",
       "}\n",
       "#T_d76ac_row18_col10 {\n",
       "  background-color: #ee8468;\n",
       "  color: #f1f1f1;\n",
       "}\n",
       "#T_d76ac_row18_col17 {\n",
       "  background-color: #f18d6f;\n",
       "  color: #f1f1f1;\n",
       "}\n",
       "#T_d76ac_row19_col9 {\n",
       "  background-color: #4961d2;\n",
       "  color: #f1f1f1;\n",
       "}\n",
       "#T_d76ac_row19_col10 {\n",
       "  background-color: #f29072;\n",
       "  color: #f1f1f1;\n",
       "}\n",
       "#T_d76ac_row19_col16 {\n",
       "  background-color: #ec8165;\n",
       "  color: #f1f1f1;\n",
       "}\n",
       "</style>\n",
       "<table id=\"T_d76ac\">\n",
       "  <thead>\n",
       "    <tr>\n",
       "      <th class=\"blank level0\" >&nbsp;</th>\n",
       "      <th id=\"T_d76ac_level0_col0\" class=\"col_heading level0 col0\" >estimator 1</th>\n",
       "      <th id=\"T_d76ac_level0_col1\" class=\"col_heading level0 col1\" >estimator 2</th>\n",
       "      <th id=\"T_d76ac_level0_col2\" class=\"col_heading level0 col2\" >estimator 3</th>\n",
       "      <th id=\"T_d76ac_level0_col3\" class=\"col_heading level0 col3\" >estimator 4</th>\n",
       "      <th id=\"T_d76ac_level0_col4\" class=\"col_heading level0 col4\" >estimator 5</th>\n",
       "      <th id=\"T_d76ac_level0_col5\" class=\"col_heading level0 col5\" >estimator 6</th>\n",
       "      <th id=\"T_d76ac_level0_col6\" class=\"col_heading level0 col6\" >estimator 7</th>\n",
       "      <th id=\"T_d76ac_level0_col7\" class=\"col_heading level0 col7\" >estimator 8</th>\n",
       "      <th id=\"T_d76ac_level0_col8\" class=\"col_heading level0 col8\" >estimator 9</th>\n",
       "      <th id=\"T_d76ac_level0_col9\" class=\"col_heading level0 col9\" >estimator 10</th>\n",
       "      <th id=\"T_d76ac_level0_col10\" class=\"col_heading level0 col10\" >estimator 11</th>\n",
       "      <th id=\"T_d76ac_level0_col11\" class=\"col_heading level0 col11\" >estimator 12</th>\n",
       "      <th id=\"T_d76ac_level0_col12\" class=\"col_heading level0 col12\" >estimator 13</th>\n",
       "      <th id=\"T_d76ac_level0_col13\" class=\"col_heading level0 col13\" >estimator 14</th>\n",
       "      <th id=\"T_d76ac_level0_col14\" class=\"col_heading level0 col14\" >estimator 15</th>\n",
       "      <th id=\"T_d76ac_level0_col15\" class=\"col_heading level0 col15\" >estimator 16</th>\n",
       "      <th id=\"T_d76ac_level0_col16\" class=\"col_heading level0 col16\" >estimator 17</th>\n",
       "      <th id=\"T_d76ac_level0_col17\" class=\"col_heading level0 col17\" >estimator 18</th>\n",
       "      <th id=\"T_d76ac_level0_col18\" class=\"col_heading level0 col18\" >estimator 19</th>\n",
       "      <th id=\"T_d76ac_level0_col19\" class=\"col_heading level0 col19\" >estimator 20</th>\n",
       "    </tr>\n",
       "  </thead>\n",
       "  <tbody>\n",
       "    <tr>\n",
       "      <th id=\"T_d76ac_level0_row0\" class=\"row_heading level0 row0\" >estimator 1</th>\n",
       "      <td id=\"T_d76ac_row0_col0\" class=\"data row0 col0\" >1.000000</td>\n",
       "      <td id=\"T_d76ac_row0_col1\" class=\"data row0 col1\" >0.917756</td>\n",
       "      <td id=\"T_d76ac_row0_col2\" class=\"data row0 col2\" >0.897804</td>\n",
       "      <td id=\"T_d76ac_row0_col3\" class=\"data row0 col3\" >0.677631</td>\n",
       "      <td id=\"T_d76ac_row0_col4\" class=\"data row0 col4\" >0.813942</td>\n",
       "      <td id=\"T_d76ac_row0_col5\" class=\"data row0 col5\" >0.766487</td>\n",
       "      <td id=\"T_d76ac_row0_col6\" class=\"data row0 col6\" >0.731455</td>\n",
       "      <td id=\"T_d76ac_row0_col7\" class=\"data row0 col7\" >0.906275</td>\n",
       "      <td id=\"T_d76ac_row0_col8\" class=\"data row0 col8\" >0.733554</td>\n",
       "      <td id=\"T_d76ac_row0_col9\" class=\"data row0 col9\" >0.766487</td>\n",
       "      <td id=\"T_d76ac_row0_col10\" class=\"data row0 col10\" >0.927517</td>\n",
       "      <td id=\"T_d76ac_row0_col11\" class=\"data row0 col11\" >0.631492</td>\n",
       "      <td id=\"T_d76ac_row0_col12\" class=\"data row0 col12\" >0.707811</td>\n",
       "      <td id=\"T_d76ac_row0_col13\" class=\"data row0 col13\" >0.838019</td>\n",
       "      <td id=\"T_d76ac_row0_col14\" class=\"data row0 col14\" >0.753346</td>\n",
       "      <td id=\"T_d76ac_row0_col15\" class=\"data row0 col15\" >0.698208</td>\n",
       "      <td id=\"T_d76ac_row0_col16\" class=\"data row0 col16\" >0.909649</td>\n",
       "      <td id=\"T_d76ac_row0_col17\" class=\"data row0 col17\" >0.831580</td>\n",
       "      <td id=\"T_d76ac_row0_col18\" class=\"data row0 col18\" >0.886182</td>\n",
       "      <td id=\"T_d76ac_row0_col19\" class=\"data row0 col19\" >0.913542</td>\n",
       "    </tr>\n",
       "    <tr>\n",
       "      <th id=\"T_d76ac_level0_row1\" class=\"row_heading level0 row1\" >estimator 2</th>\n",
       "      <td id=\"T_d76ac_row1_col0\" class=\"data row1 col0\" >0.917756</td>\n",
       "      <td id=\"T_d76ac_row1_col1\" class=\"data row1 col1\" >1.000000</td>\n",
       "      <td id=\"T_d76ac_row1_col2\" class=\"data row1 col2\" >0.921816</td>\n",
       "      <td id=\"T_d76ac_row1_col3\" class=\"data row1 col3\" >0.677455</td>\n",
       "      <td id=\"T_d76ac_row1_col4\" class=\"data row1 col4\" >0.852709</td>\n",
       "      <td id=\"T_d76ac_row1_col5\" class=\"data row1 col5\" >0.789227</td>\n",
       "      <td id=\"T_d76ac_row1_col6\" class=\"data row1 col6\" >0.719151</td>\n",
       "      <td id=\"T_d76ac_row1_col7\" class=\"data row1 col7\" >0.889424</td>\n",
       "      <td id=\"T_d76ac_row1_col8\" class=\"data row1 col8\" >0.745182</td>\n",
       "      <td id=\"T_d76ac_row1_col9\" class=\"data row1 col9\" >0.745088</td>\n",
       "      <td id=\"T_d76ac_row1_col10\" class=\"data row1 col10\" >0.886044</td>\n",
       "      <td id=\"T_d76ac_row1_col11\" class=\"data row1 col11\" >0.680859</td>\n",
       "      <td id=\"T_d76ac_row1_col12\" class=\"data row1 col12\" >0.727303</td>\n",
       "      <td id=\"T_d76ac_row1_col13\" class=\"data row1 col13\" >0.849794</td>\n",
       "      <td id=\"T_d76ac_row1_col14\" class=\"data row1 col14\" >0.775948</td>\n",
       "      <td id=\"T_d76ac_row1_col15\" class=\"data row1 col15\" >0.700457</td>\n",
       "      <td id=\"T_d76ac_row1_col16\" class=\"data row1 col16\" >0.927645</td>\n",
       "      <td id=\"T_d76ac_row1_col17\" class=\"data row1 col17\" >0.848342</td>\n",
       "      <td id=\"T_d76ac_row1_col18\" class=\"data row1 col18\" >0.903972</td>\n",
       "      <td id=\"T_d76ac_row1_col19\" class=\"data row1 col19\" >0.890312</td>\n",
       "    </tr>\n",
       "    <tr>\n",
       "      <th id=\"T_d76ac_level0_row2\" class=\"row_heading level0 row2\" >estimator 3</th>\n",
       "      <td id=\"T_d76ac_row2_col0\" class=\"data row2 col0\" >0.897804</td>\n",
       "      <td id=\"T_d76ac_row2_col1\" class=\"data row2 col1\" >0.921816</td>\n",
       "      <td id=\"T_d76ac_row2_col2\" class=\"data row2 col2\" >1.000000</td>\n",
       "      <td id=\"T_d76ac_row2_col3\" class=\"data row2 col3\" >0.671449</td>\n",
       "      <td id=\"T_d76ac_row2_col4\" class=\"data row2 col4\" >0.823772</td>\n",
       "      <td id=\"T_d76ac_row2_col5\" class=\"data row2 col5\" >0.730747</td>\n",
       "      <td id=\"T_d76ac_row2_col6\" class=\"data row2 col6\" >0.704981</td>\n",
       "      <td id=\"T_d76ac_row2_col7\" class=\"data row2 col7\" >0.870082</td>\n",
       "      <td id=\"T_d76ac_row2_col8\" class=\"data row2 col8\" >0.712507</td>\n",
       "      <td id=\"T_d76ac_row2_col9\" class=\"data row2 col9\" >0.713057</td>\n",
       "      <td id=\"T_d76ac_row2_col10\" class=\"data row2 col10\" >0.890173</td>\n",
       "      <td id=\"T_d76ac_row2_col11\" class=\"data row2 col11\" >0.617848</td>\n",
       "      <td id=\"T_d76ac_row2_col12\" class=\"data row2 col12\" >0.694368</td>\n",
       "      <td id=\"T_d76ac_row2_col13\" class=\"data row2 col13\" >0.802935</td>\n",
       "      <td id=\"T_d76ac_row2_col14\" class=\"data row2 col14\" >0.752900</td>\n",
       "      <td id=\"T_d76ac_row2_col15\" class=\"data row2 col15\" >0.658976</td>\n",
       "      <td id=\"T_d76ac_row2_col16\" class=\"data row2 col16\" >0.907367</td>\n",
       "      <td id=\"T_d76ac_row2_col17\" class=\"data row2 col17\" >0.852289</td>\n",
       "      <td id=\"T_d76ac_row2_col18\" class=\"data row2 col18\" >0.908006</td>\n",
       "      <td id=\"T_d76ac_row2_col19\" class=\"data row2 col19\" >0.877963</td>\n",
       "    </tr>\n",
       "    <tr>\n",
       "      <th id=\"T_d76ac_level0_row3\" class=\"row_heading level0 row3\" >estimator 4</th>\n",
       "      <td id=\"T_d76ac_row3_col0\" class=\"data row3 col0\" >0.677631</td>\n",
       "      <td id=\"T_d76ac_row3_col1\" class=\"data row3 col1\" >0.677455</td>\n",
       "      <td id=\"T_d76ac_row3_col2\" class=\"data row3 col2\" >0.671449</td>\n",
       "      <td id=\"T_d76ac_row3_col3\" class=\"data row3 col3\" >1.000000</td>\n",
       "      <td id=\"T_d76ac_row3_col4\" class=\"data row3 col4\" >0.707581</td>\n",
       "      <td id=\"T_d76ac_row3_col5\" class=\"data row3 col5\" >0.859537</td>\n",
       "      <td id=\"T_d76ac_row3_col6\" class=\"data row3 col6\" >0.862196</td>\n",
       "      <td id=\"T_d76ac_row3_col7\" class=\"data row3 col7\" >0.706112</td>\n",
       "      <td id=\"T_d76ac_row3_col8\" class=\"data row3 col8\" >0.846083</td>\n",
       "      <td id=\"T_d76ac_row3_col9\" class=\"data row3 col9\" >0.820389</td>\n",
       "      <td id=\"T_d76ac_row3_col10\" class=\"data row3 col10\" >0.705102</td>\n",
       "      <td id=\"T_d76ac_row3_col11\" class=\"data row3 col11\" >0.711680</td>\n",
       "      <td id=\"T_d76ac_row3_col12\" class=\"data row3 col12\" >0.844994</td>\n",
       "      <td id=\"T_d76ac_row3_col13\" class=\"data row3 col13\" >0.725844</td>\n",
       "      <td id=\"T_d76ac_row3_col14\" class=\"data row3 col14\" >0.835775</td>\n",
       "      <td id=\"T_d76ac_row3_col15\" class=\"data row3 col15\" >0.886816</td>\n",
       "      <td id=\"T_d76ac_row3_col16\" class=\"data row3 col16\" >0.716149</td>\n",
       "      <td id=\"T_d76ac_row3_col17\" class=\"data row3 col17\" >0.721990</td>\n",
       "      <td id=\"T_d76ac_row3_col18\" class=\"data row3 col18\" >0.719057</td>\n",
       "      <td id=\"T_d76ac_row3_col19\" class=\"data row3 col19\" >0.707324</td>\n",
       "    </tr>\n",
       "    <tr>\n",
       "      <th id=\"T_d76ac_level0_row4\" class=\"row_heading level0 row4\" >estimator 5</th>\n",
       "      <td id=\"T_d76ac_row4_col0\" class=\"data row4 col0\" >0.813942</td>\n",
       "      <td id=\"T_d76ac_row4_col1\" class=\"data row4 col1\" >0.852709</td>\n",
       "      <td id=\"T_d76ac_row4_col2\" class=\"data row4 col2\" >0.823772</td>\n",
       "      <td id=\"T_d76ac_row4_col3\" class=\"data row4 col3\" >0.707581</td>\n",
       "      <td id=\"T_d76ac_row4_col4\" class=\"data row4 col4\" >1.000000</td>\n",
       "      <td id=\"T_d76ac_row4_col5\" class=\"data row4 col5\" >0.747261</td>\n",
       "      <td id=\"T_d76ac_row4_col6\" class=\"data row4 col6\" >0.773480</td>\n",
       "      <td id=\"T_d76ac_row4_col7\" class=\"data row4 col7\" >0.857729</td>\n",
       "      <td id=\"T_d76ac_row4_col8\" class=\"data row4 col8\" >0.711845</td>\n",
       "      <td id=\"T_d76ac_row4_col9\" class=\"data row4 col9\" >0.729671</td>\n",
       "      <td id=\"T_d76ac_row4_col10\" class=\"data row4 col10\" >0.814945</td>\n",
       "      <td id=\"T_d76ac_row4_col11\" class=\"data row4 col11\" >0.657456</td>\n",
       "      <td id=\"T_d76ac_row4_col12\" class=\"data row4 col12\" >0.738881</td>\n",
       "      <td id=\"T_d76ac_row4_col13\" class=\"data row4 col13\" >0.850803</td>\n",
       "      <td id=\"T_d76ac_row4_col14\" class=\"data row4 col14\" >0.734105</td>\n",
       "      <td id=\"T_d76ac_row4_col15\" class=\"data row4 col15\" >0.747424</td>\n",
       "      <td id=\"T_d76ac_row4_col16\" class=\"data row4 col16\" >0.838941</td>\n",
       "      <td id=\"T_d76ac_row4_col17\" class=\"data row4 col17\" >0.880601</td>\n",
       "      <td id=\"T_d76ac_row4_col18\" class=\"data row4 col18\" >0.855794</td>\n",
       "      <td id=\"T_d76ac_row4_col19\" class=\"data row4 col19\" >0.817596</td>\n",
       "    </tr>\n",
       "    <tr>\n",
       "      <th id=\"T_d76ac_level0_row5\" class=\"row_heading level0 row5\" >estimator 6</th>\n",
       "      <td id=\"T_d76ac_row5_col0\" class=\"data row5 col0\" >0.766487</td>\n",
       "      <td id=\"T_d76ac_row5_col1\" class=\"data row5 col1\" >0.789227</td>\n",
       "      <td id=\"T_d76ac_row5_col2\" class=\"data row5 col2\" >0.730747</td>\n",
       "      <td id=\"T_d76ac_row5_col3\" class=\"data row5 col3\" >0.859537</td>\n",
       "      <td id=\"T_d76ac_row5_col4\" class=\"data row5 col4\" >0.747261</td>\n",
       "      <td id=\"T_d76ac_row5_col5\" class=\"data row5 col5\" >1.000000</td>\n",
       "      <td id=\"T_d76ac_row5_col6\" class=\"data row5 col6\" >0.849968</td>\n",
       "      <td id=\"T_d76ac_row5_col7\" class=\"data row5 col7\" >0.764210</td>\n",
       "      <td id=\"T_d76ac_row5_col8\" class=\"data row5 col8\" >0.836461</td>\n",
       "      <td id=\"T_d76ac_row5_col9\" class=\"data row5 col9\" >0.914622</td>\n",
       "      <td id=\"T_d76ac_row5_col10\" class=\"data row5 col10\" >0.756326</td>\n",
       "      <td id=\"T_d76ac_row5_col11\" class=\"data row5 col11\" >0.797743</td>\n",
       "      <td id=\"T_d76ac_row5_col12\" class=\"data row5 col12\" >0.835847</td>\n",
       "      <td id=\"T_d76ac_row5_col13\" class=\"data row5 col13\" >0.805129</td>\n",
       "      <td id=\"T_d76ac_row5_col14\" class=\"data row5 col14\" >0.900667</td>\n",
       "      <td id=\"T_d76ac_row5_col15\" class=\"data row5 col15\" >0.865919</td>\n",
       "      <td id=\"T_d76ac_row5_col16\" class=\"data row5 col16\" >0.788787</td>\n",
       "      <td id=\"T_d76ac_row5_col17\" class=\"data row5 col17\" >0.758622</td>\n",
       "      <td id=\"T_d76ac_row5_col18\" class=\"data row5 col18\" >0.764958</td>\n",
       "      <td id=\"T_d76ac_row5_col19\" class=\"data row5 col19\" >0.763705</td>\n",
       "    </tr>\n",
       "    <tr>\n",
       "      <th id=\"T_d76ac_level0_row6\" class=\"row_heading level0 row6\" >estimator 7</th>\n",
       "      <td id=\"T_d76ac_row6_col0\" class=\"data row6 col0\" >0.731455</td>\n",
       "      <td id=\"T_d76ac_row6_col1\" class=\"data row6 col1\" >0.719151</td>\n",
       "      <td id=\"T_d76ac_row6_col2\" class=\"data row6 col2\" >0.704981</td>\n",
       "      <td id=\"T_d76ac_row6_col3\" class=\"data row6 col3\" >0.862196</td>\n",
       "      <td id=\"T_d76ac_row6_col4\" class=\"data row6 col4\" >0.773480</td>\n",
       "      <td id=\"T_d76ac_row6_col5\" class=\"data row6 col5\" >0.849968</td>\n",
       "      <td id=\"T_d76ac_row6_col6\" class=\"data row6 col6\" >1.000000</td>\n",
       "      <td id=\"T_d76ac_row6_col7\" class=\"data row6 col7\" >0.737307</td>\n",
       "      <td id=\"T_d76ac_row6_col8\" class=\"data row6 col8\" >0.877059</td>\n",
       "      <td id=\"T_d76ac_row6_col9\" class=\"data row6 col9\" >0.878132</td>\n",
       "      <td id=\"T_d76ac_row6_col10\" class=\"data row6 col10\" >0.729672</td>\n",
       "      <td id=\"T_d76ac_row6_col11\" class=\"data row6 col11\" >0.744906</td>\n",
       "      <td id=\"T_d76ac_row6_col12\" class=\"data row6 col12\" >0.924860</td>\n",
       "      <td id=\"T_d76ac_row6_col13\" class=\"data row6 col13\" >0.751974</td>\n",
       "      <td id=\"T_d76ac_row6_col14\" class=\"data row6 col14\" >0.873695</td>\n",
       "      <td id=\"T_d76ac_row6_col15\" class=\"data row6 col15\" >0.877339</td>\n",
       "      <td id=\"T_d76ac_row6_col16\" class=\"data row6 col16\" >0.710542</td>\n",
       "      <td id=\"T_d76ac_row6_col17\" class=\"data row6 col17\" >0.766474</td>\n",
       "      <td id=\"T_d76ac_row6_col18\" class=\"data row6 col18\" >0.781490</td>\n",
       "      <td id=\"T_d76ac_row6_col19\" class=\"data row6 col19\" >0.702833</td>\n",
       "    </tr>\n",
       "    <tr>\n",
       "      <th id=\"T_d76ac_level0_row7\" class=\"row_heading level0 row7\" >estimator 8</th>\n",
       "      <td id=\"T_d76ac_row7_col0\" class=\"data row7 col0\" >0.906275</td>\n",
       "      <td id=\"T_d76ac_row7_col1\" class=\"data row7 col1\" >0.889424</td>\n",
       "      <td id=\"T_d76ac_row7_col2\" class=\"data row7 col2\" >0.870082</td>\n",
       "      <td id=\"T_d76ac_row7_col3\" class=\"data row7 col3\" >0.706112</td>\n",
       "      <td id=\"T_d76ac_row7_col4\" class=\"data row7 col4\" >0.857729</td>\n",
       "      <td id=\"T_d76ac_row7_col5\" class=\"data row7 col5\" >0.764210</td>\n",
       "      <td id=\"T_d76ac_row7_col6\" class=\"data row7 col6\" >0.737307</td>\n",
       "      <td id=\"T_d76ac_row7_col7\" class=\"data row7 col7\" >1.000000</td>\n",
       "      <td id=\"T_d76ac_row7_col8\" class=\"data row7 col8\" >0.724930</td>\n",
       "      <td id=\"T_d76ac_row7_col9\" class=\"data row7 col9\" >0.705312</td>\n",
       "      <td id=\"T_d76ac_row7_col10\" class=\"data row7 col10\" >0.932526</td>\n",
       "      <td id=\"T_d76ac_row7_col11\" class=\"data row7 col11\" >0.633992</td>\n",
       "      <td id=\"T_d76ac_row7_col12\" class=\"data row7 col12\" >0.743227</td>\n",
       "      <td id=\"T_d76ac_row7_col13\" class=\"data row7 col13\" >0.845647</td>\n",
       "      <td id=\"T_d76ac_row7_col14\" class=\"data row7 col14\" >0.751113</td>\n",
       "      <td id=\"T_d76ac_row7_col15\" class=\"data row7 col15\" >0.706910</td>\n",
       "      <td id=\"T_d76ac_row7_col16\" class=\"data row7 col16\" >0.903264</td>\n",
       "      <td id=\"T_d76ac_row7_col17\" class=\"data row7 col17\" >0.856722</td>\n",
       "      <td id=\"T_d76ac_row7_col18\" class=\"data row7 col18\" >0.895270</td>\n",
       "      <td id=\"T_d76ac_row7_col19\" class=\"data row7 col19\" >0.899950</td>\n",
       "    </tr>\n",
       "    <tr>\n",
       "      <th id=\"T_d76ac_level0_row8\" class=\"row_heading level0 row8\" >estimator 9</th>\n",
       "      <td id=\"T_d76ac_row8_col0\" class=\"data row8 col0\" >0.733554</td>\n",
       "      <td id=\"T_d76ac_row8_col1\" class=\"data row8 col1\" >0.745182</td>\n",
       "      <td id=\"T_d76ac_row8_col2\" class=\"data row8 col2\" >0.712507</td>\n",
       "      <td id=\"T_d76ac_row8_col3\" class=\"data row8 col3\" >0.846083</td>\n",
       "      <td id=\"T_d76ac_row8_col4\" class=\"data row8 col4\" >0.711845</td>\n",
       "      <td id=\"T_d76ac_row8_col5\" class=\"data row8 col5\" >0.836461</td>\n",
       "      <td id=\"T_d76ac_row8_col6\" class=\"data row8 col6\" >0.877059</td>\n",
       "      <td id=\"T_d76ac_row8_col7\" class=\"data row8 col7\" >0.724930</td>\n",
       "      <td id=\"T_d76ac_row8_col8\" class=\"data row8 col8\" >1.000000</td>\n",
       "      <td id=\"T_d76ac_row8_col9\" class=\"data row8 col9\" >0.797883</td>\n",
       "      <td id=\"T_d76ac_row8_col10\" class=\"data row8 col10\" >0.750477</td>\n",
       "      <td id=\"T_d76ac_row8_col11\" class=\"data row8 col11\" >0.752843</td>\n",
       "      <td id=\"T_d76ac_row8_col12\" class=\"data row8 col12\" >0.921153</td>\n",
       "      <td id=\"T_d76ac_row8_col13\" class=\"data row8 col13\" >0.795655</td>\n",
       "      <td id=\"T_d76ac_row8_col14\" class=\"data row8 col14\" >0.909186</td>\n",
       "      <td id=\"T_d76ac_row8_col15\" class=\"data row8 col15\" >0.814793</td>\n",
       "      <td id=\"T_d76ac_row8_col16\" class=\"data row8 col16\" >0.746242</td>\n",
       "      <td id=\"T_d76ac_row8_col17\" class=\"data row8 col17\" >0.760228</td>\n",
       "      <td id=\"T_d76ac_row8_col18\" class=\"data row8 col18\" >0.766460</td>\n",
       "      <td id=\"T_d76ac_row8_col19\" class=\"data row8 col19\" >0.764655</td>\n",
       "    </tr>\n",
       "    <tr>\n",
       "      <th id=\"T_d76ac_level0_row9\" class=\"row_heading level0 row9\" >estimator 10</th>\n",
       "      <td id=\"T_d76ac_row9_col0\" class=\"data row9 col0\" >0.766487</td>\n",
       "      <td id=\"T_d76ac_row9_col1\" class=\"data row9 col1\" >0.745088</td>\n",
       "      <td id=\"T_d76ac_row9_col2\" class=\"data row9 col2\" >0.713057</td>\n",
       "      <td id=\"T_d76ac_row9_col3\" class=\"data row9 col3\" >0.820389</td>\n",
       "      <td id=\"T_d76ac_row9_col4\" class=\"data row9 col4\" >0.729671</td>\n",
       "      <td id=\"T_d76ac_row9_col5\" class=\"data row9 col5\" >0.914622</td>\n",
       "      <td id=\"T_d76ac_row9_col6\" class=\"data row9 col6\" >0.878132</td>\n",
       "      <td id=\"T_d76ac_row9_col7\" class=\"data row9 col7\" >0.705312</td>\n",
       "      <td id=\"T_d76ac_row9_col8\" class=\"data row9 col8\" >0.797883</td>\n",
       "      <td id=\"T_d76ac_row9_col9\" class=\"data row9 col9\" >1.000000</td>\n",
       "      <td id=\"T_d76ac_row9_col10\" class=\"data row9 col10\" >0.713903</td>\n",
       "      <td id=\"T_d76ac_row9_col11\" class=\"data row9 col11\" >0.779916</td>\n",
       "      <td id=\"T_d76ac_row9_col12\" class=\"data row9 col12\" >0.806747</td>\n",
       "      <td id=\"T_d76ac_row9_col13\" class=\"data row9 col13\" >0.750869</td>\n",
       "      <td id=\"T_d76ac_row9_col14\" class=\"data row9 col14\" >0.872284</td>\n",
       "      <td id=\"T_d76ac_row9_col15\" class=\"data row9 col15\" >0.856329</td>\n",
       "      <td id=\"T_d76ac_row9_col16\" class=\"data row9 col16\" >0.736577</td>\n",
       "      <td id=\"T_d76ac_row9_col17\" class=\"data row9 col17\" >0.715406</td>\n",
       "      <td id=\"T_d76ac_row9_col18\" class=\"data row9 col18\" >0.764958</td>\n",
       "      <td id=\"T_d76ac_row9_col19\" class=\"data row9 col19\" >0.719967</td>\n",
       "    </tr>\n",
       "    <tr>\n",
       "      <th id=\"T_d76ac_level0_row10\" class=\"row_heading level0 row10\" >estimator 11</th>\n",
       "      <td id=\"T_d76ac_row10_col0\" class=\"data row10 col0\" >0.927517</td>\n",
       "      <td id=\"T_d76ac_row10_col1\" class=\"data row10 col1\" >0.886044</td>\n",
       "      <td id=\"T_d76ac_row10_col2\" class=\"data row10 col2\" >0.890173</td>\n",
       "      <td id=\"T_d76ac_row10_col3\" class=\"data row10 col3\" >0.705102</td>\n",
       "      <td id=\"T_d76ac_row10_col4\" class=\"data row10 col4\" >0.814945</td>\n",
       "      <td id=\"T_d76ac_row10_col5\" class=\"data row10 col5\" >0.756326</td>\n",
       "      <td id=\"T_d76ac_row10_col6\" class=\"data row10 col6\" >0.729672</td>\n",
       "      <td id=\"T_d76ac_row10_col7\" class=\"data row10 col7\" >0.932526</td>\n",
       "      <td id=\"T_d76ac_row10_col8\" class=\"data row10 col8\" >0.750477</td>\n",
       "      <td id=\"T_d76ac_row10_col9\" class=\"data row10 col9\" >0.713903</td>\n",
       "      <td id=\"T_d76ac_row10_col10\" class=\"data row10 col10\" >1.000000</td>\n",
       "      <td id=\"T_d76ac_row10_col11\" class=\"data row10 col11\" >0.620002</td>\n",
       "      <td id=\"T_d76ac_row10_col12\" class=\"data row10 col12\" >0.734168</td>\n",
       "      <td id=\"T_d76ac_row10_col13\" class=\"data row10 col13\" >0.832601</td>\n",
       "      <td id=\"T_d76ac_row10_col14\" class=\"data row10 col14\" >0.785549</td>\n",
       "      <td id=\"T_d76ac_row10_col15\" class=\"data row10 col15\" >0.663743</td>\n",
       "      <td id=\"T_d76ac_row10_col16\" class=\"data row10 col16\" >0.908544</td>\n",
       "      <td id=\"T_d76ac_row10_col17\" class=\"data row10 col17\" >0.877389</td>\n",
       "      <td id=\"T_d76ac_row10_col18\" class=\"data row10 col18\" >0.923911</td>\n",
       "      <td id=\"T_d76ac_row10_col19\" class=\"data row10 col19\" >0.912785</td>\n",
       "    </tr>\n",
       "    <tr>\n",
       "      <th id=\"T_d76ac_level0_row11\" class=\"row_heading level0 row11\" >estimator 12</th>\n",
       "      <td id=\"T_d76ac_row11_col0\" class=\"data row11 col0\" >0.631492</td>\n",
       "      <td id=\"T_d76ac_row11_col1\" class=\"data row11 col1\" >0.680859</td>\n",
       "      <td id=\"T_d76ac_row11_col2\" class=\"data row11 col2\" >0.617848</td>\n",
       "      <td id=\"T_d76ac_row11_col3\" class=\"data row11 col3\" >0.711680</td>\n",
       "      <td id=\"T_d76ac_row11_col4\" class=\"data row11 col4\" >0.657456</td>\n",
       "      <td id=\"T_d76ac_row11_col5\" class=\"data row11 col5\" >0.797743</td>\n",
       "      <td id=\"T_d76ac_row11_col6\" class=\"data row11 col6\" >0.744906</td>\n",
       "      <td id=\"T_d76ac_row11_col7\" class=\"data row11 col7\" >0.633992</td>\n",
       "      <td id=\"T_d76ac_row11_col8\" class=\"data row11 col8\" >0.752843</td>\n",
       "      <td id=\"T_d76ac_row11_col9\" class=\"data row11 col9\" >0.779916</td>\n",
       "      <td id=\"T_d76ac_row11_col10\" class=\"data row11 col10\" >0.620002</td>\n",
       "      <td id=\"T_d76ac_row11_col11\" class=\"data row11 col11\" >1.000000</td>\n",
       "      <td id=\"T_d76ac_row11_col12\" class=\"data row11 col12\" >0.743760</td>\n",
       "      <td id=\"T_d76ac_row11_col13\" class=\"data row11 col13\" >0.656303</td>\n",
       "      <td id=\"T_d76ac_row11_col14\" class=\"data row11 col14\" >0.793294</td>\n",
       "      <td id=\"T_d76ac_row11_col15\" class=\"data row11 col15\" >0.707828</td>\n",
       "      <td id=\"T_d76ac_row11_col16\" class=\"data row11 col16\" >0.645742</td>\n",
       "      <td id=\"T_d76ac_row11_col17\" class=\"data row11 col17\" >0.640980</td>\n",
       "      <td id=\"T_d76ac_row11_col18\" class=\"data row11 col18\" >0.663704</td>\n",
       "      <td id=\"T_d76ac_row11_col19\" class=\"data row11 col19\" >0.630972</td>\n",
       "    </tr>\n",
       "    <tr>\n",
       "      <th id=\"T_d76ac_level0_row12\" class=\"row_heading level0 row12\" >estimator 13</th>\n",
       "      <td id=\"T_d76ac_row12_col0\" class=\"data row12 col0\" >0.707811</td>\n",
       "      <td id=\"T_d76ac_row12_col1\" class=\"data row12 col1\" >0.727303</td>\n",
       "      <td id=\"T_d76ac_row12_col2\" class=\"data row12 col2\" >0.694368</td>\n",
       "      <td id=\"T_d76ac_row12_col3\" class=\"data row12 col3\" >0.844994</td>\n",
       "      <td id=\"T_d76ac_row12_col4\" class=\"data row12 col4\" >0.738881</td>\n",
       "      <td id=\"T_d76ac_row12_col5\" class=\"data row12 col5\" >0.835847</td>\n",
       "      <td id=\"T_d76ac_row12_col6\" class=\"data row12 col6\" >0.924860</td>\n",
       "      <td id=\"T_d76ac_row12_col7\" class=\"data row12 col7\" >0.743227</td>\n",
       "      <td id=\"T_d76ac_row12_col8\" class=\"data row12 col8\" >0.921153</td>\n",
       "      <td id=\"T_d76ac_row12_col9\" class=\"data row12 col9\" >0.806747</td>\n",
       "      <td id=\"T_d76ac_row12_col10\" class=\"data row12 col10\" >0.734168</td>\n",
       "      <td id=\"T_d76ac_row12_col11\" class=\"data row12 col11\" >0.743760</td>\n",
       "      <td id=\"T_d76ac_row12_col12\" class=\"data row12 col12\" >1.000000</td>\n",
       "      <td id=\"T_d76ac_row12_col13\" class=\"data row12 col13\" >0.777166</td>\n",
       "      <td id=\"T_d76ac_row12_col14\" class=\"data row12 col14\" >0.870340</td>\n",
       "      <td id=\"T_d76ac_row12_col15\" class=\"data row12 col15\" >0.823674</td>\n",
       "      <td id=\"T_d76ac_row12_col16\" class=\"data row12 col16\" >0.711122</td>\n",
       "      <td id=\"T_d76ac_row12_col17\" class=\"data row12 col17\" >0.752082</td>\n",
       "      <td id=\"T_d76ac_row12_col18\" class=\"data row12 col18\" >0.758251</td>\n",
       "      <td id=\"T_d76ac_row12_col19\" class=\"data row12 col19\" >0.711457</td>\n",
       "    </tr>\n",
       "    <tr>\n",
       "      <th id=\"T_d76ac_level0_row13\" class=\"row_heading level0 row13\" >estimator 14</th>\n",
       "      <td id=\"T_d76ac_row13_col0\" class=\"data row13 col0\" >0.838019</td>\n",
       "      <td id=\"T_d76ac_row13_col1\" class=\"data row13 col1\" >0.849794</td>\n",
       "      <td id=\"T_d76ac_row13_col2\" class=\"data row13 col2\" >0.802935</td>\n",
       "      <td id=\"T_d76ac_row13_col3\" class=\"data row13 col3\" >0.725844</td>\n",
       "      <td id=\"T_d76ac_row13_col4\" class=\"data row13 col4\" >0.850803</td>\n",
       "      <td id=\"T_d76ac_row13_col5\" class=\"data row13 col5\" >0.805129</td>\n",
       "      <td id=\"T_d76ac_row13_col6\" class=\"data row13 col6\" >0.751974</td>\n",
       "      <td id=\"T_d76ac_row13_col7\" class=\"data row13 col7\" >0.845647</td>\n",
       "      <td id=\"T_d76ac_row13_col8\" class=\"data row13 col8\" >0.795655</td>\n",
       "      <td id=\"T_d76ac_row13_col9\" class=\"data row13 col9\" >0.750869</td>\n",
       "      <td id=\"T_d76ac_row13_col10\" class=\"data row13 col10\" >0.832601</td>\n",
       "      <td id=\"T_d76ac_row13_col11\" class=\"data row13 col11\" >0.656303</td>\n",
       "      <td id=\"T_d76ac_row13_col12\" class=\"data row13 col12\" >0.777166</td>\n",
       "      <td id=\"T_d76ac_row13_col13\" class=\"data row13 col13\" >1.000000</td>\n",
       "      <td id=\"T_d76ac_row13_col14\" class=\"data row13 col14\" >0.791710</td>\n",
       "      <td id=\"T_d76ac_row13_col15\" class=\"data row13 col15\" >0.750014</td>\n",
       "      <td id=\"T_d76ac_row13_col16\" class=\"data row13 col16\" >0.879007</td>\n",
       "      <td id=\"T_d76ac_row13_col17\" class=\"data row13 col17\" >0.856566</td>\n",
       "      <td id=\"T_d76ac_row13_col18\" class=\"data row13 col18\" >0.830520</td>\n",
       "      <td id=\"T_d76ac_row13_col19\" class=\"data row13 col19\" >0.889934</td>\n",
       "    </tr>\n",
       "    <tr>\n",
       "      <th id=\"T_d76ac_level0_row14\" class=\"row_heading level0 row14\" >estimator 15</th>\n",
       "      <td id=\"T_d76ac_row14_col0\" class=\"data row14 col0\" >0.753346</td>\n",
       "      <td id=\"T_d76ac_row14_col1\" class=\"data row14 col1\" >0.775948</td>\n",
       "      <td id=\"T_d76ac_row14_col2\" class=\"data row14 col2\" >0.752900</td>\n",
       "      <td id=\"T_d76ac_row14_col3\" class=\"data row14 col3\" >0.835775</td>\n",
       "      <td id=\"T_d76ac_row14_col4\" class=\"data row14 col4\" >0.734105</td>\n",
       "      <td id=\"T_d76ac_row14_col5\" class=\"data row14 col5\" >0.900667</td>\n",
       "      <td id=\"T_d76ac_row14_col6\" class=\"data row14 col6\" >0.873695</td>\n",
       "      <td id=\"T_d76ac_row14_col7\" class=\"data row14 col7\" >0.751113</td>\n",
       "      <td id=\"T_d76ac_row14_col8\" class=\"data row14 col8\" >0.909186</td>\n",
       "      <td id=\"T_d76ac_row14_col9\" class=\"data row14 col9\" >0.872284</td>\n",
       "      <td id=\"T_d76ac_row14_col10\" class=\"data row14 col10\" >0.785549</td>\n",
       "      <td id=\"T_d76ac_row14_col11\" class=\"data row14 col11\" >0.793294</td>\n",
       "      <td id=\"T_d76ac_row14_col12\" class=\"data row14 col12\" >0.870340</td>\n",
       "      <td id=\"T_d76ac_row14_col13\" class=\"data row14 col13\" >0.791710</td>\n",
       "      <td id=\"T_d76ac_row14_col14\" class=\"data row14 col14\" >1.000000</td>\n",
       "      <td id=\"T_d76ac_row14_col15\" class=\"data row14 col15\" >0.794639</td>\n",
       "      <td id=\"T_d76ac_row14_col16\" class=\"data row14 col16\" >0.775556</td>\n",
       "      <td id=\"T_d76ac_row14_col17\" class=\"data row14 col17\" >0.797212</td>\n",
       "      <td id=\"T_d76ac_row14_col18\" class=\"data row14 col18\" >0.820992</td>\n",
       "      <td id=\"T_d76ac_row14_col19\" class=\"data row14 col19\" >0.776697</td>\n",
       "    </tr>\n",
       "    <tr>\n",
       "      <th id=\"T_d76ac_level0_row15\" class=\"row_heading level0 row15\" >estimator 16</th>\n",
       "      <td id=\"T_d76ac_row15_col0\" class=\"data row15 col0\" >0.698208</td>\n",
       "      <td id=\"T_d76ac_row15_col1\" class=\"data row15 col1\" >0.700457</td>\n",
       "      <td id=\"T_d76ac_row15_col2\" class=\"data row15 col2\" >0.658976</td>\n",
       "      <td id=\"T_d76ac_row15_col3\" class=\"data row15 col3\" >0.886816</td>\n",
       "      <td id=\"T_d76ac_row15_col4\" class=\"data row15 col4\" >0.747424</td>\n",
       "      <td id=\"T_d76ac_row15_col5\" class=\"data row15 col5\" >0.865919</td>\n",
       "      <td id=\"T_d76ac_row15_col6\" class=\"data row15 col6\" >0.877339</td>\n",
       "      <td id=\"T_d76ac_row15_col7\" class=\"data row15 col7\" >0.706910</td>\n",
       "      <td id=\"T_d76ac_row15_col8\" class=\"data row15 col8\" >0.814793</td>\n",
       "      <td id=\"T_d76ac_row15_col9\" class=\"data row15 col9\" >0.856329</td>\n",
       "      <td id=\"T_d76ac_row15_col10\" class=\"data row15 col10\" >0.663743</td>\n",
       "      <td id=\"T_d76ac_row15_col11\" class=\"data row15 col11\" >0.707828</td>\n",
       "      <td id=\"T_d76ac_row15_col12\" class=\"data row15 col12\" >0.823674</td>\n",
       "      <td id=\"T_d76ac_row15_col13\" class=\"data row15 col13\" >0.750014</td>\n",
       "      <td id=\"T_d76ac_row15_col14\" class=\"data row15 col14\" >0.794639</td>\n",
       "      <td id=\"T_d76ac_row15_col15\" class=\"data row15 col15\" >1.000000</td>\n",
       "      <td id=\"T_d76ac_row15_col16\" class=\"data row15 col16\" >0.719457</td>\n",
       "      <td id=\"T_d76ac_row15_col17\" class=\"data row15 col17\" >0.698450</td>\n",
       "      <td id=\"T_d76ac_row15_col18\" class=\"data row15 col18\" >0.678211</td>\n",
       "      <td id=\"T_d76ac_row15_col19\" class=\"data row15 col19\" >0.693517</td>\n",
       "    </tr>\n",
       "    <tr>\n",
       "      <th id=\"T_d76ac_level0_row16\" class=\"row_heading level0 row16\" >estimator 17</th>\n",
       "      <td id=\"T_d76ac_row16_col0\" class=\"data row16 col0\" >0.909649</td>\n",
       "      <td id=\"T_d76ac_row16_col1\" class=\"data row16 col1\" >0.927645</td>\n",
       "      <td id=\"T_d76ac_row16_col2\" class=\"data row16 col2\" >0.907367</td>\n",
       "      <td id=\"T_d76ac_row16_col3\" class=\"data row16 col3\" >0.716149</td>\n",
       "      <td id=\"T_d76ac_row16_col4\" class=\"data row16 col4\" >0.838941</td>\n",
       "      <td id=\"T_d76ac_row16_col5\" class=\"data row16 col5\" >0.788787</td>\n",
       "      <td id=\"T_d76ac_row16_col6\" class=\"data row16 col6\" >0.710542</td>\n",
       "      <td id=\"T_d76ac_row16_col7\" class=\"data row16 col7\" >0.903264</td>\n",
       "      <td id=\"T_d76ac_row16_col8\" class=\"data row16 col8\" >0.746242</td>\n",
       "      <td id=\"T_d76ac_row16_col9\" class=\"data row16 col9\" >0.736577</td>\n",
       "      <td id=\"T_d76ac_row16_col10\" class=\"data row16 col10\" >0.908544</td>\n",
       "      <td id=\"T_d76ac_row16_col11\" class=\"data row16 col11\" >0.645742</td>\n",
       "      <td id=\"T_d76ac_row16_col12\" class=\"data row16 col12\" >0.711122</td>\n",
       "      <td id=\"T_d76ac_row16_col13\" class=\"data row16 col13\" >0.879007</td>\n",
       "      <td id=\"T_d76ac_row16_col14\" class=\"data row16 col14\" >0.775556</td>\n",
       "      <td id=\"T_d76ac_row16_col15\" class=\"data row16 col15\" >0.719457</td>\n",
       "      <td id=\"T_d76ac_row16_col16\" class=\"data row16 col16\" >1.000000</td>\n",
       "      <td id=\"T_d76ac_row16_col17\" class=\"data row16 col17\" >0.873274</td>\n",
       "      <td id=\"T_d76ac_row16_col18\" class=\"data row16 col18\" >0.904575</td>\n",
       "      <td id=\"T_d76ac_row16_col19\" class=\"data row16 col19\" >0.931869</td>\n",
       "    </tr>\n",
       "    <tr>\n",
       "      <th id=\"T_d76ac_level0_row17\" class=\"row_heading level0 row17\" >estimator 18</th>\n",
       "      <td id=\"T_d76ac_row17_col0\" class=\"data row17 col0\" >0.831580</td>\n",
       "      <td id=\"T_d76ac_row17_col1\" class=\"data row17 col1\" >0.848342</td>\n",
       "      <td id=\"T_d76ac_row17_col2\" class=\"data row17 col2\" >0.852289</td>\n",
       "      <td id=\"T_d76ac_row17_col3\" class=\"data row17 col3\" >0.721990</td>\n",
       "      <td id=\"T_d76ac_row17_col4\" class=\"data row17 col4\" >0.880601</td>\n",
       "      <td id=\"T_d76ac_row17_col5\" class=\"data row17 col5\" >0.758622</td>\n",
       "      <td id=\"T_d76ac_row17_col6\" class=\"data row17 col6\" >0.766474</td>\n",
       "      <td id=\"T_d76ac_row17_col7\" class=\"data row17 col7\" >0.856722</td>\n",
       "      <td id=\"T_d76ac_row17_col8\" class=\"data row17 col8\" >0.760228</td>\n",
       "      <td id=\"T_d76ac_row17_col9\" class=\"data row17 col9\" >0.715406</td>\n",
       "      <td id=\"T_d76ac_row17_col10\" class=\"data row17 col10\" >0.877389</td>\n",
       "      <td id=\"T_d76ac_row17_col11\" class=\"data row17 col11\" >0.640980</td>\n",
       "      <td id=\"T_d76ac_row17_col12\" class=\"data row17 col12\" >0.752082</td>\n",
       "      <td id=\"T_d76ac_row17_col13\" class=\"data row17 col13\" >0.856566</td>\n",
       "      <td id=\"T_d76ac_row17_col14\" class=\"data row17 col14\" >0.797212</td>\n",
       "      <td id=\"T_d76ac_row17_col15\" class=\"data row17 col15\" >0.698450</td>\n",
       "      <td id=\"T_d76ac_row17_col16\" class=\"data row17 col16\" >0.873274</td>\n",
       "      <td id=\"T_d76ac_row17_col17\" class=\"data row17 col17\" >1.000000</td>\n",
       "      <td id=\"T_d76ac_row17_col18\" class=\"data row17 col18\" >0.921019</td>\n",
       "      <td id=\"T_d76ac_row17_col19\" class=\"data row17 col19\" >0.852944</td>\n",
       "    </tr>\n",
       "    <tr>\n",
       "      <th id=\"T_d76ac_level0_row18\" class=\"row_heading level0 row18\" >estimator 19</th>\n",
       "      <td id=\"T_d76ac_row18_col0\" class=\"data row18 col0\" >0.886182</td>\n",
       "      <td id=\"T_d76ac_row18_col1\" class=\"data row18 col1\" >0.903972</td>\n",
       "      <td id=\"T_d76ac_row18_col2\" class=\"data row18 col2\" >0.908006</td>\n",
       "      <td id=\"T_d76ac_row18_col3\" class=\"data row18 col3\" >0.719057</td>\n",
       "      <td id=\"T_d76ac_row18_col4\" class=\"data row18 col4\" >0.855794</td>\n",
       "      <td id=\"T_d76ac_row18_col5\" class=\"data row18 col5\" >0.764958</td>\n",
       "      <td id=\"T_d76ac_row18_col6\" class=\"data row18 col6\" >0.781490</td>\n",
       "      <td id=\"T_d76ac_row18_col7\" class=\"data row18 col7\" >0.895270</td>\n",
       "      <td id=\"T_d76ac_row18_col8\" class=\"data row18 col8\" >0.766460</td>\n",
       "      <td id=\"T_d76ac_row18_col9\" class=\"data row18 col9\" >0.764958</td>\n",
       "      <td id=\"T_d76ac_row18_col10\" class=\"data row18 col10\" >0.923911</td>\n",
       "      <td id=\"T_d76ac_row18_col11\" class=\"data row18 col11\" >0.663704</td>\n",
       "      <td id=\"T_d76ac_row18_col12\" class=\"data row18 col12\" >0.758251</td>\n",
       "      <td id=\"T_d76ac_row18_col13\" class=\"data row18 col13\" >0.830520</td>\n",
       "      <td id=\"T_d76ac_row18_col14\" class=\"data row18 col14\" >0.820992</td>\n",
       "      <td id=\"T_d76ac_row18_col15\" class=\"data row18 col15\" >0.678211</td>\n",
       "      <td id=\"T_d76ac_row18_col16\" class=\"data row18 col16\" >0.904575</td>\n",
       "      <td id=\"T_d76ac_row18_col17\" class=\"data row18 col17\" >0.921019</td>\n",
       "      <td id=\"T_d76ac_row18_col18\" class=\"data row18 col18\" >1.000000</td>\n",
       "      <td id=\"T_d76ac_row18_col19\" class=\"data row18 col19\" >0.876252</td>\n",
       "    </tr>\n",
       "    <tr>\n",
       "      <th id=\"T_d76ac_level0_row19\" class=\"row_heading level0 row19\" >estimator 20</th>\n",
       "      <td id=\"T_d76ac_row19_col0\" class=\"data row19 col0\" >0.913542</td>\n",
       "      <td id=\"T_d76ac_row19_col1\" class=\"data row19 col1\" >0.890312</td>\n",
       "      <td id=\"T_d76ac_row19_col2\" class=\"data row19 col2\" >0.877963</td>\n",
       "      <td id=\"T_d76ac_row19_col3\" class=\"data row19 col3\" >0.707324</td>\n",
       "      <td id=\"T_d76ac_row19_col4\" class=\"data row19 col4\" >0.817596</td>\n",
       "      <td id=\"T_d76ac_row19_col5\" class=\"data row19 col5\" >0.763705</td>\n",
       "      <td id=\"T_d76ac_row19_col6\" class=\"data row19 col6\" >0.702833</td>\n",
       "      <td id=\"T_d76ac_row19_col7\" class=\"data row19 col7\" >0.899950</td>\n",
       "      <td id=\"T_d76ac_row19_col8\" class=\"data row19 col8\" >0.764655</td>\n",
       "      <td id=\"T_d76ac_row19_col9\" class=\"data row19 col9\" >0.719967</td>\n",
       "      <td id=\"T_d76ac_row19_col10\" class=\"data row19 col10\" >0.912785</td>\n",
       "      <td id=\"T_d76ac_row19_col11\" class=\"data row19 col11\" >0.630972</td>\n",
       "      <td id=\"T_d76ac_row19_col12\" class=\"data row19 col12\" >0.711457</td>\n",
       "      <td id=\"T_d76ac_row19_col13\" class=\"data row19 col13\" >0.889934</td>\n",
       "      <td id=\"T_d76ac_row19_col14\" class=\"data row19 col14\" >0.776697</td>\n",
       "      <td id=\"T_d76ac_row19_col15\" class=\"data row19 col15\" >0.693517</td>\n",
       "      <td id=\"T_d76ac_row19_col16\" class=\"data row19 col16\" >0.931869</td>\n",
       "      <td id=\"T_d76ac_row19_col17\" class=\"data row19 col17\" >0.852944</td>\n",
       "      <td id=\"T_d76ac_row19_col18\" class=\"data row19 col18\" >0.876252</td>\n",
       "      <td id=\"T_d76ac_row19_col19\" class=\"data row19 col19\" >1.000000</td>\n",
       "    </tr>\n",
       "  </tbody>\n",
       "</table>\n"
      ],
      "text/plain": [
       "<pandas.io.formats.style.Styler at 0x1d2ecfd4950>"
      ]
     },
     "execution_count": 575,
     "metadata": {},
     "output_type": "execute_result"
    }
   ],
   "source": [
    "get_correlation(X_testR, y_testR, Bag).style.background_gradient(cmap='coolwarm')\n"
   ]
  },
  {
   "cell_type": "markdown",
   "id": "6d44e2ee-7a11-4afe-8fc2-3a5afd9e9a0c",
   "metadata": {},
   "source": [
    "## Random Forest"
   ]
  },
  {
   "cell_type": "code",
   "execution_count": 576,
   "id": "d575d966-e9f8-4eb3-8c9d-b1f8d6f54e4d",
   "metadata": {
    "tags": []
   },
   "outputs": [],
   "source": [
    "from sklearn.ensemble import RandomForestClassifier"
   ]
  },
  {
   "cell_type": "code",
   "execution_count": 577,
   "id": "aeaf36f9-c72c-4f5a-98df-9d5349a37d78",
   "metadata": {
    "tags": []
   },
   "outputs": [],
   "source": [
    "n_estimators=20"
   ]
  },
  {
   "cell_type": "code",
   "execution_count": 578,
   "id": "746ea98f-38dd-4782-8d40-474d10c8ade2",
   "metadata": {
    "tags": []
   },
   "outputs": [],
   "source": [
    "M_features=X_raw.shape[1]"
   ]
  },
  {
   "cell_type": "code",
   "execution_count": 579,
   "id": "7bc34dc5-3757-4db7-80aa-cfb05d266b78",
   "metadata": {
    "tags": []
   },
   "outputs": [
    {
     "data": {
      "text/plain": [
       "19"
      ]
     },
     "execution_count": 579,
     "metadata": {},
     "output_type": "execute_result"
    }
   ],
   "source": [
    "M_features"
   ]
  },
  {
   "cell_type": "code",
   "execution_count": 580,
   "id": "9dec56b5-2906-40a4-8e76-9b66282f4dab",
   "metadata": {
    "tags": []
   },
   "outputs": [
    {
     "data": {
      "text/plain": [
       "3"
      ]
     },
     "execution_count": 580,
     "metadata": {},
     "output_type": "execute_result"
    }
   ],
   "source": [
    "max_features=round(np.sqrt(M_features))-1\n",
    "max_features"
   ]
  },
  {
   "cell_type": "code",
   "execution_count": 581,
   "id": "b058df95-78c7-4da4-89d5-6a434ebdcc68",
   "metadata": {
    "tags": []
   },
   "outputs": [],
   "source": [
    "model = RandomForestClassifier( max_features=max_features, n_estimators=n_estimators, random_state=0)"
   ]
  },
  {
   "cell_type": "code",
   "execution_count": 582,
   "id": "579eb3c4-b2c3-43e6-9bc2-172072db3a52",
   "metadata": {
    "tags": []
   },
   "outputs": [
    {
     "data": {
      "text/html": [
       "<style>#sk-container-id-9 {color: black;}#sk-container-id-9 pre{padding: 0;}#sk-container-id-9 div.sk-toggleable {background-color: white;}#sk-container-id-9 label.sk-toggleable__label {cursor: pointer;display: block;width: 100%;margin-bottom: 0;padding: 0.3em;box-sizing: border-box;text-align: center;}#sk-container-id-9 label.sk-toggleable__label-arrow:before {content: \"▸\";float: left;margin-right: 0.25em;color: #696969;}#sk-container-id-9 label.sk-toggleable__label-arrow:hover:before {color: black;}#sk-container-id-9 div.sk-estimator:hover label.sk-toggleable__label-arrow:before {color: black;}#sk-container-id-9 div.sk-toggleable__content {max-height: 0;max-width: 0;overflow: hidden;text-align: left;background-color: #f0f8ff;}#sk-container-id-9 div.sk-toggleable__content pre {margin: 0.2em;color: black;border-radius: 0.25em;background-color: #f0f8ff;}#sk-container-id-9 input.sk-toggleable__control:checked~div.sk-toggleable__content {max-height: 200px;max-width: 100%;overflow: auto;}#sk-container-id-9 input.sk-toggleable__control:checked~label.sk-toggleable__label-arrow:before {content: \"▾\";}#sk-container-id-9 div.sk-estimator input.sk-toggleable__control:checked~label.sk-toggleable__label {background-color: #d4ebff;}#sk-container-id-9 div.sk-label input.sk-toggleable__control:checked~label.sk-toggleable__label {background-color: #d4ebff;}#sk-container-id-9 input.sk-hidden--visually {border: 0;clip: rect(1px 1px 1px 1px);clip: rect(1px, 1px, 1px, 1px);height: 1px;margin: -1px;overflow: hidden;padding: 0;position: absolute;width: 1px;}#sk-container-id-9 div.sk-estimator {font-family: monospace;background-color: #f0f8ff;border: 1px dotted black;border-radius: 0.25em;box-sizing: border-box;margin-bottom: 0.5em;}#sk-container-id-9 div.sk-estimator:hover {background-color: #d4ebff;}#sk-container-id-9 div.sk-parallel-item::after {content: \"\";width: 100%;border-bottom: 1px solid gray;flex-grow: 1;}#sk-container-id-9 div.sk-label:hover label.sk-toggleable__label {background-color: #d4ebff;}#sk-container-id-9 div.sk-serial::before {content: \"\";position: absolute;border-left: 1px solid gray;box-sizing: border-box;top: 0;bottom: 0;left: 50%;z-index: 0;}#sk-container-id-9 div.sk-serial {display: flex;flex-direction: column;align-items: center;background-color: white;padding-right: 0.2em;padding-left: 0.2em;position: relative;}#sk-container-id-9 div.sk-item {position: relative;z-index: 1;}#sk-container-id-9 div.sk-parallel {display: flex;align-items: stretch;justify-content: center;background-color: white;position: relative;}#sk-container-id-9 div.sk-item::before, #sk-container-id-9 div.sk-parallel-item::before {content: \"\";position: absolute;border-left: 1px solid gray;box-sizing: border-box;top: 0;bottom: 0;left: 50%;z-index: -1;}#sk-container-id-9 div.sk-parallel-item {display: flex;flex-direction: column;z-index: 1;position: relative;background-color: white;}#sk-container-id-9 div.sk-parallel-item:first-child::after {align-self: flex-end;width: 50%;}#sk-container-id-9 div.sk-parallel-item:last-child::after {align-self: flex-start;width: 50%;}#sk-container-id-9 div.sk-parallel-item:only-child::after {width: 0;}#sk-container-id-9 div.sk-dashed-wrapped {border: 1px dashed gray;margin: 0 0.4em 0.5em 0.4em;box-sizing: border-box;padding-bottom: 0.4em;background-color: white;}#sk-container-id-9 div.sk-label label {font-family: monospace;font-weight: bold;display: inline-block;line-height: 1.2em;}#sk-container-id-9 div.sk-label-container {text-align: center;}#sk-container-id-9 div.sk-container {/* jupyter's `normalize.less` sets `[hidden] { display: none; }` but bootstrap.min.css set `[hidden] { display: none !important; }` so we also need the `!important` here to be able to override the default hidden behavior on the sphinx rendered scikit-learn.org. See: https://github.com/scikit-learn/scikit-learn/issues/21755 */display: inline-block !important;position: relative;}#sk-container-id-9 div.sk-text-repr-fallback {display: none;}</style><div id=\"sk-container-id-9\" class=\"sk-top-container\"><div class=\"sk-text-repr-fallback\"><pre>RandomForestClassifier(max_features=3, n_estimators=20, random_state=0)</pre><b>In a Jupyter environment, please rerun this cell to show the HTML representation or trust the notebook. <br />On GitHub, the HTML representation is unable to render, please try loading this page with nbviewer.org.</b></div><div class=\"sk-container\" hidden><div class=\"sk-item\"><div class=\"sk-estimator sk-toggleable\"><input class=\"sk-toggleable__control sk-hidden--visually\" id=\"sk-estimator-id-15\" type=\"checkbox\" checked><label for=\"sk-estimator-id-15\" class=\"sk-toggleable__label sk-toggleable__label-arrow\">RandomForestClassifier</label><div class=\"sk-toggleable__content\"><pre>RandomForestClassifier(max_features=3, n_estimators=20, random_state=0)</pre></div></div></div></div></div>"
      ],
      "text/plain": [
       "RandomForestClassifier(max_features=3, n_estimators=20, random_state=0)"
      ]
     },
     "execution_count": 582,
     "metadata": {},
     "output_type": "execute_result"
    }
   ],
   "source": [
    "model.fit(X_trainR,y_trainR)"
   ]
  },
  {
   "cell_type": "code",
   "execution_count": 583,
   "id": "c213ca66-1309-485a-8857-53307c9a659c",
   "metadata": {
    "tags": []
   },
   "outputs": [
    {
     "name": "stdout",
     "output_type": "stream",
     "text": [
      "{'test Accuracy': 0.8766233766233766, 'train Accuracy': 0.9983739837398374}\n"
     ]
    }
   ],
   "source": [
    "print(get_accuracy(X_trainR, X_testR, y_trainR, y_testR, model))"
   ]
  },
  {
   "cell_type": "code",
   "execution_count": 584,
   "id": "321c19ee-0eab-4359-a9ad-6d3487d906db",
   "metadata": {
    "tags": []
   },
   "outputs": [
    {
     "name": "stdout",
     "output_type": "stream",
     "text": [
      "Average correlation between predictors:  0.4463886964666777\n"
     ]
    },
    {
     "data": {
      "text/html": [
       "<style type=\"text/css\">\n",
       "#T_c86f5_row0_col0, #T_c86f5_row1_col1, #T_c86f5_row2_col2, #T_c86f5_row3_col3, #T_c86f5_row4_col4, #T_c86f5_row5_col5, #T_c86f5_row6_col6, #T_c86f5_row7_col7, #T_c86f5_row8_col8, #T_c86f5_row9_col9, #T_c86f5_row10_col10, #T_c86f5_row11_col11, #T_c86f5_row12_col12, #T_c86f5_row13_col13, #T_c86f5_row14_col14, #T_c86f5_row15_col15, #T_c86f5_row16_col16, #T_c86f5_row17_col17, #T_c86f5_row18_col18, #T_c86f5_row19_col19 {\n",
       "  background-color: #b40426;\n",
       "  color: #f1f1f1;\n",
       "}\n",
       "#T_c86f5_row0_col1, #T_c86f5_row1_col4, #T_c86f5_row1_col19, #T_c86f5_row2_col14, #T_c86f5_row6_col13, #T_c86f5_row8_col16, #T_c86f5_row14_col15 {\n",
       "  background-color: #5977e3;\n",
       "  color: #f1f1f1;\n",
       "}\n",
       "#T_c86f5_row0_col2, #T_c86f5_row9_col15, #T_c86f5_row10_col13 {\n",
       "  background-color: #5673e0;\n",
       "  color: #f1f1f1;\n",
       "}\n",
       "#T_c86f5_row0_col3, #T_c86f5_row2_col7, #T_c86f5_row3_col6, #T_c86f5_row5_col14, #T_c86f5_row6_col18, #T_c86f5_row9_col16, #T_c86f5_row11_col15, #T_c86f5_row15_col11, #T_c86f5_row17_col7 {\n",
       "  background-color: #6f92f3;\n",
       "  color: #f1f1f1;\n",
       "}\n",
       "#T_c86f5_row0_col4, #T_c86f5_row0_col16, #T_c86f5_row2_col17, #T_c86f5_row6_col4, #T_c86f5_row7_col4, #T_c86f5_row17_col0, #T_c86f5_row17_col4, #T_c86f5_row18_col5 {\n",
       "  background-color: #5a78e4;\n",
       "  color: #f1f1f1;\n",
       "}\n",
       "#T_c86f5_row0_col5, #T_c86f5_row6_col14, #T_c86f5_row8_col1, #T_c86f5_row9_col2, #T_c86f5_row13_col7, #T_c86f5_row13_col18, #T_c86f5_row15_col2, #T_c86f5_row17_col3, #T_c86f5_row17_col6 {\n",
       "  background-color: #6788ee;\n",
       "  color: #f1f1f1;\n",
       "}\n",
       "#T_c86f5_row0_col6, #T_c86f5_row3_col16, #T_c86f5_row6_col16, #T_c86f5_row9_col4, #T_c86f5_row9_col11, #T_c86f5_row10_col16, #T_c86f5_row13_col10, #T_c86f5_row14_col10, #T_c86f5_row15_col6, #T_c86f5_row16_col0 {\n",
       "  background-color: #5e7de7;\n",
       "  color: #f1f1f1;\n",
       "}\n",
       "#T_c86f5_row0_col7, #T_c86f5_row0_col19, #T_c86f5_row2_col9, #T_c86f5_row6_col0, #T_c86f5_row14_col12 {\n",
       "  background-color: #516ddb;\n",
       "  color: #f1f1f1;\n",
       "}\n",
       "#T_c86f5_row0_col8, #T_c86f5_row5_col0, #T_c86f5_row5_col18, #T_c86f5_row9_col10, #T_c86f5_row11_col6, #T_c86f5_row12_col11 {\n",
       "  background-color: #7295f4;\n",
       "  color: #f1f1f1;\n",
       "}\n",
       "#T_c86f5_row0_col9, #T_c86f5_row8_col17, #T_c86f5_row14_col11, #T_c86f5_row19_col17 {\n",
       "  background-color: #4961d2;\n",
       "  color: #f1f1f1;\n",
       "}\n",
       "#T_c86f5_row0_col10 {\n",
       "  background-color: #445acc;\n",
       "  color: #f1f1f1;\n",
       "}\n",
       "#T_c86f5_row0_col11, #T_c86f5_row4_col15, #T_c86f5_row14_col0, #T_c86f5_row16_col2, #T_c86f5_row18_col1, #T_c86f5_row18_col8 {\n",
       "  background-color: #536edd;\n",
       "  color: #f1f1f1;\n",
       "}\n",
       "#T_c86f5_row0_col12, #T_c86f5_row2_col0, #T_c86f5_row7_col15, #T_c86f5_row7_col16, #T_c86f5_row11_col14, #T_c86f5_row12_col0, #T_c86f5_row13_col19, #T_c86f5_row14_col5 {\n",
       "  background-color: #5470de;\n",
       "  color: #f1f1f1;\n",
       "}\n",
       "#T_c86f5_row0_col13, #T_c86f5_row4_col12, #T_c86f5_row7_col2, #T_c86f5_row7_col6, #T_c86f5_row8_col0, #T_c86f5_row9_col14, #T_c86f5_row11_col13, #T_c86f5_row13_col1, #T_c86f5_row14_col3, #T_c86f5_row15_col12, #T_c86f5_row15_col13, #T_c86f5_row16_col14, #T_c86f5_row18_col17 {\n",
       "  background-color: #5f7fe8;\n",
       "  color: #f1f1f1;\n",
       "}\n",
       "#T_c86f5_row0_col14, #T_c86f5_row1_col0, #T_c86f5_row3_col5, #T_c86f5_row7_col5, #T_c86f5_row10_col6, #T_c86f5_row11_col7, #T_c86f5_row13_col4, #T_c86f5_row16_col17 {\n",
       "  background-color: #6485ec;\n",
       "  color: #f1f1f1;\n",
       "}\n",
       "#T_c86f5_row0_col15 {\n",
       "  background-color: #4055c8;\n",
       "  color: #f1f1f1;\n",
       "}\n",
       "#T_c86f5_row0_col17, #T_c86f5_row3_col13, #T_c86f5_row4_col2, #T_c86f5_row6_col17, #T_c86f5_row8_col5, #T_c86f5_row8_col13, #T_c86f5_row9_col19, #T_c86f5_row15_col7, #T_c86f5_row16_col4, #T_c86f5_row16_col9, #T_c86f5_row17_col12, #T_c86f5_row18_col2, #T_c86f5_row18_col10 {\n",
       "  background-color: #6180e9;\n",
       "  color: #f1f1f1;\n",
       "}\n",
       "#T_c86f5_row0_col18, #T_c86f5_row3_col9, #T_c86f5_row4_col1, #T_c86f5_row5_col10, #T_c86f5_row6_col10, #T_c86f5_row6_col12, #T_c86f5_row10_col9 {\n",
       "  background-color: #5d7ce6;\n",
       "  color: #f1f1f1;\n",
       "}\n",
       "#T_c86f5_row1_col2, #T_c86f5_row9_col12 {\n",
       "  background-color: #8db0fe;\n",
       "  color: #000000;\n",
       "}\n",
       "#T_c86f5_row1_col3, #T_c86f5_row1_col12 {\n",
       "  background-color: #8badfd;\n",
       "  color: #000000;\n",
       "}\n",
       "#T_c86f5_row1_col5, #T_c86f5_row5_col6 {\n",
       "  background-color: #89acfd;\n",
       "  color: #000000;\n",
       "}\n",
       "#T_c86f5_row1_col6 {\n",
       "  background-color: #93b5fe;\n",
       "  color: #000000;\n",
       "}\n",
       "#T_c86f5_row1_col7 {\n",
       "  background-color: #98b9ff;\n",
       "  color: #000000;\n",
       "}\n",
       "#T_c86f5_row1_col8, #T_c86f5_row4_col10 {\n",
       "  background-color: #85a8fc;\n",
       "  color: #f1f1f1;\n",
       "}\n",
       "#T_c86f5_row1_col9, #T_c86f5_row3_col1, #T_c86f5_row6_col5, #T_c86f5_row17_col14, #T_c86f5_row18_col7 {\n",
       "  background-color: #7597f6;\n",
       "  color: #f1f1f1;\n",
       "}\n",
       "#T_c86f5_row1_col10, #T_c86f5_row4_col5, #T_c86f5_row4_col7, #T_c86f5_row4_col8, #T_c86f5_row5_col8, #T_c86f5_row6_col1, #T_c86f5_row12_col9, #T_c86f5_row13_col16, #T_c86f5_row16_col5 {\n",
       "  background-color: #7da0f9;\n",
       "  color: #f1f1f1;\n",
       "}\n",
       "#T_c86f5_row1_col11, #T_c86f5_row1_col17 {\n",
       "  background-color: #90b2fe;\n",
       "  color: #000000;\n",
       "}\n",
       "#T_c86f5_row1_col13, #T_c86f5_row5_col9, #T_c86f5_row8_col12, #T_c86f5_row9_col18, #T_c86f5_row12_col6, #T_c86f5_row13_col6, #T_c86f5_row13_col11, #T_c86f5_row13_col15, #T_c86f5_row15_col8, #T_c86f5_row17_col5, #T_c86f5_row17_col18 {\n",
       "  background-color: #688aef;\n",
       "  color: #f1f1f1;\n",
       "}\n",
       "#T_c86f5_row1_col14, #T_c86f5_row2_col10, #T_c86f5_row2_col15, #T_c86f5_row7_col9, #T_c86f5_row8_col2, #T_c86f5_row8_col9, #T_c86f5_row10_col14, #T_c86f5_row10_col18, #T_c86f5_row11_col12 {\n",
       "  background-color: #6b8df0;\n",
       "  color: #f1f1f1;\n",
       "}\n",
       "#T_c86f5_row1_col15, #T_c86f5_row5_col12, #T_c86f5_row11_col1, #T_c86f5_row12_col1, #T_c86f5_row12_col7 {\n",
       "  background-color: #80a3fa;\n",
       "  color: #f1f1f1;\n",
       "}\n",
       "#T_c86f5_row1_col16, #T_c86f5_row7_col8 {\n",
       "  background-color: #82a6fb;\n",
       "  color: #f1f1f1;\n",
       "}\n",
       "#T_c86f5_row1_col18, #T_c86f5_row2_col5, #T_c86f5_row4_col16, #T_c86f5_row4_col18, #T_c86f5_row6_col3, #T_c86f5_row15_col1, #T_c86f5_row16_col3, #T_c86f5_row16_col8 {\n",
       "  background-color: #6e90f2;\n",
       "  color: #f1f1f1;\n",
       "}\n",
       "#T_c86f5_row2_col1, #T_c86f5_row2_col12, #T_c86f5_row3_col11, #T_c86f5_row5_col7, #T_c86f5_row10_col7, #T_c86f5_row17_col1 {\n",
       "  background-color: #81a4fb;\n",
       "  color: #f1f1f1;\n",
       "}\n",
       "#T_c86f5_row2_col3, #T_c86f5_row5_col16, #T_c86f5_row8_col7, #T_c86f5_row11_col8, #T_c86f5_row12_col2 {\n",
       "  background-color: #84a7fc;\n",
       "  color: #f1f1f1;\n",
       "}\n",
       "#T_c86f5_row2_col4, #T_c86f5_row12_col19, #T_c86f5_row13_col12, #T_c86f5_row18_col0 {\n",
       "  background-color: #4e68d8;\n",
       "  color: #f1f1f1;\n",
       "}\n",
       "#T_c86f5_row2_col6, #T_c86f5_row5_col1, #T_c86f5_row7_col3, #T_c86f5_row8_col10 {\n",
       "  background-color: #88abfd;\n",
       "  color: #000000;\n",
       "}\n",
       "#T_c86f5_row2_col8, #T_c86f5_row4_col11, #T_c86f5_row7_col1, #T_c86f5_row9_col1, #T_c86f5_row12_col8, #T_c86f5_row16_col13 {\n",
       "  background-color: #7b9ff9;\n",
       "  color: #f1f1f1;\n",
       "}\n",
       "#T_c86f5_row2_col11, #T_c86f5_row5_col4, #T_c86f5_row5_col17, #T_c86f5_row8_col11, #T_c86f5_row11_col10, #T_c86f5_row12_col10, #T_c86f5_row13_col8 {\n",
       "  background-color: #779af7;\n",
       "  color: #f1f1f1;\n",
       "}\n",
       "#T_c86f5_row2_col13, #T_c86f5_row4_col9, #T_c86f5_row4_col14, #T_c86f5_row8_col4, #T_c86f5_row8_col6, #T_c86f5_row8_col15, #T_c86f5_row9_col0, #T_c86f5_row11_col16, #T_c86f5_row15_col16, #T_c86f5_row17_col16 {\n",
       "  background-color: #5b7ae5;\n",
       "  color: #f1f1f1;\n",
       "}\n",
       "#T_c86f5_row2_col16, #T_c86f5_row3_col18, #T_c86f5_row11_col0, #T_c86f5_row18_col14 {\n",
       "  background-color: #4c66d6;\n",
       "  color: #f1f1f1;\n",
       "}\n",
       "#T_c86f5_row2_col18, #T_c86f5_row6_col11, #T_c86f5_row7_col12, #T_c86f5_row8_col3, #T_c86f5_row10_col1, #T_c86f5_row13_col5, #T_c86f5_row16_col6, #T_c86f5_row18_col6 {\n",
       "  background-color: #6c8ff1;\n",
       "  color: #f1f1f1;\n",
       "}\n",
       "#T_c86f5_row2_col19, #T_c86f5_row9_col13, #T_c86f5_row12_col13, #T_c86f5_row13_col17, #T_c86f5_row14_col16 {\n",
       "  background-color: #4b64d5;\n",
       "  color: #f1f1f1;\n",
       "}\n",
       "#T_c86f5_row3_col0, #T_c86f5_row3_col4, #T_c86f5_row3_col14, #T_c86f5_row13_col0, #T_c86f5_row14_col6, #T_c86f5_row15_col14 {\n",
       "  background-color: #6384eb;\n",
       "  color: #f1f1f1;\n",
       "}\n",
       "#T_c86f5_row3_col2, #T_c86f5_row3_col12, #T_c86f5_row5_col2, #T_c86f5_row5_col3, #T_c86f5_row5_col11, #T_c86f5_row9_col3, #T_c86f5_row9_col17, #T_c86f5_row10_col11, #T_c86f5_row16_col1 {\n",
       "  background-color: #7a9df8;\n",
       "  color: #f1f1f1;\n",
       "}\n",
       "#T_c86f5_row3_col7, #T_c86f5_row9_col7, #T_c86f5_row9_col8 {\n",
       "  background-color: #8fb1fe;\n",
       "  color: #000000;\n",
       "}\n",
       "#T_c86f5_row3_col8, #T_c86f5_row5_col13, #T_c86f5_row7_col10, #T_c86f5_row10_col4, #T_c86f5_row10_col12, #T_c86f5_row11_col2, #T_c86f5_row15_col10, #T_c86f5_row16_col12 {\n",
       "  background-color: #7396f5;\n",
       "  color: #f1f1f1;\n",
       "}\n",
       "#T_c86f5_row3_col10, #T_c86f5_row4_col3, #T_c86f5_row6_col2, #T_c86f5_row15_col3 {\n",
       "  background-color: #7ea1fa;\n",
       "  color: #f1f1f1;\n",
       "}\n",
       "#T_c86f5_row3_col15, #T_c86f5_row10_col17 {\n",
       "  background-color: #799cf8;\n",
       "  color: #f1f1f1;\n",
       "}\n",
       "#T_c86f5_row3_col17, #T_c86f5_row4_col19, #T_c86f5_row6_col8, #T_c86f5_row7_col17, #T_c86f5_row12_col14, #T_c86f5_row13_col2, #T_c86f5_row17_col9 {\n",
       "  background-color: #6282ea;\n",
       "  color: #f1f1f1;\n",
       "}\n",
       "#T_c86f5_row3_col19, #T_c86f5_row6_col19, #T_c86f5_row17_col13 {\n",
       "  background-color: #4257c9;\n",
       "  color: #f1f1f1;\n",
       "}\n",
       "#T_c86f5_row4_col0, #T_c86f5_row10_col2, #T_c86f5_row11_col5, #T_c86f5_row14_col17, #T_c86f5_row16_col7 {\n",
       "  background-color: #6a8bef;\n",
       "  color: #f1f1f1;\n",
       "}\n",
       "#T_c86f5_row4_col6, #T_c86f5_row10_col15, #T_c86f5_row12_col5, #T_c86f5_row17_col10 {\n",
       "  background-color: #7699f6;\n",
       "  color: #f1f1f1;\n",
       "}\n",
       "#T_c86f5_row4_col13, #T_c86f5_row4_col17, #T_c86f5_row7_col18, #T_c86f5_row9_col5, #T_c86f5_row12_col16, #T_c86f5_row13_col3 {\n",
       "  background-color: #7093f3;\n",
       "  color: #f1f1f1;\n",
       "}\n",
       "#T_c86f5_row5_col15, #T_c86f5_row8_col18, #T_c86f5_row10_col5, #T_c86f5_row13_col14, #T_c86f5_row14_col1 {\n",
       "  background-color: #4f69d9;\n",
       "  color: #f1f1f1;\n",
       "}\n",
       "#T_c86f5_row5_col19, #T_c86f5_row6_col15, #T_c86f5_row7_col11, #T_c86f5_row14_col7, #T_c86f5_row16_col18, #T_c86f5_row17_col2 {\n",
       "  background-color: #5875e1;\n",
       "  color: #f1f1f1;\n",
       "}\n",
       "#T_c86f5_row6_col7, #T_c86f5_row9_col6, #T_c86f5_row11_col4, #T_c86f5_row12_col15, #T_c86f5_row12_col17, #T_c86f5_row16_col10, #T_c86f5_row16_col11, #T_c86f5_row16_col15 {\n",
       "  background-color: #6687ed;\n",
       "  color: #f1f1f1;\n",
       "}\n",
       "#T_c86f5_row6_col9, #T_c86f5_row18_col12, #T_c86f5_row18_col16 {\n",
       "  background-color: #465ecf;\n",
       "  color: #f1f1f1;\n",
       "}\n",
       "#T_c86f5_row7_col0, #T_c86f5_row15_col4, #T_c86f5_row15_col9, #T_c86f5_row19_col13 {\n",
       "  background-color: #3d50c3;\n",
       "  color: #f1f1f1;\n",
       "}\n",
       "#T_c86f5_row7_col13, #T_c86f5_row11_col17, #T_c86f5_row12_col4, #T_c86f5_row16_col19, #T_c86f5_row17_col11, #T_c86f5_row18_col4 {\n",
       "  background-color: #506bda;\n",
       "  color: #f1f1f1;\n",
       "}\n",
       "#T_c86f5_row7_col14, #T_c86f5_row12_col18, #T_c86f5_row17_col8, #T_c86f5_row17_col19, #T_c86f5_row18_col13 {\n",
       "  background-color: #5572df;\n",
       "  color: #f1f1f1;\n",
       "}\n",
       "#T_c86f5_row7_col19, #T_c86f5_row8_col14, #T_c86f5_row8_col19, #T_c86f5_row14_col4, #T_c86f5_row14_col13, #T_c86f5_row15_col0, #T_c86f5_row15_col17, #T_c86f5_row17_col15, #T_c86f5_row19_col1, #T_c86f5_row19_col2, #T_c86f5_row19_col3, #T_c86f5_row19_col5, #T_c86f5_row19_col6, #T_c86f5_row19_col7, #T_c86f5_row19_col8, #T_c86f5_row19_col9, #T_c86f5_row19_col10, #T_c86f5_row19_col11, #T_c86f5_row19_col12, #T_c86f5_row19_col15, #T_c86f5_row19_col16, #T_c86f5_row19_col18 {\n",
       "  background-color: #3b4cc0;\n",
       "  color: #f1f1f1;\n",
       "}\n",
       "#T_c86f5_row10_col0, #T_c86f5_row18_col11, #T_c86f5_row18_col15, #T_c86f5_row18_col19 {\n",
       "  background-color: #3f53c6;\n",
       "  color: #f1f1f1;\n",
       "}\n",
       "#T_c86f5_row10_col3, #T_c86f5_row11_col3, #T_c86f5_row12_col3 {\n",
       "  background-color: #86a9fc;\n",
       "  color: #f1f1f1;\n",
       "}\n",
       "#T_c86f5_row10_col8 {\n",
       "  background-color: #96b7ff;\n",
       "  color: #000000;\n",
       "}\n",
       "#T_c86f5_row10_col19, #T_c86f5_row14_col2, #T_c86f5_row14_col18, #T_c86f5_row18_col3 {\n",
       "  background-color: #4a63d3;\n",
       "  color: #f1f1f1;\n",
       "}\n",
       "#T_c86f5_row11_col9 {\n",
       "  background-color: #455cce;\n",
       "  color: #f1f1f1;\n",
       "}\n",
       "#T_c86f5_row11_col18, #T_c86f5_row11_col19, #T_c86f5_row15_col18, #T_c86f5_row15_col19, #T_c86f5_row18_col9 {\n",
       "  background-color: #485fd1;\n",
       "  color: #f1f1f1;\n",
       "}\n",
       "#T_c86f5_row13_col9, #T_c86f5_row14_col8, #T_c86f5_row14_col9, #T_c86f5_row19_col14 {\n",
       "  background-color: #3c4ec2;\n",
       "  color: #f1f1f1;\n",
       "}\n",
       "#T_c86f5_row14_col19, #T_c86f5_row15_col5, #T_c86f5_row19_col0, #T_c86f5_row19_col4 {\n",
       "  background-color: #3e51c5;\n",
       "  color: #f1f1f1;\n",
       "}\n",
       "</style>\n",
       "<table id=\"T_c86f5\">\n",
       "  <thead>\n",
       "    <tr>\n",
       "      <th class=\"blank level0\" >&nbsp;</th>\n",
       "      <th id=\"T_c86f5_level0_col0\" class=\"col_heading level0 col0\" >estimator 1</th>\n",
       "      <th id=\"T_c86f5_level0_col1\" class=\"col_heading level0 col1\" >estimator 2</th>\n",
       "      <th id=\"T_c86f5_level0_col2\" class=\"col_heading level0 col2\" >estimator 3</th>\n",
       "      <th id=\"T_c86f5_level0_col3\" class=\"col_heading level0 col3\" >estimator 4</th>\n",
       "      <th id=\"T_c86f5_level0_col4\" class=\"col_heading level0 col4\" >estimator 5</th>\n",
       "      <th id=\"T_c86f5_level0_col5\" class=\"col_heading level0 col5\" >estimator 6</th>\n",
       "      <th id=\"T_c86f5_level0_col6\" class=\"col_heading level0 col6\" >estimator 7</th>\n",
       "      <th id=\"T_c86f5_level0_col7\" class=\"col_heading level0 col7\" >estimator 8</th>\n",
       "      <th id=\"T_c86f5_level0_col8\" class=\"col_heading level0 col8\" >estimator 9</th>\n",
       "      <th id=\"T_c86f5_level0_col9\" class=\"col_heading level0 col9\" >estimator 10</th>\n",
       "      <th id=\"T_c86f5_level0_col10\" class=\"col_heading level0 col10\" >estimator 11</th>\n",
       "      <th id=\"T_c86f5_level0_col11\" class=\"col_heading level0 col11\" >estimator 12</th>\n",
       "      <th id=\"T_c86f5_level0_col12\" class=\"col_heading level0 col12\" >estimator 13</th>\n",
       "      <th id=\"T_c86f5_level0_col13\" class=\"col_heading level0 col13\" >estimator 14</th>\n",
       "      <th id=\"T_c86f5_level0_col14\" class=\"col_heading level0 col14\" >estimator 15</th>\n",
       "      <th id=\"T_c86f5_level0_col15\" class=\"col_heading level0 col15\" >estimator 16</th>\n",
       "      <th id=\"T_c86f5_level0_col16\" class=\"col_heading level0 col16\" >estimator 17</th>\n",
       "      <th id=\"T_c86f5_level0_col17\" class=\"col_heading level0 col17\" >estimator 18</th>\n",
       "      <th id=\"T_c86f5_level0_col18\" class=\"col_heading level0 col18\" >estimator 19</th>\n",
       "      <th id=\"T_c86f5_level0_col19\" class=\"col_heading level0 col19\" >estimator 20</th>\n",
       "    </tr>\n",
       "  </thead>\n",
       "  <tbody>\n",
       "    <tr>\n",
       "      <th id=\"T_c86f5_level0_row0\" class=\"row_heading level0 row0\" >estimator 1</th>\n",
       "      <td id=\"T_c86f5_row0_col0\" class=\"data row0 col0\" >1.000000</td>\n",
       "      <td id=\"T_c86f5_row0_col1\" class=\"data row0 col1\" >0.481668</td>\n",
       "      <td id=\"T_c86f5_row0_col2\" class=\"data row0 col2\" >0.451304</td>\n",
       "      <td id=\"T_c86f5_row0_col3\" class=\"data row0 col3\" >0.478581</td>\n",
       "      <td id=\"T_c86f5_row0_col4\" class=\"data row0 col4\" >0.490622</td>\n",
       "      <td id=\"T_c86f5_row0_col5\" class=\"data row0 col5\" >0.504061</td>\n",
       "      <td id=\"T_c86f5_row0_col6\" class=\"data row0 col6\" >0.447780</td>\n",
       "      <td id=\"T_c86f5_row0_col7\" class=\"data row0 col7\" >0.407824</td>\n",
       "      <td id=\"T_c86f5_row0_col8\" class=\"data row0 col8\" >0.472703</td>\n",
       "      <td id=\"T_c86f5_row0_col9\" class=\"data row0 col9\" >0.464582</td>\n",
       "      <td id=\"T_c86f5_row0_col10\" class=\"data row0 col10\" >0.412641</td>\n",
       "      <td id=\"T_c86f5_row0_col11\" class=\"data row0 col11\" >0.437044</td>\n",
       "      <td id=\"T_c86f5_row0_col12\" class=\"data row0 col12\" >0.450483</td>\n",
       "      <td id=\"T_c86f5_row0_col13\" class=\"data row0 col13\" >0.478466</td>\n",
       "      <td id=\"T_c86f5_row0_col14\" class=\"data row0 col14\" >0.450143</td>\n",
       "      <td id=\"T_c86f5_row0_col15\" class=\"data row0 col15\" >0.401095</td>\n",
       "      <td id=\"T_c86f5_row0_col16\" class=\"data row0 col16\" >0.469627</td>\n",
       "      <td id=\"T_c86f5_row0_col17\" class=\"data row0 col17\" >0.463721</td>\n",
       "      <td id=\"T_c86f5_row0_col18\" class=\"data row0 col18\" >0.439192</td>\n",
       "      <td id=\"T_c86f5_row0_col19\" class=\"data row0 col19\" >0.408516</td>\n",
       "    </tr>\n",
       "    <tr>\n",
       "      <th id=\"T_c86f5_level0_row1\" class=\"row_heading level0 row1\" >estimator 2</th>\n",
       "      <td id=\"T_c86f5_row1_col0\" class=\"data row1 col0\" >0.481668</td>\n",
       "      <td id=\"T_c86f5_row1_col1\" class=\"data row1 col1\" >1.000000</td>\n",
       "      <td id=\"T_c86f5_row1_col2\" class=\"data row1 col2\" >0.548527</td>\n",
       "      <td id=\"T_c86f5_row1_col3\" class=\"data row1 col3\" >0.528900</td>\n",
       "      <td id=\"T_c86f5_row1_col4\" class=\"data row1 col4\" >0.489608</td>\n",
       "      <td id=\"T_c86f5_row1_col5\" class=\"data row1 col5\" >0.559865</td>\n",
       "      <td id=\"T_c86f5_row1_col6\" class=\"data row1 col6\" >0.542917</td>\n",
       "      <td id=\"T_c86f5_row1_col7\" class=\"data row1 col7\" >0.541033</td>\n",
       "      <td id=\"T_c86f5_row1_col8\" class=\"data row1 col8\" >0.506238</td>\n",
       "      <td id=\"T_c86f5_row1_col9\" class=\"data row1 col9\" >0.539896</td>\n",
       "      <td id=\"T_c86f5_row1_col10\" class=\"data row1 col10\" >0.516393</td>\n",
       "      <td id=\"T_c86f5_row1_col11\" class=\"data row1 col11\" >0.547692</td>\n",
       "      <td id=\"T_c86f5_row1_col12\" class=\"data row1 col12\" >0.546463</td>\n",
       "      <td id=\"T_c86f5_row1_col13\" class=\"data row1 col13\" >0.493497</td>\n",
       "      <td id=\"T_c86f5_row1_col14\" class=\"data row1 col14\" >0.462855</td>\n",
       "      <td id=\"T_c86f5_row1_col15\" class=\"data row1 col15\" >0.518263</td>\n",
       "      <td id=\"T_c86f5_row1_col16\" class=\"data row1 col16\" >0.538261</td>\n",
       "      <td id=\"T_c86f5_row1_col17\" class=\"data row1 col17\" >0.548230</td>\n",
       "      <td id=\"T_c86f5_row1_col18\" class=\"data row1 col18\" >0.471310</td>\n",
       "      <td id=\"T_c86f5_row1_col19\" class=\"data row1 col19\" >0.424474</td>\n",
       "    </tr>\n",
       "    <tr>\n",
       "      <th id=\"T_c86f5_level0_row2\" class=\"row_heading level0 row2\" >estimator 3</th>\n",
       "      <td id=\"T_c86f5_row2_col0\" class=\"data row2 col0\" >0.451304</td>\n",
       "      <td id=\"T_c86f5_row2_col1\" class=\"data row2 col1\" >0.548527</td>\n",
       "      <td id=\"T_c86f5_row2_col2\" class=\"data row2 col2\" >1.000000</td>\n",
       "      <td id=\"T_c86f5_row2_col3\" class=\"data row2 col3\" >0.515826</td>\n",
       "      <td id=\"T_c86f5_row2_col4\" class=\"data row2 col4\" >0.469347</td>\n",
       "      <td id=\"T_c86f5_row2_col5\" class=\"data row2 col5\" >0.514314</td>\n",
       "      <td id=\"T_c86f5_row2_col6\" class=\"data row2 col6\" >0.521639</td>\n",
       "      <td id=\"T_c86f5_row2_col7\" class=\"data row2 col7\" >0.467240</td>\n",
       "      <td id=\"T_c86f5_row2_col8\" class=\"data row2 col8\" >0.489912</td>\n",
       "      <td id=\"T_c86f5_row2_col9\" class=\"data row2 col9\" >0.481009</td>\n",
       "      <td id=\"T_c86f5_row2_col10\" class=\"data row2 col10\" >0.486335</td>\n",
       "      <td id=\"T_c86f5_row2_col11\" class=\"data row2 col11\" >0.503598</td>\n",
       "      <td id=\"T_c86f5_row2_col12\" class=\"data row2 col12\" >0.531658</td>\n",
       "      <td id=\"T_c86f5_row2_col13\" class=\"data row2 col13\" >0.472433</td>\n",
       "      <td id=\"T_c86f5_row2_col14\" class=\"data row2 col14\" >0.428391</td>\n",
       "      <td id=\"T_c86f5_row2_col15\" class=\"data row2 col15\" >0.481844</td>\n",
       "      <td id=\"T_c86f5_row2_col16\" class=\"data row2 col16\" >0.443229</td>\n",
       "      <td id=\"T_c86f5_row2_col17\" class=\"data row2 col17\" >0.452623</td>\n",
       "      <td id=\"T_c86f5_row2_col18\" class=\"data row2 col18\" >0.470199</td>\n",
       "      <td id=\"T_c86f5_row2_col19\" class=\"data row2 col19\" >0.395853</td>\n",
       "    </tr>\n",
       "    <tr>\n",
       "      <th id=\"T_c86f5_level0_row3\" class=\"row_heading level0 row3\" >estimator 4</th>\n",
       "      <td id=\"T_c86f5_row3_col0\" class=\"data row3 col0\" >0.478581</td>\n",
       "      <td id=\"T_c86f5_row3_col1\" class=\"data row3 col1\" >0.528900</td>\n",
       "      <td id=\"T_c86f5_row3_col2\" class=\"data row3 col2\" >0.515826</td>\n",
       "      <td id=\"T_c86f5_row3_col3\" class=\"data row3 col3\" >1.000000</td>\n",
       "      <td id=\"T_c86f5_row3_col4\" class=\"data row3 col4\" >0.506515</td>\n",
       "      <td id=\"T_c86f5_row3_col5\" class=\"data row3 col5\" >0.498790</td>\n",
       "      <td id=\"T_c86f5_row3_col6\" class=\"data row3 col6\" >0.477910</td>\n",
       "      <td id=\"T_c86f5_row3_col7\" class=\"data row3 col7\" >0.523610</td>\n",
       "      <td id=\"T_c86f5_row3_col8\" class=\"data row3 col8\" >0.474028</td>\n",
       "      <td id=\"T_c86f5_row3_col9\" class=\"data row3 col9\" >0.499425</td>\n",
       "      <td id=\"T_c86f5_row3_col10\" class=\"data row3 col10\" >0.520324</td>\n",
       "      <td id=\"T_c86f5_row3_col11\" class=\"data row3 col11\" >0.521425</td>\n",
       "      <td id=\"T_c86f5_row3_col12\" class=\"data row3 col12\" >0.519908</td>\n",
       "      <td id=\"T_c86f5_row3_col13\" class=\"data row3 col13\" >0.481036</td>\n",
       "      <td id=\"T_c86f5_row3_col14\" class=\"data row3 col14\" >0.449204</td>\n",
       "      <td id=\"T_c86f5_row3_col15\" class=\"data row3 col15\" >0.506549</td>\n",
       "      <td id=\"T_c86f5_row3_col16\" class=\"data row3 col16\" >0.476110</td>\n",
       "      <td id=\"T_c86f5_row3_col17\" class=\"data row3 col17\" >0.465778</td>\n",
       "      <td id=\"T_c86f5_row3_col18\" class=\"data row3 col18\" >0.408934</td>\n",
       "      <td id=\"T_c86f5_row3_col19\" class=\"data row3 col19\" >0.375660</td>\n",
       "    </tr>\n",
       "    <tr>\n",
       "      <th id=\"T_c86f5_level0_row4\" class=\"row_heading level0 row4\" >estimator 5</th>\n",
       "      <td id=\"T_c86f5_row4_col0\" class=\"data row4 col0\" >0.490622</td>\n",
       "      <td id=\"T_c86f5_row4_col1\" class=\"data row4 col1\" >0.489608</td>\n",
       "      <td id=\"T_c86f5_row4_col2\" class=\"data row4 col2\" >0.469347</td>\n",
       "      <td id=\"T_c86f5_row4_col3\" class=\"data row4 col3\" >0.506515</td>\n",
       "      <td id=\"T_c86f5_row4_col4\" class=\"data row4 col4\" >1.000000</td>\n",
       "      <td id=\"T_c86f5_row4_col5\" class=\"data row4 col5\" >0.540041</td>\n",
       "      <td id=\"T_c86f5_row4_col6\" class=\"data row4 col6\" >0.491176</td>\n",
       "      <td id=\"T_c86f5_row4_col7\" class=\"data row4 col7\" >0.491773</td>\n",
       "      <td id=\"T_c86f5_row4_col8\" class=\"data row4 col8\" >0.493429</td>\n",
       "      <td id=\"T_c86f5_row4_col9\" class=\"data row4 col9\" >0.497164</td>\n",
       "      <td id=\"T_c86f5_row4_col10\" class=\"data row4 col10\" >0.532544</td>\n",
       "      <td id=\"T_c86f5_row4_col11\" class=\"data row4 col11\" >0.511844</td>\n",
       "      <td id=\"T_c86f5_row4_col12\" class=\"data row4 col12\" >0.473262</td>\n",
       "      <td id=\"T_c86f5_row4_col13\" class=\"data row4 col13\" >0.508952</td>\n",
       "      <td id=\"T_c86f5_row4_col14\" class=\"data row4 col14\" >0.432708</td>\n",
       "      <td id=\"T_c86f5_row4_col15\" class=\"data row4 col15\" >0.437777</td>\n",
       "      <td id=\"T_c86f5_row4_col16\" class=\"data row4 col16\" >0.503192</td>\n",
       "      <td id=\"T_c86f5_row4_col17\" class=\"data row4 col17\" >0.492312</td>\n",
       "      <td id=\"T_c86f5_row4_col18\" class=\"data row4 col18\" >0.472667</td>\n",
       "      <td id=\"T_c86f5_row4_col19\" class=\"data row4 col19\" >0.439962</td>\n",
       "    </tr>\n",
       "    <tr>\n",
       "      <th id=\"T_c86f5_level0_row5\" class=\"row_heading level0 row5\" >estimator 6</th>\n",
       "      <td id=\"T_c86f5_row5_col0\" class=\"data row5 col0\" >0.504061</td>\n",
       "      <td id=\"T_c86f5_row5_col1\" class=\"data row5 col1\" >0.559865</td>\n",
       "      <td id=\"T_c86f5_row5_col2\" class=\"data row5 col2\" >0.514314</td>\n",
       "      <td id=\"T_c86f5_row5_col3\" class=\"data row5 col3\" >0.498790</td>\n",
       "      <td id=\"T_c86f5_row5_col4\" class=\"data row5 col4\" >0.540041</td>\n",
       "      <td id=\"T_c86f5_row5_col5\" class=\"data row5 col5\" >1.000000</td>\n",
       "      <td id=\"T_c86f5_row5_col6\" class=\"data row5 col6\" >0.526143</td>\n",
       "      <td id=\"T_c86f5_row5_col7\" class=\"data row5 col7\" >0.498953</td>\n",
       "      <td id=\"T_c86f5_row5_col8\" class=\"data row5 col8\" >0.492899</td>\n",
       "      <td id=\"T_c86f5_row5_col9\" class=\"data row5 col9\" >0.520552</td>\n",
       "      <td id=\"T_c86f5_row5_col10\" class=\"data row5 col10\" >0.461250</td>\n",
       "      <td id=\"T_c86f5_row5_col11\" class=\"data row5 col11\" >0.507577</td>\n",
       "      <td id=\"T_c86f5_row5_col12\" class=\"data row5 col12\" >0.528392</td>\n",
       "      <td id=\"T_c86f5_row5_col13\" class=\"data row5 col13\" >0.513136</td>\n",
       "      <td id=\"T_c86f5_row5_col14\" class=\"data row5 col14\" >0.470287</td>\n",
       "      <td id=\"T_c86f5_row5_col15\" class=\"data row5 col15\" >0.428326</td>\n",
       "      <td id=\"T_c86f5_row5_col16\" class=\"data row5 col16\" >0.539767</td>\n",
       "      <td id=\"T_c86f5_row5_col17\" class=\"data row5 col17\" >0.505124</td>\n",
       "      <td id=\"T_c86f5_row5_col18\" class=\"data row5 col18\" >0.480655</td>\n",
       "      <td id=\"T_c86f5_row5_col19\" class=\"data row5 col19\" >0.421418</td>\n",
       "    </tr>\n",
       "    <tr>\n",
       "      <th id=\"T_c86f5_level0_row6\" class=\"row_heading level0 row6\" >estimator 7</th>\n",
       "      <td id=\"T_c86f5_row6_col0\" class=\"data row6 col0\" >0.447780</td>\n",
       "      <td id=\"T_c86f5_row6_col1\" class=\"data row6 col1\" >0.542917</td>\n",
       "      <td id=\"T_c86f5_row6_col2\" class=\"data row6 col2\" >0.521639</td>\n",
       "      <td id=\"T_c86f5_row6_col3\" class=\"data row6 col3\" >0.477910</td>\n",
       "      <td id=\"T_c86f5_row6_col4\" class=\"data row6 col4\" >0.491176</td>\n",
       "      <td id=\"T_c86f5_row6_col5\" class=\"data row6 col5\" >0.526143</td>\n",
       "      <td id=\"T_c86f5_row6_col6\" class=\"data row6 col6\" >1.000000</td>\n",
       "      <td id=\"T_c86f5_row6_col7\" class=\"data row6 col7\" >0.448870</td>\n",
       "      <td id=\"T_c86f5_row6_col8\" class=\"data row6 col8\" >0.443289</td>\n",
       "      <td id=\"T_c86f5_row6_col9\" class=\"data row6 col9\" >0.461435</td>\n",
       "      <td id=\"T_c86f5_row6_col10\" class=\"data row6 col10\" >0.460173</td>\n",
       "      <td id=\"T_c86f5_row6_col11\" class=\"data row6 col11\" >0.483377</td>\n",
       "      <td id=\"T_c86f5_row6_col12\" class=\"data row6 col12\" >0.467096</td>\n",
       "      <td id=\"T_c86f5_row6_col13\" class=\"data row6 col13\" >0.465606</td>\n",
       "      <td id=\"T_c86f5_row6_col14\" class=\"data row6 col14\" >0.456786</td>\n",
       "      <td id=\"T_c86f5_row6_col15\" class=\"data row6 col15\" >0.446444</td>\n",
       "      <td id=\"T_c86f5_row6_col16\" class=\"data row6 col16\" >0.474809</td>\n",
       "      <td id=\"T_c86f5_row6_col17\" class=\"data row6 col17\" >0.464000</td>\n",
       "      <td id=\"T_c86f5_row6_col18\" class=\"data row6 col18\" >0.473561</td>\n",
       "      <td id=\"T_c86f5_row6_col19\" class=\"data row6 col19\" >0.375114</td>\n",
       "    </tr>\n",
       "    <tr>\n",
       "      <th id=\"T_c86f5_level0_row7\" class=\"row_heading level0 row7\" >estimator 8</th>\n",
       "      <td id=\"T_c86f5_row7_col0\" class=\"data row7 col0\" >0.407824</td>\n",
       "      <td id=\"T_c86f5_row7_col1\" class=\"data row7 col1\" >0.541033</td>\n",
       "      <td id=\"T_c86f5_row7_col2\" class=\"data row7 col2\" >0.467240</td>\n",
       "      <td id=\"T_c86f5_row7_col3\" class=\"data row7 col3\" >0.523610</td>\n",
       "      <td id=\"T_c86f5_row7_col4\" class=\"data row7 col4\" >0.491773</td>\n",
       "      <td id=\"T_c86f5_row7_col5\" class=\"data row7 col5\" >0.498953</td>\n",
       "      <td id=\"T_c86f5_row7_col6\" class=\"data row7 col6\" >0.448870</td>\n",
       "      <td id=\"T_c86f5_row7_col7\" class=\"data row7 col7\" >1.000000</td>\n",
       "      <td id=\"T_c86f5_row7_col8\" class=\"data row7 col8\" >0.503038</td>\n",
       "      <td id=\"T_c86f5_row7_col9\" class=\"data row7 col9\" >0.523540</td>\n",
       "      <td id=\"T_c86f5_row7_col10\" class=\"data row7 col10\" >0.499929</td>\n",
       "      <td id=\"T_c86f5_row7_col11\" class=\"data row7 col11\" >0.445598</td>\n",
       "      <td id=\"T_c86f5_row7_col12\" class=\"data row7 col12\" >0.495176</td>\n",
       "      <td id=\"T_c86f5_row7_col13\" class=\"data row7 col13\" >0.450801</td>\n",
       "      <td id=\"T_c86f5_row7_col14\" class=\"data row7 col14\" >0.421867</td>\n",
       "      <td id=\"T_c86f5_row7_col15\" class=\"data row7 col15\" >0.438386</td>\n",
       "      <td id=\"T_c86f5_row7_col16\" class=\"data row7 col16\" >0.457057</td>\n",
       "      <td id=\"T_c86f5_row7_col17\" class=\"data row7 col17\" >0.465732</td>\n",
       "      <td id=\"T_c86f5_row7_col18\" class=\"data row7 col18\" >0.476533</td>\n",
       "      <td id=\"T_c86f5_row7_col19\" class=\"data row7 col19\" >0.359941</td>\n",
       "    </tr>\n",
       "    <tr>\n",
       "      <th id=\"T_c86f5_level0_row8\" class=\"row_heading level0 row8\" >estimator 9</th>\n",
       "      <td id=\"T_c86f5_row8_col0\" class=\"data row8 col0\" >0.472703</td>\n",
       "      <td id=\"T_c86f5_row8_col1\" class=\"data row8 col1\" >0.506238</td>\n",
       "      <td id=\"T_c86f5_row8_col2\" class=\"data row8 col2\" >0.489912</td>\n",
       "      <td id=\"T_c86f5_row8_col3\" class=\"data row8 col3\" >0.474028</td>\n",
       "      <td id=\"T_c86f5_row8_col4\" class=\"data row8 col4\" >0.493429</td>\n",
       "      <td id=\"T_c86f5_row8_col5\" class=\"data row8 col5\" >0.492899</td>\n",
       "      <td id=\"T_c86f5_row8_col6\" class=\"data row8 col6\" >0.443289</td>\n",
       "      <td id=\"T_c86f5_row8_col7\" class=\"data row8 col7\" >0.503038</td>\n",
       "      <td id=\"T_c86f5_row8_col8\" class=\"data row8 col8\" >1.000000</td>\n",
       "      <td id=\"T_c86f5_row8_col9\" class=\"data row8 col9\" >0.524731</td>\n",
       "      <td id=\"T_c86f5_row8_col10\" class=\"data row8 col10\" >0.536745</td>\n",
       "      <td id=\"T_c86f5_row8_col11\" class=\"data row8 col11\" >0.504659</td>\n",
       "      <td id=\"T_c86f5_row8_col12\" class=\"data row8 col12\" >0.489395</td>\n",
       "      <td id=\"T_c86f5_row8_col13\" class=\"data row8 col13\" >0.481313</td>\n",
       "      <td id=\"T_c86f5_row8_col14\" class=\"data row8 col14\" >0.365283</td>\n",
       "      <td id=\"T_c86f5_row8_col15\" class=\"data row8 col15\" >0.454279</td>\n",
       "      <td id=\"T_c86f5_row8_col16\" class=\"data row8 col16\" >0.465440</td>\n",
       "      <td id=\"T_c86f5_row8_col17\" class=\"data row8 col17\" >0.417292</td>\n",
       "      <td id=\"T_c86f5_row8_col18\" class=\"data row8 col18\" >0.413702</td>\n",
       "      <td id=\"T_c86f5_row8_col19\" class=\"data row8 col19\" >0.361420</td>\n",
       "    </tr>\n",
       "    <tr>\n",
       "      <th id=\"T_c86f5_level0_row9\" class=\"row_heading level0 row9\" >estimator 10</th>\n",
       "      <td id=\"T_c86f5_row9_col0\" class=\"data row9 col0\" >0.464582</td>\n",
       "      <td id=\"T_c86f5_row9_col1\" class=\"data row9 col1\" >0.539896</td>\n",
       "      <td id=\"T_c86f5_row9_col2\" class=\"data row9 col2\" >0.481009</td>\n",
       "      <td id=\"T_c86f5_row9_col3\" class=\"data row9 col3\" >0.499425</td>\n",
       "      <td id=\"T_c86f5_row9_col4\" class=\"data row9 col4\" >0.497164</td>\n",
       "      <td id=\"T_c86f5_row9_col5\" class=\"data row9 col5\" >0.520552</td>\n",
       "      <td id=\"T_c86f5_row9_col6\" class=\"data row9 col6\" >0.461435</td>\n",
       "      <td id=\"T_c86f5_row9_col7\" class=\"data row9 col7\" >0.523540</td>\n",
       "      <td id=\"T_c86f5_row9_col8\" class=\"data row9 col8\" >0.524731</td>\n",
       "      <td id=\"T_c86f5_row9_col9\" class=\"data row9 col9\" >1.000000</td>\n",
       "      <td id=\"T_c86f5_row9_col10\" class=\"data row9 col10\" >0.499620</td>\n",
       "      <td id=\"T_c86f5_row9_col11\" class=\"data row9 col11\" >0.458705</td>\n",
       "      <td id=\"T_c86f5_row9_col12\" class=\"data row9 col12\" >0.552240</td>\n",
       "      <td id=\"T_c86f5_row9_col13\" class=\"data row9 col13\" >0.441752</td>\n",
       "      <td id=\"T_c86f5_row9_col14\" class=\"data row9 col14\" >0.441381</td>\n",
       "      <td id=\"T_c86f5_row9_col15\" class=\"data row9 col15\" >0.444169</td>\n",
       "      <td id=\"T_c86f5_row9_col16\" class=\"data row9 col16\" >0.506821</td>\n",
       "      <td id=\"T_c86f5_row9_col17\" class=\"data row9 col17\" >0.508726</td>\n",
       "      <td id=\"T_c86f5_row9_col18\" class=\"data row9 col18\" >0.461947</td>\n",
       "      <td id=\"T_c86f5_row9_col19\" class=\"data row9 col19\" >0.437757</td>\n",
       "    </tr>\n",
       "    <tr>\n",
       "      <th id=\"T_c86f5_level0_row10\" class=\"row_heading level0 row10\" >estimator 11</th>\n",
       "      <td id=\"T_c86f5_row10_col0\" class=\"data row10 col0\" >0.412641</td>\n",
       "      <td id=\"T_c86f5_row10_col1\" class=\"data row10 col1\" >0.516393</td>\n",
       "      <td id=\"T_c86f5_row10_col2\" class=\"data row10 col2\" >0.486335</td>\n",
       "      <td id=\"T_c86f5_row10_col3\" class=\"data row10 col3\" >0.520324</td>\n",
       "      <td id=\"T_c86f5_row10_col4\" class=\"data row10 col4\" >0.532544</td>\n",
       "      <td id=\"T_c86f5_row10_col5\" class=\"data row10 col5\" >0.461250</td>\n",
       "      <td id=\"T_c86f5_row10_col6\" class=\"data row10 col6\" >0.460173</td>\n",
       "      <td id=\"T_c86f5_row10_col7\" class=\"data row10 col7\" >0.499929</td>\n",
       "      <td id=\"T_c86f5_row10_col8\" class=\"data row10 col8\" >0.536745</td>\n",
       "      <td id=\"T_c86f5_row10_col9\" class=\"data row10 col9\" >0.499620</td>\n",
       "      <td id=\"T_c86f5_row10_col10\" class=\"data row10 col10\" >1.000000</td>\n",
       "      <td id=\"T_c86f5_row10_col11\" class=\"data row10 col11\" >0.507871</td>\n",
       "      <td id=\"T_c86f5_row10_col12\" class=\"data row10 col12\" >0.506889</td>\n",
       "      <td id=\"T_c86f5_row10_col13\" class=\"data row10 col13\" >0.462252</td>\n",
       "      <td id=\"T_c86f5_row10_col14\" class=\"data row10 col14\" >0.462341</td>\n",
       "      <td id=\"T_c86f5_row10_col15\" class=\"data row10 col15\" >0.500627</td>\n",
       "      <td id=\"T_c86f5_row10_col16\" class=\"data row10 col16\" >0.476136</td>\n",
       "      <td id=\"T_c86f5_row10_col17\" class=\"data row10 col17\" >0.506430</td>\n",
       "      <td id=\"T_c86f5_row10_col18\" class=\"data row10 col18\" >0.467167</td>\n",
       "      <td id=\"T_c86f5_row10_col19\" class=\"data row10 col19\" >0.392940</td>\n",
       "    </tr>\n",
       "    <tr>\n",
       "      <th id=\"T_c86f5_level0_row11\" class=\"row_heading level0 row11\" >estimator 12</th>\n",
       "      <td id=\"T_c86f5_row11_col0\" class=\"data row11 col0\" >0.437044</td>\n",
       "      <td id=\"T_c86f5_row11_col1\" class=\"data row11 col1\" >0.547692</td>\n",
       "      <td id=\"T_c86f5_row11_col2\" class=\"data row11 col2\" >0.503598</td>\n",
       "      <td id=\"T_c86f5_row11_col3\" class=\"data row11 col3\" >0.521425</td>\n",
       "      <td id=\"T_c86f5_row11_col4\" class=\"data row11 col4\" >0.511844</td>\n",
       "      <td id=\"T_c86f5_row11_col5\" class=\"data row11 col5\" >0.507577</td>\n",
       "      <td id=\"T_c86f5_row11_col6\" class=\"data row11 col6\" >0.483377</td>\n",
       "      <td id=\"T_c86f5_row11_col7\" class=\"data row11 col7\" >0.445598</td>\n",
       "      <td id=\"T_c86f5_row11_col8\" class=\"data row11 col8\" >0.504659</td>\n",
       "      <td id=\"T_c86f5_row11_col9\" class=\"data row11 col9\" >0.458705</td>\n",
       "      <td id=\"T_c86f5_row11_col10\" class=\"data row11 col10\" >0.507871</td>\n",
       "      <td id=\"T_c86f5_row11_col11\" class=\"data row11 col11\" >1.000000</td>\n",
       "      <td id=\"T_c86f5_row11_col12\" class=\"data row11 col12\" >0.494308</td>\n",
       "      <td id=\"T_c86f5_row11_col13\" class=\"data row11 col13\" >0.478410</td>\n",
       "      <td id=\"T_c86f5_row11_col14\" class=\"data row11 col14\" >0.418601</td>\n",
       "      <td id=\"T_c86f5_row11_col15\" class=\"data row11 col15\" >0.488220</td>\n",
       "      <td id=\"T_c86f5_row11_col16\" class=\"data row11 col16\" >0.471654</td>\n",
       "      <td id=\"T_c86f5_row11_col17\" class=\"data row11 col17\" >0.431398</td>\n",
       "      <td id=\"T_c86f5_row11_col18\" class=\"data row11 col18\" >0.397934</td>\n",
       "      <td id=\"T_c86f5_row11_col19\" class=\"data row11 col19\" >0.387575</td>\n",
       "    </tr>\n",
       "    <tr>\n",
       "      <th id=\"T_c86f5_level0_row12\" class=\"row_heading level0 row12\" >estimator 13</th>\n",
       "      <td id=\"T_c86f5_row12_col0\" class=\"data row12 col0\" >0.450483</td>\n",
       "      <td id=\"T_c86f5_row12_col1\" class=\"data row12 col1\" >0.546463</td>\n",
       "      <td id=\"T_c86f5_row12_col2\" class=\"data row12 col2\" >0.531658</td>\n",
       "      <td id=\"T_c86f5_row12_col3\" class=\"data row12 col3\" >0.519908</td>\n",
       "      <td id=\"T_c86f5_row12_col4\" class=\"data row12 col4\" >0.473262</td>\n",
       "      <td id=\"T_c86f5_row12_col5\" class=\"data row12 col5\" >0.528392</td>\n",
       "      <td id=\"T_c86f5_row12_col6\" class=\"data row12 col6\" >0.467096</td>\n",
       "      <td id=\"T_c86f5_row12_col7\" class=\"data row12 col7\" >0.495176</td>\n",
       "      <td id=\"T_c86f5_row12_col8\" class=\"data row12 col8\" >0.489395</td>\n",
       "      <td id=\"T_c86f5_row12_col9\" class=\"data row12 col9\" >0.552240</td>\n",
       "      <td id=\"T_c86f5_row12_col10\" class=\"data row12 col10\" >0.506889</td>\n",
       "      <td id=\"T_c86f5_row12_col11\" class=\"data row12 col11\" >0.494308</td>\n",
       "      <td id=\"T_c86f5_row12_col12\" class=\"data row12 col12\" >1.000000</td>\n",
       "      <td id=\"T_c86f5_row12_col13\" class=\"data row12 col13\" >0.440206</td>\n",
       "      <td id=\"T_c86f5_row12_col14\" class=\"data row12 col14\" >0.446627</td>\n",
       "      <td id=\"T_c86f5_row12_col15\" class=\"data row12 col15\" >0.472321</td>\n",
       "      <td id=\"T_c86f5_row12_col16\" class=\"data row12 col16\" >0.506889</td>\n",
       "      <td id=\"T_c86f5_row12_col17\" class=\"data row12 col17\" >0.473619</td>\n",
       "      <td id=\"T_c86f5_row12_col18\" class=\"data row12 col18\" >0.425709</td>\n",
       "      <td id=\"T_c86f5_row12_col19\" class=\"data row12 col19\" >0.400809</td>\n",
       "    </tr>\n",
       "    <tr>\n",
       "      <th id=\"T_c86f5_level0_row13\" class=\"row_heading level0 row13\" >estimator 14</th>\n",
       "      <td id=\"T_c86f5_row13_col0\" class=\"data row13 col0\" >0.478466</td>\n",
       "      <td id=\"T_c86f5_row13_col1\" class=\"data row13 col1\" >0.493497</td>\n",
       "      <td id=\"T_c86f5_row13_col2\" class=\"data row13 col2\" >0.472433</td>\n",
       "      <td id=\"T_c86f5_row13_col3\" class=\"data row13 col3\" >0.481036</td>\n",
       "      <td id=\"T_c86f5_row13_col4\" class=\"data row13 col4\" >0.508952</td>\n",
       "      <td id=\"T_c86f5_row13_col5\" class=\"data row13 col5\" >0.513136</td>\n",
       "      <td id=\"T_c86f5_row13_col6\" class=\"data row13 col6\" >0.465606</td>\n",
       "      <td id=\"T_c86f5_row13_col7\" class=\"data row13 col7\" >0.450801</td>\n",
       "      <td id=\"T_c86f5_row13_col8\" class=\"data row13 col8\" >0.481313</td>\n",
       "      <td id=\"T_c86f5_row13_col9\" class=\"data row13 col9\" >0.441752</td>\n",
       "      <td id=\"T_c86f5_row13_col10\" class=\"data row13 col10\" >0.462252</td>\n",
       "      <td id=\"T_c86f5_row13_col11\" class=\"data row13 col11\" >0.478410</td>\n",
       "      <td id=\"T_c86f5_row13_col12\" class=\"data row13 col12\" >0.440206</td>\n",
       "      <td id=\"T_c86f5_row13_col13\" class=\"data row13 col13\" >1.000000</td>\n",
       "      <td id=\"T_c86f5_row13_col14\" class=\"data row13 col14\" >0.407731</td>\n",
       "      <td id=\"T_c86f5_row13_col15\" class=\"data row13 col15\" >0.478410</td>\n",
       "      <td id=\"T_c86f5_row13_col16\" class=\"data row13 col16\" >0.527770</td>\n",
       "      <td id=\"T_c86f5_row13_col17\" class=\"data row13 col17\" >0.422326</td>\n",
       "      <td id=\"T_c86f5_row13_col18\" class=\"data row13 col18\" >0.460902</td>\n",
       "      <td id=\"T_c86f5_row13_col19\" class=\"data row13 col19\" >0.414130</td>\n",
       "    </tr>\n",
       "    <tr>\n",
       "      <th id=\"T_c86f5_level0_row14\" class=\"row_heading level0 row14\" >estimator 15</th>\n",
       "      <td id=\"T_c86f5_row14_col0\" class=\"data row14 col0\" >0.450143</td>\n",
       "      <td id=\"T_c86f5_row14_col1\" class=\"data row14 col1\" >0.462855</td>\n",
       "      <td id=\"T_c86f5_row14_col2\" class=\"data row14 col2\" >0.428391</td>\n",
       "      <td id=\"T_c86f5_row14_col3\" class=\"data row14 col3\" >0.449204</td>\n",
       "      <td id=\"T_c86f5_row14_col4\" class=\"data row14 col4\" >0.432708</td>\n",
       "      <td id=\"T_c86f5_row14_col5\" class=\"data row14 col5\" >0.470287</td>\n",
       "      <td id=\"T_c86f5_row14_col6\" class=\"data row14 col6\" >0.456786</td>\n",
       "      <td id=\"T_c86f5_row14_col7\" class=\"data row14 col7\" >0.421867</td>\n",
       "      <td id=\"T_c86f5_row14_col8\" class=\"data row14 col8\" >0.365283</td>\n",
       "      <td id=\"T_c86f5_row14_col9\" class=\"data row14 col9\" >0.441381</td>\n",
       "      <td id=\"T_c86f5_row14_col10\" class=\"data row14 col10\" >0.462341</td>\n",
       "      <td id=\"T_c86f5_row14_col11\" class=\"data row14 col11\" >0.418601</td>\n",
       "      <td id=\"T_c86f5_row14_col12\" class=\"data row14 col12\" >0.446627</td>\n",
       "      <td id=\"T_c86f5_row14_col13\" class=\"data row14 col13\" >0.407731</td>\n",
       "      <td id=\"T_c86f5_row14_col14\" class=\"data row14 col14\" >1.000000</td>\n",
       "      <td id=\"T_c86f5_row14_col15\" class=\"data row14 col15\" >0.448268</td>\n",
       "      <td id=\"T_c86f5_row14_col16\" class=\"data row14 col16\" >0.440296</td>\n",
       "      <td id=\"T_c86f5_row14_col17\" class=\"data row14 col17\" >0.481059</td>\n",
       "      <td id=\"T_c86f5_row14_col18\" class=\"data row14 col18\" >0.402647</td>\n",
       "      <td id=\"T_c86f5_row14_col19\" class=\"data row14 col19\" >0.369539</td>\n",
       "    </tr>\n",
       "    <tr>\n",
       "      <th id=\"T_c86f5_level0_row15\" class=\"row_heading level0 row15\" >estimator 16</th>\n",
       "      <td id=\"T_c86f5_row15_col0\" class=\"data row15 col0\" >0.401095</td>\n",
       "      <td id=\"T_c86f5_row15_col1\" class=\"data row15 col1\" >0.518263</td>\n",
       "      <td id=\"T_c86f5_row15_col2\" class=\"data row15 col2\" >0.481844</td>\n",
       "      <td id=\"T_c86f5_row15_col3\" class=\"data row15 col3\" >0.506549</td>\n",
       "      <td id=\"T_c86f5_row15_col4\" class=\"data row15 col4\" >0.437777</td>\n",
       "      <td id=\"T_c86f5_row15_col5\" class=\"data row15 col5\" >0.428326</td>\n",
       "      <td id=\"T_c86f5_row15_col6\" class=\"data row15 col6\" >0.446444</td>\n",
       "      <td id=\"T_c86f5_row15_col7\" class=\"data row15 col7\" >0.438386</td>\n",
       "      <td id=\"T_c86f5_row15_col8\" class=\"data row15 col8\" >0.454279</td>\n",
       "      <td id=\"T_c86f5_row15_col9\" class=\"data row15 col9\" >0.444169</td>\n",
       "      <td id=\"T_c86f5_row15_col10\" class=\"data row15 col10\" >0.500627</td>\n",
       "      <td id=\"T_c86f5_row15_col11\" class=\"data row15 col11\" >0.488220</td>\n",
       "      <td id=\"T_c86f5_row15_col12\" class=\"data row15 col12\" >0.472321</td>\n",
       "      <td id=\"T_c86f5_row15_col13\" class=\"data row15 col13\" >0.478410</td>\n",
       "      <td id=\"T_c86f5_row15_col14\" class=\"data row15 col14\" >0.448268</td>\n",
       "      <td id=\"T_c86f5_row15_col15\" class=\"data row15 col15\" >1.000000</td>\n",
       "      <td id=\"T_c86f5_row15_col16\" class=\"data row15 col16\" >0.471654</td>\n",
       "      <td id=\"T_c86f5_row15_col17\" class=\"data row15 col17\" >0.388344</td>\n",
       "      <td id=\"T_c86f5_row15_col18\" class=\"data row15 col18\" >0.397934</td>\n",
       "      <td id=\"T_c86f5_row15_col19\" class=\"data row15 col19\" >0.387575</td>\n",
       "    </tr>\n",
       "    <tr>\n",
       "      <th id=\"T_c86f5_level0_row16\" class=\"row_heading level0 row16\" >estimator 17</th>\n",
       "      <td id=\"T_c86f5_row16_col0\" class=\"data row16 col0\" >0.469627</td>\n",
       "      <td id=\"T_c86f5_row16_col1\" class=\"data row16 col1\" >0.538261</td>\n",
       "      <td id=\"T_c86f5_row16_col2\" class=\"data row16 col2\" >0.443229</td>\n",
       "      <td id=\"T_c86f5_row16_col3\" class=\"data row16 col3\" >0.476110</td>\n",
       "      <td id=\"T_c86f5_row16_col4\" class=\"data row16 col4\" >0.503192</td>\n",
       "      <td id=\"T_c86f5_row16_col5\" class=\"data row16 col5\" >0.539767</td>\n",
       "      <td id=\"T_c86f5_row16_col6\" class=\"data row16 col6\" >0.474809</td>\n",
       "      <td id=\"T_c86f5_row16_col7\" class=\"data row16 col7\" >0.457057</td>\n",
       "      <td id=\"T_c86f5_row16_col8\" class=\"data row16 col8\" >0.465440</td>\n",
       "      <td id=\"T_c86f5_row16_col9\" class=\"data row16 col9\" >0.506821</td>\n",
       "      <td id=\"T_c86f5_row16_col10\" class=\"data row16 col10\" >0.476136</td>\n",
       "      <td id=\"T_c86f5_row16_col11\" class=\"data row16 col11\" >0.471654</td>\n",
       "      <td id=\"T_c86f5_row16_col12\" class=\"data row16 col12\" >0.506889</td>\n",
       "      <td id=\"T_c86f5_row16_col13\" class=\"data row16 col13\" >0.527770</td>\n",
       "      <td id=\"T_c86f5_row16_col14\" class=\"data row16 col14\" >0.440296</td>\n",
       "      <td id=\"T_c86f5_row16_col15\" class=\"data row16 col15\" >0.471654</td>\n",
       "      <td id=\"T_c86f5_row16_col16\" class=\"data row16 col16\" >1.000000</td>\n",
       "      <td id=\"T_c86f5_row16_col17\" class=\"data row16 col17\" >0.470885</td>\n",
       "      <td id=\"T_c86f5_row16_col18\" class=\"data row16 col18\" >0.431403</td>\n",
       "      <td id=\"T_c86f5_row16_col19\" class=\"data row16 col19\" >0.407308</td>\n",
       "    </tr>\n",
       "    <tr>\n",
       "      <th id=\"T_c86f5_level0_row17\" class=\"row_heading level0 row17\" >estimator 18</th>\n",
       "      <td id=\"T_c86f5_row17_col0\" class=\"data row17 col0\" >0.463721</td>\n",
       "      <td id=\"T_c86f5_row17_col1\" class=\"data row17 col1\" >0.548230</td>\n",
       "      <td id=\"T_c86f5_row17_col2\" class=\"data row17 col2\" >0.452623</td>\n",
       "      <td id=\"T_c86f5_row17_col3\" class=\"data row17 col3\" >0.465778</td>\n",
       "      <td id=\"T_c86f5_row17_col4\" class=\"data row17 col4\" >0.492312</td>\n",
       "      <td id=\"T_c86f5_row17_col5\" class=\"data row17 col5\" >0.505124</td>\n",
       "      <td id=\"T_c86f5_row17_col6\" class=\"data row17 col6\" >0.464000</td>\n",
       "      <td id=\"T_c86f5_row17_col7\" class=\"data row17 col7\" >0.465732</td>\n",
       "      <td id=\"T_c86f5_row17_col8\" class=\"data row17 col8\" >0.417292</td>\n",
       "      <td id=\"T_c86f5_row17_col9\" class=\"data row17 col9\" >0.508726</td>\n",
       "      <td id=\"T_c86f5_row17_col10\" class=\"data row17 col10\" >0.506430</td>\n",
       "      <td id=\"T_c86f5_row17_col11\" class=\"data row17 col11\" >0.431398</td>\n",
       "      <td id=\"T_c86f5_row17_col12\" class=\"data row17 col12\" >0.473619</td>\n",
       "      <td id=\"T_c86f5_row17_col13\" class=\"data row17 col13\" >0.422326</td>\n",
       "      <td id=\"T_c86f5_row17_col14\" class=\"data row17 col14\" >0.481059</td>\n",
       "      <td id=\"T_c86f5_row17_col15\" class=\"data row17 col15\" >0.388344</td>\n",
       "      <td id=\"T_c86f5_row17_col16\" class=\"data row17 col16\" >0.470885</td>\n",
       "      <td id=\"T_c86f5_row17_col17\" class=\"data row17 col17\" >1.000000</td>\n",
       "      <td id=\"T_c86f5_row17_col18\" class=\"data row17 col18\" >0.461692</td>\n",
       "      <td id=\"T_c86f5_row17_col19\" class=\"data row17 col19\" >0.417038</td>\n",
       "    </tr>\n",
       "    <tr>\n",
       "      <th id=\"T_c86f5_level0_row18\" class=\"row_heading level0 row18\" >estimator 19</th>\n",
       "      <td id=\"T_c86f5_row18_col0\" class=\"data row18 col0\" >0.439192</td>\n",
       "      <td id=\"T_c86f5_row18_col1\" class=\"data row18 col1\" >0.471310</td>\n",
       "      <td id=\"T_c86f5_row18_col2\" class=\"data row18 col2\" >0.470199</td>\n",
       "      <td id=\"T_c86f5_row18_col3\" class=\"data row18 col3\" >0.408934</td>\n",
       "      <td id=\"T_c86f5_row18_col4\" class=\"data row18 col4\" >0.472667</td>\n",
       "      <td id=\"T_c86f5_row18_col5\" class=\"data row18 col5\" >0.480655</td>\n",
       "      <td id=\"T_c86f5_row18_col6\" class=\"data row18 col6\" >0.473561</td>\n",
       "      <td id=\"T_c86f5_row18_col7\" class=\"data row18 col7\" >0.476533</td>\n",
       "      <td id=\"T_c86f5_row18_col8\" class=\"data row18 col8\" >0.413702</td>\n",
       "      <td id=\"T_c86f5_row18_col9\" class=\"data row18 col9\" >0.461947</td>\n",
       "      <td id=\"T_c86f5_row18_col10\" class=\"data row18 col10\" >0.467167</td>\n",
       "      <td id=\"T_c86f5_row18_col11\" class=\"data row18 col11\" >0.397934</td>\n",
       "      <td id=\"T_c86f5_row18_col12\" class=\"data row18 col12\" >0.425709</td>\n",
       "      <td id=\"T_c86f5_row18_col13\" class=\"data row18 col13\" >0.460902</td>\n",
       "      <td id=\"T_c86f5_row18_col14\" class=\"data row18 col14\" >0.402647</td>\n",
       "      <td id=\"T_c86f5_row18_col15\" class=\"data row18 col15\" >0.397934</td>\n",
       "      <td id=\"T_c86f5_row18_col16\" class=\"data row18 col16\" >0.431403</td>\n",
       "      <td id=\"T_c86f5_row18_col17\" class=\"data row18 col17\" >0.461692</td>\n",
       "      <td id=\"T_c86f5_row18_col18\" class=\"data row18 col18\" >1.000000</td>\n",
       "      <td id=\"T_c86f5_row18_col19\" class=\"data row18 col19\" >0.369947</td>\n",
       "    </tr>\n",
       "    <tr>\n",
       "      <th id=\"T_c86f5_level0_row19\" class=\"row_heading level0 row19\" >estimator 20</th>\n",
       "      <td id=\"T_c86f5_row19_col0\" class=\"data row19 col0\" >0.408516</td>\n",
       "      <td id=\"T_c86f5_row19_col1\" class=\"data row19 col1\" >0.424474</td>\n",
       "      <td id=\"T_c86f5_row19_col2\" class=\"data row19 col2\" >0.395853</td>\n",
       "      <td id=\"T_c86f5_row19_col3\" class=\"data row19 col3\" >0.375660</td>\n",
       "      <td id=\"T_c86f5_row19_col4\" class=\"data row19 col4\" >0.439962</td>\n",
       "      <td id=\"T_c86f5_row19_col5\" class=\"data row19 col5\" >0.421418</td>\n",
       "      <td id=\"T_c86f5_row19_col6\" class=\"data row19 col6\" >0.375114</td>\n",
       "      <td id=\"T_c86f5_row19_col7\" class=\"data row19 col7\" >0.359941</td>\n",
       "      <td id=\"T_c86f5_row19_col8\" class=\"data row19 col8\" >0.361420</td>\n",
       "      <td id=\"T_c86f5_row19_col9\" class=\"data row19 col9\" >0.437757</td>\n",
       "      <td id=\"T_c86f5_row19_col10\" class=\"data row19 col10\" >0.392940</td>\n",
       "      <td id=\"T_c86f5_row19_col11\" class=\"data row19 col11\" >0.387575</td>\n",
       "      <td id=\"T_c86f5_row19_col12\" class=\"data row19 col12\" >0.400809</td>\n",
       "      <td id=\"T_c86f5_row19_col13\" class=\"data row19 col13\" >0.414130</td>\n",
       "      <td id=\"T_c86f5_row19_col14\" class=\"data row19 col14\" >0.369539</td>\n",
       "      <td id=\"T_c86f5_row19_col15\" class=\"data row19 col15\" >0.387575</td>\n",
       "      <td id=\"T_c86f5_row19_col16\" class=\"data row19 col16\" >0.407308</td>\n",
       "      <td id=\"T_c86f5_row19_col17\" class=\"data row19 col17\" >0.417038</td>\n",
       "      <td id=\"T_c86f5_row19_col18\" class=\"data row19 col18\" >0.369947</td>\n",
       "      <td id=\"T_c86f5_row19_col19\" class=\"data row19 col19\" >1.000000</td>\n",
       "    </tr>\n",
       "  </tbody>\n",
       "</table>\n"
      ],
      "text/plain": [
       "<pandas.io.formats.style.Styler at 0x1d2ec34df90>"
      ]
     },
     "execution_count": 584,
     "metadata": {},
     "output_type": "execute_result"
    }
   ],
   "source": [
    "get_correlation(X_testR, y_testR,model).style.background_gradient(cmap='coolwarm')"
   ]
  },
  {
   "cell_type": "code",
   "execution_count": 585,
   "id": "52d3928a-6a5d-47e1-96de-6716d6470bc3",
   "metadata": {
    "tags": []
   },
   "outputs": [
    {
     "data": {
      "text/plain": [
       "dict_keys(['bootstrap', 'ccp_alpha', 'class_weight', 'criterion', 'max_depth', 'max_features', 'max_leaf_nodes', 'max_samples', 'min_impurity_decrease', 'min_samples_leaf', 'min_samples_split', 'min_weight_fraction_leaf', 'n_estimators', 'n_jobs', 'oob_score', 'random_state', 'verbose', 'warm_start'])"
      ]
     },
     "execution_count": 585,
     "metadata": {},
     "output_type": "execute_result"
    }
   ],
   "source": [
    "model.get_params().keys()"
   ]
  },
  {
   "cell_type": "code",
   "execution_count": 586,
   "id": "b92f87fe-7521-4103-ab19-2eb190d09c19",
   "metadata": {
    "tags": []
   },
   "outputs": [],
   "source": [
    "param_grid = {'n_estimators': [2*n+1 for n in range(20)],\n",
    "             'max_depth' : [2*n+1 for n in range(10) ],\n",
    "             'max_features':[\"auto\", \"sqrt\", \"log2\"]}"
   ]
  },
  {
   "cell_type": "code",
   "execution_count": 587,
   "id": "c947553d-df99-45bc-98b1-23221881950b",
   "metadata": {
    "tags": []
   },
   "outputs": [
    {
     "data": {
      "text/html": [
       "<style>#sk-container-id-10 {color: black;}#sk-container-id-10 pre{padding: 0;}#sk-container-id-10 div.sk-toggleable {background-color: white;}#sk-container-id-10 label.sk-toggleable__label {cursor: pointer;display: block;width: 100%;margin-bottom: 0;padding: 0.3em;box-sizing: border-box;text-align: center;}#sk-container-id-10 label.sk-toggleable__label-arrow:before {content: \"▸\";float: left;margin-right: 0.25em;color: #696969;}#sk-container-id-10 label.sk-toggleable__label-arrow:hover:before {color: black;}#sk-container-id-10 div.sk-estimator:hover label.sk-toggleable__label-arrow:before {color: black;}#sk-container-id-10 div.sk-toggleable__content {max-height: 0;max-width: 0;overflow: hidden;text-align: left;background-color: #f0f8ff;}#sk-container-id-10 div.sk-toggleable__content pre {margin: 0.2em;color: black;border-radius: 0.25em;background-color: #f0f8ff;}#sk-container-id-10 input.sk-toggleable__control:checked~div.sk-toggleable__content {max-height: 200px;max-width: 100%;overflow: auto;}#sk-container-id-10 input.sk-toggleable__control:checked~label.sk-toggleable__label-arrow:before {content: \"▾\";}#sk-container-id-10 div.sk-estimator input.sk-toggleable__control:checked~label.sk-toggleable__label {background-color: #d4ebff;}#sk-container-id-10 div.sk-label input.sk-toggleable__control:checked~label.sk-toggleable__label {background-color: #d4ebff;}#sk-container-id-10 input.sk-hidden--visually {border: 0;clip: rect(1px 1px 1px 1px);clip: rect(1px, 1px, 1px, 1px);height: 1px;margin: -1px;overflow: hidden;padding: 0;position: absolute;width: 1px;}#sk-container-id-10 div.sk-estimator {font-family: monospace;background-color: #f0f8ff;border: 1px dotted black;border-radius: 0.25em;box-sizing: border-box;margin-bottom: 0.5em;}#sk-container-id-10 div.sk-estimator:hover {background-color: #d4ebff;}#sk-container-id-10 div.sk-parallel-item::after {content: \"\";width: 100%;border-bottom: 1px solid gray;flex-grow: 1;}#sk-container-id-10 div.sk-label:hover label.sk-toggleable__label {background-color: #d4ebff;}#sk-container-id-10 div.sk-serial::before {content: \"\";position: absolute;border-left: 1px solid gray;box-sizing: border-box;top: 0;bottom: 0;left: 50%;z-index: 0;}#sk-container-id-10 div.sk-serial {display: flex;flex-direction: column;align-items: center;background-color: white;padding-right: 0.2em;padding-left: 0.2em;position: relative;}#sk-container-id-10 div.sk-item {position: relative;z-index: 1;}#sk-container-id-10 div.sk-parallel {display: flex;align-items: stretch;justify-content: center;background-color: white;position: relative;}#sk-container-id-10 div.sk-item::before, #sk-container-id-10 div.sk-parallel-item::before {content: \"\";position: absolute;border-left: 1px solid gray;box-sizing: border-box;top: 0;bottom: 0;left: 50%;z-index: -1;}#sk-container-id-10 div.sk-parallel-item {display: flex;flex-direction: column;z-index: 1;position: relative;background-color: white;}#sk-container-id-10 div.sk-parallel-item:first-child::after {align-self: flex-end;width: 50%;}#sk-container-id-10 div.sk-parallel-item:last-child::after {align-self: flex-start;width: 50%;}#sk-container-id-10 div.sk-parallel-item:only-child::after {width: 0;}#sk-container-id-10 div.sk-dashed-wrapped {border: 1px dashed gray;margin: 0 0.4em 0.5em 0.4em;box-sizing: border-box;padding-bottom: 0.4em;background-color: white;}#sk-container-id-10 div.sk-label label {font-family: monospace;font-weight: bold;display: inline-block;line-height: 1.2em;}#sk-container-id-10 div.sk-label-container {text-align: center;}#sk-container-id-10 div.sk-container {/* jupyter's `normalize.less` sets `[hidden] { display: none; }` but bootstrap.min.css set `[hidden] { display: none !important; }` so we also need the `!important` here to be able to override the default hidden behavior on the sphinx rendered scikit-learn.org. See: https://github.com/scikit-learn/scikit-learn/issues/21755 */display: inline-block !important;position: relative;}#sk-container-id-10 div.sk-text-repr-fallback {display: none;}</style><div id=\"sk-container-id-10\" class=\"sk-top-container\"><div class=\"sk-text-repr-fallback\"><pre>GridSearchCV(estimator=RandomForestClassifier(max_features=3, n_estimators=20,\n",
       "                                              random_state=0),\n",
       "             param_grid={&#x27;max_depth&#x27;: [1, 3, 5, 7, 9, 11, 13, 15, 17, 19],\n",
       "                         &#x27;max_features&#x27;: [&#x27;auto&#x27;, &#x27;sqrt&#x27;, &#x27;log2&#x27;],\n",
       "                         &#x27;n_estimators&#x27;: [1, 3, 5, 7, 9, 11, 13, 15, 17, 19, 21,\n",
       "                                          23, 25, 27, 29, 31, 33, 35, 37, 39]},\n",
       "             scoring=&#x27;accuracy&#x27;)</pre><b>In a Jupyter environment, please rerun this cell to show the HTML representation or trust the notebook. <br />On GitHub, the HTML representation is unable to render, please try loading this page with nbviewer.org.</b></div><div class=\"sk-container\" hidden><div class=\"sk-item sk-dashed-wrapped\"><div class=\"sk-label-container\"><div class=\"sk-label sk-toggleable\"><input class=\"sk-toggleable__control sk-hidden--visually\" id=\"sk-estimator-id-16\" type=\"checkbox\" ><label for=\"sk-estimator-id-16\" class=\"sk-toggleable__label sk-toggleable__label-arrow\">GridSearchCV</label><div class=\"sk-toggleable__content\"><pre>GridSearchCV(estimator=RandomForestClassifier(max_features=3, n_estimators=20,\n",
       "                                              random_state=0),\n",
       "             param_grid={&#x27;max_depth&#x27;: [1, 3, 5, 7, 9, 11, 13, 15, 17, 19],\n",
       "                         &#x27;max_features&#x27;: [&#x27;auto&#x27;, &#x27;sqrt&#x27;, &#x27;log2&#x27;],\n",
       "                         &#x27;n_estimators&#x27;: [1, 3, 5, 7, 9, 11, 13, 15, 17, 19, 21,\n",
       "                                          23, 25, 27, 29, 31, 33, 35, 37, 39]},\n",
       "             scoring=&#x27;accuracy&#x27;)</pre></div></div></div><div class=\"sk-parallel\"><div class=\"sk-parallel-item\"><div class=\"sk-item\"><div class=\"sk-label-container\"><div class=\"sk-label sk-toggleable\"><input class=\"sk-toggleable__control sk-hidden--visually\" id=\"sk-estimator-id-17\" type=\"checkbox\" ><label for=\"sk-estimator-id-17\" class=\"sk-toggleable__label sk-toggleable__label-arrow\">estimator: RandomForestClassifier</label><div class=\"sk-toggleable__content\"><pre>RandomForestClassifier(max_features=3, n_estimators=20, random_state=0)</pre></div></div></div><div class=\"sk-serial\"><div class=\"sk-item\"><div class=\"sk-estimator sk-toggleable\"><input class=\"sk-toggleable__control sk-hidden--visually\" id=\"sk-estimator-id-18\" type=\"checkbox\" ><label for=\"sk-estimator-id-18\" class=\"sk-toggleable__label sk-toggleable__label-arrow\">RandomForestClassifier</label><div class=\"sk-toggleable__content\"><pre>RandomForestClassifier(max_features=3, n_estimators=20, random_state=0)</pre></div></div></div></div></div></div></div></div></div></div>"
      ],
      "text/plain": [
       "GridSearchCV(estimator=RandomForestClassifier(max_features=3, n_estimators=20,\n",
       "                                              random_state=0),\n",
       "             param_grid={'max_depth': [1, 3, 5, 7, 9, 11, 13, 15, 17, 19],\n",
       "                         'max_features': ['auto', 'sqrt', 'log2'],\n",
       "                         'n_estimators': [1, 3, 5, 7, 9, 11, 13, 15, 17, 19, 21,\n",
       "                                          23, 25, 27, 29, 31, 33, 35, 37, 39]},\n",
       "             scoring='accuracy')"
      ]
     },
     "execution_count": 587,
     "metadata": {},
     "output_type": "execute_result"
    }
   ],
   "source": [
    "search = GridSearchCV(estimator=model, param_grid=param_grid,scoring='accuracy')\n",
    "search.fit(X_trainR, y_trainR)"
   ]
  },
  {
   "cell_type": "code",
   "execution_count": 588,
   "id": "daa5fe83-57f1-48d7-9e86-bbf5ad93db29",
   "metadata": {
    "tags": []
   },
   "outputs": [
    {
     "data": {
      "text/plain": [
       "0.8808943089430894"
      ]
     },
     "execution_count": 588,
     "metadata": {},
     "output_type": "execute_result"
    }
   ],
   "source": [
    "search.best_score_"
   ]
  },
  {
   "cell_type": "code",
   "execution_count": 589,
   "id": "a47f8534-0901-470c-b2aa-4340d3d4cb5b",
   "metadata": {
    "tags": []
   },
   "outputs": [
    {
     "data": {
      "text/plain": [
       "{'max_depth': 15, 'max_features': 'sqrt', 'n_estimators': 37}"
      ]
     },
     "execution_count": 589,
     "metadata": {},
     "output_type": "execute_result"
    }
   ],
   "source": [
    "search.best_params_"
   ]
  },
  {
   "cell_type": "code",
   "execution_count": 590,
   "id": "208d6f50-49de-44f7-8a59-07ce18117648",
   "metadata": {
    "tags": []
   },
   "outputs": [
    {
     "name": "stdout",
     "output_type": "stream",
     "text": [
      "{'test Accuracy': 0.8798701298701299, 'train Accuracy': 0.9869918699186991}\n"
     ]
    }
   ],
   "source": [
    "print(get_accuracy(X_trainR, X_testR, y_trainR, y_testR, search.best_estimator_))"
   ]
  },
  {
   "cell_type": "code",
   "execution_count": null,
   "id": "81ede022-851b-4a88-b626-0fb001252fa1",
   "metadata": {},
   "outputs": [],
   "source": []
  }
 ],
 "metadata": {
  "kernelspec": {
   "display_name": "Python 3 (ipykernel)",
   "language": "python",
   "name": "python3"
  },
  "language_info": {
   "codemirror_mode": {
    "name": "ipython",
    "version": 3
   },
   "file_extension": ".py",
   "mimetype": "text/x-python",
   "name": "python",
   "nbconvert_exporter": "python",
   "pygments_lexer": "ipython3",
   "version": "3.11.5"
  }
 },
 "nbformat": 4,
 "nbformat_minor": 5
}
