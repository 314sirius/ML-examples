{
 "cells": [
  {
   "cell_type": "code",
   "execution_count": 1,
   "id": "2ee78052-4049-4fdf-89b3-5618766692a5",
   "metadata": {},
   "outputs": [],
   "source": [
    "def warn(*args, **kwargs):\n",
    "    pass\n",
    "import warnings\n",
    "warnings.warn = warn\n",
    "warnings.filterwarnings('ignore')\n",
    "\n",
    "import numpy as np\n",
    "import pandas as pd\n",
    "import matplotlib.pyplot as plt\n",
    "import seaborn as sns\n",
    "\n",
    "from sklearn.preprocessing import OneHotEncoder, LabelEncoder, MinMaxScaler\n",
    "from sklearn.model_selection import train_test_split, learning_curve\n",
    "from sklearn.linear_model import LogisticRegression\n",
    "from sklearn import metrics\n",
    "from sklearn.metrics import classification_report, accuracy_score, confusion_matrix, ConfusionMatrixDisplay, precision_recall_fscore_support, precision_score, recall_score, f1_score\n",
    "\n",
    "%matplotlib inline"
   ]
  },
  {
   "cell_type": "markdown",
   "id": "fcb51643-a5ec-4cc3-a874-eb76bfdc24df",
   "metadata": {},
   "source": [
    "## Load the dataset"
   ]
  },
  {
   "cell_type": "code",
   "execution_count": 2,
   "id": "470a310a-f84b-4762-a891-4246b71cb120",
   "metadata": {},
   "outputs": [],
   "source": [
    "df = pd.read_csv(\"Exoplanets_2024.06.09_05.32.23.csv\", delimiter=',', skiprows=35)"
   ]
  },
  {
   "cell_type": "code",
   "execution_count": 3,
   "id": "866c3a69-9aea-4338-b535-f8d057b25679",
   "metadata": {
    "tags": []
   },
   "outputs": [
    {
     "data": {
      "text/html": [
       "<div>\n",
       "<style scoped>\n",
       "    .dataframe tbody tr th:only-of-type {\n",
       "        vertical-align: middle;\n",
       "    }\n",
       "\n",
       "    .dataframe tbody tr th {\n",
       "        vertical-align: top;\n",
       "    }\n",
       "\n",
       "    .dataframe thead th {\n",
       "        text-align: right;\n",
       "    }\n",
       "</style>\n",
       "<table border=\"1\" class=\"dataframe\">\n",
       "  <thead>\n",
       "    <tr style=\"text-align: right;\">\n",
       "      <th></th>\n",
       "      <th>kepid</th>\n",
       "      <th>kepoi_name</th>\n",
       "      <th>kepler_name</th>\n",
       "      <th>koi_disposition</th>\n",
       "      <th>koi_pdisposition</th>\n",
       "      <th>koi_score</th>\n",
       "      <th>koi_fpflag_nt</th>\n",
       "      <th>koi_fpflag_ss</th>\n",
       "      <th>koi_fpflag_co</th>\n",
       "      <th>koi_fpflag_ec</th>\n",
       "      <th>...</th>\n",
       "      <th>koi_insol</th>\n",
       "      <th>koi_model_snr</th>\n",
       "      <th>koi_tce_plnt_num</th>\n",
       "      <th>koi_tce_delivname</th>\n",
       "      <th>koi_steff</th>\n",
       "      <th>koi_slogg</th>\n",
       "      <th>koi_srad</th>\n",
       "      <th>ra</th>\n",
       "      <th>dec</th>\n",
       "      <th>koi_kepmag</th>\n",
       "    </tr>\n",
       "  </thead>\n",
       "  <tbody>\n",
       "    <tr>\n",
       "      <th>0</th>\n",
       "      <td>10848459</td>\n",
       "      <td>K00754.01</td>\n",
       "      <td>NaN</td>\n",
       "      <td>FALSE POSITIVE</td>\n",
       "      <td>FALSE POSITIVE</td>\n",
       "      <td>0.0</td>\n",
       "      <td>0</td>\n",
       "      <td>1</td>\n",
       "      <td>0</td>\n",
       "      <td>0</td>\n",
       "      <td>...</td>\n",
       "      <td>891.96</td>\n",
       "      <td>505.6</td>\n",
       "      <td>1.0</td>\n",
       "      <td>q1_q17_dr25_tce</td>\n",
       "      <td>5805.0</td>\n",
       "      <td>4.564</td>\n",
       "      <td>0.791</td>\n",
       "      <td>285.53461</td>\n",
       "      <td>48.285210</td>\n",
       "      <td>15.597</td>\n",
       "    </tr>\n",
       "    <tr>\n",
       "      <th>1</th>\n",
       "      <td>6721123</td>\n",
       "      <td>K00114.01</td>\n",
       "      <td>NaN</td>\n",
       "      <td>FALSE POSITIVE</td>\n",
       "      <td>FALSE POSITIVE</td>\n",
       "      <td>0.0</td>\n",
       "      <td>0</td>\n",
       "      <td>1</td>\n",
       "      <td>1</td>\n",
       "      <td>0</td>\n",
       "      <td>...</td>\n",
       "      <td>767.22</td>\n",
       "      <td>47.7</td>\n",
       "      <td>1.0</td>\n",
       "      <td>q1_q17_dr25_tce</td>\n",
       "      <td>6227.0</td>\n",
       "      <td>3.986</td>\n",
       "      <td>1.958</td>\n",
       "      <td>298.86435</td>\n",
       "      <td>42.151569</td>\n",
       "      <td>12.660</td>\n",
       "    </tr>\n",
       "    <tr>\n",
       "      <th>2</th>\n",
       "      <td>10419211</td>\n",
       "      <td>K00742.01</td>\n",
       "      <td>NaN</td>\n",
       "      <td>FALSE POSITIVE</td>\n",
       "      <td>FALSE POSITIVE</td>\n",
       "      <td>0.0</td>\n",
       "      <td>0</td>\n",
       "      <td>1</td>\n",
       "      <td>0</td>\n",
       "      <td>0</td>\n",
       "      <td>...</td>\n",
       "      <td>75.88</td>\n",
       "      <td>622.1</td>\n",
       "      <td>1.0</td>\n",
       "      <td>q1_q17_dr25_tce</td>\n",
       "      <td>5795.0</td>\n",
       "      <td>4.554</td>\n",
       "      <td>0.848</td>\n",
       "      <td>297.07993</td>\n",
       "      <td>47.597401</td>\n",
       "      <td>15.472</td>\n",
       "    </tr>\n",
       "    <tr>\n",
       "      <th>3</th>\n",
       "      <td>10464078</td>\n",
       "      <td>K00743.01</td>\n",
       "      <td>NaN</td>\n",
       "      <td>FALSE POSITIVE</td>\n",
       "      <td>FALSE POSITIVE</td>\n",
       "      <td>0.0</td>\n",
       "      <td>0</td>\n",
       "      <td>1</td>\n",
       "      <td>0</td>\n",
       "      <td>0</td>\n",
       "      <td>...</td>\n",
       "      <td>17.69</td>\n",
       "      <td>214.7</td>\n",
       "      <td>1.0</td>\n",
       "      <td>q1_q17_dr25_tce</td>\n",
       "      <td>5043.0</td>\n",
       "      <td>4.591</td>\n",
       "      <td>0.680</td>\n",
       "      <td>289.25821</td>\n",
       "      <td>47.635319</td>\n",
       "      <td>15.487</td>\n",
       "    </tr>\n",
       "    <tr>\n",
       "      <th>4</th>\n",
       "      <td>10480982</td>\n",
       "      <td>K00744.01</td>\n",
       "      <td>NaN</td>\n",
       "      <td>FALSE POSITIVE</td>\n",
       "      <td>FALSE POSITIVE</td>\n",
       "      <td>0.0</td>\n",
       "      <td>0</td>\n",
       "      <td>1</td>\n",
       "      <td>0</td>\n",
       "      <td>0</td>\n",
       "      <td>...</td>\n",
       "      <td>55.97</td>\n",
       "      <td>2317.0</td>\n",
       "      <td>1.0</td>\n",
       "      <td>q1_q17_dr25_tce</td>\n",
       "      <td>6117.0</td>\n",
       "      <td>4.496</td>\n",
       "      <td>0.947</td>\n",
       "      <td>295.81454</td>\n",
       "      <td>47.690350</td>\n",
       "      <td>15.341</td>\n",
       "    </tr>\n",
       "  </tbody>\n",
       "</table>\n",
       "<p>5 rows × 27 columns</p>\n",
       "</div>"
      ],
      "text/plain": [
       "      kepid kepoi_name kepler_name koi_disposition koi_pdisposition  \\\n",
       "0  10848459  K00754.01         NaN  FALSE POSITIVE   FALSE POSITIVE   \n",
       "1   6721123  K00114.01         NaN  FALSE POSITIVE   FALSE POSITIVE   \n",
       "2  10419211  K00742.01         NaN  FALSE POSITIVE   FALSE POSITIVE   \n",
       "3  10464078  K00743.01         NaN  FALSE POSITIVE   FALSE POSITIVE   \n",
       "4  10480982  K00744.01         NaN  FALSE POSITIVE   FALSE POSITIVE   \n",
       "\n",
       "   koi_score  koi_fpflag_nt  koi_fpflag_ss  koi_fpflag_co  koi_fpflag_ec  ...  \\\n",
       "0        0.0              0              1              0              0  ...   \n",
       "1        0.0              0              1              1              0  ...   \n",
       "2        0.0              0              1              0              0  ...   \n",
       "3        0.0              0              1              0              0  ...   \n",
       "4        0.0              0              1              0              0  ...   \n",
       "\n",
       "   koi_insol  koi_model_snr  koi_tce_plnt_num  koi_tce_delivname  koi_steff  \\\n",
       "0     891.96          505.6               1.0    q1_q17_dr25_tce     5805.0   \n",
       "1     767.22           47.7               1.0    q1_q17_dr25_tce     6227.0   \n",
       "2      75.88          622.1               1.0    q1_q17_dr25_tce     5795.0   \n",
       "3      17.69          214.7               1.0    q1_q17_dr25_tce     5043.0   \n",
       "4      55.97         2317.0               1.0    q1_q17_dr25_tce     6117.0   \n",
       "\n",
       "   koi_slogg  koi_srad         ra        dec  koi_kepmag  \n",
       "0      4.564     0.791  285.53461  48.285210      15.597  \n",
       "1      3.986     1.958  298.86435  42.151569      12.660  \n",
       "2      4.554     0.848  297.07993  47.597401      15.472  \n",
       "3      4.591     0.680  289.25821  47.635319      15.487  \n",
       "4      4.496     0.947  295.81454  47.690350      15.341  \n",
       "\n",
       "[5 rows x 27 columns]"
      ]
     },
     "execution_count": 3,
     "metadata": {},
     "output_type": "execute_result"
    }
   ],
   "source": [
    "df.head()"
   ]
  },
  {
   "cell_type": "code",
   "execution_count": 4,
   "id": "645913af-6ec8-4fec-b0fa-f18b14151ba0",
   "metadata": {
    "tags": []
   },
   "outputs": [
    {
     "data": {
      "text/plain": [
       "koi_tce_plnt_num\n",
       "1.0    7745\n",
       "2.0     972\n",
       "3.0     326\n",
       "4.0     111\n",
       "5.0      41\n",
       "6.0      14\n",
       "7.0       8\n",
       "8.0       1\n",
       "Name: count, dtype: int64"
      ]
     },
     "execution_count": 4,
     "metadata": {},
     "output_type": "execute_result"
    }
   ],
   "source": [
    "df['koi_tce_plnt_num'].value_counts()"
   ]
  },
  {
   "cell_type": "code",
   "execution_count": 5,
   "id": "ef885368-36a1-4251-b28b-3f0a8b57eb6c",
   "metadata": {
    "tags": []
   },
   "outputs": [
    {
     "data": {
      "text/plain": [
       "koi_tce_delivname\n",
       "q1_q17_dr25_tce    8054\n",
       "q1_q16_tce          796\n",
       "q1_q17_dr24_tce     368\n",
       "Name: count, dtype: int64"
      ]
     },
     "execution_count": 5,
     "metadata": {},
     "output_type": "execute_result"
    }
   ],
   "source": [
    "df['koi_tce_delivname'].value_counts()"
   ]
  },
  {
   "cell_type": "code",
   "execution_count": 6,
   "id": "5ff76fc6-e614-4e3a-b6f0-9f220b01f734",
   "metadata": {
    "tags": []
   },
   "outputs": [
    {
     "data": {
      "text/plain": [
       "(9564, 27)"
      ]
     },
     "execution_count": 6,
     "metadata": {},
     "output_type": "execute_result"
    }
   ],
   "source": [
    "df.shape"
   ]
  },
  {
   "cell_type": "code",
   "execution_count": 7,
   "id": "82354d6c-465d-4d40-89a4-2454591f5c46",
   "metadata": {
    "tags": []
   },
   "outputs": [
    {
     "data": {
      "text/plain": [
       "koi_disposition\n",
       "FALSE POSITIVE    4839\n",
       "CONFIRMED         2743\n",
       "CANDIDATE         1982\n",
       "Name: count, dtype: int64"
      ]
     },
     "execution_count": 7,
     "metadata": {},
     "output_type": "execute_result"
    }
   ],
   "source": [
    "#Column that will be treated as label for classification models.\n",
    "df.koi_disposition.value_counts()"
   ]
  },
  {
   "cell_type": "code",
   "execution_count": 8,
   "id": "f1f47d31-27ca-4ade-826e-f9f248714ee5",
   "metadata": {
    "tags": []
   },
   "outputs": [],
   "source": [
    "#objects with the known labels: confirmed as an exoplanet or false positive (not an exoplanet).\n",
    "df_known_raw=df[df['koi_disposition']!='CANDIDATE']"
   ]
  },
  {
   "cell_type": "code",
   "execution_count": 9,
   "id": "ed9d7543-9a3d-4f3a-abd8-6d255258608b",
   "metadata": {
    "tags": []
   },
   "outputs": [],
   "source": [
    "#objects that are need to be defined\n",
    "df_unknown_raw=df[df['koi_disposition'] =='CANDIDATE']"
   ]
  },
  {
   "cell_type": "code",
   "execution_count": 10,
   "id": "5d00801f-896a-4fa8-9410-7cfb9032de9f",
   "metadata": {
    "tags": []
   },
   "outputs": [
    {
     "data": {
      "text/plain": [
       "koi_disposition\n",
       "FALSE POSITIVE    4839\n",
       "CONFIRMED         2743\n",
       "Name: count, dtype: int64"
      ]
     },
     "execution_count": 10,
     "metadata": {},
     "output_type": "execute_result"
    }
   ],
   "source": [
    "df_known_raw.koi_disposition.value_counts()"
   ]
  },
  {
   "cell_type": "code",
   "execution_count": 11,
   "id": "bd54c49b-7b09-42aa-8890-2338e80cf1b7",
   "metadata": {
    "tags": []
   },
   "outputs": [
    {
     "data": {
      "text/plain": [
       "kepid                  int64\n",
       "kepoi_name            object\n",
       "kepler_name           object\n",
       "koi_disposition       object\n",
       "koi_pdisposition      object\n",
       "koi_score            float64\n",
       "koi_fpflag_nt          int64\n",
       "koi_fpflag_ss          int64\n",
       "koi_fpflag_co          int64\n",
       "koi_fpflag_ec          int64\n",
       "koi_period           float64\n",
       "koi_time0bk          float64\n",
       "koi_impact           float64\n",
       "koi_duration         float64\n",
       "koi_depth            float64\n",
       "koi_prad             float64\n",
       "koi_teq              float64\n",
       "koi_insol            float64\n",
       "koi_model_snr        float64\n",
       "koi_tce_plnt_num     float64\n",
       "koi_tce_delivname     object\n",
       "koi_steff            float64\n",
       "koi_slogg            float64\n",
       "koi_srad             float64\n",
       "ra                   float64\n",
       "dec                  float64\n",
       "koi_kepmag           float64\n",
       "dtype: object"
      ]
     },
     "execution_count": 11,
     "metadata": {},
     "output_type": "execute_result"
    }
   ],
   "source": [
    "df_known_raw.dtypes"
   ]
  },
  {
   "cell_type": "code",
   "execution_count": null,
   "id": "b396890f-dc0a-40a6-bff4-04ddb8486d59",
   "metadata": {},
   "outputs": [],
   "source": []
  },
  {
   "cell_type": "code",
   "execution_count": 12,
   "id": "f5941761-a263-4bf1-9209-33c9059b3d99",
   "metadata": {
    "tags": []
   },
   "outputs": [],
   "source": [
    "#remove unnecessary columns: kepid, kepo\n",
    "#flags=df_known.filter(regex=r'koi_fpflag').columns"
   ]
  },
  {
   "cell_type": "code",
   "execution_count": 13,
   "id": "984a8f3a-9d80-493a-8f1f-c3346a192247",
   "metadata": {
    "tags": []
   },
   "outputs": [],
   "source": [
    "df_known_raw['label']=df_known_raw['koi_disposition']"
   ]
  },
  {
   "cell_type": "code",
   "execution_count": 14,
   "id": "dbe5a052-75bc-40ba-93e8-6ba831405526",
   "metadata": {
    "tags": []
   },
   "outputs": [],
   "source": [
    "# not an exoplanet = 0, exoplanet = 1\n",
    "df_known_raw['label'] = df_known_raw.label.replace('FALSE POSITIVE',0).replace('CONFIRMED',1).astype(int)"
   ]
  },
  {
   "cell_type": "code",
   "execution_count": 15,
   "id": "372f2b55-b52f-4f05-bc52-686e3005cf0e",
   "metadata": {
    "tags": []
   },
   "outputs": [],
   "source": [
    "df_known=df_known_raw.iloc[:, 10:].copy()"
   ]
  },
  {
   "cell_type": "code",
   "execution_count": 16,
   "id": "44dfe66d-953f-4e1e-969d-43b213e063b0",
   "metadata": {
    "tags": []
   },
   "outputs": [],
   "source": [
    "df_unknown=df_unknown_raw.iloc[:, 10:].copy()"
   ]
  },
  {
   "cell_type": "code",
   "execution_count": 17,
   "id": "7656985a-5662-4ba4-ad93-471937e9ab2e",
   "metadata": {
    "tags": []
   },
   "outputs": [
    {
     "data": {
      "text/html": [
       "<div>\n",
       "<style scoped>\n",
       "    .dataframe tbody tr th:only-of-type {\n",
       "        vertical-align: middle;\n",
       "    }\n",
       "\n",
       "    .dataframe tbody tr th {\n",
       "        vertical-align: top;\n",
       "    }\n",
       "\n",
       "    .dataframe thead th {\n",
       "        text-align: right;\n",
       "    }\n",
       "</style>\n",
       "<table border=\"1\" class=\"dataframe\">\n",
       "  <thead>\n",
       "    <tr style=\"text-align: right;\">\n",
       "      <th></th>\n",
       "      <th>koi_period</th>\n",
       "      <th>koi_time0bk</th>\n",
       "      <th>koi_impact</th>\n",
       "      <th>koi_duration</th>\n",
       "      <th>koi_depth</th>\n",
       "      <th>koi_prad</th>\n",
       "      <th>koi_teq</th>\n",
       "      <th>koi_insol</th>\n",
       "      <th>koi_model_snr</th>\n",
       "      <th>koi_tce_plnt_num</th>\n",
       "      <th>koi_tce_delivname</th>\n",
       "      <th>koi_steff</th>\n",
       "      <th>koi_slogg</th>\n",
       "      <th>koi_srad</th>\n",
       "      <th>ra</th>\n",
       "      <th>dec</th>\n",
       "      <th>koi_kepmag</th>\n",
       "      <th>label</th>\n",
       "    </tr>\n",
       "  </thead>\n",
       "  <tbody>\n",
       "    <tr>\n",
       "      <th>0</th>\n",
       "      <td>1.736952</td>\n",
       "      <td>170.307565</td>\n",
       "      <td>1.276</td>\n",
       "      <td>2.40641</td>\n",
       "      <td>8079.2</td>\n",
       "      <td>33.46</td>\n",
       "      <td>1395.0</td>\n",
       "      <td>891.96</td>\n",
       "      <td>505.6</td>\n",
       "      <td>1.0</td>\n",
       "      <td>q1_q17_dr25_tce</td>\n",
       "      <td>5805.0</td>\n",
       "      <td>4.564</td>\n",
       "      <td>0.791</td>\n",
       "      <td>285.53461</td>\n",
       "      <td>48.285210</td>\n",
       "      <td>15.597</td>\n",
       "      <td>0</td>\n",
       "    </tr>\n",
       "    <tr>\n",
       "      <th>1</th>\n",
       "      <td>7.361790</td>\n",
       "      <td>132.250530</td>\n",
       "      <td>1.169</td>\n",
       "      <td>5.02200</td>\n",
       "      <td>233.7</td>\n",
       "      <td>39.21</td>\n",
       "      <td>1342.0</td>\n",
       "      <td>767.22</td>\n",
       "      <td>47.7</td>\n",
       "      <td>1.0</td>\n",
       "      <td>q1_q17_dr25_tce</td>\n",
       "      <td>6227.0</td>\n",
       "      <td>3.986</td>\n",
       "      <td>1.958</td>\n",
       "      <td>298.86435</td>\n",
       "      <td>42.151569</td>\n",
       "      <td>12.660</td>\n",
       "      <td>0</td>\n",
       "    </tr>\n",
       "    <tr>\n",
       "      <th>2</th>\n",
       "      <td>11.521446</td>\n",
       "      <td>170.839688</td>\n",
       "      <td>2.483</td>\n",
       "      <td>3.63990</td>\n",
       "      <td>17984.0</td>\n",
       "      <td>150.51</td>\n",
       "      <td>753.0</td>\n",
       "      <td>75.88</td>\n",
       "      <td>622.1</td>\n",
       "      <td>1.0</td>\n",
       "      <td>q1_q17_dr25_tce</td>\n",
       "      <td>5795.0</td>\n",
       "      <td>4.554</td>\n",
       "      <td>0.848</td>\n",
       "      <td>297.07993</td>\n",
       "      <td>47.597401</td>\n",
       "      <td>15.472</td>\n",
       "      <td>0</td>\n",
       "    </tr>\n",
       "    <tr>\n",
       "      <th>3</th>\n",
       "      <td>19.403938</td>\n",
       "      <td>172.484253</td>\n",
       "      <td>0.804</td>\n",
       "      <td>12.21550</td>\n",
       "      <td>8918.7</td>\n",
       "      <td>7.18</td>\n",
       "      <td>523.0</td>\n",
       "      <td>17.69</td>\n",
       "      <td>214.7</td>\n",
       "      <td>1.0</td>\n",
       "      <td>q1_q17_dr25_tce</td>\n",
       "      <td>5043.0</td>\n",
       "      <td>4.591</td>\n",
       "      <td>0.680</td>\n",
       "      <td>289.25821</td>\n",
       "      <td>47.635319</td>\n",
       "      <td>15.487</td>\n",
       "      <td>0</td>\n",
       "    </tr>\n",
       "    <tr>\n",
       "      <th>4</th>\n",
       "      <td>19.221389</td>\n",
       "      <td>184.552164</td>\n",
       "      <td>1.065</td>\n",
       "      <td>4.79843</td>\n",
       "      <td>74284.0</td>\n",
       "      <td>49.29</td>\n",
       "      <td>698.0</td>\n",
       "      <td>55.97</td>\n",
       "      <td>2317.0</td>\n",
       "      <td>1.0</td>\n",
       "      <td>q1_q17_dr25_tce</td>\n",
       "      <td>6117.0</td>\n",
       "      <td>4.496</td>\n",
       "      <td>0.947</td>\n",
       "      <td>295.81454</td>\n",
       "      <td>47.690350</td>\n",
       "      <td>15.341</td>\n",
       "      <td>0</td>\n",
       "    </tr>\n",
       "  </tbody>\n",
       "</table>\n",
       "</div>"
      ],
      "text/plain": [
       "   koi_period  koi_time0bk  koi_impact  koi_duration  koi_depth  koi_prad  \\\n",
       "0    1.736952   170.307565       1.276       2.40641     8079.2     33.46   \n",
       "1    7.361790   132.250530       1.169       5.02200      233.7     39.21   \n",
       "2   11.521446   170.839688       2.483       3.63990    17984.0    150.51   \n",
       "3   19.403938   172.484253       0.804      12.21550     8918.7      7.18   \n",
       "4   19.221389   184.552164       1.065       4.79843    74284.0     49.29   \n",
       "\n",
       "   koi_teq  koi_insol  koi_model_snr  koi_tce_plnt_num koi_tce_delivname  \\\n",
       "0   1395.0     891.96          505.6               1.0   q1_q17_dr25_tce   \n",
       "1   1342.0     767.22           47.7               1.0   q1_q17_dr25_tce   \n",
       "2    753.0      75.88          622.1               1.0   q1_q17_dr25_tce   \n",
       "3    523.0      17.69          214.7               1.0   q1_q17_dr25_tce   \n",
       "4    698.0      55.97         2317.0               1.0   q1_q17_dr25_tce   \n",
       "\n",
       "   koi_steff  koi_slogg  koi_srad         ra        dec  koi_kepmag  label  \n",
       "0     5805.0      4.564     0.791  285.53461  48.285210      15.597      0  \n",
       "1     6227.0      3.986     1.958  298.86435  42.151569      12.660      0  \n",
       "2     5795.0      4.554     0.848  297.07993  47.597401      15.472      0  \n",
       "3     5043.0      4.591     0.680  289.25821  47.635319      15.487      0  \n",
       "4     6117.0      4.496     0.947  295.81454  47.690350      15.341      0  "
      ]
     },
     "execution_count": 17,
     "metadata": {},
     "output_type": "execute_result"
    }
   ],
   "source": [
    "df_known.head()"
   ]
  },
  {
   "cell_type": "code",
   "execution_count": 18,
   "id": "c4da797a-53de-4f9f-9f98-8c9f37e07a4c",
   "metadata": {
    "tags": []
   },
   "outputs": [
    {
     "data": {
      "text/plain": [
       "3"
      ]
     },
     "execution_count": 18,
     "metadata": {},
     "output_type": "execute_result"
    }
   ],
   "source": [
    "df_known.koi_tce_delivname.nunique()"
   ]
  },
  {
   "cell_type": "markdown",
   "id": "0f19743e-a8d1-44d3-bdde-f806e67fb1a3",
   "metadata": {},
   "source": [
    "## Feature engineering"
   ]
  },
  {
   "cell_type": "code",
   "execution_count": 19,
   "id": "3dbf1f2d-d7ae-4d74-b13d-5e68a723204c",
   "metadata": {
    "tags": []
   },
   "outputs": [],
   "source": [
    "df_known=pd.get_dummies(df_known, columns=['koi_tce_delivname'], dtype=int)"
   ]
  },
  {
   "cell_type": "code",
   "execution_count": 20,
   "id": "5ad4766b-3258-4fdb-85f1-a0ee95d7b841",
   "metadata": {
    "tags": []
   },
   "outputs": [
    {
     "data": {
      "text/html": [
       "<div>\n",
       "<style scoped>\n",
       "    .dataframe tbody tr th:only-of-type {\n",
       "        vertical-align: middle;\n",
       "    }\n",
       "\n",
       "    .dataframe tbody tr th {\n",
       "        vertical-align: top;\n",
       "    }\n",
       "\n",
       "    .dataframe thead th {\n",
       "        text-align: right;\n",
       "    }\n",
       "</style>\n",
       "<table border=\"1\" class=\"dataframe\">\n",
       "  <thead>\n",
       "    <tr style=\"text-align: right;\">\n",
       "      <th></th>\n",
       "      <th>koi_period</th>\n",
       "      <th>koi_time0bk</th>\n",
       "      <th>koi_impact</th>\n",
       "      <th>koi_duration</th>\n",
       "      <th>koi_depth</th>\n",
       "      <th>koi_prad</th>\n",
       "      <th>koi_teq</th>\n",
       "      <th>koi_insol</th>\n",
       "      <th>koi_model_snr</th>\n",
       "      <th>koi_tce_plnt_num</th>\n",
       "      <th>koi_steff</th>\n",
       "      <th>koi_slogg</th>\n",
       "      <th>koi_srad</th>\n",
       "      <th>ra</th>\n",
       "      <th>dec</th>\n",
       "      <th>koi_kepmag</th>\n",
       "      <th>label</th>\n",
       "      <th>koi_tce_delivname_q1_q16_tce</th>\n",
       "      <th>koi_tce_delivname_q1_q17_dr24_tce</th>\n",
       "      <th>koi_tce_delivname_q1_q17_dr25_tce</th>\n",
       "    </tr>\n",
       "  </thead>\n",
       "  <tbody>\n",
       "    <tr>\n",
       "      <th>0</th>\n",
       "      <td>1.736952</td>\n",
       "      <td>170.307565</td>\n",
       "      <td>1.276</td>\n",
       "      <td>2.40641</td>\n",
       "      <td>8079.2</td>\n",
       "      <td>33.46</td>\n",
       "      <td>1395.0</td>\n",
       "      <td>891.96</td>\n",
       "      <td>505.6</td>\n",
       "      <td>1.0</td>\n",
       "      <td>5805.0</td>\n",
       "      <td>4.564</td>\n",
       "      <td>0.791</td>\n",
       "      <td>285.53461</td>\n",
       "      <td>48.285210</td>\n",
       "      <td>15.597</td>\n",
       "      <td>0</td>\n",
       "      <td>0</td>\n",
       "      <td>0</td>\n",
       "      <td>1</td>\n",
       "    </tr>\n",
       "    <tr>\n",
       "      <th>1</th>\n",
       "      <td>7.361790</td>\n",
       "      <td>132.250530</td>\n",
       "      <td>1.169</td>\n",
       "      <td>5.02200</td>\n",
       "      <td>233.7</td>\n",
       "      <td>39.21</td>\n",
       "      <td>1342.0</td>\n",
       "      <td>767.22</td>\n",
       "      <td>47.7</td>\n",
       "      <td>1.0</td>\n",
       "      <td>6227.0</td>\n",
       "      <td>3.986</td>\n",
       "      <td>1.958</td>\n",
       "      <td>298.86435</td>\n",
       "      <td>42.151569</td>\n",
       "      <td>12.660</td>\n",
       "      <td>0</td>\n",
       "      <td>0</td>\n",
       "      <td>0</td>\n",
       "      <td>1</td>\n",
       "    </tr>\n",
       "    <tr>\n",
       "      <th>2</th>\n",
       "      <td>11.521446</td>\n",
       "      <td>170.839688</td>\n",
       "      <td>2.483</td>\n",
       "      <td>3.63990</td>\n",
       "      <td>17984.0</td>\n",
       "      <td>150.51</td>\n",
       "      <td>753.0</td>\n",
       "      <td>75.88</td>\n",
       "      <td>622.1</td>\n",
       "      <td>1.0</td>\n",
       "      <td>5795.0</td>\n",
       "      <td>4.554</td>\n",
       "      <td>0.848</td>\n",
       "      <td>297.07993</td>\n",
       "      <td>47.597401</td>\n",
       "      <td>15.472</td>\n",
       "      <td>0</td>\n",
       "      <td>0</td>\n",
       "      <td>0</td>\n",
       "      <td>1</td>\n",
       "    </tr>\n",
       "    <tr>\n",
       "      <th>3</th>\n",
       "      <td>19.403938</td>\n",
       "      <td>172.484253</td>\n",
       "      <td>0.804</td>\n",
       "      <td>12.21550</td>\n",
       "      <td>8918.7</td>\n",
       "      <td>7.18</td>\n",
       "      <td>523.0</td>\n",
       "      <td>17.69</td>\n",
       "      <td>214.7</td>\n",
       "      <td>1.0</td>\n",
       "      <td>5043.0</td>\n",
       "      <td>4.591</td>\n",
       "      <td>0.680</td>\n",
       "      <td>289.25821</td>\n",
       "      <td>47.635319</td>\n",
       "      <td>15.487</td>\n",
       "      <td>0</td>\n",
       "      <td>0</td>\n",
       "      <td>0</td>\n",
       "      <td>1</td>\n",
       "    </tr>\n",
       "    <tr>\n",
       "      <th>4</th>\n",
       "      <td>19.221389</td>\n",
       "      <td>184.552164</td>\n",
       "      <td>1.065</td>\n",
       "      <td>4.79843</td>\n",
       "      <td>74284.0</td>\n",
       "      <td>49.29</td>\n",
       "      <td>698.0</td>\n",
       "      <td>55.97</td>\n",
       "      <td>2317.0</td>\n",
       "      <td>1.0</td>\n",
       "      <td>6117.0</td>\n",
       "      <td>4.496</td>\n",
       "      <td>0.947</td>\n",
       "      <td>295.81454</td>\n",
       "      <td>47.690350</td>\n",
       "      <td>15.341</td>\n",
       "      <td>0</td>\n",
       "      <td>0</td>\n",
       "      <td>0</td>\n",
       "      <td>1</td>\n",
       "    </tr>\n",
       "  </tbody>\n",
       "</table>\n",
       "</div>"
      ],
      "text/plain": [
       "   koi_period  koi_time0bk  koi_impact  koi_duration  koi_depth  koi_prad  \\\n",
       "0    1.736952   170.307565       1.276       2.40641     8079.2     33.46   \n",
       "1    7.361790   132.250530       1.169       5.02200      233.7     39.21   \n",
       "2   11.521446   170.839688       2.483       3.63990    17984.0    150.51   \n",
       "3   19.403938   172.484253       0.804      12.21550     8918.7      7.18   \n",
       "4   19.221389   184.552164       1.065       4.79843    74284.0     49.29   \n",
       "\n",
       "   koi_teq  koi_insol  koi_model_snr  koi_tce_plnt_num  koi_steff  koi_slogg  \\\n",
       "0   1395.0     891.96          505.6               1.0     5805.0      4.564   \n",
       "1   1342.0     767.22           47.7               1.0     6227.0      3.986   \n",
       "2    753.0      75.88          622.1               1.0     5795.0      4.554   \n",
       "3    523.0      17.69          214.7               1.0     5043.0      4.591   \n",
       "4    698.0      55.97         2317.0               1.0     6117.0      4.496   \n",
       "\n",
       "   koi_srad         ra        dec  koi_kepmag  label  \\\n",
       "0     0.791  285.53461  48.285210      15.597      0   \n",
       "1     1.958  298.86435  42.151569      12.660      0   \n",
       "2     0.848  297.07993  47.597401      15.472      0   \n",
       "3     0.680  289.25821  47.635319      15.487      0   \n",
       "4     0.947  295.81454  47.690350      15.341      0   \n",
       "\n",
       "   koi_tce_delivname_q1_q16_tce  koi_tce_delivname_q1_q17_dr24_tce  \\\n",
       "0                             0                                  0   \n",
       "1                             0                                  0   \n",
       "2                             0                                  0   \n",
       "3                             0                                  0   \n",
       "4                             0                                  0   \n",
       "\n",
       "   koi_tce_delivname_q1_q17_dr25_tce  \n",
       "0                                  1  \n",
       "1                                  1  \n",
       "2                                  1  \n",
       "3                                  1  \n",
       "4                                  1  "
      ]
     },
     "execution_count": 20,
     "metadata": {},
     "output_type": "execute_result"
    }
   ],
   "source": [
    "df_known.head()"
   ]
  },
  {
   "cell_type": "code",
   "execution_count": 21,
   "id": "e18dcf24-a8c0-4457-be21-b1b926dbd796",
   "metadata": {
    "tags": []
   },
   "outputs": [
    {
     "data": {
      "text/html": [
       "<div>\n",
       "<style scoped>\n",
       "    .dataframe tbody tr th:only-of-type {\n",
       "        vertical-align: middle;\n",
       "    }\n",
       "\n",
       "    .dataframe tbody tr th {\n",
       "        vertical-align: top;\n",
       "    }\n",
       "\n",
       "    .dataframe thead th {\n",
       "        text-align: right;\n",
       "    }\n",
       "</style>\n",
       "<table border=\"1\" class=\"dataframe\">\n",
       "  <thead>\n",
       "    <tr style=\"text-align: right;\">\n",
       "      <th></th>\n",
       "      <th>koi_period</th>\n",
       "      <th>koi_time0bk</th>\n",
       "      <th>koi_impact</th>\n",
       "      <th>koi_duration</th>\n",
       "      <th>koi_depth</th>\n",
       "      <th>koi_prad</th>\n",
       "      <th>koi_teq</th>\n",
       "      <th>koi_insol</th>\n",
       "      <th>koi_model_snr</th>\n",
       "      <th>koi_tce_plnt_num</th>\n",
       "      <th>koi_steff</th>\n",
       "      <th>koi_slogg</th>\n",
       "      <th>koi_srad</th>\n",
       "      <th>ra</th>\n",
       "      <th>dec</th>\n",
       "      <th>koi_kepmag</th>\n",
       "      <th>label</th>\n",
       "      <th>koi_tce_delivname_q1_q16_tce</th>\n",
       "      <th>koi_tce_delivname_q1_q17_dr24_tce</th>\n",
       "      <th>koi_tce_delivname_q1_q17_dr25_tce</th>\n",
       "    </tr>\n",
       "  </thead>\n",
       "  <tbody>\n",
       "    <tr>\n",
       "      <th>count</th>\n",
       "      <td>7582.000000</td>\n",
       "      <td>7582.000000</td>\n",
       "      <td>7323.000000</td>\n",
       "      <td>7582.000000</td>\n",
       "      <td>7.323000e+03</td>\n",
       "      <td>7323.000000</td>\n",
       "      <td>7323.000000</td>\n",
       "      <td>7.363000e+03</td>\n",
       "      <td>7323.000000</td>\n",
       "      <td>7296.000000</td>\n",
       "      <td>7323.000000</td>\n",
       "      <td>7323.00000</td>\n",
       "      <td>7323.000000</td>\n",
       "      <td>7582.000000</td>\n",
       "      <td>7582.000000</td>\n",
       "      <td>7581.000000</td>\n",
       "      <td>7582.000000</td>\n",
       "      <td>7582.000000</td>\n",
       "      <td>7582.000000</td>\n",
       "      <td>7582.000000</td>\n",
       "    </tr>\n",
       "    <tr>\n",
       "      <th>mean</th>\n",
       "      <td>51.615992</td>\n",
       "      <td>162.392800</td>\n",
       "      <td>0.756121</td>\n",
       "      <td>5.709884</td>\n",
       "      <td>2.954100e+04</td>\n",
       "      <td>104.209436</td>\n",
       "      <td>1154.584460</td>\n",
       "      <td>9.396025e+03</td>\n",
       "      <td>318.710638</td>\n",
       "      <td>1.223684</td>\n",
       "      <td>5715.811553</td>\n",
       "      <td>4.31090</td>\n",
       "      <td>1.752660</td>\n",
       "      <td>292.135109</td>\n",
       "      <td>43.735649</td>\n",
       "      <td>14.251791</td>\n",
       "      <td>0.361778</td>\n",
       "      <td>0.052097</td>\n",
       "      <td>0.030203</td>\n",
       "      <td>0.879979</td>\n",
       "    </tr>\n",
       "    <tr>\n",
       "      <th>std</th>\n",
       "      <td>111.813351</td>\n",
       "      <td>62.875558</td>\n",
       "      <td>3.197033</td>\n",
       "      <td>6.823641</td>\n",
       "      <td>9.118703e+04</td>\n",
       "      <td>3181.134374</td>\n",
       "      <td>900.694085</td>\n",
       "      <td>1.782218e+05</td>\n",
       "      <td>881.257900</td>\n",
       "      <td>0.631908</td>\n",
       "      <td>819.355228</td>\n",
       "      <td>0.43727</td>\n",
       "      <td>6.280473</td>\n",
       "      <td>4.767184</td>\n",
       "      <td>3.573604</td>\n",
       "      <td>1.401371</td>\n",
       "      <td>0.480547</td>\n",
       "      <td>0.222237</td>\n",
       "      <td>0.171157</td>\n",
       "      <td>0.325008</td>\n",
       "    </tr>\n",
       "    <tr>\n",
       "      <th>min</th>\n",
       "      <td>0.241843</td>\n",
       "      <td>120.515914</td>\n",
       "      <td>0.000000</td>\n",
       "      <td>0.104600</td>\n",
       "      <td>8.000000e-01</td>\n",
       "      <td>0.080000</td>\n",
       "      <td>92.000000</td>\n",
       "      <td>2.000000e-02</td>\n",
       "      <td>0.000000</td>\n",
       "      <td>1.000000</td>\n",
       "      <td>2661.000000</td>\n",
       "      <td>0.04700</td>\n",
       "      <td>0.116000</td>\n",
       "      <td>279.852720</td>\n",
       "      <td>36.577381</td>\n",
       "      <td>6.966000</td>\n",
       "      <td>0.000000</td>\n",
       "      <td>0.000000</td>\n",
       "      <td>0.000000</td>\n",
       "      <td>0.000000</td>\n",
       "    </tr>\n",
       "    <tr>\n",
       "      <th>25%</th>\n",
       "      <td>2.243023</td>\n",
       "      <td>132.553008</td>\n",
       "      <td>0.227000</td>\n",
       "      <td>2.472125</td>\n",
       "      <td>1.825500e+02</td>\n",
       "      <td>1.500000</td>\n",
       "      <td>581.000000</td>\n",
       "      <td>2.723000e+01</td>\n",
       "      <td>15.400000</td>\n",
       "      <td>1.000000</td>\n",
       "      <td>5313.000000</td>\n",
       "      <td>4.21800</td>\n",
       "      <td>0.829000</td>\n",
       "      <td>288.818002</td>\n",
       "      <td>40.713316</td>\n",
       "      <td>13.427000</td>\n",
       "      <td>0.000000</td>\n",
       "      <td>0.000000</td>\n",
       "      <td>0.000000</td>\n",
       "      <td>1.000000</td>\n",
       "    </tr>\n",
       "    <tr>\n",
       "      <th>50%</th>\n",
       "      <td>8.062325</td>\n",
       "      <td>136.401784</td>\n",
       "      <td>0.586000</td>\n",
       "      <td>3.833200</td>\n",
       "      <td>5.014000e+02</td>\n",
       "      <td>2.620000</td>\n",
       "      <td>933.000000</td>\n",
       "      <td>1.814700e+02</td>\n",
       "      <td>30.500000</td>\n",
       "      <td>1.000000</td>\n",
       "      <td>5774.000000</td>\n",
       "      <td>4.43800</td>\n",
       "      <td>0.999000</td>\n",
       "      <td>292.325180</td>\n",
       "      <td>43.552040</td>\n",
       "      <td>14.500000</td>\n",
       "      <td>0.000000</td>\n",
       "      <td>0.000000</td>\n",
       "      <td>0.000000</td>\n",
       "      <td>1.000000</td>\n",
       "    </tr>\n",
       "    <tr>\n",
       "      <th>75%</th>\n",
       "      <td>30.481980</td>\n",
       "      <td>169.909212</td>\n",
       "      <td>0.917000</td>\n",
       "      <td>6.270775</td>\n",
       "      <td>2.319000e+03</td>\n",
       "      <td>24.195000</td>\n",
       "      <td>1482.000000</td>\n",
       "      <td>1.151575e+03</td>\n",
       "      <td>114.850000</td>\n",
       "      <td>1.000000</td>\n",
       "      <td>6116.500000</td>\n",
       "      <td>4.54300</td>\n",
       "      <td>1.346000</td>\n",
       "      <td>295.920650</td>\n",
       "      <td>46.650546</td>\n",
       "      <td>15.308000</td>\n",
       "      <td>1.000000</td>\n",
       "      <td>0.000000</td>\n",
       "      <td>0.000000</td>\n",
       "      <td>1.000000</td>\n",
       "    </tr>\n",
       "    <tr>\n",
       "      <th>max</th>\n",
       "      <td>1071.232624</td>\n",
       "      <td>1472.522306</td>\n",
       "      <td>100.806000</td>\n",
       "      <td>138.540000</td>\n",
       "      <td>1.541400e+06</td>\n",
       "      <td>200346.000000</td>\n",
       "      <td>14667.000000</td>\n",
       "      <td>1.094755e+07</td>\n",
       "      <td>9054.700000</td>\n",
       "      <td>8.000000</td>\n",
       "      <td>15896.000000</td>\n",
       "      <td>5.28300</td>\n",
       "      <td>229.908000</td>\n",
       "      <td>301.720760</td>\n",
       "      <td>52.336010</td>\n",
       "      <td>20.003000</td>\n",
       "      <td>1.000000</td>\n",
       "      <td>1.000000</td>\n",
       "      <td>1.000000</td>\n",
       "      <td>1.000000</td>\n",
       "    </tr>\n",
       "  </tbody>\n",
       "</table>\n",
       "</div>"
      ],
      "text/plain": [
       "        koi_period  koi_time0bk   koi_impact  koi_duration     koi_depth  \\\n",
       "count  7582.000000  7582.000000  7323.000000   7582.000000  7.323000e+03   \n",
       "mean     51.615992   162.392800     0.756121      5.709884  2.954100e+04   \n",
       "std     111.813351    62.875558     3.197033      6.823641  9.118703e+04   \n",
       "min       0.241843   120.515914     0.000000      0.104600  8.000000e-01   \n",
       "25%       2.243023   132.553008     0.227000      2.472125  1.825500e+02   \n",
       "50%       8.062325   136.401784     0.586000      3.833200  5.014000e+02   \n",
       "75%      30.481980   169.909212     0.917000      6.270775  2.319000e+03   \n",
       "max    1071.232624  1472.522306   100.806000    138.540000  1.541400e+06   \n",
       "\n",
       "            koi_prad       koi_teq     koi_insol  koi_model_snr  \\\n",
       "count    7323.000000   7323.000000  7.363000e+03    7323.000000   \n",
       "mean      104.209436   1154.584460  9.396025e+03     318.710638   \n",
       "std      3181.134374    900.694085  1.782218e+05     881.257900   \n",
       "min         0.080000     92.000000  2.000000e-02       0.000000   \n",
       "25%         1.500000    581.000000  2.723000e+01      15.400000   \n",
       "50%         2.620000    933.000000  1.814700e+02      30.500000   \n",
       "75%        24.195000   1482.000000  1.151575e+03     114.850000   \n",
       "max    200346.000000  14667.000000  1.094755e+07    9054.700000   \n",
       "\n",
       "       koi_tce_plnt_num     koi_steff   koi_slogg     koi_srad           ra  \\\n",
       "count       7296.000000   7323.000000  7323.00000  7323.000000  7582.000000   \n",
       "mean           1.223684   5715.811553     4.31090     1.752660   292.135109   \n",
       "std            0.631908    819.355228     0.43727     6.280473     4.767184   \n",
       "min            1.000000   2661.000000     0.04700     0.116000   279.852720   \n",
       "25%            1.000000   5313.000000     4.21800     0.829000   288.818002   \n",
       "50%            1.000000   5774.000000     4.43800     0.999000   292.325180   \n",
       "75%            1.000000   6116.500000     4.54300     1.346000   295.920650   \n",
       "max            8.000000  15896.000000     5.28300   229.908000   301.720760   \n",
       "\n",
       "               dec   koi_kepmag        label  koi_tce_delivname_q1_q16_tce  \\\n",
       "count  7582.000000  7581.000000  7582.000000                   7582.000000   \n",
       "mean     43.735649    14.251791     0.361778                      0.052097   \n",
       "std       3.573604     1.401371     0.480547                      0.222237   \n",
       "min      36.577381     6.966000     0.000000                      0.000000   \n",
       "25%      40.713316    13.427000     0.000000                      0.000000   \n",
       "50%      43.552040    14.500000     0.000000                      0.000000   \n",
       "75%      46.650546    15.308000     1.000000                      0.000000   \n",
       "max      52.336010    20.003000     1.000000                      1.000000   \n",
       "\n",
       "       koi_tce_delivname_q1_q17_dr24_tce  koi_tce_delivname_q1_q17_dr25_tce  \n",
       "count                        7582.000000                        7582.000000  \n",
       "mean                            0.030203                           0.879979  \n",
       "std                             0.171157                           0.325008  \n",
       "min                             0.000000                           0.000000  \n",
       "25%                             0.000000                           1.000000  \n",
       "50%                             0.000000                           1.000000  \n",
       "75%                             0.000000                           1.000000  \n",
       "max                             1.000000                           1.000000  "
      ]
     },
     "execution_count": 21,
     "metadata": {},
     "output_type": "execute_result"
    }
   ],
   "source": [
    "df_known.describe()"
   ]
  },
  {
   "cell_type": "code",
   "execution_count": 22,
   "id": "994cae32-34bf-4873-9c03-43f7fcd25570",
   "metadata": {
    "tags": []
   },
   "outputs": [
    {
     "data": {
      "text/plain": [
       "<Axes: xlabel='label'>"
      ]
     },
     "execution_count": 22,
     "metadata": {},
     "output_type": "execute_result"
    },
    {
     "data": {
      "image/png": "[encoded data removed]",
      "text/plain": [
       "<Figure size 640x480 with 1 Axes>"
      ]
     },
     "metadata": {},
     "output_type": "display_data"
    }
   ],
   "source": [
    "df_known.label.value_counts().plot.bar(color=['red', 'green'])"
   ]
  },
  {
   "cell_type": "code",
   "execution_count": 23,
   "id": "e81cabfe-68a6-43d5-a84e-633062bd92f0",
   "metadata": {
    "tags": []
   },
   "outputs": [
    {
     "name": "stdout",
     "output_type": "stream",
     "text": [
      "<class 'pandas.core.frame.DataFrame'>\n",
      "Index: 7582 entries, 0 to 7581\n",
      "Data columns (total 20 columns):\n",
      " #   Column                             Non-Null Count  Dtype  \n",
      "---  ------                             --------------  -----  \n",
      " 0   koi_period                         7582 non-null   float64\n",
      " 1   koi_time0bk                        7582 non-null   float64\n",
      " 2   koi_impact                         7323 non-null   float64\n",
      " 3   koi_duration                       7582 non-null   float64\n",
      " 4   koi_depth                          7323 non-null   float64\n",
      " 5   koi_prad                           7323 non-null   float64\n",
      " 6   koi_teq                            7323 non-null   float64\n",
      " 7   koi_insol                          7363 non-null   float64\n",
      " 8   koi_model_snr                      7323 non-null   float64\n",
      " 9   koi_tce_plnt_num                   7296 non-null   float64\n",
      " 10  koi_steff                          7323 non-null   float64\n",
      " 11  koi_slogg                          7323 non-null   float64\n",
      " 12  koi_srad                           7323 non-null   float64\n",
      " 13  ra                                 7582 non-null   float64\n",
      " 14  dec                                7582 non-null   float64\n",
      " 15  koi_kepmag                         7581 non-null   float64\n",
      " 16  label                              7582 non-null   int32  \n",
      " 17  koi_tce_delivname_q1_q16_tce       7582 non-null   int32  \n",
      " 18  koi_tce_delivname_q1_q17_dr24_tce  7582 non-null   int32  \n",
      " 19  koi_tce_delivname_q1_q17_dr25_tce  7582 non-null   int32  \n",
      "dtypes: float64(16), int32(4)\n",
      "memory usage: 1.1 MB\n"
     ]
    }
   ],
   "source": [
    "df_known.info()"
   ]
  },
  {
   "cell_type": "code",
   "execution_count": 24,
   "id": "d29cd338-40a0-484c-b42e-912531e1fc6e",
   "metadata": {
    "tags": []
   },
   "outputs": [],
   "source": [
    "df=df_known.dropna()"
   ]
  },
  {
   "cell_type": "code",
   "execution_count": 25,
   "id": "02d4c61e-4eb0-4aeb-9bbc-8106e18d444a",
   "metadata": {
    "tags": []
   },
   "outputs": [],
   "source": [
    "X_raw=df.drop(columns = ['label'])\n",
    "y=df['label']"
   ]
  },
  {
   "cell_type": "code",
   "execution_count": 26,
   "id": "88a471e9-f7c5-4d3a-aaba-ff636cb6e372",
   "metadata": {
    "tags": []
   },
   "outputs": [],
   "source": [
    "scaler = MinMaxScaler()\n",
    "X = scaler.fit_transform(X_raw)"
   ]
  },
  {
   "cell_type": "code",
   "execution_count": 27,
   "id": "f1a3ac81-716b-4baa-a333-8af014ae1e4f",
   "metadata": {
    "tags": []
   },
   "outputs": [
    {
     "name": "stdout",
     "output_type": "stream",
     "text": [
      "The range of feature inputs are within 0.0 to 1.0\n"
     ]
    }
   ],
   "source": [
    "print(f\"The range of feature inputs are within {X.min()} to {X.max()}\")"
   ]
  },
  {
   "cell_type": "code",
   "execution_count": 28,
   "id": "9af0ed46-5184-44b2-a080-17dba29cea9b",
   "metadata": {
    "tags": []
   },
   "outputs": [
    {
     "data": {
      "text/html": [
       "<div>\n",
       "<style scoped>\n",
       "    .dataframe tbody tr th:only-of-type {\n",
       "        vertical-align: middle;\n",
       "    }\n",
       "\n",
       "    .dataframe tbody tr th {\n",
       "        vertical-align: top;\n",
       "    }\n",
       "\n",
       "    .dataframe thead th {\n",
       "        text-align: right;\n",
       "    }\n",
       "</style>\n",
       "<table border=\"1\" class=\"dataframe\">\n",
       "  <thead>\n",
       "    <tr style=\"text-align: right;\">\n",
       "      <th></th>\n",
       "      <th>0</th>\n",
       "      <th>1</th>\n",
       "      <th>2</th>\n",
       "      <th>3</th>\n",
       "      <th>4</th>\n",
       "      <th>5</th>\n",
       "      <th>6</th>\n",
       "      <th>7</th>\n",
       "      <th>8</th>\n",
       "      <th>9</th>\n",
       "      <th>10</th>\n",
       "      <th>11</th>\n",
       "      <th>12</th>\n",
       "      <th>13</th>\n",
       "      <th>14</th>\n",
       "      <th>15</th>\n",
       "      <th>16</th>\n",
       "      <th>17</th>\n",
       "      <th>18</th>\n",
       "    </tr>\n",
       "  </thead>\n",
       "  <tbody>\n",
       "    <tr>\n",
       "      <th>count</th>\n",
       "      <td>7112.000000</td>\n",
       "      <td>7112.000000</td>\n",
       "      <td>7112.000000</td>\n",
       "      <td>7112.000000</td>\n",
       "      <td>7112.000000</td>\n",
       "      <td>7112.000000</td>\n",
       "      <td>7112.000000</td>\n",
       "      <td>7112.000000</td>\n",
       "      <td>7112.000000</td>\n",
       "      <td>7112.000000</td>\n",
       "      <td>7112.000000</td>\n",
       "      <td>7112.000000</td>\n",
       "      <td>7112.000000</td>\n",
       "      <td>7112.000000</td>\n",
       "      <td>7112.000000</td>\n",
       "      <td>7112.000000</td>\n",
       "      <td>7112.000000</td>\n",
       "      <td>7112.000000</td>\n",
       "      <td>7112.000000</td>\n",
       "    </tr>\n",
       "    <tr>\n",
       "      <th>mean</th>\n",
       "      <td>0.042166</td>\n",
       "      <td>0.029473</td>\n",
       "      <td>0.007441</td>\n",
       "      <td>0.039780</td>\n",
       "      <td>0.019683</td>\n",
       "      <td>0.000523</td>\n",
       "      <td>0.073690</td>\n",
       "      <td>0.000847</td>\n",
       "      <td>0.036039</td>\n",
       "      <td>0.032018</td>\n",
       "      <td>0.230201</td>\n",
       "      <td>0.814386</td>\n",
       "      <td>0.007140</td>\n",
       "      <td>0.563450</td>\n",
       "      <td>0.454818</td>\n",
       "      <td>0.560124</td>\n",
       "      <td>0.041339</td>\n",
       "      <td>0.027981</td>\n",
       "      <td>0.930681</td>\n",
       "    </tr>\n",
       "    <tr>\n",
       "      <th>std</th>\n",
       "      <td>0.098122</td>\n",
       "      <td>0.045038</td>\n",
       "      <td>0.030041</td>\n",
       "      <td>0.048881</td>\n",
       "      <td>0.059930</td>\n",
       "      <td>0.016088</td>\n",
       "      <td>0.061390</td>\n",
       "      <td>0.016392</td>\n",
       "      <td>0.098363</td>\n",
       "      <td>0.090134</td>\n",
       "      <td>0.061935</td>\n",
       "      <td>0.083732</td>\n",
       "      <td>0.027620</td>\n",
       "      <td>0.218063</td>\n",
       "      <td>0.227201</td>\n",
       "      <td>0.106363</td>\n",
       "      <td>0.199086</td>\n",
       "      <td>0.164930</td>\n",
       "      <td>0.254014</td>\n",
       "    </tr>\n",
       "    <tr>\n",
       "      <th>min</th>\n",
       "      <td>0.000000</td>\n",
       "      <td>0.000000</td>\n",
       "      <td>0.000000</td>\n",
       "      <td>0.000000</td>\n",
       "      <td>0.000000</td>\n",
       "      <td>0.000000</td>\n",
       "      <td>0.000000</td>\n",
       "      <td>0.000000</td>\n",
       "      <td>0.000000</td>\n",
       "      <td>0.000000</td>\n",
       "      <td>0.000000</td>\n",
       "      <td>0.000000</td>\n",
       "      <td>0.000000</td>\n",
       "      <td>0.000000</td>\n",
       "      <td>0.000000</td>\n",
       "      <td>0.000000</td>\n",
       "      <td>0.000000</td>\n",
       "      <td>0.000000</td>\n",
       "      <td>0.000000</td>\n",
       "    </tr>\n",
       "    <tr>\n",
       "      <th>25%</th>\n",
       "      <td>0.001759</td>\n",
       "      <td>0.008863</td>\n",
       "      <td>0.002282</td>\n",
       "      <td>0.017068</td>\n",
       "      <td>0.000119</td>\n",
       "      <td>0.000007</td>\n",
       "      <td>0.034511</td>\n",
       "      <td>0.000003</td>\n",
       "      <td>0.001756</td>\n",
       "      <td>0.000000</td>\n",
       "      <td>0.199773</td>\n",
       "      <td>0.796982</td>\n",
       "      <td>0.003098</td>\n",
       "      <td>0.412095</td>\n",
       "      <td>0.262363</td>\n",
       "      <td>0.496778</td>\n",
       "      <td>0.000000</td>\n",
       "      <td>0.000000</td>\n",
       "      <td>1.000000</td>\n",
       "    </tr>\n",
       "    <tr>\n",
       "      <th>50%</th>\n",
       "      <td>0.006640</td>\n",
       "      <td>0.011471</td>\n",
       "      <td>0.005902</td>\n",
       "      <td>0.026792</td>\n",
       "      <td>0.000330</td>\n",
       "      <td>0.000013</td>\n",
       "      <td>0.058662</td>\n",
       "      <td>0.000017</td>\n",
       "      <td>0.003501</td>\n",
       "      <td>0.000000</td>\n",
       "      <td>0.234756</td>\n",
       "      <td>0.838617</td>\n",
       "      <td>0.003843</td>\n",
       "      <td>0.573562</td>\n",
       "      <td>0.443577</td>\n",
       "      <td>0.578469</td>\n",
       "      <td>0.000000</td>\n",
       "      <td>0.000000</td>\n",
       "      <td>1.000000</td>\n",
       "    </tr>\n",
       "    <tr>\n",
       "      <th>75%</th>\n",
       "      <td>0.023576</td>\n",
       "      <td>0.034078</td>\n",
       "      <td>0.009117</td>\n",
       "      <td>0.043395</td>\n",
       "      <td>0.001654</td>\n",
       "      <td>0.000124</td>\n",
       "      <td>0.095918</td>\n",
       "      <td>0.000106</td>\n",
       "      <td>0.013256</td>\n",
       "      <td>0.000000</td>\n",
       "      <td>0.260521</td>\n",
       "      <td>0.858862</td>\n",
       "      <td>0.005348</td>\n",
       "      <td>0.737682</td>\n",
       "      <td>0.640244</td>\n",
       "      <td>0.639948</td>\n",
       "      <td>0.000000</td>\n",
       "      <td>0.000000</td>\n",
       "      <td>1.000000</td>\n",
       "    </tr>\n",
       "    <tr>\n",
       "      <th>max</th>\n",
       "      <td>1.000000</td>\n",
       "      <td>1.000000</td>\n",
       "      <td>1.000000</td>\n",
       "      <td>1.000000</td>\n",
       "      <td>1.000000</td>\n",
       "      <td>1.000000</td>\n",
       "      <td>1.000000</td>\n",
       "      <td>1.000000</td>\n",
       "      <td>1.000000</td>\n",
       "      <td>1.000000</td>\n",
       "      <td>1.000000</td>\n",
       "      <td>1.000000</td>\n",
       "      <td>1.000000</td>\n",
       "      <td>1.000000</td>\n",
       "      <td>1.000000</td>\n",
       "      <td>1.000000</td>\n",
       "      <td>1.000000</td>\n",
       "      <td>1.000000</td>\n",
       "      <td>1.000000</td>\n",
       "    </tr>\n",
       "  </tbody>\n",
       "</table>\n",
       "</div>"
      ],
      "text/plain": [
       "                0            1            2            3            4   \\\n",
       "count  7112.000000  7112.000000  7112.000000  7112.000000  7112.000000   \n",
       "mean      0.042166     0.029473     0.007441     0.039780     0.019683   \n",
       "std       0.098122     0.045038     0.030041     0.048881     0.059930   \n",
       "min       0.000000     0.000000     0.000000     0.000000     0.000000   \n",
       "25%       0.001759     0.008863     0.002282     0.017068     0.000119   \n",
       "50%       0.006640     0.011471     0.005902     0.026792     0.000330   \n",
       "75%       0.023576     0.034078     0.009117     0.043395     0.001654   \n",
       "max       1.000000     1.000000     1.000000     1.000000     1.000000   \n",
       "\n",
       "                5            6            7            8            9   \\\n",
       "count  7112.000000  7112.000000  7112.000000  7112.000000  7112.000000   \n",
       "mean      0.000523     0.073690     0.000847     0.036039     0.032018   \n",
       "std       0.016088     0.061390     0.016392     0.098363     0.090134   \n",
       "min       0.000000     0.000000     0.000000     0.000000     0.000000   \n",
       "25%       0.000007     0.034511     0.000003     0.001756     0.000000   \n",
       "50%       0.000013     0.058662     0.000017     0.003501     0.000000   \n",
       "75%       0.000124     0.095918     0.000106     0.013256     0.000000   \n",
       "max       1.000000     1.000000     1.000000     1.000000     1.000000   \n",
       "\n",
       "                10           11           12           13           14  \\\n",
       "count  7112.000000  7112.000000  7112.000000  7112.000000  7112.000000   \n",
       "mean      0.230201     0.814386     0.007140     0.563450     0.454818   \n",
       "std       0.061935     0.083732     0.027620     0.218063     0.227201   \n",
       "min       0.000000     0.000000     0.000000     0.000000     0.000000   \n",
       "25%       0.199773     0.796982     0.003098     0.412095     0.262363   \n",
       "50%       0.234756     0.838617     0.003843     0.573562     0.443577   \n",
       "75%       0.260521     0.858862     0.005348     0.737682     0.640244   \n",
       "max       1.000000     1.000000     1.000000     1.000000     1.000000   \n",
       "\n",
       "                15           16           17           18  \n",
       "count  7112.000000  7112.000000  7112.000000  7112.000000  \n",
       "mean      0.560124     0.041339     0.027981     0.930681  \n",
       "std       0.106363     0.199086     0.164930     0.254014  \n",
       "min       0.000000     0.000000     0.000000     0.000000  \n",
       "25%       0.496778     0.000000     0.000000     1.000000  \n",
       "50%       0.578469     0.000000     0.000000     1.000000  \n",
       "75%       0.639948     0.000000     0.000000     1.000000  \n",
       "max       1.000000     1.000000     1.000000     1.000000  "
      ]
     },
     "execution_count": 28,
     "metadata": {},
     "output_type": "execute_result"
    }
   ],
   "source": [
    "pd.DataFrame(X).describe()"
   ]
  },
  {
   "cell_type": "markdown",
   "id": "1965d3f9-9595-4e0a-9858-f238617c3451",
   "metadata": {},
   "source": [
    "## Train logistic regression models"
   ]
  },
  {
   "cell_type": "code",
   "execution_count": 29,
   "id": "19dc41d8-12a4-4a7d-9508-2d420bed4669",
   "metadata": {
    "tags": []
   },
   "outputs": [],
   "source": [
    "#split dataset into train/test\n",
    "X_train, X_test, y_train, y_test = train_test_split(X, y, test_size=0.2, stratify=y, random_state = 42)"
   ]
  },
  {
   "cell_type": "code",
   "execution_count": 30,
   "id": "d5d713e2-35e3-4c30-8cb1-0fac88ad6e0b",
   "metadata": {
    "tags": []
   },
   "outputs": [
    {
     "name": "stdout",
     "output_type": "stream",
     "text": [
      "Training dataset shape, X_train: (5689, 19), y_train: (5689,)\n"
     ]
    }
   ],
   "source": [
    "print(f\"Training dataset shape, X_train: {X_train.shape}, y_train: {y_train.shape}\")"
   ]
  },
  {
   "cell_type": "code",
   "execution_count": 31,
   "id": "0c31ca5b-4a45-446e-b7bb-e39d34c309d6",
   "metadata": {
    "tags": []
   },
   "outputs": [
    {
     "name": "stdout",
     "output_type": "stream",
     "text": [
      "Testing dataset shape, X_test: (1423, 19), y_test: (1423,)\n"
     ]
    }
   ],
   "source": [
    "print(f\"Testing dataset shape, X_test: {X_test.shape}, y_test: {y_test.shape}\")"
   ]
  },
  {
   "cell_type": "code",
   "execution_count": 32,
   "id": "714ae9c1-d026-48e0-8df2-3b66736a4494",
   "metadata": {
    "tags": []
   },
   "outputs": [
    {
     "data": {
      "text/plain": [
       "label\n",
       "0    0.616001\n",
       "1    0.383999\n",
       "Name: proportion, dtype: float64"
      ]
     },
     "execution_count": 32,
     "metadata": {},
     "output_type": "execute_result"
    }
   ],
   "source": [
    "y.value_counts(normalize=True)"
   ]
  },
  {
   "cell_type": "code",
   "execution_count": 33,
   "id": "fba5b5be-b4b3-4ab3-9308-ec04f0f5094f",
   "metadata": {
    "tags": []
   },
   "outputs": [
    {
     "data": {
      "text/plain": [
       "label\n",
       "0    0.615925\n",
       "1    0.384075\n",
       "Name: proportion, dtype: float64"
      ]
     },
     "execution_count": 33,
     "metadata": {},
     "output_type": "execute_result"
    }
   ],
   "source": [
    "y_train.value_counts(normalize=True)"
   ]
  },
  {
   "cell_type": "code",
   "execution_count": 34,
   "id": "4688f079-6f2d-4890-acb5-8e3f0f3e888e",
   "metadata": {
    "tags": []
   },
   "outputs": [
    {
     "data": {
      "text/plain": [
       "label\n",
       "0    0.616304\n",
       "1    0.383696\n",
       "Name: proportion, dtype: float64"
      ]
     },
     "execution_count": 34,
     "metadata": {},
     "output_type": "execute_result"
    }
   ],
   "source": [
    "y_test.value_counts(normalize=True)"
   ]
  },
  {
   "cell_type": "code",
   "execution_count": 35,
   "id": "d8be06eb-8926-4980-9217-257c01838d4d",
   "metadata": {
    "tags": []
   },
   "outputs": [],
   "source": [
    "# L2 penalty to shrink coefficients without removing any features from the model\n",
    "penalty= ['l2', 'l1', 'elasticnet']\n",
    "# Our classification problem is multinomial\n",
    "multi_class = 'auto'\n",
    "# Use lbfgs for L2 penalty and multinomial classes\n",
    "solver = ['lbfgs', 'saga', 'saga']\n",
    "# Max iteration = 1000\n",
    "max_iter = 1000\n",
    "#elastic-net coef.\n",
    "l1_ratio = 0.8"
   ]
  },
  {
   "cell_type": "code",
   "execution_count": 36,
   "id": "bd52771b-7340-4747-a089-e2606ce19dc1",
   "metadata": {
    "tags": []
   },
   "outputs": [],
   "source": [
    "# Define a logistic regression model with above arguments\n",
    "l2_model = LogisticRegression(random_state=42, penalty=penalty[0], multi_class=multi_class, solver=solver[0], max_iter=max_iter)"
   ]
  },
  {
   "cell_type": "code",
   "execution_count": 37,
   "id": "7b6c01bf-62e9-4c7d-8034-0c9d330ba7b6",
   "metadata": {
    "tags": []
   },
   "outputs": [
    {
     "data": {
      "text/html": [
       "<style>#sk-container-id-1 {color: black;}#sk-container-id-1 pre{padding: 0;}#sk-container-id-1 div.sk-toggleable {background-color: white;}#sk-container-id-1 label.sk-toggleable__label {cursor: pointer;display: block;width: 100%;margin-bottom: 0;padding: 0.3em;box-sizing: border-box;text-align: center;}#sk-container-id-1 label.sk-toggleable__label-arrow:before {content: \"▸\";float: left;margin-right: 0.25em;color: #696969;}#sk-container-id-1 label.sk-toggleable__label-arrow:hover:before {color: black;}#sk-container-id-1 div.sk-estimator:hover label.sk-toggleable__label-arrow:before {color: black;}#sk-container-id-1 div.sk-toggleable__content {max-height: 0;max-width: 0;overflow: hidden;text-align: left;background-color: #f0f8ff;}#sk-container-id-1 div.sk-toggleable__content pre {margin: 0.2em;color: black;border-radius: 0.25em;background-color: #f0f8ff;}#sk-container-id-1 input.sk-toggleable__control:checked~div.sk-toggleable__content {max-height: 200px;max-width: 100%;overflow: auto;}#sk-container-id-1 input.sk-toggleable__control:checked~label.sk-toggleable__label-arrow:before {content: \"▾\";}#sk-container-id-1 div.sk-estimator input.sk-toggleable__control:checked~label.sk-toggleable__label {background-color: #d4ebff;}#sk-container-id-1 div.sk-label input.sk-toggleable__control:checked~label.sk-toggleable__label {background-color: #d4ebff;}#sk-container-id-1 input.sk-hidden--visually {border: 0;clip: rect(1px 1px 1px 1px);clip: rect(1px, 1px, 1px, 1px);height: 1px;margin: -1px;overflow: hidden;padding: 0;position: absolute;width: 1px;}#sk-container-id-1 div.sk-estimator {font-family: monospace;background-color: #f0f8ff;border: 1px dotted black;border-radius: 0.25em;box-sizing: border-box;margin-bottom: 0.5em;}#sk-container-id-1 div.sk-estimator:hover {background-color: #d4ebff;}#sk-container-id-1 div.sk-parallel-item::after {content: \"\";width: 100%;border-bottom: 1px solid gray;flex-grow: 1;}#sk-container-id-1 div.sk-label:hover label.sk-toggleable__label {background-color: #d4ebff;}#sk-container-id-1 div.sk-serial::before {content: \"\";position: absolute;border-left: 1px solid gray;box-sizing: border-box;top: 0;bottom: 0;left: 50%;z-index: 0;}#sk-container-id-1 div.sk-serial {display: flex;flex-direction: column;align-items: center;background-color: white;padding-right: 0.2em;padding-left: 0.2em;position: relative;}#sk-container-id-1 div.sk-item {position: relative;z-index: 1;}#sk-container-id-1 div.sk-parallel {display: flex;align-items: stretch;justify-content: center;background-color: white;position: relative;}#sk-container-id-1 div.sk-item::before, #sk-container-id-1 div.sk-parallel-item::before {content: \"\";position: absolute;border-left: 1px solid gray;box-sizing: border-box;top: 0;bottom: 0;left: 50%;z-index: -1;}#sk-container-id-1 div.sk-parallel-item {display: flex;flex-direction: column;z-index: 1;position: relative;background-color: white;}#sk-container-id-1 div.sk-parallel-item:first-child::after {align-self: flex-end;width: 50%;}#sk-container-id-1 div.sk-parallel-item:last-child::after {align-self: flex-start;width: 50%;}#sk-container-id-1 div.sk-parallel-item:only-child::after {width: 0;}#sk-container-id-1 div.sk-dashed-wrapped {border: 1px dashed gray;margin: 0 0.4em 0.5em 0.4em;box-sizing: border-box;padding-bottom: 0.4em;background-color: white;}#sk-container-id-1 div.sk-label label {font-family: monospace;font-weight: bold;display: inline-block;line-height: 1.2em;}#sk-container-id-1 div.sk-label-container {text-align: center;}#sk-container-id-1 div.sk-container {/* jupyter's `normalize.less` sets `[hidden] { display: none; }` but bootstrap.min.css set `[hidden] { display: none !important; }` so we also need the `!important` here to be able to override the default hidden behavior on the sphinx rendered scikit-learn.org. See: https://github.com/scikit-learn/scikit-learn/issues/21755 */display: inline-block !important;position: relative;}#sk-container-id-1 div.sk-text-repr-fallback {display: none;}</style><div id=\"sk-container-id-1\" class=\"sk-top-container\"><div class=\"sk-text-repr-fallback\"><pre>LogisticRegression(max_iter=1000, random_state=42)</pre><b>In a Jupyter environment, please rerun this cell to show the HTML representation or trust the notebook. <br />On GitHub, the HTML representation is unable to render, please try loading this page with nbviewer.org.</b></div><div class=\"sk-container\" hidden><div class=\"sk-item\"><div class=\"sk-estimator sk-toggleable\"><input class=\"sk-toggleable__control sk-hidden--visually\" id=\"sk-estimator-id-1\" type=\"checkbox\" checked><label for=\"sk-estimator-id-1\" class=\"sk-toggleable__label sk-toggleable__label-arrow\">LogisticRegression</label><div class=\"sk-toggleable__content\"><pre>LogisticRegression(max_iter=1000, random_state=42)</pre></div></div></div></div></div>"
      ],
      "text/plain": [
       "LogisticRegression(max_iter=1000, random_state=42)"
      ]
     },
     "execution_count": 37,
     "metadata": {},
     "output_type": "execute_result"
    }
   ],
   "source": [
    "l2_model.fit(X_train, y_train)"
   ]
  },
  {
   "cell_type": "code",
   "execution_count": 38,
   "id": "7ca71964-c12a-4d26-b65f-0a293aa9f6ef",
   "metadata": {
    "tags": []
   },
   "outputs": [],
   "source": [
    "l2_preds = l2_model.predict(X_test)"
   ]
  },
  {
   "cell_type": "code",
   "execution_count": 39,
   "id": "41331297-b096-4ac5-9e82-4e25165c3a76",
   "metadata": {
    "tags": []
   },
   "outputs": [],
   "source": [
    "def evaluate_metrics(yt, yp):\n",
    "    results_pos = {}\n",
    "    results_pos['accuracy'] = accuracy_score(yt, yp)\n",
    "    precision, recall, f_beta, _ = precision_recall_fscore_support(yt, yp)\n",
    "    results_pos['recall'] = recall\n",
    "    results_pos['precision'] = precision\n",
    "    results_pos['f1score'] = f_beta\n",
    "    return results_pos"
   ]
  },
  {
   "cell_type": "code",
   "execution_count": 40,
   "id": "8672af81-1999-4e42-8753-87564b79a183",
   "metadata": {
    "tags": []
   },
   "outputs": [
    {
     "data": {
      "text/plain": [
       "{'accuracy': 0.8046380885453268,\n",
       " 'recall': array([0.8722919, 0.6959707]),\n",
       " 'precision': array([0.8216971 , 0.77235772]),\n",
       " 'f1score': array([0.84623894, 0.73217726])}"
      ]
     },
     "execution_count": 40,
     "metadata": {},
     "output_type": "execute_result"
    }
   ],
   "source": [
    "evaluate_metrics(y_test, l2_preds)"
   ]
  },
  {
   "cell_type": "code",
   "execution_count": 41,
   "id": "7f5fbacd-a5da-4002-92f6-f74ec7dc3863",
   "metadata": {
    "tags": []
   },
   "outputs": [],
   "source": [
    "l1_model = LogisticRegression(random_state=42, penalty=penalty[1], multi_class=multi_class, solver=solver[1], max_iter=max_iter)"
   ]
  },
  {
   "cell_type": "code",
   "execution_count": 42,
   "id": "f4593b77-d807-4afe-bac7-7896e9595c40",
   "metadata": {
    "tags": []
   },
   "outputs": [
    {
     "data": {
      "text/html": [
       "<style>#sk-container-id-2 {color: black;}#sk-container-id-2 pre{padding: 0;}#sk-container-id-2 div.sk-toggleable {background-color: white;}#sk-container-id-2 label.sk-toggleable__label {cursor: pointer;display: block;width: 100%;margin-bottom: 0;padding: 0.3em;box-sizing: border-box;text-align: center;}#sk-container-id-2 label.sk-toggleable__label-arrow:before {content: \"▸\";float: left;margin-right: 0.25em;color: #696969;}#sk-container-id-2 label.sk-toggleable__label-arrow:hover:before {color: black;}#sk-container-id-2 div.sk-estimator:hover label.sk-toggleable__label-arrow:before {color: black;}#sk-container-id-2 div.sk-toggleable__content {max-height: 0;max-width: 0;overflow: hidden;text-align: left;background-color: #f0f8ff;}#sk-container-id-2 div.sk-toggleable__content pre {margin: 0.2em;color: black;border-radius: 0.25em;background-color: #f0f8ff;}#sk-container-id-2 input.sk-toggleable__control:checked~div.sk-toggleable__content {max-height: 200px;max-width: 100%;overflow: auto;}#sk-container-id-2 input.sk-toggleable__control:checked~label.sk-toggleable__label-arrow:before {content: \"▾\";}#sk-container-id-2 div.sk-estimator input.sk-toggleable__control:checked~label.sk-toggleable__label {background-color: #d4ebff;}#sk-container-id-2 div.sk-label input.sk-toggleable__control:checked~label.sk-toggleable__label {background-color: #d4ebff;}#sk-container-id-2 input.sk-hidden--visually {border: 0;clip: rect(1px 1px 1px 1px);clip: rect(1px, 1px, 1px, 1px);height: 1px;margin: -1px;overflow: hidden;padding: 0;position: absolute;width: 1px;}#sk-container-id-2 div.sk-estimator {font-family: monospace;background-color: #f0f8ff;border: 1px dotted black;border-radius: 0.25em;box-sizing: border-box;margin-bottom: 0.5em;}#sk-container-id-2 div.sk-estimator:hover {background-color: #d4ebff;}#sk-container-id-2 div.sk-parallel-item::after {content: \"\";width: 100%;border-bottom: 1px solid gray;flex-grow: 1;}#sk-container-id-2 div.sk-label:hover label.sk-toggleable__label {background-color: #d4ebff;}#sk-container-id-2 div.sk-serial::before {content: \"\";position: absolute;border-left: 1px solid gray;box-sizing: border-box;top: 0;bottom: 0;left: 50%;z-index: 0;}#sk-container-id-2 div.sk-serial {display: flex;flex-direction: column;align-items: center;background-color: white;padding-right: 0.2em;padding-left: 0.2em;position: relative;}#sk-container-id-2 div.sk-item {position: relative;z-index: 1;}#sk-container-id-2 div.sk-parallel {display: flex;align-items: stretch;justify-content: center;background-color: white;position: relative;}#sk-container-id-2 div.sk-item::before, #sk-container-id-2 div.sk-parallel-item::before {content: \"\";position: absolute;border-left: 1px solid gray;box-sizing: border-box;top: 0;bottom: 0;left: 50%;z-index: -1;}#sk-container-id-2 div.sk-parallel-item {display: flex;flex-direction: column;z-index: 1;position: relative;background-color: white;}#sk-container-id-2 div.sk-parallel-item:first-child::after {align-self: flex-end;width: 50%;}#sk-container-id-2 div.sk-parallel-item:last-child::after {align-self: flex-start;width: 50%;}#sk-container-id-2 div.sk-parallel-item:only-child::after {width: 0;}#sk-container-id-2 div.sk-dashed-wrapped {border: 1px dashed gray;margin: 0 0.4em 0.5em 0.4em;box-sizing: border-box;padding-bottom: 0.4em;background-color: white;}#sk-container-id-2 div.sk-label label {font-family: monospace;font-weight: bold;display: inline-block;line-height: 1.2em;}#sk-container-id-2 div.sk-label-container {text-align: center;}#sk-container-id-2 div.sk-container {/* jupyter's `normalize.less` sets `[hidden] { display: none; }` but bootstrap.min.css set `[hidden] { display: none !important; }` so we also need the `!important` here to be able to override the default hidden behavior on the sphinx rendered scikit-learn.org. See: https://github.com/scikit-learn/scikit-learn/issues/21755 */display: inline-block !important;position: relative;}#sk-container-id-2 div.sk-text-repr-fallback {display: none;}</style><div id=\"sk-container-id-2\" class=\"sk-top-container\"><div class=\"sk-text-repr-fallback\"><pre>LogisticRegression(max_iter=1000, penalty=&#x27;l1&#x27;, random_state=42, solver=&#x27;saga&#x27;)</pre><b>In a Jupyter environment, please rerun this cell to show the HTML representation or trust the notebook. <br />On GitHub, the HTML representation is unable to render, please try loading this page with nbviewer.org.</b></div><div class=\"sk-container\" hidden><div class=\"sk-item\"><div class=\"sk-estimator sk-toggleable\"><input class=\"sk-toggleable__control sk-hidden--visually\" id=\"sk-estimator-id-2\" type=\"checkbox\" checked><label for=\"sk-estimator-id-2\" class=\"sk-toggleable__label sk-toggleable__label-arrow\">LogisticRegression</label><div class=\"sk-toggleable__content\"><pre>LogisticRegression(max_iter=1000, penalty=&#x27;l1&#x27;, random_state=42, solver=&#x27;saga&#x27;)</pre></div></div></div></div></div>"
      ],
      "text/plain": [
       "LogisticRegression(max_iter=1000, penalty='l1', random_state=42, solver='saga')"
      ]
     },
     "execution_count": 42,
     "metadata": {},
     "output_type": "execute_result"
    }
   ],
   "source": [
    "l1_model.fit(X_train, y_train)"
   ]
  },
  {
   "cell_type": "code",
   "execution_count": 43,
   "id": "3e7a0f0a-f615-4bd8-8f06-6f4db5b30b3e",
   "metadata": {
    "tags": []
   },
   "outputs": [],
   "source": [
    "l1_preds = l1_model.predict(X_test)"
   ]
  },
  {
   "cell_type": "code",
   "execution_count": 44,
   "id": "e398d06a-2026-4c98-83f8-256bed795c1f",
   "metadata": {
    "tags": []
   },
   "outputs": [
    {
     "data": {
      "text/plain": [
       "{'accuracy': 0.859451862262825,\n",
       " 'recall': array([0.8677309 , 0.84615385]),\n",
       " 'precision': array([0.90059172, 0.79930796]),\n",
       " 'f1score': array([0.88385598, 0.82206406])}"
      ]
     },
     "execution_count": 44,
     "metadata": {},
     "output_type": "execute_result"
    }
   ],
   "source": [
    "evaluate_metrics(y_test, l1_preds)"
   ]
  },
  {
   "cell_type": "code",
   "execution_count": 45,
   "id": "5fc4ab9c-abc5-4e02-8adf-1e01ef074f66",
   "metadata": {
    "tags": []
   },
   "outputs": [],
   "source": [
    "en_model = LogisticRegression(random_state=42, penalty=penalty[2], multi_class=multi_class, solver=solver[2], max_iter = 1000, l1_ratio=l1_ratio)\n",
    "en_model.fit(X_train, y_train)\n",
    "en_preds = en_model.predict(X_test)"
   ]
  },
  {
   "cell_type": "code",
   "execution_count": 46,
   "id": "e27a6b75-a8e8-486f-bd95-3d59f9281b9e",
   "metadata": {
    "tags": []
   },
   "outputs": [
    {
     "data": {
      "text/plain": [
       "{'accuracy': 0.8383696416022488,\n",
       " 'recall': array([0.8631699, 0.7985348]),\n",
       " 'precision': array([0.87312572, 0.78417266]),\n",
       " 'f1score': array([0.86811927, 0.79128857])}"
      ]
     },
     "execution_count": 46,
     "metadata": {},
     "output_type": "execute_result"
    }
   ],
   "source": [
    "evaluate_metrics(y_test, en_preds)"
   ]
  },
  {
   "cell_type": "code",
   "execution_count": 47,
   "id": "7ebfb24f-4a20-4d5f-92c3-0bdd3bd4a8c2",
   "metadata": {
    "tags": []
   },
   "outputs": [],
   "source": [
    "cf1 = confusion_matrix(y_test, l1_preds, normalize='true')"
   ]
  },
  {
   "cell_type": "code",
   "execution_count": 48,
   "id": "ef2f1b39-08ad-4273-9a26-c15860a02183",
   "metadata": {
    "tags": []
   },
   "outputs": [
    {
     "data": {
      "image/png": "[encoded data removed]",
      "text/plain": [
       "<Figure size 640x480 with 2 Axes>"
      ]
     },
     "metadata": {},
     "output_type": "display_data"
    }
   ],
   "source": [
    "sns.set_context('talk')\n",
    "disp = ConfusionMatrixDisplay(confusion_matrix=cf1,display_labels=l1_model.classes_)\n",
    "disp.plot()\n",
    "plt.show()"
   ]
  },
  {
   "cell_type": "code",
   "execution_count": 49,
   "id": "a45067d0-ddca-47cb-bfe5-e2cf55fe2285",
   "metadata": {
    "tags": []
   },
   "outputs": [
    {
     "data": {
      "image/png": "[encoded data removed]",
      "text/plain": [
       "<Figure size 640x480 with 2 Axes>"
      ]
     },
     "metadata": {},
     "output_type": "display_data"
    }
   ],
   "source": [
    "cf2 = confusion_matrix(y_test, l2_preds, normalize='true')\n",
    "sns.set_context('talk')\n",
    "disp = ConfusionMatrixDisplay(confusion_matrix=cf2,display_labels=l2_model.classes_)\n",
    "disp.plot()\n",
    "plt.show()"
   ]
  },
  {
   "cell_type": "code",
   "execution_count": 50,
   "id": "9e90ac96-6cd0-48c7-87bd-47c21ee23bd1",
   "metadata": {
    "tags": []
   },
   "outputs": [
    {
     "data": {
      "image/png": "[encoded data removed]",
      "text/plain": [
       "<Figure size 640x480 with 2 Axes>"
      ]
     },
     "metadata": {},
     "output_type": "display_data"
    }
   ],
   "source": [
    "cf_en = confusion_matrix(y_test, en_preds, normalize='true')\n",
    "sns.set_context('talk')\n",
    "disp = ConfusionMatrixDisplay(confusion_matrix=cf_en,display_labels=en_model.classes_)\n",
    "disp.plot()\n",
    "plt.show()"
   ]
  },
  {
   "cell_type": "code",
   "execution_count": 51,
   "id": "c6dd0b86-7a6a-4b46-b5e0-60524e6ea886",
   "metadata": {
    "tags": []
   },
   "outputs": [],
   "source": [
    "df_unknown=df_unknown.dropna()"
   ]
  },
  {
   "cell_type": "code",
   "execution_count": 52,
   "id": "62b47a8a-d506-41e9-84d2-24c97803d8b0",
   "metadata": {
    "tags": []
   },
   "outputs": [],
   "source": [
    "df_unknown=pd.get_dummies(df_unknown, columns=['koi_tce_delivname'], dtype=int)"
   ]
  },
  {
   "cell_type": "code",
   "execution_count": 58,
   "id": "f64b1fe2-da81-43b9-ad43-d7517f726ab6",
   "metadata": {
    "tags": []
   },
   "outputs": [
    {
     "data": {
      "text/html": [
       "<div>\n",
       "<style scoped>\n",
       "    .dataframe tbody tr th:only-of-type {\n",
       "        vertical-align: middle;\n",
       "    }\n",
       "\n",
       "    .dataframe tbody tr th {\n",
       "        vertical-align: top;\n",
       "    }\n",
       "\n",
       "    .dataframe thead th {\n",
       "        text-align: right;\n",
       "    }\n",
       "</style>\n",
       "<table border=\"1\" class=\"dataframe\">\n",
       "  <thead>\n",
       "    <tr style=\"text-align: right;\">\n",
       "      <th></th>\n",
       "      <th>koi_period</th>\n",
       "      <th>koi_time0bk</th>\n",
       "      <th>koi_impact</th>\n",
       "      <th>koi_duration</th>\n",
       "      <th>koi_depth</th>\n",
       "      <th>koi_prad</th>\n",
       "      <th>koi_teq</th>\n",
       "      <th>koi_insol</th>\n",
       "      <th>koi_model_snr</th>\n",
       "      <th>koi_tce_plnt_num</th>\n",
       "      <th>koi_steff</th>\n",
       "      <th>koi_slogg</th>\n",
       "      <th>koi_srad</th>\n",
       "      <th>ra</th>\n",
       "      <th>dec</th>\n",
       "      <th>koi_kepmag</th>\n",
       "      <th>koi_tce_delivname_q1_q16_tce</th>\n",
       "      <th>koi_tce_delivname_q1_q17_dr24_tce</th>\n",
       "      <th>koi_tce_delivname_q1_q17_dr25_tce</th>\n",
       "    </tr>\n",
       "  </thead>\n",
       "  <tbody>\n",
       "    <tr>\n",
       "      <th>7582</th>\n",
       "      <td>19.899140</td>\n",
       "      <td>175.850252</td>\n",
       "      <td>0.969</td>\n",
       "      <td>1.7822</td>\n",
       "      <td>10829.0</td>\n",
       "      <td>14.60</td>\n",
       "      <td>638.0</td>\n",
       "      <td>39.30</td>\n",
       "      <td>76.3</td>\n",
       "      <td>1.0</td>\n",
       "      <td>5853.0</td>\n",
       "      <td>4.544</td>\n",
       "      <td>0.868</td>\n",
       "      <td>297.00482</td>\n",
       "      <td>48.134129</td>\n",
       "      <td>15.436</td>\n",
       "      <td>0</td>\n",
       "      <td>0</td>\n",
       "      <td>1</td>\n",
       "    </tr>\n",
       "    <tr>\n",
       "      <th>7583</th>\n",
       "      <td>40.419504</td>\n",
       "      <td>173.564690</td>\n",
       "      <td>0.911</td>\n",
       "      <td>3.3620</td>\n",
       "      <td>6256.0</td>\n",
       "      <td>7.51</td>\n",
       "      <td>467.0</td>\n",
       "      <td>11.29</td>\n",
       "      <td>36.9</td>\n",
       "      <td>1.0</td>\n",
       "      <td>5446.0</td>\n",
       "      <td>4.507</td>\n",
       "      <td>0.781</td>\n",
       "      <td>294.31686</td>\n",
       "      <td>50.080231</td>\n",
       "      <td>15.487</td>\n",
       "      <td>0</td>\n",
       "      <td>0</td>\n",
       "      <td>1</td>\n",
       "    </tr>\n",
       "    <tr>\n",
       "      <th>7584</th>\n",
       "      <td>7.240661</td>\n",
       "      <td>137.755450</td>\n",
       "      <td>1.198</td>\n",
       "      <td>0.5580</td>\n",
       "      <td>556.4</td>\n",
       "      <td>19.45</td>\n",
       "      <td>734.0</td>\n",
       "      <td>68.63</td>\n",
       "      <td>13.7</td>\n",
       "      <td>2.0</td>\n",
       "      <td>5005.0</td>\n",
       "      <td>4.595</td>\n",
       "      <td>0.765</td>\n",
       "      <td>293.83331</td>\n",
       "      <td>50.230350</td>\n",
       "      <td>15.334</td>\n",
       "      <td>0</td>\n",
       "      <td>0</td>\n",
       "      <td>1</td>\n",
       "    </tr>\n",
       "    <tr>\n",
       "      <th>7585</th>\n",
       "      <td>3.435916</td>\n",
       "      <td>132.662400</td>\n",
       "      <td>0.624</td>\n",
       "      <td>3.1330</td>\n",
       "      <td>23.2</td>\n",
       "      <td>0.55</td>\n",
       "      <td>1272.0</td>\n",
       "      <td>617.61</td>\n",
       "      <td>8.7</td>\n",
       "      <td>3.0</td>\n",
       "      <td>5779.0</td>\n",
       "      <td>4.339</td>\n",
       "      <td>1.087</td>\n",
       "      <td>287.88733</td>\n",
       "      <td>46.276241</td>\n",
       "      <td>12.791</td>\n",
       "      <td>0</td>\n",
       "      <td>0</td>\n",
       "      <td>1</td>\n",
       "    </tr>\n",
       "    <tr>\n",
       "      <th>7586</th>\n",
       "      <td>10.181584</td>\n",
       "      <td>177.141891</td>\n",
       "      <td>0.920</td>\n",
       "      <td>3.5089</td>\n",
       "      <td>5741.1</td>\n",
       "      <td>7.73</td>\n",
       "      <td>812.0</td>\n",
       "      <td>102.91</td>\n",
       "      <td>183.6</td>\n",
       "      <td>1.0</td>\n",
       "      <td>5988.0</td>\n",
       "      <td>4.541</td>\n",
       "      <td>0.836</td>\n",
       "      <td>291.28195</td>\n",
       "      <td>38.241669</td>\n",
       "      <td>15.657</td>\n",
       "      <td>0</td>\n",
       "      <td>0</td>\n",
       "      <td>1</td>\n",
       "    </tr>\n",
       "  </tbody>\n",
       "</table>\n",
       "</div>"
      ],
      "text/plain": [
       "      koi_period  koi_time0bk  koi_impact  koi_duration  koi_depth  koi_prad  \\\n",
       "7582   19.899140   175.850252       0.969        1.7822    10829.0     14.60   \n",
       "7583   40.419504   173.564690       0.911        3.3620     6256.0      7.51   \n",
       "7584    7.240661   137.755450       1.198        0.5580      556.4     19.45   \n",
       "7585    3.435916   132.662400       0.624        3.1330       23.2      0.55   \n",
       "7586   10.181584   177.141891       0.920        3.5089     5741.1      7.73   \n",
       "\n",
       "      koi_teq  koi_insol  koi_model_snr  koi_tce_plnt_num  koi_steff  \\\n",
       "7582    638.0      39.30           76.3               1.0     5853.0   \n",
       "7583    467.0      11.29           36.9               1.0     5446.0   \n",
       "7584    734.0      68.63           13.7               2.0     5005.0   \n",
       "7585   1272.0     617.61            8.7               3.0     5779.0   \n",
       "7586    812.0     102.91          183.6               1.0     5988.0   \n",
       "\n",
       "      koi_slogg  koi_srad         ra        dec  koi_kepmag  \\\n",
       "7582      4.544     0.868  297.00482  48.134129      15.436   \n",
       "7583      4.507     0.781  294.31686  50.080231      15.487   \n",
       "7584      4.595     0.765  293.83331  50.230350      15.334   \n",
       "7585      4.339     1.087  287.88733  46.276241      12.791   \n",
       "7586      4.541     0.836  291.28195  38.241669      15.657   \n",
       "\n",
       "      koi_tce_delivname_q1_q16_tce  koi_tce_delivname_q1_q17_dr24_tce  \\\n",
       "7582                             0                                  0   \n",
       "7583                             0                                  0   \n",
       "7584                             0                                  0   \n",
       "7585                             0                                  0   \n",
       "7586                             0                                  0   \n",
       "\n",
       "      koi_tce_delivname_q1_q17_dr25_tce  \n",
       "7582                                  1  \n",
       "7583                                  1  \n",
       "7584                                  1  \n",
       "7585                                  1  \n",
       "7586                                  1  "
      ]
     },
     "execution_count": 58,
     "metadata": {},
     "output_type": "execute_result"
    }
   ],
   "source": [
    "df_unknown.head()"
   ]
  },
  {
   "cell_type": "code",
   "execution_count": 60,
   "id": "729bd361-35e3-4444-a496-5b8e4944e760",
   "metadata": {
    "tags": []
   },
   "outputs": [],
   "source": [
    "#check that columns in known and unknown datasets are the same\n",
    "col_un=df_unknown.columns"
   ]
  },
  {
   "cell_type": "code",
   "execution_count": 61,
   "id": "68110d87-036e-483c-be93-287a8bc9c70d",
   "metadata": {
    "tags": []
   },
   "outputs": [],
   "source": [
    "col=df.drop(columns = ['label']).columns"
   ]
  },
  {
   "cell_type": "code",
   "execution_count": 62,
   "id": "611d46d4-1659-4130-bc84-36099e6ffe18",
   "metadata": {
    "tags": []
   },
   "outputs": [
    {
     "data": {
      "text/plain": [
       "array([ True,  True,  True,  True,  True,  True,  True,  True,  True,\n",
       "        True,  True,  True,  True,  True,  True,  True,  True,  True,\n",
       "        True])"
      ]
     },
     "execution_count": 62,
     "metadata": {},
     "output_type": "execute_result"
    }
   ],
   "source": [
    "col_un==col"
   ]
  },
  {
   "cell_type": "code",
   "execution_count": 63,
   "id": "27a80bb0-ec7b-413b-99a5-37e87a623ea4",
   "metadata": {
    "tags": []
   },
   "outputs": [],
   "source": [
    "df1=df_unknown.dropna()"
   ]
  },
  {
   "cell_type": "code",
   "execution_count": 64,
   "id": "b328e94f-d25a-4f7a-a9a1-66be533d30f7",
   "metadata": {
    "tags": []
   },
   "outputs": [],
   "source": [
    "X_unknown = scaler.fit_transform(df1)"
   ]
  },
  {
   "cell_type": "code",
   "execution_count": 65,
   "id": "a921d6da-750e-4088-b09e-46350c1fd845",
   "metadata": {
    "tags": []
   },
   "outputs": [
    {
     "data": {
      "text/html": [
       "<div>\n",
       "<style scoped>\n",
       "    .dataframe tbody tr th:only-of-type {\n",
       "        vertical-align: middle;\n",
       "    }\n",
       "\n",
       "    .dataframe tbody tr th {\n",
       "        vertical-align: top;\n",
       "    }\n",
       "\n",
       "    .dataframe thead th {\n",
       "        text-align: right;\n",
       "    }\n",
       "</style>\n",
       "<table border=\"1\" class=\"dataframe\">\n",
       "  <thead>\n",
       "    <tr style=\"text-align: right;\">\n",
       "      <th></th>\n",
       "      <th>count</th>\n",
       "      <th>mean</th>\n",
       "      <th>std</th>\n",
       "      <th>min</th>\n",
       "      <th>25%</th>\n",
       "      <th>50%</th>\n",
       "      <th>75%</th>\n",
       "      <th>max</th>\n",
       "    </tr>\n",
       "  </thead>\n",
       "  <tbody>\n",
       "    <tr>\n",
       "      <th>0</th>\n",
       "      <td>1833.0</td>\n",
       "      <td>0.117563</td>\n",
       "      <td>0.183185</td>\n",
       "      <td>0.0</td>\n",
       "      <td>0.006977</td>\n",
       "      <td>0.022253</td>\n",
       "      <td>0.136625</td>\n",
       "      <td>1.0</td>\n",
       "    </tr>\n",
       "    <tr>\n",
       "      <th>1</th>\n",
       "      <td>1833.0</td>\n",
       "      <td>0.071430</td>\n",
       "      <td>0.104846</td>\n",
       "      <td>0.0</td>\n",
       "      <td>0.013346</td>\n",
       "      <td>0.022653</td>\n",
       "      <td>0.069876</td>\n",
       "      <td>1.0</td>\n",
       "    </tr>\n",
       "    <tr>\n",
       "      <th>2</th>\n",
       "      <td>1833.0</td>\n",
       "      <td>0.007635</td>\n",
       "      <td>0.045619</td>\n",
       "      <td>0.0</td>\n",
       "      <td>0.001600</td>\n",
       "      <td>0.004194</td>\n",
       "      <td>0.008251</td>\n",
       "      <td>1.0</td>\n",
       "    </tr>\n",
       "    <tr>\n",
       "      <th>3</th>\n",
       "      <td>1833.0</td>\n",
       "      <td>0.117557</td>\n",
       "      <td>0.108268</td>\n",
       "      <td>0.0</td>\n",
       "      <td>0.049099</td>\n",
       "      <td>0.080455</td>\n",
       "      <td>0.140638</td>\n",
       "      <td>1.0</td>\n",
       "    </tr>\n",
       "    <tr>\n",
       "      <th>4</th>\n",
       "      <td>1833.0</td>\n",
       "      <td>0.003913</td>\n",
       "      <td>0.026683</td>\n",
       "      <td>0.0</td>\n",
       "      <td>0.000326</td>\n",
       "      <td>0.000690</td>\n",
       "      <td>0.001576</td>\n",
       "      <td>1.0</td>\n",
       "    </tr>\n",
       "    <tr>\n",
       "      <th>5</th>\n",
       "      <td>1833.0</td>\n",
       "      <td>0.000915</td>\n",
       "      <td>0.024467</td>\n",
       "      <td>0.0</td>\n",
       "      <td>0.000009</td>\n",
       "      <td>0.000014</td>\n",
       "      <td>0.000026</td>\n",
       "      <td>1.0</td>\n",
       "    </tr>\n",
       "    <tr>\n",
       "      <th>6</th>\n",
       "      <td>1833.0</td>\n",
       "      <td>0.117269</td>\n",
       "      <td>0.094267</td>\n",
       "      <td>0.0</td>\n",
       "      <td>0.051526</td>\n",
       "      <td>0.096753</td>\n",
       "      <td>0.154741</td>\n",
       "      <td>1.0</td>\n",
       "    </tr>\n",
       "    <tr>\n",
       "      <th>7</th>\n",
       "      <td>1833.0</td>\n",
       "      <td>0.003538</td>\n",
       "      <td>0.035218</td>\n",
       "      <td>0.0</td>\n",
       "      <td>0.000019</td>\n",
       "      <td>0.000147</td>\n",
       "      <td>0.000784</td>\n",
       "      <td>1.0</td>\n",
       "    </tr>\n",
       "    <tr>\n",
       "      <th>8</th>\n",
       "      <td>1833.0</td>\n",
       "      <td>0.021146</td>\n",
       "      <td>0.064494</td>\n",
       "      <td>0.0</td>\n",
       "      <td>0.006172</td>\n",
       "      <td>0.007629</td>\n",
       "      <td>0.010472</td>\n",
       "      <td>1.0</td>\n",
       "    </tr>\n",
       "    <tr>\n",
       "      <th>9</th>\n",
       "      <td>1833.0</td>\n",
       "      <td>0.050191</td>\n",
       "      <td>0.123614</td>\n",
       "      <td>0.0</td>\n",
       "      <td>0.000000</td>\n",
       "      <td>0.000000</td>\n",
       "      <td>0.000000</td>\n",
       "      <td>1.0</td>\n",
       "    </tr>\n",
       "    <tr>\n",
       "      <th>10</th>\n",
       "      <td>1833.0</td>\n",
       "      <td>0.313332</td>\n",
       "      <td>0.092240</td>\n",
       "      <td>0.0</td>\n",
       "      <td>0.263310</td>\n",
       "      <td>0.323255</td>\n",
       "      <td>0.369660</td>\n",
       "      <td>1.0</td>\n",
       "    </tr>\n",
       "    <tr>\n",
       "      <th>11</th>\n",
       "      <td>1833.0</td>\n",
       "      <td>0.798201</td>\n",
       "      <td>0.079468</td>\n",
       "      <td>0.0</td>\n",
       "      <td>0.780571</td>\n",
       "      <td>0.823619</td>\n",
       "      <td>0.843238</td>\n",
       "      <td>1.0</td>\n",
       "    </tr>\n",
       "    <tr>\n",
       "      <th>12</th>\n",
       "      <td>1833.0</td>\n",
       "      <td>0.010077</td>\n",
       "      <td>0.036341</td>\n",
       "      <td>0.0</td>\n",
       "      <td>0.004704</td>\n",
       "      <td>0.005868</td>\n",
       "      <td>0.008053</td>\n",
       "      <td>1.0</td>\n",
       "    </tr>\n",
       "    <tr>\n",
       "      <th>13</th>\n",
       "      <td>1833.0</td>\n",
       "      <td>0.537631</td>\n",
       "      <td>0.225011</td>\n",
       "      <td>0.0</td>\n",
       "      <td>0.366596</td>\n",
       "      <td>0.545315</td>\n",
       "      <td>0.721814</td>\n",
       "      <td>1.0</td>\n",
       "    </tr>\n",
       "    <tr>\n",
       "      <th>14</th>\n",
       "      <td>1833.0</td>\n",
       "      <td>0.471838</td>\n",
       "      <td>0.237823</td>\n",
       "      <td>0.0</td>\n",
       "      <td>0.280002</td>\n",
       "      <td>0.469030</td>\n",
       "      <td>0.654274</td>\n",
       "      <td>1.0</td>\n",
       "    </tr>\n",
       "    <tr>\n",
       "      <th>15</th>\n",
       "      <td>1833.0</td>\n",
       "      <td>0.707140</td>\n",
       "      <td>0.126760</td>\n",
       "      <td>0.0</td>\n",
       "      <td>0.631898</td>\n",
       "      <td>0.735820</td>\n",
       "      <td>0.807249</td>\n",
       "      <td>1.0</td>\n",
       "    </tr>\n",
       "    <tr>\n",
       "      <th>16</th>\n",
       "      <td>1833.0</td>\n",
       "      <td>0.183852</td>\n",
       "      <td>0.387469</td>\n",
       "      <td>0.0</td>\n",
       "      <td>0.000000</td>\n",
       "      <td>0.000000</td>\n",
       "      <td>0.000000</td>\n",
       "      <td>1.0</td>\n",
       "    </tr>\n",
       "    <tr>\n",
       "      <th>17</th>\n",
       "      <td>1833.0</td>\n",
       "      <td>0.066012</td>\n",
       "      <td>0.248371</td>\n",
       "      <td>0.0</td>\n",
       "      <td>0.000000</td>\n",
       "      <td>0.000000</td>\n",
       "      <td>0.000000</td>\n",
       "      <td>1.0</td>\n",
       "    </tr>\n",
       "    <tr>\n",
       "      <th>18</th>\n",
       "      <td>1833.0</td>\n",
       "      <td>0.750136</td>\n",
       "      <td>0.433052</td>\n",
       "      <td>0.0</td>\n",
       "      <td>1.000000</td>\n",
       "      <td>1.000000</td>\n",
       "      <td>1.000000</td>\n",
       "      <td>1.0</td>\n",
       "    </tr>\n",
       "  </tbody>\n",
       "</table>\n",
       "</div>"
      ],
      "text/plain": [
       "     count      mean       std  min       25%       50%       75%  max\n",
       "0   1833.0  0.117563  0.183185  0.0  0.006977  0.022253  0.136625  1.0\n",
       "1   1833.0  0.071430  0.104846  0.0  0.013346  0.022653  0.069876  1.0\n",
       "2   1833.0  0.007635  0.045619  0.0  0.001600  0.004194  0.008251  1.0\n",
       "3   1833.0  0.117557  0.108268  0.0  0.049099  0.080455  0.140638  1.0\n",
       "4   1833.0  0.003913  0.026683  0.0  0.000326  0.000690  0.001576  1.0\n",
       "5   1833.0  0.000915  0.024467  0.0  0.000009  0.000014  0.000026  1.0\n",
       "6   1833.0  0.117269  0.094267  0.0  0.051526  0.096753  0.154741  1.0\n",
       "7   1833.0  0.003538  0.035218  0.0  0.000019  0.000147  0.000784  1.0\n",
       "8   1833.0  0.021146  0.064494  0.0  0.006172  0.007629  0.010472  1.0\n",
       "9   1833.0  0.050191  0.123614  0.0  0.000000  0.000000  0.000000  1.0\n",
       "10  1833.0  0.313332  0.092240  0.0  0.263310  0.323255  0.369660  1.0\n",
       "11  1833.0  0.798201  0.079468  0.0  0.780571  0.823619  0.843238  1.0\n",
       "12  1833.0  0.010077  0.036341  0.0  0.004704  0.005868  0.008053  1.0\n",
       "13  1833.0  0.537631  0.225011  0.0  0.366596  0.545315  0.721814  1.0\n",
       "14  1833.0  0.471838  0.237823  0.0  0.280002  0.469030  0.654274  1.0\n",
       "15  1833.0  0.707140  0.126760  0.0  0.631898  0.735820  0.807249  1.0\n",
       "16  1833.0  0.183852  0.387469  0.0  0.000000  0.000000  0.000000  1.0\n",
       "17  1833.0  0.066012  0.248371  0.0  0.000000  0.000000  0.000000  1.0\n",
       "18  1833.0  0.750136  0.433052  0.0  1.000000  1.000000  1.000000  1.0"
      ]
     },
     "execution_count": 65,
     "metadata": {},
     "output_type": "execute_result"
    }
   ],
   "source": [
    "pd.DataFrame(X_unknown).describe().T"
   ]
  },
  {
   "cell_type": "code",
   "execution_count": 66,
   "id": "2955f023-b4d2-4050-acc9-bd360d79a44c",
   "metadata": {
    "tags": []
   },
   "outputs": [],
   "source": [
    "y_unknown_l1=l1_model.predict(X_unknown)"
   ]
  },
  {
   "cell_type": "code",
   "execution_count": 67,
   "id": "bebea4c6-6a8f-4283-8e3d-10c987eb3235",
   "metadata": {
    "tags": []
   },
   "outputs": [
    {
     "data": {
      "text/plain": [
       "0    1794\n",
       "1      39\n",
       "Name: count, dtype: int64"
      ]
     },
     "execution_count": 67,
     "metadata": {},
     "output_type": "execute_result"
    }
   ],
   "source": [
    "pd.DataFrame(y_unknown_l1).value_counts()"
   ]
  },
  {
   "cell_type": "code",
   "execution_count": 68,
   "id": "0ca2edae-d145-47d9-a620-290f4bb3d4b0",
   "metadata": {
    "tags": []
   },
   "outputs": [
    {
     "data": {
      "text/plain": [
       "(1833,)"
      ]
     },
     "execution_count": 68,
     "metadata": {},
     "output_type": "execute_result"
    }
   ],
   "source": [
    "y_unknown_l1.shape"
   ]
  },
  {
   "cell_type": "markdown",
   "id": "89c76408-f6d0-4dd6-bdb7-bfec1b10aae9",
   "metadata": {},
   "source": [
    "## Interpret logistic regression models"
   ]
  },
  {
   "cell_type": "code",
   "execution_count": 69,
   "id": "30a8d2bd-f8c2-4653-9ce4-dca18d30a556",
   "metadata": {
    "tags": []
   },
   "outputs": [],
   "source": [
    "columns=df.drop(columns = ['label']).columns.to_numpy()"
   ]
  },
  {
   "cell_type": "code",
   "execution_count": 70,
   "id": "4ddf02a8-ac28-43ce-bfac-8667a8833820",
   "metadata": {
    "tags": []
   },
   "outputs": [
    {
     "data": {
      "text/plain": [
       "array(['koi_period', 'koi_time0bk', 'koi_impact', 'koi_duration',\n",
       "       'koi_depth', 'koi_prad', 'koi_teq', 'koi_insol', 'koi_model_snr',\n",
       "       'koi_tce_plnt_num', 'koi_steff', 'koi_slogg', 'koi_srad', 'ra',\n",
       "       'dec', 'koi_kepmag', 'koi_tce_delivname_q1_q16_tce',\n",
       "       'koi_tce_delivname_q1_q17_dr24_tce',\n",
       "       'koi_tce_delivname_q1_q17_dr25_tce'], dtype=object)"
      ]
     },
     "execution_count": 70,
     "metadata": {},
     "output_type": "execute_result"
    }
   ],
   "source": [
    "columns"
   ]
  },
  {
   "cell_type": "code",
   "execution_count": 71,
   "id": "6ab62349-9cea-4cb8-98f5-55d1db4ee84d",
   "metadata": {
    "tags": []
   },
   "outputs": [
    {
     "data": {
      "text/plain": [
       "array([[-10.77411351,   0.        , -88.16182304, -15.88269433,\n",
       "        -73.63510257,   0.        , -40.02361996,   0.        ,\n",
       "          0.        ,   4.95542572,   0.88962905,  -2.56999975,\n",
       "          0.        ,  -1.53437791,   0.97938526,  -2.24812098,\n",
       "         -1.46777573,   0.        ,   3.92881447]])"
      ]
     },
     "execution_count": 71,
     "metadata": {},
     "output_type": "execute_result"
    }
   ],
   "source": [
    "l1_model.coef_"
   ]
  },
  {
   "cell_type": "code",
   "execution_count": 72,
   "id": "d48955ad-8ae0-4b78-9478-73ef3aaef960",
   "metadata": {
    "tags": []
   },
   "outputs": [
    {
     "name": "stdout",
     "output_type": "stream",
     "text": [
      "[(-10.77411350562987, 'koi_period'), (0.0, 'koi_time0bk'), (-88.16182303789579, 'koi_impact'), (-15.882694330212002, 'koi_duration'), (-73.63510257042564, 'koi_depth'), (0.0, 'koi_prad'), (-40.023619963255825, 'koi_teq'), (0.0, 'koi_insol'), (0.0, 'koi_model_snr'), (4.955425717936619, 'koi_tce_plnt_num'), (0.8896290470096685, 'koi_steff'), (-2.569999745229492, 'koi_slogg'), (0.0, 'koi_srad'), (-1.5343779145448018, 'ra'), (0.9793852625333497, 'dec'), (-2.2481209841932244, 'koi_kepmag'), (-1.4677757283702646, 'koi_tce_delivname_q1_q16_tce'), (0.0, 'koi_tce_delivname_q1_q17_dr24_tce'), (3.928814465602193, 'koi_tce_delivname_q1_q17_dr25_tce')]\n"
     ]
    }
   ],
   "source": [
    "print(list(zip(l1_model.coef_[0, :], columns)))"
   ]
  },
  {
   "cell_type": "code",
   "execution_count": 73,
   "id": "15f77fcd-5f3d-418a-97e4-fed5db91bb32",
   "metadata": {
    "tags": []
   },
   "outputs": [],
   "source": [
    "# Extract and sort feature coefficients\n",
    "def get_feature_coefs(regression_model, label_index, columns):\n",
    "    coef_dict = {}\n",
    "    for coef, feat in zip(regression_model.coef_[label_index, :], columns):\n",
    "        if abs(coef) >= 0.01:\n",
    "            coef_dict[feat] = coef\n",
    "    # Sort coefficients\n",
    "    coef_dict = {k: v for k, v in sorted(coef_dict.items(), key=lambda item: item[1])}\n",
    "    return coef_dict\n",
    "\n",
    "# Generate bar colors based on if value is negative or positive\n",
    "def get_bar_colors(values):\n",
    "    color_vals = []\n",
    "    for val in values:\n",
    "        if val <= 0:\n",
    "            color_vals.append('r')\n",
    "        else:\n",
    "            color_vals.append('g')\n",
    "    return color_vals\n",
    "\n",
    "# Visualize coefficients\n",
    "def visualize_coefs(coef_dict):\n",
    "    features = list(coef_dict.keys())\n",
    "    values = list(coef_dict.values())\n",
    "    y_pos = np.arange(len(features))\n",
    "    color_vals = get_bar_colors(values)\n",
    "    plt.rcdefaults()\n",
    "    fig, ax = plt.subplots()\n",
    "    ax.barh(y_pos, values, align='center', color=color_vals)\n",
    "    ax.set_yticks(y_pos)\n",
    "    ax.set_yticklabels(features)\n",
    "    # labels read top-to-bottom\n",
    "    ax.invert_yaxis()  \n",
    "    ax.set_xlabel('Feature Coefficients')\n",
    "    ax.set_title('')\n",
    "    plt.show()"
   ]
  },
  {
   "cell_type": "code",
   "execution_count": 74,
   "id": "7ea59402-2faf-43be-86c4-8a26c1201e13",
   "metadata": {
    "tags": []
   },
   "outputs": [],
   "source": [
    "coef_dict = get_feature_coefs(l1_model, 0, columns)"
   ]
  },
  {
   "cell_type": "code",
   "execution_count": 75,
   "id": "f367594c-a35a-49fd-89da-bec8c67c6cd5",
   "metadata": {
    "tags": []
   },
   "outputs": [
    {
     "data": {
      "image/png": "[encoded data removed]",
      "text/plain": [
       "<Figure size 640x480 with 1 Axes>"
      ]
     },
     "metadata": {},
     "output_type": "display_data"
    }
   ],
   "source": [
    "visualize_coefs(coef_dict)"
   ]
  },
  {
   "cell_type": "markdown",
   "id": "18918f36-c4be-4cda-a617-93452619c29d",
   "metadata": {},
   "source": [
    "## KNN"
   ]
  },
  {
   "cell_type": "code",
   "execution_count": 76,
   "id": "ec54f45e-037e-4067-881a-b7a317fc021d",
   "metadata": {
    "tags": []
   },
   "outputs": [],
   "source": [
    "from sklearn.neighbors import KNeighborsClassifier"
   ]
  },
  {
   "cell_type": "code",
   "execution_count": 77,
   "id": "2b75392c-b88a-440a-9a33-03fed58dfcba",
   "metadata": {
    "tags": []
   },
   "outputs": [],
   "source": [
    "max_k = 40\n",
    "f1_scores = list()\n",
    "error_rates = list() # 1-accuracy\n",
    "\n",
    "for k in range(1, max_k):\n",
    "    \n",
    "    knn = KNeighborsClassifier(n_neighbors=k, weights='distance')\n",
    "    knn = knn.fit(X_train, y_train)\n",
    "    \n",
    "    y_pred = knn.predict(X_test)\n",
    "    f1 = f1_score(y_pred, y_test)\n",
    "    f1_scores.append((k, round(f1_score(y_test, y_pred), 4)))\n",
    "    error = 1-round(accuracy_score(y_test, y_pred), 4)\n",
    "    error_rates.append((k, error))\n",
    "    \n",
    "f1_results = pd.DataFrame(f1_scores, columns=['K', 'F1 Score'])\n",
    "error_results = pd.DataFrame(error_rates, columns=['K', 'Error Rate'])"
   ]
  },
  {
   "cell_type": "code",
   "execution_count": 78,
   "id": "aac80047-0499-4a6f-86e5-c798217b4ea2",
   "metadata": {
    "tags": []
   },
   "outputs": [
    {
     "data": {
      "text/plain": [
       "<Figure size 1920x1440 with 0 Axes>"
      ]
     },
     "metadata": {},
     "output_type": "display_data"
    },
    {
     "data": {
      "image/png": "[encoded data removed]",
      "text/plain": [
       "<Figure size 800x800 with 1 Axes>"
      ]
     },
     "metadata": {},
     "output_type": "display_data"
    }
   ],
   "source": [
    "# Plot F1 results\n",
    "sns.set_context('talk')\n",
    "sns.set_style('ticks')\n",
    "\n",
    "plt.figure(dpi=300)\n",
    "ax = f1_results.set_index('K').plot(figsize=(8, 8), linewidth=3)\n",
    "ax.set(xlabel='K', ylabel='F1 Score')\n",
    "ax.set_xticks(range(1, max_k, 2));\n",
    "plt.title('KNN F1 Score')\n",
    "plt.savefig('knn_f1.png')"
   ]
  },
  {
   "cell_type": "code",
   "execution_count": 79,
   "id": "a2c38b28-d5c7-4494-b5d1-31ee1de2e014",
   "metadata": {
    "tags": []
   },
   "outputs": [
    {
     "data": {
      "text/plain": [
       "<Figure size 1920x1440 with 0 Axes>"
      ]
     },
     "metadata": {},
     "output_type": "display_data"
    },
    {
     "data": {
      "image/png": "[encoded data removed]",
      "text/plain": [
       "<Figure size 800x800 with 1 Axes>"
      ]
     },
     "metadata": {},
     "output_type": "display_data"
    }
   ],
   "source": [
    "# Plot Accuracy (Error Rate) results\n",
    "sns.set_context('talk')\n",
    "sns.set_style('ticks')\n",
    "\n",
    "plt.figure(dpi=300)\n",
    "ax = error_results.set_index('K').plot(figsize=(8, 8), linewidth=3)\n",
    "ax.set(xlabel='K', ylabel='Error Rate')\n",
    "ax.set_xticks(range(1, max_k, 2))\n",
    "plt.title('KNN Elbow Curve')\n",
    "plt.savefig('knn_elbow.png')\n",
    "### END SOLUTION"
   ]
  },
  {
   "cell_type": "code",
   "execution_count": 80,
   "id": "db8dad86-cfbc-4525-9492-903e4b875d07",
   "metadata": {
    "tags": []
   },
   "outputs": [],
   "source": [
    "# Estimate KNN model and report outcomes\n",
    "knn = KNeighborsClassifier(n_neighbors=32)\n",
    "knn = knn.fit(X_train, y_train)\n",
    "knn_preds = knn.predict(X_test) #without values throws error message for new scikit.learn versions\n"
   ]
  },
  {
   "cell_type": "code",
   "execution_count": 81,
   "id": "83199096-1ea1-4de6-9d39-0724023a8f91",
   "metadata": {
    "tags": []
   },
   "outputs": [
    {
     "name": "stdout",
     "output_type": "stream",
     "text": [
      "              precision    recall  f1-score   support\n",
      "\n",
      "           0       0.83      0.81      0.82       877\n",
      "           1       0.70      0.74      0.72       546\n",
      "\n",
      "    accuracy                           0.78      1423\n",
      "   macro avg       0.77      0.77      0.77      1423\n",
      "weighted avg       0.78      0.78      0.78      1423\n",
      "\n",
      "Accuracy score:  0.78\n",
      "F1 Score:  0.72\n"
     ]
    }
   ],
   "source": [
    "# Preciision, recall, f-score from the multi-class support function\n",
    "print(classification_report(y_test, knn_preds))\n",
    "print('Accuracy score: ', round(accuracy_score(y_test, knn_preds), 2))\n",
    "print('F1 Score: ', round(f1_score(y_test, knn_preds), 2))"
   ]
  },
  {
   "cell_type": "code",
   "execution_count": 82,
   "id": "e6260a66-6f16-42b4-8721-e0f754c1a8b5",
   "metadata": {
    "tags": []
   },
   "outputs": [
    {
     "data": {
      "text/plain": [
       "Text(57.08333333333333, 0.5, 'Ground Truth')"
      ]
     },
     "execution_count": 82,
     "metadata": {},
     "output_type": "execute_result"
    },
    {
     "data": {
      "image/png": "[encoded data removed]",
      "text/plain": [
       "<Figure size 800x800 with 2 Axes>"
      ]
     },
     "metadata": {},
     "output_type": "display_data"
    }
   ],
   "source": [
    "confusion_matrix(y_test, y_pred)\n",
    "# Plot confusion matrix\n",
    "sns.set_palette(sns.color_palette())\n",
    "_, ax = plt.subplots(figsize=(8,8))\n",
    "ax = sns.heatmap(confusion_matrix(y_test, knn_preds), annot=True, fmt='d', annot_kws={\"size\": 40, \"weight\": \"bold\"})  \n",
    "labels = ['not exoplanet', 'exoplanet']\n",
    "ax.set_xticklabels(labels, fontsize=25);\n",
    "ax.set_yticklabels(labels, fontsize=25);\n",
    "ax.set_xlabel('Prediction', fontsize=30);\n",
    "ax.set_ylabel('Ground Truth', fontsize=30)\n",
    "### END SOLUTION"
   ]
  },
  {
   "cell_type": "code",
   "execution_count": 83,
   "id": "843a934b-3c7c-44a4-9310-f692b654156a",
   "metadata": {
    "tags": []
   },
   "outputs": [],
   "source": [
    "y_unknown_knn = knn.predict(X_unknown)"
   ]
  },
  {
   "cell_type": "code",
   "execution_count": 84,
   "id": "907e413f-a768-4393-9748-9cf83bbbe734",
   "metadata": {
    "tags": []
   },
   "outputs": [
    {
     "data": {
      "text/plain": [
       "0    1528\n",
       "1     305\n",
       "Name: count, dtype: int64"
      ]
     },
     "execution_count": 84,
     "metadata": {},
     "output_type": "execute_result"
    }
   ],
   "source": [
    "pd.DataFrame(y_unknown_knn).value_counts()"
   ]
  },
  {
   "cell_type": "markdown",
   "id": "60e76b28-5bef-4b0f-b981-4cab43814393",
   "metadata": {},
   "source": [
    "## Decision Tree"
   ]
  },
  {
   "cell_type": "code",
   "execution_count": 85,
   "id": "70f7e20b-4a65-47b6-8db9-0d54025fa0e2",
   "metadata": {
    "tags": []
   },
   "outputs": [],
   "source": [
    "from sklearn.tree import DecisionTreeClassifier\n",
    "\n",
    "dt = DecisionTreeClassifier(random_state=42)\n",
    "dt = dt.fit(X_train, y_train)"
   ]
  },
  {
   "cell_type": "code",
   "execution_count": 86,
   "id": "1bc31b6c-4c99-49f3-a3c4-3a8474b056f2",
   "metadata": {
    "tags": []
   },
   "outputs": [
    {
     "data": {
      "text/plain": [
       "(807, 25)"
      ]
     },
     "execution_count": 86,
     "metadata": {},
     "output_type": "execute_result"
    }
   ],
   "source": [
    "#no pruning tree\n",
    "dt.tree_.node_count, dt.tree_.max_depth"
   ]
  },
  {
   "cell_type": "code",
   "execution_count": 87,
   "id": "3fec2dc5-71a9-4c41-9f96-f2a8eab241c8",
   "metadata": {
    "tags": []
   },
   "outputs": [],
   "source": [
    "def measure_error(y_true, y_pred, label):\n",
    "    return pd.Series({'accuracy':accuracy_score(y_true, y_pred),\n",
    "                      'precision': precision_score(y_true, y_pred),\n",
    "                      'recall': recall_score(y_true, y_pred),\n",
    "                      'f1': f1_score(y_true, y_pred)},\n",
    "                      name=label)\n",
    "y_train_pred = dt.predict(X_train)\n",
    "y_test_pred = dt.predict(X_test)\n"
   ]
  },
  {
   "cell_type": "code",
   "execution_count": 88,
   "id": "4c561030-07b6-4e7f-a161-d4b5d35cd04e",
   "metadata": {
    "tags": []
   },
   "outputs": [
    {
     "data": {
      "text/html": [
       "<div>\n",
       "<style scoped>\n",
       "    .dataframe tbody tr th:only-of-type {\n",
       "        vertical-align: middle;\n",
       "    }\n",
       "\n",
       "    .dataframe tbody tr th {\n",
       "        vertical-align: top;\n",
       "    }\n",
       "\n",
       "    .dataframe thead th {\n",
       "        text-align: right;\n",
       "    }\n",
       "</style>\n",
       "<table border=\"1\" class=\"dataframe\">\n",
       "  <thead>\n",
       "    <tr style=\"text-align: right;\">\n",
       "      <th></th>\n",
       "      <th>train</th>\n",
       "      <th>test</th>\n",
       "    </tr>\n",
       "  </thead>\n",
       "  <tbody>\n",
       "    <tr>\n",
       "      <th>accuracy</th>\n",
       "      <td>1.0</td>\n",
       "      <td>0.888264</td>\n",
       "    </tr>\n",
       "    <tr>\n",
       "      <th>precision</th>\n",
       "      <td>1.0</td>\n",
       "      <td>0.867173</td>\n",
       "    </tr>\n",
       "    <tr>\n",
       "      <th>recall</th>\n",
       "      <td>1.0</td>\n",
       "      <td>0.836996</td>\n",
       "    </tr>\n",
       "    <tr>\n",
       "      <th>f1</th>\n",
       "      <td>1.0</td>\n",
       "      <td>0.851817</td>\n",
       "    </tr>\n",
       "  </tbody>\n",
       "</table>\n",
       "</div>"
      ],
      "text/plain": [
       "           train      test\n",
       "accuracy     1.0  0.888264\n",
       "precision    1.0  0.867173\n",
       "recall       1.0  0.836996\n",
       "f1           1.0  0.851817"
      ]
     },
     "execution_count": 88,
     "metadata": {},
     "output_type": "execute_result"
    }
   ],
   "source": [
    "\n",
    "train_test_full_error = pd.concat([measure_error(y_train, y_train_pred, 'train'),\n",
    "                              measure_error(y_test, y_test_pred, 'test')],\n",
    "                              axis=1)\n",
    "\n",
    "train_test_full_error"
   ]
  },
  {
   "cell_type": "markdown",
   "id": "aa4adfc5-43d9-4156-917c-d4ee18929e79",
   "metadata": {},
   "source": [
    "Overfitted tree since all the parameters are 1 in training."
   ]
  },
  {
   "cell_type": "code",
   "execution_count": 89,
   "id": "66375a33-6bc0-4a6e-a91e-beb3e5697ce7",
   "metadata": {
    "tags": []
   },
   "outputs": [],
   "source": [
    "from sklearn.model_selection import GridSearchCV\n",
    "\n",
    "param_grid = {'max_depth':range(1, dt.tree_.max_depth+1, 2),\n",
    "              'max_features': range(1, len(dt.feature_importances_)+1)}\n",
    "\n",
    "GR = GridSearchCV(DecisionTreeClassifier(random_state=42),\n",
    "                  param_grid=param_grid,\n",
    "                  scoring='accuracy',\n",
    "                  n_jobs=-1)\n",
    "\n",
    "GR = GR.fit(X_train, y_train)"
   ]
  },
  {
   "cell_type": "code",
   "execution_count": 90,
   "id": "82ceb794-8558-4209-acb9-1b6c41436899",
   "metadata": {
    "tags": []
   },
   "outputs": [
    {
     "data": {
      "text/plain": [
       "(423, 11)"
      ]
     },
     "execution_count": 90,
     "metadata": {},
     "output_type": "execute_result"
    }
   ],
   "source": [
    "GR.best_estimator_.tree_.node_count, GR.best_estimator_.tree_.max_depth"
   ]
  },
  {
   "cell_type": "code",
   "execution_count": 91,
   "id": "1f849be4-af7a-470f-a0bb-ae1f474f20c2",
   "metadata": {
    "tags": []
   },
   "outputs": [],
   "source": [
    "y_train_pred_gr = GR.predict(X_train)\n",
    "y_test_pred_gr = GR.predict(X_test)\n",
    "\n",
    "train_test_gr_error = pd.concat([measure_error(y_train, y_train_pred_gr, 'train'),\n",
    "                                 measure_error(y_test, y_test_pred_gr, 'test')],\n",
    "                                axis=1)"
   ]
  },
  {
   "cell_type": "code",
   "execution_count": 92,
   "id": "4aa6d570-324f-426f-ab3b-86602e00f68a",
   "metadata": {
    "tags": []
   },
   "outputs": [
    {
     "data": {
      "text/html": [
       "<div>\n",
       "<style scoped>\n",
       "    .dataframe tbody tr th:only-of-type {\n",
       "        vertical-align: middle;\n",
       "    }\n",
       "\n",
       "    .dataframe tbody tr th {\n",
       "        vertical-align: top;\n",
       "    }\n",
       "\n",
       "    .dataframe thead th {\n",
       "        text-align: right;\n",
       "    }\n",
       "</style>\n",
       "<table border=\"1\" class=\"dataframe\">\n",
       "  <thead>\n",
       "    <tr style=\"text-align: right;\">\n",
       "      <th></th>\n",
       "      <th>train</th>\n",
       "      <th>test</th>\n",
       "    </tr>\n",
       "  </thead>\n",
       "  <tbody>\n",
       "    <tr>\n",
       "      <th>accuracy</th>\n",
       "      <td>0.956056</td>\n",
       "      <td>0.888967</td>\n",
       "    </tr>\n",
       "    <tr>\n",
       "      <th>precision</th>\n",
       "      <td>0.926399</td>\n",
       "      <td>0.840351</td>\n",
       "    </tr>\n",
       "    <tr>\n",
       "      <th>recall</th>\n",
       "      <td>0.962014</td>\n",
       "      <td>0.877289</td>\n",
       "    </tr>\n",
       "    <tr>\n",
       "      <th>f1</th>\n",
       "      <td>0.943871</td>\n",
       "      <td>0.858423</td>\n",
       "    </tr>\n",
       "  </tbody>\n",
       "</table>\n",
       "</div>"
      ],
      "text/plain": [
       "              train      test\n",
       "accuracy   0.956056  0.888967\n",
       "precision  0.926399  0.840351\n",
       "recall     0.962014  0.877289\n",
       "f1         0.943871  0.858423"
      ]
     },
     "execution_count": 92,
     "metadata": {},
     "output_type": "execute_result"
    }
   ],
   "source": [
    "train_test_gr_error"
   ]
  },
  {
   "cell_type": "code",
   "execution_count": 93,
   "id": "18dc3ab5-0c8a-45dd-af8b-c47ad39e90f9",
   "metadata": {
    "tags": []
   },
   "outputs": [],
   "source": [
    "y_unknown_dt=GR.predict(X_unknown)"
   ]
  },
  {
   "cell_type": "code",
   "execution_count": 94,
   "id": "2d23e842-5186-4a44-8e15-6d69c04aeb20",
   "metadata": {
    "tags": []
   },
   "outputs": [
    {
     "data": {
      "text/plain": [
       "0    1158\n",
       "1     675\n",
       "Name: count, dtype: int64"
      ]
     },
     "execution_count": 94,
     "metadata": {},
     "output_type": "execute_result"
    }
   ],
   "source": [
    "pd.DataFrame(y_unknown_dt).value_counts()"
   ]
  },
  {
   "cell_type": "code",
   "execution_count": 95,
   "id": "9d57bd81-129f-4e8a-801c-1bcfaffa30eb",
   "metadata": {
    "tags": []
   },
   "outputs": [
    {
     "data": {
      "text/plain": [
       "(1833, 19)"
      ]
     },
     "execution_count": 95,
     "metadata": {},
     "output_type": "execute_result"
    }
   ],
   "source": [
    "df_unknown.shape"
   ]
  },
  {
   "cell_type": "code",
   "execution_count": 96,
   "id": "74dc2a9f-d36f-41f1-ab11-fc32eb1bed8f",
   "metadata": {
    "tags": []
   },
   "outputs": [],
   "source": [
    "df_unknown['logreg_l1']=y_unknown_l1\n",
    "df_unknown['knn']=y_unknown_knn\n",
    "df_unknown['dt']=y_unknown_dt"
   ]
  },
  {
   "cell_type": "code",
   "execution_count": 97,
   "id": "98a04119-91ad-4f7a-b77c-eac3b5964c28",
   "metadata": {
    "tags": []
   },
   "outputs": [
    {
     "data": {
      "text/html": [
       "<div>\n",
       "<style scoped>\n",
       "    .dataframe tbody tr th:only-of-type {\n",
       "        vertical-align: middle;\n",
       "    }\n",
       "\n",
       "    .dataframe tbody tr th {\n",
       "        vertical-align: top;\n",
       "    }\n",
       "\n",
       "    .dataframe thead th {\n",
       "        text-align: right;\n",
       "    }\n",
       "</style>\n",
       "<table border=\"1\" class=\"dataframe\">\n",
       "  <thead>\n",
       "    <tr style=\"text-align: right;\">\n",
       "      <th></th>\n",
       "      <th>koi_period</th>\n",
       "      <th>koi_time0bk</th>\n",
       "      <th>koi_impact</th>\n",
       "      <th>koi_duration</th>\n",
       "      <th>koi_depth</th>\n",
       "      <th>koi_prad</th>\n",
       "      <th>koi_teq</th>\n",
       "      <th>koi_insol</th>\n",
       "      <th>koi_model_snr</th>\n",
       "      <th>koi_tce_plnt_num</th>\n",
       "      <th>...</th>\n",
       "      <th>koi_srad</th>\n",
       "      <th>ra</th>\n",
       "      <th>dec</th>\n",
       "      <th>koi_kepmag</th>\n",
       "      <th>koi_tce_delivname_q1_q16_tce</th>\n",
       "      <th>koi_tce_delivname_q1_q17_dr24_tce</th>\n",
       "      <th>koi_tce_delivname_q1_q17_dr25_tce</th>\n",
       "      <th>logreg_l1</th>\n",
       "      <th>knn</th>\n",
       "      <th>dt</th>\n",
       "    </tr>\n",
       "  </thead>\n",
       "  <tbody>\n",
       "    <tr>\n",
       "      <th>7582</th>\n",
       "      <td>19.899140</td>\n",
       "      <td>175.850252</td>\n",
       "      <td>0.969</td>\n",
       "      <td>1.7822</td>\n",
       "      <td>10829.0</td>\n",
       "      <td>14.60</td>\n",
       "      <td>638.0</td>\n",
       "      <td>39.30</td>\n",
       "      <td>76.3</td>\n",
       "      <td>1.0</td>\n",
       "      <td>...</td>\n",
       "      <td>0.868</td>\n",
       "      <td>297.00482</td>\n",
       "      <td>48.134129</td>\n",
       "      <td>15.436</td>\n",
       "      <td>0</td>\n",
       "      <td>0</td>\n",
       "      <td>1</td>\n",
       "      <td>0</td>\n",
       "      <td>0</td>\n",
       "      <td>0</td>\n",
       "    </tr>\n",
       "    <tr>\n",
       "      <th>7583</th>\n",
       "      <td>40.419504</td>\n",
       "      <td>173.564690</td>\n",
       "      <td>0.911</td>\n",
       "      <td>3.3620</td>\n",
       "      <td>6256.0</td>\n",
       "      <td>7.51</td>\n",
       "      <td>467.0</td>\n",
       "      <td>11.29</td>\n",
       "      <td>36.9</td>\n",
       "      <td>1.0</td>\n",
       "      <td>...</td>\n",
       "      <td>0.781</td>\n",
       "      <td>294.31686</td>\n",
       "      <td>50.080231</td>\n",
       "      <td>15.487</td>\n",
       "      <td>0</td>\n",
       "      <td>0</td>\n",
       "      <td>1</td>\n",
       "      <td>0</td>\n",
       "      <td>1</td>\n",
       "      <td>0</td>\n",
       "    </tr>\n",
       "    <tr>\n",
       "      <th>7584</th>\n",
       "      <td>7.240661</td>\n",
       "      <td>137.755450</td>\n",
       "      <td>1.198</td>\n",
       "      <td>0.5580</td>\n",
       "      <td>556.4</td>\n",
       "      <td>19.45</td>\n",
       "      <td>734.0</td>\n",
       "      <td>68.63</td>\n",
       "      <td>13.7</td>\n",
       "      <td>2.0</td>\n",
       "      <td>...</td>\n",
       "      <td>0.765</td>\n",
       "      <td>293.83331</td>\n",
       "      <td>50.230350</td>\n",
       "      <td>15.334</td>\n",
       "      <td>0</td>\n",
       "      <td>0</td>\n",
       "      <td>1</td>\n",
       "      <td>0</td>\n",
       "      <td>1</td>\n",
       "      <td>0</td>\n",
       "    </tr>\n",
       "    <tr>\n",
       "      <th>7585</th>\n",
       "      <td>3.435916</td>\n",
       "      <td>132.662400</td>\n",
       "      <td>0.624</td>\n",
       "      <td>3.1330</td>\n",
       "      <td>23.2</td>\n",
       "      <td>0.55</td>\n",
       "      <td>1272.0</td>\n",
       "      <td>617.61</td>\n",
       "      <td>8.7</td>\n",
       "      <td>3.0</td>\n",
       "      <td>...</td>\n",
       "      <td>1.087</td>\n",
       "      <td>287.88733</td>\n",
       "      <td>46.276241</td>\n",
       "      <td>12.791</td>\n",
       "      <td>0</td>\n",
       "      <td>0</td>\n",
       "      <td>1</td>\n",
       "      <td>0</td>\n",
       "      <td>1</td>\n",
       "      <td>0</td>\n",
       "    </tr>\n",
       "    <tr>\n",
       "      <th>7586</th>\n",
       "      <td>10.181584</td>\n",
       "      <td>177.141891</td>\n",
       "      <td>0.920</td>\n",
       "      <td>3.5089</td>\n",
       "      <td>5741.1</td>\n",
       "      <td>7.73</td>\n",
       "      <td>812.0</td>\n",
       "      <td>102.91</td>\n",
       "      <td>183.6</td>\n",
       "      <td>1.0</td>\n",
       "      <td>...</td>\n",
       "      <td>0.836</td>\n",
       "      <td>291.28195</td>\n",
       "      <td>38.241669</td>\n",
       "      <td>15.657</td>\n",
       "      <td>0</td>\n",
       "      <td>0</td>\n",
       "      <td>1</td>\n",
       "      <td>0</td>\n",
       "      <td>0</td>\n",
       "      <td>1</td>\n",
       "    </tr>\n",
       "  </tbody>\n",
       "</table>\n",
       "<p>5 rows × 22 columns</p>\n",
       "</div>"
      ],
      "text/plain": [
       "      koi_period  koi_time0bk  koi_impact  koi_duration  koi_depth  koi_prad  \\\n",
       "7582   19.899140   175.850252       0.969        1.7822    10829.0     14.60   \n",
       "7583   40.419504   173.564690       0.911        3.3620     6256.0      7.51   \n",
       "7584    7.240661   137.755450       1.198        0.5580      556.4     19.45   \n",
       "7585    3.435916   132.662400       0.624        3.1330       23.2      0.55   \n",
       "7586   10.181584   177.141891       0.920        3.5089     5741.1      7.73   \n",
       "\n",
       "      koi_teq  koi_insol  koi_model_snr  koi_tce_plnt_num  ...  koi_srad  \\\n",
       "7582    638.0      39.30           76.3               1.0  ...     0.868   \n",
       "7583    467.0      11.29           36.9               1.0  ...     0.781   \n",
       "7584    734.0      68.63           13.7               2.0  ...     0.765   \n",
       "7585   1272.0     617.61            8.7               3.0  ...     1.087   \n",
       "7586    812.0     102.91          183.6               1.0  ...     0.836   \n",
       "\n",
       "             ra        dec  koi_kepmag  koi_tce_delivname_q1_q16_tce  \\\n",
       "7582  297.00482  48.134129      15.436                             0   \n",
       "7583  294.31686  50.080231      15.487                             0   \n",
       "7584  293.83331  50.230350      15.334                             0   \n",
       "7585  287.88733  46.276241      12.791                             0   \n",
       "7586  291.28195  38.241669      15.657                             0   \n",
       "\n",
       "      koi_tce_delivname_q1_q17_dr24_tce  koi_tce_delivname_q1_q17_dr25_tce  \\\n",
       "7582                                  0                                  1   \n",
       "7583                                  0                                  1   \n",
       "7584                                  0                                  1   \n",
       "7585                                  0                                  1   \n",
       "7586                                  0                                  1   \n",
       "\n",
       "      logreg_l1  knn  dt  \n",
       "7582          0    0   0  \n",
       "7583          0    1   0  \n",
       "7584          0    1   0  \n",
       "7585          0    1   0  \n",
       "7586          0    0   1  \n",
       "\n",
       "[5 rows x 22 columns]"
      ]
     },
     "execution_count": 97,
     "metadata": {},
     "output_type": "execute_result"
    }
   ],
   "source": [
    "df_unknown.head()"
   ]
  },
  {
   "cell_type": "markdown",
   "id": "b11ab424-e2fb-4aaf-a940-26ac29d33894",
   "metadata": {},
   "source": [
    "## Bagging"
   ]
  },
  {
   "cell_type": "code",
   "execution_count": 99,
   "id": "6e2414dd-58db-435a-b608-93716c4d67cf",
   "metadata": {
    "tags": []
   },
   "outputs": [],
   "source": [
    "from sklearn.ensemble import BaggingClassifier\n",
    "from sklearn.tree import DecisionTreeClassifier"
   ]
  },
  {
   "cell_type": "code",
   "execution_count": 100,
   "id": "4390199d-4ff1-4591-8380-3ef2ef8bafa4",
   "metadata": {
    "tags": []
   },
   "outputs": [],
   "source": [
    "n_estimators=20\n",
    "Bag= BaggingClassifier(base_estimator=DecisionTreeClassifier(criterion=\"entropy\", max_depth = 4,random_state=2),n_estimators=n_estimators,random_state=0,bootstrap=True)"
   ]
  },
  {
   "cell_type": "code",
   "execution_count": 117,
   "id": "8429f251-2094-45bf-b014-e5273b94e0c2",
   "metadata": {
    "tags": []
   },
   "outputs": [],
   "source": [
    "#split data that are not preprocessed with minmaxscaler\n",
    "X_trainR, X_testR, y_trainR, y_testR = train_test_split(X_raw, y, test_size=0.2, stratify=y, random_state = 42)"
   ]
  },
  {
   "cell_type": "code",
   "execution_count": 118,
   "id": "235668fb-c8d7-406f-97cb-2c0c2a2cd5e0",
   "metadata": {
    "tags": []
   },
   "outputs": [
    {
     "data": {
      "text/html": [
       "<style>#sk-container-id-4 {color: black;}#sk-container-id-4 pre{padding: 0;}#sk-container-id-4 div.sk-toggleable {background-color: white;}#sk-container-id-4 label.sk-toggleable__label {cursor: pointer;display: block;width: 100%;margin-bottom: 0;padding: 0.3em;box-sizing: border-box;text-align: center;}#sk-container-id-4 label.sk-toggleable__label-arrow:before {content: \"▸\";float: left;margin-right: 0.25em;color: #696969;}#sk-container-id-4 label.sk-toggleable__label-arrow:hover:before {color: black;}#sk-container-id-4 div.sk-estimator:hover label.sk-toggleable__label-arrow:before {color: black;}#sk-container-id-4 div.sk-toggleable__content {max-height: 0;max-width: 0;overflow: hidden;text-align: left;background-color: #f0f8ff;}#sk-container-id-4 div.sk-toggleable__content pre {margin: 0.2em;color: black;border-radius: 0.25em;background-color: #f0f8ff;}#sk-container-id-4 input.sk-toggleable__control:checked~div.sk-toggleable__content {max-height: 200px;max-width: 100%;overflow: auto;}#sk-container-id-4 input.sk-toggleable__control:checked~label.sk-toggleable__label-arrow:before {content: \"▾\";}#sk-container-id-4 div.sk-estimator input.sk-toggleable__control:checked~label.sk-toggleable__label {background-color: #d4ebff;}#sk-container-id-4 div.sk-label input.sk-toggleable__control:checked~label.sk-toggleable__label {background-color: #d4ebff;}#sk-container-id-4 input.sk-hidden--visually {border: 0;clip: rect(1px 1px 1px 1px);clip: rect(1px, 1px, 1px, 1px);height: 1px;margin: -1px;overflow: hidden;padding: 0;position: absolute;width: 1px;}#sk-container-id-4 div.sk-estimator {font-family: monospace;background-color: #f0f8ff;border: 1px dotted black;border-radius: 0.25em;box-sizing: border-box;margin-bottom: 0.5em;}#sk-container-id-4 div.sk-estimator:hover {background-color: #d4ebff;}#sk-container-id-4 div.sk-parallel-item::after {content: \"\";width: 100%;border-bottom: 1px solid gray;flex-grow: 1;}#sk-container-id-4 div.sk-label:hover label.sk-toggleable__label {background-color: #d4ebff;}#sk-container-id-4 div.sk-serial::before {content: \"\";position: absolute;border-left: 1px solid gray;box-sizing: border-box;top: 0;bottom: 0;left: 50%;z-index: 0;}#sk-container-id-4 div.sk-serial {display: flex;flex-direction: column;align-items: center;background-color: white;padding-right: 0.2em;padding-left: 0.2em;position: relative;}#sk-container-id-4 div.sk-item {position: relative;z-index: 1;}#sk-container-id-4 div.sk-parallel {display: flex;align-items: stretch;justify-content: center;background-color: white;position: relative;}#sk-container-id-4 div.sk-item::before, #sk-container-id-4 div.sk-parallel-item::before {content: \"\";position: absolute;border-left: 1px solid gray;box-sizing: border-box;top: 0;bottom: 0;left: 50%;z-index: -1;}#sk-container-id-4 div.sk-parallel-item {display: flex;flex-direction: column;z-index: 1;position: relative;background-color: white;}#sk-container-id-4 div.sk-parallel-item:first-child::after {align-self: flex-end;width: 50%;}#sk-container-id-4 div.sk-parallel-item:last-child::after {align-self: flex-start;width: 50%;}#sk-container-id-4 div.sk-parallel-item:only-child::after {width: 0;}#sk-container-id-4 div.sk-dashed-wrapped {border: 1px dashed gray;margin: 0 0.4em 0.5em 0.4em;box-sizing: border-box;padding-bottom: 0.4em;background-color: white;}#sk-container-id-4 div.sk-label label {font-family: monospace;font-weight: bold;display: inline-block;line-height: 1.2em;}#sk-container-id-4 div.sk-label-container {text-align: center;}#sk-container-id-4 div.sk-container {/* jupyter's `normalize.less` sets `[hidden] { display: none; }` but bootstrap.min.css set `[hidden] { display: none !important; }` so we also need the `!important` here to be able to override the default hidden behavior on the sphinx rendered scikit-learn.org. See: https://github.com/scikit-learn/scikit-learn/issues/21755 */display: inline-block !important;position: relative;}#sk-container-id-4 div.sk-text-repr-fallback {display: none;}</style><div id=\"sk-container-id-4\" class=\"sk-top-container\"><div class=\"sk-text-repr-fallback\"><pre>BaggingClassifier(base_estimator=DecisionTreeClassifier(criterion=&#x27;entropy&#x27;,\n",
       "                                                        max_depth=4,\n",
       "                                                        random_state=2),\n",
       "                  n_estimators=20, random_state=0)</pre><b>In a Jupyter environment, please rerun this cell to show the HTML representation or trust the notebook. <br />On GitHub, the HTML representation is unable to render, please try loading this page with nbviewer.org.</b></div><div class=\"sk-container\" hidden><div class=\"sk-item sk-dashed-wrapped\"><div class=\"sk-label-container\"><div class=\"sk-label sk-toggleable\"><input class=\"sk-toggleable__control sk-hidden--visually\" id=\"sk-estimator-id-6\" type=\"checkbox\" ><label for=\"sk-estimator-id-6\" class=\"sk-toggleable__label sk-toggleable__label-arrow\">BaggingClassifier</label><div class=\"sk-toggleable__content\"><pre>BaggingClassifier(base_estimator=DecisionTreeClassifier(criterion=&#x27;entropy&#x27;,\n",
       "                                                        max_depth=4,\n",
       "                                                        random_state=2),\n",
       "                  n_estimators=20, random_state=0)</pre></div></div></div><div class=\"sk-parallel\"><div class=\"sk-parallel-item\"><div class=\"sk-item\"><div class=\"sk-label-container\"><div class=\"sk-label sk-toggleable\"><input class=\"sk-toggleable__control sk-hidden--visually\" id=\"sk-estimator-id-7\" type=\"checkbox\" ><label for=\"sk-estimator-id-7\" class=\"sk-toggleable__label sk-toggleable__label-arrow\">base_estimator: DecisionTreeClassifier</label><div class=\"sk-toggleable__content\"><pre>DecisionTreeClassifier(criterion=&#x27;entropy&#x27;, max_depth=4, random_state=2)</pre></div></div></div><div class=\"sk-serial\"><div class=\"sk-item\"><div class=\"sk-estimator sk-toggleable\"><input class=\"sk-toggleable__control sk-hidden--visually\" id=\"sk-estimator-id-8\" type=\"checkbox\" ><label for=\"sk-estimator-id-8\" class=\"sk-toggleable__label sk-toggleable__label-arrow\">DecisionTreeClassifier</label><div class=\"sk-toggleable__content\"><pre>DecisionTreeClassifier(criterion=&#x27;entropy&#x27;, max_depth=4, random_state=2)</pre></div></div></div></div></div></div></div></div></div></div>"
      ],
      "text/plain": [
       "BaggingClassifier(base_estimator=DecisionTreeClassifier(criterion='entropy',\n",
       "                                                        max_depth=4,\n",
       "                                                        random_state=2),\n",
       "                  n_estimators=20, random_state=0)"
      ]
     },
     "execution_count": 118,
     "metadata": {},
     "output_type": "execute_result"
    }
   ],
   "source": [
    "Bag.fit(X_trainR,y_trainR)"
   ]
  },
  {
   "cell_type": "code",
   "execution_count": 119,
   "id": "4bdbb106-36b9-4b2b-9fe6-c76f443a279d",
   "metadata": {
    "tags": []
   },
   "outputs": [
    {
     "data": {
      "text/plain": [
       "(1423,)"
      ]
     },
     "execution_count": 119,
     "metadata": {},
     "output_type": "execute_result"
    }
   ],
   "source": [
    "Bag.predict(X_testR).shape"
   ]
  },
  {
   "cell_type": "code",
   "execution_count": 106,
   "id": "2c8a9156-8663-4a67-8ae4-e9766f7c1bfb",
   "metadata": {
    "tags": []
   },
   "outputs": [],
   "source": [
    "def get_accuracy(X_train, X_test, y_train, y_test, model):\n",
    "    return  {\"test Accuracy\":metrics.accuracy_score(y_test, model.predict(X_test)),\"train Accuracy\": metrics.accuracy_score(y_train, model.predict(X_train))}"
   ]
  },
  {
   "cell_type": "code",
   "execution_count": 111,
   "id": "f8556b51-cb53-426b-9a1c-4adfb60874e7",
   "metadata": {
    "tags": []
   },
   "outputs": [],
   "source": [
    "def get_correlation(X_test, y_test,models):\n",
    "    #This function calculates the average correlation between predictors  \n",
    "    n_estimators=len(models.estimators_)\n",
    "    prediction=np.zeros((y_test.shape[0],n_estimators))\n",
    "    predictions=pd.DataFrame({'estimator '+str(n+1):[] for n in range(n_estimators)})\n",
    "    \n",
    "    for key,model in zip(predictions.keys(),models.estimators_):\n",
    "        predictions[key]=model.predict(X_test)\n",
    "    \n",
    "    corr=predictions.corr()\n",
    "    print(\"Average correlation between predictors: \", corr.mean().mean()-1/n_estimators)\n",
    "    return corr\n"
   ]
  },
  {
   "cell_type": "code",
   "execution_count": 120,
   "id": "74a05895-4c0a-48c8-a729-92489aaeb972",
   "metadata": {
    "tags": []
   },
   "outputs": [
    {
     "name": "stdout",
     "output_type": "stream",
     "text": [
      "{'test Accuracy': 0.8777231201686577, 'train Accuracy': 0.8860959746879944}\n"
     ]
    }
   ],
   "source": [
    "print(get_accuracy(X_trainR, X_testR, y_trainR, y_testR,  Bag))"
   ]
  },
  {
   "cell_type": "code",
   "execution_count": 121,
   "id": "9e6b9c29-b0e7-4952-a4d8-6e61ef2a4973",
   "metadata": {
    "tags": []
   },
   "outputs": [
    {
     "name": "stdout",
     "output_type": "stream",
     "text": [
      "Average correlation between predictors:  0.8596509726291991\n"
     ]
    },
    {
     "data": {
      "text/html": [
       "<style type=\"text/css\">\n",
       "#T_73f44_row0_col0, #T_73f44_row1_col1, #T_73f44_row2_col2, #T_73f44_row3_col3, #T_73f44_row4_col4, #T_73f44_row5_col5, #T_73f44_row6_col6, #T_73f44_row7_col7, #T_73f44_row8_col8, #T_73f44_row9_col9, #T_73f44_row10_col10, #T_73f44_row11_col11, #T_73f44_row12_col12, #T_73f44_row13_col13, #T_73f44_row14_col14, #T_73f44_row15_col15, #T_73f44_row16_col16, #T_73f44_row17_col17, #T_73f44_row18_col18, #T_73f44_row19_col19 {\n",
       "  background-color: #b40426;\n",
       "  color: #f1f1f1;\n",
       "}\n",
       "#T_73f44_row0_col1, #T_73f44_row3_col5, #T_73f44_row14_col8, #T_73f44_row19_col5 {\n",
       "  background-color: #3f53c6;\n",
       "  color: #f1f1f1;\n",
       "}\n",
       "#T_73f44_row0_col2 {\n",
       "  background-color: #f3c7b1;\n",
       "  color: #000000;\n",
       "}\n",
       "#T_73f44_row0_col3 {\n",
       "  background-color: #3e51c5;\n",
       "  color: #f1f1f1;\n",
       "}\n",
       "#T_73f44_row0_col4, #T_73f44_row0_col19, #T_73f44_row2_col7, #T_73f44_row2_col11, #T_73f44_row2_col13, #T_73f44_row2_col14, #T_73f44_row2_col17, #T_73f44_row2_col18, #T_73f44_row5_col19, #T_73f44_row6_col10, #T_73f44_row9_col1, #T_73f44_row9_col3, #T_73f44_row13_col2, #T_73f44_row13_col6, #T_73f44_row13_col15, #T_73f44_row13_col16, #T_73f44_row14_col0, #T_73f44_row14_col5, #T_73f44_row14_col9, #T_73f44_row14_col12, #T_73f44_row19_col8, #T_73f44_row19_col12 {\n",
       "  background-color: #3b4cc0;\n",
       "  color: #f1f1f1;\n",
       "}\n",
       "#T_73f44_row0_col5, #T_73f44_row2_col5, #T_73f44_row10_col19, #T_73f44_row12_col0 {\n",
       "  background-color: #f59f80;\n",
       "  color: #000000;\n",
       "}\n",
       "#T_73f44_row0_col6, #T_73f44_row1_col4, #T_73f44_row9_col16, #T_73f44_row16_col9 {\n",
       "  background-color: #f6bda2;\n",
       "  color: #000000;\n",
       "}\n",
       "#T_73f44_row0_col7, #T_73f44_row16_col18 {\n",
       "  background-color: #5f7fe8;\n",
       "  color: #f1f1f1;\n",
       "}\n",
       "#T_73f44_row0_col8, #T_73f44_row1_col13 {\n",
       "  background-color: #e4d9d2;\n",
       "  color: #000000;\n",
       "}\n",
       "#T_73f44_row0_col9, #T_73f44_row0_col16, #T_73f44_row8_col6 {\n",
       "  background-color: #f7b89c;\n",
       "  color: #000000;\n",
       "}\n",
       "#T_73f44_row0_col10, #T_73f44_row2_col4, #T_73f44_row3_col9 {\n",
       "  background-color: #4055c8;\n",
       "  color: #f1f1f1;\n",
       "}\n",
       "#T_73f44_row0_col11, #T_73f44_row2_col3, #T_73f44_row9_col7, #T_73f44_row12_col10 {\n",
       "  background-color: #5a78e4;\n",
       "  color: #f1f1f1;\n",
       "}\n",
       "#T_73f44_row0_col12, #T_73f44_row4_col11, #T_73f44_row7_col19 {\n",
       "  background-color: #f7a889;\n",
       "  color: #000000;\n",
       "}\n",
       "#T_73f44_row0_col13 {\n",
       "  background-color: #5470de;\n",
       "  color: #f1f1f1;\n",
       "}\n",
       "#T_73f44_row0_col14, #T_73f44_row2_col10, #T_73f44_row5_col3, #T_73f44_row9_col10 {\n",
       "  background-color: #4358cb;\n",
       "  color: #f1f1f1;\n",
       "}\n",
       "#T_73f44_row0_col15, #T_73f44_row10_col3, #T_73f44_row18_col19, #T_73f44_row19_col10 {\n",
       "  background-color: #f7a98b;\n",
       "  color: #000000;\n",
       "}\n",
       "#T_73f44_row0_col17, #T_73f44_row9_col17 {\n",
       "  background-color: #5673e0;\n",
       "  color: #f1f1f1;\n",
       "}\n",
       "#T_73f44_row0_col18, #T_73f44_row7_col2, #T_73f44_row12_col14, #T_73f44_row15_col14 {\n",
       "  background-color: #5d7ce6;\n",
       "  color: #f1f1f1;\n",
       "}\n",
       "#T_73f44_row1_col0, #T_73f44_row4_col0, #T_73f44_row5_col18, #T_73f44_row7_col0, #T_73f44_row17_col9 {\n",
       "  background-color: #6a8bef;\n",
       "  color: #f1f1f1;\n",
       "}\n",
       "#T_73f44_row1_col2, #T_73f44_row4_col15, #T_73f44_row10_col2, #T_73f44_row19_col16 {\n",
       "  background-color: #86a9fc;\n",
       "  color: #f1f1f1;\n",
       "}\n",
       "#T_73f44_row1_col3, #T_73f44_row9_col2 {\n",
       "  background-color: #f5c1a9;\n",
       "  color: #000000;\n",
       "}\n",
       "#T_73f44_row1_col5, #T_73f44_row8_col3, #T_73f44_row17_col2 {\n",
       "  background-color: #6788ee;\n",
       "  color: #f1f1f1;\n",
       "}\n",
       "#T_73f44_row1_col6, #T_73f44_row8_col11 {\n",
       "  background-color: #9dbdff;\n",
       "  color: #000000;\n",
       "}\n",
       "#T_73f44_row1_col7 {\n",
       "  background-color: #f6a283;\n",
       "  color: #000000;\n",
       "}\n",
       "#T_73f44_row1_col8, #T_73f44_row17_col8, #T_73f44_row17_col15 {\n",
       "  background-color: #8db0fe;\n",
       "  color: #000000;\n",
       "}\n",
       "#T_73f44_row1_col9, #T_73f44_row5_col11, #T_73f44_row7_col9, #T_73f44_row8_col14 {\n",
       "  background-color: #6384eb;\n",
       "  color: #f1f1f1;\n",
       "}\n",
       "#T_73f44_row1_col10, #T_73f44_row7_col17, #T_73f44_row9_col8, #T_73f44_row10_col1, #T_73f44_row11_col3 {\n",
       "  background-color: #f5c4ac;\n",
       "  color: #000000;\n",
       "}\n",
       "#T_73f44_row1_col11 {\n",
       "  background-color: #cc403a;\n",
       "  color: #f1f1f1;\n",
       "}\n",
       "#T_73f44_row1_col12, #T_73f44_row7_col12, #T_73f44_row8_col4, #T_73f44_row16_col11 {\n",
       "  background-color: #82a6fb;\n",
       "  color: #f1f1f1;\n",
       "}\n",
       "#T_73f44_row1_col14, #T_73f44_row3_col10, #T_73f44_row3_col13, #T_73f44_row9_col0, #T_73f44_row16_col0, #T_73f44_row16_col8 {\n",
       "  background-color: #f7b79b;\n",
       "  color: #000000;\n",
       "}\n",
       "#T_73f44_row1_col15 {\n",
       "  background-color: #b2ccfb;\n",
       "  color: #000000;\n",
       "}\n",
       "#T_73f44_row1_col16, #T_73f44_row11_col8 {\n",
       "  background-color: #a5c3fe;\n",
       "  color: #000000;\n",
       "}\n",
       "#T_73f44_row1_col17, #T_73f44_row10_col13, #T_73f44_row15_col0 {\n",
       "  background-color: #f6a586;\n",
       "  color: #000000;\n",
       "}\n",
       "#T_73f44_row1_col18, #T_73f44_row9_col6 {\n",
       "  background-color: #f4c6af;\n",
       "  color: #000000;\n",
       "}\n",
       "#T_73f44_row1_col19, #T_73f44_row6_col8, #T_73f44_row14_col11 {\n",
       "  background-color: #f4c5ad;\n",
       "  color: #000000;\n",
       "}\n",
       "#T_73f44_row2_col0 {\n",
       "  background-color: #efcfbf;\n",
       "  color: #000000;\n",
       "}\n",
       "#T_73f44_row2_col1, #T_73f44_row3_col0 {\n",
       "  background-color: #455cce;\n",
       "  color: #f1f1f1;\n",
       "}\n",
       "#T_73f44_row2_col6 {\n",
       "  background-color: #e7745b;\n",
       "  color: #f1f1f1;\n",
       "}\n",
       "#T_73f44_row2_col8 {\n",
       "  background-color: #d3dbe7;\n",
       "  color: #000000;\n",
       "}\n",
       "#T_73f44_row2_col9 {\n",
       "  background-color: #f2cbb7;\n",
       "  color: #000000;\n",
       "}\n",
       "#T_73f44_row2_col12 {\n",
       "  background-color: #f5c0a7;\n",
       "  color: #000000;\n",
       "}\n",
       "#T_73f44_row2_col15, #T_73f44_row5_col0 {\n",
       "  background-color: #f49a7b;\n",
       "  color: #000000;\n",
       "}\n",
       "#T_73f44_row2_col16, #T_73f44_row8_col12 {\n",
       "  background-color: #ed8366;\n",
       "  color: #f1f1f1;\n",
       "}\n",
       "#T_73f44_row2_col19, #T_73f44_row11_col9 {\n",
       "  background-color: #7295f4;\n",
       "  color: #f1f1f1;\n",
       "}\n",
       "#T_73f44_row3_col1 {\n",
       "  background-color: #f1cdba;\n",
       "  color: #000000;\n",
       "}\n",
       "#T_73f44_row3_col2, #T_73f44_row4_col16 {\n",
       "  background-color: #7a9df8;\n",
       "  color: #f1f1f1;\n",
       "}\n",
       "#T_73f44_row3_col4 {\n",
       "  background-color: #9ebeff;\n",
       "  color: #000000;\n",
       "}\n",
       "#T_73f44_row3_col6, #T_73f44_row15_col1, #T_73f44_row19_col2 {\n",
       "  background-color: #97b8ff;\n",
       "  color: #000000;\n",
       "}\n",
       "#T_73f44_row3_col7, #T_73f44_row3_col19, #T_73f44_row7_col3, #T_73f44_row9_col5 {\n",
       "  background-color: #f39778;\n",
       "  color: #000000;\n",
       "}\n",
       "#T_73f44_row3_col8, #T_73f44_row15_col10 {\n",
       "  background-color: #536edd;\n",
       "  color: #f1f1f1;\n",
       "}\n",
       "#T_73f44_row3_col11, #T_73f44_row11_col13, #T_73f44_row19_col1 {\n",
       "  background-color: #f0cdbb;\n",
       "  color: #000000;\n",
       "}\n",
       "#T_73f44_row3_col12 {\n",
       "  background-color: #5977e3;\n",
       "  color: #f1f1f1;\n",
       "}\n",
       "#T_73f44_row3_col14, #T_73f44_row3_col17, #T_73f44_row19_col14 {\n",
       "  background-color: #dcdddd;\n",
       "  color: #000000;\n",
       "}\n",
       "#T_73f44_row3_col15, #T_73f44_row10_col9, #T_73f44_row15_col18 {\n",
       "  background-color: #6e90f2;\n",
       "  color: #f1f1f1;\n",
       "}\n",
       "#T_73f44_row3_col16 {\n",
       "  background-color: #9fbfff;\n",
       "  color: #000000;\n",
       "}\n",
       "#T_73f44_row3_col18, #T_73f44_row15_col2, #T_73f44_row17_col4 {\n",
       "  background-color: #f18f71;\n",
       "  color: #f1f1f1;\n",
       "}\n",
       "#T_73f44_row4_col1, #T_73f44_row8_col9 {\n",
       "  background-color: #f7ba9f;\n",
       "  color: #000000;\n",
       "}\n",
       "#T_73f44_row4_col2, #T_73f44_row5_col4, #T_73f44_row17_col16 {\n",
       "  background-color: #88abfd;\n",
       "  color: #000000;\n",
       "}\n",
       "#T_73f44_row4_col3 {\n",
       "  background-color: #bcd2f7;\n",
       "  color: #000000;\n",
       "}\n",
       "#T_73f44_row4_col5 {\n",
       "  background-color: #a7c5fe;\n",
       "  color: #000000;\n",
       "}\n",
       "#T_73f44_row4_col6, #T_73f44_row10_col16, #T_73f44_row12_col1 {\n",
       "  background-color: #7396f5;\n",
       "  color: #f1f1f1;\n",
       "}\n",
       "#T_73f44_row4_col7, #T_73f44_row8_col2, #T_73f44_row13_col19 {\n",
       "  background-color: #e9d5cb;\n",
       "  color: #000000;\n",
       "}\n",
       "#T_73f44_row4_col8, #T_73f44_row8_col17 {\n",
       "  background-color: #94b6ff;\n",
       "  color: #000000;\n",
       "}\n",
       "#T_73f44_row4_col9, #T_73f44_row8_col13, #T_73f44_row16_col7 {\n",
       "  background-color: #7b9ff9;\n",
       "  color: #f1f1f1;\n",
       "}\n",
       "#T_73f44_row4_col10 {\n",
       "  background-color: #f3c8b2;\n",
       "  color: #000000;\n",
       "}\n",
       "#T_73f44_row4_col12, #T_73f44_row6_col3 {\n",
       "  background-color: #8badfd;\n",
       "  color: #000000;\n",
       "}\n",
       "#T_73f44_row4_col13, #T_73f44_row7_col4 {\n",
       "  background-color: #d9dce1;\n",
       "  color: #000000;\n",
       "}\n",
       "#T_73f44_row4_col14 {\n",
       "  background-color: #f2cab5;\n",
       "  color: #000000;\n",
       "}\n",
       "#T_73f44_row4_col17, #T_73f44_row18_col13 {\n",
       "  background-color: #ee8669;\n",
       "  color: #f1f1f1;\n",
       "}\n",
       "#T_73f44_row4_col18 {\n",
       "  background-color: #e3d9d3;\n",
       "  color: #000000;\n",
       "}\n",
       "#T_73f44_row4_col19 {\n",
       "  background-color: #c1d4f4;\n",
       "  color: #000000;\n",
       "}\n",
       "#T_73f44_row5_col1, #T_73f44_row13_col8 {\n",
       "  background-color: #485fd1;\n",
       "  color: #f1f1f1;\n",
       "}\n",
       "#T_73f44_row5_col2, #T_73f44_row5_col9, #T_73f44_row19_col3 {\n",
       "  background-color: #f39475;\n",
       "  color: #000000;\n",
       "}\n",
       "#T_73f44_row5_col6, #T_73f44_row10_col11, #T_73f44_row15_col8 {\n",
       "  background-color: #f7aa8c;\n",
       "  color: #000000;\n",
       "}\n",
       "#T_73f44_row5_col7, #T_73f44_row5_col17, #T_73f44_row6_col17, #T_73f44_row7_col5, #T_73f44_row9_col13 {\n",
       "  background-color: #6687ed;\n",
       "  color: #f1f1f1;\n",
       "}\n",
       "#T_73f44_row5_col8, #T_73f44_row9_col15, #T_73f44_row11_col14 {\n",
       "  background-color: #f7b497;\n",
       "  color: #000000;\n",
       "}\n",
       "#T_73f44_row5_col10, #T_73f44_row6_col11, #T_73f44_row15_col3 {\n",
       "  background-color: #7093f3;\n",
       "  color: #f1f1f1;\n",
       "}\n",
       "#T_73f44_row5_col12 {\n",
       "  background-color: #e26952;\n",
       "  color: #f1f1f1;\n",
       "}\n",
       "#T_73f44_row5_col13, #T_73f44_row6_col1, #T_73f44_row17_col5, #T_73f44_row18_col6 {\n",
       "  background-color: #6f92f3;\n",
       "  color: #f1f1f1;\n",
       "}\n",
       "#T_73f44_row5_col14, #T_73f44_row9_col4, #T_73f44_row9_col11 {\n",
       "  background-color: #4e68d8;\n",
       "  color: #f1f1f1;\n",
       "}\n",
       "#T_73f44_row5_col15, #T_73f44_row7_col11, #T_73f44_row12_col9, #T_73f44_row15_col5 {\n",
       "  background-color: #f29072;\n",
       "  color: #f1f1f1;\n",
       "}\n",
       "#T_73f44_row5_col16, #T_73f44_row8_col15, #T_73f44_row13_col14 {\n",
       "  background-color: #f6a385;\n",
       "  color: #000000;\n",
       "}\n",
       "#T_73f44_row6_col0, #T_73f44_row14_col17, #T_73f44_row17_col7 {\n",
       "  background-color: #f6bfa6;\n",
       "  color: #000000;\n",
       "}\n",
       "#T_73f44_row6_col2, #T_73f44_row6_col15, #T_73f44_row7_col10, #T_73f44_row7_col18, #T_73f44_row18_col10 {\n",
       "  background-color: #e46e56;\n",
       "  color: #f1f1f1;\n",
       "}\n",
       "#T_73f44_row6_col4 {\n",
       "  background-color: #3d50c3;\n",
       "  color: #f1f1f1;\n",
       "}\n",
       "#T_73f44_row6_col5 {\n",
       "  background-color: #f7b093;\n",
       "  color: #000000;\n",
       "}\n",
       "#T_73f44_row6_col7, #T_73f44_row10_col0, #T_73f44_row10_col6, #T_73f44_row18_col2 {\n",
       "  background-color: #6c8ff1;\n",
       "  color: #f1f1f1;\n",
       "}\n",
       "#T_73f44_row6_col9, #T_73f44_row10_col4, #T_73f44_row14_col1, #T_73f44_row19_col13 {\n",
       "  background-color: #f2c9b4;\n",
       "  color: #000000;\n",
       "}\n",
       "#T_73f44_row6_col12, #T_73f44_row12_col8 {\n",
       "  background-color: #ee8468;\n",
       "  color: #f1f1f1;\n",
       "}\n",
       "#T_73f44_row6_col13, #T_73f44_row6_col14, #T_73f44_row9_col19, #T_73f44_row13_col9, #T_73f44_row16_col4 {\n",
       "  background-color: #4c66d6;\n",
       "  color: #f1f1f1;\n",
       "}\n",
       "#T_73f44_row6_col16, #T_73f44_row16_col6 {\n",
       "  background-color: #c43032;\n",
       "  color: #f1f1f1;\n",
       "}\n",
       "#T_73f44_row6_col18 {\n",
       "  background-color: #4f69d9;\n",
       "  color: #f1f1f1;\n",
       "}\n",
       "#T_73f44_row6_col19, #T_73f44_row7_col6, #T_73f44_row11_col5 {\n",
       "  background-color: #7da0f9;\n",
       "  color: #f1f1f1;\n",
       "}\n",
       "#T_73f44_row7_col1, #T_73f44_row8_col5, #T_73f44_row8_col16, #T_73f44_row11_col10, #T_73f44_row17_col1, #T_73f44_row19_col18 {\n",
       "  background-color: #f7ad90;\n",
       "  color: #000000;\n",
       "}\n",
       "#T_73f44_row7_col8, #T_73f44_row8_col1, #T_73f44_row16_col1 {\n",
       "  background-color: #81a4fb;\n",
       "  color: #f1f1f1;\n",
       "}\n",
       "#T_73f44_row7_col13, #T_73f44_row16_col5, #T_73f44_row19_col7 {\n",
       "  background-color: #f7a688;\n",
       "  color: #000000;\n",
       "}\n",
       "#T_73f44_row7_col14, #T_73f44_row18_col14 {\n",
       "  background-color: #ebd3c6;\n",
       "  color: #000000;\n",
       "}\n",
       "#T_73f44_row7_col15 {\n",
       "  background-color: #85a8fc;\n",
       "  color: #f1f1f1;\n",
       "}\n",
       "#T_73f44_row7_col16, #T_73f44_row15_col7, #T_73f44_row15_col17, #T_73f44_row17_col12 {\n",
       "  background-color: #84a7fc;\n",
       "  color: #f1f1f1;\n",
       "}\n",
       "#T_73f44_row8_col0 {\n",
       "  background-color: #edd1c2;\n",
       "  color: #000000;\n",
       "}\n",
       "#T_73f44_row8_col7, #T_73f44_row12_col7, #T_73f44_row19_col6 {\n",
       "  background-color: #92b4fe;\n",
       "  color: #000000;\n",
       "}\n",
       "#T_73f44_row8_col10, #T_73f44_row15_col19, #T_73f44_row16_col13, #T_73f44_row16_col14 {\n",
       "  background-color: #5572df;\n",
       "  color: #f1f1f1;\n",
       "}\n",
       "#T_73f44_row8_col18, #T_73f44_row11_col2, #T_73f44_row18_col16 {\n",
       "  background-color: #779af7;\n",
       "  color: #f1f1f1;\n",
       "}\n",
       "#T_73f44_row8_col19, #T_73f44_row13_col12 {\n",
       "  background-color: #465ecf;\n",
       "  color: #f1f1f1;\n",
       "}\n",
       "#T_73f44_row9_col12, #T_73f44_row17_col11 {\n",
       "  background-color: #f4987a;\n",
       "  color: #000000;\n",
       "}\n",
       "#T_73f44_row9_col14, #T_73f44_row12_col19 {\n",
       "  background-color: #445acc;\n",
       "  color: #f1f1f1;\n",
       "}\n",
       "#T_73f44_row9_col18 {\n",
       "  background-color: #5e7de7;\n",
       "  color: #f1f1f1;\n",
       "}\n",
       "#T_73f44_row10_col5 {\n",
       "  background-color: #8fb1fe;\n",
       "  color: #000000;\n",
       "}\n",
       "#T_73f44_row10_col7, #T_73f44_row12_col5, #T_73f44_row15_col12 {\n",
       "  background-color: #e0654f;\n",
       "  color: #f1f1f1;\n",
       "}\n",
       "#T_73f44_row10_col8 {\n",
       "  background-color: #6485ec;\n",
       "  color: #f1f1f1;\n",
       "}\n",
       "#T_73f44_row10_col12, #T_73f44_row12_col3, #T_73f44_row17_col0 {\n",
       "  background-color: #6b8df0;\n",
       "  color: #f1f1f1;\n",
       "}\n",
       "#T_73f44_row10_col14 {\n",
       "  background-color: #efcebd;\n",
       "  color: #000000;\n",
       "}\n",
       "#T_73f44_row10_col15, #T_73f44_row18_col8 {\n",
       "  background-color: #7597f6;\n",
       "  color: #f1f1f1;\n",
       "}\n",
       "#T_73f44_row10_col17, #T_73f44_row17_col18 {\n",
       "  background-color: #edd2c3;\n",
       "  color: #000000;\n",
       "}\n",
       "#T_73f44_row10_col18, #T_73f44_row15_col6, #T_73f44_row18_col7 {\n",
       "  background-color: #e36b54;\n",
       "  color: #f1f1f1;\n",
       "}\n",
       "#T_73f44_row11_col0, #T_73f44_row17_col6 {\n",
       "  background-color: #80a3fa;\n",
       "  color: #f1f1f1;\n",
       "}\n",
       "#T_73f44_row11_col1 {\n",
       "  background-color: #cd423b;\n",
       "  color: #f1f1f1;\n",
       "}\n",
       "#T_73f44_row11_col4 {\n",
       "  background-color: #f7ac8e;\n",
       "  color: #000000;\n",
       "}\n",
       "#T_73f44_row11_col6 {\n",
       "  background-color: #9abbff;\n",
       "  color: #000000;\n",
       "}\n",
       "#T_73f44_row11_col7, #T_73f44_row18_col3 {\n",
       "  background-color: #ef886b;\n",
       "  color: #f1f1f1;\n",
       "}\n",
       "#T_73f44_row11_col12, #T_73f44_row16_col3 {\n",
       "  background-color: #9bbcff;\n",
       "  color: #000000;\n",
       "}\n",
       "#T_73f44_row11_col15 {\n",
       "  background-color: #a9c6fd;\n",
       "  color: #000000;\n",
       "}\n",
       "#T_73f44_row11_col16 {\n",
       "  background-color: #a2c1ff;\n",
       "  color: #000000;\n",
       "}\n",
       "#T_73f44_row11_col17 {\n",
       "  background-color: #f29274;\n",
       "  color: #f1f1f1;\n",
       "}\n",
       "#T_73f44_row11_col18, #T_73f44_row15_col9 {\n",
       "  background-color: #f7b194;\n",
       "  color: #000000;\n",
       "}\n",
       "#T_73f44_row11_col19, #T_73f44_row18_col1 {\n",
       "  background-color: #f1ccb8;\n",
       "  color: #000000;\n",
       "}\n",
       "#T_73f44_row12_col2 {\n",
       "  background-color: #f7af91;\n",
       "  color: #000000;\n",
       "}\n",
       "#T_73f44_row12_col4, #T_73f44_row12_col18, #T_73f44_row16_col17, #T_73f44_row18_col0, #T_73f44_row18_col9, #T_73f44_row18_col12 {\n",
       "  background-color: #7699f6;\n",
       "  color: #f1f1f1;\n",
       "}\n",
       "#T_73f44_row12_col6, #T_73f44_row16_col2 {\n",
       "  background-color: #e97a5f;\n",
       "  color: #f1f1f1;\n",
       "}\n",
       "#T_73f44_row12_col11, #T_73f44_row15_col11 {\n",
       "  background-color: #90b2fe;\n",
       "  color: #000000;\n",
       "}\n",
       "#T_73f44_row12_col13, #T_73f44_row16_col19, #T_73f44_row18_col5 {\n",
       "  background-color: #799cf8;\n",
       "  color: #f1f1f1;\n",
       "}\n",
       "#T_73f44_row12_col15, #T_73f44_row16_col15 {\n",
       "  background-color: #de614d;\n",
       "  color: #f1f1f1;\n",
       "}\n",
       "#T_73f44_row12_col16 {\n",
       "  background-color: #e57058;\n",
       "  color: #f1f1f1;\n",
       "}\n",
       "#T_73f44_row12_col17 {\n",
       "  background-color: #89acfd;\n",
       "  color: #000000;\n",
       "}\n",
       "#T_73f44_row13_col0 {\n",
       "  background-color: #3c4ec2;\n",
       "  color: #f1f1f1;\n",
       "}\n",
       "#T_73f44_row13_col1 {\n",
       "  background-color: #c3d5f4;\n",
       "  color: #000000;\n",
       "}\n",
       "#T_73f44_row13_col3 {\n",
       "  background-color: #f5c2aa;\n",
       "  color: #000000;\n",
       "}\n",
       "#T_73f44_row13_col4 {\n",
       "  background-color: #adc9fd;\n",
       "  color: #000000;\n",
       "}\n",
       "#T_73f44_row13_col5 {\n",
       "  background-color: #4b64d5;\n",
       "  color: #f1f1f1;\n",
       "}\n",
       "#T_73f44_row13_col7 {\n",
       "  background-color: #f7b396;\n",
       "  color: #000000;\n",
       "}\n",
       "#T_73f44_row13_col10 {\n",
       "  background-color: #f6bea4;\n",
       "  color: #000000;\n",
       "}\n",
       "#T_73f44_row13_col11, #T_73f44_row18_col4 {\n",
       "  background-color: #dadce0;\n",
       "  color: #000000;\n",
       "}\n",
       "#T_73f44_row13_col17, #T_73f44_row17_col19 {\n",
       "  background-color: #c7d7f0;\n",
       "  color: #000000;\n",
       "}\n",
       "#T_73f44_row13_col18 {\n",
       "  background-color: #f39577;\n",
       "  color: #000000;\n",
       "}\n",
       "#T_73f44_row14_col2, #T_73f44_row14_col6, #T_73f44_row14_col15, #T_73f44_row14_col16, #T_73f44_row16_col10, #T_73f44_row19_col0 {\n",
       "  background-color: #4a63d3;\n",
       "  color: #f1f1f1;\n",
       "}\n",
       "#T_73f44_row14_col3 {\n",
       "  background-color: #d5dbe5;\n",
       "  color: #000000;\n",
       "}\n",
       "#T_73f44_row14_col4 {\n",
       "  background-color: #e2dad5;\n",
       "  color: #000000;\n",
       "}\n",
       "#T_73f44_row14_col7, #T_73f44_row17_col10 {\n",
       "  background-color: #e5d8d1;\n",
       "  color: #000000;\n",
       "}\n",
       "#T_73f44_row14_col10, #T_73f44_row14_col18, #T_73f44_row17_col13 {\n",
       "  background-color: #dedcdb;\n",
       "  color: #000000;\n",
       "}\n",
       "#T_73f44_row14_col13 {\n",
       "  background-color: #f59d7e;\n",
       "  color: #000000;\n",
       "}\n",
       "#T_73f44_row14_col19 {\n",
       "  background-color: #d1dae9;\n",
       "  color: #000000;\n",
       "}\n",
       "#T_73f44_row15_col4 {\n",
       "  background-color: #6180e9;\n",
       "  color: #f1f1f1;\n",
       "}\n",
       "#T_73f44_row15_col13, #T_73f44_row19_col9, #T_73f44_row19_col15 {\n",
       "  background-color: #5b7ae5;\n",
       "  color: #f1f1f1;\n",
       "}\n",
       "#T_73f44_row15_col16 {\n",
       "  background-color: #dd5f4b;\n",
       "  color: #f1f1f1;\n",
       "}\n",
       "#T_73f44_row16_col12 {\n",
       "  background-color: #e8765c;\n",
       "  color: #f1f1f1;\n",
       "}\n",
       "#T_73f44_row17_col3 {\n",
       "  background-color: #e1dad6;\n",
       "  color: #000000;\n",
       "}\n",
       "#T_73f44_row17_col14, #T_73f44_row18_col11 {\n",
       "  background-color: #f7b599;\n",
       "  color: #000000;\n",
       "}\n",
       "#T_73f44_row18_col15 {\n",
       "  background-color: #7ea1fa;\n",
       "  color: #f1f1f1;\n",
       "}\n",
       "#T_73f44_row18_col17 {\n",
       "  background-color: #eed0c0;\n",
       "  color: #000000;\n",
       "}\n",
       "#T_73f44_row19_col4 {\n",
       "  background-color: #aac7fd;\n",
       "  color: #000000;\n",
       "}\n",
       "#T_73f44_row19_col11 {\n",
       "  background-color: #ecd3c5;\n",
       "  color: #000000;\n",
       "}\n",
       "#T_73f44_row19_col17 {\n",
       "  background-color: #c5d6f2;\n",
       "  color: #000000;\n",
       "}\n",
       "</style>\n",
       "<table id=\"T_73f44\">\n",
       "  <thead>\n",
       "    <tr>\n",
       "      <th class=\"blank level0\" >&nbsp;</th>\n",
       "      <th id=\"T_73f44_level0_col0\" class=\"col_heading level0 col0\" >estimator 1</th>\n",
       "      <th id=\"T_73f44_level0_col1\" class=\"col_heading level0 col1\" >estimator 2</th>\n",
       "      <th id=\"T_73f44_level0_col2\" class=\"col_heading level0 col2\" >estimator 3</th>\n",
       "      <th id=\"T_73f44_level0_col3\" class=\"col_heading level0 col3\" >estimator 4</th>\n",
       "      <th id=\"T_73f44_level0_col4\" class=\"col_heading level0 col4\" >estimator 5</th>\n",
       "      <th id=\"T_73f44_level0_col5\" class=\"col_heading level0 col5\" >estimator 6</th>\n",
       "      <th id=\"T_73f44_level0_col6\" class=\"col_heading level0 col6\" >estimator 7</th>\n",
       "      <th id=\"T_73f44_level0_col7\" class=\"col_heading level0 col7\" >estimator 8</th>\n",
       "      <th id=\"T_73f44_level0_col8\" class=\"col_heading level0 col8\" >estimator 9</th>\n",
       "      <th id=\"T_73f44_level0_col9\" class=\"col_heading level0 col9\" >estimator 10</th>\n",
       "      <th id=\"T_73f44_level0_col10\" class=\"col_heading level0 col10\" >estimator 11</th>\n",
       "      <th id=\"T_73f44_level0_col11\" class=\"col_heading level0 col11\" >estimator 12</th>\n",
       "      <th id=\"T_73f44_level0_col12\" class=\"col_heading level0 col12\" >estimator 13</th>\n",
       "      <th id=\"T_73f44_level0_col13\" class=\"col_heading level0 col13\" >estimator 14</th>\n",
       "      <th id=\"T_73f44_level0_col14\" class=\"col_heading level0 col14\" >estimator 15</th>\n",
       "      <th id=\"T_73f44_level0_col15\" class=\"col_heading level0 col15\" >estimator 16</th>\n",
       "      <th id=\"T_73f44_level0_col16\" class=\"col_heading level0 col16\" >estimator 17</th>\n",
       "      <th id=\"T_73f44_level0_col17\" class=\"col_heading level0 col17\" >estimator 18</th>\n",
       "      <th id=\"T_73f44_level0_col18\" class=\"col_heading level0 col18\" >estimator 19</th>\n",
       "      <th id=\"T_73f44_level0_col19\" class=\"col_heading level0 col19\" >estimator 20</th>\n",
       "    </tr>\n",
       "  </thead>\n",
       "  <tbody>\n",
       "    <tr>\n",
       "      <th id=\"T_73f44_level0_row0\" class=\"row_heading level0 row0\" >estimator 1</th>\n",
       "      <td id=\"T_73f44_row0_col0\" class=\"data row0 col0\" >1.000000</td>\n",
       "      <td id=\"T_73f44_row0_col1\" class=\"data row0 col1\" >0.860657</td>\n",
       "      <td id=\"T_73f44_row0_col2\" class=\"data row0 col2\" >0.931467</td>\n",
       "      <td id=\"T_73f44_row0_col3\" class=\"data row0 col3\" >0.842296</td>\n",
       "      <td id=\"T_73f44_row0_col4\" class=\"data row0 col4\" >0.860945</td>\n",
       "      <td id=\"T_73f44_row0_col5\" class=\"data row0 col5\" >0.958433</td>\n",
       "      <td id=\"T_73f44_row0_col6\" class=\"data row0 col6\" >0.941391</td>\n",
       "      <td id=\"T_73f44_row0_col7\" class=\"data row0 col7\" >0.860552</td>\n",
       "      <td id=\"T_73f44_row0_col8\" class=\"data row0 col8\" >0.930104</td>\n",
       "      <td id=\"T_73f44_row0_col9\" class=\"data row0 col9\" >0.945612</td>\n",
       "      <td id=\"T_73f44_row0_col10\" class=\"data row0 col10\" >0.862281</td>\n",
       "      <td id=\"T_73f44_row0_col11\" class=\"data row0 col11\" >0.870733</td>\n",
       "      <td id=\"T_73f44_row0_col12\" class=\"data row0 col12\" >0.956922</td>\n",
       "      <td id=\"T_73f44_row0_col13\" class=\"data row0 col13\" >0.836767</td>\n",
       "      <td id=\"T_73f44_row0_col14\" class=\"data row0 col14\" >0.836110</td>\n",
       "      <td id=\"T_73f44_row0_col15\" class=\"data row0 col15\" >0.954075</td>\n",
       "      <td id=\"T_73f44_row0_col16\" class=\"data row0 col16\" >0.945626</td>\n",
       "      <td id=\"T_73f44_row0_col17\" class=\"data row0 col17\" >0.861109</td>\n",
       "      <td id=\"T_73f44_row0_col18\" class=\"data row0 col18\" >0.866528</td>\n",
       "      <td id=\"T_73f44_row0_col19\" class=\"data row0 col19\" >0.844914</td>\n",
       "    </tr>\n",
       "    <tr>\n",
       "      <th id=\"T_73f44_level0_row1\" class=\"row_heading level0 row1\" >estimator 2</th>\n",
       "      <td id=\"T_73f44_row1_col0\" class=\"data row1 col0\" >0.860657</td>\n",
       "      <td id=\"T_73f44_row1_col1\" class=\"data row1 col1\" >1.000000</td>\n",
       "      <td id=\"T_73f44_row1_col2\" class=\"data row1 col2\" >0.863151</td>\n",
       "      <td id=\"T_73f44_row1_col3\" class=\"data row1 col3\" >0.941908</td>\n",
       "      <td id=\"T_73f44_row1_col4\" class=\"data row1 col4\" >0.951301</td>\n",
       "      <td id=\"T_73f44_row1_col5\" class=\"data row1 col5\" >0.864620</td>\n",
       "      <td id=\"T_73f44_row1_col6\" class=\"data row1 col6\" >0.881893</td>\n",
       "      <td id=\"T_73f44_row1_col7\" class=\"data row1 col7\" >0.956914</td>\n",
       "      <td id=\"T_73f44_row1_col8\" class=\"data row1 col8\" >0.888661</td>\n",
       "      <td id=\"T_73f44_row1_col9\" class=\"data row1 col9\" >0.858157</td>\n",
       "      <td id=\"T_73f44_row1_col10\" class=\"data row1 col10\" >0.947280</td>\n",
       "      <td id=\"T_73f44_row1_col11\" class=\"data row1 col11\" >0.989935</td>\n",
       "      <td id=\"T_73f44_row1_col12\" class=\"data row1 col12\" >0.883523</td>\n",
       "      <td id=\"T_73f44_row1_col13\" class=\"data row1 col13\" >0.916126</td>\n",
       "      <td id=\"T_73f44_row1_col14\" class=\"data row1 col14\" >0.944146</td>\n",
       "      <td id=\"T_73f44_row1_col15\" class=\"data row1 col15\" >0.897792</td>\n",
       "      <td id=\"T_73f44_row1_col16\" class=\"data row1 col16\" >0.889096</td>\n",
       "      <td id=\"T_73f44_row1_col17\" class=\"data row1 col17\" >0.957174</td>\n",
       "      <td id=\"T_73f44_row1_col18\" class=\"data row1 col18\" >0.942807</td>\n",
       "      <td id=\"T_73f44_row1_col19\" class=\"data row1 col19\" >0.941485</td>\n",
       "    </tr>\n",
       "    <tr>\n",
       "      <th id=\"T_73f44_level0_row2\" class=\"row_heading level0 row2\" >estimator 3</th>\n",
       "      <td id=\"T_73f44_row2_col0\" class=\"data row2 col0\" >0.931467</td>\n",
       "      <td id=\"T_73f44_row2_col1\" class=\"data row2 col1\" >0.863151</td>\n",
       "      <td id=\"T_73f44_row2_col2\" class=\"data row2 col2\" >1.000000</td>\n",
       "      <td id=\"T_73f44_row2_col3\" class=\"data row2 col3\" >0.857113</td>\n",
       "      <td id=\"T_73f44_row2_col4\" class=\"data row2 col4\" >0.864015</td>\n",
       "      <td id=\"T_73f44_row2_col5\" class=\"data row2 col5\" >0.958216</td>\n",
       "      <td id=\"T_73f44_row2_col6\" class=\"data row2 col6\" >0.972429</td>\n",
       "      <td id=\"T_73f44_row2_col7\" class=\"data row2 col7\" >0.841921</td>\n",
       "      <td id=\"T_73f44_row2_col8\" class=\"data row2 col8\" >0.919799</td>\n",
       "      <td id=\"T_73f44_row2_col9\" class=\"data row2 col9\" >0.934992</td>\n",
       "      <td id=\"T_73f44_row2_col10\" class=\"data row2 col10\" >0.863099</td>\n",
       "      <td id=\"T_73f44_row2_col11\" class=\"data row2 col11\" >0.855999</td>\n",
       "      <td id=\"T_73f44_row2_col12\" class=\"data row2 col12\" >0.945653</td>\n",
       "      <td id=\"T_73f44_row2_col13\" class=\"data row2 col13\" >0.821962</td>\n",
       "      <td id=\"T_73f44_row2_col14\" class=\"data row2 col14\" >0.831289</td>\n",
       "      <td id=\"T_73f44_row2_col15\" class=\"data row2 col15\" >0.959797</td>\n",
       "      <td id=\"T_73f44_row2_col16\" class=\"data row2 col16\" >0.968136</td>\n",
       "      <td id=\"T_73f44_row2_col17\" class=\"data row2 col17\" >0.847103</td>\n",
       "      <td id=\"T_73f44_row2_col18\" class=\"data row2 col18\" >0.850084</td>\n",
       "      <td id=\"T_73f44_row2_col19\" class=\"data row2 col19\" >0.871840</td>\n",
       "    </tr>\n",
       "    <tr>\n",
       "      <th id=\"T_73f44_level0_row3\" class=\"row_heading level0 row3\" >estimator 4</th>\n",
       "      <td id=\"T_73f44_row3_col0\" class=\"data row3 col0\" >0.842296</td>\n",
       "      <td id=\"T_73f44_row3_col1\" class=\"data row3 col1\" >0.941908</td>\n",
       "      <td id=\"T_73f44_row3_col2\" class=\"data row3 col2\" >0.857113</td>\n",
       "      <td id=\"T_73f44_row3_col3\" class=\"data row3 col3\" >1.000000</td>\n",
       "      <td id=\"T_73f44_row3_col4\" class=\"data row3 col4\" >0.902331</td>\n",
       "      <td id=\"T_73f44_row3_col5\" class=\"data row3 col5\" >0.845238</td>\n",
       "      <td id=\"T_73f44_row3_col6\" class=\"data row3 col6\" >0.879348</td>\n",
       "      <td id=\"T_73f44_row3_col7\" class=\"data row3 col7\" >0.961228</td>\n",
       "      <td id=\"T_73f44_row3_col8\" class=\"data row3 col8\" >0.863094</td>\n",
       "      <td id=\"T_73f44_row3_col9\" class=\"data row3 col9\" >0.840417</td>\n",
       "      <td id=\"T_73f44_row3_col10\" class=\"data row3 col10\" >0.953266</td>\n",
       "      <td id=\"T_73f44_row3_col11\" class=\"data row3 col11\" >0.940547</td>\n",
       "      <td id=\"T_73f44_row3_col12\" class=\"data row3 col12\" >0.865056</td>\n",
       "      <td id=\"T_73f44_row3_col13\" class=\"data row3 col13\" >0.941294</td>\n",
       "      <td id=\"T_73f44_row3_col14\" class=\"data row3 col14\" >0.915519</td>\n",
       "      <td id=\"T_73f44_row3_col15\" class=\"data row3 col15\" >0.867343</td>\n",
       "      <td id=\"T_73f44_row3_col16\" class=\"data row3 col16\" >0.886856</td>\n",
       "      <td id=\"T_73f44_row3_col17\" class=\"data row3 col17\" >0.923085</td>\n",
       "      <td id=\"T_73f44_row3_col18\" class=\"data row3 col18\" >0.966518</td>\n",
       "      <td id=\"T_73f44_row3_col19\" class=\"data row3 col19\" >0.962042</td>\n",
       "    </tr>\n",
       "    <tr>\n",
       "      <th id=\"T_73f44_level0_row4\" class=\"row_heading level0 row4\" >estimator 5</th>\n",
       "      <td id=\"T_73f44_row4_col0\" class=\"data row4 col0\" >0.860945</td>\n",
       "      <td id=\"T_73f44_row4_col1\" class=\"data row4 col1\" >0.951301</td>\n",
       "      <td id=\"T_73f44_row4_col2\" class=\"data row4 col2\" >0.864015</td>\n",
       "      <td id=\"T_73f44_row4_col3\" class=\"data row4 col3\" >0.902331</td>\n",
       "      <td id=\"T_73f44_row4_col4\" class=\"data row4 col4\" >1.000000</td>\n",
       "      <td id=\"T_73f44_row4_col5\" class=\"data row4 col5\" >0.893927</td>\n",
       "      <td id=\"T_73f44_row4_col6\" class=\"data row4 col6\" >0.862433</td>\n",
       "      <td id=\"T_73f44_row4_col7\" class=\"data row4 col7\" >0.928596</td>\n",
       "      <td id=\"T_73f44_row4_col8\" class=\"data row4 col8\" >0.891444</td>\n",
       "      <td id=\"T_73f44_row4_col9\" class=\"data row4 col9\" >0.869738</td>\n",
       "      <td id=\"T_73f44_row4_col10\" class=\"data row4 col10\" >0.945205</td>\n",
       "      <td id=\"T_73f44_row4_col11\" class=\"data row4 col11\" >0.958467</td>\n",
       "      <td id=\"T_73f44_row4_col12\" class=\"data row4 col12\" >0.886716</td>\n",
       "      <td id=\"T_73f44_row4_col13\" class=\"data row4 col13\" >0.908594</td>\n",
       "      <td id=\"T_73f44_row4_col14\" class=\"data row4 col14\" >0.933296</td>\n",
       "      <td id=\"T_73f44_row4_col15\" class=\"data row4 col15\" >0.878092</td>\n",
       "      <td id=\"T_73f44_row4_col16\" class=\"data row4 col16\" >0.869574</td>\n",
       "      <td id=\"T_73f44_row4_col17\" class=\"data row4 col17\" >0.968528</td>\n",
       "      <td id=\"T_73f44_row4_col18\" class=\"data row4 col18\" >0.929125</td>\n",
       "      <td id=\"T_73f44_row4_col19\" class=\"data row4 col19\" >0.907616</td>\n",
       "    </tr>\n",
       "    <tr>\n",
       "      <th id=\"T_73f44_level0_row5\" class=\"row_heading level0 row5\" >estimator 6</th>\n",
       "      <td id=\"T_73f44_row5_col0\" class=\"data row5 col0\" >0.958433</td>\n",
       "      <td id=\"T_73f44_row5_col1\" class=\"data row5 col1\" >0.864620</td>\n",
       "      <td id=\"T_73f44_row5_col2\" class=\"data row5 col2\" >0.958216</td>\n",
       "      <td id=\"T_73f44_row5_col3\" class=\"data row5 col3\" >0.845238</td>\n",
       "      <td id=\"T_73f44_row5_col4\" class=\"data row5 col4\" >0.893927</td>\n",
       "      <td id=\"T_73f44_row5_col5\" class=\"data row5 col5\" >1.000000</td>\n",
       "      <td id=\"T_73f44_row5_col6\" class=\"data row5 col6\" >0.950905</td>\n",
       "      <td id=\"T_73f44_row5_col7\" class=\"data row5 col7\" >0.864150</td>\n",
       "      <td id=\"T_73f44_row5_col8\" class=\"data row5 col8\" >0.952008</td>\n",
       "      <td id=\"T_73f44_row5_col9\" class=\"data row5 col9\" >0.961653</td>\n",
       "      <td id=\"T_73f44_row5_col10\" class=\"data row5 col10\" >0.882906</td>\n",
       "      <td id=\"T_73f44_row5_col11\" class=\"data row5 col11\" >0.874751</td>\n",
       "      <td id=\"T_73f44_row5_col12\" class=\"data row5 col12\" >0.978475</td>\n",
       "      <td id=\"T_73f44_row5_col13\" class=\"data row5 col13\" >0.851193</td>\n",
       "      <td id=\"T_73f44_row5_col14\" class=\"data row5 col14\" >0.842300</td>\n",
       "      <td id=\"T_73f44_row5_col15\" class=\"data row5 col15\" >0.963946</td>\n",
       "      <td id=\"T_73f44_row5_col16\" class=\"data row5 col16\" >0.955226</td>\n",
       "      <td id=\"T_73f44_row5_col17\" class=\"data row5 col17\" >0.868311</td>\n",
       "      <td id=\"T_73f44_row5_col18\" class=\"data row5 col18\" >0.872729</td>\n",
       "      <td id=\"T_73f44_row5_col19\" class=\"data row5 col19\" >0.845172</td>\n",
       "    </tr>\n",
       "    <tr>\n",
       "      <th id=\"T_73f44_level0_row6\" class=\"row_heading level0 row6\" >estimator 7</th>\n",
       "      <td id=\"T_73f44_row6_col0\" class=\"data row6 col0\" >0.941391</td>\n",
       "      <td id=\"T_73f44_row6_col1\" class=\"data row6 col1\" >0.881893</td>\n",
       "      <td id=\"T_73f44_row6_col2\" class=\"data row6 col2\" >0.972429</td>\n",
       "      <td id=\"T_73f44_row6_col3\" class=\"data row6 col3\" >0.879348</td>\n",
       "      <td id=\"T_73f44_row6_col4\" class=\"data row6 col4\" >0.862433</td>\n",
       "      <td id=\"T_73f44_row6_col5\" class=\"data row6 col5\" >0.950905</td>\n",
       "      <td id=\"T_73f44_row6_col6\" class=\"data row6 col6\" >1.000000</td>\n",
       "      <td id=\"T_73f44_row6_col7\" class=\"data row6 col7\" >0.866695</td>\n",
       "      <td id=\"T_73f44_row6_col8\" class=\"data row6 col8\" >0.943942</td>\n",
       "      <td id=\"T_73f44_row6_col9\" class=\"data row6 col9\" >0.936168</td>\n",
       "      <td id=\"T_73f44_row6_col10\" class=\"data row6 col10\" >0.859003</td>\n",
       "      <td id=\"T_73f44_row6_col11\" class=\"data row6 col11\" >0.880513</td>\n",
       "      <td id=\"T_73f44_row6_col12\" class=\"data row6 col12\" >0.970049</td>\n",
       "      <td id=\"T_73f44_row6_col13\" class=\"data row6 col13\" >0.832660</td>\n",
       "      <td id=\"T_73f44_row6_col14\" class=\"data row6 col14\" >0.841703</td>\n",
       "      <td id=\"T_73f44_row6_col15\" class=\"data row6 col15\" >0.975594</td>\n",
       "      <td id=\"T_73f44_row6_col16\" class=\"data row6 col16\" >0.992762</td>\n",
       "      <td id=\"T_73f44_row6_col17\" class=\"data row6 col17\" >0.868548</td>\n",
       "      <td id=\"T_73f44_row6_col18\" class=\"data row6 col18\" >0.860514</td>\n",
       "      <td id=\"T_73f44_row6_col19\" class=\"data row6 col19\" >0.876462</td>\n",
       "    </tr>\n",
       "    <tr>\n",
       "      <th id=\"T_73f44_level0_row7\" class=\"row_heading level0 row7\" >estimator 8</th>\n",
       "      <td id=\"T_73f44_row7_col0\" class=\"data row7 col0\" >0.860552</td>\n",
       "      <td id=\"T_73f44_row7_col1\" class=\"data row7 col1\" >0.956914</td>\n",
       "      <td id=\"T_73f44_row7_col2\" class=\"data row7 col2\" >0.841921</td>\n",
       "      <td id=\"T_73f44_row7_col3\" class=\"data row7 col3\" >0.961228</td>\n",
       "      <td id=\"T_73f44_row7_col4\" class=\"data row7 col4\" >0.928596</td>\n",
       "      <td id=\"T_73f44_row7_col5\" class=\"data row7 col5\" >0.864150</td>\n",
       "      <td id=\"T_73f44_row7_col6\" class=\"data row7 col6\" >0.866695</td>\n",
       "      <td id=\"T_73f44_row7_col7\" class=\"data row7 col7\" >1.000000</td>\n",
       "      <td id=\"T_73f44_row7_col8\" class=\"data row7 col8\" >0.883331</td>\n",
       "      <td id=\"T_73f44_row7_col9\" class=\"data row7 col9\" >0.858275</td>\n",
       "      <td id=\"T_73f44_row7_col10\" class=\"data row7 col10\" >0.978436</td>\n",
       "      <td id=\"T_73f44_row7_col11\" class=\"data row7 col11\" >0.967052</td>\n",
       "      <td id=\"T_73f44_row7_col12\" class=\"data row7 col12\" >0.883376</td>\n",
       "      <td id=\"T_73f44_row7_col13\" class=\"data row7 col13\" >0.949814</td>\n",
       "      <td id=\"T_73f44_row7_col14\" class=\"data row7 col14\" >0.926082</td>\n",
       "      <td id=\"T_73f44_row7_col15\" class=\"data row7 col15\" >0.877293</td>\n",
       "      <td id=\"T_73f44_row7_col16\" class=\"data row7 col16\" >0.874020</td>\n",
       "      <td id=\"T_73f44_row7_col17\" class=\"data row7 col17\" >0.943255</td>\n",
       "      <td id=\"T_73f44_row7_col18\" class=\"data row7 col18\" >0.976916</td>\n",
       "      <td id=\"T_73f44_row7_col19\" class=\"data row7 col19\" >0.955181</td>\n",
       "    </tr>\n",
       "    <tr>\n",
       "      <th id=\"T_73f44_level0_row8\" class=\"row_heading level0 row8\" >estimator 9</th>\n",
       "      <td id=\"T_73f44_row8_col0\" class=\"data row8 col0\" >0.930104</td>\n",
       "      <td id=\"T_73f44_row8_col1\" class=\"data row8 col1\" >0.888661</td>\n",
       "      <td id=\"T_73f44_row8_col2\" class=\"data row8 col2\" >0.919799</td>\n",
       "      <td id=\"T_73f44_row8_col3\" class=\"data row8 col3\" >0.863094</td>\n",
       "      <td id=\"T_73f44_row8_col4\" class=\"data row8 col4\" >0.891444</td>\n",
       "      <td id=\"T_73f44_row8_col5\" class=\"data row8 col5\" >0.952008</td>\n",
       "      <td id=\"T_73f44_row8_col6\" class=\"data row8 col6\" >0.943942</td>\n",
       "      <td id=\"T_73f44_row8_col7\" class=\"data row8 col7\" >0.883331</td>\n",
       "      <td id=\"T_73f44_row8_col8\" class=\"data row8 col8\" >1.000000</td>\n",
       "      <td id=\"T_73f44_row8_col9\" class=\"data row8 col9\" >0.944323</td>\n",
       "      <td id=\"T_73f44_row8_col10\" class=\"data row8 col10\" >0.871180</td>\n",
       "      <td id=\"T_73f44_row8_col11\" class=\"data row8 col11\" >0.898672</td>\n",
       "      <td id=\"T_73f44_row8_col12\" class=\"data row8 col12\" >0.970291</td>\n",
       "      <td id=\"T_73f44_row8_col13\" class=\"data row8 col13\" >0.857807</td>\n",
       "      <td id=\"T_73f44_row8_col14\" class=\"data row8 col14\" >0.853528</td>\n",
       "      <td id=\"T_73f44_row8_col15\" class=\"data row8 col15\" >0.956180</td>\n",
       "      <td id=\"T_73f44_row8_col16\" class=\"data row8 col16\" >0.950946</td>\n",
       "      <td id=\"T_73f44_row8_col17\" class=\"data row8 col17\" >0.888604</td>\n",
       "      <td id=\"T_73f44_row8_col18\" class=\"data row8 col18\" >0.878199</td>\n",
       "      <td id=\"T_73f44_row8_col19\" class=\"data row8 col19\" >0.850978</td>\n",
       "    </tr>\n",
       "    <tr>\n",
       "      <th id=\"T_73f44_level0_row9\" class=\"row_heading level0 row9\" >estimator 10</th>\n",
       "      <td id=\"T_73f44_row9_col0\" class=\"data row9 col0\" >0.945612</td>\n",
       "      <td id=\"T_73f44_row9_col1\" class=\"data row9 col1\" >0.858157</td>\n",
       "      <td id=\"T_73f44_row9_col2\" class=\"data row9 col2\" >0.934992</td>\n",
       "      <td id=\"T_73f44_row9_col3\" class=\"data row9 col3\" >0.840417</td>\n",
       "      <td id=\"T_73f44_row9_col4\" class=\"data row9 col4\" >0.869738</td>\n",
       "      <td id=\"T_73f44_row9_col5\" class=\"data row9 col5\" >0.961653</td>\n",
       "      <td id=\"T_73f44_row9_col6\" class=\"data row9 col6\" >0.936168</td>\n",
       "      <td id=\"T_73f44_row9_col7\" class=\"data row9 col7\" >0.858275</td>\n",
       "      <td id=\"T_73f44_row9_col8\" class=\"data row9 col8\" >0.944323</td>\n",
       "      <td id=\"T_73f44_row9_col9\" class=\"data row9 col9\" >1.000000</td>\n",
       "      <td id=\"T_73f44_row9_col10\" class=\"data row9 col10\" >0.863131</td>\n",
       "      <td id=\"T_73f44_row9_col11\" class=\"data row9 col11\" >0.865333</td>\n",
       "      <td id=\"T_73f44_row9_col12\" class=\"data row9 col12\" >0.962859</td>\n",
       "      <td id=\"T_73f44_row9_col13\" class=\"data row9 col13\" >0.846601</td>\n",
       "      <td id=\"T_73f44_row9_col14\" class=\"data row9 col14\" >0.836901</td>\n",
       "      <td id=\"T_73f44_row9_col15\" class=\"data row9 col15\" >0.948634</td>\n",
       "      <td id=\"T_73f44_row9_col16\" class=\"data row9 col16\" >0.943230</td>\n",
       "      <td id=\"T_73f44_row9_col17\" class=\"data row9 col17\" >0.861247</td>\n",
       "      <td id=\"T_73f44_row9_col18\" class=\"data row9 col18\" >0.867321</td>\n",
       "      <td id=\"T_73f44_row9_col19\" class=\"data row9 col19\" >0.854461</td>\n",
       "    </tr>\n",
       "    <tr>\n",
       "      <th id=\"T_73f44_level0_row10\" class=\"row_heading level0 row10\" >estimator 11</th>\n",
       "      <td id=\"T_73f44_row10_col0\" class=\"data row10 col0\" >0.862281</td>\n",
       "      <td id=\"T_73f44_row10_col1\" class=\"data row10 col1\" >0.947280</td>\n",
       "      <td id=\"T_73f44_row10_col2\" class=\"data row10 col2\" >0.863099</td>\n",
       "      <td id=\"T_73f44_row10_col3\" class=\"data row10 col3\" >0.953266</td>\n",
       "      <td id=\"T_73f44_row10_col4\" class=\"data row10 col4\" >0.945205</td>\n",
       "      <td id=\"T_73f44_row10_col5\" class=\"data row10 col5\" >0.882906</td>\n",
       "      <td id=\"T_73f44_row10_col6\" class=\"data row10 col6\" >0.859003</td>\n",
       "      <td id=\"T_73f44_row10_col7\" class=\"data row10 col7\" >0.978436</td>\n",
       "      <td id=\"T_73f44_row10_col8\" class=\"data row10 col8\" >0.871180</td>\n",
       "      <td id=\"T_73f44_row10_col9\" class=\"data row10 col9\" >0.863131</td>\n",
       "      <td id=\"T_73f44_row10_col10\" class=\"data row10 col10\" >1.000000</td>\n",
       "      <td id=\"T_73f44_row10_col11\" class=\"data row10 col11\" >0.957492</td>\n",
       "      <td id=\"T_73f44_row10_col12\" class=\"data row10 col12\" >0.873484</td>\n",
       "      <td id=\"T_73f44_row10_col13\" class=\"data row10 col13\" >0.950392</td>\n",
       "      <td id=\"T_73f44_row10_col14\" class=\"data row10 col14\" >0.930112</td>\n",
       "      <td id=\"T_73f44_row10_col15\" class=\"data row10 col15\" >0.870076</td>\n",
       "      <td id=\"T_73f44_row10_col16\" class=\"data row10 col16\" >0.866458</td>\n",
       "      <td id=\"T_73f44_row10_col17\" class=\"data row10 col17\" >0.934031</td>\n",
       "      <td id=\"T_73f44_row10_col18\" class=\"data row10 col18\" >0.978140</td>\n",
       "      <td id=\"T_73f44_row10_col19\" class=\"data row10 col19\" >0.959143</td>\n",
       "    </tr>\n",
       "    <tr>\n",
       "      <th id=\"T_73f44_level0_row11\" class=\"row_heading level0 row11\" >estimator 12</th>\n",
       "      <td id=\"T_73f44_row11_col0\" class=\"data row11 col0\" >0.870733</td>\n",
       "      <td id=\"T_73f44_row11_col1\" class=\"data row11 col1\" >0.989935</td>\n",
       "      <td id=\"T_73f44_row11_col2\" class=\"data row11 col2\" >0.855999</td>\n",
       "      <td id=\"T_73f44_row11_col3\" class=\"data row11 col3\" >0.940547</td>\n",
       "      <td id=\"T_73f44_row11_col4\" class=\"data row11 col4\" >0.958467</td>\n",
       "      <td id=\"T_73f44_row11_col5\" class=\"data row11 col5\" >0.874751</td>\n",
       "      <td id=\"T_73f44_row11_col6\" class=\"data row11 col6\" >0.880513</td>\n",
       "      <td id=\"T_73f44_row11_col7\" class=\"data row11 col7\" >0.967052</td>\n",
       "      <td id=\"T_73f44_row11_col8\" class=\"data row11 col8\" >0.898672</td>\n",
       "      <td id=\"T_73f44_row11_col9\" class=\"data row11 col9\" >0.865333</td>\n",
       "      <td id=\"T_73f44_row11_col10\" class=\"data row11 col10\" >0.957492</td>\n",
       "      <td id=\"T_73f44_row11_col11\" class=\"data row11 col11\" >1.000000</td>\n",
       "      <td id=\"T_73f44_row11_col12\" class=\"data row11 col12\" >0.893611</td>\n",
       "      <td id=\"T_73f44_row11_col13\" class=\"data row11 col13\" >0.926416</td>\n",
       "      <td id=\"T_73f44_row11_col14\" class=\"data row11 col14\" >0.945653</td>\n",
       "      <td id=\"T_73f44_row11_col15\" class=\"data row11 col15\" >0.893506</td>\n",
       "      <td id=\"T_73f44_row11_col16\" class=\"data row11 col16\" >0.887709</td>\n",
       "      <td id=\"T_73f44_row11_col17\" class=\"data row11 col17\" >0.964325</td>\n",
       "      <td id=\"T_73f44_row11_col18\" class=\"data row11 col18\" >0.953006</td>\n",
       "      <td id=\"T_73f44_row11_col19\" class=\"data row11 col19\" >0.937214</td>\n",
       "    </tr>\n",
       "    <tr>\n",
       "      <th id=\"T_73f44_level0_row12\" class=\"row_heading level0 row12\" >estimator 13</th>\n",
       "      <td id=\"T_73f44_row12_col0\" class=\"data row12 col0\" >0.956922</td>\n",
       "      <td id=\"T_73f44_row12_col1\" class=\"data row12 col1\" >0.883523</td>\n",
       "      <td id=\"T_73f44_row12_col2\" class=\"data row12 col2\" >0.945653</td>\n",
       "      <td id=\"T_73f44_row12_col3\" class=\"data row12 col3\" >0.865056</td>\n",
       "      <td id=\"T_73f44_row12_col4\" class=\"data row12 col4\" >0.886716</td>\n",
       "      <td id=\"T_73f44_row12_col5\" class=\"data row12 col5\" >0.978475</td>\n",
       "      <td id=\"T_73f44_row12_col6\" class=\"data row12 col6\" >0.970049</td>\n",
       "      <td id=\"T_73f44_row12_col7\" class=\"data row12 col7\" >0.883376</td>\n",
       "      <td id=\"T_73f44_row12_col8\" class=\"data row12 col8\" >0.970291</td>\n",
       "      <td id=\"T_73f44_row12_col9\" class=\"data row12 col9\" >0.962859</td>\n",
       "      <td id=\"T_73f44_row12_col10\" class=\"data row12 col10\" >0.873484</td>\n",
       "      <td id=\"T_73f44_row12_col11\" class=\"data row12 col11\" >0.893611</td>\n",
       "      <td id=\"T_73f44_row12_col12\" class=\"data row12 col12\" >1.000000</td>\n",
       "      <td id=\"T_73f44_row12_col13\" class=\"data row12 col13\" >0.856605</td>\n",
       "      <td id=\"T_73f44_row12_col14\" class=\"data row12 col14\" >0.850215</td>\n",
       "      <td id=\"T_73f44_row12_col15\" class=\"data row12 col15\" >0.979883</td>\n",
       "      <td id=\"T_73f44_row12_col16\" class=\"data row12 col16\" >0.974292</td>\n",
       "      <td id=\"T_73f44_row12_col17\" class=\"data row12 col17\" >0.884025</td>\n",
       "      <td id=\"T_73f44_row12_col18\" class=\"data row12 col18\" >0.877751</td>\n",
       "      <td id=\"T_73f44_row12_col19\" class=\"data row12 col19\" >0.850310</td>\n",
       "    </tr>\n",
       "    <tr>\n",
       "      <th id=\"T_73f44_level0_row13\" class=\"row_heading level0 row13\" >estimator 14</th>\n",
       "      <td id=\"T_73f44_row13_col0\" class=\"data row13 col0\" >0.836767</td>\n",
       "      <td id=\"T_73f44_row13_col1\" class=\"data row13 col1\" >0.916126</td>\n",
       "      <td id=\"T_73f44_row13_col2\" class=\"data row13 col2\" >0.821962</td>\n",
       "      <td id=\"T_73f44_row13_col3\" class=\"data row13 col3\" >0.941294</td>\n",
       "      <td id=\"T_73f44_row13_col4\" class=\"data row13 col4\" >0.908594</td>\n",
       "      <td id=\"T_73f44_row13_col5\" class=\"data row13 col5\" >0.851193</td>\n",
       "      <td id=\"T_73f44_row13_col6\" class=\"data row13 col6\" >0.832660</td>\n",
       "      <td id=\"T_73f44_row13_col7\" class=\"data row13 col7\" >0.949814</td>\n",
       "      <td id=\"T_73f44_row13_col8\" class=\"data row13 col8\" >0.857807</td>\n",
       "      <td id=\"T_73f44_row13_col9\" class=\"data row13 col9\" >0.846601</td>\n",
       "      <td id=\"T_73f44_row13_col10\" class=\"data row13 col10\" >0.950392</td>\n",
       "      <td id=\"T_73f44_row13_col11\" class=\"data row13 col11\" >0.926416</td>\n",
       "      <td id=\"T_73f44_row13_col12\" class=\"data row13 col12\" >0.856605</td>\n",
       "      <td id=\"T_73f44_row13_col13\" class=\"data row13 col13\" >1.000000</td>\n",
       "      <td id=\"T_73f44_row13_col14\" class=\"data row13 col14\" >0.953617</td>\n",
       "      <td id=\"T_73f44_row13_col15\" class=\"data row13 col15\" >0.841333</td>\n",
       "      <td id=\"T_73f44_row13_col16\" class=\"data row13 col16\" >0.837335</td>\n",
       "      <td id=\"T_73f44_row13_col17\" class=\"data row13 col17\" >0.912025</td>\n",
       "      <td id=\"T_73f44_row13_col18\" class=\"data row13 col18\" >0.963709</td>\n",
       "      <td id=\"T_73f44_row13_col19\" class=\"data row13 col19\" >0.929879</td>\n",
       "    </tr>\n",
       "    <tr>\n",
       "      <th id=\"T_73f44_level0_row14\" class=\"row_heading level0 row14\" >estimator 15</th>\n",
       "      <td id=\"T_73f44_row14_col0\" class=\"data row14 col0\" >0.836110</td>\n",
       "      <td id=\"T_73f44_row14_col1\" class=\"data row14 col1\" >0.944146</td>\n",
       "      <td id=\"T_73f44_row14_col2\" class=\"data row14 col2\" >0.831289</td>\n",
       "      <td id=\"T_73f44_row14_col3\" class=\"data row14 col3\" >0.915519</td>\n",
       "      <td id=\"T_73f44_row14_col4\" class=\"data row14 col4\" >0.933296</td>\n",
       "      <td id=\"T_73f44_row14_col5\" class=\"data row14 col5\" >0.842300</td>\n",
       "      <td id=\"T_73f44_row14_col6\" class=\"data row14 col6\" >0.841703</td>\n",
       "      <td id=\"T_73f44_row14_col7\" class=\"data row14 col7\" >0.926082</td>\n",
       "      <td id=\"T_73f44_row14_col8\" class=\"data row14 col8\" >0.853528</td>\n",
       "      <td id=\"T_73f44_row14_col9\" class=\"data row14 col9\" >0.836901</td>\n",
       "      <td id=\"T_73f44_row14_col10\" class=\"data row14 col10\" >0.930112</td>\n",
       "      <td id=\"T_73f44_row14_col11\" class=\"data row14 col11\" >0.945653</td>\n",
       "      <td id=\"T_73f44_row14_col12\" class=\"data row14 col12\" >0.850215</td>\n",
       "      <td id=\"T_73f44_row14_col13\" class=\"data row14 col13\" >0.953617</td>\n",
       "      <td id=\"T_73f44_row14_col14\" class=\"data row14 col14\" >1.000000</td>\n",
       "      <td id=\"T_73f44_row14_col15\" class=\"data row14 col15\" >0.849753</td>\n",
       "      <td id=\"T_73f44_row14_col16\" class=\"data row14 col16\" >0.846218</td>\n",
       "      <td id=\"T_73f44_row14_col17\" class=\"data row14 col17\" >0.945175</td>\n",
       "      <td id=\"T_73f44_row14_col18\" class=\"data row14 col18\" >0.925775</td>\n",
       "      <td id=\"T_73f44_row14_col19\" class=\"data row14 col19\" >0.915544</td>\n",
       "    </tr>\n",
       "    <tr>\n",
       "      <th id=\"T_73f44_level0_row15\" class=\"row_heading level0 row15\" >estimator 16</th>\n",
       "      <td id=\"T_73f44_row15_col0\" class=\"data row15 col0\" >0.954075</td>\n",
       "      <td id=\"T_73f44_row15_col1\" class=\"data row15 col1\" >0.897792</td>\n",
       "      <td id=\"T_73f44_row15_col2\" class=\"data row15 col2\" >0.959797</td>\n",
       "      <td id=\"T_73f44_row15_col3\" class=\"data row15 col3\" >0.867343</td>\n",
       "      <td id=\"T_73f44_row15_col4\" class=\"data row15 col4\" >0.878092</td>\n",
       "      <td id=\"T_73f44_row15_col5\" class=\"data row15 col5\" >0.963946</td>\n",
       "      <td id=\"T_73f44_row15_col6\" class=\"data row15 col6\" >0.975594</td>\n",
       "      <td id=\"T_73f44_row15_col7\" class=\"data row15 col7\" >0.877293</td>\n",
       "      <td id=\"T_73f44_row15_col8\" class=\"data row15 col8\" >0.956180</td>\n",
       "      <td id=\"T_73f44_row15_col9\" class=\"data row15 col9\" >0.948634</td>\n",
       "      <td id=\"T_73f44_row15_col10\" class=\"data row15 col10\" >0.870076</td>\n",
       "      <td id=\"T_73f44_row15_col11\" class=\"data row15 col11\" >0.893506</td>\n",
       "      <td id=\"T_73f44_row15_col12\" class=\"data row15 col12\" >0.979883</td>\n",
       "      <td id=\"T_73f44_row15_col13\" class=\"data row15 col13\" >0.841333</td>\n",
       "      <td id=\"T_73f44_row15_col14\" class=\"data row15 col14\" >0.849753</td>\n",
       "      <td id=\"T_73f44_row15_col15\" class=\"data row15 col15\" >1.000000</td>\n",
       "      <td id=\"T_73f44_row15_col16\" class=\"data row15 col16\" >0.979875</td>\n",
       "      <td id=\"T_73f44_row15_col17\" class=\"data row15 col17\" >0.881197</td>\n",
       "      <td id=\"T_73f44_row15_col18\" class=\"data row15 col18\" >0.874389</td>\n",
       "      <td id=\"T_73f44_row15_col19\" class=\"data row15 col19\" >0.858474</td>\n",
       "    </tr>\n",
       "    <tr>\n",
       "      <th id=\"T_73f44_level0_row16\" class=\"row_heading level0 row16\" >estimator 17</th>\n",
       "      <td id=\"T_73f44_row16_col0\" class=\"data row16 col0\" >0.945626</td>\n",
       "      <td id=\"T_73f44_row16_col1\" class=\"data row16 col1\" >0.889096</td>\n",
       "      <td id=\"T_73f44_row16_col2\" class=\"data row16 col2\" >0.968136</td>\n",
       "      <td id=\"T_73f44_row16_col3\" class=\"data row16 col3\" >0.886856</td>\n",
       "      <td id=\"T_73f44_row16_col4\" class=\"data row16 col4\" >0.869574</td>\n",
       "      <td id=\"T_73f44_row16_col5\" class=\"data row16 col5\" >0.955226</td>\n",
       "      <td id=\"T_73f44_row16_col6\" class=\"data row16 col6\" >0.992762</td>\n",
       "      <td id=\"T_73f44_row16_col7\" class=\"data row16 col7\" >0.874020</td>\n",
       "      <td id=\"T_73f44_row16_col8\" class=\"data row16 col8\" >0.950946</td>\n",
       "      <td id=\"T_73f44_row16_col9\" class=\"data row16 col9\" >0.943230</td>\n",
       "      <td id=\"T_73f44_row16_col10\" class=\"data row16 col10\" >0.866458</td>\n",
       "      <td id=\"T_73f44_row16_col11\" class=\"data row16 col11\" >0.887709</td>\n",
       "      <td id=\"T_73f44_row16_col12\" class=\"data row16 col12\" >0.974292</td>\n",
       "      <td id=\"T_73f44_row16_col13\" class=\"data row16 col13\" >0.837335</td>\n",
       "      <td id=\"T_73f44_row16_col14\" class=\"data row16 col14\" >0.846218</td>\n",
       "      <td id=\"T_73f44_row16_col15\" class=\"data row16 col15\" >0.979875</td>\n",
       "      <td id=\"T_73f44_row16_col16\" class=\"data row16 col16\" >1.000000</td>\n",
       "      <td id=\"T_73f44_row16_col17\" class=\"data row16 col17\" >0.875654</td>\n",
       "      <td id=\"T_73f44_row16_col18\" class=\"data row16 col18\" >0.867942</td>\n",
       "      <td id=\"T_73f44_row16_col19\" class=\"data row16 col19\" >0.875181</td>\n",
       "    </tr>\n",
       "    <tr>\n",
       "      <th id=\"T_73f44_level0_row17\" class=\"row_heading level0 row17\" >estimator 18</th>\n",
       "      <td id=\"T_73f44_row17_col0\" class=\"data row17 col0\" >0.861109</td>\n",
       "      <td id=\"T_73f44_row17_col1\" class=\"data row17 col1\" >0.957174</td>\n",
       "      <td id=\"T_73f44_row17_col2\" class=\"data row17 col2\" >0.847103</td>\n",
       "      <td id=\"T_73f44_row17_col3\" class=\"data row17 col3\" >0.923085</td>\n",
       "      <td id=\"T_73f44_row17_col4\" class=\"data row17 col4\" >0.968528</td>\n",
       "      <td id=\"T_73f44_row17_col5\" class=\"data row17 col5\" >0.868311</td>\n",
       "      <td id=\"T_73f44_row17_col6\" class=\"data row17 col6\" >0.868548</td>\n",
       "      <td id=\"T_73f44_row17_col7\" class=\"data row17 col7\" >0.943255</td>\n",
       "      <td id=\"T_73f44_row17_col8\" class=\"data row17 col8\" >0.888604</td>\n",
       "      <td id=\"T_73f44_row17_col9\" class=\"data row17 col9\" >0.861247</td>\n",
       "      <td id=\"T_73f44_row17_col10\" class=\"data row17 col10\" >0.934031</td>\n",
       "      <td id=\"T_73f44_row17_col11\" class=\"data row17 col11\" >0.964325</td>\n",
       "      <td id=\"T_73f44_row17_col12\" class=\"data row17 col12\" >0.884025</td>\n",
       "      <td id=\"T_73f44_row17_col13\" class=\"data row17 col13\" >0.912025</td>\n",
       "      <td id=\"T_73f44_row17_col14\" class=\"data row17 col14\" >0.945175</td>\n",
       "      <td id=\"T_73f44_row17_col15\" class=\"data row17 col15\" >0.881197</td>\n",
       "      <td id=\"T_73f44_row17_col16\" class=\"data row17 col16\" >0.875654</td>\n",
       "      <td id=\"T_73f44_row17_col17\" class=\"data row17 col17\" >1.000000</td>\n",
       "      <td id=\"T_73f44_row17_col18\" class=\"data row17 col18\" >0.935268</td>\n",
       "      <td id=\"T_73f44_row17_col19\" class=\"data row17 col19\" >0.910917</td>\n",
       "    </tr>\n",
       "    <tr>\n",
       "      <th id=\"T_73f44_level0_row18\" class=\"row_heading level0 row18\" >estimator 19</th>\n",
       "      <td id=\"T_73f44_row18_col0\" class=\"data row18 col0\" >0.866528</td>\n",
       "      <td id=\"T_73f44_row18_col1\" class=\"data row18 col1\" >0.942807</td>\n",
       "      <td id=\"T_73f44_row18_col2\" class=\"data row18 col2\" >0.850084</td>\n",
       "      <td id=\"T_73f44_row18_col3\" class=\"data row18 col3\" >0.966518</td>\n",
       "      <td id=\"T_73f44_row18_col4\" class=\"data row18 col4\" >0.929125</td>\n",
       "      <td id=\"T_73f44_row18_col5\" class=\"data row18 col5\" >0.872729</td>\n",
       "      <td id=\"T_73f44_row18_col6\" class=\"data row18 col6\" >0.860514</td>\n",
       "      <td id=\"T_73f44_row18_col7\" class=\"data row18 col7\" >0.976916</td>\n",
       "      <td id=\"T_73f44_row18_col8\" class=\"data row18 col8\" >0.878199</td>\n",
       "      <td id=\"T_73f44_row18_col9\" class=\"data row18 col9\" >0.867321</td>\n",
       "      <td id=\"T_73f44_row18_col10\" class=\"data row18 col10\" >0.978140</td>\n",
       "      <td id=\"T_73f44_row18_col11\" class=\"data row18 col11\" >0.953006</td>\n",
       "      <td id=\"T_73f44_row18_col12\" class=\"data row18 col12\" >0.877751</td>\n",
       "      <td id=\"T_73f44_row18_col13\" class=\"data row18 col13\" >0.963709</td>\n",
       "      <td id=\"T_73f44_row18_col14\" class=\"data row18 col14\" >0.925775</td>\n",
       "      <td id=\"T_73f44_row18_col15\" class=\"data row18 col15\" >0.874389</td>\n",
       "      <td id=\"T_73f44_row18_col16\" class=\"data row18 col16\" >0.867942</td>\n",
       "      <td id=\"T_73f44_row18_col17\" class=\"data row18 col17\" >0.935268</td>\n",
       "      <td id=\"T_73f44_row18_col18\" class=\"data row18 col18\" >1.000000</td>\n",
       "      <td id=\"T_73f44_row18_col19\" class=\"data row18 col19\" >0.954812</td>\n",
       "    </tr>\n",
       "    <tr>\n",
       "      <th id=\"T_73f44_level0_row19\" class=\"row_heading level0 row19\" >estimator 20</th>\n",
       "      <td id=\"T_73f44_row19_col0\" class=\"data row19 col0\" >0.844914</td>\n",
       "      <td id=\"T_73f44_row19_col1\" class=\"data row19 col1\" >0.941485</td>\n",
       "      <td id=\"T_73f44_row19_col2\" class=\"data row19 col2\" >0.871840</td>\n",
       "      <td id=\"T_73f44_row19_col3\" class=\"data row19 col3\" >0.962042</td>\n",
       "      <td id=\"T_73f44_row19_col4\" class=\"data row19 col4\" >0.907616</td>\n",
       "      <td id=\"T_73f44_row19_col5\" class=\"data row19 col5\" >0.845172</td>\n",
       "      <td id=\"T_73f44_row19_col6\" class=\"data row19 col6\" >0.876462</td>\n",
       "      <td id=\"T_73f44_row19_col7\" class=\"data row19 col7\" >0.955181</td>\n",
       "      <td id=\"T_73f44_row19_col8\" class=\"data row19 col8\" >0.850978</td>\n",
       "      <td id=\"T_73f44_row19_col9\" class=\"data row19 col9\" >0.854461</td>\n",
       "      <td id=\"T_73f44_row19_col10\" class=\"data row19 col10\" >0.959143</td>\n",
       "      <td id=\"T_73f44_row19_col11\" class=\"data row19 col11\" >0.937214</td>\n",
       "      <td id=\"T_73f44_row19_col12\" class=\"data row19 col12\" >0.850310</td>\n",
       "      <td id=\"T_73f44_row19_col13\" class=\"data row19 col13\" >0.929879</td>\n",
       "      <td id=\"T_73f44_row19_col14\" class=\"data row19 col14\" >0.915544</td>\n",
       "      <td id=\"T_73f44_row19_col15\" class=\"data row19 col15\" >0.858474</td>\n",
       "      <td id=\"T_73f44_row19_col16\" class=\"data row19 col16\" >0.875181</td>\n",
       "      <td id=\"T_73f44_row19_col17\" class=\"data row19 col17\" >0.910917</td>\n",
       "      <td id=\"T_73f44_row19_col18\" class=\"data row19 col18\" >0.954812</td>\n",
       "      <td id=\"T_73f44_row19_col19\" class=\"data row19 col19\" >1.000000</td>\n",
       "    </tr>\n",
       "  </tbody>\n",
       "</table>\n"
      ],
      "text/plain": [
       "<pandas.io.formats.style.Styler at 0x24f58d95d90>"
      ]
     },
     "execution_count": 121,
     "metadata": {},
     "output_type": "execute_result"
    }
   ],
   "source": [
    "get_correlation(X_testR, y_testR, Bag).style.background_gradient(cmap='coolwarm')\n"
   ]
  },
  {
   "cell_type": "markdown",
   "id": "6d44e2ee-7a11-4afe-8fc2-3a5afd9e9a0c",
   "metadata": {},
   "source": [
    "## Random Forest"
   ]
  },
  {
   "cell_type": "code",
   "execution_count": 114,
   "id": "d575d966-e9f8-4eb3-8c9d-b1f8d6f54e4d",
   "metadata": {
    "tags": []
   },
   "outputs": [],
   "source": [
    "from sklearn.ensemble import RandomForestClassifier"
   ]
  },
  {
   "cell_type": "code",
   "execution_count": 115,
   "id": "aeaf36f9-c72c-4f5a-98df-9d5349a37d78",
   "metadata": {
    "tags": []
   },
   "outputs": [],
   "source": [
    "n_estimators=20"
   ]
  },
  {
   "cell_type": "code",
   "execution_count": 122,
   "id": "746ea98f-38dd-4782-8d40-474d10c8ade2",
   "metadata": {
    "tags": []
   },
   "outputs": [],
   "source": [
    "M_features=X_raw.shape[1]"
   ]
  },
  {
   "cell_type": "code",
   "execution_count": 123,
   "id": "7bc34dc5-3757-4db7-80aa-cfb05d266b78",
   "metadata": {
    "tags": []
   },
   "outputs": [
    {
     "data": {
      "text/plain": [
       "19"
      ]
     },
     "execution_count": 123,
     "metadata": {},
     "output_type": "execute_result"
    }
   ],
   "source": [
    "M_features"
   ]
  },
  {
   "cell_type": "code",
   "execution_count": 124,
   "id": "9dec56b5-2906-40a4-8e76-9b66282f4dab",
   "metadata": {
    "tags": []
   },
   "outputs": [
    {
     "data": {
      "text/plain": [
       "3"
      ]
     },
     "execution_count": 124,
     "metadata": {},
     "output_type": "execute_result"
    }
   ],
   "source": [
    "max_features=round(np.sqrt(M_features))-1\n",
    "max_features"
   ]
  },
  {
   "cell_type": "code",
   "execution_count": 125,
   "id": "b058df95-78c7-4da4-89d5-6a434ebdcc68",
   "metadata": {
    "tags": []
   },
   "outputs": [],
   "source": [
    "model = RandomForestClassifier( max_features=max_features, n_estimators=n_estimators, random_state=0)"
   ]
  },
  {
   "cell_type": "code",
   "execution_count": 126,
   "id": "579eb3c4-b2c3-43e6-9bc2-172072db3a52",
   "metadata": {
    "tags": []
   },
   "outputs": [
    {
     "data": {
      "text/html": [
       "<style>#sk-container-id-5 {color: black;}#sk-container-id-5 pre{padding: 0;}#sk-container-id-5 div.sk-toggleable {background-color: white;}#sk-container-id-5 label.sk-toggleable__label {cursor: pointer;display: block;width: 100%;margin-bottom: 0;padding: 0.3em;box-sizing: border-box;text-align: center;}#sk-container-id-5 label.sk-toggleable__label-arrow:before {content: \"▸\";float: left;margin-right: 0.25em;color: #696969;}#sk-container-id-5 label.sk-toggleable__label-arrow:hover:before {color: black;}#sk-container-id-5 div.sk-estimator:hover label.sk-toggleable__label-arrow:before {color: black;}#sk-container-id-5 div.sk-toggleable__content {max-height: 0;max-width: 0;overflow: hidden;text-align: left;background-color: #f0f8ff;}#sk-container-id-5 div.sk-toggleable__content pre {margin: 0.2em;color: black;border-radius: 0.25em;background-color: #f0f8ff;}#sk-container-id-5 input.sk-toggleable__control:checked~div.sk-toggleable__content {max-height: 200px;max-width: 100%;overflow: auto;}#sk-container-id-5 input.sk-toggleable__control:checked~label.sk-toggleable__label-arrow:before {content: \"▾\";}#sk-container-id-5 div.sk-estimator input.sk-toggleable__control:checked~label.sk-toggleable__label {background-color: #d4ebff;}#sk-container-id-5 div.sk-label input.sk-toggleable__control:checked~label.sk-toggleable__label {background-color: #d4ebff;}#sk-container-id-5 input.sk-hidden--visually {border: 0;clip: rect(1px 1px 1px 1px);clip: rect(1px, 1px, 1px, 1px);height: 1px;margin: -1px;overflow: hidden;padding: 0;position: absolute;width: 1px;}#sk-container-id-5 div.sk-estimator {font-family: monospace;background-color: #f0f8ff;border: 1px dotted black;border-radius: 0.25em;box-sizing: border-box;margin-bottom: 0.5em;}#sk-container-id-5 div.sk-estimator:hover {background-color: #d4ebff;}#sk-container-id-5 div.sk-parallel-item::after {content: \"\";width: 100%;border-bottom: 1px solid gray;flex-grow: 1;}#sk-container-id-5 div.sk-label:hover label.sk-toggleable__label {background-color: #d4ebff;}#sk-container-id-5 div.sk-serial::before {content: \"\";position: absolute;border-left: 1px solid gray;box-sizing: border-box;top: 0;bottom: 0;left: 50%;z-index: 0;}#sk-container-id-5 div.sk-serial {display: flex;flex-direction: column;align-items: center;background-color: white;padding-right: 0.2em;padding-left: 0.2em;position: relative;}#sk-container-id-5 div.sk-item {position: relative;z-index: 1;}#sk-container-id-5 div.sk-parallel {display: flex;align-items: stretch;justify-content: center;background-color: white;position: relative;}#sk-container-id-5 div.sk-item::before, #sk-container-id-5 div.sk-parallel-item::before {content: \"\";position: absolute;border-left: 1px solid gray;box-sizing: border-box;top: 0;bottom: 0;left: 50%;z-index: -1;}#sk-container-id-5 div.sk-parallel-item {display: flex;flex-direction: column;z-index: 1;position: relative;background-color: white;}#sk-container-id-5 div.sk-parallel-item:first-child::after {align-self: flex-end;width: 50%;}#sk-container-id-5 div.sk-parallel-item:last-child::after {align-self: flex-start;width: 50%;}#sk-container-id-5 div.sk-parallel-item:only-child::after {width: 0;}#sk-container-id-5 div.sk-dashed-wrapped {border: 1px dashed gray;margin: 0 0.4em 0.5em 0.4em;box-sizing: border-box;padding-bottom: 0.4em;background-color: white;}#sk-container-id-5 div.sk-label label {font-family: monospace;font-weight: bold;display: inline-block;line-height: 1.2em;}#sk-container-id-5 div.sk-label-container {text-align: center;}#sk-container-id-5 div.sk-container {/* jupyter's `normalize.less` sets `[hidden] { display: none; }` but bootstrap.min.css set `[hidden] { display: none !important; }` so we also need the `!important` here to be able to override the default hidden behavior on the sphinx rendered scikit-learn.org. See: https://github.com/scikit-learn/scikit-learn/issues/21755 */display: inline-block !important;position: relative;}#sk-container-id-5 div.sk-text-repr-fallback {display: none;}</style><div id=\"sk-container-id-5\" class=\"sk-top-container\"><div class=\"sk-text-repr-fallback\"><pre>RandomForestClassifier(max_features=3, n_estimators=20, random_state=0)</pre><b>In a Jupyter environment, please rerun this cell to show the HTML representation or trust the notebook. <br />On GitHub, the HTML representation is unable to render, please try loading this page with nbviewer.org.</b></div><div class=\"sk-container\" hidden><div class=\"sk-item\"><div class=\"sk-estimator sk-toggleable\"><input class=\"sk-toggleable__control sk-hidden--visually\" id=\"sk-estimator-id-9\" type=\"checkbox\" checked><label for=\"sk-estimator-id-9\" class=\"sk-toggleable__label sk-toggleable__label-arrow\">RandomForestClassifier</label><div class=\"sk-toggleable__content\"><pre>RandomForestClassifier(max_features=3, n_estimators=20, random_state=0)</pre></div></div></div></div></div>"
      ],
      "text/plain": [
       "RandomForestClassifier(max_features=3, n_estimators=20, random_state=0)"
      ]
     },
     "execution_count": 126,
     "metadata": {},
     "output_type": "execute_result"
    }
   ],
   "source": [
    "model.fit(X_trainR,y_trainR)"
   ]
  },
  {
   "cell_type": "code",
   "execution_count": 130,
   "id": "c213ca66-1309-485a-8857-53307c9a659c",
   "metadata": {
    "tags": []
   },
   "outputs": [
    {
     "name": "stdout",
     "output_type": "stream",
     "text": [
      "{'test Accuracy': 0.9107519325368939, 'train Accuracy': 0.9994726665494814}\n"
     ]
    }
   ],
   "source": [
    "print(get_accuracy(X_trainR, X_testR, y_trainR, y_testR, model))"
   ]
  },
  {
   "cell_type": "code",
   "execution_count": 129,
   "id": "321c19ee-0eab-4359-a9ad-6d3487d906db",
   "metadata": {
    "tags": []
   },
   "outputs": [
    {
     "name": "stdout",
     "output_type": "stream",
     "text": [
      "Average correlation between predictors:  0.6080924745866129\n"
     ]
    },
    {
     "data": {
      "text/html": [
       "<style type=\"text/css\">\n",
       "#T_bb457_row0_col0, #T_bb457_row1_col1, #T_bb457_row2_col2, #T_bb457_row3_col3, #T_bb457_row4_col4, #T_bb457_row5_col5, #T_bb457_row6_col6, #T_bb457_row7_col7, #T_bb457_row8_col8, #T_bb457_row9_col9, #T_bb457_row10_col10, #T_bb457_row11_col11, #T_bb457_row12_col12, #T_bb457_row13_col13, #T_bb457_row14_col14, #T_bb457_row15_col15, #T_bb457_row16_col16, #T_bb457_row17_col17, #T_bb457_row18_col18, #T_bb457_row19_col19 {\n",
       "  background-color: #b40426;\n",
       "  color: #f1f1f1;\n",
       "}\n",
       "#T_bb457_row0_col1, #T_bb457_row4_col1, #T_bb457_row4_col15, #T_bb457_row9_col12, #T_bb457_row14_col5, #T_bb457_row15_col1, #T_bb457_row15_col5, #T_bb457_row15_col6, #T_bb457_row18_col5 {\n",
       "  background-color: #6e90f2;\n",
       "  color: #f1f1f1;\n",
       "}\n",
       "#T_bb457_row0_col2, #T_bb457_row1_col13, #T_bb457_row5_col10, #T_bb457_row6_col18, #T_bb457_row9_col2, #T_bb457_row15_col12, #T_bb457_row16_col6, #T_bb457_row17_col1, #T_bb457_row17_col15, #T_bb457_row19_col3, #T_bb457_row19_col15 {\n",
       "  background-color: #6282ea;\n",
       "  color: #f1f1f1;\n",
       "}\n",
       "#T_bb457_row0_col3, #T_bb457_row2_col17, #T_bb457_row3_col2, #T_bb457_row5_col13, #T_bb457_row5_col16, #T_bb457_row5_col19, #T_bb457_row7_col14, #T_bb457_row8_col4, #T_bb457_row13_col6, #T_bb457_row13_col17, #T_bb457_row15_col10, #T_bb457_row16_col7, #T_bb457_row16_col17, #T_bb457_row17_col6, #T_bb457_row19_col17 {\n",
       "  background-color: #5673e0;\n",
       "  color: #f1f1f1;\n",
       "}\n",
       "#T_bb457_row0_col4, #T_bb457_row0_col9, #T_bb457_row1_col0, #T_bb457_row2_col3, #T_bb457_row7_col0, #T_bb457_row11_col10, #T_bb457_row12_col19, #T_bb457_row13_col5 {\n",
       "  background-color: #5875e1;\n",
       "  color: #f1f1f1;\n",
       "}\n",
       "#T_bb457_row0_col5, #T_bb457_row0_col11, #T_bb457_row4_col19, #T_bb457_row16_col0, #T_bb457_row18_col14, #T_bb457_row19_col11 {\n",
       "  background-color: #5f7fe8;\n",
       "  color: #f1f1f1;\n",
       "}\n",
       "#T_bb457_row0_col6, #T_bb457_row1_col3, #T_bb457_row1_col9, #T_bb457_row1_col16, #T_bb457_row7_col4, #T_bb457_row7_col16, #T_bb457_row16_col8 {\n",
       "  background-color: #536edd;\n",
       "  color: #f1f1f1;\n",
       "}\n",
       "#T_bb457_row0_col7, #T_bb457_row6_col16, #T_bb457_row7_col13, #T_bb457_row10_col16, #T_bb457_row13_col19, #T_bb457_row14_col4, #T_bb457_row14_col17, #T_bb457_row16_col5, #T_bb457_row16_col11, #T_bb457_row19_col6 {\n",
       "  background-color: #5a78e4;\n",
       "  color: #f1f1f1;\n",
       "}\n",
       "#T_bb457_row0_col8, #T_bb457_row0_col10, #T_bb457_row0_col15, #T_bb457_row1_col18, #T_bb457_row2_col19, #T_bb457_row6_col3, #T_bb457_row7_col18, #T_bb457_row8_col7, #T_bb457_row12_col7, #T_bb457_row13_col8, #T_bb457_row14_col2 {\n",
       "  background-color: #516ddb;\n",
       "  color: #f1f1f1;\n",
       "}\n",
       "#T_bb457_row0_col12, #T_bb457_row3_col13, #T_bb457_row3_col16, #T_bb457_row3_col18, #T_bb457_row4_col6, #T_bb457_row6_col13, #T_bb457_row7_col3, #T_bb457_row10_col14, #T_bb457_row11_col7, #T_bb457_row11_col8, #T_bb457_row18_col7, #T_bb457_row18_col9 {\n",
       "  background-color: #506bda;\n",
       "  color: #f1f1f1;\n",
       "}\n",
       "#T_bb457_row0_col13, #T_bb457_row1_col14, #T_bb457_row3_col10, #T_bb457_row7_col2, #T_bb457_row11_col0, #T_bb457_row13_col0, #T_bb457_row16_col12, #T_bb457_row17_col5, #T_bb457_row19_col4 {\n",
       "  background-color: #5470de;\n",
       "  color: #f1f1f1;\n",
       "}\n",
       "#T_bb457_row0_col14, #T_bb457_row1_col19, #T_bb457_row5_col1, #T_bb457_row15_col8, #T_bb457_row17_col0 {\n",
       "  background-color: #6c8ff1;\n",
       "  color: #f1f1f1;\n",
       "}\n",
       "#T_bb457_row0_col16, #T_bb457_row4_col12, #T_bb457_row5_col0, #T_bb457_row5_col2, #T_bb457_row6_col5, #T_bb457_row6_col15, #T_bb457_row13_col15, #T_bb457_row17_col4, #T_bb457_row18_col8, #T_bb457_row19_col13 {\n",
       "  background-color: #5e7de7;\n",
       "  color: #f1f1f1;\n",
       "}\n",
       "#T_bb457_row0_col17, #T_bb457_row2_col1, #T_bb457_row4_col2, #T_bb457_row4_col17, #T_bb457_row10_col11, #T_bb457_row10_col13, #T_bb457_row13_col7, #T_bb457_row14_col7, #T_bb457_row17_col11, #T_bb457_row18_col2, #T_bb457_row19_col7 {\n",
       "  background-color: #5d7ce6;\n",
       "  color: #f1f1f1;\n",
       "}\n",
       "#T_bb457_row0_col18, #T_bb457_row11_col1, #T_bb457_row13_col18, #T_bb457_row16_col1, #T_bb457_row18_col15 {\n",
       "  background-color: #6b8df0;\n",
       "  color: #f1f1f1;\n",
       "}\n",
       "#T_bb457_row0_col19, #T_bb457_row1_col6, #T_bb457_row3_col1, #T_bb457_row5_col11, #T_bb457_row7_col19, #T_bb457_row8_col5, #T_bb457_row14_col12, #T_bb457_row15_col2, #T_bb457_row15_col7, #T_bb457_row19_col8 {\n",
       "  background-color: #5572df;\n",
       "  color: #f1f1f1;\n",
       "}\n",
       "#T_bb457_row1_col2, #T_bb457_row1_col5, #T_bb457_row7_col11, #T_bb457_row10_col19, #T_bb457_row14_col3, #T_bb457_row15_col0, #T_bb457_row15_col17, #T_bb457_row19_col0 {\n",
       "  background-color: #5977e3;\n",
       "  color: #f1f1f1;\n",
       "}\n",
       "#T_bb457_row1_col4, #T_bb457_row3_col19, #T_bb457_row7_col17, #T_bb457_row10_col8, #T_bb457_row16_col18 {\n",
       "  background-color: #4961d2;\n",
       "  color: #f1f1f1;\n",
       "}\n",
       "#T_bb457_row1_col7, #T_bb457_row1_col8, #T_bb457_row1_col17, #T_bb457_row2_col4, #T_bb457_row2_col6, #T_bb457_row2_col10, #T_bb457_row2_col11, #T_bb457_row2_col14, #T_bb457_row2_col15, #T_bb457_row2_col16, #T_bb457_row3_col9, #T_bb457_row3_col12, #T_bb457_row6_col4, #T_bb457_row8_col0, #T_bb457_row8_col1, #T_bb457_row8_col10, #T_bb457_row8_col12, #T_bb457_row8_col13, #T_bb457_row8_col16, #T_bb457_row8_col19, #T_bb457_row10_col6, #T_bb457_row12_col2, #T_bb457_row12_col3, #T_bb457_row12_col4, #T_bb457_row12_col5, #T_bb457_row12_col6, #T_bb457_row12_col18, #T_bb457_row18_col19 {\n",
       "  background-color: #3b4cc0;\n",
       "  color: #f1f1f1;\n",
       "}\n",
       "#T_bb457_row1_col10, #T_bb457_row4_col16, #T_bb457_row5_col14, #T_bb457_row9_col4, #T_bb457_row9_col8, #T_bb457_row18_col0, #T_bb457_row18_col13, #T_bb457_row19_col2 {\n",
       "  background-color: #688aef;\n",
       "  color: #f1f1f1;\n",
       "}\n",
       "#T_bb457_row1_col11, #T_bb457_row6_col11, #T_bb457_row9_col3, #T_bb457_row10_col3, #T_bb457_row13_col12, #T_bb457_row13_col14, #T_bb457_row18_col3 {\n",
       "  background-color: #6180e9;\n",
       "  color: #f1f1f1;\n",
       "}\n",
       "#T_bb457_row1_col12, #T_bb457_row6_col17, #T_bb457_row8_col6, #T_bb457_row11_col17, #T_bb457_row12_col17 {\n",
       "  background-color: #3f53c6;\n",
       "  color: #f1f1f1;\n",
       "}\n",
       "#T_bb457_row1_col15, #T_bb457_row2_col0, #T_bb457_row6_col8, #T_bb457_row6_col19, #T_bb457_row7_col1, #T_bb457_row11_col19, #T_bb457_row13_col2, #T_bb457_row16_col2, #T_bb457_row17_col18 {\n",
       "  background-color: #4f69d9;\n",
       "  color: #f1f1f1;\n",
       "}\n",
       "#T_bb457_row2_col5, #T_bb457_row2_col18, #T_bb457_row11_col4, #T_bb457_row11_col16, #T_bb457_row13_col4, #T_bb457_row18_col10 {\n",
       "  background-color: #4c66d6;\n",
       "  color: #f1f1f1;\n",
       "}\n",
       "#T_bb457_row2_col7, #T_bb457_row3_col8, #T_bb457_row12_col11, #T_bb457_row18_col16 {\n",
       "  background-color: #445acc;\n",
       "  color: #f1f1f1;\n",
       "}\n",
       "#T_bb457_row2_col8, #T_bb457_row6_col0, #T_bb457_row7_col10, #T_bb457_row8_col14, #T_bb457_row8_col18, #T_bb457_row10_col12, #T_bb457_row11_col5, #T_bb457_row12_col13, #T_bb457_row18_col12, #T_bb457_row19_col16 {\n",
       "  background-color: #4b64d5;\n",
       "  color: #f1f1f1;\n",
       "}\n",
       "#T_bb457_row2_col9, #T_bb457_row6_col14, #T_bb457_row8_col17 {\n",
       "  background-color: #3d50c3;\n",
       "  color: #f1f1f1;\n",
       "}\n",
       "#T_bb457_row2_col12, #T_bb457_row2_col13, #T_bb457_row6_col10, #T_bb457_row12_col0, #T_bb457_row12_col8, #T_bb457_row12_col14, #T_bb457_row18_col17 {\n",
       "  background-color: #3c4ec2;\n",
       "  color: #f1f1f1;\n",
       "}\n",
       "#T_bb457_row3_col0, #T_bb457_row5_col17, #T_bb457_row8_col3, #T_bb457_row11_col2, #T_bb457_row12_col1 {\n",
       "  background-color: #4257c9;\n",
       "  color: #f1f1f1;\n",
       "}\n",
       "#T_bb457_row3_col4, #T_bb457_row5_col12, #T_bb457_row6_col9, #T_bb457_row8_col15, #T_bb457_row10_col4, #T_bb457_row10_col17, #T_bb457_row11_col12 {\n",
       "  background-color: #4e68d8;\n",
       "  color: #f1f1f1;\n",
       "}\n",
       "#T_bb457_row3_col5, #T_bb457_row3_col15, #T_bb457_row7_col6, #T_bb457_row7_col15, #T_bb457_row10_col0 {\n",
       "  background-color: #4a63d3;\n",
       "  color: #f1f1f1;\n",
       "}\n",
       "#T_bb457_row3_col6, #T_bb457_row6_col7, #T_bb457_row8_col11, #T_bb457_row10_col2, #T_bb457_row10_col7, #T_bb457_row12_col15 {\n",
       "  background-color: #455cce;\n",
       "  color: #f1f1f1;\n",
       "}\n",
       "#T_bb457_row3_col7, #T_bb457_row11_col9, #T_bb457_row12_col10, #T_bb457_row12_col16 {\n",
       "  background-color: #3e51c5;\n",
       "  color: #f1f1f1;\n",
       "}\n",
       "#T_bb457_row3_col11, #T_bb457_row3_col14, #T_bb457_row3_col17, #T_bb457_row8_col9 {\n",
       "  background-color: #4055c8;\n",
       "  color: #f1f1f1;\n",
       "}\n",
       "#T_bb457_row4_col0, #T_bb457_row6_col1, #T_bb457_row7_col8, #T_bb457_row14_col8, #T_bb457_row15_col3, #T_bb457_row15_col13, #T_bb457_row15_col19, #T_bb457_row17_col3, #T_bb457_row17_col14, #T_bb457_row17_col16, #T_bb457_row18_col6 {\n",
       "  background-color: #6687ed;\n",
       "  color: #f1f1f1;\n",
       "}\n",
       "#T_bb457_row4_col3, #T_bb457_row5_col7, #T_bb457_row5_col18, #T_bb457_row7_col5, #T_bb457_row10_col9, #T_bb457_row13_col16, #T_bb457_row14_col1 {\n",
       "  background-color: #6f92f3;\n",
       "  color: #f1f1f1;\n",
       "}\n",
       "#T_bb457_row4_col5 {\n",
       "  background-color: #81a4fb;\n",
       "  color: #f1f1f1;\n",
       "}\n",
       "#T_bb457_row4_col7, #T_bb457_row5_col6, #T_bb457_row7_col9, #T_bb457_row7_col12, #T_bb457_row13_col3, #T_bb457_row17_col19 {\n",
       "  background-color: #6384eb;\n",
       "  color: #f1f1f1;\n",
       "}\n",
       "#T_bb457_row4_col8, #T_bb457_row4_col18, #T_bb457_row9_col1, #T_bb457_row15_col11, #T_bb457_row15_col16 {\n",
       "  background-color: #7b9ff9;\n",
       "  color: #f1f1f1;\n",
       "}\n",
       "#T_bb457_row4_col9, #T_bb457_row4_col10, #T_bb457_row4_col14, #T_bb457_row5_col15, #T_bb457_row9_col18, #T_bb457_row11_col14, #T_bb457_row13_col9, #T_bb457_row13_col10, #T_bb457_row14_col13, #T_bb457_row16_col3, #T_bb457_row16_col9, #T_bb457_row16_col10, #T_bb457_row17_col8, #T_bb457_row17_col12, #T_bb457_row18_col1, #T_bb457_row18_col11, #T_bb457_row19_col10 {\n",
       "  background-color: #6485ec;\n",
       "  color: #f1f1f1;\n",
       "}\n",
       "#T_bb457_row4_col11, #T_bb457_row9_col6, #T_bb457_row11_col15, #T_bb457_row14_col18, #T_bb457_row15_col4, #T_bb457_row17_col10, #T_bb457_row17_col13 {\n",
       "  background-color: #6788ee;\n",
       "  color: #f1f1f1;\n",
       "}\n",
       "#T_bb457_row4_col13, #T_bb457_row5_col3, #T_bb457_row9_col11, #T_bb457_row10_col5, #T_bb457_row11_col6, #T_bb457_row11_col18, #T_bb457_row14_col10, #T_bb457_row16_col4, #T_bb457_row17_col7, #T_bb457_row19_col5 {\n",
       "  background-color: #5b7ae5;\n",
       "  color: #f1f1f1;\n",
       "}\n",
       "#T_bb457_row5_col4, #T_bb457_row14_col0, #T_bb457_row16_col13, #T_bb457_row19_col12 {\n",
       "  background-color: #7093f3;\n",
       "  color: #f1f1f1;\n",
       "}\n",
       "#T_bb457_row5_col8, #T_bb457_row9_col0, #T_bb457_row14_col19, #T_bb457_row15_col9, #T_bb457_row18_col4, #T_bb457_row19_col14 {\n",
       "  background-color: #6a8bef;\n",
       "  color: #f1f1f1;\n",
       "}\n",
       "#T_bb457_row5_col9, #T_bb457_row11_col13, #T_bb457_row17_col9 {\n",
       "  background-color: #7295f4;\n",
       "  color: #f1f1f1;\n",
       "}\n",
       "#T_bb457_row6_col2, #T_bb457_row6_col12, #T_bb457_row8_col2, #T_bb457_row10_col18, #T_bb457_row11_col3, #T_bb457_row14_col6, #T_bb457_row16_col19 {\n",
       "  background-color: #485fd1;\n",
       "  color: #f1f1f1;\n",
       "}\n",
       "#T_bb457_row9_col5 {\n",
       "  background-color: #85a8fc;\n",
       "  color: #f1f1f1;\n",
       "}\n",
       "#T_bb457_row9_col7, #T_bb457_row9_col13, #T_bb457_row10_col1, #T_bb457_row13_col1, #T_bb457_row16_col14 {\n",
       "  background-color: #779af7;\n",
       "  color: #f1f1f1;\n",
       "}\n",
       "#T_bb457_row9_col10 {\n",
       "  background-color: #88abfd;\n",
       "  color: #000000;\n",
       "}\n",
       "#T_bb457_row9_col14, #T_bb457_row19_col1 {\n",
       "  background-color: #86a9fc;\n",
       "  color: #f1f1f1;\n",
       "}\n",
       "#T_bb457_row9_col15, #T_bb457_row9_col16, #T_bb457_row14_col11, #T_bb457_row16_col15 {\n",
       "  background-color: #7597f6;\n",
       "  color: #f1f1f1;\n",
       "}\n",
       "#T_bb457_row9_col17 {\n",
       "  background-color: #7396f5;\n",
       "  color: #f1f1f1;\n",
       "}\n",
       "#T_bb457_row9_col19 {\n",
       "  background-color: #8badfd;\n",
       "  color: #000000;\n",
       "}\n",
       "#T_bb457_row10_col15, #T_bb457_row12_col9 {\n",
       "  background-color: #465ecf;\n",
       "  color: #f1f1f1;\n",
       "}\n",
       "#T_bb457_row13_col11, #T_bb457_row19_col9 {\n",
       "  background-color: #7ea1fa;\n",
       "  color: #f1f1f1;\n",
       "}\n",
       "#T_bb457_row14_col9, #T_bb457_row17_col2 {\n",
       "  background-color: #799cf8;\n",
       "  color: #f1f1f1;\n",
       "}\n",
       "#T_bb457_row14_col15 {\n",
       "  background-color: #89acfd;\n",
       "  color: #000000;\n",
       "}\n",
       "#T_bb457_row14_col16 {\n",
       "  background-color: #7a9df8;\n",
       "  color: #f1f1f1;\n",
       "}\n",
       "#T_bb457_row15_col14 {\n",
       "  background-color: #8db0fe;\n",
       "  color: #000000;\n",
       "}\n",
       "#T_bb457_row15_col18 {\n",
       "  background-color: #7699f6;\n",
       "  color: #f1f1f1;\n",
       "}\n",
       "#T_bb457_row19_col18 {\n",
       "  background-color: #4358cb;\n",
       "  color: #f1f1f1;\n",
       "}\n",
       "</style>\n",
       "<table id=\"T_bb457\">\n",
       "  <thead>\n",
       "    <tr>\n",
       "      <th class=\"blank level0\" >&nbsp;</th>\n",
       "      <th id=\"T_bb457_level0_col0\" class=\"col_heading level0 col0\" >estimator 1</th>\n",
       "      <th id=\"T_bb457_level0_col1\" class=\"col_heading level0 col1\" >estimator 2</th>\n",
       "      <th id=\"T_bb457_level0_col2\" class=\"col_heading level0 col2\" >estimator 3</th>\n",
       "      <th id=\"T_bb457_level0_col3\" class=\"col_heading level0 col3\" >estimator 4</th>\n",
       "      <th id=\"T_bb457_level0_col4\" class=\"col_heading level0 col4\" >estimator 5</th>\n",
       "      <th id=\"T_bb457_level0_col5\" class=\"col_heading level0 col5\" >estimator 6</th>\n",
       "      <th id=\"T_bb457_level0_col6\" class=\"col_heading level0 col6\" >estimator 7</th>\n",
       "      <th id=\"T_bb457_level0_col7\" class=\"col_heading level0 col7\" >estimator 8</th>\n",
       "      <th id=\"T_bb457_level0_col8\" class=\"col_heading level0 col8\" >estimator 9</th>\n",
       "      <th id=\"T_bb457_level0_col9\" class=\"col_heading level0 col9\" >estimator 10</th>\n",
       "      <th id=\"T_bb457_level0_col10\" class=\"col_heading level0 col10\" >estimator 11</th>\n",
       "      <th id=\"T_bb457_level0_col11\" class=\"col_heading level0 col11\" >estimator 12</th>\n",
       "      <th id=\"T_bb457_level0_col12\" class=\"col_heading level0 col12\" >estimator 13</th>\n",
       "      <th id=\"T_bb457_level0_col13\" class=\"col_heading level0 col13\" >estimator 14</th>\n",
       "      <th id=\"T_bb457_level0_col14\" class=\"col_heading level0 col14\" >estimator 15</th>\n",
       "      <th id=\"T_bb457_level0_col15\" class=\"col_heading level0 col15\" >estimator 16</th>\n",
       "      <th id=\"T_bb457_level0_col16\" class=\"col_heading level0 col16\" >estimator 17</th>\n",
       "      <th id=\"T_bb457_level0_col17\" class=\"col_heading level0 col17\" >estimator 18</th>\n",
       "      <th id=\"T_bb457_level0_col18\" class=\"col_heading level0 col18\" >estimator 19</th>\n",
       "      <th id=\"T_bb457_level0_col19\" class=\"col_heading level0 col19\" >estimator 20</th>\n",
       "    </tr>\n",
       "  </thead>\n",
       "  <tbody>\n",
       "    <tr>\n",
       "      <th id=\"T_bb457_level0_row0\" class=\"row_heading level0 row0\" >estimator 1</th>\n",
       "      <td id=\"T_bb457_row0_col0\" class=\"data row0 col0\" >1.000000</td>\n",
       "      <td id=\"T_bb457_row0_col1\" class=\"data row0 col1\" >0.644279</td>\n",
       "      <td id=\"T_bb457_row0_col2\" class=\"data row0 col2\" >0.633054</td>\n",
       "      <td id=\"T_bb457_row0_col3\" class=\"data row0 col3\" >0.616911</td>\n",
       "      <td id=\"T_bb457_row0_col4\" class=\"data row0 col4\" >0.660989</td>\n",
       "      <td id=\"T_bb457_row0_col5\" class=\"data row0 col5\" >0.651231</td>\n",
       "      <td id=\"T_bb457_row0_col6\" class=\"data row0 col6\" >0.629123</td>\n",
       "      <td id=\"T_bb457_row0_col7\" class=\"data row0 col7\" >0.644049</td>\n",
       "      <td id=\"T_bb457_row0_col8\" class=\"data row0 col8\" >0.606657</td>\n",
       "      <td id=\"T_bb457_row0_col9\" class=\"data row0 col9\" >0.665691</td>\n",
       "      <td id=\"T_bb457_row0_col10\" class=\"data row0 col10\" >0.626917</td>\n",
       "      <td id=\"T_bb457_row0_col11\" class=\"data row0 col11\" >0.639466</td>\n",
       "      <td id=\"T_bb457_row0_col12\" class=\"data row0 col12\" >0.608281</td>\n",
       "      <td id=\"T_bb457_row0_col13\" class=\"data row0 col13\" >0.640109</td>\n",
       "      <td id=\"T_bb457_row0_col14\" class=\"data row0 col14\" >0.673963</td>\n",
       "      <td id=\"T_bb457_row0_col15\" class=\"data row0 col15\" >0.646174</td>\n",
       "      <td id=\"T_bb457_row0_col16\" class=\"data row0 col16\" >0.653844</td>\n",
       "      <td id=\"T_bb457_row0_col17\" class=\"data row0 col17\" >0.669066</td>\n",
       "      <td id=\"T_bb457_row0_col18\" class=\"data row0 col18\" >0.663963</td>\n",
       "      <td id=\"T_bb457_row0_col19\" class=\"data row0 col19\" >0.646174</td>\n",
       "    </tr>\n",
       "    <tr>\n",
       "      <th id=\"T_bb457_level0_row1\" class=\"row_heading level0 row1\" >estimator 2</th>\n",
       "      <td id=\"T_bb457_row1_col0\" class=\"data row1 col0\" >0.644279</td>\n",
       "      <td id=\"T_bb457_row1_col1\" class=\"data row1 col1\" >1.000000</td>\n",
       "      <td id=\"T_bb457_row1_col2\" class=\"data row1 col2\" >0.621838</td>\n",
       "      <td id=\"T_bb457_row1_col3\" class=\"data row1 col3\" >0.611825</td>\n",
       "      <td id=\"T_bb457_row1_col4\" class=\"data row1 col4\" >0.644013</td>\n",
       "      <td id=\"T_bb457_row1_col5\" class=\"data row1 col5\" >0.642852</td>\n",
       "      <td id=\"T_bb457_row1_col6\" class=\"data row1 col6\" >0.633107</td>\n",
       "      <td id=\"T_bb457_row1_col7\" class=\"data row1 col7\" >0.603084</td>\n",
       "      <td id=\"T_bb457_row1_col8\" class=\"data row1 col8\" >0.574799</td>\n",
       "      <td id=\"T_bb457_row1_col9\" class=\"data row1 col9\" >0.660486</td>\n",
       "      <td id=\"T_bb457_row1_col10\" class=\"data row1 col10\" >0.654568</td>\n",
       "      <td id=\"T_bb457_row1_col11\" class=\"data row1 col11\" >0.640264</td>\n",
       "      <td id=\"T_bb457_row1_col12\" class=\"data row1 col12\" >0.585367</td>\n",
       "      <td id=\"T_bb457_row1_col13\" class=\"data row1 col13\" >0.655926</td>\n",
       "      <td id=\"T_bb457_row1_col14\" class=\"data row1 col14\" >0.644657</td>\n",
       "      <td id=\"T_bb457_row1_col15\" class=\"data row1 col15\" >0.643916</td>\n",
       "      <td id=\"T_bb457_row1_col16\" class=\"data row1 col16\" >0.640052</td>\n",
       "      <td id=\"T_bb457_row1_col17\" class=\"data row1 col17\" >0.628067</td>\n",
       "      <td id=\"T_bb457_row1_col18\" class=\"data row1 col18\" >0.632097</td>\n",
       "      <td id=\"T_bb457_row1_col19\" class=\"data row1 col19\" >0.673848</td>\n",
       "    </tr>\n",
       "    <tr>\n",
       "      <th id=\"T_bb457_level0_row2\" class=\"row_heading level0 row2\" >estimator 3</th>\n",
       "      <td id=\"T_bb457_row2_col0\" class=\"data row2 col0\" >0.633054</td>\n",
       "      <td id=\"T_bb457_row2_col1\" class=\"data row2 col1\" >0.621838</td>\n",
       "      <td id=\"T_bb457_row2_col2\" class=\"data row2 col2\" >1.000000</td>\n",
       "      <td id=\"T_bb457_row2_col3\" class=\"data row2 col3\" >0.618450</td>\n",
       "      <td id=\"T_bb457_row2_col4\" class=\"data row2 col4\" >0.626776</td>\n",
       "      <td id=\"T_bb457_row2_col5\" class=\"data row2 col5\" >0.628119</td>\n",
       "      <td id=\"T_bb457_row2_col6\" class=\"data row2 col6\" >0.598376</td>\n",
       "      <td id=\"T_bb457_row2_col7\" class=\"data row2 col7\" >0.615555</td>\n",
       "      <td id=\"T_bb457_row2_col8\" class=\"data row2 col8\" >0.599232</td>\n",
       "      <td id=\"T_bb457_row2_col9\" class=\"data row2 col9\" >0.634032</td>\n",
       "      <td id=\"T_bb457_row2_col10\" class=\"data row2 col10\" >0.595580</td>\n",
       "      <td id=\"T_bb457_row2_col11\" class=\"data row2 col11\" >0.589964</td>\n",
       "      <td id=\"T_bb457_row2_col12\" class=\"data row2 col12\" >0.580028</td>\n",
       "      <td id=\"T_bb457_row2_col13\" class=\"data row2 col13\" >0.609194</td>\n",
       "      <td id=\"T_bb457_row2_col14\" class=\"data row2 col14\" >0.611938</td>\n",
       "      <td id=\"T_bb457_row2_col15\" class=\"data row2 col15\" >0.617393</td>\n",
       "      <td id=\"T_bb457_row2_col16\" class=\"data row2 col16\" >0.608233</td>\n",
       "      <td id=\"T_bb457_row2_col17\" class=\"data row2 col17\" >0.661536</td>\n",
       "      <td id=\"T_bb457_row2_col18\" class=\"data row2 col18\" >0.626776</td>\n",
       "      <td id=\"T_bb457_row2_col19\" class=\"data row2 col19\" >0.641401</td>\n",
       "    </tr>\n",
       "    <tr>\n",
       "      <th id=\"T_bb457_level0_row3\" class=\"row_heading level0 row3\" >estimator 4</th>\n",
       "      <td id=\"T_bb457_row3_col0\" class=\"data row3 col0\" >0.616911</td>\n",
       "      <td id=\"T_bb457_row3_col1\" class=\"data row3 col1\" >0.611825</td>\n",
       "      <td id=\"T_bb457_row3_col2\" class=\"data row3 col2\" >0.618450</td>\n",
       "      <td id=\"T_bb457_row3_col3\" class=\"data row3 col3\" >1.000000</td>\n",
       "      <td id=\"T_bb457_row3_col4\" class=\"data row3 col4\" >0.649348</td>\n",
       "      <td id=\"T_bb457_row3_col5\" class=\"data row3 col5\" >0.624607</td>\n",
       "      <td id=\"T_bb457_row3_col6\" class=\"data row3 col6\" >0.611586</td>\n",
       "      <td id=\"T_bb457_row3_col7\" class=\"data row3 col7\" >0.608604</td>\n",
       "      <td id=\"T_bb457_row3_col8\" class=\"data row3 col8\" >0.589118</td>\n",
       "      <td id=\"T_bb457_row3_col9\" class=\"data row3 col9\" >0.630169</td>\n",
       "      <td id=\"T_bb457_row3_col10\" class=\"data row3 col10\" >0.630152</td>\n",
       "      <td id=\"T_bb457_row3_col11\" class=\"data row3 col11\" >0.598059</td>\n",
       "      <td id=\"T_bb457_row3_col12\" class=\"data row3 col12\" >0.578880</td>\n",
       "      <td id=\"T_bb457_row3_col13\" class=\"data row3 col13\" >0.634399</td>\n",
       "      <td id=\"T_bb457_row3_col14\" class=\"data row3 col14\" >0.620396</td>\n",
       "      <td id=\"T_bb457_row3_col15\" class=\"data row3 col15\" >0.637530</td>\n",
       "      <td id=\"T_bb457_row3_col16\" class=\"data row3 col16\" >0.636286</td>\n",
       "      <td id=\"T_bb457_row3_col17\" class=\"data row3 col17\" >0.636558</td>\n",
       "      <td id=\"T_bb457_row3_col18\" class=\"data row3 col18\" >0.631517</td>\n",
       "      <td id=\"T_bb457_row3_col19\" class=\"data row3 col19\" >0.631559</td>\n",
       "    </tr>\n",
       "    <tr>\n",
       "      <th id=\"T_bb457_level0_row4\" class=\"row_heading level0 row4\" >estimator 5</th>\n",
       "      <td id=\"T_bb457_row4_col0\" class=\"data row4 col0\" >0.660989</td>\n",
       "      <td id=\"T_bb457_row4_col1\" class=\"data row4 col1\" >0.644013</td>\n",
       "      <td id=\"T_bb457_row4_col2\" class=\"data row4 col2\" >0.626776</td>\n",
       "      <td id=\"T_bb457_row4_col3\" class=\"data row4 col3\" >0.649348</td>\n",
       "      <td id=\"T_bb457_row4_col4\" class=\"data row4 col4\" >1.000000</td>\n",
       "      <td id=\"T_bb457_row4_col5\" class=\"data row4 col5\" >0.689904</td>\n",
       "      <td id=\"T_bb457_row4_col6\" class=\"data row4 col6\" >0.625976</td>\n",
       "      <td id=\"T_bb457_row4_col7\" class=\"data row4 col7\" >0.655700</td>\n",
       "      <td id=\"T_bb457_row4_col8\" class=\"data row4 col8\" >0.659874</td>\n",
       "      <td id=\"T_bb457_row4_col9\" class=\"data row4 col9\" >0.680345</td>\n",
       "      <td id=\"T_bb457_row4_col10\" class=\"data row4 col10\" >0.650456</td>\n",
       "      <td id=\"T_bb457_row4_col11\" class=\"data row4 col11\" >0.648131</td>\n",
       "      <td id=\"T_bb457_row4_col12\" class=\"data row4 col12\" >0.625849</td>\n",
       "      <td id=\"T_bb457_row4_col13\" class=\"data row4 col13\" >0.648797</td>\n",
       "      <td id=\"T_bb457_row4_col14\" class=\"data row4 col14\" >0.664647</td>\n",
       "      <td id=\"T_bb457_row4_col15\" class=\"data row4 col15\" >0.678756</td>\n",
       "      <td id=\"T_bb457_row4_col16\" class=\"data row4 col16\" >0.665508</td>\n",
       "      <td id=\"T_bb457_row4_col17\" class=\"data row4 col17\" >0.668795</td>\n",
       "      <td id=\"T_bb457_row4_col18\" class=\"data row4 col18\" >0.681580</td>\n",
       "      <td id=\"T_bb457_row4_col19\" class=\"data row4 col19\" >0.657826</td>\n",
       "    </tr>\n",
       "    <tr>\n",
       "      <th id=\"T_bb457_level0_row5\" class=\"row_heading level0 row5\" >estimator 6</th>\n",
       "      <td id=\"T_bb457_row5_col0\" class=\"data row5 col0\" >0.651231</td>\n",
       "      <td id=\"T_bb457_row5_col1\" class=\"data row5 col1\" >0.642852</td>\n",
       "      <td id=\"T_bb457_row5_col2\" class=\"data row5 col2\" >0.628119</td>\n",
       "      <td id=\"T_bb457_row5_col3\" class=\"data row5 col3\" >0.624607</td>\n",
       "      <td id=\"T_bb457_row5_col4\" class=\"data row5 col4\" >0.689904</td>\n",
       "      <td id=\"T_bb457_row5_col5\" class=\"data row5 col5\" >1.000000</td>\n",
       "      <td id=\"T_bb457_row5_col6\" class=\"data row5 col6\" >0.649548</td>\n",
       "      <td id=\"T_bb457_row5_col7\" class=\"data row5 col7\" >0.669574</td>\n",
       "      <td id=\"T_bb457_row5_col8\" class=\"data row5 col8\" >0.638281</td>\n",
       "      <td id=\"T_bb457_row5_col9\" class=\"data row5 col9\" >0.694114</td>\n",
       "      <td id=\"T_bb457_row5_col10\" class=\"data row5 col10\" >0.646554</td>\n",
       "      <td id=\"T_bb457_row5_col11\" class=\"data row5 col11\" >0.625795</td>\n",
       "      <td id=\"T_bb457_row5_col12\" class=\"data row5 col12\" >0.604016</td>\n",
       "      <td id=\"T_bb457_row5_col13\" class=\"data row5 col13\" >0.642405</td>\n",
       "      <td id=\"T_bb457_row5_col14\" class=\"data row5 col14\" >0.668840</td>\n",
       "      <td id=\"T_bb457_row5_col15\" class=\"data row5 col15\" >0.668337</td>\n",
       "      <td id=\"T_bb457_row5_col16\" class=\"data row5 col16\" >0.644479</td>\n",
       "      <td id=\"T_bb457_row5_col17\" class=\"data row5 col17\" >0.637490</td>\n",
       "      <td id=\"T_bb457_row5_col18\" class=\"data row5 col18\" >0.668891</td>\n",
       "      <td id=\"T_bb457_row5_col19\" class=\"data row5 col19\" >0.647224</td>\n",
       "    </tr>\n",
       "    <tr>\n",
       "      <th id=\"T_bb457_level0_row6\" class=\"row_heading level0 row6\" >estimator 7</th>\n",
       "      <td id=\"T_bb457_row6_col0\" class=\"data row6 col0\" >0.629123</td>\n",
       "      <td id=\"T_bb457_row6_col1\" class=\"data row6 col1\" >0.633107</td>\n",
       "      <td id=\"T_bb457_row6_col2\" class=\"data row6 col2\" >0.598376</td>\n",
       "      <td id=\"T_bb457_row6_col3\" class=\"data row6 col3\" >0.611586</td>\n",
       "      <td id=\"T_bb457_row6_col4\" class=\"data row6 col4\" >0.625976</td>\n",
       "      <td id=\"T_bb457_row6_col5\" class=\"data row6 col5\" >0.649548</td>\n",
       "      <td id=\"T_bb457_row6_col6\" class=\"data row6 col6\" >1.000000</td>\n",
       "      <td id=\"T_bb457_row6_col7\" class=\"data row6 col7\" >0.618113</td>\n",
       "      <td id=\"T_bb457_row6_col8\" class=\"data row6 col8\" >0.604305</td>\n",
       "      <td id=\"T_bb457_row6_col9\" class=\"data row6 col9\" >0.654669</td>\n",
       "      <td id=\"T_bb457_row6_col10\" class=\"data row6 col10\" >0.597968</td>\n",
       "      <td id=\"T_bb457_row6_col11\" class=\"data row6 col11\" >0.640266</td>\n",
       "      <td id=\"T_bb457_row6_col12\" class=\"data row6 col12\" >0.597031</td>\n",
       "      <td id=\"T_bb457_row6_col13\" class=\"data row6 col13\" >0.634457</td>\n",
       "      <td id=\"T_bb457_row6_col14\" class=\"data row6 col14\" >0.615425</td>\n",
       "      <td id=\"T_bb457_row6_col15\" class=\"data row6 col15\" >0.662037</td>\n",
       "      <td id=\"T_bb457_row6_col16\" class=\"data row6 col16\" >0.648034</td>\n",
       "      <td id=\"T_bb457_row6_col17\" class=\"data row6 col17\" >0.634172</td>\n",
       "      <td id=\"T_bb457_row6_col18\" class=\"data row6 col18\" >0.652609</td>\n",
       "      <td id=\"T_bb457_row6_col19\" class=\"data row6 col19\" >0.638250</td>\n",
       "    </tr>\n",
       "    <tr>\n",
       "      <th id=\"T_bb457_level0_row7\" class=\"row_heading level0 row7\" >estimator 8</th>\n",
       "      <td id=\"T_bb457_row7_col0\" class=\"data row7 col0\" >0.644049</td>\n",
       "      <td id=\"T_bb457_row7_col1\" class=\"data row7 col1\" >0.603084</td>\n",
       "      <td id=\"T_bb457_row7_col2\" class=\"data row7 col2\" >0.615555</td>\n",
       "      <td id=\"T_bb457_row7_col3\" class=\"data row7 col3\" >0.608604</td>\n",
       "      <td id=\"T_bb457_row7_col4\" class=\"data row7 col4\" >0.655700</td>\n",
       "      <td id=\"T_bb457_row7_col5\" class=\"data row7 col5\" >0.669574</td>\n",
       "      <td id=\"T_bb457_row7_col6\" class=\"data row7 col6\" >0.618113</td>\n",
       "      <td id=\"T_bb457_row7_col7\" class=\"data row7 col7\" >1.000000</td>\n",
       "      <td id=\"T_bb457_row7_col8\" class=\"data row7 col8\" >0.634055</td>\n",
       "      <td id=\"T_bb457_row7_col9\" class=\"data row7 col9\" >0.678172</td>\n",
       "      <td id=\"T_bb457_row7_col10\" class=\"data row7 col10\" >0.618580</td>\n",
       "      <td id=\"T_bb457_row7_col11\" class=\"data row7 col11\" >0.631033</td>\n",
       "      <td id=\"T_bb457_row7_col12\" class=\"data row7 col12\" >0.632714</td>\n",
       "      <td id=\"T_bb457_row7_col13\" class=\"data row7 col13\" >0.646835</td>\n",
       "      <td id=\"T_bb457_row7_col14\" class=\"data row7 col14\" >0.647333</td>\n",
       "      <td id=\"T_bb457_row7_col15\" class=\"data row7 col15\" >0.637628</td>\n",
       "      <td id=\"T_bb457_row7_col16\" class=\"data row7 col16\" >0.639872</td>\n",
       "      <td id=\"T_bb457_row7_col17\" class=\"data row7 col17\" >0.645720</td>\n",
       "      <td id=\"T_bb457_row7_col18\" class=\"data row7 col18\" >0.631850</td>\n",
       "      <td id=\"T_bb457_row7_col19\" class=\"data row7 col19\" >0.646615</td>\n",
       "    </tr>\n",
       "    <tr>\n",
       "      <th id=\"T_bb457_level0_row8\" class=\"row_heading level0 row8\" >estimator 9</th>\n",
       "      <td id=\"T_bb457_row8_col0\" class=\"data row8 col0\" >0.606657</td>\n",
       "      <td id=\"T_bb457_row8_col1\" class=\"data row8 col1\" >0.574799</td>\n",
       "      <td id=\"T_bb457_row8_col2\" class=\"data row8 col2\" >0.599232</td>\n",
       "      <td id=\"T_bb457_row8_col3\" class=\"data row8 col3\" >0.589118</td>\n",
       "      <td id=\"T_bb457_row8_col4\" class=\"data row8 col4\" >0.659874</td>\n",
       "      <td id=\"T_bb457_row8_col5\" class=\"data row8 col5\" >0.638281</td>\n",
       "      <td id=\"T_bb457_row8_col6\" class=\"data row8 col6\" >0.604305</td>\n",
       "      <td id=\"T_bb457_row8_col7\" class=\"data row8 col7\" >0.634055</td>\n",
       "      <td id=\"T_bb457_row8_col8\" class=\"data row8 col8\" >1.000000</td>\n",
       "      <td id=\"T_bb457_row8_col9\" class=\"data row8 col9\" >0.637791</td>\n",
       "      <td id=\"T_bb457_row8_col10\" class=\"data row8 col10\" >0.596134</td>\n",
       "      <td id=\"T_bb457_row8_col11\" class=\"data row8 col11\" >0.605662</td>\n",
       "      <td id=\"T_bb457_row8_col12\" class=\"data row8 col12\" >0.577537</td>\n",
       "      <td id=\"T_bb457_row8_col13\" class=\"data row8 col13\" >0.606391</td>\n",
       "      <td id=\"T_bb457_row8_col14\" class=\"data row8 col14\" >0.634048</td>\n",
       "      <td id=\"T_bb457_row8_col15\" class=\"data row8 col15\" >0.642170</td>\n",
       "      <td id=\"T_bb457_row8_col16\" class=\"data row8 col16\" >0.608298</td>\n",
       "      <td id=\"T_bb457_row8_col17\" class=\"data row8 col17\" >0.632240</td>\n",
       "      <td id=\"T_bb457_row8_col18\" class=\"data row8 col18\" >0.624225</td>\n",
       "      <td id=\"T_bb457_row8_col19\" class=\"data row8 col19\" >0.612321</td>\n",
       "    </tr>\n",
       "    <tr>\n",
       "      <th id=\"T_bb457_level0_row9\" class=\"row_heading level0 row9\" >estimator 10</th>\n",
       "      <td id=\"T_bb457_row9_col0\" class=\"data row9 col0\" >0.665691</td>\n",
       "      <td id=\"T_bb457_row9_col1\" class=\"data row9 col1\" >0.660486</td>\n",
       "      <td id=\"T_bb457_row9_col2\" class=\"data row9 col2\" >0.634032</td>\n",
       "      <td id=\"T_bb457_row9_col3\" class=\"data row9 col3\" >0.630169</td>\n",
       "      <td id=\"T_bb457_row9_col4\" class=\"data row9 col4\" >0.680345</td>\n",
       "      <td id=\"T_bb457_row9_col5\" class=\"data row9 col5\" >0.694114</td>\n",
       "      <td id=\"T_bb457_row9_col6\" class=\"data row9 col6\" >0.654669</td>\n",
       "      <td id=\"T_bb457_row9_col7\" class=\"data row9 col7\" >0.678172</td>\n",
       "      <td id=\"T_bb457_row9_col8\" class=\"data row9 col8\" >0.637791</td>\n",
       "      <td id=\"T_bb457_row9_col9\" class=\"data row9 col9\" >1.000000</td>\n",
       "      <td id=\"T_bb457_row9_col10\" class=\"data row9 col10\" >0.690942</td>\n",
       "      <td id=\"T_bb457_row9_col11\" class=\"data row9 col11\" >0.634608</td>\n",
       "      <td id=\"T_bb457_row9_col12\" class=\"data row9 col12\" >0.645409</td>\n",
       "      <td id=\"T_bb457_row9_col13\" class=\"data row9 col13\" >0.680467</td>\n",
       "      <td id=\"T_bb457_row9_col14\" class=\"data row9 col14\" >0.701946</td>\n",
       "      <td id=\"T_bb457_row9_col15\" class=\"data row9 col15\" >0.686169</td>\n",
       "      <td id=\"T_bb457_row9_col16\" class=\"data row9 col16\" >0.679449</td>\n",
       "      <td id=\"T_bb457_row9_col17\" class=\"data row9 col17\" >0.694268</td>\n",
       "      <td id=\"T_bb457_row9_col18\" class=\"data row9 col18\" >0.656433</td>\n",
       "      <td id=\"T_bb457_row9_col19\" class=\"data row9 col19\" >0.707192</td>\n",
       "    </tr>\n",
       "    <tr>\n",
       "      <th id=\"T_bb457_level0_row10\" class=\"row_heading level0 row10\" >estimator 11</th>\n",
       "      <td id=\"T_bb457_row10_col0\" class=\"data row10 col0\" >0.626917</td>\n",
       "      <td id=\"T_bb457_row10_col1\" class=\"data row10 col1\" >0.654568</td>\n",
       "      <td id=\"T_bb457_row10_col2\" class=\"data row10 col2\" >0.595580</td>\n",
       "      <td id=\"T_bb457_row10_col3\" class=\"data row10 col3\" >0.630152</td>\n",
       "      <td id=\"T_bb457_row10_col4\" class=\"data row10 col4\" >0.650456</td>\n",
       "      <td id=\"T_bb457_row10_col5\" class=\"data row10 col5\" >0.646554</td>\n",
       "      <td id=\"T_bb457_row10_col6\" class=\"data row10 col6\" >0.597968</td>\n",
       "      <td id=\"T_bb457_row10_col7\" class=\"data row10 col7\" >0.618580</td>\n",
       "      <td id=\"T_bb457_row10_col8\" class=\"data row10 col8\" >0.596134</td>\n",
       "      <td id=\"T_bb457_row10_col9\" class=\"data row10 col9\" >0.690942</td>\n",
       "      <td id=\"T_bb457_row10_col10\" class=\"data row10 col10\" >1.000000</td>\n",
       "      <td id=\"T_bb457_row10_col11\" class=\"data row10 col11\" >0.634853</td>\n",
       "      <td id=\"T_bb457_row10_col12\" class=\"data row10 col12\" >0.600733</td>\n",
       "      <td id=\"T_bb457_row10_col13\" class=\"data row10 col13\" >0.650378</td>\n",
       "      <td id=\"T_bb457_row10_col14\" class=\"data row10 col14\" >0.639334</td>\n",
       "      <td id=\"T_bb457_row10_col15\" class=\"data row10 col15\" >0.632569</td>\n",
       "      <td id=\"T_bb457_row10_col16\" class=\"data row10 col16\" >0.649310</td>\n",
       "      <td id=\"T_bb457_row10_col17\" class=\"data row10 col17\" >0.652521</td>\n",
       "      <td id=\"T_bb457_row10_col18\" class=\"data row10 col18\" >0.620707</td>\n",
       "      <td id=\"T_bb457_row10_col19\" class=\"data row10 col19\" >0.650503</td>\n",
       "    </tr>\n",
       "    <tr>\n",
       "      <th id=\"T_bb457_level0_row11\" class=\"row_heading level0 row11\" >estimator 12</th>\n",
       "      <td id=\"T_bb457_row11_col0\" class=\"data row11 col0\" >0.639466</td>\n",
       "      <td id=\"T_bb457_row11_col1\" class=\"data row11 col1\" >0.640264</td>\n",
       "      <td id=\"T_bb457_row11_col2\" class=\"data row11 col2\" >0.589964</td>\n",
       "      <td id=\"T_bb457_row11_col3\" class=\"data row11 col3\" >0.598059</td>\n",
       "      <td id=\"T_bb457_row11_col4\" class=\"data row11 col4\" >0.648131</td>\n",
       "      <td id=\"T_bb457_row11_col5\" class=\"data row11 col5\" >0.625795</td>\n",
       "      <td id=\"T_bb457_row11_col6\" class=\"data row11 col6\" >0.640266</td>\n",
       "      <td id=\"T_bb457_row11_col7\" class=\"data row11 col7\" >0.631033</td>\n",
       "      <td id=\"T_bb457_row11_col8\" class=\"data row11 col8\" >0.605662</td>\n",
       "      <td id=\"T_bb457_row11_col9\" class=\"data row11 col9\" >0.634608</td>\n",
       "      <td id=\"T_bb457_row11_col10\" class=\"data row11 col10\" >0.634853</td>\n",
       "      <td id=\"T_bb457_row11_col11\" class=\"data row11 col11\" >1.000000</td>\n",
       "      <td id=\"T_bb457_row11_col12\" class=\"data row11 col12\" >0.604333</td>\n",
       "      <td id=\"T_bb457_row11_col13\" class=\"data row11 col13\" >0.674970</td>\n",
       "      <td id=\"T_bb457_row11_col14\" class=\"data row11 col14\" >0.663698</td>\n",
       "      <td id=\"T_bb457_row11_col15\" class=\"data row11 col15\" >0.671940</td>\n",
       "      <td id=\"T_bb457_row11_col16\" class=\"data row11 col16\" >0.632363</td>\n",
       "      <td id=\"T_bb457_row11_col17\" class=\"data row11 col17\" >0.635118</td>\n",
       "      <td id=\"T_bb457_row11_col18\" class=\"data row11 col18\" >0.645149</td>\n",
       "      <td id=\"T_bb457_row11_col19\" class=\"data row11 col19\" >0.638978</td>\n",
       "    </tr>\n",
       "    <tr>\n",
       "      <th id=\"T_bb457_level0_row12\" class=\"row_heading level0 row12\" >estimator 13</th>\n",
       "      <td id=\"T_bb457_row12_col0\" class=\"data row12 col0\" >0.608281</td>\n",
       "      <td id=\"T_bb457_row12_col1\" class=\"data row12 col1\" >0.585367</td>\n",
       "      <td id=\"T_bb457_row12_col2\" class=\"data row12 col2\" >0.580028</td>\n",
       "      <td id=\"T_bb457_row12_col3\" class=\"data row12 col3\" >0.578880</td>\n",
       "      <td id=\"T_bb457_row12_col4\" class=\"data row12 col4\" >0.625849</td>\n",
       "      <td id=\"T_bb457_row12_col5\" class=\"data row12 col5\" >0.604016</td>\n",
       "      <td id=\"T_bb457_row12_col6\" class=\"data row12 col6\" >0.597031</td>\n",
       "      <td id=\"T_bb457_row12_col7\" class=\"data row12 col7\" >0.632714</td>\n",
       "      <td id=\"T_bb457_row12_col8\" class=\"data row12 col8\" >0.577537</td>\n",
       "      <td id=\"T_bb457_row12_col9\" class=\"data row12 col9\" >0.645409</td>\n",
       "      <td id=\"T_bb457_row12_col10\" class=\"data row12 col10\" >0.600733</td>\n",
       "      <td id=\"T_bb457_row12_col11\" class=\"data row12 col11\" >0.604333</td>\n",
       "      <td id=\"T_bb457_row12_col12\" class=\"data row12 col12\" >1.000000</td>\n",
       "      <td id=\"T_bb457_row12_col13\" class=\"data row12 col13\" >0.628703</td>\n",
       "      <td id=\"T_bb457_row12_col14\" class=\"data row12 col14\" >0.614780</td>\n",
       "      <td id=\"T_bb457_row12_col15\" class=\"data row12 col15\" >0.631888</td>\n",
       "      <td id=\"T_bb457_row12_col16\" class=\"data row12 col16\" >0.612846</td>\n",
       "      <td id=\"T_bb457_row12_col17\" class=\"data row12 col17\" >0.633883</td>\n",
       "      <td id=\"T_bb457_row12_col18\" class=\"data row12 col18\" >0.602091</td>\n",
       "      <td id=\"T_bb457_row12_col19\" class=\"data row12 col19\" >0.649791</td>\n",
       "    </tr>\n",
       "    <tr>\n",
       "      <th id=\"T_bb457_level0_row13\" class=\"row_heading level0 row13\" >estimator 14</th>\n",
       "      <td id=\"T_bb457_row13_col0\" class=\"data row13 col0\" >0.640109</td>\n",
       "      <td id=\"T_bb457_row13_col1\" class=\"data row13 col1\" >0.655926</td>\n",
       "      <td id=\"T_bb457_row13_col2\" class=\"data row13 col2\" >0.609194</td>\n",
       "      <td id=\"T_bb457_row13_col3\" class=\"data row13 col3\" >0.634399</td>\n",
       "      <td id=\"T_bb457_row13_col4\" class=\"data row13 col4\" >0.648797</td>\n",
       "      <td id=\"T_bb457_row13_col5\" class=\"data row13 col5\" >0.642405</td>\n",
       "      <td id=\"T_bb457_row13_col6\" class=\"data row13 col6\" >0.634457</td>\n",
       "      <td id=\"T_bb457_row13_col7\" class=\"data row13 col7\" >0.646835</td>\n",
       "      <td id=\"T_bb457_row13_col8\" class=\"data row13 col8\" >0.606391</td>\n",
       "      <td id=\"T_bb457_row13_col9\" class=\"data row13 col9\" >0.680467</td>\n",
       "      <td id=\"T_bb457_row13_col10\" class=\"data row13 col10\" >0.650378</td>\n",
       "      <td id=\"T_bb457_row13_col11\" class=\"data row13 col11\" >0.674970</td>\n",
       "      <td id=\"T_bb457_row13_col12\" class=\"data row13 col12\" >0.628703</td>\n",
       "      <td id=\"T_bb457_row13_col13\" class=\"data row13 col13\" >1.000000</td>\n",
       "      <td id=\"T_bb457_row13_col14\" class=\"data row13 col14\" >0.659046</td>\n",
       "      <td id=\"T_bb457_row13_col15\" class=\"data row13 col15\" >0.661034</td>\n",
       "      <td id=\"T_bb457_row13_col16\" class=\"data row13 col16\" >0.673921</td>\n",
       "      <td id=\"T_bb457_row13_col17\" class=\"data row13 col17\" >0.662917</td>\n",
       "      <td id=\"T_bb457_row13_col18\" class=\"data row13 col18\" >0.663621</td>\n",
       "      <td id=\"T_bb457_row13_col19\" class=\"data row13 col19\" >0.652097</td>\n",
       "    </tr>\n",
       "    <tr>\n",
       "      <th id=\"T_bb457_level0_row14\" class=\"row_heading level0 row14\" >estimator 15</th>\n",
       "      <td id=\"T_bb457_row14_col0\" class=\"data row14 col0\" >0.673963</td>\n",
       "      <td id=\"T_bb457_row14_col1\" class=\"data row14 col1\" >0.644657</td>\n",
       "      <td id=\"T_bb457_row14_col2\" class=\"data row14 col2\" >0.611938</td>\n",
       "      <td id=\"T_bb457_row14_col3\" class=\"data row14 col3\" >0.620396</td>\n",
       "      <td id=\"T_bb457_row14_col4\" class=\"data row14 col4\" >0.664647</td>\n",
       "      <td id=\"T_bb457_row14_col5\" class=\"data row14 col5\" >0.668840</td>\n",
       "      <td id=\"T_bb457_row14_col6\" class=\"data row14 col6\" >0.615425</td>\n",
       "      <td id=\"T_bb457_row14_col7\" class=\"data row14 col7\" >0.647333</td>\n",
       "      <td id=\"T_bb457_row14_col8\" class=\"data row14 col8\" >0.634048</td>\n",
       "      <td id=\"T_bb457_row14_col9\" class=\"data row14 col9\" >0.701946</td>\n",
       "      <td id=\"T_bb457_row14_col10\" class=\"data row14 col10\" >0.639334</td>\n",
       "      <td id=\"T_bb457_row14_col11\" class=\"data row14 col11\" >0.663698</td>\n",
       "      <td id=\"T_bb457_row14_col12\" class=\"data row14 col12\" >0.614780</td>\n",
       "      <td id=\"T_bb457_row14_col13\" class=\"data row14 col13\" >0.659046</td>\n",
       "      <td id=\"T_bb457_row14_col14\" class=\"data row14 col14\" >1.000000</td>\n",
       "      <td id=\"T_bb457_row14_col15\" class=\"data row14 col15\" >0.709348</td>\n",
       "      <td id=\"T_bb457_row14_col16\" class=\"data row14 col16\" >0.684956</td>\n",
       "      <td id=\"T_bb457_row14_col17\" class=\"data row14 col17\" >0.666400</td>\n",
       "      <td id=\"T_bb457_row14_col18\" class=\"data row14 col18\" >0.658651</td>\n",
       "      <td id=\"T_bb457_row14_col19\" class=\"data row14 col19\" >0.670185</td>\n",
       "    </tr>\n",
       "    <tr>\n",
       "      <th id=\"T_bb457_level0_row15\" class=\"row_heading level0 row15\" >estimator 16</th>\n",
       "      <td id=\"T_bb457_row15_col0\" class=\"data row15 col0\" >0.646174</td>\n",
       "      <td id=\"T_bb457_row15_col1\" class=\"data row15 col1\" >0.643916</td>\n",
       "      <td id=\"T_bb457_row15_col2\" class=\"data row15 col2\" >0.617393</td>\n",
       "      <td id=\"T_bb457_row15_col3\" class=\"data row15 col3\" >0.637530</td>\n",
       "      <td id=\"T_bb457_row15_col4\" class=\"data row15 col4\" >0.678756</td>\n",
       "      <td id=\"T_bb457_row15_col5\" class=\"data row15 col5\" >0.668337</td>\n",
       "      <td id=\"T_bb457_row15_col6\" class=\"data row15 col6\" >0.662037</td>\n",
       "      <td id=\"T_bb457_row15_col7\" class=\"data row15 col7\" >0.637628</td>\n",
       "      <td id=\"T_bb457_row15_col8\" class=\"data row15 col8\" >0.642170</td>\n",
       "      <td id=\"T_bb457_row15_col9\" class=\"data row15 col9\" >0.686169</td>\n",
       "      <td id=\"T_bb457_row15_col10\" class=\"data row15 col10\" >0.632569</td>\n",
       "      <td id=\"T_bb457_row15_col11\" class=\"data row15 col11\" >0.671940</td>\n",
       "      <td id=\"T_bb457_row15_col12\" class=\"data row15 col12\" >0.631888</td>\n",
       "      <td id=\"T_bb457_row15_col13\" class=\"data row15 col13\" >0.661034</td>\n",
       "      <td id=\"T_bb457_row15_col14\" class=\"data row15 col14\" >0.709348</td>\n",
       "      <td id=\"T_bb457_row15_col15\" class=\"data row15 col15\" >1.000000</td>\n",
       "      <td id=\"T_bb457_row15_col16\" class=\"data row15 col16\" >0.686826</td>\n",
       "      <td id=\"T_bb457_row15_col17\" class=\"data row15 col17\" >0.665675</td>\n",
       "      <td id=\"T_bb457_row15_col18\" class=\"data row15 col18\" >0.675766</td>\n",
       "      <td id=\"T_bb457_row15_col19\" class=\"data row15 col19\" >0.666521</td>\n",
       "    </tr>\n",
       "    <tr>\n",
       "      <th id=\"T_bb457_level0_row16\" class=\"row_heading level0 row16\" >estimator 17</th>\n",
       "      <td id=\"T_bb457_row16_col0\" class=\"data row16 col0\" >0.653844</td>\n",
       "      <td id=\"T_bb457_row16_col1\" class=\"data row16 col1\" >0.640052</td>\n",
       "      <td id=\"T_bb457_row16_col2\" class=\"data row16 col2\" >0.608233</td>\n",
       "      <td id=\"T_bb457_row16_col3\" class=\"data row16 col3\" >0.636286</td>\n",
       "      <td id=\"T_bb457_row16_col4\" class=\"data row16 col4\" >0.665508</td>\n",
       "      <td id=\"T_bb457_row16_col5\" class=\"data row16 col5\" >0.644479</td>\n",
       "      <td id=\"T_bb457_row16_col6\" class=\"data row16 col6\" >0.648034</td>\n",
       "      <td id=\"T_bb457_row16_col7\" class=\"data row16 col7\" >0.639872</td>\n",
       "      <td id=\"T_bb457_row16_col8\" class=\"data row16 col8\" >0.608298</td>\n",
       "      <td id=\"T_bb457_row16_col9\" class=\"data row16 col9\" >0.679449</td>\n",
       "      <td id=\"T_bb457_row16_col10\" class=\"data row16 col10\" >0.649310</td>\n",
       "      <td id=\"T_bb457_row16_col11\" class=\"data row16 col11\" >0.632363</td>\n",
       "      <td id=\"T_bb457_row16_col12\" class=\"data row16 col12\" >0.612846</td>\n",
       "      <td id=\"T_bb457_row16_col13\" class=\"data row16 col13\" >0.673921</td>\n",
       "      <td id=\"T_bb457_row16_col14\" class=\"data row16 col14\" >0.684956</td>\n",
       "      <td id=\"T_bb457_row16_col15\" class=\"data row16 col15\" >0.686826</td>\n",
       "      <td id=\"T_bb457_row16_col16\" class=\"data row16 col16\" >1.000000</td>\n",
       "      <td id=\"T_bb457_row16_col17\" class=\"data row16 col17\" >0.661892</td>\n",
       "      <td id=\"T_bb457_row16_col18\" class=\"data row16 col18\" >0.621078</td>\n",
       "      <td id=\"T_bb457_row16_col19\" class=\"data row16 col19\" >0.630280</td>\n",
       "    </tr>\n",
       "    <tr>\n",
       "      <th id=\"T_bb457_level0_row17\" class=\"row_heading level0 row17\" >estimator 18</th>\n",
       "      <td id=\"T_bb457_row17_col0\" class=\"data row17 col0\" >0.669066</td>\n",
       "      <td id=\"T_bb457_row17_col1\" class=\"data row17 col1\" >0.628067</td>\n",
       "      <td id=\"T_bb457_row17_col2\" class=\"data row17 col2\" >0.661536</td>\n",
       "      <td id=\"T_bb457_row17_col3\" class=\"data row17 col3\" >0.636558</td>\n",
       "      <td id=\"T_bb457_row17_col4\" class=\"data row17 col4\" >0.668795</td>\n",
       "      <td id=\"T_bb457_row17_col5\" class=\"data row17 col5\" >0.637490</td>\n",
       "      <td id=\"T_bb457_row17_col6\" class=\"data row17 col6\" >0.634172</td>\n",
       "      <td id=\"T_bb457_row17_col7\" class=\"data row17 col7\" >0.645720</td>\n",
       "      <td id=\"T_bb457_row17_col8\" class=\"data row17 col8\" >0.632240</td>\n",
       "      <td id=\"T_bb457_row17_col9\" class=\"data row17 col9\" >0.694268</td>\n",
       "      <td id=\"T_bb457_row17_col10\" class=\"data row17 col10\" >0.652521</td>\n",
       "      <td id=\"T_bb457_row17_col11\" class=\"data row17 col11\" >0.635118</td>\n",
       "      <td id=\"T_bb457_row17_col12\" class=\"data row17 col12\" >0.633883</td>\n",
       "      <td id=\"T_bb457_row17_col13\" class=\"data row17 col13\" >0.662917</td>\n",
       "      <td id=\"T_bb457_row17_col14\" class=\"data row17 col14\" >0.666400</td>\n",
       "      <td id=\"T_bb457_row17_col15\" class=\"data row17 col15\" >0.665675</td>\n",
       "      <td id=\"T_bb457_row17_col16\" class=\"data row17 col16\" >0.661892</td>\n",
       "      <td id=\"T_bb457_row17_col17\" class=\"data row17 col17\" >1.000000</td>\n",
       "      <td id=\"T_bb457_row17_col18\" class=\"data row17 col18\" >0.629997</td>\n",
       "      <td id=\"T_bb457_row17_col19\" class=\"data row17 col19\" >0.662676</td>\n",
       "    </tr>\n",
       "    <tr>\n",
       "      <th id=\"T_bb457_level0_row18\" class=\"row_heading level0 row18\" >estimator 19</th>\n",
       "      <td id=\"T_bb457_row18_col0\" class=\"data row18 col0\" >0.663963</td>\n",
       "      <td id=\"T_bb457_row18_col1\" class=\"data row18 col1\" >0.632097</td>\n",
       "      <td id=\"T_bb457_row18_col2\" class=\"data row18 col2\" >0.626776</td>\n",
       "      <td id=\"T_bb457_row18_col3\" class=\"data row18 col3\" >0.631517</td>\n",
       "      <td id=\"T_bb457_row18_col4\" class=\"data row18 col4\" >0.681580</td>\n",
       "      <td id=\"T_bb457_row18_col5\" class=\"data row18 col5\" >0.668891</td>\n",
       "      <td id=\"T_bb457_row18_col6\" class=\"data row18 col6\" >0.652609</td>\n",
       "      <td id=\"T_bb457_row18_col7\" class=\"data row18 col7\" >0.631850</td>\n",
       "      <td id=\"T_bb457_row18_col8\" class=\"data row18 col8\" >0.624225</td>\n",
       "      <td id=\"T_bb457_row18_col9\" class=\"data row18 col9\" >0.656433</td>\n",
       "      <td id=\"T_bb457_row18_col10\" class=\"data row18 col10\" >0.620707</td>\n",
       "      <td id=\"T_bb457_row18_col11\" class=\"data row18 col11\" >0.645149</td>\n",
       "      <td id=\"T_bb457_row18_col12\" class=\"data row18 col12\" >0.602091</td>\n",
       "      <td id=\"T_bb457_row18_col13\" class=\"data row18 col13\" >0.663621</td>\n",
       "      <td id=\"T_bb457_row18_col14\" class=\"data row18 col14\" >0.658651</td>\n",
       "      <td id=\"T_bb457_row18_col15\" class=\"data row18 col15\" >0.675766</td>\n",
       "      <td id=\"T_bb457_row18_col16\" class=\"data row18 col16\" >0.621078</td>\n",
       "      <td id=\"T_bb457_row18_col17\" class=\"data row18 col17\" >0.629997</td>\n",
       "      <td id=\"T_bb457_row18_col18\" class=\"data row18 col18\" >1.000000</td>\n",
       "      <td id=\"T_bb457_row18_col19\" class=\"data row18 col19\" >0.612975</td>\n",
       "    </tr>\n",
       "    <tr>\n",
       "      <th id=\"T_bb457_level0_row19\" class=\"row_heading level0 row19\" >estimator 20</th>\n",
       "      <td id=\"T_bb457_row19_col0\" class=\"data row19 col0\" >0.646174</td>\n",
       "      <td id=\"T_bb457_row19_col1\" class=\"data row19 col1\" >0.673848</td>\n",
       "      <td id=\"T_bb457_row19_col2\" class=\"data row19 col2\" >0.641401</td>\n",
       "      <td id=\"T_bb457_row19_col3\" class=\"data row19 col3\" >0.631559</td>\n",
       "      <td id=\"T_bb457_row19_col4\" class=\"data row19 col4\" >0.657826</td>\n",
       "      <td id=\"T_bb457_row19_col5\" class=\"data row19 col5\" >0.647224</td>\n",
       "      <td id=\"T_bb457_row19_col6\" class=\"data row19 col6\" >0.638250</td>\n",
       "      <td id=\"T_bb457_row19_col7\" class=\"data row19 col7\" >0.646615</td>\n",
       "      <td id=\"T_bb457_row19_col8\" class=\"data row19 col8\" >0.612321</td>\n",
       "      <td id=\"T_bb457_row19_col9\" class=\"data row19 col9\" >0.707192</td>\n",
       "      <td id=\"T_bb457_row19_col10\" class=\"data row19 col10\" >0.650503</td>\n",
       "      <td id=\"T_bb457_row19_col11\" class=\"data row19 col11\" >0.638978</td>\n",
       "      <td id=\"T_bb457_row19_col12\" class=\"data row19 col12\" >0.649791</td>\n",
       "      <td id=\"T_bb457_row19_col13\" class=\"data row19 col13\" >0.652097</td>\n",
       "      <td id=\"T_bb457_row19_col14\" class=\"data row19 col14\" >0.670185</td>\n",
       "      <td id=\"T_bb457_row19_col15\" class=\"data row19 col15\" >0.666521</td>\n",
       "      <td id=\"T_bb457_row19_col16\" class=\"data row19 col16\" >0.630280</td>\n",
       "      <td id=\"T_bb457_row19_col17\" class=\"data row19 col17\" >0.662676</td>\n",
       "      <td id=\"T_bb457_row19_col18\" class=\"data row19 col18\" >0.612975</td>\n",
       "      <td id=\"T_bb457_row19_col19\" class=\"data row19 col19\" >1.000000</td>\n",
       "    </tr>\n",
       "  </tbody>\n",
       "</table>\n"
      ],
      "text/plain": [
       "<pandas.io.formats.style.Styler at 0x24f58d8df50>"
      ]
     },
     "execution_count": 129,
     "metadata": {},
     "output_type": "execute_result"
    }
   ],
   "source": [
    "get_correlation(X_testR, y_testR,model).style.background_gradient(cmap='coolwarm')"
   ]
  },
  {
   "cell_type": "code",
   "execution_count": 131,
   "id": "52d3928a-6a5d-47e1-96de-6716d6470bc3",
   "metadata": {
    "tags": []
   },
   "outputs": [
    {
     "data": {
      "text/plain": [
       "dict_keys(['bootstrap', 'ccp_alpha', 'class_weight', 'criterion', 'max_depth', 'max_features', 'max_leaf_nodes', 'max_samples', 'min_impurity_decrease', 'min_samples_leaf', 'min_samples_split', 'min_weight_fraction_leaf', 'n_estimators', 'n_jobs', 'oob_score', 'random_state', 'verbose', 'warm_start'])"
      ]
     },
     "execution_count": 131,
     "metadata": {},
     "output_type": "execute_result"
    }
   ],
   "source": [
    "model.get_params().keys()"
   ]
  },
  {
   "cell_type": "code",
   "execution_count": 132,
   "id": "b92f87fe-7521-4103-ab19-2eb190d09c19",
   "metadata": {
    "tags": []
   },
   "outputs": [],
   "source": [
    "param_grid = {'n_estimators': [2*n+1 for n in range(20)],\n",
    "             'max_depth' : [2*n+1 for n in range(10) ],\n",
    "             'max_features':[\"auto\", \"sqrt\", \"log2\"]}"
   ]
  },
  {
   "cell_type": "code",
   "execution_count": 133,
   "id": "c947553d-df99-45bc-98b1-23221881950b",
   "metadata": {
    "tags": []
   },
   "outputs": [
    {
     "data": {
      "text/html": [
       "<style>#sk-container-id-6 {color: black;}#sk-container-id-6 pre{padding: 0;}#sk-container-id-6 div.sk-toggleable {background-color: white;}#sk-container-id-6 label.sk-toggleable__label {cursor: pointer;display: block;width: 100%;margin-bottom: 0;padding: 0.3em;box-sizing: border-box;text-align: center;}#sk-container-id-6 label.sk-toggleable__label-arrow:before {content: \"▸\";float: left;margin-right: 0.25em;color: #696969;}#sk-container-id-6 label.sk-toggleable__label-arrow:hover:before {color: black;}#sk-container-id-6 div.sk-estimator:hover label.sk-toggleable__label-arrow:before {color: black;}#sk-container-id-6 div.sk-toggleable__content {max-height: 0;max-width: 0;overflow: hidden;text-align: left;background-color: #f0f8ff;}#sk-container-id-6 div.sk-toggleable__content pre {margin: 0.2em;color: black;border-radius: 0.25em;background-color: #f0f8ff;}#sk-container-id-6 input.sk-toggleable__control:checked~div.sk-toggleable__content {max-height: 200px;max-width: 100%;overflow: auto;}#sk-container-id-6 input.sk-toggleable__control:checked~label.sk-toggleable__label-arrow:before {content: \"▾\";}#sk-container-id-6 div.sk-estimator input.sk-toggleable__control:checked~label.sk-toggleable__label {background-color: #d4ebff;}#sk-container-id-6 div.sk-label input.sk-toggleable__control:checked~label.sk-toggleable__label {background-color: #d4ebff;}#sk-container-id-6 input.sk-hidden--visually {border: 0;clip: rect(1px 1px 1px 1px);clip: rect(1px, 1px, 1px, 1px);height: 1px;margin: -1px;overflow: hidden;padding: 0;position: absolute;width: 1px;}#sk-container-id-6 div.sk-estimator {font-family: monospace;background-color: #f0f8ff;border: 1px dotted black;border-radius: 0.25em;box-sizing: border-box;margin-bottom: 0.5em;}#sk-container-id-6 div.sk-estimator:hover {background-color: #d4ebff;}#sk-container-id-6 div.sk-parallel-item::after {content: \"\";width: 100%;border-bottom: 1px solid gray;flex-grow: 1;}#sk-container-id-6 div.sk-label:hover label.sk-toggleable__label {background-color: #d4ebff;}#sk-container-id-6 div.sk-serial::before {content: \"\";position: absolute;border-left: 1px solid gray;box-sizing: border-box;top: 0;bottom: 0;left: 50%;z-index: 0;}#sk-container-id-6 div.sk-serial {display: flex;flex-direction: column;align-items: center;background-color: white;padding-right: 0.2em;padding-left: 0.2em;position: relative;}#sk-container-id-6 div.sk-item {position: relative;z-index: 1;}#sk-container-id-6 div.sk-parallel {display: flex;align-items: stretch;justify-content: center;background-color: white;position: relative;}#sk-container-id-6 div.sk-item::before, #sk-container-id-6 div.sk-parallel-item::before {content: \"\";position: absolute;border-left: 1px solid gray;box-sizing: border-box;top: 0;bottom: 0;left: 50%;z-index: -1;}#sk-container-id-6 div.sk-parallel-item {display: flex;flex-direction: column;z-index: 1;position: relative;background-color: white;}#sk-container-id-6 div.sk-parallel-item:first-child::after {align-self: flex-end;width: 50%;}#sk-container-id-6 div.sk-parallel-item:last-child::after {align-self: flex-start;width: 50%;}#sk-container-id-6 div.sk-parallel-item:only-child::after {width: 0;}#sk-container-id-6 div.sk-dashed-wrapped {border: 1px dashed gray;margin: 0 0.4em 0.5em 0.4em;box-sizing: border-box;padding-bottom: 0.4em;background-color: white;}#sk-container-id-6 div.sk-label label {font-family: monospace;font-weight: bold;display: inline-block;line-height: 1.2em;}#sk-container-id-6 div.sk-label-container {text-align: center;}#sk-container-id-6 div.sk-container {/* jupyter's `normalize.less` sets `[hidden] { display: none; }` but bootstrap.min.css set `[hidden] { display: none !important; }` so we also need the `!important` here to be able to override the default hidden behavior on the sphinx rendered scikit-learn.org. See: https://github.com/scikit-learn/scikit-learn/issues/21755 */display: inline-block !important;position: relative;}#sk-container-id-6 div.sk-text-repr-fallback {display: none;}</style><div id=\"sk-container-id-6\" class=\"sk-top-container\"><div class=\"sk-text-repr-fallback\"><pre>GridSearchCV(estimator=RandomForestClassifier(max_features=3, n_estimators=20,\n",
       "                                              random_state=0),\n",
       "             param_grid={&#x27;max_depth&#x27;: [1, 3, 5, 7, 9, 11, 13, 15, 17, 19],\n",
       "                         &#x27;max_features&#x27;: [&#x27;auto&#x27;, &#x27;sqrt&#x27;, &#x27;log2&#x27;],\n",
       "                         &#x27;n_estimators&#x27;: [1, 3, 5, 7, 9, 11, 13, 15, 17, 19, 21,\n",
       "                                          23, 25, 27, 29, 31, 33, 35, 37, 39]},\n",
       "             scoring=&#x27;accuracy&#x27;)</pre><b>In a Jupyter environment, please rerun this cell to show the HTML representation or trust the notebook. <br />On GitHub, the HTML representation is unable to render, please try loading this page with nbviewer.org.</b></div><div class=\"sk-container\" hidden><div class=\"sk-item sk-dashed-wrapped\"><div class=\"sk-label-container\"><div class=\"sk-label sk-toggleable\"><input class=\"sk-toggleable__control sk-hidden--visually\" id=\"sk-estimator-id-10\" type=\"checkbox\" ><label for=\"sk-estimator-id-10\" class=\"sk-toggleable__label sk-toggleable__label-arrow\">GridSearchCV</label><div class=\"sk-toggleable__content\"><pre>GridSearchCV(estimator=RandomForestClassifier(max_features=3, n_estimators=20,\n",
       "                                              random_state=0),\n",
       "             param_grid={&#x27;max_depth&#x27;: [1, 3, 5, 7, 9, 11, 13, 15, 17, 19],\n",
       "                         &#x27;max_features&#x27;: [&#x27;auto&#x27;, &#x27;sqrt&#x27;, &#x27;log2&#x27;],\n",
       "                         &#x27;n_estimators&#x27;: [1, 3, 5, 7, 9, 11, 13, 15, 17, 19, 21,\n",
       "                                          23, 25, 27, 29, 31, 33, 35, 37, 39]},\n",
       "             scoring=&#x27;accuracy&#x27;)</pre></div></div></div><div class=\"sk-parallel\"><div class=\"sk-parallel-item\"><div class=\"sk-item\"><div class=\"sk-label-container\"><div class=\"sk-label sk-toggleable\"><input class=\"sk-toggleable__control sk-hidden--visually\" id=\"sk-estimator-id-11\" type=\"checkbox\" ><label for=\"sk-estimator-id-11\" class=\"sk-toggleable__label sk-toggleable__label-arrow\">estimator: RandomForestClassifier</label><div class=\"sk-toggleable__content\"><pre>RandomForestClassifier(max_features=3, n_estimators=20, random_state=0)</pre></div></div></div><div class=\"sk-serial\"><div class=\"sk-item\"><div class=\"sk-estimator sk-toggleable\"><input class=\"sk-toggleable__control sk-hidden--visually\" id=\"sk-estimator-id-12\" type=\"checkbox\" ><label for=\"sk-estimator-id-12\" class=\"sk-toggleable__label sk-toggleable__label-arrow\">RandomForestClassifier</label><div class=\"sk-toggleable__content\"><pre>RandomForestClassifier(max_features=3, n_estimators=20, random_state=0)</pre></div></div></div></div></div></div></div></div></div></div>"
      ],
      "text/plain": [
       "GridSearchCV(estimator=RandomForestClassifier(max_features=3, n_estimators=20,\n",
       "                                              random_state=0),\n",
       "             param_grid={'max_depth': [1, 3, 5, 7, 9, 11, 13, 15, 17, 19],\n",
       "                         'max_features': ['auto', 'sqrt', 'log2'],\n",
       "                         'n_estimators': [1, 3, 5, 7, 9, 11, 13, 15, 17, 19, 21,\n",
       "                                          23, 25, 27, 29, 31, 33, 35, 37, 39]},\n",
       "             scoring='accuracy')"
      ]
     },
     "execution_count": 133,
     "metadata": {},
     "output_type": "execute_result"
    }
   ],
   "source": [
    "search = GridSearchCV(estimator=model, param_grid=param_grid,scoring='accuracy')\n",
    "search.fit(X_trainR, y_trainR)"
   ]
  },
  {
   "cell_type": "code",
   "execution_count": 134,
   "id": "daa5fe83-57f1-48d7-9e86-bbf5ad93db29",
   "metadata": {
    "tags": []
   },
   "outputs": [
    {
     "data": {
      "text/plain": [
       "0.9203733501506293"
      ]
     },
     "execution_count": 134,
     "metadata": {},
     "output_type": "execute_result"
    }
   ],
   "source": [
    "search.best_score_"
   ]
  },
  {
   "cell_type": "code",
   "execution_count": 135,
   "id": "a47f8534-0901-470c-b2aa-4340d3d4cb5b",
   "metadata": {
    "tags": []
   },
   "outputs": [
    {
     "data": {
      "text/plain": [
       "{'max_depth': 19, 'max_features': 'sqrt', 'n_estimators': 31}"
      ]
     },
     "execution_count": 135,
     "metadata": {},
     "output_type": "execute_result"
    }
   ],
   "source": [
    "search.best_params_"
   ]
  },
  {
   "cell_type": "code",
   "execution_count": 136,
   "id": "208d6f50-49de-44f7-8a59-07ce18117648",
   "metadata": {
    "tags": []
   },
   "outputs": [
    {
     "name": "stdout",
     "output_type": "stream",
     "text": [
      "{'test Accuracy': 0.9184820801124385, 'train Accuracy': 0.9929688873264194}\n"
     ]
    }
   ],
   "source": [
    "print(get_accuracy(X_trainR, X_testR, y_trainR, y_testR, search.best_estimator_))"
   ]
  },
  {
   "cell_type": "code",
   "execution_count": null,
   "id": "81ede022-851b-4a88-b626-0fb001252fa1",
   "metadata": {},
   "outputs": [],
   "source": []
  }
 ],
 "metadata": {
  "kernelspec": {
   "display_name": "Python 3 (ipykernel)",
   "language": "python",
   "name": "python3"
  },
  "language_info": {
   "codemirror_mode": {
    "name": "ipython",
    "version": 3
   },
   "file_extension": ".py",
   "mimetype": "text/x-python",
   "name": "python",
   "nbconvert_exporter": "python",
   "pygments_lexer": "ipython3",
   "version": "3.11.5"
  }
 },
 "nbformat": 4,
 "nbformat_minor": 5
}
