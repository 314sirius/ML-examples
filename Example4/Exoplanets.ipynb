{
 "cells": [
  {
   "cell_type": "code",
   "execution_count": 467,
   "id": "2ee78052-4049-4fdf-89b3-5618766692a5",
   "metadata": {},
   "outputs": [],
   "source": [
    "def warn(*args, **kwargs):\n",
    "    pass\n",
    "import warnings\n",
    "warnings.warn = warn\n",
    "warnings.filterwarnings('ignore')\n",
    "\n",
    "import numpy as np\n",
    "import pandas as pd\n",
    "import matplotlib.pyplot as plt\n",
    "import seaborn as sns\n",
    "\n",
    "from sklearn.preprocessing import OneHotEncoder, LabelEncoder, MinMaxScaler\n",
    "from sklearn.model_selection import train_test_split, learning_curve\n",
    "from sklearn.linear_model import LogisticRegression\n",
    "from sklearn import metrics\n",
    "from sklearn.metrics import classification_report, accuracy_score, confusion_matrix, ConfusionMatrixDisplay, precision_recall_fscore_support, precision_score, recall_score, f1_score\n",
    "\n",
    "%matplotlib inline"
   ]
  },
  {
   "cell_type": "markdown",
   "id": "fcb51643-a5ec-4cc3-a874-eb76bfdc24df",
   "metadata": {},
   "source": [
    "## Load the dataset"
   ]
  },
  {
   "cell_type": "code",
   "execution_count": 468,
   "id": "470a310a-f84b-4762-a891-4246b71cb120",
   "metadata": {},
   "outputs": [],
   "source": [
    "df = pd.read_csv(\"Exoplanets_2024.06.09_05.32.23.csv\", delimiter=',', skiprows=35)"
   ]
  },
  {
   "cell_type": "code",
   "execution_count": 469,
   "id": "866c3a69-9aea-4338-b535-f8d057b25679",
   "metadata": {
    "tags": []
   },
   "outputs": [
    {
     "data": {
      "text/html": [
       "<div>\n",
       "<style scoped>\n",
       "    .dataframe tbody tr th:only-of-type {\n",
       "        vertical-align: middle;\n",
       "    }\n",
       "\n",
       "    .dataframe tbody tr th {\n",
       "        vertical-align: top;\n",
       "    }\n",
       "\n",
       "    .dataframe thead th {\n",
       "        text-align: right;\n",
       "    }\n",
       "</style>\n",
       "<table border=\"1\" class=\"dataframe\">\n",
       "  <thead>\n",
       "    <tr style=\"text-align: right;\">\n",
       "      <th></th>\n",
       "      <th>kepid</th>\n",
       "      <th>kepoi_name</th>\n",
       "      <th>kepler_name</th>\n",
       "      <th>koi_disposition</th>\n",
       "      <th>koi_pdisposition</th>\n",
       "      <th>koi_score</th>\n",
       "      <th>koi_fpflag_nt</th>\n",
       "      <th>koi_fpflag_ss</th>\n",
       "      <th>koi_fpflag_co</th>\n",
       "      <th>koi_fpflag_ec</th>\n",
       "      <th>...</th>\n",
       "      <th>koi_insol</th>\n",
       "      <th>koi_model_snr</th>\n",
       "      <th>koi_tce_plnt_num</th>\n",
       "      <th>koi_tce_delivname</th>\n",
       "      <th>koi_steff</th>\n",
       "      <th>koi_slogg</th>\n",
       "      <th>koi_srad</th>\n",
       "      <th>ra</th>\n",
       "      <th>dec</th>\n",
       "      <th>koi_kepmag</th>\n",
       "    </tr>\n",
       "  </thead>\n",
       "  <tbody>\n",
       "    <tr>\n",
       "      <th>0</th>\n",
       "      <td>10848459</td>\n",
       "      <td>K00754.01</td>\n",
       "      <td>NaN</td>\n",
       "      <td>FALSE POSITIVE</td>\n",
       "      <td>FALSE POSITIVE</td>\n",
       "      <td>0.0</td>\n",
       "      <td>0</td>\n",
       "      <td>1</td>\n",
       "      <td>0</td>\n",
       "      <td>0</td>\n",
       "      <td>...</td>\n",
       "      <td>891.96</td>\n",
       "      <td>505.6</td>\n",
       "      <td>1.0</td>\n",
       "      <td>q1_q17_dr25_tce</td>\n",
       "      <td>5805.0</td>\n",
       "      <td>4.564</td>\n",
       "      <td>0.791</td>\n",
       "      <td>285.53461</td>\n",
       "      <td>48.285210</td>\n",
       "      <td>15.597</td>\n",
       "    </tr>\n",
       "    <tr>\n",
       "      <th>1</th>\n",
       "      <td>6721123</td>\n",
       "      <td>K00114.01</td>\n",
       "      <td>NaN</td>\n",
       "      <td>FALSE POSITIVE</td>\n",
       "      <td>FALSE POSITIVE</td>\n",
       "      <td>0.0</td>\n",
       "      <td>0</td>\n",
       "      <td>1</td>\n",
       "      <td>1</td>\n",
       "      <td>0</td>\n",
       "      <td>...</td>\n",
       "      <td>767.22</td>\n",
       "      <td>47.7</td>\n",
       "      <td>1.0</td>\n",
       "      <td>q1_q17_dr25_tce</td>\n",
       "      <td>6227.0</td>\n",
       "      <td>3.986</td>\n",
       "      <td>1.958</td>\n",
       "      <td>298.86435</td>\n",
       "      <td>42.151569</td>\n",
       "      <td>12.660</td>\n",
       "    </tr>\n",
       "    <tr>\n",
       "      <th>2</th>\n",
       "      <td>10419211</td>\n",
       "      <td>K00742.01</td>\n",
       "      <td>NaN</td>\n",
       "      <td>FALSE POSITIVE</td>\n",
       "      <td>FALSE POSITIVE</td>\n",
       "      <td>0.0</td>\n",
       "      <td>0</td>\n",
       "      <td>1</td>\n",
       "      <td>0</td>\n",
       "      <td>0</td>\n",
       "      <td>...</td>\n",
       "      <td>75.88</td>\n",
       "      <td>622.1</td>\n",
       "      <td>1.0</td>\n",
       "      <td>q1_q17_dr25_tce</td>\n",
       "      <td>5795.0</td>\n",
       "      <td>4.554</td>\n",
       "      <td>0.848</td>\n",
       "      <td>297.07993</td>\n",
       "      <td>47.597401</td>\n",
       "      <td>15.472</td>\n",
       "    </tr>\n",
       "    <tr>\n",
       "      <th>3</th>\n",
       "      <td>10464078</td>\n",
       "      <td>K00743.01</td>\n",
       "      <td>NaN</td>\n",
       "      <td>FALSE POSITIVE</td>\n",
       "      <td>FALSE POSITIVE</td>\n",
       "      <td>0.0</td>\n",
       "      <td>0</td>\n",
       "      <td>1</td>\n",
       "      <td>0</td>\n",
       "      <td>0</td>\n",
       "      <td>...</td>\n",
       "      <td>17.69</td>\n",
       "      <td>214.7</td>\n",
       "      <td>1.0</td>\n",
       "      <td>q1_q17_dr25_tce</td>\n",
       "      <td>5043.0</td>\n",
       "      <td>4.591</td>\n",
       "      <td>0.680</td>\n",
       "      <td>289.25821</td>\n",
       "      <td>47.635319</td>\n",
       "      <td>15.487</td>\n",
       "    </tr>\n",
       "    <tr>\n",
       "      <th>4</th>\n",
       "      <td>10480982</td>\n",
       "      <td>K00744.01</td>\n",
       "      <td>NaN</td>\n",
       "      <td>FALSE POSITIVE</td>\n",
       "      <td>FALSE POSITIVE</td>\n",
       "      <td>0.0</td>\n",
       "      <td>0</td>\n",
       "      <td>1</td>\n",
       "      <td>0</td>\n",
       "      <td>0</td>\n",
       "      <td>...</td>\n",
       "      <td>55.97</td>\n",
       "      <td>2317.0</td>\n",
       "      <td>1.0</td>\n",
       "      <td>q1_q17_dr25_tce</td>\n",
       "      <td>6117.0</td>\n",
       "      <td>4.496</td>\n",
       "      <td>0.947</td>\n",
       "      <td>295.81454</td>\n",
       "      <td>47.690350</td>\n",
       "      <td>15.341</td>\n",
       "    </tr>\n",
       "  </tbody>\n",
       "</table>\n",
       "<p>5 rows × 27 columns</p>\n",
       "</div>"
      ],
      "text/plain": [
       "      kepid kepoi_name kepler_name koi_disposition koi_pdisposition  \\\n",
       "0  10848459  K00754.01         NaN  FALSE POSITIVE   FALSE POSITIVE   \n",
       "1   6721123  K00114.01         NaN  FALSE POSITIVE   FALSE POSITIVE   \n",
       "2  10419211  K00742.01         NaN  FALSE POSITIVE   FALSE POSITIVE   \n",
       "3  10464078  K00743.01         NaN  FALSE POSITIVE   FALSE POSITIVE   \n",
       "4  10480982  K00744.01         NaN  FALSE POSITIVE   FALSE POSITIVE   \n",
       "\n",
       "   koi_score  koi_fpflag_nt  koi_fpflag_ss  koi_fpflag_co  koi_fpflag_ec  ...  \\\n",
       "0        0.0              0              1              0              0  ...   \n",
       "1        0.0              0              1              1              0  ...   \n",
       "2        0.0              0              1              0              0  ...   \n",
       "3        0.0              0              1              0              0  ...   \n",
       "4        0.0              0              1              0              0  ...   \n",
       "\n",
       "   koi_insol  koi_model_snr  koi_tce_plnt_num  koi_tce_delivname  koi_steff  \\\n",
       "0     891.96          505.6               1.0    q1_q17_dr25_tce     5805.0   \n",
       "1     767.22           47.7               1.0    q1_q17_dr25_tce     6227.0   \n",
       "2      75.88          622.1               1.0    q1_q17_dr25_tce     5795.0   \n",
       "3      17.69          214.7               1.0    q1_q17_dr25_tce     5043.0   \n",
       "4      55.97         2317.0               1.0    q1_q17_dr25_tce     6117.0   \n",
       "\n",
       "   koi_slogg  koi_srad         ra        dec  koi_kepmag  \n",
       "0      4.564     0.791  285.53461  48.285210      15.597  \n",
       "1      3.986     1.958  298.86435  42.151569      12.660  \n",
       "2      4.554     0.848  297.07993  47.597401      15.472  \n",
       "3      4.591     0.680  289.25821  47.635319      15.487  \n",
       "4      4.496     0.947  295.81454  47.690350      15.341  \n",
       "\n",
       "[5 rows x 27 columns]"
      ]
     },
     "execution_count": 469,
     "metadata": {},
     "output_type": "execute_result"
    }
   ],
   "source": [
    "df.head()"
   ]
  },
  {
   "cell_type": "code",
   "execution_count": 470,
   "id": "645913af-6ec8-4fec-b0fa-f18b14151ba0",
   "metadata": {
    "tags": []
   },
   "outputs": [
    {
     "data": {
      "text/plain": [
       "koi_tce_plnt_num\n",
       "1.0    7745\n",
       "2.0     972\n",
       "3.0     326\n",
       "4.0     111\n",
       "5.0      41\n",
       "6.0      14\n",
       "7.0       8\n",
       "8.0       1\n",
       "Name: count, dtype: int64"
      ]
     },
     "execution_count": 470,
     "metadata": {},
     "output_type": "execute_result"
    }
   ],
   "source": [
    "df['koi_tce_plnt_num'].value_counts()"
   ]
  },
  {
   "cell_type": "code",
   "execution_count": 471,
   "id": "ef885368-36a1-4251-b28b-3f0a8b57eb6c",
   "metadata": {
    "tags": []
   },
   "outputs": [
    {
     "data": {
      "text/plain": [
       "koi_tce_delivname\n",
       "q1_q17_dr25_tce    8054\n",
       "q1_q16_tce          796\n",
       "q1_q17_dr24_tce     368\n",
       "Name: count, dtype: int64"
      ]
     },
     "execution_count": 471,
     "metadata": {},
     "output_type": "execute_result"
    }
   ],
   "source": [
    "df['koi_tce_delivname'].value_counts()"
   ]
  },
  {
   "cell_type": "code",
   "execution_count": 344,
   "id": "5ff76fc6-e614-4e3a-b6f0-9f220b01f734",
   "metadata": {
    "tags": []
   },
   "outputs": [
    {
     "data": {
      "text/plain": [
       "(9564, 27)"
      ]
     },
     "execution_count": 344,
     "metadata": {},
     "output_type": "execute_result"
    }
   ],
   "source": [
    "df.shape"
   ]
  },
  {
   "cell_type": "code",
   "execution_count": 345,
   "id": "82354d6c-465d-4d40-89a4-2454591f5c46",
   "metadata": {
    "tags": []
   },
   "outputs": [
    {
     "data": {
      "text/plain": [
       "koi_disposition\n",
       "FALSE POSITIVE    4839\n",
       "CONFIRMED         2743\n",
       "CANDIDATE         1982\n",
       "Name: count, dtype: int64"
      ]
     },
     "execution_count": 345,
     "metadata": {},
     "output_type": "execute_result"
    }
   ],
   "source": [
    "#Column that will be treated as label for classification models.\n",
    "df.koi_disposition.value_counts()"
   ]
  },
  {
   "cell_type": "code",
   "execution_count": 346,
   "id": "f1f47d31-27ca-4ade-826e-f9f248714ee5",
   "metadata": {
    "tags": []
   },
   "outputs": [],
   "source": [
    "#objects with the known labels: confirmed as an exoplanet or false positive (not an exoplanet).\n",
    "df_known_raw=df[df['koi_disposition']!='CANDIDATE']"
   ]
  },
  {
   "cell_type": "code",
   "execution_count": 347,
   "id": "ed9d7543-9a3d-4f3a-abd8-6d255258608b",
   "metadata": {
    "tags": []
   },
   "outputs": [],
   "source": [
    "#objects that are need to be defined\n",
    "df_unknown_raw=df[df['koi_disposition'] =='CANDIDATE']"
   ]
  },
  {
   "cell_type": "code",
   "execution_count": 348,
   "id": "5d00801f-896a-4fa8-9410-7cfb9032de9f",
   "metadata": {
    "tags": []
   },
   "outputs": [
    {
     "data": {
      "text/plain": [
       "koi_disposition\n",
       "FALSE POSITIVE    4839\n",
       "CONFIRMED         2743\n",
       "Name: count, dtype: int64"
      ]
     },
     "execution_count": 348,
     "metadata": {},
     "output_type": "execute_result"
    }
   ],
   "source": [
    "df_known_raw.koi_disposition.value_counts()"
   ]
  },
  {
   "cell_type": "code",
   "execution_count": 349,
   "id": "bd54c49b-7b09-42aa-8890-2338e80cf1b7",
   "metadata": {
    "tags": []
   },
   "outputs": [
    {
     "data": {
      "text/plain": [
       "kepid                  int64\n",
       "kepoi_name            object\n",
       "kepler_name           object\n",
       "koi_disposition       object\n",
       "koi_pdisposition      object\n",
       "koi_score            float64\n",
       "koi_fpflag_nt          int64\n",
       "koi_fpflag_ss          int64\n",
       "koi_fpflag_co          int64\n",
       "koi_fpflag_ec          int64\n",
       "koi_period           float64\n",
       "koi_time0bk          float64\n",
       "koi_impact           float64\n",
       "koi_duration         float64\n",
       "koi_depth            float64\n",
       "koi_prad             float64\n",
       "koi_teq              float64\n",
       "koi_insol            float64\n",
       "koi_model_snr        float64\n",
       "koi_tce_plnt_num     float64\n",
       "koi_tce_delivname     object\n",
       "koi_steff            float64\n",
       "koi_slogg            float64\n",
       "koi_srad             float64\n",
       "ra                   float64\n",
       "dec                  float64\n",
       "koi_kepmag           float64\n",
       "dtype: object"
      ]
     },
     "execution_count": 349,
     "metadata": {},
     "output_type": "execute_result"
    }
   ],
   "source": [
    "df_known_raw.dtypes"
   ]
  },
  {
   "cell_type": "code",
   "execution_count": null,
   "id": "b396890f-dc0a-40a6-bff4-04ddb8486d59",
   "metadata": {},
   "outputs": [],
   "source": []
  },
  {
   "cell_type": "code",
   "execution_count": 350,
   "id": "f5941761-a263-4bf1-9209-33c9059b3d99",
   "metadata": {
    "tags": []
   },
   "outputs": [],
   "source": [
    "#remove unnecessary columns: kepid, kepo\n",
    "#flags=df_known.filter(regex=r'koi_fpflag').columns"
   ]
  },
  {
   "cell_type": "code",
   "execution_count": 351,
   "id": "984a8f3a-9d80-493a-8f1f-c3346a192247",
   "metadata": {
    "tags": []
   },
   "outputs": [],
   "source": [
    "df_known_raw['label']=df_known_raw['koi_disposition']"
   ]
  },
  {
   "cell_type": "code",
   "execution_count": 352,
   "id": "dbe5a052-75bc-40ba-93e8-6ba831405526",
   "metadata": {
    "tags": []
   },
   "outputs": [],
   "source": [
    "# not an exoplanet = 0, exoplanet = 1\n",
    "df_known_raw['label'] = df_known_raw.label.replace('FALSE POSITIVE',0).replace('CONFIRMED',1).astype(int)"
   ]
  },
  {
   "cell_type": "code",
   "execution_count": 353,
   "id": "372f2b55-b52f-4f05-bc52-686e3005cf0e",
   "metadata": {
    "tags": []
   },
   "outputs": [],
   "source": [
    "df_known=df_known_raw.iloc[:, 10:].copy()"
   ]
  },
  {
   "cell_type": "code",
   "execution_count": 354,
   "id": "44dfe66d-953f-4e1e-969d-43b213e063b0",
   "metadata": {
    "tags": []
   },
   "outputs": [],
   "source": [
    "df_unknown=df_unknown_raw.iloc[:, 10:].copy()"
   ]
  },
  {
   "cell_type": "code",
   "execution_count": 355,
   "id": "7656985a-5662-4ba4-ad93-471937e9ab2e",
   "metadata": {
    "tags": []
   },
   "outputs": [
    {
     "data": {
      "text/html": [
       "<div>\n",
       "<style scoped>\n",
       "    .dataframe tbody tr th:only-of-type {\n",
       "        vertical-align: middle;\n",
       "    }\n",
       "\n",
       "    .dataframe tbody tr th {\n",
       "        vertical-align: top;\n",
       "    }\n",
       "\n",
       "    .dataframe thead th {\n",
       "        text-align: right;\n",
       "    }\n",
       "</style>\n",
       "<table border=\"1\" class=\"dataframe\">\n",
       "  <thead>\n",
       "    <tr style=\"text-align: right;\">\n",
       "      <th></th>\n",
       "      <th>koi_period</th>\n",
       "      <th>koi_time0bk</th>\n",
       "      <th>koi_impact</th>\n",
       "      <th>koi_duration</th>\n",
       "      <th>koi_depth</th>\n",
       "      <th>koi_prad</th>\n",
       "      <th>koi_teq</th>\n",
       "      <th>koi_insol</th>\n",
       "      <th>koi_model_snr</th>\n",
       "      <th>koi_tce_plnt_num</th>\n",
       "      <th>koi_tce_delivname</th>\n",
       "      <th>koi_steff</th>\n",
       "      <th>koi_slogg</th>\n",
       "      <th>koi_srad</th>\n",
       "      <th>ra</th>\n",
       "      <th>dec</th>\n",
       "      <th>koi_kepmag</th>\n",
       "      <th>label</th>\n",
       "    </tr>\n",
       "  </thead>\n",
       "  <tbody>\n",
       "    <tr>\n",
       "      <th>0</th>\n",
       "      <td>1.736952</td>\n",
       "      <td>170.307565</td>\n",
       "      <td>1.276</td>\n",
       "      <td>2.40641</td>\n",
       "      <td>8079.2</td>\n",
       "      <td>33.46</td>\n",
       "      <td>1395.0</td>\n",
       "      <td>891.96</td>\n",
       "      <td>505.6</td>\n",
       "      <td>1.0</td>\n",
       "      <td>q1_q17_dr25_tce</td>\n",
       "      <td>5805.0</td>\n",
       "      <td>4.564</td>\n",
       "      <td>0.791</td>\n",
       "      <td>285.53461</td>\n",
       "      <td>48.285210</td>\n",
       "      <td>15.597</td>\n",
       "      <td>0</td>\n",
       "    </tr>\n",
       "    <tr>\n",
       "      <th>1</th>\n",
       "      <td>7.361790</td>\n",
       "      <td>132.250530</td>\n",
       "      <td>1.169</td>\n",
       "      <td>5.02200</td>\n",
       "      <td>233.7</td>\n",
       "      <td>39.21</td>\n",
       "      <td>1342.0</td>\n",
       "      <td>767.22</td>\n",
       "      <td>47.7</td>\n",
       "      <td>1.0</td>\n",
       "      <td>q1_q17_dr25_tce</td>\n",
       "      <td>6227.0</td>\n",
       "      <td>3.986</td>\n",
       "      <td>1.958</td>\n",
       "      <td>298.86435</td>\n",
       "      <td>42.151569</td>\n",
       "      <td>12.660</td>\n",
       "      <td>0</td>\n",
       "    </tr>\n",
       "    <tr>\n",
       "      <th>2</th>\n",
       "      <td>11.521446</td>\n",
       "      <td>170.839688</td>\n",
       "      <td>2.483</td>\n",
       "      <td>3.63990</td>\n",
       "      <td>17984.0</td>\n",
       "      <td>150.51</td>\n",
       "      <td>753.0</td>\n",
       "      <td>75.88</td>\n",
       "      <td>622.1</td>\n",
       "      <td>1.0</td>\n",
       "      <td>q1_q17_dr25_tce</td>\n",
       "      <td>5795.0</td>\n",
       "      <td>4.554</td>\n",
       "      <td>0.848</td>\n",
       "      <td>297.07993</td>\n",
       "      <td>47.597401</td>\n",
       "      <td>15.472</td>\n",
       "      <td>0</td>\n",
       "    </tr>\n",
       "    <tr>\n",
       "      <th>3</th>\n",
       "      <td>19.403938</td>\n",
       "      <td>172.484253</td>\n",
       "      <td>0.804</td>\n",
       "      <td>12.21550</td>\n",
       "      <td>8918.7</td>\n",
       "      <td>7.18</td>\n",
       "      <td>523.0</td>\n",
       "      <td>17.69</td>\n",
       "      <td>214.7</td>\n",
       "      <td>1.0</td>\n",
       "      <td>q1_q17_dr25_tce</td>\n",
       "      <td>5043.0</td>\n",
       "      <td>4.591</td>\n",
       "      <td>0.680</td>\n",
       "      <td>289.25821</td>\n",
       "      <td>47.635319</td>\n",
       "      <td>15.487</td>\n",
       "      <td>0</td>\n",
       "    </tr>\n",
       "    <tr>\n",
       "      <th>4</th>\n",
       "      <td>19.221389</td>\n",
       "      <td>184.552164</td>\n",
       "      <td>1.065</td>\n",
       "      <td>4.79843</td>\n",
       "      <td>74284.0</td>\n",
       "      <td>49.29</td>\n",
       "      <td>698.0</td>\n",
       "      <td>55.97</td>\n",
       "      <td>2317.0</td>\n",
       "      <td>1.0</td>\n",
       "      <td>q1_q17_dr25_tce</td>\n",
       "      <td>6117.0</td>\n",
       "      <td>4.496</td>\n",
       "      <td>0.947</td>\n",
       "      <td>295.81454</td>\n",
       "      <td>47.690350</td>\n",
       "      <td>15.341</td>\n",
       "      <td>0</td>\n",
       "    </tr>\n",
       "  </tbody>\n",
       "</table>\n",
       "</div>"
      ],
      "text/plain": [
       "   koi_period  koi_time0bk  koi_impact  koi_duration  koi_depth  koi_prad  \\\n",
       "0    1.736952   170.307565       1.276       2.40641     8079.2     33.46   \n",
       "1    7.361790   132.250530       1.169       5.02200      233.7     39.21   \n",
       "2   11.521446   170.839688       2.483       3.63990    17984.0    150.51   \n",
       "3   19.403938   172.484253       0.804      12.21550     8918.7      7.18   \n",
       "4   19.221389   184.552164       1.065       4.79843    74284.0     49.29   \n",
       "\n",
       "   koi_teq  koi_insol  koi_model_snr  koi_tce_plnt_num koi_tce_delivname  \\\n",
       "0   1395.0     891.96          505.6               1.0   q1_q17_dr25_tce   \n",
       "1   1342.0     767.22           47.7               1.0   q1_q17_dr25_tce   \n",
       "2    753.0      75.88          622.1               1.0   q1_q17_dr25_tce   \n",
       "3    523.0      17.69          214.7               1.0   q1_q17_dr25_tce   \n",
       "4    698.0      55.97         2317.0               1.0   q1_q17_dr25_tce   \n",
       "\n",
       "   koi_steff  koi_slogg  koi_srad         ra        dec  koi_kepmag  label  \n",
       "0     5805.0      4.564     0.791  285.53461  48.285210      15.597      0  \n",
       "1     6227.0      3.986     1.958  298.86435  42.151569      12.660      0  \n",
       "2     5795.0      4.554     0.848  297.07993  47.597401      15.472      0  \n",
       "3     5043.0      4.591     0.680  289.25821  47.635319      15.487      0  \n",
       "4     6117.0      4.496     0.947  295.81454  47.690350      15.341      0  "
      ]
     },
     "execution_count": 355,
     "metadata": {},
     "output_type": "execute_result"
    }
   ],
   "source": [
    "df_known.head()"
   ]
  },
  {
   "cell_type": "code",
   "execution_count": 356,
   "id": "c4da797a-53de-4f9f-9f98-8c9f37e07a4c",
   "metadata": {
    "tags": []
   },
   "outputs": [
    {
     "data": {
      "text/plain": [
       "3"
      ]
     },
     "execution_count": 356,
     "metadata": {},
     "output_type": "execute_result"
    }
   ],
   "source": [
    "df_known.koi_tce_delivname.nunique()"
   ]
  },
  {
   "cell_type": "markdown",
   "id": "0f19743e-a8d1-44d3-bdde-f806e67fb1a3",
   "metadata": {},
   "source": [
    "## Feature engineering"
   ]
  },
  {
   "cell_type": "code",
   "execution_count": 357,
   "id": "3dbf1f2d-d7ae-4d74-b13d-5e68a723204c",
   "metadata": {
    "tags": []
   },
   "outputs": [],
   "source": [
    "df_known=pd.get_dummies(df_known, columns=['koi_tce_delivname'], dtype=int)"
   ]
  },
  {
   "cell_type": "code",
   "execution_count": 358,
   "id": "5ad4766b-3258-4fdb-85f1-a0ee95d7b841",
   "metadata": {
    "tags": []
   },
   "outputs": [
    {
     "data": {
      "text/html": [
       "<div>\n",
       "<style scoped>\n",
       "    .dataframe tbody tr th:only-of-type {\n",
       "        vertical-align: middle;\n",
       "    }\n",
       "\n",
       "    .dataframe tbody tr th {\n",
       "        vertical-align: top;\n",
       "    }\n",
       "\n",
       "    .dataframe thead th {\n",
       "        text-align: right;\n",
       "    }\n",
       "</style>\n",
       "<table border=\"1\" class=\"dataframe\">\n",
       "  <thead>\n",
       "    <tr style=\"text-align: right;\">\n",
       "      <th></th>\n",
       "      <th>koi_period</th>\n",
       "      <th>koi_time0bk</th>\n",
       "      <th>koi_impact</th>\n",
       "      <th>koi_duration</th>\n",
       "      <th>koi_depth</th>\n",
       "      <th>koi_prad</th>\n",
       "      <th>koi_teq</th>\n",
       "      <th>koi_insol</th>\n",
       "      <th>koi_model_snr</th>\n",
       "      <th>koi_tce_plnt_num</th>\n",
       "      <th>koi_steff</th>\n",
       "      <th>koi_slogg</th>\n",
       "      <th>koi_srad</th>\n",
       "      <th>ra</th>\n",
       "      <th>dec</th>\n",
       "      <th>koi_kepmag</th>\n",
       "      <th>label</th>\n",
       "      <th>koi_tce_delivname_q1_q16_tce</th>\n",
       "      <th>koi_tce_delivname_q1_q17_dr24_tce</th>\n",
       "      <th>koi_tce_delivname_q1_q17_dr25_tce</th>\n",
       "    </tr>\n",
       "  </thead>\n",
       "  <tbody>\n",
       "    <tr>\n",
       "      <th>0</th>\n",
       "      <td>1.736952</td>\n",
       "      <td>170.307565</td>\n",
       "      <td>1.276</td>\n",
       "      <td>2.40641</td>\n",
       "      <td>8079.2</td>\n",
       "      <td>33.46</td>\n",
       "      <td>1395.0</td>\n",
       "      <td>891.96</td>\n",
       "      <td>505.6</td>\n",
       "      <td>1.0</td>\n",
       "      <td>5805.0</td>\n",
       "      <td>4.564</td>\n",
       "      <td>0.791</td>\n",
       "      <td>285.53461</td>\n",
       "      <td>48.285210</td>\n",
       "      <td>15.597</td>\n",
       "      <td>0</td>\n",
       "      <td>0</td>\n",
       "      <td>0</td>\n",
       "      <td>1</td>\n",
       "    </tr>\n",
       "    <tr>\n",
       "      <th>1</th>\n",
       "      <td>7.361790</td>\n",
       "      <td>132.250530</td>\n",
       "      <td>1.169</td>\n",
       "      <td>5.02200</td>\n",
       "      <td>233.7</td>\n",
       "      <td>39.21</td>\n",
       "      <td>1342.0</td>\n",
       "      <td>767.22</td>\n",
       "      <td>47.7</td>\n",
       "      <td>1.0</td>\n",
       "      <td>6227.0</td>\n",
       "      <td>3.986</td>\n",
       "      <td>1.958</td>\n",
       "      <td>298.86435</td>\n",
       "      <td>42.151569</td>\n",
       "      <td>12.660</td>\n",
       "      <td>0</td>\n",
       "      <td>0</td>\n",
       "      <td>0</td>\n",
       "      <td>1</td>\n",
       "    </tr>\n",
       "    <tr>\n",
       "      <th>2</th>\n",
       "      <td>11.521446</td>\n",
       "      <td>170.839688</td>\n",
       "      <td>2.483</td>\n",
       "      <td>3.63990</td>\n",
       "      <td>17984.0</td>\n",
       "      <td>150.51</td>\n",
       "      <td>753.0</td>\n",
       "      <td>75.88</td>\n",
       "      <td>622.1</td>\n",
       "      <td>1.0</td>\n",
       "      <td>5795.0</td>\n",
       "      <td>4.554</td>\n",
       "      <td>0.848</td>\n",
       "      <td>297.07993</td>\n",
       "      <td>47.597401</td>\n",
       "      <td>15.472</td>\n",
       "      <td>0</td>\n",
       "      <td>0</td>\n",
       "      <td>0</td>\n",
       "      <td>1</td>\n",
       "    </tr>\n",
       "    <tr>\n",
       "      <th>3</th>\n",
       "      <td>19.403938</td>\n",
       "      <td>172.484253</td>\n",
       "      <td>0.804</td>\n",
       "      <td>12.21550</td>\n",
       "      <td>8918.7</td>\n",
       "      <td>7.18</td>\n",
       "      <td>523.0</td>\n",
       "      <td>17.69</td>\n",
       "      <td>214.7</td>\n",
       "      <td>1.0</td>\n",
       "      <td>5043.0</td>\n",
       "      <td>4.591</td>\n",
       "      <td>0.680</td>\n",
       "      <td>289.25821</td>\n",
       "      <td>47.635319</td>\n",
       "      <td>15.487</td>\n",
       "      <td>0</td>\n",
       "      <td>0</td>\n",
       "      <td>0</td>\n",
       "      <td>1</td>\n",
       "    </tr>\n",
       "    <tr>\n",
       "      <th>4</th>\n",
       "      <td>19.221389</td>\n",
       "      <td>184.552164</td>\n",
       "      <td>1.065</td>\n",
       "      <td>4.79843</td>\n",
       "      <td>74284.0</td>\n",
       "      <td>49.29</td>\n",
       "      <td>698.0</td>\n",
       "      <td>55.97</td>\n",
       "      <td>2317.0</td>\n",
       "      <td>1.0</td>\n",
       "      <td>6117.0</td>\n",
       "      <td>4.496</td>\n",
       "      <td>0.947</td>\n",
       "      <td>295.81454</td>\n",
       "      <td>47.690350</td>\n",
       "      <td>15.341</td>\n",
       "      <td>0</td>\n",
       "      <td>0</td>\n",
       "      <td>0</td>\n",
       "      <td>1</td>\n",
       "    </tr>\n",
       "  </tbody>\n",
       "</table>\n",
       "</div>"
      ],
      "text/plain": [
       "   koi_period  koi_time0bk  koi_impact  koi_duration  koi_depth  koi_prad  \\\n",
       "0    1.736952   170.307565       1.276       2.40641     8079.2     33.46   \n",
       "1    7.361790   132.250530       1.169       5.02200      233.7     39.21   \n",
       "2   11.521446   170.839688       2.483       3.63990    17984.0    150.51   \n",
       "3   19.403938   172.484253       0.804      12.21550     8918.7      7.18   \n",
       "4   19.221389   184.552164       1.065       4.79843    74284.0     49.29   \n",
       "\n",
       "   koi_teq  koi_insol  koi_model_snr  koi_tce_plnt_num  koi_steff  koi_slogg  \\\n",
       "0   1395.0     891.96          505.6               1.0     5805.0      4.564   \n",
       "1   1342.0     767.22           47.7               1.0     6227.0      3.986   \n",
       "2    753.0      75.88          622.1               1.0     5795.0      4.554   \n",
       "3    523.0      17.69          214.7               1.0     5043.0      4.591   \n",
       "4    698.0      55.97         2317.0               1.0     6117.0      4.496   \n",
       "\n",
       "   koi_srad         ra        dec  koi_kepmag  label  \\\n",
       "0     0.791  285.53461  48.285210      15.597      0   \n",
       "1     1.958  298.86435  42.151569      12.660      0   \n",
       "2     0.848  297.07993  47.597401      15.472      0   \n",
       "3     0.680  289.25821  47.635319      15.487      0   \n",
       "4     0.947  295.81454  47.690350      15.341      0   \n",
       "\n",
       "   koi_tce_delivname_q1_q16_tce  koi_tce_delivname_q1_q17_dr24_tce  \\\n",
       "0                             0                                  0   \n",
       "1                             0                                  0   \n",
       "2                             0                                  0   \n",
       "3                             0                                  0   \n",
       "4                             0                                  0   \n",
       "\n",
       "   koi_tce_delivname_q1_q17_dr25_tce  \n",
       "0                                  1  \n",
       "1                                  1  \n",
       "2                                  1  \n",
       "3                                  1  \n",
       "4                                  1  "
      ]
     },
     "execution_count": 358,
     "metadata": {},
     "output_type": "execute_result"
    }
   ],
   "source": [
    "df_known.head()"
   ]
  },
  {
   "cell_type": "code",
   "execution_count": null,
   "id": "24ee43d6-a648-4020-a5e7-77dbc16a3a9f",
   "metadata": {
    "tags": []
   },
   "outputs": [],
   "source": []
  },
  {
   "cell_type": "code",
   "execution_count": 359,
   "id": "e18dcf24-a8c0-4457-be21-b1b926dbd796",
   "metadata": {
    "tags": []
   },
   "outputs": [
    {
     "data": {
      "text/html": [
       "<div>\n",
       "<style scoped>\n",
       "    .dataframe tbody tr th:only-of-type {\n",
       "        vertical-align: middle;\n",
       "    }\n",
       "\n",
       "    .dataframe tbody tr th {\n",
       "        vertical-align: top;\n",
       "    }\n",
       "\n",
       "    .dataframe thead th {\n",
       "        text-align: right;\n",
       "    }\n",
       "</style>\n",
       "<table border=\"1\" class=\"dataframe\">\n",
       "  <thead>\n",
       "    <tr style=\"text-align: right;\">\n",
       "      <th></th>\n",
       "      <th>koi_period</th>\n",
       "      <th>koi_time0bk</th>\n",
       "      <th>koi_impact</th>\n",
       "      <th>koi_duration</th>\n",
       "      <th>koi_depth</th>\n",
       "      <th>koi_prad</th>\n",
       "      <th>koi_teq</th>\n",
       "      <th>koi_insol</th>\n",
       "      <th>koi_model_snr</th>\n",
       "      <th>koi_tce_plnt_num</th>\n",
       "      <th>koi_steff</th>\n",
       "      <th>koi_slogg</th>\n",
       "      <th>koi_srad</th>\n",
       "      <th>ra</th>\n",
       "      <th>dec</th>\n",
       "      <th>koi_kepmag</th>\n",
       "      <th>label</th>\n",
       "      <th>koi_tce_delivname_q1_q16_tce</th>\n",
       "      <th>koi_tce_delivname_q1_q17_dr24_tce</th>\n",
       "      <th>koi_tce_delivname_q1_q17_dr25_tce</th>\n",
       "    </tr>\n",
       "  </thead>\n",
       "  <tbody>\n",
       "    <tr>\n",
       "      <th>count</th>\n",
       "      <td>7582.000000</td>\n",
       "      <td>7582.000000</td>\n",
       "      <td>7323.000000</td>\n",
       "      <td>7582.000000</td>\n",
       "      <td>7.323000e+03</td>\n",
       "      <td>7323.000000</td>\n",
       "      <td>7323.000000</td>\n",
       "      <td>7.363000e+03</td>\n",
       "      <td>7323.000000</td>\n",
       "      <td>7296.000000</td>\n",
       "      <td>7323.000000</td>\n",
       "      <td>7323.00000</td>\n",
       "      <td>7323.000000</td>\n",
       "      <td>7582.000000</td>\n",
       "      <td>7582.000000</td>\n",
       "      <td>7581.000000</td>\n",
       "      <td>7582.000000</td>\n",
       "      <td>7582.000000</td>\n",
       "      <td>7582.000000</td>\n",
       "      <td>7582.000000</td>\n",
       "    </tr>\n",
       "    <tr>\n",
       "      <th>mean</th>\n",
       "      <td>51.615992</td>\n",
       "      <td>162.392800</td>\n",
       "      <td>0.756121</td>\n",
       "      <td>5.709884</td>\n",
       "      <td>2.954100e+04</td>\n",
       "      <td>104.209436</td>\n",
       "      <td>1154.584460</td>\n",
       "      <td>9.396025e+03</td>\n",
       "      <td>318.710638</td>\n",
       "      <td>1.223684</td>\n",
       "      <td>5715.811553</td>\n",
       "      <td>4.31090</td>\n",
       "      <td>1.752660</td>\n",
       "      <td>292.135109</td>\n",
       "      <td>43.735649</td>\n",
       "      <td>14.251791</td>\n",
       "      <td>0.361778</td>\n",
       "      <td>0.052097</td>\n",
       "      <td>0.030203</td>\n",
       "      <td>0.879979</td>\n",
       "    </tr>\n",
       "    <tr>\n",
       "      <th>std</th>\n",
       "      <td>111.813351</td>\n",
       "      <td>62.875558</td>\n",
       "      <td>3.197033</td>\n",
       "      <td>6.823641</td>\n",
       "      <td>9.118703e+04</td>\n",
       "      <td>3181.134374</td>\n",
       "      <td>900.694085</td>\n",
       "      <td>1.782218e+05</td>\n",
       "      <td>881.257900</td>\n",
       "      <td>0.631908</td>\n",
       "      <td>819.355228</td>\n",
       "      <td>0.43727</td>\n",
       "      <td>6.280473</td>\n",
       "      <td>4.767184</td>\n",
       "      <td>3.573604</td>\n",
       "      <td>1.401371</td>\n",
       "      <td>0.480547</td>\n",
       "      <td>0.222237</td>\n",
       "      <td>0.171157</td>\n",
       "      <td>0.325008</td>\n",
       "    </tr>\n",
       "    <tr>\n",
       "      <th>min</th>\n",
       "      <td>0.241843</td>\n",
       "      <td>120.515914</td>\n",
       "      <td>0.000000</td>\n",
       "      <td>0.104600</td>\n",
       "      <td>8.000000e-01</td>\n",
       "      <td>0.080000</td>\n",
       "      <td>92.000000</td>\n",
       "      <td>2.000000e-02</td>\n",
       "      <td>0.000000</td>\n",
       "      <td>1.000000</td>\n",
       "      <td>2661.000000</td>\n",
       "      <td>0.04700</td>\n",
       "      <td>0.116000</td>\n",
       "      <td>279.852720</td>\n",
       "      <td>36.577381</td>\n",
       "      <td>6.966000</td>\n",
       "      <td>0.000000</td>\n",
       "      <td>0.000000</td>\n",
       "      <td>0.000000</td>\n",
       "      <td>0.000000</td>\n",
       "    </tr>\n",
       "    <tr>\n",
       "      <th>25%</th>\n",
       "      <td>2.243023</td>\n",
       "      <td>132.553008</td>\n",
       "      <td>0.227000</td>\n",
       "      <td>2.472125</td>\n",
       "      <td>1.825500e+02</td>\n",
       "      <td>1.500000</td>\n",
       "      <td>581.000000</td>\n",
       "      <td>2.723000e+01</td>\n",
       "      <td>15.400000</td>\n",
       "      <td>1.000000</td>\n",
       "      <td>5313.000000</td>\n",
       "      <td>4.21800</td>\n",
       "      <td>0.829000</td>\n",
       "      <td>288.818002</td>\n",
       "      <td>40.713316</td>\n",
       "      <td>13.427000</td>\n",
       "      <td>0.000000</td>\n",
       "      <td>0.000000</td>\n",
       "      <td>0.000000</td>\n",
       "      <td>1.000000</td>\n",
       "    </tr>\n",
       "    <tr>\n",
       "      <th>50%</th>\n",
       "      <td>8.062325</td>\n",
       "      <td>136.401784</td>\n",
       "      <td>0.586000</td>\n",
       "      <td>3.833200</td>\n",
       "      <td>5.014000e+02</td>\n",
       "      <td>2.620000</td>\n",
       "      <td>933.000000</td>\n",
       "      <td>1.814700e+02</td>\n",
       "      <td>30.500000</td>\n",
       "      <td>1.000000</td>\n",
       "      <td>5774.000000</td>\n",
       "      <td>4.43800</td>\n",
       "      <td>0.999000</td>\n",
       "      <td>292.325180</td>\n",
       "      <td>43.552040</td>\n",
       "      <td>14.500000</td>\n",
       "      <td>0.000000</td>\n",
       "      <td>0.000000</td>\n",
       "      <td>0.000000</td>\n",
       "      <td>1.000000</td>\n",
       "    </tr>\n",
       "    <tr>\n",
       "      <th>75%</th>\n",
       "      <td>30.481980</td>\n",
       "      <td>169.909212</td>\n",
       "      <td>0.917000</td>\n",
       "      <td>6.270775</td>\n",
       "      <td>2.319000e+03</td>\n",
       "      <td>24.195000</td>\n",
       "      <td>1482.000000</td>\n",
       "      <td>1.151575e+03</td>\n",
       "      <td>114.850000</td>\n",
       "      <td>1.000000</td>\n",
       "      <td>6116.500000</td>\n",
       "      <td>4.54300</td>\n",
       "      <td>1.346000</td>\n",
       "      <td>295.920650</td>\n",
       "      <td>46.650546</td>\n",
       "      <td>15.308000</td>\n",
       "      <td>1.000000</td>\n",
       "      <td>0.000000</td>\n",
       "      <td>0.000000</td>\n",
       "      <td>1.000000</td>\n",
       "    </tr>\n",
       "    <tr>\n",
       "      <th>max</th>\n",
       "      <td>1071.232624</td>\n",
       "      <td>1472.522306</td>\n",
       "      <td>100.806000</td>\n",
       "      <td>138.540000</td>\n",
       "      <td>1.541400e+06</td>\n",
       "      <td>200346.000000</td>\n",
       "      <td>14667.000000</td>\n",
       "      <td>1.094755e+07</td>\n",
       "      <td>9054.700000</td>\n",
       "      <td>8.000000</td>\n",
       "      <td>15896.000000</td>\n",
       "      <td>5.28300</td>\n",
       "      <td>229.908000</td>\n",
       "      <td>301.720760</td>\n",
       "      <td>52.336010</td>\n",
       "      <td>20.003000</td>\n",
       "      <td>1.000000</td>\n",
       "      <td>1.000000</td>\n",
       "      <td>1.000000</td>\n",
       "      <td>1.000000</td>\n",
       "    </tr>\n",
       "  </tbody>\n",
       "</table>\n",
       "</div>"
      ],
      "text/plain": [
       "        koi_period  koi_time0bk   koi_impact  koi_duration     koi_depth  \\\n",
       "count  7582.000000  7582.000000  7323.000000   7582.000000  7.323000e+03   \n",
       "mean     51.615992   162.392800     0.756121      5.709884  2.954100e+04   \n",
       "std     111.813351    62.875558     3.197033      6.823641  9.118703e+04   \n",
       "min       0.241843   120.515914     0.000000      0.104600  8.000000e-01   \n",
       "25%       2.243023   132.553008     0.227000      2.472125  1.825500e+02   \n",
       "50%       8.062325   136.401784     0.586000      3.833200  5.014000e+02   \n",
       "75%      30.481980   169.909212     0.917000      6.270775  2.319000e+03   \n",
       "max    1071.232624  1472.522306   100.806000    138.540000  1.541400e+06   \n",
       "\n",
       "            koi_prad       koi_teq     koi_insol  koi_model_snr  \\\n",
       "count    7323.000000   7323.000000  7.363000e+03    7323.000000   \n",
       "mean      104.209436   1154.584460  9.396025e+03     318.710638   \n",
       "std      3181.134374    900.694085  1.782218e+05     881.257900   \n",
       "min         0.080000     92.000000  2.000000e-02       0.000000   \n",
       "25%         1.500000    581.000000  2.723000e+01      15.400000   \n",
       "50%         2.620000    933.000000  1.814700e+02      30.500000   \n",
       "75%        24.195000   1482.000000  1.151575e+03     114.850000   \n",
       "max    200346.000000  14667.000000  1.094755e+07    9054.700000   \n",
       "\n",
       "       koi_tce_plnt_num     koi_steff   koi_slogg     koi_srad           ra  \\\n",
       "count       7296.000000   7323.000000  7323.00000  7323.000000  7582.000000   \n",
       "mean           1.223684   5715.811553     4.31090     1.752660   292.135109   \n",
       "std            0.631908    819.355228     0.43727     6.280473     4.767184   \n",
       "min            1.000000   2661.000000     0.04700     0.116000   279.852720   \n",
       "25%            1.000000   5313.000000     4.21800     0.829000   288.818002   \n",
       "50%            1.000000   5774.000000     4.43800     0.999000   292.325180   \n",
       "75%            1.000000   6116.500000     4.54300     1.346000   295.920650   \n",
       "max            8.000000  15896.000000     5.28300   229.908000   301.720760   \n",
       "\n",
       "               dec   koi_kepmag        label  koi_tce_delivname_q1_q16_tce  \\\n",
       "count  7582.000000  7581.000000  7582.000000                   7582.000000   \n",
       "mean     43.735649    14.251791     0.361778                      0.052097   \n",
       "std       3.573604     1.401371     0.480547                      0.222237   \n",
       "min      36.577381     6.966000     0.000000                      0.000000   \n",
       "25%      40.713316    13.427000     0.000000                      0.000000   \n",
       "50%      43.552040    14.500000     0.000000                      0.000000   \n",
       "75%      46.650546    15.308000     1.000000                      0.000000   \n",
       "max      52.336010    20.003000     1.000000                      1.000000   \n",
       "\n",
       "       koi_tce_delivname_q1_q17_dr24_tce  koi_tce_delivname_q1_q17_dr25_tce  \n",
       "count                        7582.000000                        7582.000000  \n",
       "mean                            0.030203                           0.879979  \n",
       "std                             0.171157                           0.325008  \n",
       "min                             0.000000                           0.000000  \n",
       "25%                             0.000000                           1.000000  \n",
       "50%                             0.000000                           1.000000  \n",
       "75%                             0.000000                           1.000000  \n",
       "max                             1.000000                           1.000000  "
      ]
     },
     "execution_count": 359,
     "metadata": {},
     "output_type": "execute_result"
    }
   ],
   "source": [
    "df_known.describe()"
   ]
  },
  {
   "cell_type": "code",
   "execution_count": 360,
   "id": "994cae32-34bf-4873-9c03-43f7fcd25570",
   "metadata": {
    "tags": []
   },
   "outputs": [
    {
     "data": {
      "text/plain": [
       "<Axes: xlabel='label'>"
      ]
     },
     "execution_count": 360,
     "metadata": {},
     "output_type": "execute_result"
    },
    {
     "data": {
      "image/png": "[encoded data removed]",
      "text/plain": [
       "<Figure size 640x480 with 1 Axes>"
      ]
     },
     "metadata": {},
     "output_type": "display_data"
    }
   ],
   "source": [
    "df_known.label.value_counts().plot.bar(color=['red', 'green'])"
   ]
  },
  {
   "cell_type": "code",
   "execution_count": 361,
   "id": "e81cabfe-68a6-43d5-a84e-633062bd92f0",
   "metadata": {
    "tags": []
   },
   "outputs": [
    {
     "name": "stdout",
     "output_type": "stream",
     "text": [
      "<class 'pandas.core.frame.DataFrame'>\n",
      "Index: 7582 entries, 0 to 7581\n",
      "Data columns (total 20 columns):\n",
      " #   Column                             Non-Null Count  Dtype  \n",
      "---  ------                             --------------  -----  \n",
      " 0   koi_period                         7582 non-null   float64\n",
      " 1   koi_time0bk                        7582 non-null   float64\n",
      " 2   koi_impact                         7323 non-null   float64\n",
      " 3   koi_duration                       7582 non-null   float64\n",
      " 4   koi_depth                          7323 non-null   float64\n",
      " 5   koi_prad                           7323 non-null   float64\n",
      " 6   koi_teq                            7323 non-null   float64\n",
      " 7   koi_insol                          7363 non-null   float64\n",
      " 8   koi_model_snr                      7323 non-null   float64\n",
      " 9   koi_tce_plnt_num                   7296 non-null   float64\n",
      " 10  koi_steff                          7323 non-null   float64\n",
      " 11  koi_slogg                          7323 non-null   float64\n",
      " 12  koi_srad                           7323 non-null   float64\n",
      " 13  ra                                 7582 non-null   float64\n",
      " 14  dec                                7582 non-null   float64\n",
      " 15  koi_kepmag                         7581 non-null   float64\n",
      " 16  label                              7582 non-null   int32  \n",
      " 17  koi_tce_delivname_q1_q16_tce       7582 non-null   int32  \n",
      " 18  koi_tce_delivname_q1_q17_dr24_tce  7582 non-null   int32  \n",
      " 19  koi_tce_delivname_q1_q17_dr25_tce  7582 non-null   int32  \n",
      "dtypes: float64(16), int32(4)\n",
      "memory usage: 1.1 MB\n"
     ]
    }
   ],
   "source": [
    "df_known.info()"
   ]
  },
  {
   "cell_type": "code",
   "execution_count": 362,
   "id": "d29cd338-40a0-484c-b42e-912531e1fc6e",
   "metadata": {
    "tags": []
   },
   "outputs": [],
   "source": [
    "df=df_known.dropna()"
   ]
  },
  {
   "cell_type": "code",
   "execution_count": 363,
   "id": "02d4c61e-4eb0-4aeb-9bbc-8106e18d444a",
   "metadata": {
    "tags": []
   },
   "outputs": [],
   "source": [
    "X_raw=df.drop(columns = ['label'])\n",
    "y=df['label']"
   ]
  },
  {
   "cell_type": "code",
   "execution_count": 364,
   "id": "88a471e9-f7c5-4d3a-aaba-ff636cb6e372",
   "metadata": {
    "tags": []
   },
   "outputs": [],
   "source": [
    "scaler = MinMaxScaler()\n",
    "X = scaler.fit_transform(X_raw)"
   ]
  },
  {
   "cell_type": "code",
   "execution_count": 365,
   "id": "f1a3ac81-716b-4baa-a333-8af014ae1e4f",
   "metadata": {
    "tags": []
   },
   "outputs": [
    {
     "name": "stdout",
     "output_type": "stream",
     "text": [
      "The range of feature inputs are within 0.0 to 1.0\n"
     ]
    }
   ],
   "source": [
    "print(f\"The range of feature inputs are within {X.min()} to {X.max()}\")"
   ]
  },
  {
   "cell_type": "code",
   "execution_count": 366,
   "id": "9af0ed46-5184-44b2-a080-17dba29cea9b",
   "metadata": {
    "tags": []
   },
   "outputs": [
    {
     "data": {
      "text/html": [
       "<div>\n",
       "<style scoped>\n",
       "    .dataframe tbody tr th:only-of-type {\n",
       "        vertical-align: middle;\n",
       "    }\n",
       "\n",
       "    .dataframe tbody tr th {\n",
       "        vertical-align: top;\n",
       "    }\n",
       "\n",
       "    .dataframe thead th {\n",
       "        text-align: right;\n",
       "    }\n",
       "</style>\n",
       "<table border=\"1\" class=\"dataframe\">\n",
       "  <thead>\n",
       "    <tr style=\"text-align: right;\">\n",
       "      <th></th>\n",
       "      <th>0</th>\n",
       "      <th>1</th>\n",
       "      <th>2</th>\n",
       "      <th>3</th>\n",
       "      <th>4</th>\n",
       "      <th>5</th>\n",
       "      <th>6</th>\n",
       "      <th>7</th>\n",
       "      <th>8</th>\n",
       "      <th>9</th>\n",
       "      <th>10</th>\n",
       "      <th>11</th>\n",
       "      <th>12</th>\n",
       "      <th>13</th>\n",
       "      <th>14</th>\n",
       "      <th>15</th>\n",
       "      <th>16</th>\n",
       "      <th>17</th>\n",
       "      <th>18</th>\n",
       "    </tr>\n",
       "  </thead>\n",
       "  <tbody>\n",
       "    <tr>\n",
       "      <th>count</th>\n",
       "      <td>7112.000000</td>\n",
       "      <td>7112.000000</td>\n",
       "      <td>7112.000000</td>\n",
       "      <td>7112.000000</td>\n",
       "      <td>7112.000000</td>\n",
       "      <td>7112.000000</td>\n",
       "      <td>7112.000000</td>\n",
       "      <td>7112.000000</td>\n",
       "      <td>7112.000000</td>\n",
       "      <td>7112.000000</td>\n",
       "      <td>7112.000000</td>\n",
       "      <td>7112.000000</td>\n",
       "      <td>7112.000000</td>\n",
       "      <td>7112.000000</td>\n",
       "      <td>7112.000000</td>\n",
       "      <td>7112.000000</td>\n",
       "      <td>7112.000000</td>\n",
       "      <td>7112.000000</td>\n",
       "      <td>7112.000000</td>\n",
       "    </tr>\n",
       "    <tr>\n",
       "      <th>mean</th>\n",
       "      <td>0.042166</td>\n",
       "      <td>0.029473</td>\n",
       "      <td>0.007441</td>\n",
       "      <td>0.039780</td>\n",
       "      <td>0.019683</td>\n",
       "      <td>0.000523</td>\n",
       "      <td>0.073690</td>\n",
       "      <td>0.000847</td>\n",
       "      <td>0.036039</td>\n",
       "      <td>0.032018</td>\n",
       "      <td>0.230201</td>\n",
       "      <td>0.814386</td>\n",
       "      <td>0.007140</td>\n",
       "      <td>0.563450</td>\n",
       "      <td>0.454818</td>\n",
       "      <td>0.560124</td>\n",
       "      <td>0.041339</td>\n",
       "      <td>0.027981</td>\n",
       "      <td>0.930681</td>\n",
       "    </tr>\n",
       "    <tr>\n",
       "      <th>std</th>\n",
       "      <td>0.098122</td>\n",
       "      <td>0.045038</td>\n",
       "      <td>0.030041</td>\n",
       "      <td>0.048881</td>\n",
       "      <td>0.059930</td>\n",
       "      <td>0.016088</td>\n",
       "      <td>0.061390</td>\n",
       "      <td>0.016392</td>\n",
       "      <td>0.098363</td>\n",
       "      <td>0.090134</td>\n",
       "      <td>0.061935</td>\n",
       "      <td>0.083732</td>\n",
       "      <td>0.027620</td>\n",
       "      <td>0.218063</td>\n",
       "      <td>0.227201</td>\n",
       "      <td>0.106363</td>\n",
       "      <td>0.199086</td>\n",
       "      <td>0.164930</td>\n",
       "      <td>0.254014</td>\n",
       "    </tr>\n",
       "    <tr>\n",
       "      <th>min</th>\n",
       "      <td>0.000000</td>\n",
       "      <td>0.000000</td>\n",
       "      <td>0.000000</td>\n",
       "      <td>0.000000</td>\n",
       "      <td>0.000000</td>\n",
       "      <td>0.000000</td>\n",
       "      <td>0.000000</td>\n",
       "      <td>0.000000</td>\n",
       "      <td>0.000000</td>\n",
       "      <td>0.000000</td>\n",
       "      <td>0.000000</td>\n",
       "      <td>0.000000</td>\n",
       "      <td>0.000000</td>\n",
       "      <td>0.000000</td>\n",
       "      <td>0.000000</td>\n",
       "      <td>0.000000</td>\n",
       "      <td>0.000000</td>\n",
       "      <td>0.000000</td>\n",
       "      <td>0.000000</td>\n",
       "    </tr>\n",
       "    <tr>\n",
       "      <th>25%</th>\n",
       "      <td>0.001759</td>\n",
       "      <td>0.008863</td>\n",
       "      <td>0.002282</td>\n",
       "      <td>0.017068</td>\n",
       "      <td>0.000119</td>\n",
       "      <td>0.000007</td>\n",
       "      <td>0.034511</td>\n",
       "      <td>0.000003</td>\n",
       "      <td>0.001756</td>\n",
       "      <td>0.000000</td>\n",
       "      <td>0.199773</td>\n",
       "      <td>0.796982</td>\n",
       "      <td>0.003098</td>\n",
       "      <td>0.412095</td>\n",
       "      <td>0.262363</td>\n",
       "      <td>0.496778</td>\n",
       "      <td>0.000000</td>\n",
       "      <td>0.000000</td>\n",
       "      <td>1.000000</td>\n",
       "    </tr>\n",
       "    <tr>\n",
       "      <th>50%</th>\n",
       "      <td>0.006640</td>\n",
       "      <td>0.011471</td>\n",
       "      <td>0.005902</td>\n",
       "      <td>0.026792</td>\n",
       "      <td>0.000330</td>\n",
       "      <td>0.000013</td>\n",
       "      <td>0.058662</td>\n",
       "      <td>0.000017</td>\n",
       "      <td>0.003501</td>\n",
       "      <td>0.000000</td>\n",
       "      <td>0.234756</td>\n",
       "      <td>0.838617</td>\n",
       "      <td>0.003843</td>\n",
       "      <td>0.573562</td>\n",
       "      <td>0.443577</td>\n",
       "      <td>0.578469</td>\n",
       "      <td>0.000000</td>\n",
       "      <td>0.000000</td>\n",
       "      <td>1.000000</td>\n",
       "    </tr>\n",
       "    <tr>\n",
       "      <th>75%</th>\n",
       "      <td>0.023576</td>\n",
       "      <td>0.034078</td>\n",
       "      <td>0.009117</td>\n",
       "      <td>0.043395</td>\n",
       "      <td>0.001654</td>\n",
       "      <td>0.000124</td>\n",
       "      <td>0.095918</td>\n",
       "      <td>0.000106</td>\n",
       "      <td>0.013256</td>\n",
       "      <td>0.000000</td>\n",
       "      <td>0.260521</td>\n",
       "      <td>0.858862</td>\n",
       "      <td>0.005348</td>\n",
       "      <td>0.737682</td>\n",
       "      <td>0.640244</td>\n",
       "      <td>0.639948</td>\n",
       "      <td>0.000000</td>\n",
       "      <td>0.000000</td>\n",
       "      <td>1.000000</td>\n",
       "    </tr>\n",
       "    <tr>\n",
       "      <th>max</th>\n",
       "      <td>1.000000</td>\n",
       "      <td>1.000000</td>\n",
       "      <td>1.000000</td>\n",
       "      <td>1.000000</td>\n",
       "      <td>1.000000</td>\n",
       "      <td>1.000000</td>\n",
       "      <td>1.000000</td>\n",
       "      <td>1.000000</td>\n",
       "      <td>1.000000</td>\n",
       "      <td>1.000000</td>\n",
       "      <td>1.000000</td>\n",
       "      <td>1.000000</td>\n",
       "      <td>1.000000</td>\n",
       "      <td>1.000000</td>\n",
       "      <td>1.000000</td>\n",
       "      <td>1.000000</td>\n",
       "      <td>1.000000</td>\n",
       "      <td>1.000000</td>\n",
       "      <td>1.000000</td>\n",
       "    </tr>\n",
       "  </tbody>\n",
       "</table>\n",
       "</div>"
      ],
      "text/plain": [
       "                0            1            2            3            4   \\\n",
       "count  7112.000000  7112.000000  7112.000000  7112.000000  7112.000000   \n",
       "mean      0.042166     0.029473     0.007441     0.039780     0.019683   \n",
       "std       0.098122     0.045038     0.030041     0.048881     0.059930   \n",
       "min       0.000000     0.000000     0.000000     0.000000     0.000000   \n",
       "25%       0.001759     0.008863     0.002282     0.017068     0.000119   \n",
       "50%       0.006640     0.011471     0.005902     0.026792     0.000330   \n",
       "75%       0.023576     0.034078     0.009117     0.043395     0.001654   \n",
       "max       1.000000     1.000000     1.000000     1.000000     1.000000   \n",
       "\n",
       "                5            6            7            8            9   \\\n",
       "count  7112.000000  7112.000000  7112.000000  7112.000000  7112.000000   \n",
       "mean      0.000523     0.073690     0.000847     0.036039     0.032018   \n",
       "std       0.016088     0.061390     0.016392     0.098363     0.090134   \n",
       "min       0.000000     0.000000     0.000000     0.000000     0.000000   \n",
       "25%       0.000007     0.034511     0.000003     0.001756     0.000000   \n",
       "50%       0.000013     0.058662     0.000017     0.003501     0.000000   \n",
       "75%       0.000124     0.095918     0.000106     0.013256     0.000000   \n",
       "max       1.000000     1.000000     1.000000     1.000000     1.000000   \n",
       "\n",
       "                10           11           12           13           14  \\\n",
       "count  7112.000000  7112.000000  7112.000000  7112.000000  7112.000000   \n",
       "mean      0.230201     0.814386     0.007140     0.563450     0.454818   \n",
       "std       0.061935     0.083732     0.027620     0.218063     0.227201   \n",
       "min       0.000000     0.000000     0.000000     0.000000     0.000000   \n",
       "25%       0.199773     0.796982     0.003098     0.412095     0.262363   \n",
       "50%       0.234756     0.838617     0.003843     0.573562     0.443577   \n",
       "75%       0.260521     0.858862     0.005348     0.737682     0.640244   \n",
       "max       1.000000     1.000000     1.000000     1.000000     1.000000   \n",
       "\n",
       "                15           16           17           18  \n",
       "count  7112.000000  7112.000000  7112.000000  7112.000000  \n",
       "mean      0.560124     0.041339     0.027981     0.930681  \n",
       "std       0.106363     0.199086     0.164930     0.254014  \n",
       "min       0.000000     0.000000     0.000000     0.000000  \n",
       "25%       0.496778     0.000000     0.000000     1.000000  \n",
       "50%       0.578469     0.000000     0.000000     1.000000  \n",
       "75%       0.639948     0.000000     0.000000     1.000000  \n",
       "max       1.000000     1.000000     1.000000     1.000000  "
      ]
     },
     "execution_count": 366,
     "metadata": {},
     "output_type": "execute_result"
    }
   ],
   "source": [
    "pd.DataFrame(X).describe()"
   ]
  },
  {
   "cell_type": "markdown",
   "id": "1965d3f9-9595-4e0a-9858-f238617c3451",
   "metadata": {},
   "source": [
    "## Train logistic regression models"
   ]
  },
  {
   "cell_type": "code",
   "execution_count": 367,
   "id": "19dc41d8-12a4-4a7d-9508-2d420bed4669",
   "metadata": {
    "tags": []
   },
   "outputs": [],
   "source": [
    "#split dataset into train/test\n",
    "X_train, X_test, y_train, y_test = train_test_split(X, y, test_size=0.2, stratify=y, random_state = 42)"
   ]
  },
  {
   "cell_type": "code",
   "execution_count": 368,
   "id": "d5d713e2-35e3-4c30-8cb1-0fac88ad6e0b",
   "metadata": {
    "tags": []
   },
   "outputs": [
    {
     "name": "stdout",
     "output_type": "stream",
     "text": [
      "Training dataset shape, X_train: (5689, 19), y_train: (5689,)\n"
     ]
    }
   ],
   "source": [
    "print(f\"Training dataset shape, X_train: {X_train.shape}, y_train: {y_train.shape}\")"
   ]
  },
  {
   "cell_type": "code",
   "execution_count": 369,
   "id": "0c31ca5b-4a45-446e-b7bb-e39d34c309d6",
   "metadata": {
    "tags": []
   },
   "outputs": [
    {
     "name": "stdout",
     "output_type": "stream",
     "text": [
      "Testing dataset shape, X_test: (1423, 19), y_test: (1423,)\n"
     ]
    }
   ],
   "source": [
    "print(f\"Testing dataset shape, X_test: {X_test.shape}, y_test: {y_test.shape}\")"
   ]
  },
  {
   "cell_type": "code",
   "execution_count": 370,
   "id": "714ae9c1-d026-48e0-8df2-3b66736a4494",
   "metadata": {
    "tags": []
   },
   "outputs": [
    {
     "data": {
      "text/plain": [
       "label\n",
       "0    0.616001\n",
       "1    0.383999\n",
       "Name: proportion, dtype: float64"
      ]
     },
     "execution_count": 370,
     "metadata": {},
     "output_type": "execute_result"
    }
   ],
   "source": [
    "y.value_counts(normalize=True)"
   ]
  },
  {
   "cell_type": "code",
   "execution_count": 371,
   "id": "fba5b5be-b4b3-4ab3-9308-ec04f0f5094f",
   "metadata": {
    "tags": []
   },
   "outputs": [
    {
     "data": {
      "text/plain": [
       "label\n",
       "0    0.615925\n",
       "1    0.384075\n",
       "Name: proportion, dtype: float64"
      ]
     },
     "execution_count": 371,
     "metadata": {},
     "output_type": "execute_result"
    }
   ],
   "source": [
    "y_train.value_counts(normalize=True)"
   ]
  },
  {
   "cell_type": "code",
   "execution_count": 372,
   "id": "4688f079-6f2d-4890-acb5-8e3f0f3e888e",
   "metadata": {
    "tags": []
   },
   "outputs": [
    {
     "data": {
      "text/plain": [
       "label\n",
       "0    0.616304\n",
       "1    0.383696\n",
       "Name: proportion, dtype: float64"
      ]
     },
     "execution_count": 372,
     "metadata": {},
     "output_type": "execute_result"
    }
   ],
   "source": [
    "y_test.value_counts(normalize=True)"
   ]
  },
  {
   "cell_type": "code",
   "execution_count": 373,
   "id": "d8be06eb-8926-4980-9217-257c01838d4d",
   "metadata": {
    "tags": []
   },
   "outputs": [],
   "source": [
    "# L2 penalty to shrink coefficients without removing any features from the model\n",
    "penalty= ['l2', 'l1', 'elasticnet']\n",
    "# Our classification problem is multinomial\n",
    "multi_class = 'auto'\n",
    "# Use lbfgs for L2 penalty and multinomial classes\n",
    "solver = ['lbfgs', 'saga', 'saga']\n",
    "# Max iteration = 1000\n",
    "max_iter = 1000\n",
    "#elastic-net coef.\n",
    "l1_ratio = 0.8"
   ]
  },
  {
   "cell_type": "code",
   "execution_count": 374,
   "id": "bd52771b-7340-4747-a089-e2606ce19dc1",
   "metadata": {
    "tags": []
   },
   "outputs": [],
   "source": [
    "# Define a logistic regression model with above arguments\n",
    "l2_model = LogisticRegression(random_state=42, penalty=penalty[0], multi_class=multi_class, solver=solver[0], max_iter=max_iter)"
   ]
  },
  {
   "cell_type": "code",
   "execution_count": 375,
   "id": "7b6c01bf-62e9-4c7d-8034-0c9d330ba7b6",
   "metadata": {
    "tags": []
   },
   "outputs": [
    {
     "data": {
      "text/html": [
       "<style>#sk-container-id-9 {color: black;}#sk-container-id-9 pre{padding: 0;}#sk-container-id-9 div.sk-toggleable {background-color: white;}#sk-container-id-9 label.sk-toggleable__label {cursor: pointer;display: block;width: 100%;margin-bottom: 0;padding: 0.3em;box-sizing: border-box;text-align: center;}#sk-container-id-9 label.sk-toggleable__label-arrow:before {content: \"▸\";float: left;margin-right: 0.25em;color: #696969;}#sk-container-id-9 label.sk-toggleable__label-arrow:hover:before {color: black;}#sk-container-id-9 div.sk-estimator:hover label.sk-toggleable__label-arrow:before {color: black;}#sk-container-id-9 div.sk-toggleable__content {max-height: 0;max-width: 0;overflow: hidden;text-align: left;background-color: #f0f8ff;}#sk-container-id-9 div.sk-toggleable__content pre {margin: 0.2em;color: black;border-radius: 0.25em;background-color: #f0f8ff;}#sk-container-id-9 input.sk-toggleable__control:checked~div.sk-toggleable__content {max-height: 200px;max-width: 100%;overflow: auto;}#sk-container-id-9 input.sk-toggleable__control:checked~label.sk-toggleable__label-arrow:before {content: \"▾\";}#sk-container-id-9 div.sk-estimator input.sk-toggleable__control:checked~label.sk-toggleable__label {background-color: #d4ebff;}#sk-container-id-9 div.sk-label input.sk-toggleable__control:checked~label.sk-toggleable__label {background-color: #d4ebff;}#sk-container-id-9 input.sk-hidden--visually {border: 0;clip: rect(1px 1px 1px 1px);clip: rect(1px, 1px, 1px, 1px);height: 1px;margin: -1px;overflow: hidden;padding: 0;position: absolute;width: 1px;}#sk-container-id-9 div.sk-estimator {font-family: monospace;background-color: #f0f8ff;border: 1px dotted black;border-radius: 0.25em;box-sizing: border-box;margin-bottom: 0.5em;}#sk-container-id-9 div.sk-estimator:hover {background-color: #d4ebff;}#sk-container-id-9 div.sk-parallel-item::after {content: \"\";width: 100%;border-bottom: 1px solid gray;flex-grow: 1;}#sk-container-id-9 div.sk-label:hover label.sk-toggleable__label {background-color: #d4ebff;}#sk-container-id-9 div.sk-serial::before {content: \"\";position: absolute;border-left: 1px solid gray;box-sizing: border-box;top: 0;bottom: 0;left: 50%;z-index: 0;}#sk-container-id-9 div.sk-serial {display: flex;flex-direction: column;align-items: center;background-color: white;padding-right: 0.2em;padding-left: 0.2em;position: relative;}#sk-container-id-9 div.sk-item {position: relative;z-index: 1;}#sk-container-id-9 div.sk-parallel {display: flex;align-items: stretch;justify-content: center;background-color: white;position: relative;}#sk-container-id-9 div.sk-item::before, #sk-container-id-9 div.sk-parallel-item::before {content: \"\";position: absolute;border-left: 1px solid gray;box-sizing: border-box;top: 0;bottom: 0;left: 50%;z-index: -1;}#sk-container-id-9 div.sk-parallel-item {display: flex;flex-direction: column;z-index: 1;position: relative;background-color: white;}#sk-container-id-9 div.sk-parallel-item:first-child::after {align-self: flex-end;width: 50%;}#sk-container-id-9 div.sk-parallel-item:last-child::after {align-self: flex-start;width: 50%;}#sk-container-id-9 div.sk-parallel-item:only-child::after {width: 0;}#sk-container-id-9 div.sk-dashed-wrapped {border: 1px dashed gray;margin: 0 0.4em 0.5em 0.4em;box-sizing: border-box;padding-bottom: 0.4em;background-color: white;}#sk-container-id-9 div.sk-label label {font-family: monospace;font-weight: bold;display: inline-block;line-height: 1.2em;}#sk-container-id-9 div.sk-label-container {text-align: center;}#sk-container-id-9 div.sk-container {/* jupyter's `normalize.less` sets `[hidden] { display: none; }` but bootstrap.min.css set `[hidden] { display: none !important; }` so we also need the `!important` here to be able to override the default hidden behavior on the sphinx rendered scikit-learn.org. See: https://github.com/scikit-learn/scikit-learn/issues/21755 */display: inline-block !important;position: relative;}#sk-container-id-9 div.sk-text-repr-fallback {display: none;}</style><div id=\"sk-container-id-9\" class=\"sk-top-container\"><div class=\"sk-text-repr-fallback\"><pre>LogisticRegression(max_iter=1000, random_state=42)</pre><b>In a Jupyter environment, please rerun this cell to show the HTML representation or trust the notebook. <br />On GitHub, the HTML representation is unable to render, please try loading this page with nbviewer.org.</b></div><div class=\"sk-container\" hidden><div class=\"sk-item\"><div class=\"sk-estimator sk-toggleable\"><input class=\"sk-toggleable__control sk-hidden--visually\" id=\"sk-estimator-id-9\" type=\"checkbox\" checked><label for=\"sk-estimator-id-9\" class=\"sk-toggleable__label sk-toggleable__label-arrow\">LogisticRegression</label><div class=\"sk-toggleable__content\"><pre>LogisticRegression(max_iter=1000, random_state=42)</pre></div></div></div></div></div>"
      ],
      "text/plain": [
       "LogisticRegression(max_iter=1000, random_state=42)"
      ]
     },
     "execution_count": 375,
     "metadata": {},
     "output_type": "execute_result"
    }
   ],
   "source": [
    "l2_model.fit(X_train, y_train)"
   ]
  },
  {
   "cell_type": "code",
   "execution_count": 376,
   "id": "7ca71964-c12a-4d26-b65f-0a293aa9f6ef",
   "metadata": {
    "tags": []
   },
   "outputs": [],
   "source": [
    "l2_preds = l2_model.predict(X_test)"
   ]
  },
  {
   "cell_type": "code",
   "execution_count": 377,
   "id": "41331297-b096-4ac5-9e82-4e25165c3a76",
   "metadata": {
    "tags": []
   },
   "outputs": [],
   "source": [
    "def evaluate_metrics(yt, yp):\n",
    "    results_pos = {}\n",
    "    results_pos['accuracy'] = accuracy_score(yt, yp)\n",
    "    precision, recall, f_beta, _ = precision_recall_fscore_support(yt, yp)\n",
    "    results_pos['recall'] = recall\n",
    "    results_pos['precision'] = precision\n",
    "    results_pos['f1score'] = f_beta\n",
    "    return results_pos"
   ]
  },
  {
   "cell_type": "code",
   "execution_count": 378,
   "id": "8672af81-1999-4e42-8753-87564b79a183",
   "metadata": {
    "tags": []
   },
   "outputs": [
    {
     "data": {
      "text/plain": [
       "{'accuracy': 0.8046380885453268,\n",
       " 'recall': array([0.8722919, 0.6959707]),\n",
       " 'precision': array([0.8216971 , 0.77235772]),\n",
       " 'f1score': array([0.84623894, 0.73217726])}"
      ]
     },
     "execution_count": 378,
     "metadata": {},
     "output_type": "execute_result"
    }
   ],
   "source": [
    "evaluate_metrics(y_test, l2_preds)"
   ]
  },
  {
   "cell_type": "code",
   "execution_count": 379,
   "id": "7f5fbacd-a5da-4002-92f6-f74ec7dc3863",
   "metadata": {
    "tags": []
   },
   "outputs": [],
   "source": [
    "l1_model = LogisticRegression(random_state=42, penalty=penalty[1], multi_class=multi_class, solver=solver[1], max_iter=max_iter)"
   ]
  },
  {
   "cell_type": "code",
   "execution_count": 380,
   "id": "f4593b77-d807-4afe-bac7-7896e9595c40",
   "metadata": {
    "tags": []
   },
   "outputs": [
    {
     "data": {
      "text/html": [
       "<style>#sk-container-id-10 {color: black;}#sk-container-id-10 pre{padding: 0;}#sk-container-id-10 div.sk-toggleable {background-color: white;}#sk-container-id-10 label.sk-toggleable__label {cursor: pointer;display: block;width: 100%;margin-bottom: 0;padding: 0.3em;box-sizing: border-box;text-align: center;}#sk-container-id-10 label.sk-toggleable__label-arrow:before {content: \"▸\";float: left;margin-right: 0.25em;color: #696969;}#sk-container-id-10 label.sk-toggleable__label-arrow:hover:before {color: black;}#sk-container-id-10 div.sk-estimator:hover label.sk-toggleable__label-arrow:before {color: black;}#sk-container-id-10 div.sk-toggleable__content {max-height: 0;max-width: 0;overflow: hidden;text-align: left;background-color: #f0f8ff;}#sk-container-id-10 div.sk-toggleable__content pre {margin: 0.2em;color: black;border-radius: 0.25em;background-color: #f0f8ff;}#sk-container-id-10 input.sk-toggleable__control:checked~div.sk-toggleable__content {max-height: 200px;max-width: 100%;overflow: auto;}#sk-container-id-10 input.sk-toggleable__control:checked~label.sk-toggleable__label-arrow:before {content: \"▾\";}#sk-container-id-10 div.sk-estimator input.sk-toggleable__control:checked~label.sk-toggleable__label {background-color: #d4ebff;}#sk-container-id-10 div.sk-label input.sk-toggleable__control:checked~label.sk-toggleable__label {background-color: #d4ebff;}#sk-container-id-10 input.sk-hidden--visually {border: 0;clip: rect(1px 1px 1px 1px);clip: rect(1px, 1px, 1px, 1px);height: 1px;margin: -1px;overflow: hidden;padding: 0;position: absolute;width: 1px;}#sk-container-id-10 div.sk-estimator {font-family: monospace;background-color: #f0f8ff;border: 1px dotted black;border-radius: 0.25em;box-sizing: border-box;margin-bottom: 0.5em;}#sk-container-id-10 div.sk-estimator:hover {background-color: #d4ebff;}#sk-container-id-10 div.sk-parallel-item::after {content: \"\";width: 100%;border-bottom: 1px solid gray;flex-grow: 1;}#sk-container-id-10 div.sk-label:hover label.sk-toggleable__label {background-color: #d4ebff;}#sk-container-id-10 div.sk-serial::before {content: \"\";position: absolute;border-left: 1px solid gray;box-sizing: border-box;top: 0;bottom: 0;left: 50%;z-index: 0;}#sk-container-id-10 div.sk-serial {display: flex;flex-direction: column;align-items: center;background-color: white;padding-right: 0.2em;padding-left: 0.2em;position: relative;}#sk-container-id-10 div.sk-item {position: relative;z-index: 1;}#sk-container-id-10 div.sk-parallel {display: flex;align-items: stretch;justify-content: center;background-color: white;position: relative;}#sk-container-id-10 div.sk-item::before, #sk-container-id-10 div.sk-parallel-item::before {content: \"\";position: absolute;border-left: 1px solid gray;box-sizing: border-box;top: 0;bottom: 0;left: 50%;z-index: -1;}#sk-container-id-10 div.sk-parallel-item {display: flex;flex-direction: column;z-index: 1;position: relative;background-color: white;}#sk-container-id-10 div.sk-parallel-item:first-child::after {align-self: flex-end;width: 50%;}#sk-container-id-10 div.sk-parallel-item:last-child::after {align-self: flex-start;width: 50%;}#sk-container-id-10 div.sk-parallel-item:only-child::after {width: 0;}#sk-container-id-10 div.sk-dashed-wrapped {border: 1px dashed gray;margin: 0 0.4em 0.5em 0.4em;box-sizing: border-box;padding-bottom: 0.4em;background-color: white;}#sk-container-id-10 div.sk-label label {font-family: monospace;font-weight: bold;display: inline-block;line-height: 1.2em;}#sk-container-id-10 div.sk-label-container {text-align: center;}#sk-container-id-10 div.sk-container {/* jupyter's `normalize.less` sets `[hidden] { display: none; }` but bootstrap.min.css set `[hidden] { display: none !important; }` so we also need the `!important` here to be able to override the default hidden behavior on the sphinx rendered scikit-learn.org. See: https://github.com/scikit-learn/scikit-learn/issues/21755 */display: inline-block !important;position: relative;}#sk-container-id-10 div.sk-text-repr-fallback {display: none;}</style><div id=\"sk-container-id-10\" class=\"sk-top-container\"><div class=\"sk-text-repr-fallback\"><pre>LogisticRegression(max_iter=1000, penalty=&#x27;l1&#x27;, random_state=42, solver=&#x27;saga&#x27;)</pre><b>In a Jupyter environment, please rerun this cell to show the HTML representation or trust the notebook. <br />On GitHub, the HTML representation is unable to render, please try loading this page with nbviewer.org.</b></div><div class=\"sk-container\" hidden><div class=\"sk-item\"><div class=\"sk-estimator sk-toggleable\"><input class=\"sk-toggleable__control sk-hidden--visually\" id=\"sk-estimator-id-10\" type=\"checkbox\" checked><label for=\"sk-estimator-id-10\" class=\"sk-toggleable__label sk-toggleable__label-arrow\">LogisticRegression</label><div class=\"sk-toggleable__content\"><pre>LogisticRegression(max_iter=1000, penalty=&#x27;l1&#x27;, random_state=42, solver=&#x27;saga&#x27;)</pre></div></div></div></div></div>"
      ],
      "text/plain": [
       "LogisticRegression(max_iter=1000, penalty='l1', random_state=42, solver='saga')"
      ]
     },
     "execution_count": 380,
     "metadata": {},
     "output_type": "execute_result"
    }
   ],
   "source": [
    "l1_model.fit(X_train, y_train)"
   ]
  },
  {
   "cell_type": "code",
   "execution_count": 381,
   "id": "3e7a0f0a-f615-4bd8-8f06-6f4db5b30b3e",
   "metadata": {
    "tags": []
   },
   "outputs": [],
   "source": [
    "l1_preds = l1_model.predict(X_test)"
   ]
  },
  {
   "cell_type": "code",
   "execution_count": 382,
   "id": "e398d06a-2026-4c98-83f8-256bed795c1f",
   "metadata": {
    "tags": []
   },
   "outputs": [
    {
     "data": {
      "text/plain": [
       "{'accuracy': 0.859451862262825,\n",
       " 'recall': array([0.8677309 , 0.84615385]),\n",
       " 'precision': array([0.90059172, 0.79930796]),\n",
       " 'f1score': array([0.88385598, 0.82206406])}"
      ]
     },
     "execution_count": 382,
     "metadata": {},
     "output_type": "execute_result"
    }
   ],
   "source": [
    "evaluate_metrics(y_test, l1_preds)"
   ]
  },
  {
   "cell_type": "code",
   "execution_count": 383,
   "id": "5fc4ab9c-abc5-4e02-8adf-1e01ef074f66",
   "metadata": {
    "tags": []
   },
   "outputs": [],
   "source": [
    "en_model = LogisticRegression(random_state=42, penalty=penalty[2], multi_class=multi_class, solver=solver[2], max_iter = 1000, l1_ratio=l1_ratio)\n",
    "en_model.fit(X_train, y_train)\n",
    "en_preds = en_model.predict(X_test)"
   ]
  },
  {
   "cell_type": "code",
   "execution_count": 384,
   "id": "e27a6b75-a8e8-486f-bd95-3d59f9281b9e",
   "metadata": {
    "tags": []
   },
   "outputs": [
    {
     "data": {
      "text/plain": [
       "{'accuracy': 0.8383696416022488,\n",
       " 'recall': array([0.8631699, 0.7985348]),\n",
       " 'precision': array([0.87312572, 0.78417266]),\n",
       " 'f1score': array([0.86811927, 0.79128857])}"
      ]
     },
     "execution_count": 384,
     "metadata": {},
     "output_type": "execute_result"
    }
   ],
   "source": [
    "evaluate_metrics(y_test, en_preds)"
   ]
  },
  {
   "cell_type": "code",
   "execution_count": 385,
   "id": "7ebfb24f-4a20-4d5f-92c3-0bdd3bd4a8c2",
   "metadata": {
    "tags": []
   },
   "outputs": [],
   "source": [
    "cf1 = confusion_matrix(y_test, l1_preds, normalize='true')"
   ]
  },
  {
   "cell_type": "code",
   "execution_count": 386,
   "id": "ef2f1b39-08ad-4273-9a26-c15860a02183",
   "metadata": {
    "tags": []
   },
   "outputs": [
    {
     "data": {
      "image/png": "[encoded data removed]",
      "text/plain": [
       "<Figure size 640x480 with 2 Axes>"
      ]
     },
     "metadata": {},
     "output_type": "display_data"
    }
   ],
   "source": [
    "sns.set_context('talk')\n",
    "disp = ConfusionMatrixDisplay(confusion_matrix=cf1,display_labels=l1_model.classes_)\n",
    "disp.plot()\n",
    "plt.show()"
   ]
  },
  {
   "cell_type": "code",
   "execution_count": 387,
   "id": "a45067d0-ddca-47cb-bfe5-e2cf55fe2285",
   "metadata": {
    "tags": []
   },
   "outputs": [
    {
     "data": {
      "image/png": "[encoded data removed]",
      "text/plain": [
       "<Figure size 640x480 with 2 Axes>"
      ]
     },
     "metadata": {},
     "output_type": "display_data"
    }
   ],
   "source": [
    "cf2 = confusion_matrix(y_test, l2_preds, normalize='true')\n",
    "sns.set_context('talk')\n",
    "disp = ConfusionMatrixDisplay(confusion_matrix=cf2,display_labels=l2_model.classes_)\n",
    "disp.plot()\n",
    "plt.show()"
   ]
  },
  {
   "cell_type": "code",
   "execution_count": 388,
   "id": "9e90ac96-6cd0-48c7-87bd-47c21ee23bd1",
   "metadata": {
    "tags": []
   },
   "outputs": [
    {
     "data": {
      "image/png": "[encoded data removed]",
      "text/plain": [
       "<Figure size 640x480 with 2 Axes>"
      ]
     },
     "metadata": {},
     "output_type": "display_data"
    }
   ],
   "source": [
    "cf_en = confusion_matrix(y_test, en_preds, normalize='true')\n",
    "sns.set_context('talk')\n",
    "disp = ConfusionMatrixDisplay(confusion_matrix=cf_en,display_labels=en_model.classes_)\n",
    "disp.plot()\n",
    "plt.show()"
   ]
  },
  {
   "cell_type": "code",
   "execution_count": 422,
   "id": "c6dd0b86-7a6a-4b46-b5e0-60524e6ea886",
   "metadata": {
    "tags": []
   },
   "outputs": [],
   "source": [
    "df_unknown=df_unknown.dropna()"
   ]
  },
  {
   "cell_type": "code",
   "execution_count": 390,
   "id": "62b47a8a-d506-41e9-84d2-24c97803d8b0",
   "metadata": {
    "tags": []
   },
   "outputs": [],
   "source": [
    "df_unknown=pd.get_dummies(df_unknown, columns=['koi_tce_delivname'], dtype=int)"
   ]
  },
  {
   "cell_type": "code",
   "execution_count": 391,
   "id": "f64b1fe2-da81-43b9-ad43-d7517f726ab6",
   "metadata": {
    "tags": []
   },
   "outputs": [
    {
     "data": {
      "text/html": [
       "<div>\n",
       "<style scoped>\n",
       "    .dataframe tbody tr th:only-of-type {\n",
       "        vertical-align: middle;\n",
       "    }\n",
       "\n",
       "    .dataframe tbody tr th {\n",
       "        vertical-align: top;\n",
       "    }\n",
       "\n",
       "    .dataframe thead th {\n",
       "        text-align: right;\n",
       "    }\n",
       "</style>\n",
       "<table border=\"1\" class=\"dataframe\">\n",
       "  <thead>\n",
       "    <tr style=\"text-align: right;\">\n",
       "      <th></th>\n",
       "      <th>koi_period</th>\n",
       "      <th>koi_time0bk</th>\n",
       "      <th>koi_impact</th>\n",
       "      <th>koi_duration</th>\n",
       "      <th>koi_depth</th>\n",
       "      <th>koi_prad</th>\n",
       "      <th>koi_teq</th>\n",
       "      <th>koi_insol</th>\n",
       "      <th>koi_model_snr</th>\n",
       "      <th>koi_tce_plnt_num</th>\n",
       "      <th>koi_steff</th>\n",
       "      <th>koi_slogg</th>\n",
       "      <th>koi_srad</th>\n",
       "      <th>ra</th>\n",
       "      <th>dec</th>\n",
       "      <th>koi_kepmag</th>\n",
       "      <th>koi_tce_delivname_q1_q16_tce</th>\n",
       "      <th>koi_tce_delivname_q1_q17_dr24_tce</th>\n",
       "      <th>koi_tce_delivname_q1_q17_dr25_tce</th>\n",
       "    </tr>\n",
       "  </thead>\n",
       "  <tbody>\n",
       "    <tr>\n",
       "      <th>7582</th>\n",
       "      <td>19.899140</td>\n",
       "      <td>175.850252</td>\n",
       "      <td>0.969</td>\n",
       "      <td>1.7822</td>\n",
       "      <td>10829.0</td>\n",
       "      <td>14.60</td>\n",
       "      <td>638.0</td>\n",
       "      <td>39.30</td>\n",
       "      <td>76.3</td>\n",
       "      <td>1.0</td>\n",
       "      <td>5853.0</td>\n",
       "      <td>4.544</td>\n",
       "      <td>0.868</td>\n",
       "      <td>297.00482</td>\n",
       "      <td>48.134129</td>\n",
       "      <td>15.436</td>\n",
       "      <td>0</td>\n",
       "      <td>0</td>\n",
       "      <td>1</td>\n",
       "    </tr>\n",
       "    <tr>\n",
       "      <th>7583</th>\n",
       "      <td>40.419504</td>\n",
       "      <td>173.564690</td>\n",
       "      <td>0.911</td>\n",
       "      <td>3.3620</td>\n",
       "      <td>6256.0</td>\n",
       "      <td>7.51</td>\n",
       "      <td>467.0</td>\n",
       "      <td>11.29</td>\n",
       "      <td>36.9</td>\n",
       "      <td>1.0</td>\n",
       "      <td>5446.0</td>\n",
       "      <td>4.507</td>\n",
       "      <td>0.781</td>\n",
       "      <td>294.31686</td>\n",
       "      <td>50.080231</td>\n",
       "      <td>15.487</td>\n",
       "      <td>0</td>\n",
       "      <td>0</td>\n",
       "      <td>1</td>\n",
       "    </tr>\n",
       "    <tr>\n",
       "      <th>7584</th>\n",
       "      <td>7.240661</td>\n",
       "      <td>137.755450</td>\n",
       "      <td>1.198</td>\n",
       "      <td>0.5580</td>\n",
       "      <td>556.4</td>\n",
       "      <td>19.45</td>\n",
       "      <td>734.0</td>\n",
       "      <td>68.63</td>\n",
       "      <td>13.7</td>\n",
       "      <td>2.0</td>\n",
       "      <td>5005.0</td>\n",
       "      <td>4.595</td>\n",
       "      <td>0.765</td>\n",
       "      <td>293.83331</td>\n",
       "      <td>50.230350</td>\n",
       "      <td>15.334</td>\n",
       "      <td>0</td>\n",
       "      <td>0</td>\n",
       "      <td>1</td>\n",
       "    </tr>\n",
       "    <tr>\n",
       "      <th>7585</th>\n",
       "      <td>3.435916</td>\n",
       "      <td>132.662400</td>\n",
       "      <td>0.624</td>\n",
       "      <td>3.1330</td>\n",
       "      <td>23.2</td>\n",
       "      <td>0.55</td>\n",
       "      <td>1272.0</td>\n",
       "      <td>617.61</td>\n",
       "      <td>8.7</td>\n",
       "      <td>3.0</td>\n",
       "      <td>5779.0</td>\n",
       "      <td>4.339</td>\n",
       "      <td>1.087</td>\n",
       "      <td>287.88733</td>\n",
       "      <td>46.276241</td>\n",
       "      <td>12.791</td>\n",
       "      <td>0</td>\n",
       "      <td>0</td>\n",
       "      <td>1</td>\n",
       "    </tr>\n",
       "    <tr>\n",
       "      <th>7586</th>\n",
       "      <td>10.181584</td>\n",
       "      <td>177.141891</td>\n",
       "      <td>0.920</td>\n",
       "      <td>3.5089</td>\n",
       "      <td>5741.1</td>\n",
       "      <td>7.73</td>\n",
       "      <td>812.0</td>\n",
       "      <td>102.91</td>\n",
       "      <td>183.6</td>\n",
       "      <td>1.0</td>\n",
       "      <td>5988.0</td>\n",
       "      <td>4.541</td>\n",
       "      <td>0.836</td>\n",
       "      <td>291.28195</td>\n",
       "      <td>38.241669</td>\n",
       "      <td>15.657</td>\n",
       "      <td>0</td>\n",
       "      <td>0</td>\n",
       "      <td>1</td>\n",
       "    </tr>\n",
       "  </tbody>\n",
       "</table>\n",
       "</div>"
      ],
      "text/plain": [
       "      koi_period  koi_time0bk  koi_impact  koi_duration  koi_depth  koi_prad  \\\n",
       "7582   19.899140   175.850252       0.969        1.7822    10829.0     14.60   \n",
       "7583   40.419504   173.564690       0.911        3.3620     6256.0      7.51   \n",
       "7584    7.240661   137.755450       1.198        0.5580      556.4     19.45   \n",
       "7585    3.435916   132.662400       0.624        3.1330       23.2      0.55   \n",
       "7586   10.181584   177.141891       0.920        3.5089     5741.1      7.73   \n",
       "\n",
       "      koi_teq  koi_insol  koi_model_snr  koi_tce_plnt_num  koi_steff  \\\n",
       "7582    638.0      39.30           76.3               1.0     5853.0   \n",
       "7583    467.0      11.29           36.9               1.0     5446.0   \n",
       "7584    734.0      68.63           13.7               2.0     5005.0   \n",
       "7585   1272.0     617.61            8.7               3.0     5779.0   \n",
       "7586    812.0     102.91          183.6               1.0     5988.0   \n",
       "\n",
       "      koi_slogg  koi_srad         ra        dec  koi_kepmag  \\\n",
       "7582      4.544     0.868  297.00482  48.134129      15.436   \n",
       "7583      4.507     0.781  294.31686  50.080231      15.487   \n",
       "7584      4.595     0.765  293.83331  50.230350      15.334   \n",
       "7585      4.339     1.087  287.88733  46.276241      12.791   \n",
       "7586      4.541     0.836  291.28195  38.241669      15.657   \n",
       "\n",
       "      koi_tce_delivname_q1_q16_tce  koi_tce_delivname_q1_q17_dr24_tce  \\\n",
       "7582                             0                                  0   \n",
       "7583                             0                                  0   \n",
       "7584                             0                                  0   \n",
       "7585                             0                                  0   \n",
       "7586                             0                                  0   \n",
       "\n",
       "      koi_tce_delivname_q1_q17_dr25_tce  \n",
       "7582                                  1  \n",
       "7583                                  1  \n",
       "7584                                  1  \n",
       "7585                                  1  \n",
       "7586                                  1  "
      ]
     },
     "execution_count": 391,
     "metadata": {},
     "output_type": "execute_result"
    }
   ],
   "source": [
    "df1.head()"
   ]
  },
  {
   "cell_type": "code",
   "execution_count": 392,
   "id": "729bd361-35e3-4444-a496-5b8e4944e760",
   "metadata": {
    "tags": []
   },
   "outputs": [],
   "source": [
    "#check that columns in known and unknown datasets are the same\n",
    "col_un=df1.columns"
   ]
  },
  {
   "cell_type": "code",
   "execution_count": 393,
   "id": "68110d87-036e-483c-be93-287a8bc9c70d",
   "metadata": {
    "tags": []
   },
   "outputs": [],
   "source": [
    "col=df.drop(columns = ['label']).columns"
   ]
  },
  {
   "cell_type": "code",
   "execution_count": 394,
   "id": "611d46d4-1659-4130-bc84-36099e6ffe18",
   "metadata": {
    "tags": []
   },
   "outputs": [
    {
     "data": {
      "text/plain": [
       "array([ True,  True,  True,  True,  True,  True,  True,  True,  True,\n",
       "        True,  True,  True,  True,  True,  True,  True,  True,  True,\n",
       "        True])"
      ]
     },
     "execution_count": 394,
     "metadata": {},
     "output_type": "execute_result"
    }
   ],
   "source": [
    "col_un==col"
   ]
  },
  {
   "cell_type": "code",
   "execution_count": 395,
   "id": "27a80bb0-ec7b-413b-99a5-37e87a623ea4",
   "metadata": {
    "tags": []
   },
   "outputs": [],
   "source": [
    "df1=df_unknown.dropna()"
   ]
  },
  {
   "cell_type": "code",
   "execution_count": 396,
   "id": "b328e94f-d25a-4f7a-a9a1-66be533d30f7",
   "metadata": {
    "tags": []
   },
   "outputs": [],
   "source": [
    "X_unknown = scaler.fit_transform(df1)"
   ]
  },
  {
   "cell_type": "code",
   "execution_count": 397,
   "id": "a921d6da-750e-4088-b09e-46350c1fd845",
   "metadata": {
    "tags": []
   },
   "outputs": [
    {
     "data": {
      "text/html": [
       "<div>\n",
       "<style scoped>\n",
       "    .dataframe tbody tr th:only-of-type {\n",
       "        vertical-align: middle;\n",
       "    }\n",
       "\n",
       "    .dataframe tbody tr th {\n",
       "        vertical-align: top;\n",
       "    }\n",
       "\n",
       "    .dataframe thead th {\n",
       "        text-align: right;\n",
       "    }\n",
       "</style>\n",
       "<table border=\"1\" class=\"dataframe\">\n",
       "  <thead>\n",
       "    <tr style=\"text-align: right;\">\n",
       "      <th></th>\n",
       "      <th>count</th>\n",
       "      <th>mean</th>\n",
       "      <th>std</th>\n",
       "      <th>min</th>\n",
       "      <th>25%</th>\n",
       "      <th>50%</th>\n",
       "      <th>75%</th>\n",
       "      <th>max</th>\n",
       "    </tr>\n",
       "  </thead>\n",
       "  <tbody>\n",
       "    <tr>\n",
       "      <th>0</th>\n",
       "      <td>1833.0</td>\n",
       "      <td>0.117563</td>\n",
       "      <td>0.183185</td>\n",
       "      <td>0.0</td>\n",
       "      <td>0.006977</td>\n",
       "      <td>0.022253</td>\n",
       "      <td>0.136625</td>\n",
       "      <td>1.0</td>\n",
       "    </tr>\n",
       "    <tr>\n",
       "      <th>1</th>\n",
       "      <td>1833.0</td>\n",
       "      <td>0.071430</td>\n",
       "      <td>0.104846</td>\n",
       "      <td>0.0</td>\n",
       "      <td>0.013346</td>\n",
       "      <td>0.022653</td>\n",
       "      <td>0.069876</td>\n",
       "      <td>1.0</td>\n",
       "    </tr>\n",
       "    <tr>\n",
       "      <th>2</th>\n",
       "      <td>1833.0</td>\n",
       "      <td>0.007635</td>\n",
       "      <td>0.045619</td>\n",
       "      <td>0.0</td>\n",
       "      <td>0.001600</td>\n",
       "      <td>0.004194</td>\n",
       "      <td>0.008251</td>\n",
       "      <td>1.0</td>\n",
       "    </tr>\n",
       "    <tr>\n",
       "      <th>3</th>\n",
       "      <td>1833.0</td>\n",
       "      <td>0.117557</td>\n",
       "      <td>0.108268</td>\n",
       "      <td>0.0</td>\n",
       "      <td>0.049099</td>\n",
       "      <td>0.080455</td>\n",
       "      <td>0.140638</td>\n",
       "      <td>1.0</td>\n",
       "    </tr>\n",
       "    <tr>\n",
       "      <th>4</th>\n",
       "      <td>1833.0</td>\n",
       "      <td>0.003913</td>\n",
       "      <td>0.026683</td>\n",
       "      <td>0.0</td>\n",
       "      <td>0.000326</td>\n",
       "      <td>0.000690</td>\n",
       "      <td>0.001576</td>\n",
       "      <td>1.0</td>\n",
       "    </tr>\n",
       "    <tr>\n",
       "      <th>5</th>\n",
       "      <td>1833.0</td>\n",
       "      <td>0.000915</td>\n",
       "      <td>0.024467</td>\n",
       "      <td>0.0</td>\n",
       "      <td>0.000009</td>\n",
       "      <td>0.000014</td>\n",
       "      <td>0.000026</td>\n",
       "      <td>1.0</td>\n",
       "    </tr>\n",
       "    <tr>\n",
       "      <th>6</th>\n",
       "      <td>1833.0</td>\n",
       "      <td>0.117269</td>\n",
       "      <td>0.094267</td>\n",
       "      <td>0.0</td>\n",
       "      <td>0.051526</td>\n",
       "      <td>0.096753</td>\n",
       "      <td>0.154741</td>\n",
       "      <td>1.0</td>\n",
       "    </tr>\n",
       "    <tr>\n",
       "      <th>7</th>\n",
       "      <td>1833.0</td>\n",
       "      <td>0.003538</td>\n",
       "      <td>0.035218</td>\n",
       "      <td>0.0</td>\n",
       "      <td>0.000019</td>\n",
       "      <td>0.000147</td>\n",
       "      <td>0.000784</td>\n",
       "      <td>1.0</td>\n",
       "    </tr>\n",
       "    <tr>\n",
       "      <th>8</th>\n",
       "      <td>1833.0</td>\n",
       "      <td>0.021146</td>\n",
       "      <td>0.064494</td>\n",
       "      <td>0.0</td>\n",
       "      <td>0.006172</td>\n",
       "      <td>0.007629</td>\n",
       "      <td>0.010472</td>\n",
       "      <td>1.0</td>\n",
       "    </tr>\n",
       "    <tr>\n",
       "      <th>9</th>\n",
       "      <td>1833.0</td>\n",
       "      <td>0.050191</td>\n",
       "      <td>0.123614</td>\n",
       "      <td>0.0</td>\n",
       "      <td>0.000000</td>\n",
       "      <td>0.000000</td>\n",
       "      <td>0.000000</td>\n",
       "      <td>1.0</td>\n",
       "    </tr>\n",
       "    <tr>\n",
       "      <th>10</th>\n",
       "      <td>1833.0</td>\n",
       "      <td>0.313332</td>\n",
       "      <td>0.092240</td>\n",
       "      <td>0.0</td>\n",
       "      <td>0.263310</td>\n",
       "      <td>0.323255</td>\n",
       "      <td>0.369660</td>\n",
       "      <td>1.0</td>\n",
       "    </tr>\n",
       "    <tr>\n",
       "      <th>11</th>\n",
       "      <td>1833.0</td>\n",
       "      <td>0.798201</td>\n",
       "      <td>0.079468</td>\n",
       "      <td>0.0</td>\n",
       "      <td>0.780571</td>\n",
       "      <td>0.823619</td>\n",
       "      <td>0.843238</td>\n",
       "      <td>1.0</td>\n",
       "    </tr>\n",
       "    <tr>\n",
       "      <th>12</th>\n",
       "      <td>1833.0</td>\n",
       "      <td>0.010077</td>\n",
       "      <td>0.036341</td>\n",
       "      <td>0.0</td>\n",
       "      <td>0.004704</td>\n",
       "      <td>0.005868</td>\n",
       "      <td>0.008053</td>\n",
       "      <td>1.0</td>\n",
       "    </tr>\n",
       "    <tr>\n",
       "      <th>13</th>\n",
       "      <td>1833.0</td>\n",
       "      <td>0.537631</td>\n",
       "      <td>0.225011</td>\n",
       "      <td>0.0</td>\n",
       "      <td>0.366596</td>\n",
       "      <td>0.545315</td>\n",
       "      <td>0.721814</td>\n",
       "      <td>1.0</td>\n",
       "    </tr>\n",
       "    <tr>\n",
       "      <th>14</th>\n",
       "      <td>1833.0</td>\n",
       "      <td>0.471838</td>\n",
       "      <td>0.237823</td>\n",
       "      <td>0.0</td>\n",
       "      <td>0.280002</td>\n",
       "      <td>0.469030</td>\n",
       "      <td>0.654274</td>\n",
       "      <td>1.0</td>\n",
       "    </tr>\n",
       "    <tr>\n",
       "      <th>15</th>\n",
       "      <td>1833.0</td>\n",
       "      <td>0.707140</td>\n",
       "      <td>0.126760</td>\n",
       "      <td>0.0</td>\n",
       "      <td>0.631898</td>\n",
       "      <td>0.735820</td>\n",
       "      <td>0.807249</td>\n",
       "      <td>1.0</td>\n",
       "    </tr>\n",
       "    <tr>\n",
       "      <th>16</th>\n",
       "      <td>1833.0</td>\n",
       "      <td>0.183852</td>\n",
       "      <td>0.387469</td>\n",
       "      <td>0.0</td>\n",
       "      <td>0.000000</td>\n",
       "      <td>0.000000</td>\n",
       "      <td>0.000000</td>\n",
       "      <td>1.0</td>\n",
       "    </tr>\n",
       "    <tr>\n",
       "      <th>17</th>\n",
       "      <td>1833.0</td>\n",
       "      <td>0.066012</td>\n",
       "      <td>0.248371</td>\n",
       "      <td>0.0</td>\n",
       "      <td>0.000000</td>\n",
       "      <td>0.000000</td>\n",
       "      <td>0.000000</td>\n",
       "      <td>1.0</td>\n",
       "    </tr>\n",
       "    <tr>\n",
       "      <th>18</th>\n",
       "      <td>1833.0</td>\n",
       "      <td>0.750136</td>\n",
       "      <td>0.433052</td>\n",
       "      <td>0.0</td>\n",
       "      <td>1.000000</td>\n",
       "      <td>1.000000</td>\n",
       "      <td>1.000000</td>\n",
       "      <td>1.0</td>\n",
       "    </tr>\n",
       "  </tbody>\n",
       "</table>\n",
       "</div>"
      ],
      "text/plain": [
       "     count      mean       std  min       25%       50%       75%  max\n",
       "0   1833.0  0.117563  0.183185  0.0  0.006977  0.022253  0.136625  1.0\n",
       "1   1833.0  0.071430  0.104846  0.0  0.013346  0.022653  0.069876  1.0\n",
       "2   1833.0  0.007635  0.045619  0.0  0.001600  0.004194  0.008251  1.0\n",
       "3   1833.0  0.117557  0.108268  0.0  0.049099  0.080455  0.140638  1.0\n",
       "4   1833.0  0.003913  0.026683  0.0  0.000326  0.000690  0.001576  1.0\n",
       "5   1833.0  0.000915  0.024467  0.0  0.000009  0.000014  0.000026  1.0\n",
       "6   1833.0  0.117269  0.094267  0.0  0.051526  0.096753  0.154741  1.0\n",
       "7   1833.0  0.003538  0.035218  0.0  0.000019  0.000147  0.000784  1.0\n",
       "8   1833.0  0.021146  0.064494  0.0  0.006172  0.007629  0.010472  1.0\n",
       "9   1833.0  0.050191  0.123614  0.0  0.000000  0.000000  0.000000  1.0\n",
       "10  1833.0  0.313332  0.092240  0.0  0.263310  0.323255  0.369660  1.0\n",
       "11  1833.0  0.798201  0.079468  0.0  0.780571  0.823619  0.843238  1.0\n",
       "12  1833.0  0.010077  0.036341  0.0  0.004704  0.005868  0.008053  1.0\n",
       "13  1833.0  0.537631  0.225011  0.0  0.366596  0.545315  0.721814  1.0\n",
       "14  1833.0  0.471838  0.237823  0.0  0.280002  0.469030  0.654274  1.0\n",
       "15  1833.0  0.707140  0.126760  0.0  0.631898  0.735820  0.807249  1.0\n",
       "16  1833.0  0.183852  0.387469  0.0  0.000000  0.000000  0.000000  1.0\n",
       "17  1833.0  0.066012  0.248371  0.0  0.000000  0.000000  0.000000  1.0\n",
       "18  1833.0  0.750136  0.433052  0.0  1.000000  1.000000  1.000000  1.0"
      ]
     },
     "execution_count": 397,
     "metadata": {},
     "output_type": "execute_result"
    }
   ],
   "source": [
    "pd.DataFrame(X_unknown).describe().T"
   ]
  },
  {
   "cell_type": "code",
   "execution_count": 398,
   "id": "2955f023-b4d2-4050-acc9-bd360d79a44c",
   "metadata": {
    "tags": []
   },
   "outputs": [],
   "source": [
    "y_unknown_l1=l1_model.predict(X_unknown)"
   ]
  },
  {
   "cell_type": "code",
   "execution_count": 399,
   "id": "bebea4c6-6a8f-4283-8e3d-10c987eb3235",
   "metadata": {
    "tags": []
   },
   "outputs": [
    {
     "data": {
      "text/plain": [
       "0    1794\n",
       "1      39\n",
       "Name: count, dtype: int64"
      ]
     },
     "execution_count": 399,
     "metadata": {},
     "output_type": "execute_result"
    }
   ],
   "source": [
    "pd.DataFrame(y_unknown_l1).value_counts()"
   ]
  },
  {
   "cell_type": "code",
   "execution_count": 400,
   "id": "0ca2edae-d145-47d9-a620-290f4bb3d4b0",
   "metadata": {
    "tags": []
   },
   "outputs": [
    {
     "data": {
      "text/plain": [
       "(1833,)"
      ]
     },
     "execution_count": 400,
     "metadata": {},
     "output_type": "execute_result"
    }
   ],
   "source": [
    "y_unknown_l1.shape"
   ]
  },
  {
   "cell_type": "markdown",
   "id": "89c76408-f6d0-4dd6-bdb7-bfec1b10aae9",
   "metadata": {},
   "source": [
    "## Interpret logistic regression models"
   ]
  },
  {
   "cell_type": "code",
   "execution_count": 442,
   "id": "30a8d2bd-f8c2-4653-9ce4-dca18d30a556",
   "metadata": {
    "tags": []
   },
   "outputs": [],
   "source": [
    "columns=df.drop(columns = ['label']).columns.to_numpy()"
   ]
  },
  {
   "cell_type": "code",
   "execution_count": 447,
   "id": "4ddf02a8-ac28-43ce-bfac-8667a8833820",
   "metadata": {
    "tags": []
   },
   "outputs": [
    {
     "data": {
      "text/plain": [
       "array(['koi_period', 'koi_time0bk', 'koi_impact', 'koi_duration',\n",
       "       'koi_depth', 'koi_prad', 'koi_teq', 'koi_insol', 'koi_model_snr',\n",
       "       'koi_tce_plnt_num', 'koi_steff', 'koi_slogg', 'koi_srad', 'ra',\n",
       "       'dec', 'koi_kepmag', 'koi_tce_delivname_q1_q16_tce',\n",
       "       'koi_tce_delivname_q1_q17_dr24_tce',\n",
       "       'koi_tce_delivname_q1_q17_dr25_tce'], dtype=object)"
      ]
     },
     "execution_count": 447,
     "metadata": {},
     "output_type": "execute_result"
    }
   ],
   "source": [
    "columns"
   ]
  },
  {
   "cell_type": "code",
   "execution_count": 443,
   "id": "6ab62349-9cea-4cb8-98f5-55d1db4ee84d",
   "metadata": {
    "tags": []
   },
   "outputs": [
    {
     "data": {
      "text/plain": [
       "array([[-10.77411351,   0.        , -88.16182304, -15.88269433,\n",
       "        -73.63510257,   0.        , -40.02361996,   0.        ,\n",
       "          0.        ,   4.95542572,   0.88962905,  -2.56999975,\n",
       "          0.        ,  -1.53437791,   0.97938526,  -2.24812098,\n",
       "         -1.46777573,   0.        ,   3.92881447]])"
      ]
     },
     "execution_count": 443,
     "metadata": {},
     "output_type": "execute_result"
    }
   ],
   "source": [
    "l1_model.coef_"
   ]
  },
  {
   "cell_type": "code",
   "execution_count": 472,
   "id": "d48955ad-8ae0-4b78-9478-73ef3aaef960",
   "metadata": {
    "tags": []
   },
   "outputs": [
    {
     "name": "stdout",
     "output_type": "stream",
     "text": [
      "[(-10.77411350562987, 'koi_period'), (0.0, 'koi_time0bk'), (-88.16182303789579, 'koi_impact'), (-15.882694330212002, 'koi_duration'), (-73.63510257042564, 'koi_depth'), (0.0, 'koi_prad'), (-40.023619963255825, 'koi_teq'), (0.0, 'koi_insol'), (0.0, 'koi_model_snr'), (4.955425717936619, 'koi_tce_plnt_num'), (0.8896290470096685, 'koi_steff'), (-2.569999745229492, 'koi_slogg'), (0.0, 'koi_srad'), (-1.5343779145448018, 'ra'), (0.9793852625333497, 'dec'), (-2.2481209841932244, 'koi_kepmag'), (-1.4677757283702646, 'koi_tce_delivname_q1_q16_tce'), (0.0, 'koi_tce_delivname_q1_q17_dr24_tce'), (3.928814465602193, 'koi_tce_delivname_q1_q17_dr25_tce')]\n"
     ]
    }
   ],
   "source": [
    "print(list(zip(l1_model.coef_[0, :], columns)))"
   ]
  },
  {
   "cell_type": "code",
   "execution_count": 460,
   "id": "15f77fcd-5f3d-418a-97e4-fed5db91bb32",
   "metadata": {
    "tags": []
   },
   "outputs": [],
   "source": [
    "# Extract and sort feature coefficients\n",
    "def get_feature_coefs(regression_model, label_index, columns):\n",
    "    coef_dict = {}\n",
    "    for coef, feat in zip(regression_model.coef_[label_index, :], columns):\n",
    "        if abs(coef) >= 0.01:\n",
    "            coef_dict[feat] = coef\n",
    "    # Sort coefficients\n",
    "    coef_dict = {k: v for k, v in sorted(coef_dict.items(), key=lambda item: item[1])}\n",
    "    return coef_dict\n",
    "\n",
    "# Generate bar colors based on if value is negative or positive\n",
    "def get_bar_colors(values):\n",
    "    color_vals = []\n",
    "    for val in values:\n",
    "        if val <= 0:\n",
    "            color_vals.append('r')\n",
    "        else:\n",
    "            color_vals.append('g')\n",
    "    return color_vals\n",
    "\n",
    "# Visualize coefficients\n",
    "def visualize_coefs(coef_dict):\n",
    "    features = list(coef_dict.keys())\n",
    "    values = list(coef_dict.values())\n",
    "    y_pos = np.arange(len(features))\n",
    "    color_vals = get_bar_colors(values)\n",
    "    plt.rcdefaults()\n",
    "    fig, ax = plt.subplots()\n",
    "    ax.barh(y_pos, values, align='center', color=color_vals)\n",
    "    ax.set_yticks(y_pos)\n",
    "    ax.set_yticklabels(features)\n",
    "    # labels read top-to-bottom\n",
    "    ax.invert_yaxis()  \n",
    "    ax.set_xlabel('Feature Coefficients')\n",
    "    ax.set_title('')\n",
    "    plt.show()"
   ]
  },
  {
   "cell_type": "code",
   "execution_count": 461,
   "id": "7ea59402-2faf-43be-86c4-8a26c1201e13",
   "metadata": {
    "tags": []
   },
   "outputs": [],
   "source": [
    "coef_dict = get_feature_coefs(l1_model, 0, columns)"
   ]
  },
  {
   "cell_type": "code",
   "execution_count": 462,
   "id": "f367594c-a35a-49fd-89da-bec8c67c6cd5",
   "metadata": {
    "tags": []
   },
   "outputs": [
    {
     "data": {
      "image/png": "[encoded data removed]",
      "text/plain": [
       "<Figure size 640x480 with 1 Axes>"
      ]
     },
     "metadata": {},
     "output_type": "display_data"
    }
   ],
   "source": [
    "visualize_coefs(coef_dict)"
   ]
  },
  {
   "cell_type": "markdown",
   "id": "18918f36-c4be-4cda-a617-93452619c29d",
   "metadata": {},
   "source": [
    "## KNN"
   ]
  },
  {
   "cell_type": "code",
   "execution_count": 401,
   "id": "ec54f45e-037e-4067-881a-b7a317fc021d",
   "metadata": {
    "tags": []
   },
   "outputs": [],
   "source": [
    "from sklearn.neighbors import KNeighborsClassifier"
   ]
  },
  {
   "cell_type": "code",
   "execution_count": 402,
   "id": "2b75392c-b88a-440a-9a33-03fed58dfcba",
   "metadata": {
    "tags": []
   },
   "outputs": [],
   "source": [
    "max_k = 40\n",
    "f1_scores = list()\n",
    "error_rates = list() # 1-accuracy\n",
    "\n",
    "for k in range(1, max_k):\n",
    "    \n",
    "    knn = KNeighborsClassifier(n_neighbors=k, weights='distance')\n",
    "    knn = knn.fit(X_train, y_train)\n",
    "    \n",
    "    y_pred = knn.predict(X_test)\n",
    "    f1 = f1_score(y_pred, y_test)\n",
    "    f1_scores.append((k, round(f1_score(y_test, y_pred), 4)))\n",
    "    error = 1-round(accuracy_score(y_test, y_pred), 4)\n",
    "    error_rates.append((k, error))\n",
    "    \n",
    "f1_results = pd.DataFrame(f1_scores, columns=['K', 'F1 Score'])\n",
    "error_results = pd.DataFrame(error_rates, columns=['K', 'Error Rate'])"
   ]
  },
  {
   "cell_type": "code",
   "execution_count": 403,
   "id": "aac80047-0499-4a6f-86e5-c798217b4ea2",
   "metadata": {
    "tags": []
   },
   "outputs": [
    {
     "data": {
      "text/plain": [
       "<Figure size 1920x1440 with 0 Axes>"
      ]
     },
     "metadata": {},
     "output_type": "display_data"
    },
    {
     "data": {
      "image/png": "[encoded data removed]",
      "text/plain": [
       "<Figure size 800x800 with 1 Axes>"
      ]
     },
     "metadata": {},
     "output_type": "display_data"
    }
   ],
   "source": [
    "# Plot F1 results\n",
    "sns.set_context('talk')\n",
    "sns.set_style('ticks')\n",
    "\n",
    "plt.figure(dpi=300)\n",
    "ax = f1_results.set_index('K').plot(figsize=(8, 8), linewidth=3)\n",
    "ax.set(xlabel='K', ylabel='F1 Score')\n",
    "ax.set_xticks(range(1, max_k, 2));\n",
    "plt.title('KNN F1 Score')\n",
    "plt.savefig('knn_f1.png')"
   ]
  },
  {
   "cell_type": "code",
   "execution_count": 404,
   "id": "a2c38b28-d5c7-4494-b5d1-31ee1de2e014",
   "metadata": {
    "tags": []
   },
   "outputs": [
    {
     "data": {
      "text/plain": [
       "<Figure size 1920x1440 with 0 Axes>"
      ]
     },
     "metadata": {},
     "output_type": "display_data"
    },
    {
     "data": {
      "image/png": "[encoded data removed]",
      "text/plain": [
       "<Figure size 800x800 with 1 Axes>"
      ]
     },
     "metadata": {},
     "output_type": "display_data"
    }
   ],
   "source": [
    "# Plot Accuracy (Error Rate) results\n",
    "sns.set_context('talk')\n",
    "sns.set_style('ticks')\n",
    "\n",
    "plt.figure(dpi=300)\n",
    "ax = error_results.set_index('K').plot(figsize=(8, 8), linewidth=3)\n",
    "ax.set(xlabel='K', ylabel='Error Rate')\n",
    "ax.set_xticks(range(1, max_k, 2))\n",
    "plt.title('KNN Elbow Curve')\n",
    "plt.savefig('knn_elbow.png')\n",
    "### END SOLUTION"
   ]
  },
  {
   "cell_type": "code",
   "execution_count": 405,
   "id": "db8dad86-cfbc-4525-9492-903e4b875d07",
   "metadata": {
    "tags": []
   },
   "outputs": [],
   "source": [
    "# Estimate KNN model and report outcomes\n",
    "knn = KNeighborsClassifier(n_neighbors=32)\n",
    "knn = knn.fit(X_train, y_train)\n",
    "knn_preds = knn.predict(X_test) #without values throws error message for new scikit.learn versions\n"
   ]
  },
  {
   "cell_type": "code",
   "execution_count": 406,
   "id": "83199096-1ea1-4de6-9d39-0724023a8f91",
   "metadata": {
    "tags": []
   },
   "outputs": [
    {
     "name": "stdout",
     "output_type": "stream",
     "text": [
      "              precision    recall  f1-score   support\n",
      "\n",
      "           0       0.83      0.81      0.82       877\n",
      "           1       0.70      0.74      0.72       546\n",
      "\n",
      "    accuracy                           0.78      1423\n",
      "   macro avg       0.77      0.77      0.77      1423\n",
      "weighted avg       0.78      0.78      0.78      1423\n",
      "\n",
      "Accuracy score:  0.78\n",
      "F1 Score:  0.72\n"
     ]
    }
   ],
   "source": [
    "# Preciision, recall, f-score from the multi-class support function\n",
    "print(classification_report(y_test, knn_preds))\n",
    "print('Accuracy score: ', round(accuracy_score(y_test, knn_preds), 2))\n",
    "print('F1 Score: ', round(f1_score(y_test, knn_preds), 2))"
   ]
  },
  {
   "cell_type": "code",
   "execution_count": 407,
   "id": "e6260a66-6f16-42b4-8721-e0f754c1a8b5",
   "metadata": {
    "tags": []
   },
   "outputs": [
    {
     "data": {
      "text/plain": [
       "Text(57.08333333333333, 0.5, 'Ground Truth')"
      ]
     },
     "execution_count": 407,
     "metadata": {},
     "output_type": "execute_result"
    },
    {
     "data": {
      "image/png": "[encoded data removed]",
      "text/plain": [
       "<Figure size 800x800 with 2 Axes>"
      ]
     },
     "metadata": {},
     "output_type": "display_data"
    }
   ],
   "source": [
    "confusion_matrix(y_test, y_pred)\n",
    "# Plot confusion matrix\n",
    "sns.set_palette(sns.color_palette())\n",
    "_, ax = plt.subplots(figsize=(8,8))\n",
    "ax = sns.heatmap(confusion_matrix(y_test, knn_preds), annot=True, fmt='d', annot_kws={\"size\": 40, \"weight\": \"bold\"})  \n",
    "labels = ['not exoplanet', 'exoplanet']\n",
    "ax.set_xticklabels(labels, fontsize=25);\n",
    "ax.set_yticklabels(labels, fontsize=25);\n",
    "ax.set_xlabel('Prediction', fontsize=30);\n",
    "ax.set_ylabel('Ground Truth', fontsize=30)\n",
    "### END SOLUTION"
   ]
  },
  {
   "cell_type": "code",
   "execution_count": 408,
   "id": "843a934b-3c7c-44a4-9310-f692b654156a",
   "metadata": {
    "tags": []
   },
   "outputs": [],
   "source": [
    "y_unknown_knn = knn.predict(X_unknown)"
   ]
  },
  {
   "cell_type": "code",
   "execution_count": 409,
   "id": "907e413f-a768-4393-9748-9cf83bbbe734",
   "metadata": {
    "tags": []
   },
   "outputs": [
    {
     "data": {
      "text/plain": [
       "0    1528\n",
       "1     305\n",
       "Name: count, dtype: int64"
      ]
     },
     "execution_count": 409,
     "metadata": {},
     "output_type": "execute_result"
    }
   ],
   "source": [
    "pd.DataFrame(y_unknown_knn).value_counts()"
   ]
  },
  {
   "cell_type": "markdown",
   "id": "60e76b28-5bef-4b0f-b981-4cab43814393",
   "metadata": {},
   "source": [
    "## Decision Tree"
   ]
  },
  {
   "cell_type": "code",
   "execution_count": 410,
   "id": "70f7e20b-4a65-47b6-8db9-0d54025fa0e2",
   "metadata": {
    "tags": []
   },
   "outputs": [],
   "source": [
    "from sklearn.tree import DecisionTreeClassifier\n",
    "\n",
    "dt = DecisionTreeClassifier(random_state=42)\n",
    "dt = dt.fit(X_train, y_train)"
   ]
  },
  {
   "cell_type": "code",
   "execution_count": 411,
   "id": "1bc31b6c-4c99-49f3-a3c4-3a8474b056f2",
   "metadata": {
    "tags": []
   },
   "outputs": [
    {
     "data": {
      "text/plain": [
       "(807, 25)"
      ]
     },
     "execution_count": 411,
     "metadata": {},
     "output_type": "execute_result"
    }
   ],
   "source": [
    "#no pruning tree\n",
    "dt.tree_.node_count, dt.tree_.max_depth"
   ]
  },
  {
   "cell_type": "code",
   "execution_count": 412,
   "id": "3fec2dc5-71a9-4c41-9f96-f2a8eab241c8",
   "metadata": {
    "tags": []
   },
   "outputs": [],
   "source": [
    "def measure_error(y_true, y_pred, label):\n",
    "    return pd.Series({'accuracy':accuracy_score(y_true, y_pred),\n",
    "                      'precision': precision_score(y_true, y_pred),\n",
    "                      'recall': recall_score(y_true, y_pred),\n",
    "                      'f1': f1_score(y_true, y_pred)},\n",
    "                      name=label)\n",
    "y_train_pred = dt.predict(X_train)\n",
    "y_test_pred = dt.predict(X_test)\n"
   ]
  },
  {
   "cell_type": "code",
   "execution_count": 413,
   "id": "4c561030-07b6-4e7f-a161-d4b5d35cd04e",
   "metadata": {
    "tags": []
   },
   "outputs": [
    {
     "data": {
      "text/html": [
       "<div>\n",
       "<style scoped>\n",
       "    .dataframe tbody tr th:only-of-type {\n",
       "        vertical-align: middle;\n",
       "    }\n",
       "\n",
       "    .dataframe tbody tr th {\n",
       "        vertical-align: top;\n",
       "    }\n",
       "\n",
       "    .dataframe thead th {\n",
       "        text-align: right;\n",
       "    }\n",
       "</style>\n",
       "<table border=\"1\" class=\"dataframe\">\n",
       "  <thead>\n",
       "    <tr style=\"text-align: right;\">\n",
       "      <th></th>\n",
       "      <th>train</th>\n",
       "      <th>test</th>\n",
       "    </tr>\n",
       "  </thead>\n",
       "  <tbody>\n",
       "    <tr>\n",
       "      <th>accuracy</th>\n",
       "      <td>1.0</td>\n",
       "      <td>0.888264</td>\n",
       "    </tr>\n",
       "    <tr>\n",
       "      <th>precision</th>\n",
       "      <td>1.0</td>\n",
       "      <td>0.867173</td>\n",
       "    </tr>\n",
       "    <tr>\n",
       "      <th>recall</th>\n",
       "      <td>1.0</td>\n",
       "      <td>0.836996</td>\n",
       "    </tr>\n",
       "    <tr>\n",
       "      <th>f1</th>\n",
       "      <td>1.0</td>\n",
       "      <td>0.851817</td>\n",
       "    </tr>\n",
       "  </tbody>\n",
       "</table>\n",
       "</div>"
      ],
      "text/plain": [
       "           train      test\n",
       "accuracy     1.0  0.888264\n",
       "precision    1.0  0.867173\n",
       "recall       1.0  0.836996\n",
       "f1           1.0  0.851817"
      ]
     },
     "execution_count": 413,
     "metadata": {},
     "output_type": "execute_result"
    }
   ],
   "source": [
    "\n",
    "train_test_full_error = pd.concat([measure_error(y_train, y_train_pred, 'train'),\n",
    "                              measure_error(y_test, y_test_pred, 'test')],\n",
    "                              axis=1)\n",
    "\n",
    "train_test_full_error"
   ]
  },
  {
   "cell_type": "markdown",
   "id": "aa4adfc5-43d9-4156-917c-d4ee18929e79",
   "metadata": {},
   "source": [
    "Overfitted tree since all the parameters are 1 in training."
   ]
  },
  {
   "cell_type": "code",
   "execution_count": 414,
   "id": "66375a33-6bc0-4a6e-a91e-beb3e5697ce7",
   "metadata": {
    "tags": []
   },
   "outputs": [],
   "source": [
    "from sklearn.model_selection import GridSearchCV\n",
    "\n",
    "param_grid = {'max_depth':range(1, dt.tree_.max_depth+1, 2),\n",
    "              'max_features': range(1, len(dt.feature_importances_)+1)}\n",
    "\n",
    "GR = GridSearchCV(DecisionTreeClassifier(random_state=42),\n",
    "                  param_grid=param_grid,\n",
    "                  scoring='accuracy',\n",
    "                  n_jobs=-1)\n",
    "\n",
    "GR = GR.fit(X_train, y_train)"
   ]
  },
  {
   "cell_type": "code",
   "execution_count": 415,
   "id": "82ceb794-8558-4209-acb9-1b6c41436899",
   "metadata": {
    "tags": []
   },
   "outputs": [
    {
     "data": {
      "text/plain": [
       "(423, 11)"
      ]
     },
     "execution_count": 415,
     "metadata": {},
     "output_type": "execute_result"
    }
   ],
   "source": [
    "GR.best_estimator_.tree_.node_count, GR.best_estimator_.tree_.max_depth"
   ]
  },
  {
   "cell_type": "code",
   "execution_count": 416,
   "id": "1f849be4-af7a-470f-a0bb-ae1f474f20c2",
   "metadata": {
    "tags": []
   },
   "outputs": [],
   "source": [
    "y_train_pred_gr = GR.predict(X_train)\n",
    "y_test_pred_gr = GR.predict(X_test)\n",
    "\n",
    "train_test_gr_error = pd.concat([measure_error(y_train, y_train_pred_gr, 'train'),\n",
    "                                 measure_error(y_test, y_test_pred_gr, 'test')],\n",
    "                                axis=1)"
   ]
  },
  {
   "cell_type": "code",
   "execution_count": 417,
   "id": "4aa6d570-324f-426f-ab3b-86602e00f68a",
   "metadata": {
    "tags": []
   },
   "outputs": [
    {
     "data": {
      "text/html": [
       "<div>\n",
       "<style scoped>\n",
       "    .dataframe tbody tr th:only-of-type {\n",
       "        vertical-align: middle;\n",
       "    }\n",
       "\n",
       "    .dataframe tbody tr th {\n",
       "        vertical-align: top;\n",
       "    }\n",
       "\n",
       "    .dataframe thead th {\n",
       "        text-align: right;\n",
       "    }\n",
       "</style>\n",
       "<table border=\"1\" class=\"dataframe\">\n",
       "  <thead>\n",
       "    <tr style=\"text-align: right;\">\n",
       "      <th></th>\n",
       "      <th>train</th>\n",
       "      <th>test</th>\n",
       "    </tr>\n",
       "  </thead>\n",
       "  <tbody>\n",
       "    <tr>\n",
       "      <th>accuracy</th>\n",
       "      <td>0.956056</td>\n",
       "      <td>0.888967</td>\n",
       "    </tr>\n",
       "    <tr>\n",
       "      <th>precision</th>\n",
       "      <td>0.926399</td>\n",
       "      <td>0.840351</td>\n",
       "    </tr>\n",
       "    <tr>\n",
       "      <th>recall</th>\n",
       "      <td>0.962014</td>\n",
       "      <td>0.877289</td>\n",
       "    </tr>\n",
       "    <tr>\n",
       "      <th>f1</th>\n",
       "      <td>0.943871</td>\n",
       "      <td>0.858423</td>\n",
       "    </tr>\n",
       "  </tbody>\n",
       "</table>\n",
       "</div>"
      ],
      "text/plain": [
       "              train      test\n",
       "accuracy   0.956056  0.888967\n",
       "precision  0.926399  0.840351\n",
       "recall     0.962014  0.877289\n",
       "f1         0.943871  0.858423"
      ]
     },
     "execution_count": 417,
     "metadata": {},
     "output_type": "execute_result"
    }
   ],
   "source": [
    "train_test_gr_error"
   ]
  },
  {
   "cell_type": "code",
   "execution_count": 418,
   "id": "18dc3ab5-0c8a-45dd-af8b-c47ad39e90f9",
   "metadata": {
    "tags": []
   },
   "outputs": [],
   "source": [
    "y_unknown_dt=GR.predict(X_unknown)"
   ]
  },
  {
   "cell_type": "code",
   "execution_count": 419,
   "id": "2d23e842-5186-4a44-8e15-6d69c04aeb20",
   "metadata": {
    "tags": []
   },
   "outputs": [
    {
     "data": {
      "text/plain": [
       "0    1158\n",
       "1     675\n",
       "Name: count, dtype: int64"
      ]
     },
     "execution_count": 419,
     "metadata": {},
     "output_type": "execute_result"
    }
   ],
   "source": [
    "pd.DataFrame(y_unknown_dt).value_counts()"
   ]
  },
  {
   "cell_type": "code",
   "execution_count": 423,
   "id": "9d57bd81-129f-4e8a-801c-1bcfaffa30eb",
   "metadata": {
    "tags": []
   },
   "outputs": [
    {
     "data": {
      "text/plain": [
       "(1833, 19)"
      ]
     },
     "execution_count": 423,
     "metadata": {},
     "output_type": "execute_result"
    }
   ],
   "source": [
    "df_unknown.shape"
   ]
  },
  {
   "cell_type": "code",
   "execution_count": 426,
   "id": "74dc2a9f-d36f-41f1-ab11-fc32eb1bed8f",
   "metadata": {
    "tags": []
   },
   "outputs": [],
   "source": [
    "df_unknown['logreg_l1']=y_unknown_l1\n",
    "df_unknown['knn']=y_unknown_knn\n",
    "df_unknown['dt']=y_unknown_dt"
   ]
  },
  {
   "cell_type": "code",
   "execution_count": 427,
   "id": "98a04119-91ad-4f7a-b77c-eac3b5964c28",
   "metadata": {
    "tags": []
   },
   "outputs": [
    {
     "data": {
      "text/html": [
       "<div>\n",
       "<style scoped>\n",
       "    .dataframe tbody tr th:only-of-type {\n",
       "        vertical-align: middle;\n",
       "    }\n",
       "\n",
       "    .dataframe tbody tr th {\n",
       "        vertical-align: top;\n",
       "    }\n",
       "\n",
       "    .dataframe thead th {\n",
       "        text-align: right;\n",
       "    }\n",
       "</style>\n",
       "<table border=\"1\" class=\"dataframe\">\n",
       "  <thead>\n",
       "    <tr style=\"text-align: right;\">\n",
       "      <th></th>\n",
       "      <th>koi_period</th>\n",
       "      <th>koi_time0bk</th>\n",
       "      <th>koi_impact</th>\n",
       "      <th>koi_duration</th>\n",
       "      <th>koi_depth</th>\n",
       "      <th>koi_prad</th>\n",
       "      <th>koi_teq</th>\n",
       "      <th>koi_insol</th>\n",
       "      <th>koi_model_snr</th>\n",
       "      <th>koi_tce_plnt_num</th>\n",
       "      <th>...</th>\n",
       "      <th>koi_srad</th>\n",
       "      <th>ra</th>\n",
       "      <th>dec</th>\n",
       "      <th>koi_kepmag</th>\n",
       "      <th>koi_tce_delivname_q1_q16_tce</th>\n",
       "      <th>koi_tce_delivname_q1_q17_dr24_tce</th>\n",
       "      <th>koi_tce_delivname_q1_q17_dr25_tce</th>\n",
       "      <th>logreg_l1</th>\n",
       "      <th>knn</th>\n",
       "      <th>dt</th>\n",
       "    </tr>\n",
       "  </thead>\n",
       "  <tbody>\n",
       "    <tr>\n",
       "      <th>7582</th>\n",
       "      <td>19.899140</td>\n",
       "      <td>175.850252</td>\n",
       "      <td>0.969</td>\n",
       "      <td>1.7822</td>\n",
       "      <td>10829.0</td>\n",
       "      <td>14.60</td>\n",
       "      <td>638.0</td>\n",
       "      <td>39.30</td>\n",
       "      <td>76.3</td>\n",
       "      <td>1.0</td>\n",
       "      <td>...</td>\n",
       "      <td>0.868</td>\n",
       "      <td>297.00482</td>\n",
       "      <td>48.134129</td>\n",
       "      <td>15.436</td>\n",
       "      <td>0</td>\n",
       "      <td>0</td>\n",
       "      <td>1</td>\n",
       "      <td>0</td>\n",
       "      <td>0</td>\n",
       "      <td>0</td>\n",
       "    </tr>\n",
       "    <tr>\n",
       "      <th>7583</th>\n",
       "      <td>40.419504</td>\n",
       "      <td>173.564690</td>\n",
       "      <td>0.911</td>\n",
       "      <td>3.3620</td>\n",
       "      <td>6256.0</td>\n",
       "      <td>7.51</td>\n",
       "      <td>467.0</td>\n",
       "      <td>11.29</td>\n",
       "      <td>36.9</td>\n",
       "      <td>1.0</td>\n",
       "      <td>...</td>\n",
       "      <td>0.781</td>\n",
       "      <td>294.31686</td>\n",
       "      <td>50.080231</td>\n",
       "      <td>15.487</td>\n",
       "      <td>0</td>\n",
       "      <td>0</td>\n",
       "      <td>1</td>\n",
       "      <td>0</td>\n",
       "      <td>1</td>\n",
       "      <td>0</td>\n",
       "    </tr>\n",
       "    <tr>\n",
       "      <th>7584</th>\n",
       "      <td>7.240661</td>\n",
       "      <td>137.755450</td>\n",
       "      <td>1.198</td>\n",
       "      <td>0.5580</td>\n",
       "      <td>556.4</td>\n",
       "      <td>19.45</td>\n",
       "      <td>734.0</td>\n",
       "      <td>68.63</td>\n",
       "      <td>13.7</td>\n",
       "      <td>2.0</td>\n",
       "      <td>...</td>\n",
       "      <td>0.765</td>\n",
       "      <td>293.83331</td>\n",
       "      <td>50.230350</td>\n",
       "      <td>15.334</td>\n",
       "      <td>0</td>\n",
       "      <td>0</td>\n",
       "      <td>1</td>\n",
       "      <td>0</td>\n",
       "      <td>1</td>\n",
       "      <td>0</td>\n",
       "    </tr>\n",
       "    <tr>\n",
       "      <th>7585</th>\n",
       "      <td>3.435916</td>\n",
       "      <td>132.662400</td>\n",
       "      <td>0.624</td>\n",
       "      <td>3.1330</td>\n",
       "      <td>23.2</td>\n",
       "      <td>0.55</td>\n",
       "      <td>1272.0</td>\n",
       "      <td>617.61</td>\n",
       "      <td>8.7</td>\n",
       "      <td>3.0</td>\n",
       "      <td>...</td>\n",
       "      <td>1.087</td>\n",
       "      <td>287.88733</td>\n",
       "      <td>46.276241</td>\n",
       "      <td>12.791</td>\n",
       "      <td>0</td>\n",
       "      <td>0</td>\n",
       "      <td>1</td>\n",
       "      <td>0</td>\n",
       "      <td>1</td>\n",
       "      <td>0</td>\n",
       "    </tr>\n",
       "    <tr>\n",
       "      <th>7586</th>\n",
       "      <td>10.181584</td>\n",
       "      <td>177.141891</td>\n",
       "      <td>0.920</td>\n",
       "      <td>3.5089</td>\n",
       "      <td>5741.1</td>\n",
       "      <td>7.73</td>\n",
       "      <td>812.0</td>\n",
       "      <td>102.91</td>\n",
       "      <td>183.6</td>\n",
       "      <td>1.0</td>\n",
       "      <td>...</td>\n",
       "      <td>0.836</td>\n",
       "      <td>291.28195</td>\n",
       "      <td>38.241669</td>\n",
       "      <td>15.657</td>\n",
       "      <td>0</td>\n",
       "      <td>0</td>\n",
       "      <td>1</td>\n",
       "      <td>0</td>\n",
       "      <td>0</td>\n",
       "      <td>1</td>\n",
       "    </tr>\n",
       "  </tbody>\n",
       "</table>\n",
       "<p>5 rows × 22 columns</p>\n",
       "</div>"
      ],
      "text/plain": [
       "      koi_period  koi_time0bk  koi_impact  koi_duration  koi_depth  koi_prad  \\\n",
       "7582   19.899140   175.850252       0.969        1.7822    10829.0     14.60   \n",
       "7583   40.419504   173.564690       0.911        3.3620     6256.0      7.51   \n",
       "7584    7.240661   137.755450       1.198        0.5580      556.4     19.45   \n",
       "7585    3.435916   132.662400       0.624        3.1330       23.2      0.55   \n",
       "7586   10.181584   177.141891       0.920        3.5089     5741.1      7.73   \n",
       "\n",
       "      koi_teq  koi_insol  koi_model_snr  koi_tce_plnt_num  ...  koi_srad  \\\n",
       "7582    638.0      39.30           76.3               1.0  ...     0.868   \n",
       "7583    467.0      11.29           36.9               1.0  ...     0.781   \n",
       "7584    734.0      68.63           13.7               2.0  ...     0.765   \n",
       "7585   1272.0     617.61            8.7               3.0  ...     1.087   \n",
       "7586    812.0     102.91          183.6               1.0  ...     0.836   \n",
       "\n",
       "             ra        dec  koi_kepmag  koi_tce_delivname_q1_q16_tce  \\\n",
       "7582  297.00482  48.134129      15.436                             0   \n",
       "7583  294.31686  50.080231      15.487                             0   \n",
       "7584  293.83331  50.230350      15.334                             0   \n",
       "7585  287.88733  46.276241      12.791                             0   \n",
       "7586  291.28195  38.241669      15.657                             0   \n",
       "\n",
       "      koi_tce_delivname_q1_q17_dr24_tce  koi_tce_delivname_q1_q17_dr25_tce  \\\n",
       "7582                                  0                                  1   \n",
       "7583                                  0                                  1   \n",
       "7584                                  0                                  1   \n",
       "7585                                  0                                  1   \n",
       "7586                                  0                                  1   \n",
       "\n",
       "      logreg_l1  knn  dt  \n",
       "7582          0    0   0  \n",
       "7583          0    1   0  \n",
       "7584          0    1   0  \n",
       "7585          0    1   0  \n",
       "7586          0    0   1  \n",
       "\n",
       "[5 rows x 22 columns]"
      ]
     },
     "execution_count": 427,
     "metadata": {},
     "output_type": "execute_result"
    }
   ],
   "source": [
    "df_unknown.head()"
   ]
  },
  {
   "cell_type": "code",
   "execution_count": null,
   "id": "5a917fec-b36d-485f-9d97-80292752eec8",
   "metadata": {},
   "outputs": [],
   "source": []
  }
 ],
 "metadata": {
  "kernelspec": {
   "display_name": "Python 3 (ipykernel)",
   "language": "python",
   "name": "python3"
  },
  "language_info": {
   "codemirror_mode": {
    "name": "ipython",
    "version": 3
   },
   "file_extension": ".py",
   "mimetype": "text/x-python",
   "name": "python",
   "nbconvert_exporter": "python",
   "pygments_lexer": "ipython3",
   "version": "3.11.5"
  }
 },
 "nbformat": 4,
 "nbformat_minor": 5
}
